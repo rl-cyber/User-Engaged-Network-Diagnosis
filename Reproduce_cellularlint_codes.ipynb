{
  "nbformat": 4,
  "nbformat_minor": 0,
  "metadata": {
    "colab": {
      "provenance": [],
      "gpuType": "T4",
      "authorship_tag": "ABX9TyNhoNaMnQ7Nt4j2fjWMLGc1",
      "include_colab_link": true
    },
    "kernelspec": {
      "name": "python3",
      "display_name": "Python 3"
    },
    "language_info": {
      "name": "python"
    },
    "accelerator": "GPU",
    "widgets": {
      "application/vnd.jupyter.widget-state+json": {
        "8c0d0ac22acd40ff882e677f5de37a91": {
          "model_module": "@jupyter-widgets/controls",
          "model_name": "HBoxModel",
          "model_module_version": "1.5.0",
          "state": {
            "_dom_classes": [],
            "_model_module": "@jupyter-widgets/controls",
            "_model_module_version": "1.5.0",
            "_model_name": "HBoxModel",
            "_view_count": null,
            "_view_module": "@jupyter-widgets/controls",
            "_view_module_version": "1.5.0",
            "_view_name": "HBoxView",
            "box_style": "",
            "children": [
              "IPY_MODEL_9528e136c7754b15b4e260e4da5bf518",
              "IPY_MODEL_33871ae34df74b5d8014616bebd158a7",
              "IPY_MODEL_6723de2163614f73b93d22a76b87d415"
            ],
            "layout": "IPY_MODEL_73429e8b404846218b62ecf642dfedcf"
          }
        },
        "9528e136c7754b15b4e260e4da5bf518": {
          "model_module": "@jupyter-widgets/controls",
          "model_name": "HTMLModel",
          "model_module_version": "1.5.0",
          "state": {
            "_dom_classes": [],
            "_model_module": "@jupyter-widgets/controls",
            "_model_module_version": "1.5.0",
            "_model_name": "HTMLModel",
            "_view_count": null,
            "_view_module": "@jupyter-widgets/controls",
            "_view_module_version": "1.5.0",
            "_view_name": "HTMLView",
            "description": "",
            "description_tooltip": null,
            "layout": "IPY_MODEL_558ad6afe7fd4d9799dd349961a4cd23",
            "placeholder": "​",
            "style": "IPY_MODEL_6759778c87bf47678b12ccd79f453f08",
            "value": "config.json: 100%"
          }
        },
        "33871ae34df74b5d8014616bebd158a7": {
          "model_module": "@jupyter-widgets/controls",
          "model_name": "FloatProgressModel",
          "model_module_version": "1.5.0",
          "state": {
            "_dom_classes": [],
            "_model_module": "@jupyter-widgets/controls",
            "_model_module_version": "1.5.0",
            "_model_name": "FloatProgressModel",
            "_view_count": null,
            "_view_module": "@jupyter-widgets/controls",
            "_view_module_version": "1.5.0",
            "_view_name": "ProgressView",
            "bar_style": "success",
            "description": "",
            "description_tooltip": null,
            "layout": "IPY_MODEL_fc87563822034b4f8c08a9da941f6f2b",
            "max": 570,
            "min": 0,
            "orientation": "horizontal",
            "style": "IPY_MODEL_743127036c434a4b8a749156b8c5f632",
            "value": 570
          }
        },
        "6723de2163614f73b93d22a76b87d415": {
          "model_module": "@jupyter-widgets/controls",
          "model_name": "HTMLModel",
          "model_module_version": "1.5.0",
          "state": {
            "_dom_classes": [],
            "_model_module": "@jupyter-widgets/controls",
            "_model_module_version": "1.5.0",
            "_model_name": "HTMLModel",
            "_view_count": null,
            "_view_module": "@jupyter-widgets/controls",
            "_view_module_version": "1.5.0",
            "_view_name": "HTMLView",
            "description": "",
            "description_tooltip": null,
            "layout": "IPY_MODEL_673e00cf59c04b88a66e2e97db352368",
            "placeholder": "​",
            "style": "IPY_MODEL_e792987784af487598838d4ccca518a5",
            "value": " 570/570 [00:00&lt;00:00, 47.7kB/s]"
          }
        },
        "73429e8b404846218b62ecf642dfedcf": {
          "model_module": "@jupyter-widgets/base",
          "model_name": "LayoutModel",
          "model_module_version": "1.2.0",
          "state": {
            "_model_module": "@jupyter-widgets/base",
            "_model_module_version": "1.2.0",
            "_model_name": "LayoutModel",
            "_view_count": null,
            "_view_module": "@jupyter-widgets/base",
            "_view_module_version": "1.2.0",
            "_view_name": "LayoutView",
            "align_content": null,
            "align_items": null,
            "align_self": null,
            "border": null,
            "bottom": null,
            "display": null,
            "flex": null,
            "flex_flow": null,
            "grid_area": null,
            "grid_auto_columns": null,
            "grid_auto_flow": null,
            "grid_auto_rows": null,
            "grid_column": null,
            "grid_gap": null,
            "grid_row": null,
            "grid_template_areas": null,
            "grid_template_columns": null,
            "grid_template_rows": null,
            "height": null,
            "justify_content": null,
            "justify_items": null,
            "left": null,
            "margin": null,
            "max_height": null,
            "max_width": null,
            "min_height": null,
            "min_width": null,
            "object_fit": null,
            "object_position": null,
            "order": null,
            "overflow": null,
            "overflow_x": null,
            "overflow_y": null,
            "padding": null,
            "right": null,
            "top": null,
            "visibility": null,
            "width": null
          }
        },
        "558ad6afe7fd4d9799dd349961a4cd23": {
          "model_module": "@jupyter-widgets/base",
          "model_name": "LayoutModel",
          "model_module_version": "1.2.0",
          "state": {
            "_model_module": "@jupyter-widgets/base",
            "_model_module_version": "1.2.0",
            "_model_name": "LayoutModel",
            "_view_count": null,
            "_view_module": "@jupyter-widgets/base",
            "_view_module_version": "1.2.0",
            "_view_name": "LayoutView",
            "align_content": null,
            "align_items": null,
            "align_self": null,
            "border": null,
            "bottom": null,
            "display": null,
            "flex": null,
            "flex_flow": null,
            "grid_area": null,
            "grid_auto_columns": null,
            "grid_auto_flow": null,
            "grid_auto_rows": null,
            "grid_column": null,
            "grid_gap": null,
            "grid_row": null,
            "grid_template_areas": null,
            "grid_template_columns": null,
            "grid_template_rows": null,
            "height": null,
            "justify_content": null,
            "justify_items": null,
            "left": null,
            "margin": null,
            "max_height": null,
            "max_width": null,
            "min_height": null,
            "min_width": null,
            "object_fit": null,
            "object_position": null,
            "order": null,
            "overflow": null,
            "overflow_x": null,
            "overflow_y": null,
            "padding": null,
            "right": null,
            "top": null,
            "visibility": null,
            "width": null
          }
        },
        "6759778c87bf47678b12ccd79f453f08": {
          "model_module": "@jupyter-widgets/controls",
          "model_name": "DescriptionStyleModel",
          "model_module_version": "1.5.0",
          "state": {
            "_model_module": "@jupyter-widgets/controls",
            "_model_module_version": "1.5.0",
            "_model_name": "DescriptionStyleModel",
            "_view_count": null,
            "_view_module": "@jupyter-widgets/base",
            "_view_module_version": "1.2.0",
            "_view_name": "StyleView",
            "description_width": ""
          }
        },
        "fc87563822034b4f8c08a9da941f6f2b": {
          "model_module": "@jupyter-widgets/base",
          "model_name": "LayoutModel",
          "model_module_version": "1.2.0",
          "state": {
            "_model_module": "@jupyter-widgets/base",
            "_model_module_version": "1.2.0",
            "_model_name": "LayoutModel",
            "_view_count": null,
            "_view_module": "@jupyter-widgets/base",
            "_view_module_version": "1.2.0",
            "_view_name": "LayoutView",
            "align_content": null,
            "align_items": null,
            "align_self": null,
            "border": null,
            "bottom": null,
            "display": null,
            "flex": null,
            "flex_flow": null,
            "grid_area": null,
            "grid_auto_columns": null,
            "grid_auto_flow": null,
            "grid_auto_rows": null,
            "grid_column": null,
            "grid_gap": null,
            "grid_row": null,
            "grid_template_areas": null,
            "grid_template_columns": null,
            "grid_template_rows": null,
            "height": null,
            "justify_content": null,
            "justify_items": null,
            "left": null,
            "margin": null,
            "max_height": null,
            "max_width": null,
            "min_height": null,
            "min_width": null,
            "object_fit": null,
            "object_position": null,
            "order": null,
            "overflow": null,
            "overflow_x": null,
            "overflow_y": null,
            "padding": null,
            "right": null,
            "top": null,
            "visibility": null,
            "width": null
          }
        },
        "743127036c434a4b8a749156b8c5f632": {
          "model_module": "@jupyter-widgets/controls",
          "model_name": "ProgressStyleModel",
          "model_module_version": "1.5.0",
          "state": {
            "_model_module": "@jupyter-widgets/controls",
            "_model_module_version": "1.5.0",
            "_model_name": "ProgressStyleModel",
            "_view_count": null,
            "_view_module": "@jupyter-widgets/base",
            "_view_module_version": "1.2.0",
            "_view_name": "StyleView",
            "bar_color": null,
            "description_width": ""
          }
        },
        "673e00cf59c04b88a66e2e97db352368": {
          "model_module": "@jupyter-widgets/base",
          "model_name": "LayoutModel",
          "model_module_version": "1.2.0",
          "state": {
            "_model_module": "@jupyter-widgets/base",
            "_model_module_version": "1.2.0",
            "_model_name": "LayoutModel",
            "_view_count": null,
            "_view_module": "@jupyter-widgets/base",
            "_view_module_version": "1.2.0",
            "_view_name": "LayoutView",
            "align_content": null,
            "align_items": null,
            "align_self": null,
            "border": null,
            "bottom": null,
            "display": null,
            "flex": null,
            "flex_flow": null,
            "grid_area": null,
            "grid_auto_columns": null,
            "grid_auto_flow": null,
            "grid_auto_rows": null,
            "grid_column": null,
            "grid_gap": null,
            "grid_row": null,
            "grid_template_areas": null,
            "grid_template_columns": null,
            "grid_template_rows": null,
            "height": null,
            "justify_content": null,
            "justify_items": null,
            "left": null,
            "margin": null,
            "max_height": null,
            "max_width": null,
            "min_height": null,
            "min_width": null,
            "object_fit": null,
            "object_position": null,
            "order": null,
            "overflow": null,
            "overflow_x": null,
            "overflow_y": null,
            "padding": null,
            "right": null,
            "top": null,
            "visibility": null,
            "width": null
          }
        },
        "e792987784af487598838d4ccca518a5": {
          "model_module": "@jupyter-widgets/controls",
          "model_name": "DescriptionStyleModel",
          "model_module_version": "1.5.0",
          "state": {
            "_model_module": "@jupyter-widgets/controls",
            "_model_module_version": "1.5.0",
            "_model_name": "DescriptionStyleModel",
            "_view_count": null,
            "_view_module": "@jupyter-widgets/base",
            "_view_module_version": "1.2.0",
            "_view_name": "StyleView",
            "description_width": ""
          }
        },
        "8f24ef63b15748caa5eeb1581afefa05": {
          "model_module": "@jupyter-widgets/controls",
          "model_name": "HBoxModel",
          "model_module_version": "1.5.0",
          "state": {
            "_dom_classes": [],
            "_model_module": "@jupyter-widgets/controls",
            "_model_module_version": "1.5.0",
            "_model_name": "HBoxModel",
            "_view_count": null,
            "_view_module": "@jupyter-widgets/controls",
            "_view_module_version": "1.5.0",
            "_view_name": "HBoxView",
            "box_style": "",
            "children": [
              "IPY_MODEL_ae91172b3c41430aa4e033668effffb7",
              "IPY_MODEL_108ddc80c6b54b9fa6eafab10791289d",
              "IPY_MODEL_9ccff5a85acd487b8b875880cf2861b1"
            ],
            "layout": "IPY_MODEL_6ae844479eb7483c8cbccb10919b8db1"
          }
        },
        "ae91172b3c41430aa4e033668effffb7": {
          "model_module": "@jupyter-widgets/controls",
          "model_name": "HTMLModel",
          "model_module_version": "1.5.0",
          "state": {
            "_dom_classes": [],
            "_model_module": "@jupyter-widgets/controls",
            "_model_module_version": "1.5.0",
            "_model_name": "HTMLModel",
            "_view_count": null,
            "_view_module": "@jupyter-widgets/controls",
            "_view_module_version": "1.5.0",
            "_view_name": "HTMLView",
            "description": "",
            "description_tooltip": null,
            "layout": "IPY_MODEL_d0c33349c1644ab197f992e931732874",
            "placeholder": "​",
            "style": "IPY_MODEL_e653687341d049d896a4f01dd62fce86",
            "value": "model.safetensors: 100%"
          }
        },
        "108ddc80c6b54b9fa6eafab10791289d": {
          "model_module": "@jupyter-widgets/controls",
          "model_name": "FloatProgressModel",
          "model_module_version": "1.5.0",
          "state": {
            "_dom_classes": [],
            "_model_module": "@jupyter-widgets/controls",
            "_model_module_version": "1.5.0",
            "_model_name": "FloatProgressModel",
            "_view_count": null,
            "_view_module": "@jupyter-widgets/controls",
            "_view_module_version": "1.5.0",
            "_view_name": "ProgressView",
            "bar_style": "success",
            "description": "",
            "description_tooltip": null,
            "layout": "IPY_MODEL_9b84378271cf414c90b5b9d49b5f37a4",
            "max": 440449768,
            "min": 0,
            "orientation": "horizontal",
            "style": "IPY_MODEL_86ffc16a6ac44ecf8bc75b3cf308d923",
            "value": 440449768
          }
        },
        "9ccff5a85acd487b8b875880cf2861b1": {
          "model_module": "@jupyter-widgets/controls",
          "model_name": "HTMLModel",
          "model_module_version": "1.5.0",
          "state": {
            "_dom_classes": [],
            "_model_module": "@jupyter-widgets/controls",
            "_model_module_version": "1.5.0",
            "_model_name": "HTMLModel",
            "_view_count": null,
            "_view_module": "@jupyter-widgets/controls",
            "_view_module_version": "1.5.0",
            "_view_name": "HTMLView",
            "description": "",
            "description_tooltip": null,
            "layout": "IPY_MODEL_17eb43834ec44ca8bedfbd70912f1e06",
            "placeholder": "​",
            "style": "IPY_MODEL_226850a132074a7c8744259ab12232ff",
            "value": " 440M/440M [00:05&lt;00:00, 106MB/s]"
          }
        },
        "6ae844479eb7483c8cbccb10919b8db1": {
          "model_module": "@jupyter-widgets/base",
          "model_name": "LayoutModel",
          "model_module_version": "1.2.0",
          "state": {
            "_model_module": "@jupyter-widgets/base",
            "_model_module_version": "1.2.0",
            "_model_name": "LayoutModel",
            "_view_count": null,
            "_view_module": "@jupyter-widgets/base",
            "_view_module_version": "1.2.0",
            "_view_name": "LayoutView",
            "align_content": null,
            "align_items": null,
            "align_self": null,
            "border": null,
            "bottom": null,
            "display": null,
            "flex": null,
            "flex_flow": null,
            "grid_area": null,
            "grid_auto_columns": null,
            "grid_auto_flow": null,
            "grid_auto_rows": null,
            "grid_column": null,
            "grid_gap": null,
            "grid_row": null,
            "grid_template_areas": null,
            "grid_template_columns": null,
            "grid_template_rows": null,
            "height": null,
            "justify_content": null,
            "justify_items": null,
            "left": null,
            "margin": null,
            "max_height": null,
            "max_width": null,
            "min_height": null,
            "min_width": null,
            "object_fit": null,
            "object_position": null,
            "order": null,
            "overflow": null,
            "overflow_x": null,
            "overflow_y": null,
            "padding": null,
            "right": null,
            "top": null,
            "visibility": null,
            "width": null
          }
        },
        "d0c33349c1644ab197f992e931732874": {
          "model_module": "@jupyter-widgets/base",
          "model_name": "LayoutModel",
          "model_module_version": "1.2.0",
          "state": {
            "_model_module": "@jupyter-widgets/base",
            "_model_module_version": "1.2.0",
            "_model_name": "LayoutModel",
            "_view_count": null,
            "_view_module": "@jupyter-widgets/base",
            "_view_module_version": "1.2.0",
            "_view_name": "LayoutView",
            "align_content": null,
            "align_items": null,
            "align_self": null,
            "border": null,
            "bottom": null,
            "display": null,
            "flex": null,
            "flex_flow": null,
            "grid_area": null,
            "grid_auto_columns": null,
            "grid_auto_flow": null,
            "grid_auto_rows": null,
            "grid_column": null,
            "grid_gap": null,
            "grid_row": null,
            "grid_template_areas": null,
            "grid_template_columns": null,
            "grid_template_rows": null,
            "height": null,
            "justify_content": null,
            "justify_items": null,
            "left": null,
            "margin": null,
            "max_height": null,
            "max_width": null,
            "min_height": null,
            "min_width": null,
            "object_fit": null,
            "object_position": null,
            "order": null,
            "overflow": null,
            "overflow_x": null,
            "overflow_y": null,
            "padding": null,
            "right": null,
            "top": null,
            "visibility": null,
            "width": null
          }
        },
        "e653687341d049d896a4f01dd62fce86": {
          "model_module": "@jupyter-widgets/controls",
          "model_name": "DescriptionStyleModel",
          "model_module_version": "1.5.0",
          "state": {
            "_model_module": "@jupyter-widgets/controls",
            "_model_module_version": "1.5.0",
            "_model_name": "DescriptionStyleModel",
            "_view_count": null,
            "_view_module": "@jupyter-widgets/base",
            "_view_module_version": "1.2.0",
            "_view_name": "StyleView",
            "description_width": ""
          }
        },
        "9b84378271cf414c90b5b9d49b5f37a4": {
          "model_module": "@jupyter-widgets/base",
          "model_name": "LayoutModel",
          "model_module_version": "1.2.0",
          "state": {
            "_model_module": "@jupyter-widgets/base",
            "_model_module_version": "1.2.0",
            "_model_name": "LayoutModel",
            "_view_count": null,
            "_view_module": "@jupyter-widgets/base",
            "_view_module_version": "1.2.0",
            "_view_name": "LayoutView",
            "align_content": null,
            "align_items": null,
            "align_self": null,
            "border": null,
            "bottom": null,
            "display": null,
            "flex": null,
            "flex_flow": null,
            "grid_area": null,
            "grid_auto_columns": null,
            "grid_auto_flow": null,
            "grid_auto_rows": null,
            "grid_column": null,
            "grid_gap": null,
            "grid_row": null,
            "grid_template_areas": null,
            "grid_template_columns": null,
            "grid_template_rows": null,
            "height": null,
            "justify_content": null,
            "justify_items": null,
            "left": null,
            "margin": null,
            "max_height": null,
            "max_width": null,
            "min_height": null,
            "min_width": null,
            "object_fit": null,
            "object_position": null,
            "order": null,
            "overflow": null,
            "overflow_x": null,
            "overflow_y": null,
            "padding": null,
            "right": null,
            "top": null,
            "visibility": null,
            "width": null
          }
        },
        "86ffc16a6ac44ecf8bc75b3cf308d923": {
          "model_module": "@jupyter-widgets/controls",
          "model_name": "ProgressStyleModel",
          "model_module_version": "1.5.0",
          "state": {
            "_model_module": "@jupyter-widgets/controls",
            "_model_module_version": "1.5.0",
            "_model_name": "ProgressStyleModel",
            "_view_count": null,
            "_view_module": "@jupyter-widgets/base",
            "_view_module_version": "1.2.0",
            "_view_name": "StyleView",
            "bar_color": null,
            "description_width": ""
          }
        },
        "17eb43834ec44ca8bedfbd70912f1e06": {
          "model_module": "@jupyter-widgets/base",
          "model_name": "LayoutModel",
          "model_module_version": "1.2.0",
          "state": {
            "_model_module": "@jupyter-widgets/base",
            "_model_module_version": "1.2.0",
            "_model_name": "LayoutModel",
            "_view_count": null,
            "_view_module": "@jupyter-widgets/base",
            "_view_module_version": "1.2.0",
            "_view_name": "LayoutView",
            "align_content": null,
            "align_items": null,
            "align_self": null,
            "border": null,
            "bottom": null,
            "display": null,
            "flex": null,
            "flex_flow": null,
            "grid_area": null,
            "grid_auto_columns": null,
            "grid_auto_flow": null,
            "grid_auto_rows": null,
            "grid_column": null,
            "grid_gap": null,
            "grid_row": null,
            "grid_template_areas": null,
            "grid_template_columns": null,
            "grid_template_rows": null,
            "height": null,
            "justify_content": null,
            "justify_items": null,
            "left": null,
            "margin": null,
            "max_height": null,
            "max_width": null,
            "min_height": null,
            "min_width": null,
            "object_fit": null,
            "object_position": null,
            "order": null,
            "overflow": null,
            "overflow_x": null,
            "overflow_y": null,
            "padding": null,
            "right": null,
            "top": null,
            "visibility": null,
            "width": null
          }
        },
        "226850a132074a7c8744259ab12232ff": {
          "model_module": "@jupyter-widgets/controls",
          "model_name": "DescriptionStyleModel",
          "model_module_version": "1.5.0",
          "state": {
            "_model_module": "@jupyter-widgets/controls",
            "_model_module_version": "1.5.0",
            "_model_name": "DescriptionStyleModel",
            "_view_count": null,
            "_view_module": "@jupyter-widgets/base",
            "_view_module_version": "1.2.0",
            "_view_name": "StyleView",
            "description_width": ""
          }
        },
        "78c05ad054ca4235929c17d5c0c83787": {
          "model_module": "@jupyter-widgets/controls",
          "model_name": "HBoxModel",
          "model_module_version": "1.5.0",
          "state": {
            "_dom_classes": [],
            "_model_module": "@jupyter-widgets/controls",
            "_model_module_version": "1.5.0",
            "_model_name": "HBoxModel",
            "_view_count": null,
            "_view_module": "@jupyter-widgets/controls",
            "_view_module_version": "1.5.0",
            "_view_name": "HBoxView",
            "box_style": "",
            "children": [
              "IPY_MODEL_0201611b39b64209b5e487b07f8fee12",
              "IPY_MODEL_8a8a558a427649d6b244ab1313aea111",
              "IPY_MODEL_4cbf0940595d4692974e9be88d3c9a6e"
            ],
            "layout": "IPY_MODEL_5deb26be32e34cb0b70805b74bc5fe28"
          }
        },
        "0201611b39b64209b5e487b07f8fee12": {
          "model_module": "@jupyter-widgets/controls",
          "model_name": "HTMLModel",
          "model_module_version": "1.5.0",
          "state": {
            "_dom_classes": [],
            "_model_module": "@jupyter-widgets/controls",
            "_model_module_version": "1.5.0",
            "_model_name": "HTMLModel",
            "_view_count": null,
            "_view_module": "@jupyter-widgets/controls",
            "_view_module_version": "1.5.0",
            "_view_name": "HTMLView",
            "description": "",
            "description_tooltip": null,
            "layout": "IPY_MODEL_59017cd04589417795d1782eb4f42e80",
            "placeholder": "​",
            "style": "IPY_MODEL_3ce6f8337b6f4e94a6b00980fcb5ab51",
            "value": "tokenizer_config.json: 100%"
          }
        },
        "8a8a558a427649d6b244ab1313aea111": {
          "model_module": "@jupyter-widgets/controls",
          "model_name": "FloatProgressModel",
          "model_module_version": "1.5.0",
          "state": {
            "_dom_classes": [],
            "_model_module": "@jupyter-widgets/controls",
            "_model_module_version": "1.5.0",
            "_model_name": "FloatProgressModel",
            "_view_count": null,
            "_view_module": "@jupyter-widgets/controls",
            "_view_module_version": "1.5.0",
            "_view_name": "ProgressView",
            "bar_style": "success",
            "description": "",
            "description_tooltip": null,
            "layout": "IPY_MODEL_3bcf5992db4b46ecbef750234d45c551",
            "max": 48,
            "min": 0,
            "orientation": "horizontal",
            "style": "IPY_MODEL_eb18230e045f4d6db2feb2f521abe9ae",
            "value": 48
          }
        },
        "4cbf0940595d4692974e9be88d3c9a6e": {
          "model_module": "@jupyter-widgets/controls",
          "model_name": "HTMLModel",
          "model_module_version": "1.5.0",
          "state": {
            "_dom_classes": [],
            "_model_module": "@jupyter-widgets/controls",
            "_model_module_version": "1.5.0",
            "_model_name": "HTMLModel",
            "_view_count": null,
            "_view_module": "@jupyter-widgets/controls",
            "_view_module_version": "1.5.0",
            "_view_name": "HTMLView",
            "description": "",
            "description_tooltip": null,
            "layout": "IPY_MODEL_dbe597b072294561b1fac2b2fa6d60ac",
            "placeholder": "​",
            "style": "IPY_MODEL_cae69b88a6554e31bfebe30e218d5ed1",
            "value": " 48.0/48.0 [00:00&lt;00:00, 3.06kB/s]"
          }
        },
        "5deb26be32e34cb0b70805b74bc5fe28": {
          "model_module": "@jupyter-widgets/base",
          "model_name": "LayoutModel",
          "model_module_version": "1.2.0",
          "state": {
            "_model_module": "@jupyter-widgets/base",
            "_model_module_version": "1.2.0",
            "_model_name": "LayoutModel",
            "_view_count": null,
            "_view_module": "@jupyter-widgets/base",
            "_view_module_version": "1.2.0",
            "_view_name": "LayoutView",
            "align_content": null,
            "align_items": null,
            "align_self": null,
            "border": null,
            "bottom": null,
            "display": null,
            "flex": null,
            "flex_flow": null,
            "grid_area": null,
            "grid_auto_columns": null,
            "grid_auto_flow": null,
            "grid_auto_rows": null,
            "grid_column": null,
            "grid_gap": null,
            "grid_row": null,
            "grid_template_areas": null,
            "grid_template_columns": null,
            "grid_template_rows": null,
            "height": null,
            "justify_content": null,
            "justify_items": null,
            "left": null,
            "margin": null,
            "max_height": null,
            "max_width": null,
            "min_height": null,
            "min_width": null,
            "object_fit": null,
            "object_position": null,
            "order": null,
            "overflow": null,
            "overflow_x": null,
            "overflow_y": null,
            "padding": null,
            "right": null,
            "top": null,
            "visibility": null,
            "width": null
          }
        },
        "59017cd04589417795d1782eb4f42e80": {
          "model_module": "@jupyter-widgets/base",
          "model_name": "LayoutModel",
          "model_module_version": "1.2.0",
          "state": {
            "_model_module": "@jupyter-widgets/base",
            "_model_module_version": "1.2.0",
            "_model_name": "LayoutModel",
            "_view_count": null,
            "_view_module": "@jupyter-widgets/base",
            "_view_module_version": "1.2.0",
            "_view_name": "LayoutView",
            "align_content": null,
            "align_items": null,
            "align_self": null,
            "border": null,
            "bottom": null,
            "display": null,
            "flex": null,
            "flex_flow": null,
            "grid_area": null,
            "grid_auto_columns": null,
            "grid_auto_flow": null,
            "grid_auto_rows": null,
            "grid_column": null,
            "grid_gap": null,
            "grid_row": null,
            "grid_template_areas": null,
            "grid_template_columns": null,
            "grid_template_rows": null,
            "height": null,
            "justify_content": null,
            "justify_items": null,
            "left": null,
            "margin": null,
            "max_height": null,
            "max_width": null,
            "min_height": null,
            "min_width": null,
            "object_fit": null,
            "object_position": null,
            "order": null,
            "overflow": null,
            "overflow_x": null,
            "overflow_y": null,
            "padding": null,
            "right": null,
            "top": null,
            "visibility": null,
            "width": null
          }
        },
        "3ce6f8337b6f4e94a6b00980fcb5ab51": {
          "model_module": "@jupyter-widgets/controls",
          "model_name": "DescriptionStyleModel",
          "model_module_version": "1.5.0",
          "state": {
            "_model_module": "@jupyter-widgets/controls",
            "_model_module_version": "1.5.0",
            "_model_name": "DescriptionStyleModel",
            "_view_count": null,
            "_view_module": "@jupyter-widgets/base",
            "_view_module_version": "1.2.0",
            "_view_name": "StyleView",
            "description_width": ""
          }
        },
        "3bcf5992db4b46ecbef750234d45c551": {
          "model_module": "@jupyter-widgets/base",
          "model_name": "LayoutModel",
          "model_module_version": "1.2.0",
          "state": {
            "_model_module": "@jupyter-widgets/base",
            "_model_module_version": "1.2.0",
            "_model_name": "LayoutModel",
            "_view_count": null,
            "_view_module": "@jupyter-widgets/base",
            "_view_module_version": "1.2.0",
            "_view_name": "LayoutView",
            "align_content": null,
            "align_items": null,
            "align_self": null,
            "border": null,
            "bottom": null,
            "display": null,
            "flex": null,
            "flex_flow": null,
            "grid_area": null,
            "grid_auto_columns": null,
            "grid_auto_flow": null,
            "grid_auto_rows": null,
            "grid_column": null,
            "grid_gap": null,
            "grid_row": null,
            "grid_template_areas": null,
            "grid_template_columns": null,
            "grid_template_rows": null,
            "height": null,
            "justify_content": null,
            "justify_items": null,
            "left": null,
            "margin": null,
            "max_height": null,
            "max_width": null,
            "min_height": null,
            "min_width": null,
            "object_fit": null,
            "object_position": null,
            "order": null,
            "overflow": null,
            "overflow_x": null,
            "overflow_y": null,
            "padding": null,
            "right": null,
            "top": null,
            "visibility": null,
            "width": null
          }
        },
        "eb18230e045f4d6db2feb2f521abe9ae": {
          "model_module": "@jupyter-widgets/controls",
          "model_name": "ProgressStyleModel",
          "model_module_version": "1.5.0",
          "state": {
            "_model_module": "@jupyter-widgets/controls",
            "_model_module_version": "1.5.0",
            "_model_name": "ProgressStyleModel",
            "_view_count": null,
            "_view_module": "@jupyter-widgets/base",
            "_view_module_version": "1.2.0",
            "_view_name": "StyleView",
            "bar_color": null,
            "description_width": ""
          }
        },
        "dbe597b072294561b1fac2b2fa6d60ac": {
          "model_module": "@jupyter-widgets/base",
          "model_name": "LayoutModel",
          "model_module_version": "1.2.0",
          "state": {
            "_model_module": "@jupyter-widgets/base",
            "_model_module_version": "1.2.0",
            "_model_name": "LayoutModel",
            "_view_count": null,
            "_view_module": "@jupyter-widgets/base",
            "_view_module_version": "1.2.0",
            "_view_name": "LayoutView",
            "align_content": null,
            "align_items": null,
            "align_self": null,
            "border": null,
            "bottom": null,
            "display": null,
            "flex": null,
            "flex_flow": null,
            "grid_area": null,
            "grid_auto_columns": null,
            "grid_auto_flow": null,
            "grid_auto_rows": null,
            "grid_column": null,
            "grid_gap": null,
            "grid_row": null,
            "grid_template_areas": null,
            "grid_template_columns": null,
            "grid_template_rows": null,
            "height": null,
            "justify_content": null,
            "justify_items": null,
            "left": null,
            "margin": null,
            "max_height": null,
            "max_width": null,
            "min_height": null,
            "min_width": null,
            "object_fit": null,
            "object_position": null,
            "order": null,
            "overflow": null,
            "overflow_x": null,
            "overflow_y": null,
            "padding": null,
            "right": null,
            "top": null,
            "visibility": null,
            "width": null
          }
        },
        "cae69b88a6554e31bfebe30e218d5ed1": {
          "model_module": "@jupyter-widgets/controls",
          "model_name": "DescriptionStyleModel",
          "model_module_version": "1.5.0",
          "state": {
            "_model_module": "@jupyter-widgets/controls",
            "_model_module_version": "1.5.0",
            "_model_name": "DescriptionStyleModel",
            "_view_count": null,
            "_view_module": "@jupyter-widgets/base",
            "_view_module_version": "1.2.0",
            "_view_name": "StyleView",
            "description_width": ""
          }
        },
        "c66349e12224419f8d9e9a81be069d8c": {
          "model_module": "@jupyter-widgets/controls",
          "model_name": "HBoxModel",
          "model_module_version": "1.5.0",
          "state": {
            "_dom_classes": [],
            "_model_module": "@jupyter-widgets/controls",
            "_model_module_version": "1.5.0",
            "_model_name": "HBoxModel",
            "_view_count": null,
            "_view_module": "@jupyter-widgets/controls",
            "_view_module_version": "1.5.0",
            "_view_name": "HBoxView",
            "box_style": "",
            "children": [
              "IPY_MODEL_fd2aa9158b4e44f8b0c126b525fbcc41",
              "IPY_MODEL_c2ef0037e7514f48a6c97a74a12324b8",
              "IPY_MODEL_6726b0afe10b474783b57bc1ceb6fdf0"
            ],
            "layout": "IPY_MODEL_433d961b39564944a00d5115483add8a"
          }
        },
        "fd2aa9158b4e44f8b0c126b525fbcc41": {
          "model_module": "@jupyter-widgets/controls",
          "model_name": "HTMLModel",
          "model_module_version": "1.5.0",
          "state": {
            "_dom_classes": [],
            "_model_module": "@jupyter-widgets/controls",
            "_model_module_version": "1.5.0",
            "_model_name": "HTMLModel",
            "_view_count": null,
            "_view_module": "@jupyter-widgets/controls",
            "_view_module_version": "1.5.0",
            "_view_name": "HTMLView",
            "description": "",
            "description_tooltip": null,
            "layout": "IPY_MODEL_dcef4a2f326248ddbb0daca2eafc8129",
            "placeholder": "​",
            "style": "IPY_MODEL_fcca8646ec054fdd8d825b4b2dcbb45f",
            "value": "vocab.txt: 100%"
          }
        },
        "c2ef0037e7514f48a6c97a74a12324b8": {
          "model_module": "@jupyter-widgets/controls",
          "model_name": "FloatProgressModel",
          "model_module_version": "1.5.0",
          "state": {
            "_dom_classes": [],
            "_model_module": "@jupyter-widgets/controls",
            "_model_module_version": "1.5.0",
            "_model_name": "FloatProgressModel",
            "_view_count": null,
            "_view_module": "@jupyter-widgets/controls",
            "_view_module_version": "1.5.0",
            "_view_name": "ProgressView",
            "bar_style": "success",
            "description": "",
            "description_tooltip": null,
            "layout": "IPY_MODEL_a1afe9d0d24c47a0950d0183006e9117",
            "max": 231508,
            "min": 0,
            "orientation": "horizontal",
            "style": "IPY_MODEL_a200341939c74476aabdf5ad85e49f87",
            "value": 231508
          }
        },
        "6726b0afe10b474783b57bc1ceb6fdf0": {
          "model_module": "@jupyter-widgets/controls",
          "model_name": "HTMLModel",
          "model_module_version": "1.5.0",
          "state": {
            "_dom_classes": [],
            "_model_module": "@jupyter-widgets/controls",
            "_model_module_version": "1.5.0",
            "_model_name": "HTMLModel",
            "_view_count": null,
            "_view_module": "@jupyter-widgets/controls",
            "_view_module_version": "1.5.0",
            "_view_name": "HTMLView",
            "description": "",
            "description_tooltip": null,
            "layout": "IPY_MODEL_7885838d329c4d90b05cfbb2ac95faac",
            "placeholder": "​",
            "style": "IPY_MODEL_63406579a745442c9a837210aae76de7",
            "value": " 232k/232k [00:00&lt;00:00, 2.73MB/s]"
          }
        },
        "433d961b39564944a00d5115483add8a": {
          "model_module": "@jupyter-widgets/base",
          "model_name": "LayoutModel",
          "model_module_version": "1.2.0",
          "state": {
            "_model_module": "@jupyter-widgets/base",
            "_model_module_version": "1.2.0",
            "_model_name": "LayoutModel",
            "_view_count": null,
            "_view_module": "@jupyter-widgets/base",
            "_view_module_version": "1.2.0",
            "_view_name": "LayoutView",
            "align_content": null,
            "align_items": null,
            "align_self": null,
            "border": null,
            "bottom": null,
            "display": null,
            "flex": null,
            "flex_flow": null,
            "grid_area": null,
            "grid_auto_columns": null,
            "grid_auto_flow": null,
            "grid_auto_rows": null,
            "grid_column": null,
            "grid_gap": null,
            "grid_row": null,
            "grid_template_areas": null,
            "grid_template_columns": null,
            "grid_template_rows": null,
            "height": null,
            "justify_content": null,
            "justify_items": null,
            "left": null,
            "margin": null,
            "max_height": null,
            "max_width": null,
            "min_height": null,
            "min_width": null,
            "object_fit": null,
            "object_position": null,
            "order": null,
            "overflow": null,
            "overflow_x": null,
            "overflow_y": null,
            "padding": null,
            "right": null,
            "top": null,
            "visibility": null,
            "width": null
          }
        },
        "dcef4a2f326248ddbb0daca2eafc8129": {
          "model_module": "@jupyter-widgets/base",
          "model_name": "LayoutModel",
          "model_module_version": "1.2.0",
          "state": {
            "_model_module": "@jupyter-widgets/base",
            "_model_module_version": "1.2.0",
            "_model_name": "LayoutModel",
            "_view_count": null,
            "_view_module": "@jupyter-widgets/base",
            "_view_module_version": "1.2.0",
            "_view_name": "LayoutView",
            "align_content": null,
            "align_items": null,
            "align_self": null,
            "border": null,
            "bottom": null,
            "display": null,
            "flex": null,
            "flex_flow": null,
            "grid_area": null,
            "grid_auto_columns": null,
            "grid_auto_flow": null,
            "grid_auto_rows": null,
            "grid_column": null,
            "grid_gap": null,
            "grid_row": null,
            "grid_template_areas": null,
            "grid_template_columns": null,
            "grid_template_rows": null,
            "height": null,
            "justify_content": null,
            "justify_items": null,
            "left": null,
            "margin": null,
            "max_height": null,
            "max_width": null,
            "min_height": null,
            "min_width": null,
            "object_fit": null,
            "object_position": null,
            "order": null,
            "overflow": null,
            "overflow_x": null,
            "overflow_y": null,
            "padding": null,
            "right": null,
            "top": null,
            "visibility": null,
            "width": null
          }
        },
        "fcca8646ec054fdd8d825b4b2dcbb45f": {
          "model_module": "@jupyter-widgets/controls",
          "model_name": "DescriptionStyleModel",
          "model_module_version": "1.5.0",
          "state": {
            "_model_module": "@jupyter-widgets/controls",
            "_model_module_version": "1.5.0",
            "_model_name": "DescriptionStyleModel",
            "_view_count": null,
            "_view_module": "@jupyter-widgets/base",
            "_view_module_version": "1.2.0",
            "_view_name": "StyleView",
            "description_width": ""
          }
        },
        "a1afe9d0d24c47a0950d0183006e9117": {
          "model_module": "@jupyter-widgets/base",
          "model_name": "LayoutModel",
          "model_module_version": "1.2.0",
          "state": {
            "_model_module": "@jupyter-widgets/base",
            "_model_module_version": "1.2.0",
            "_model_name": "LayoutModel",
            "_view_count": null,
            "_view_module": "@jupyter-widgets/base",
            "_view_module_version": "1.2.0",
            "_view_name": "LayoutView",
            "align_content": null,
            "align_items": null,
            "align_self": null,
            "border": null,
            "bottom": null,
            "display": null,
            "flex": null,
            "flex_flow": null,
            "grid_area": null,
            "grid_auto_columns": null,
            "grid_auto_flow": null,
            "grid_auto_rows": null,
            "grid_column": null,
            "grid_gap": null,
            "grid_row": null,
            "grid_template_areas": null,
            "grid_template_columns": null,
            "grid_template_rows": null,
            "height": null,
            "justify_content": null,
            "justify_items": null,
            "left": null,
            "margin": null,
            "max_height": null,
            "max_width": null,
            "min_height": null,
            "min_width": null,
            "object_fit": null,
            "object_position": null,
            "order": null,
            "overflow": null,
            "overflow_x": null,
            "overflow_y": null,
            "padding": null,
            "right": null,
            "top": null,
            "visibility": null,
            "width": null
          }
        },
        "a200341939c74476aabdf5ad85e49f87": {
          "model_module": "@jupyter-widgets/controls",
          "model_name": "ProgressStyleModel",
          "model_module_version": "1.5.0",
          "state": {
            "_model_module": "@jupyter-widgets/controls",
            "_model_module_version": "1.5.0",
            "_model_name": "ProgressStyleModel",
            "_view_count": null,
            "_view_module": "@jupyter-widgets/base",
            "_view_module_version": "1.2.0",
            "_view_name": "StyleView",
            "bar_color": null,
            "description_width": ""
          }
        },
        "7885838d329c4d90b05cfbb2ac95faac": {
          "model_module": "@jupyter-widgets/base",
          "model_name": "LayoutModel",
          "model_module_version": "1.2.0",
          "state": {
            "_model_module": "@jupyter-widgets/base",
            "_model_module_version": "1.2.0",
            "_model_name": "LayoutModel",
            "_view_count": null,
            "_view_module": "@jupyter-widgets/base",
            "_view_module_version": "1.2.0",
            "_view_name": "LayoutView",
            "align_content": null,
            "align_items": null,
            "align_self": null,
            "border": null,
            "bottom": null,
            "display": null,
            "flex": null,
            "flex_flow": null,
            "grid_area": null,
            "grid_auto_columns": null,
            "grid_auto_flow": null,
            "grid_auto_rows": null,
            "grid_column": null,
            "grid_gap": null,
            "grid_row": null,
            "grid_template_areas": null,
            "grid_template_columns": null,
            "grid_template_rows": null,
            "height": null,
            "justify_content": null,
            "justify_items": null,
            "left": null,
            "margin": null,
            "max_height": null,
            "max_width": null,
            "min_height": null,
            "min_width": null,
            "object_fit": null,
            "object_position": null,
            "order": null,
            "overflow": null,
            "overflow_x": null,
            "overflow_y": null,
            "padding": null,
            "right": null,
            "top": null,
            "visibility": null,
            "width": null
          }
        },
        "63406579a745442c9a837210aae76de7": {
          "model_module": "@jupyter-widgets/controls",
          "model_name": "DescriptionStyleModel",
          "model_module_version": "1.5.0",
          "state": {
            "_model_module": "@jupyter-widgets/controls",
            "_model_module_version": "1.5.0",
            "_model_name": "DescriptionStyleModel",
            "_view_count": null,
            "_view_module": "@jupyter-widgets/base",
            "_view_module_version": "1.2.0",
            "_view_name": "StyleView",
            "description_width": ""
          }
        },
        "b8535027d3b74444bf2388cd0867591b": {
          "model_module": "@jupyter-widgets/controls",
          "model_name": "HBoxModel",
          "model_module_version": "1.5.0",
          "state": {
            "_dom_classes": [],
            "_model_module": "@jupyter-widgets/controls",
            "_model_module_version": "1.5.0",
            "_model_name": "HBoxModel",
            "_view_count": null,
            "_view_module": "@jupyter-widgets/controls",
            "_view_module_version": "1.5.0",
            "_view_name": "HBoxView",
            "box_style": "",
            "children": [
              "IPY_MODEL_20af4ae8b3344e268259448d36fc6beb",
              "IPY_MODEL_c4e1b22fc7944aa88d3b33dd9d663f9b",
              "IPY_MODEL_65cc13cab8384976a4300d669a3493d0"
            ],
            "layout": "IPY_MODEL_ff2f3e94e4c34406b7bce2618aed3d09"
          }
        },
        "20af4ae8b3344e268259448d36fc6beb": {
          "model_module": "@jupyter-widgets/controls",
          "model_name": "HTMLModel",
          "model_module_version": "1.5.0",
          "state": {
            "_dom_classes": [],
            "_model_module": "@jupyter-widgets/controls",
            "_model_module_version": "1.5.0",
            "_model_name": "HTMLModel",
            "_view_count": null,
            "_view_module": "@jupyter-widgets/controls",
            "_view_module_version": "1.5.0",
            "_view_name": "HTMLView",
            "description": "",
            "description_tooltip": null,
            "layout": "IPY_MODEL_475cd85fe8cb411cb2c98f4d2f7bf069",
            "placeholder": "​",
            "style": "IPY_MODEL_723b95ae1c95433f81c10f12f9309fdb",
            "value": "tokenizer.json: 100%"
          }
        },
        "c4e1b22fc7944aa88d3b33dd9d663f9b": {
          "model_module": "@jupyter-widgets/controls",
          "model_name": "FloatProgressModel",
          "model_module_version": "1.5.0",
          "state": {
            "_dom_classes": [],
            "_model_module": "@jupyter-widgets/controls",
            "_model_module_version": "1.5.0",
            "_model_name": "FloatProgressModel",
            "_view_count": null,
            "_view_module": "@jupyter-widgets/controls",
            "_view_module_version": "1.5.0",
            "_view_name": "ProgressView",
            "bar_style": "success",
            "description": "",
            "description_tooltip": null,
            "layout": "IPY_MODEL_d02adea974e44731b62c98a4ce251537",
            "max": 466062,
            "min": 0,
            "orientation": "horizontal",
            "style": "IPY_MODEL_13dad109eec24e28bf79e5f3159286df",
            "value": 466062
          }
        },
        "65cc13cab8384976a4300d669a3493d0": {
          "model_module": "@jupyter-widgets/controls",
          "model_name": "HTMLModel",
          "model_module_version": "1.5.0",
          "state": {
            "_dom_classes": [],
            "_model_module": "@jupyter-widgets/controls",
            "_model_module_version": "1.5.0",
            "_model_name": "HTMLModel",
            "_view_count": null,
            "_view_module": "@jupyter-widgets/controls",
            "_view_module_version": "1.5.0",
            "_view_name": "HTMLView",
            "description": "",
            "description_tooltip": null,
            "layout": "IPY_MODEL_4794a13df4d047abb4ab86fbbe561d81",
            "placeholder": "​",
            "style": "IPY_MODEL_dd1e216c091e4e92b058838b15b12299",
            "value": " 466k/466k [00:00&lt;00:00, 3.12MB/s]"
          }
        },
        "ff2f3e94e4c34406b7bce2618aed3d09": {
          "model_module": "@jupyter-widgets/base",
          "model_name": "LayoutModel",
          "model_module_version": "1.2.0",
          "state": {
            "_model_module": "@jupyter-widgets/base",
            "_model_module_version": "1.2.0",
            "_model_name": "LayoutModel",
            "_view_count": null,
            "_view_module": "@jupyter-widgets/base",
            "_view_module_version": "1.2.0",
            "_view_name": "LayoutView",
            "align_content": null,
            "align_items": null,
            "align_self": null,
            "border": null,
            "bottom": null,
            "display": null,
            "flex": null,
            "flex_flow": null,
            "grid_area": null,
            "grid_auto_columns": null,
            "grid_auto_flow": null,
            "grid_auto_rows": null,
            "grid_column": null,
            "grid_gap": null,
            "grid_row": null,
            "grid_template_areas": null,
            "grid_template_columns": null,
            "grid_template_rows": null,
            "height": null,
            "justify_content": null,
            "justify_items": null,
            "left": null,
            "margin": null,
            "max_height": null,
            "max_width": null,
            "min_height": null,
            "min_width": null,
            "object_fit": null,
            "object_position": null,
            "order": null,
            "overflow": null,
            "overflow_x": null,
            "overflow_y": null,
            "padding": null,
            "right": null,
            "top": null,
            "visibility": null,
            "width": null
          }
        },
        "475cd85fe8cb411cb2c98f4d2f7bf069": {
          "model_module": "@jupyter-widgets/base",
          "model_name": "LayoutModel",
          "model_module_version": "1.2.0",
          "state": {
            "_model_module": "@jupyter-widgets/base",
            "_model_module_version": "1.2.0",
            "_model_name": "LayoutModel",
            "_view_count": null,
            "_view_module": "@jupyter-widgets/base",
            "_view_module_version": "1.2.0",
            "_view_name": "LayoutView",
            "align_content": null,
            "align_items": null,
            "align_self": null,
            "border": null,
            "bottom": null,
            "display": null,
            "flex": null,
            "flex_flow": null,
            "grid_area": null,
            "grid_auto_columns": null,
            "grid_auto_flow": null,
            "grid_auto_rows": null,
            "grid_column": null,
            "grid_gap": null,
            "grid_row": null,
            "grid_template_areas": null,
            "grid_template_columns": null,
            "grid_template_rows": null,
            "height": null,
            "justify_content": null,
            "justify_items": null,
            "left": null,
            "margin": null,
            "max_height": null,
            "max_width": null,
            "min_height": null,
            "min_width": null,
            "object_fit": null,
            "object_position": null,
            "order": null,
            "overflow": null,
            "overflow_x": null,
            "overflow_y": null,
            "padding": null,
            "right": null,
            "top": null,
            "visibility": null,
            "width": null
          }
        },
        "723b95ae1c95433f81c10f12f9309fdb": {
          "model_module": "@jupyter-widgets/controls",
          "model_name": "DescriptionStyleModel",
          "model_module_version": "1.5.0",
          "state": {
            "_model_module": "@jupyter-widgets/controls",
            "_model_module_version": "1.5.0",
            "_model_name": "DescriptionStyleModel",
            "_view_count": null,
            "_view_module": "@jupyter-widgets/base",
            "_view_module_version": "1.2.0",
            "_view_name": "StyleView",
            "description_width": ""
          }
        },
        "d02adea974e44731b62c98a4ce251537": {
          "model_module": "@jupyter-widgets/base",
          "model_name": "LayoutModel",
          "model_module_version": "1.2.0",
          "state": {
            "_model_module": "@jupyter-widgets/base",
            "_model_module_version": "1.2.0",
            "_model_name": "LayoutModel",
            "_view_count": null,
            "_view_module": "@jupyter-widgets/base",
            "_view_module_version": "1.2.0",
            "_view_name": "LayoutView",
            "align_content": null,
            "align_items": null,
            "align_self": null,
            "border": null,
            "bottom": null,
            "display": null,
            "flex": null,
            "flex_flow": null,
            "grid_area": null,
            "grid_auto_columns": null,
            "grid_auto_flow": null,
            "grid_auto_rows": null,
            "grid_column": null,
            "grid_gap": null,
            "grid_row": null,
            "grid_template_areas": null,
            "grid_template_columns": null,
            "grid_template_rows": null,
            "height": null,
            "justify_content": null,
            "justify_items": null,
            "left": null,
            "margin": null,
            "max_height": null,
            "max_width": null,
            "min_height": null,
            "min_width": null,
            "object_fit": null,
            "object_position": null,
            "order": null,
            "overflow": null,
            "overflow_x": null,
            "overflow_y": null,
            "padding": null,
            "right": null,
            "top": null,
            "visibility": null,
            "width": null
          }
        },
        "13dad109eec24e28bf79e5f3159286df": {
          "model_module": "@jupyter-widgets/controls",
          "model_name": "ProgressStyleModel",
          "model_module_version": "1.5.0",
          "state": {
            "_model_module": "@jupyter-widgets/controls",
            "_model_module_version": "1.5.0",
            "_model_name": "ProgressStyleModel",
            "_view_count": null,
            "_view_module": "@jupyter-widgets/base",
            "_view_module_version": "1.2.0",
            "_view_name": "StyleView",
            "bar_color": null,
            "description_width": ""
          }
        },
        "4794a13df4d047abb4ab86fbbe561d81": {
          "model_module": "@jupyter-widgets/base",
          "model_name": "LayoutModel",
          "model_module_version": "1.2.0",
          "state": {
            "_model_module": "@jupyter-widgets/base",
            "_model_module_version": "1.2.0",
            "_model_name": "LayoutModel",
            "_view_count": null,
            "_view_module": "@jupyter-widgets/base",
            "_view_module_version": "1.2.0",
            "_view_name": "LayoutView",
            "align_content": null,
            "align_items": null,
            "align_self": null,
            "border": null,
            "bottom": null,
            "display": null,
            "flex": null,
            "flex_flow": null,
            "grid_area": null,
            "grid_auto_columns": null,
            "grid_auto_flow": null,
            "grid_auto_rows": null,
            "grid_column": null,
            "grid_gap": null,
            "grid_row": null,
            "grid_template_areas": null,
            "grid_template_columns": null,
            "grid_template_rows": null,
            "height": null,
            "justify_content": null,
            "justify_items": null,
            "left": null,
            "margin": null,
            "max_height": null,
            "max_width": null,
            "min_height": null,
            "min_width": null,
            "object_fit": null,
            "object_position": null,
            "order": null,
            "overflow": null,
            "overflow_x": null,
            "overflow_y": null,
            "padding": null,
            "right": null,
            "top": null,
            "visibility": null,
            "width": null
          }
        },
        "dd1e216c091e4e92b058838b15b12299": {
          "model_module": "@jupyter-widgets/controls",
          "model_name": "DescriptionStyleModel",
          "model_module_version": "1.5.0",
          "state": {
            "_model_module": "@jupyter-widgets/controls",
            "_model_module_version": "1.5.0",
            "_model_name": "DescriptionStyleModel",
            "_view_count": null,
            "_view_module": "@jupyter-widgets/base",
            "_view_module_version": "1.2.0",
            "_view_name": "StyleView",
            "description_width": ""
          }
        }
      }
    }
  },
  "cells": [
    {
      "cell_type": "markdown",
      "metadata": {
        "id": "view-in-github",
        "colab_type": "text"
      },
      "source": [
        "<a href=\"https://colab.research.google.com/github/rl-cyber/User-Engaged-Network-Diagnosis/blob/main/Reproduce_cellularlint_codes.ipynb\" target=\"_parent\"><img src=\"https://colab.research.google.com/assets/colab-badge.svg\" alt=\"Open In Colab\"/></a>"
      ]
    },
    {
      "cell_type": "code",
      "execution_count": 1,
      "metadata": {
        "colab": {
          "base_uri": "https://localhost:8080/"
        },
        "id": "edKRvzPqiZJq",
        "outputId": "99d7f2d9-1263-4450-eb00-d12c6c9733eb"
      },
      "outputs": [
        {
          "output_type": "stream",
          "name": "stdout",
          "text": [
            "Cloning into 'cellularlint-codes'...\n",
            "remote: Enumerating objects: 127, done.\u001b[K\n",
            "remote: Counting objects: 100% (127/127), done.\u001b[K\n",
            "remote: Compressing objects: 100% (99/99), done.\u001b[K\n",
            "remote: Total 127 (delta 66), reused 65 (delta 27), pack-reused 0 (from 0)\u001b[K\n",
            "Receiving objects: 100% (127/127), 2.17 MiB | 5.36 MiB/s, done.\n",
            "Resolving deltas: 100% (66/66), done.\n"
          ]
        }
      ],
      "source": [
        "!git clone https://github.com/CellularLint/cellularlint-codes.git\n"
      ]
    },
    {
      "cell_type": "code",
      "source": [
        "%cd cellularlint-codes"
      ],
      "metadata": {
        "colab": {
          "base_uri": "https://localhost:8080/"
        },
        "id": "Too8N-K7jJRD",
        "outputId": "1c558dd9-4a11-4d6d-e51a-a075d7330733"
      },
      "execution_count": 2,
      "outputs": [
        {
          "output_type": "stream",
          "name": "stdout",
          "text": [
            "/content/cellularlint-codes\n"
          ]
        }
      ]
    },
    {
      "cell_type": "code",
      "source": [
        "from google.colab import drive\n",
        "drive.mount('/content/drive')\n"
      ],
      "metadata": {
        "colab": {
          "base_uri": "https://localhost:8080/"
        },
        "id": "2uOTyNOHldiE",
        "outputId": "9704a42f-267e-4fe3-c795-535fcd6699a3"
      },
      "execution_count": 3,
      "outputs": [
        {
          "output_type": "stream",
          "name": "stdout",
          "text": [
            "Mounted at /content/drive\n"
          ]
        }
      ]
    },
    {
      "cell_type": "code",
      "source": [
        "!cp /content/drive/MyDrive/Pretrained_Models.zip ./\n",
        "!unzip ./Pretrained_Models.zip -d Pretrained_Models/"
      ],
      "metadata": {
        "colab": {
          "base_uri": "https://localhost:8080/"
        },
        "id": "f45D89YznfHJ",
        "outputId": "9e5fab9d-f836-42ce-eb6c-f07f4bd92202"
      },
      "execution_count": 4,
      "outputs": [
        {
          "output_type": "stream",
          "name": "stdout",
          "text": [
            "Archive:  ./Pretrained_Models.zip\n",
            " extracting: Pretrained_Models/roberta_weights.zip  \n",
            " extracting: Pretrained_Models/bert_weights.zip  \n",
            " extracting: Pretrained_Models/xlnet_weights.zip  \n"
          ]
        }
      ]
    },
    {
      "cell_type": "code",
      "source": [
        "!chmod 700 unpack.sh\n",
        "!./unpack.sh"
      ],
      "metadata": {
        "colab": {
          "base_uri": "https://localhost:8080/"
        },
        "id": "qMqtoteEpidN",
        "outputId": "eca579fc-3804-4282-b121-b11394c1bb18"
      },
      "execution_count": 5,
      "outputs": [
        {
          "output_type": "stream",
          "name": "stdout",
          "text": [
            "Unzipped bert_weights.zip into bert_weights\n",
            "Unzipped roberta_weights.zip into roberta_weights\n",
            "Unzipped xlnet_weights.zip into xlnet_weights\n"
          ]
        }
      ]
    },
    {
      "cell_type": "code",
      "source": [
        "!python3 tokenizer_and_sim_matrix.py 4G\n",
        "!python3 tokenizer_and_sim_matrix.py 5G"
      ],
      "metadata": {
        "colab": {
          "base_uri": "https://localhost:8080/"
        },
        "id": "AAvpCsU3pvhy",
        "outputId": "8f88e7af-dc62-4f35-c511-b08ee13c285a"
      },
      "execution_count": 6,
      "outputs": [
        {
          "output_type": "stream",
          "name": "stdout",
          "text": [
            "tokenizer_config.json: 100% 1.19k/1.19k [00:00<00:00, 9.15MB/s]\n",
            "config.json: 100% 594/594 [00:00<00:00, 4.67MB/s]\n",
            "vocab.txt: 100% 232k/232k [00:00<00:00, 2.91MB/s]\n",
            "tokenizer.json: 100% 466k/466k [00:00<00:00, 5.92MB/s]\n",
            "special_tokens_map.json: 100% 239/239 [00:00<00:00, 2.39MB/s]\n",
            "2025-02-12 00:59:04.565680: E external/local_xla/xla/stream_executor/cuda/cuda_fft.cc:477] Unable to register cuFFT factory: Attempting to register factory for plugin cuFFT when one has already been registered\n",
            "WARNING: All log messages before absl::InitializeLog() is called are written to STDERR\n",
            "E0000 00:00:1739321944.829761    1195 cuda_dnn.cc:8310] Unable to register cuDNN factory: Attempting to register factory for plugin cuDNN when one has already been registered\n",
            "E0000 00:00:1739321944.906820    1195 cuda_blas.cc:1418] Unable to register cuBLAS factory: Attempting to register factory for plugin cuBLAS when one has already been registered\n",
            "2025-02-12 00:59:05.493551: I tensorflow/core/platform/cpu_feature_guard.cc:210] This TensorFlow binary is optimized to use available CPU instructions in performance-critical operations.\n",
            "To enable the following instructions: AVX2 AVX512F FMA, in other operations, rebuild TensorFlow with the appropriate compiler flags.\n",
            "model.safetensors: 100% 438M/438M [00:02<00:00, 155MB/s]\n",
            "We strongly recommend passing in an `attention_mask` since your input_ids may be padded. See https://huggingface.co/docs/transformers/troubleshooting#incorrect-output-when-padding-tokens-arent-masked.\n",
            "tokenizer_config.json: 100% 505/505 [00:00<00:00, 3.68MB/s]\n",
            "config.json: 100% 555/555 [00:00<00:00, 3.30MB/s]\n",
            "vocab.txt: 100% 232k/232k [00:00<00:00, 3.25MB/s]\n",
            "tokenizer.json: 100% 466k/466k [00:00<00:00, 3.14MB/s]\n",
            "special_tokens_map.json: 100% 112/112 [00:00<00:00, 727kB/s]\n",
            "model.safetensors: 100% 265M/265M [00:02<00:00, 88.7MB/s]\n",
            "2025-02-12 01:02:34.658354: E external/local_xla/xla/stream_executor/cuda/cuda_fft.cc:477] Unable to register cuFFT factory: Attempting to register factory for plugin cuFFT when one has already been registered\n",
            "WARNING: All log messages before absl::InitializeLog() is called are written to STDERR\n",
            "E0000 00:00:1739322154.678688    2214 cuda_dnn.cc:8310] Unable to register cuDNN factory: Attempting to register factory for plugin cuDNN when one has already been registered\n",
            "E0000 00:00:1739322154.684876    2214 cuda_blas.cc:1418] Unable to register cuBLAS factory: Attempting to register factory for plugin cuBLAS when one has already been registered\n",
            "2025-02-12 01:02:34.705930: I tensorflow/core/platform/cpu_feature_guard.cc:210] This TensorFlow binary is optimized to use available CPU instructions in performance-critical operations.\n",
            "To enable the following instructions: AVX2 AVX512F FMA, in other operations, rebuild TensorFlow with the appropriate compiler flags.\n",
            "We strongly recommend passing in an `attention_mask` since your input_ids may be padded. See https://huggingface.co/docs/transformers/troubleshooting#incorrect-output-when-padding-tokens-arent-masked.\n"
          ]
        }
      ]
    },
    {
      "cell_type": "code",
      "source": [
        "from transformers import BertModel, BertTokenizerFast\n",
        "\n",
        "MODEL_SAVE_PATH = \"/content/cellularlint-codes/saved_models/bert\"\n",
        "\n",
        "# Download and save BERT model and tokenizer\n",
        "model = BertModel.from_pretrained(\"bert-base-uncased\")\n",
        "model.save_pretrained(MODEL_SAVE_PATH)\n",
        "\n",
        "tokenizer = BertTokenizerFast.from_pretrained(\"bert-base-uncased\")\n",
        "tokenizer.save_pretrained(MODEL_SAVE_PATH)\n",
        "\n",
        "print(\"BERT model and tokenizer saved at:\", MODEL_SAVE_PATH)"
      ],
      "metadata": {
        "colab": {
          "base_uri": "https://localhost:8080/",
          "height": 318,
          "referenced_widgets": [
            "8c0d0ac22acd40ff882e677f5de37a91",
            "9528e136c7754b15b4e260e4da5bf518",
            "33871ae34df74b5d8014616bebd158a7",
            "6723de2163614f73b93d22a76b87d415",
            "73429e8b404846218b62ecf642dfedcf",
            "558ad6afe7fd4d9799dd349961a4cd23",
            "6759778c87bf47678b12ccd79f453f08",
            "fc87563822034b4f8c08a9da941f6f2b",
            "743127036c434a4b8a749156b8c5f632",
            "673e00cf59c04b88a66e2e97db352368",
            "e792987784af487598838d4ccca518a5",
            "8f24ef63b15748caa5eeb1581afefa05",
            "ae91172b3c41430aa4e033668effffb7",
            "108ddc80c6b54b9fa6eafab10791289d",
            "9ccff5a85acd487b8b875880cf2861b1",
            "6ae844479eb7483c8cbccb10919b8db1",
            "d0c33349c1644ab197f992e931732874",
            "e653687341d049d896a4f01dd62fce86",
            "9b84378271cf414c90b5b9d49b5f37a4",
            "86ffc16a6ac44ecf8bc75b3cf308d923",
            "17eb43834ec44ca8bedfbd70912f1e06",
            "226850a132074a7c8744259ab12232ff",
            "78c05ad054ca4235929c17d5c0c83787",
            "0201611b39b64209b5e487b07f8fee12",
            "8a8a558a427649d6b244ab1313aea111",
            "4cbf0940595d4692974e9be88d3c9a6e",
            "5deb26be32e34cb0b70805b74bc5fe28",
            "59017cd04589417795d1782eb4f42e80",
            "3ce6f8337b6f4e94a6b00980fcb5ab51",
            "3bcf5992db4b46ecbef750234d45c551",
            "eb18230e045f4d6db2feb2f521abe9ae",
            "dbe597b072294561b1fac2b2fa6d60ac",
            "cae69b88a6554e31bfebe30e218d5ed1",
            "c66349e12224419f8d9e9a81be069d8c",
            "fd2aa9158b4e44f8b0c126b525fbcc41",
            "c2ef0037e7514f48a6c97a74a12324b8",
            "6726b0afe10b474783b57bc1ceb6fdf0",
            "433d961b39564944a00d5115483add8a",
            "dcef4a2f326248ddbb0daca2eafc8129",
            "fcca8646ec054fdd8d825b4b2dcbb45f",
            "a1afe9d0d24c47a0950d0183006e9117",
            "a200341939c74476aabdf5ad85e49f87",
            "7885838d329c4d90b05cfbb2ac95faac",
            "63406579a745442c9a837210aae76de7",
            "b8535027d3b74444bf2388cd0867591b",
            "20af4ae8b3344e268259448d36fc6beb",
            "c4e1b22fc7944aa88d3b33dd9d663f9b",
            "65cc13cab8384976a4300d669a3493d0",
            "ff2f3e94e4c34406b7bce2618aed3d09",
            "475cd85fe8cb411cb2c98f4d2f7bf069",
            "723b95ae1c95433f81c10f12f9309fdb",
            "d02adea974e44731b62c98a4ce251537",
            "13dad109eec24e28bf79e5f3159286df",
            "4794a13df4d047abb4ab86fbbe561d81",
            "dd1e216c091e4e92b058838b15b12299"
          ]
        },
        "id": "tbW6XBs3um9w",
        "outputId": "525cd158-a9d7-44f5-a929-9b45c8c4d2b4"
      },
      "execution_count": 16,
      "outputs": [
        {
          "output_type": "stream",
          "name": "stderr",
          "text": [
            "/usr/local/lib/python3.11/dist-packages/huggingface_hub/utils/_auth.py:94: UserWarning: \n",
            "The secret `HF_TOKEN` does not exist in your Colab secrets.\n",
            "To authenticate with the Hugging Face Hub, create a token in your settings tab (https://huggingface.co/settings/tokens), set it as secret in your Google Colab and restart your session.\n",
            "You will be able to reuse this secret in all of your notebooks.\n",
            "Please note that authentication is recommended but still optional to access public models or datasets.\n",
            "  warnings.warn(\n"
          ]
        },
        {
          "output_type": "display_data",
          "data": {
            "text/plain": [
              "config.json:   0%|          | 0.00/570 [00:00<?, ?B/s]"
            ],
            "application/vnd.jupyter.widget-view+json": {
              "version_major": 2,
              "version_minor": 0,
              "model_id": "8c0d0ac22acd40ff882e677f5de37a91"
            }
          },
          "metadata": {}
        },
        {
          "output_type": "display_data",
          "data": {
            "text/plain": [
              "model.safetensors:   0%|          | 0.00/440M [00:00<?, ?B/s]"
            ],
            "application/vnd.jupyter.widget-view+json": {
              "version_major": 2,
              "version_minor": 0,
              "model_id": "8f24ef63b15748caa5eeb1581afefa05"
            }
          },
          "metadata": {}
        },
        {
          "output_type": "display_data",
          "data": {
            "text/plain": [
              "tokenizer_config.json:   0%|          | 0.00/48.0 [00:00<?, ?B/s]"
            ],
            "application/vnd.jupyter.widget-view+json": {
              "version_major": 2,
              "version_minor": 0,
              "model_id": "78c05ad054ca4235929c17d5c0c83787"
            }
          },
          "metadata": {}
        },
        {
          "output_type": "display_data",
          "data": {
            "text/plain": [
              "vocab.txt:   0%|          | 0.00/232k [00:00<?, ?B/s]"
            ],
            "application/vnd.jupyter.widget-view+json": {
              "version_major": 2,
              "version_minor": 0,
              "model_id": "c66349e12224419f8d9e9a81be069d8c"
            }
          },
          "metadata": {}
        },
        {
          "output_type": "display_data",
          "data": {
            "text/plain": [
              "tokenizer.json:   0%|          | 0.00/466k [00:00<?, ?B/s]"
            ],
            "application/vnd.jupyter.widget-view+json": {
              "version_major": 2,
              "version_minor": 0,
              "model_id": "b8535027d3b74444bf2388cd0867591b"
            }
          },
          "metadata": {}
        },
        {
          "output_type": "stream",
          "name": "stdout",
          "text": [
            "BERT model and tokenizer saved at: /content/cellularlint-codes/saved_models/bert\n"
          ]
        }
      ]
    },
    {
      "cell_type": "code",
      "source": [
        "import pandas as pd\n",
        "import os\n",
        "import torch\n",
        "import numpy as np\n",
        "from transformers import BertTokenizer, BertModel, BertForSequenceClassification, AdamW, BertConfig, BertTokenizerFast\n",
        "from tokenizers import BertWordPieceTokenizer\n",
        "from torch import nn\n",
        "np.random.seed(321)\n",
        "\n",
        "BertModel.from_pretrained(\"./Pretrained Models/bert_weights/\")\n",
        "\n",
        "ROOT_PATH = \"/content/cellularlint-codes\"\n",
        "\n",
        "# Set paths for dataset and models\n",
        "#DATA_PATH = os.path.join(ROOT_PATH, \"Data\", \"SNLI\")\n",
        "#MODEL_PATH = os.path.join(ROOT_PATH, \"Pretrained Models\", \"bert_weights\")\n",
        "\n",
        "# Ensure paths exist\n",
        "#os.makedirs(DATA_PATH, exist_ok=True)\n",
        "#os.makedirs(MODEL_PATH, exist_ok=True)\n",
        "\n",
        "#ROOT_PATH = \"./cellularlint-codes\"\n",
        "#DATA_PATH = \"./Data/SNLI/\"\n",
        "#PRETRAINED_PATH = \"./Pretrained Models/bert_weights/\"\n",
        "#SAVE_MODEL_AT = \"./saved_models/bert\"\n",
        "#PRETRAINED_TOKENIZER = \"./saved_models/bert\"\n",
        "#MODEL_PATH = None\n",
        "\n",
        "\n",
        "DATA_PATH = os.path.join(ROOT_PATH, \"Data/SNLI\")\n",
        "PRETRAINED_PATH = os.path.join(ROOT_PATH, \"Pretrained Models/bert_weights\")\n",
        "SAVE_MODEL_AT = os.path.join(ROOT_PATH, \"saved_models/bert\")\n",
        "PRETRAINED_TOKENIZER = SAVE_MODEL_AT  # Tokenizer is usually saved in the same model folder\n",
        "MODEL_PATH = None\n",
        "\n",
        "\n",
        "df_train = pd.read_csv(os.path.join(DATA_PATH,\"snli_1.0_train.csv\"))\n",
        "df_dev = pd.read_csv(os.path.join(DATA_PATH,\"snli_1.0_dev.csv\"))\n",
        "df_test = pd.read_csv(os.path.join(DATA_PATH,\"snli_1.0_test.csv\"))\n",
        "\n",
        "\n",
        "df_train = df_train.iloc[:500]\n",
        "df_dev = df_train.copy().iloc[:100]\n",
        "\n",
        "\n",
        "tokenizer = BertTokenizerFast.from_pretrained(os.path.join(ROOT_PATH,PRETRAINED_TOKENIZER))\n",
        "tokenizer = BertTokenizerFast.from_pretrained(os.path.join(ROOT_PATH,PRETRAINED_PATH))\n",
        "tokenizer = BertTokenizerFast.from_pretrained(\"bert-base-uncased\")\n",
        "\n",
        "\n",
        "labels = {'contradiction':1,\n",
        "          'entailment':0,\n",
        "          'neutral':2,\n",
        "          }\n",
        "NUM_LABELS = len(labels)\n",
        "\n",
        "def bert_encoding(sequence):\n",
        "    return tokenizer.encode(sequence, add_special_tokens = False)\n",
        "def str_to_int_list(data):\n",
        "    return list(map(int, data))\n",
        "\n",
        "df_train['token_type'] = df_train['token_type'].str.split()\n",
        "df_train['token_type'] = df_train['token_type'].apply(str_to_int_list)\n",
        "\n",
        "df_dev['token_type'] = df_dev['token_type'].str.split()\n",
        "df_dev['token_type'] = df_dev['token_type'].apply(str_to_int_list)\n",
        "\n",
        "df_test['token_type'] = df_test['token_type'].str.split()\n",
        "df_test['token_type'] = df_test['token_type'].apply(str_to_int_list)\n",
        "\n",
        "\n",
        "\n",
        "df_train['attention_mask'] = df_train['attention_mask'].str.split()\n",
        "df_train['attention_mask'] = df_train['attention_mask'].apply(str_to_int_list)\n",
        "\n",
        "df_dev['attention_mask'] = df_dev['attention_mask'].str.split()\n",
        "df_dev['attention_mask'] = df_dev['attention_mask'].apply(str_to_int_list)\n",
        "\n",
        "df_test['attention_mask'] = df_test['attention_mask'].str.split()\n",
        "df_test['attention_mask'] = df_test['attention_mask'].apply(str_to_int_list)\n",
        "\n",
        "\n",
        "df_train['input_ids'] = df_train['sequence'].apply(bert_encoding)\n",
        "df_dev['input_ids'] = df_dev['sequence'].apply(bert_encoding)\n",
        "df_test['input_ids'] = df_test['sequence'].apply(bert_encoding)\n",
        "\n",
        "\n",
        "max_length = 512\n",
        "class Dataset(torch.utils.data.Dataset):\n",
        "    def __init__(self, df):\n",
        "        self.texts = []\n",
        "        self.labels = [labels[label] for label in df['gold_label']]\n",
        "        for _, row in df.iterrows():\n",
        "            token_type_ids = row['token_type']\n",
        "            token_type_ids += [0] * (max_length - len(token_type_ids))\n",
        "            attention_mask = row['attention_mask']\n",
        "            attention_mask += [0] * (max_length - len(attention_mask))\n",
        "            input_ids = tokenizer.encode(\n",
        "                row['sequence'],\n",
        "                add_special_tokens=False,\n",
        "                padding='max_length',\n",
        "                max_length=max_length,\n",
        "                truncation=True,\n",
        "                return_tensors=\"pt\"\n",
        "            )\n",
        "            datadict = {\n",
        "                'input_ids': input_ids.squeeze(0),\n",
        "                'token_type_ids': torch.tensor(token_type_ids),\n",
        "                'attention_mask': torch.tensor(attention_mask)\n",
        "            }\n",
        "            self.texts.append(datadict)\n",
        "\n",
        "    def classes(self):\n",
        "        return self.labels\n",
        "\n",
        "    def __len__(self):\n",
        "        return len(self.labels)\n",
        "\n",
        "    def __getitem__(self, idx):\n",
        "        batch_text = self.texts[idx]\n",
        "        batch_y = self.labels[idx]\n",
        "        return batch_text, batch_y\n",
        "\n",
        "\n",
        "class BertClassifier(nn.Module):\n",
        "\n",
        "    def __init__(self, load_path = None, dropout=0.5):\n",
        "\n",
        "        super(BertClassifier, self).__init__()\n",
        "\n",
        "        self.bert = BertModel.from_pretrained(os.path.join(ROOT_PATH, load_path))\n",
        "        self.bert = BertModel.from_pretrained(load_path)\n",
        "\n",
        "        self.bert = BertModel.from_pretrained(\"bert-base-uncased\")\n",
        "        self.dropout = nn.Dropout(dropout)\n",
        "        self.linear = nn.Linear(768, NUM_LABELS)\n",
        "\n",
        "        self.softmax = nn.Softmax(dim = 1)\n",
        "\n",
        "    def forward(self, input_id, mask, token_type_id):\n",
        "        _, pooled_output = self.bert(input_ids= input_id, attention_mask = mask, token_type_ids = token_type_id,return_dict = False)\n",
        "\n",
        "        dropout_output = self.dropout(pooled_output)\n",
        "\n",
        "        linear_output = self.linear(dropout_output)\n",
        "\n",
        "        final_layer = self.softmax(linear_output)\n",
        "\n",
        "        return final_layer\n",
        "\n",
        "    def save(self, save_dir, tokenizer, model_name = \"model_bert.pt\"):\n",
        "\n",
        "        os.makedirs(save_dir, exist_ok=True)\n",
        "        # Save model weights\n",
        "        model_path = os.path.join(save_dir, model_name)\n",
        "        torch.save(self.state_dict(), model_path)\n",
        "        self.bert.save_pretrained(save_dir)\n",
        "\n",
        "        # Save tokenizer\n",
        "        tokenizer.save_pretrained(save_dir)\n",
        "\n",
        "        # Save other related information\n",
        "        config_path = os.path.join(save_dir, \"config.json\")\n",
        "        self.bert.config.to_json_file(config_path)\n",
        "\n",
        "    def load(self, load_dir, is_eval = True, model_name = \"model_bert.pt\"):\n",
        "        # Load tokenizer\n",
        "        tokenizer = BertTokenizer.from_pretrained(load_dir)\n",
        "\n",
        "        # Load other related information\n",
        "        config_path = os.path.join(load_dir, \"config.json\")\n",
        "        config = BertConfig.from_json_file(config_path)\n",
        "        self.bert = BertModel(config)\n",
        "        if is_eval:\n",
        "            self.bert.eval()  # Set to evaluation mode\n",
        "\n",
        "        # Load model weights\n",
        "        model_path = os.path.join(load_dir, model_name)\n",
        "        self.load_state_dict(torch.load(model_path))\n",
        "\n",
        "        # Update the tokenizer\n",
        "        self.bert.resize_token_embeddings(len(tokenizer))\n",
        "\n",
        "\n",
        "from tqdm import tqdm\n",
        "learning_rates = [1e-5] #[5e-6, 1e-5, 2e-5, 3e-5, 5e-5]\n",
        "batch_sizes = [8] #[16, 24, 32, 40]\n",
        "\n",
        "def train(model, train_data, val_data, learning_rate, epochs, batch_size):\n",
        "    #out_file.write(f\"-------------Starting with LR = {learning_rate} and BS = {batch_size}-----------------\\n\")\n",
        "    best_acc_val = -99999\n",
        "\n",
        "    train, val = Dataset(train_data), Dataset(val_data)\n",
        "\n",
        "    train_dataloader = torch.utils.data.DataLoader(train, batch_size=batch_size, shuffle=True)\n",
        "    val_dataloader = torch.utils.data.DataLoader(val, batch_size=batch_size)\n",
        "\n",
        "    use_cuda = torch.cuda.is_available()\n",
        "    device = torch.device(\"cuda\" if use_cuda else \"cpu\")\n",
        "\n",
        "    criterion = nn.CrossEntropyLoss()\n",
        "    optimizer = AdamW(model.parameters(), lr= learning_rate)\n",
        "\n",
        "    if use_cuda:\n",
        "        model = model.cuda()\n",
        "        criterion = criterion.cuda()\n",
        "\n",
        "    for epoch_num in range(epochs):\n",
        "\n",
        "        total_acc_train = 0\n",
        "        total_loss_train = 0\n",
        "\n",
        "        for train_input, train_label in tqdm(train_dataloader):\n",
        "                #print(train_input)\n",
        "                train_label = train_label.to(device)\n",
        "\n",
        "                input_id = train_input['input_ids'].squeeze(1).to(device)\n",
        "                mask = train_input['attention_mask'].squeeze(1).to(device)\n",
        "                token_type_id = train_input['token_type_ids'].squeeze(1).to(device)\n",
        "\n",
        "                output = model(input_id, mask, token_type_id)\n",
        "                #logits = output.logits #For BertForSequenceClassification\n",
        "                logits = output\n",
        "                print(f'training logits: {logits}')\n",
        "                print(\"training outputs\")\n",
        "                print(output)\n",
        "                optimizer.zero_grad()\n",
        "\n",
        "                batch_loss = criterion(logits, train_label.long())\n",
        "                total_loss_train += batch_loss.item()\n",
        "                print(f'prediction: {torch.argmax(logits, dim=1)}')\n",
        "                print(f\"train labels: {train_label}\")\n",
        "                acc = (torch.argmax(logits, dim=1) == train_label).sum().item()\n",
        "                total_acc_train += acc\n",
        "\n",
        "\n",
        "                batch_loss.backward()\n",
        "                optimizer.step()\n",
        "\n",
        "        total_acc_val = 0\n",
        "        total_loss_val = 0\n",
        "\n",
        "        with torch.no_grad():\n",
        "\n",
        "            for val_input, val_label in val_dataloader:\n",
        "\n",
        "                val_label = val_label.to(device)\n",
        "                input_id = val_input['input_ids'].squeeze(1).to(device)\n",
        "                mask = val_input['attention_mask'].squeeze(1).to(device)\n",
        "                token_type_id = val_input['token_type_ids'].squeeze(1).to(device)\n",
        "\n",
        "                output = model(input_id, mask, token_type_id)\n",
        "                #logits = output.logits #For BertForSequenceClassification\n",
        "                logits = output\n",
        "                print(val_label)\n",
        "                print(f'validating logits: {logits}')\n",
        "                print(f'prediction: {torch.argmax(logits, dim=1)}')\n",
        "\n",
        "                batch_loss = criterion(logits, val_label.long())\n",
        "                total_loss_val += batch_loss.item()\n",
        "                print(output)\n",
        "                acc = (torch.argmax(logits, dim=1) == val_label).sum().item()\n",
        "                total_acc_val += acc\n",
        "\n",
        "        print(\n",
        "            f'Epochs: {epoch_num + 1} | Train Loss: {total_loss_train / len(train_data): .3f} \\\n",
        "            | Train Accuracy: {total_acc_train / len(train_data): .3f} \\\n",
        "            | Val Loss: {total_loss_val / len(val_data): .3f} \\\n",
        "            | Val Accuracy: {total_acc_val / len(val_data): .3f}')\n",
        "\n",
        "        if(total_acc_val / len(val_data) > best_acc_val):\n",
        "            best_acc_val = total_acc_val / len(val_data)\n",
        "            model.bert.save_pretrained(os.path.join(ROOT_PATH,\"saved_models/finetune_p1/bert/\"))\n",
        "            tokenizer.save_pretrained(os.path.join(ROOT_PATH,\"saved_models/finetune_p1/bert/\"))\n",
        "\n",
        "            model.save(save_dir = os.path.join(ROOT_PATH, SAVE_MODEL_AT), tokenizer = tokenizer)\n",
        "            print(\"Found a better model\")\n",
        "            model.save(save_dir = SAVE_MODEL_AT, tokenizer = tokenizer)\n",
        "\n",
        "EPOCHS = 8\n",
        "for LR in learning_rates:\n",
        "    for bs in batch_sizes:\n",
        "        model = BertForSequenceClassification.from_pretrained(\"bert-base-uncased\", num_labels = NUM_LABELS)\n",
        "        model = BertClassifier(load_path = PRETRAINED_PATH)\n",
        "        train(model, df_train, df_dev, LR, EPOCHS, bs)\n",
        "\n"
      ],
      "metadata": {
        "colab": {
          "base_uri": "https://localhost:8080/"
        },
        "id": "Xf3ao6oOsnnx",
        "outputId": "fb64b961-2bfa-4461-e96b-c50e726bc083"
      },
      "execution_count": 21,
      "outputs": [
        {
          "output_type": "stream",
          "name": "stderr",
          "text": [
            "Some weights of BertModel were not initialized from the model checkpoint at ./Pretrained Models/bert_weights/ and are newly initialized: ['bert.pooler.dense.bias', 'bert.pooler.dense.weight']\n",
            "You should probably TRAIN this model on a down-stream task to be able to use it for predictions and inference.\n",
            "Some weights of BertForSequenceClassification were not initialized from the model checkpoint at bert-base-uncased and are newly initialized: ['classifier.bias', 'classifier.weight']\n",
            "You should probably TRAIN this model on a down-stream task to be able to use it for predictions and inference.\n",
            "Some weights of BertModel were not initialized from the model checkpoint at /content/cellularlint-codes/Pretrained Models/bert_weights and are newly initialized: ['bert.pooler.dense.bias', 'bert.pooler.dense.weight']\n",
            "You should probably TRAIN this model on a down-stream task to be able to use it for predictions and inference.\n",
            "Some weights of BertModel were not initialized from the model checkpoint at /content/cellularlint-codes/Pretrained Models/bert_weights and are newly initialized: ['bert.pooler.dense.bias', 'bert.pooler.dense.weight']\n",
            "You should probably TRAIN this model on a down-stream task to be able to use it for predictions and inference.\n",
            "/usr/local/lib/python3.11/dist-packages/transformers/optimization.py:591: FutureWarning: This implementation of AdamW is deprecated and will be removed in a future version. Use the PyTorch implementation torch.optim.AdamW instead, or set `no_deprecation_warning=True` to disable this warning\n",
            "  warnings.warn(\n",
            "  0%|          | 0/63 [00:00<?, ?it/s]"
          ]
        },
        {
          "output_type": "stream",
          "name": "stdout",
          "text": [
            "training logits: tensor([[0.2372, 0.2502, 0.5126],\n",
            "        [0.1687, 0.2285, 0.6028],\n",
            "        [0.2515, 0.1548, 0.5937],\n",
            "        [0.0563, 0.1504, 0.7933],\n",
            "        [0.1208, 0.1972, 0.6820],\n",
            "        [0.3632, 0.1407, 0.4961],\n",
            "        [0.1546, 0.1917, 0.6537],\n",
            "        [0.4178, 0.2227, 0.3595]], device='cuda:0', grad_fn=<SoftmaxBackward0>)\n",
            "training outputs\n",
            "tensor([[0.2372, 0.2502, 0.5126],\n",
            "        [0.1687, 0.2285, 0.6028],\n",
            "        [0.2515, 0.1548, 0.5937],\n",
            "        [0.0563, 0.1504, 0.7933],\n",
            "        [0.1208, 0.1972, 0.6820],\n",
            "        [0.3632, 0.1407, 0.4961],\n",
            "        [0.1546, 0.1917, 0.6537],\n",
            "        [0.4178, 0.2227, 0.3595]], device='cuda:0', grad_fn=<SoftmaxBackward0>)\n",
            "prediction: tensor([2, 2, 2, 2, 2, 2, 2, 0], device='cuda:0')\n",
            "train labels: tensor([1, 2, 1, 2, 2, 2, 2, 1], device='cuda:0')\n"
          ]
        },
        {
          "output_type": "stream",
          "name": "stderr",
          "text": [
            "\r  2%|▏         | 1/63 [00:00<00:46,  1.34it/s]"
          ]
        },
        {
          "output_type": "stream",
          "name": "stdout",
          "text": [
            "training logits: tensor([[0.3740, 0.1057, 0.5203],\n",
            "        [0.2447, 0.1343, 0.6210],\n",
            "        [0.2817, 0.3015, 0.4168],\n",
            "        [0.2434, 0.0689, 0.6877],\n",
            "        [0.3867, 0.1363, 0.4769],\n",
            "        [0.1566, 0.0598, 0.7836],\n",
            "        [0.2240, 0.1736, 0.6024],\n",
            "        [0.2571, 0.1343, 0.6086]], device='cuda:0', grad_fn=<SoftmaxBackward0>)\n",
            "training outputs\n",
            "tensor([[0.3740, 0.1057, 0.5203],\n",
            "        [0.2447, 0.1343, 0.6210],\n",
            "        [0.2817, 0.3015, 0.4168],\n",
            "        [0.2434, 0.0689, 0.6877],\n",
            "        [0.3867, 0.1363, 0.4769],\n",
            "        [0.1566, 0.0598, 0.7836],\n",
            "        [0.2240, 0.1736, 0.6024],\n",
            "        [0.2571, 0.1343, 0.6086]], device='cuda:0', grad_fn=<SoftmaxBackward0>)\n",
            "prediction: tensor([2, 2, 2, 2, 2, 2, 2, 2], device='cuda:0')\n",
            "train labels: tensor([2, 1, 1, 1, 1, 1, 1, 2], device='cuda:0')\n"
          ]
        },
        {
          "output_type": "stream",
          "name": "stderr",
          "text": [
            "\r  3%|▎         | 2/63 [00:01<00:42,  1.43it/s]"
          ]
        },
        {
          "output_type": "stream",
          "name": "stdout",
          "text": [
            "training logits: tensor([[0.2321, 0.0945, 0.6735],\n",
            "        [0.3468, 0.2076, 0.4456],\n",
            "        [0.1293, 0.0623, 0.8083],\n",
            "        [0.2189, 0.1308, 0.6504],\n",
            "        [0.1824, 0.1239, 0.6937],\n",
            "        [0.0743, 0.1764, 0.7493],\n",
            "        [0.2541, 0.2636, 0.4823],\n",
            "        [0.4069, 0.0798, 0.5133]], device='cuda:0', grad_fn=<SoftmaxBackward0>)\n",
            "training outputs\n",
            "tensor([[0.2321, 0.0945, 0.6735],\n",
            "        [0.3468, 0.2076, 0.4456],\n",
            "        [0.1293, 0.0623, 0.8083],\n",
            "        [0.2189, 0.1308, 0.6504],\n",
            "        [0.1824, 0.1239, 0.6937],\n",
            "        [0.0743, 0.1764, 0.7493],\n",
            "        [0.2541, 0.2636, 0.4823],\n",
            "        [0.4069, 0.0798, 0.5133]], device='cuda:0', grad_fn=<SoftmaxBackward0>)\n",
            "prediction: tensor([2, 2, 2, 2, 2, 2, 2, 2], device='cuda:0')\n",
            "train labels: tensor([1, 0, 1, 0, 2, 0, 1, 1], device='cuda:0')\n"
          ]
        },
        {
          "output_type": "stream",
          "name": "stderr",
          "text": [
            "\r  5%|▍         | 3/63 [00:02<00:41,  1.45it/s]"
          ]
        },
        {
          "output_type": "stream",
          "name": "stdout",
          "text": [
            "training logits: tensor([[0.2665, 0.1170, 0.6165],\n",
            "        [0.1920, 0.2876, 0.5204],\n",
            "        [0.3360, 0.2807, 0.3833],\n",
            "        [0.2857, 0.1518, 0.5625],\n",
            "        [0.3115, 0.3077, 0.3808],\n",
            "        [0.1563, 0.0699, 0.7738],\n",
            "        [0.2986, 0.2609, 0.4406],\n",
            "        [0.1389, 0.2030, 0.6581]], device='cuda:0', grad_fn=<SoftmaxBackward0>)\n",
            "training outputs\n",
            "tensor([[0.2665, 0.1170, 0.6165],\n",
            "        [0.1920, 0.2876, 0.5204],\n",
            "        [0.3360, 0.2807, 0.3833],\n",
            "        [0.2857, 0.1518, 0.5625],\n",
            "        [0.3115, 0.3077, 0.3808],\n",
            "        [0.1563, 0.0699, 0.7738],\n",
            "        [0.2986, 0.2609, 0.4406],\n",
            "        [0.1389, 0.2030, 0.6581]], device='cuda:0', grad_fn=<SoftmaxBackward0>)\n",
            "prediction: tensor([2, 2, 2, 2, 2, 2, 2, 2], device='cuda:0')\n",
            "train labels: tensor([0, 1, 1, 2, 1, 1, 0, 0], device='cuda:0')\n"
          ]
        },
        {
          "output_type": "stream",
          "name": "stderr",
          "text": [
            "\r  6%|▋         | 4/63 [00:02<00:40,  1.46it/s]"
          ]
        },
        {
          "output_type": "stream",
          "name": "stdout",
          "text": [
            "training logits: tensor([[0.1850, 0.2710, 0.5440],\n",
            "        [0.2790, 0.3887, 0.3323],\n",
            "        [0.1769, 0.3502, 0.4729],\n",
            "        [0.2179, 0.0819, 0.7002],\n",
            "        [0.1209, 0.2117, 0.6673],\n",
            "        [0.1692, 0.3643, 0.4665],\n",
            "        [0.3076, 0.2097, 0.4827],\n",
            "        [0.3558, 0.1213, 0.5228]], device='cuda:0', grad_fn=<SoftmaxBackward0>)\n",
            "training outputs\n",
            "tensor([[0.1850, 0.2710, 0.5440],\n",
            "        [0.2790, 0.3887, 0.3323],\n",
            "        [0.1769, 0.3502, 0.4729],\n",
            "        [0.2179, 0.0819, 0.7002],\n",
            "        [0.1209, 0.2117, 0.6673],\n",
            "        [0.1692, 0.3643, 0.4665],\n",
            "        [0.3076, 0.2097, 0.4827],\n",
            "        [0.3558, 0.1213, 0.5228]], device='cuda:0', grad_fn=<SoftmaxBackward0>)\n",
            "prediction: tensor([2, 1, 2, 2, 2, 2, 2, 2], device='cuda:0')\n",
            "train labels: tensor([0, 1, 0, 1, 2, 1, 0, 1], device='cuda:0')\n"
          ]
        },
        {
          "output_type": "stream",
          "name": "stderr",
          "text": [
            "\r  8%|▊         | 5/63 [00:03<00:39,  1.47it/s]"
          ]
        },
        {
          "output_type": "stream",
          "name": "stdout",
          "text": [
            "training logits: tensor([[0.1677, 0.4307, 0.4016],\n",
            "        [0.3174, 0.1882, 0.4944],\n",
            "        [0.2456, 0.1914, 0.5629],\n",
            "        [0.3674, 0.2582, 0.3744],\n",
            "        [0.1330, 0.1052, 0.7619],\n",
            "        [0.0847, 0.0742, 0.8412],\n",
            "        [0.1478, 0.1637, 0.6885],\n",
            "        [0.2296, 0.1853, 0.5851]], device='cuda:0', grad_fn=<SoftmaxBackward0>)\n",
            "training outputs\n",
            "tensor([[0.1677, 0.4307, 0.4016],\n",
            "        [0.3174, 0.1882, 0.4944],\n",
            "        [0.2456, 0.1914, 0.5629],\n",
            "        [0.3674, 0.2582, 0.3744],\n",
            "        [0.1330, 0.1052, 0.7619],\n",
            "        [0.0847, 0.0742, 0.8412],\n",
            "        [0.1478, 0.1637, 0.6885],\n",
            "        [0.2296, 0.1853, 0.5851]], device='cuda:0', grad_fn=<SoftmaxBackward0>)\n",
            "prediction: tensor([1, 2, 2, 2, 2, 2, 2, 2], device='cuda:0')\n",
            "train labels: tensor([2, 0, 2, 1, 2, 1, 2, 1], device='cuda:0')\n"
          ]
        },
        {
          "output_type": "stream",
          "name": "stderr",
          "text": [
            "\r 10%|▉         | 6/63 [00:04<00:38,  1.47it/s]"
          ]
        },
        {
          "output_type": "stream",
          "name": "stdout",
          "text": [
            "training logits: tensor([[0.2593, 0.1570, 0.5838],\n",
            "        [0.0905, 0.1001, 0.8094],\n",
            "        [0.1228, 0.4290, 0.4482],\n",
            "        [0.1473, 0.3200, 0.5327],\n",
            "        [0.0504, 0.1729, 0.7767],\n",
            "        [0.3418, 0.1496, 0.5086],\n",
            "        [0.1874, 0.2437, 0.5689],\n",
            "        [0.0838, 0.1269, 0.7893]], device='cuda:0', grad_fn=<SoftmaxBackward0>)\n",
            "training outputs\n",
            "tensor([[0.2593, 0.1570, 0.5838],\n",
            "        [0.0905, 0.1001, 0.8094],\n",
            "        [0.1228, 0.4290, 0.4482],\n",
            "        [0.1473, 0.3200, 0.5327],\n",
            "        [0.0504, 0.1729, 0.7767],\n",
            "        [0.3418, 0.1496, 0.5086],\n",
            "        [0.1874, 0.2437, 0.5689],\n",
            "        [0.0838, 0.1269, 0.7893]], device='cuda:0', grad_fn=<SoftmaxBackward0>)\n",
            "prediction: tensor([2, 2, 2, 2, 2, 2, 2, 2], device='cuda:0')\n",
            "train labels: tensor([0, 0, 1, 1, 1, 2, 0, 1], device='cuda:0')\n"
          ]
        },
        {
          "output_type": "stream",
          "name": "stderr",
          "text": [
            "\r 11%|█         | 7/63 [00:04<00:38,  1.47it/s]"
          ]
        },
        {
          "output_type": "stream",
          "name": "stdout",
          "text": [
            "training logits: tensor([[0.1783, 0.1870, 0.6347],\n",
            "        [0.2974, 0.2956, 0.4070],\n",
            "        [0.0733, 0.1186, 0.8082],\n",
            "        [0.2334, 0.1827, 0.5839],\n",
            "        [0.0964, 0.1055, 0.7981],\n",
            "        [0.1544, 0.3019, 0.5437],\n",
            "        [0.1453, 0.4520, 0.4027],\n",
            "        [0.2292, 0.2783, 0.4925]], device='cuda:0', grad_fn=<SoftmaxBackward0>)\n",
            "training outputs\n",
            "tensor([[0.1783, 0.1870, 0.6347],\n",
            "        [0.2974, 0.2956, 0.4070],\n",
            "        [0.0733, 0.1186, 0.8082],\n",
            "        [0.2334, 0.1827, 0.5839],\n",
            "        [0.0964, 0.1055, 0.7981],\n",
            "        [0.1544, 0.3019, 0.5437],\n",
            "        [0.1453, 0.4520, 0.4027],\n",
            "        [0.2292, 0.2783, 0.4925]], device='cuda:0', grad_fn=<SoftmaxBackward0>)\n",
            "prediction: tensor([2, 2, 2, 2, 2, 2, 1, 2], device='cuda:0')\n",
            "train labels: tensor([0, 1, 0, 0, 2, 0, 0, 0], device='cuda:0')\n"
          ]
        },
        {
          "output_type": "stream",
          "name": "stderr",
          "text": [
            "\r 13%|█▎        | 8/63 [00:05<00:37,  1.47it/s]"
          ]
        },
        {
          "output_type": "stream",
          "name": "stdout",
          "text": [
            "training logits: tensor([[0.2703, 0.2763, 0.4534],\n",
            "        [0.3092, 0.3217, 0.3691],\n",
            "        [0.6027, 0.2182, 0.1791],\n",
            "        [0.1697, 0.1666, 0.6637],\n",
            "        [0.4237, 0.1613, 0.4149],\n",
            "        [0.1958, 0.1150, 0.6892],\n",
            "        [0.2455, 0.2291, 0.5254],\n",
            "        [0.4629, 0.0942, 0.4429]], device='cuda:0', grad_fn=<SoftmaxBackward0>)\n",
            "training outputs\n",
            "tensor([[0.2703, 0.2763, 0.4534],\n",
            "        [0.3092, 0.3217, 0.3691],\n",
            "        [0.6027, 0.2182, 0.1791],\n",
            "        [0.1697, 0.1666, 0.6637],\n",
            "        [0.4237, 0.1613, 0.4149],\n",
            "        [0.1958, 0.1150, 0.6892],\n",
            "        [0.2455, 0.2291, 0.5254],\n",
            "        [0.4629, 0.0942, 0.4429]], device='cuda:0', grad_fn=<SoftmaxBackward0>)\n",
            "prediction: tensor([2, 2, 0, 2, 0, 2, 2, 0], device='cuda:0')\n",
            "train labels: tensor([1, 0, 1, 2, 2, 0, 2, 0], device='cuda:0')\n"
          ]
        },
        {
          "output_type": "stream",
          "name": "stderr",
          "text": [
            "\r 14%|█▍        | 9/63 [00:06<00:36,  1.47it/s]"
          ]
        },
        {
          "output_type": "stream",
          "name": "stdout",
          "text": [
            "training logits: tensor([[0.2629, 0.0909, 0.6462],\n",
            "        [0.2626, 0.3978, 0.3396],\n",
            "        [0.1672, 0.2477, 0.5851],\n",
            "        [0.2928, 0.2021, 0.5051],\n",
            "        [0.3412, 0.3880, 0.2708],\n",
            "        [0.2347, 0.0963, 0.6690],\n",
            "        [0.1583, 0.1473, 0.6944],\n",
            "        [0.1232, 0.1994, 0.6774]], device='cuda:0', grad_fn=<SoftmaxBackward0>)\n",
            "training outputs\n",
            "tensor([[0.2629, 0.0909, 0.6462],\n",
            "        [0.2626, 0.3978, 0.3396],\n",
            "        [0.1672, 0.2477, 0.5851],\n",
            "        [0.2928, 0.2021, 0.5051],\n",
            "        [0.3412, 0.3880, 0.2708],\n",
            "        [0.2347, 0.0963, 0.6690],\n",
            "        [0.1583, 0.1473, 0.6944],\n",
            "        [0.1232, 0.1994, 0.6774]], device='cuda:0', grad_fn=<SoftmaxBackward0>)\n",
            "prediction: tensor([2, 1, 2, 2, 1, 2, 2, 2], device='cuda:0')\n",
            "train labels: tensor([0, 0, 0, 0, 1, 0, 2, 1], device='cuda:0')\n"
          ]
        },
        {
          "output_type": "stream",
          "name": "stderr",
          "text": [
            "\r 16%|█▌        | 10/63 [00:06<00:36,  1.47it/s]"
          ]
        },
        {
          "output_type": "stream",
          "name": "stdout",
          "text": [
            "training logits: tensor([[0.2002, 0.3362, 0.4636],\n",
            "        [0.1564, 0.1728, 0.6707],\n",
            "        [0.0641, 0.1520, 0.7840],\n",
            "        [0.3060, 0.1780, 0.5161],\n",
            "        [0.2038, 0.1519, 0.6442],\n",
            "        [0.2407, 0.3625, 0.3967],\n",
            "        [0.3007, 0.2821, 0.4172],\n",
            "        [0.3769, 0.2846, 0.3385]], device='cuda:0', grad_fn=<SoftmaxBackward0>)\n",
            "training outputs\n",
            "tensor([[0.2002, 0.3362, 0.4636],\n",
            "        [0.1564, 0.1728, 0.6707],\n",
            "        [0.0641, 0.1520, 0.7840],\n",
            "        [0.3060, 0.1780, 0.5161],\n",
            "        [0.2038, 0.1519, 0.6442],\n",
            "        [0.2407, 0.3625, 0.3967],\n",
            "        [0.3007, 0.2821, 0.4172],\n",
            "        [0.3769, 0.2846, 0.3385]], device='cuda:0', grad_fn=<SoftmaxBackward0>)\n",
            "prediction: tensor([2, 2, 2, 2, 2, 2, 2, 0], device='cuda:0')\n",
            "train labels: tensor([1, 0, 0, 2, 1, 0, 0, 2], device='cuda:0')\n"
          ]
        },
        {
          "output_type": "stream",
          "name": "stderr",
          "text": [
            "\r 17%|█▋        | 11/63 [00:07<00:35,  1.47it/s]"
          ]
        },
        {
          "output_type": "stream",
          "name": "stdout",
          "text": [
            "training logits: tensor([[0.0913, 0.2837, 0.6250],\n",
            "        [0.3114, 0.0877, 0.6008],\n",
            "        [0.3658, 0.1288, 0.5054],\n",
            "        [0.1770, 0.3006, 0.5225],\n",
            "        [0.1089, 0.1384, 0.7527],\n",
            "        [0.0905, 0.1179, 0.7916],\n",
            "        [0.2158, 0.3581, 0.4261],\n",
            "        [0.1635, 0.1779, 0.6585]], device='cuda:0', grad_fn=<SoftmaxBackward0>)\n",
            "training outputs\n",
            "tensor([[0.0913, 0.2837, 0.6250],\n",
            "        [0.3114, 0.0877, 0.6008],\n",
            "        [0.3658, 0.1288, 0.5054],\n",
            "        [0.1770, 0.3006, 0.5225],\n",
            "        [0.1089, 0.1384, 0.7527],\n",
            "        [0.0905, 0.1179, 0.7916],\n",
            "        [0.2158, 0.3581, 0.4261],\n",
            "        [0.1635, 0.1779, 0.6585]], device='cuda:0', grad_fn=<SoftmaxBackward0>)\n",
            "prediction: tensor([2, 2, 2, 2, 2, 2, 2, 2], device='cuda:0')\n",
            "train labels: tensor([2, 1, 2, 2, 1, 1, 0, 0], device='cuda:0')\n"
          ]
        },
        {
          "output_type": "stream",
          "name": "stderr",
          "text": [
            "\r 19%|█▉        | 12/63 [00:08<00:34,  1.47it/s]"
          ]
        },
        {
          "output_type": "stream",
          "name": "stdout",
          "text": [
            "training logits: tensor([[0.1348, 0.1499, 0.7153],\n",
            "        [0.2400, 0.3157, 0.4443],\n",
            "        [0.1713, 0.1115, 0.7172],\n",
            "        [0.3616, 0.1555, 0.4829],\n",
            "        [0.1274, 0.3737, 0.4989],\n",
            "        [0.0683, 0.0939, 0.8378],\n",
            "        [0.3283, 0.1421, 0.5295],\n",
            "        [0.2412, 0.2589, 0.4999]], device='cuda:0', grad_fn=<SoftmaxBackward0>)\n",
            "training outputs\n",
            "tensor([[0.1348, 0.1499, 0.7153],\n",
            "        [0.2400, 0.3157, 0.4443],\n",
            "        [0.1713, 0.1115, 0.7172],\n",
            "        [0.3616, 0.1555, 0.4829],\n",
            "        [0.1274, 0.3737, 0.4989],\n",
            "        [0.0683, 0.0939, 0.8378],\n",
            "        [0.3283, 0.1421, 0.5295],\n",
            "        [0.2412, 0.2589, 0.4999]], device='cuda:0', grad_fn=<SoftmaxBackward0>)\n",
            "prediction: tensor([2, 2, 2, 2, 2, 2, 2, 2], device='cuda:0')\n",
            "train labels: tensor([0, 2, 1, 0, 2, 2, 2, 1], device='cuda:0')\n"
          ]
        },
        {
          "output_type": "stream",
          "name": "stderr",
          "text": [
            "\r 21%|██        | 13/63 [00:08<00:34,  1.47it/s]"
          ]
        },
        {
          "output_type": "stream",
          "name": "stdout",
          "text": [
            "training logits: tensor([[0.2889, 0.2382, 0.4729],\n",
            "        [0.2643, 0.1404, 0.5953],\n",
            "        [0.1346, 0.1516, 0.7137],\n",
            "        [0.0466, 0.1146, 0.8389],\n",
            "        [0.1215, 0.3083, 0.5702],\n",
            "        [0.0994, 0.3944, 0.5062],\n",
            "        [0.4102, 0.1674, 0.4224],\n",
            "        [0.3047, 0.1394, 0.5559]], device='cuda:0', grad_fn=<SoftmaxBackward0>)\n",
            "training outputs\n",
            "tensor([[0.2889, 0.2382, 0.4729],\n",
            "        [0.2643, 0.1404, 0.5953],\n",
            "        [0.1346, 0.1516, 0.7137],\n",
            "        [0.0466, 0.1146, 0.8389],\n",
            "        [0.1215, 0.3083, 0.5702],\n",
            "        [0.0994, 0.3944, 0.5062],\n",
            "        [0.4102, 0.1674, 0.4224],\n",
            "        [0.3047, 0.1394, 0.5559]], device='cuda:0', grad_fn=<SoftmaxBackward0>)\n",
            "prediction: tensor([2, 2, 2, 2, 2, 2, 2, 2], device='cuda:0')\n",
            "train labels: tensor([2, 1, 1, 2, 0, 1, 1, 0], device='cuda:0')\n"
          ]
        },
        {
          "output_type": "stream",
          "name": "stderr",
          "text": [
            "\r 22%|██▏       | 14/63 [00:09<00:33,  1.46it/s]"
          ]
        },
        {
          "output_type": "stream",
          "name": "stdout",
          "text": [
            "training logits: tensor([[0.0474, 0.1794, 0.7732],\n",
            "        [0.2704, 0.2622, 0.4673],\n",
            "        [0.2385, 0.3129, 0.4485],\n",
            "        [0.3205, 0.0727, 0.6068],\n",
            "        [0.3212, 0.1196, 0.5592],\n",
            "        [0.3059, 0.1171, 0.5770],\n",
            "        [0.2979, 0.2343, 0.4678],\n",
            "        [0.1023, 0.3184, 0.5792]], device='cuda:0', grad_fn=<SoftmaxBackward0>)\n",
            "training outputs\n",
            "tensor([[0.0474, 0.1794, 0.7732],\n",
            "        [0.2704, 0.2622, 0.4673],\n",
            "        [0.2385, 0.3129, 0.4485],\n",
            "        [0.3205, 0.0727, 0.6068],\n",
            "        [0.3212, 0.1196, 0.5592],\n",
            "        [0.3059, 0.1171, 0.5770],\n",
            "        [0.2979, 0.2343, 0.4678],\n",
            "        [0.1023, 0.3184, 0.5792]], device='cuda:0', grad_fn=<SoftmaxBackward0>)\n",
            "prediction: tensor([2, 2, 2, 2, 2, 2, 2, 2], device='cuda:0')\n",
            "train labels: tensor([0, 1, 2, 1, 2, 2, 2, 0], device='cuda:0')\n"
          ]
        },
        {
          "output_type": "stream",
          "name": "stderr",
          "text": [
            "\r 24%|██▍       | 15/63 [00:10<00:32,  1.46it/s]"
          ]
        },
        {
          "output_type": "stream",
          "name": "stdout",
          "text": [
            "training logits: tensor([[0.3551, 0.1899, 0.4551],\n",
            "        [0.2201, 0.3168, 0.4631],\n",
            "        [0.2831, 0.4996, 0.2173],\n",
            "        [0.2599, 0.2025, 0.5375],\n",
            "        [0.1449, 0.4880, 0.3671],\n",
            "        [0.1425, 0.4609, 0.3966],\n",
            "        [0.2227, 0.3289, 0.4484],\n",
            "        [0.2374, 0.5059, 0.2567]], device='cuda:0', grad_fn=<SoftmaxBackward0>)\n",
            "training outputs\n",
            "tensor([[0.3551, 0.1899, 0.4551],\n",
            "        [0.2201, 0.3168, 0.4631],\n",
            "        [0.2831, 0.4996, 0.2173],\n",
            "        [0.2599, 0.2025, 0.5375],\n",
            "        [0.1449, 0.4880, 0.3671],\n",
            "        [0.1425, 0.4609, 0.3966],\n",
            "        [0.2227, 0.3289, 0.4484],\n",
            "        [0.2374, 0.5059, 0.2567]], device='cuda:0', grad_fn=<SoftmaxBackward0>)\n",
            "prediction: tensor([2, 2, 1, 2, 1, 1, 2, 1], device='cuda:0')\n",
            "train labels: tensor([1, 1, 2, 1, 0, 0, 1, 0], device='cuda:0')\n"
          ]
        },
        {
          "output_type": "stream",
          "name": "stderr",
          "text": [
            "\r 25%|██▌       | 16/63 [00:10<00:32,  1.46it/s]"
          ]
        },
        {
          "output_type": "stream",
          "name": "stdout",
          "text": [
            "training logits: tensor([[0.3779, 0.1459, 0.4761],\n",
            "        [0.2280, 0.2619, 0.5101],\n",
            "        [0.3255, 0.2826, 0.3920],\n",
            "        [0.3311, 0.2359, 0.4331],\n",
            "        [0.1598, 0.0778, 0.7624],\n",
            "        [0.3919, 0.4806, 0.1275],\n",
            "        [0.2848, 0.0604, 0.6548],\n",
            "        [0.1409, 0.1575, 0.7016]], device='cuda:0', grad_fn=<SoftmaxBackward0>)\n",
            "training outputs\n",
            "tensor([[0.3779, 0.1459, 0.4761],\n",
            "        [0.2280, 0.2619, 0.5101],\n",
            "        [0.3255, 0.2826, 0.3920],\n",
            "        [0.3311, 0.2359, 0.4331],\n",
            "        [0.1598, 0.0778, 0.7624],\n",
            "        [0.3919, 0.4806, 0.1275],\n",
            "        [0.2848, 0.0604, 0.6548],\n",
            "        [0.1409, 0.1575, 0.7016]], device='cuda:0', grad_fn=<SoftmaxBackward0>)\n",
            "prediction: tensor([2, 2, 2, 2, 2, 1, 2, 2], device='cuda:0')\n",
            "train labels: tensor([2, 1, 2, 0, 0, 1, 0, 1], device='cuda:0')\n"
          ]
        },
        {
          "output_type": "stream",
          "name": "stderr",
          "text": [
            "\r 27%|██▋       | 17/63 [00:11<00:31,  1.46it/s]"
          ]
        },
        {
          "output_type": "stream",
          "name": "stdout",
          "text": [
            "training logits: tensor([[0.3703, 0.3006, 0.3291],\n",
            "        [0.4395, 0.1136, 0.4469],\n",
            "        [0.2272, 0.5974, 0.1754],\n",
            "        [0.2704, 0.2338, 0.4958],\n",
            "        [0.1667, 0.0629, 0.7704],\n",
            "        [0.1426, 0.3686, 0.4888],\n",
            "        [0.3210, 0.3737, 0.3053],\n",
            "        [0.1739, 0.2864, 0.5397]], device='cuda:0', grad_fn=<SoftmaxBackward0>)\n",
            "training outputs\n",
            "tensor([[0.3703, 0.3006, 0.3291],\n",
            "        [0.4395, 0.1136, 0.4469],\n",
            "        [0.2272, 0.5974, 0.1754],\n",
            "        [0.2704, 0.2338, 0.4958],\n",
            "        [0.1667, 0.0629, 0.7704],\n",
            "        [0.1426, 0.3686, 0.4888],\n",
            "        [0.3210, 0.3737, 0.3053],\n",
            "        [0.1739, 0.2864, 0.5397]], device='cuda:0', grad_fn=<SoftmaxBackward0>)\n",
            "prediction: tensor([0, 2, 1, 2, 2, 2, 1, 2], device='cuda:0')\n",
            "train labels: tensor([0, 0, 2, 0, 1, 2, 2, 1], device='cuda:0')\n"
          ]
        },
        {
          "output_type": "stream",
          "name": "stderr",
          "text": [
            "\r 29%|██▊       | 18/63 [00:12<00:30,  1.45it/s]"
          ]
        },
        {
          "output_type": "stream",
          "name": "stdout",
          "text": [
            "training logits: tensor([[0.1465, 0.2582, 0.5953],\n",
            "        [0.2927, 0.3890, 0.3184],\n",
            "        [0.1693, 0.2869, 0.5438],\n",
            "        [0.1261, 0.1354, 0.7386],\n",
            "        [0.1967, 0.2621, 0.5411],\n",
            "        [0.3686, 0.1387, 0.4927],\n",
            "        [0.2034, 0.4966, 0.3000],\n",
            "        [0.2923, 0.2575, 0.4502]], device='cuda:0', grad_fn=<SoftmaxBackward0>)\n",
            "training outputs\n",
            "tensor([[0.1465, 0.2582, 0.5953],\n",
            "        [0.2927, 0.3890, 0.3184],\n",
            "        [0.1693, 0.2869, 0.5438],\n",
            "        [0.1261, 0.1354, 0.7386],\n",
            "        [0.1967, 0.2621, 0.5411],\n",
            "        [0.3686, 0.1387, 0.4927],\n",
            "        [0.2034, 0.4966, 0.3000],\n",
            "        [0.2923, 0.2575, 0.4502]], device='cuda:0', grad_fn=<SoftmaxBackward0>)\n",
            "prediction: tensor([2, 1, 2, 2, 2, 2, 1, 2], device='cuda:0')\n",
            "train labels: tensor([1, 1, 2, 0, 1, 2, 0, 0], device='cuda:0')\n"
          ]
        },
        {
          "output_type": "stream",
          "name": "stderr",
          "text": [
            "\r 30%|███       | 19/63 [00:13<00:30,  1.45it/s]"
          ]
        },
        {
          "output_type": "stream",
          "name": "stdout",
          "text": [
            "training logits: tensor([[0.2995, 0.4106, 0.2898],\n",
            "        [0.1733, 0.1721, 0.6546],\n",
            "        [0.2179, 0.2648, 0.5173],\n",
            "        [0.2310, 0.4666, 0.3024],\n",
            "        [0.2619, 0.2697, 0.4684],\n",
            "        [0.4087, 0.2520, 0.3393],\n",
            "        [0.1885, 0.5170, 0.2945],\n",
            "        [0.1492, 0.1706, 0.6802]], device='cuda:0', grad_fn=<SoftmaxBackward0>)\n",
            "training outputs\n",
            "tensor([[0.2995, 0.4106, 0.2898],\n",
            "        [0.1733, 0.1721, 0.6546],\n",
            "        [0.2179, 0.2648, 0.5173],\n",
            "        [0.2310, 0.4666, 0.3024],\n",
            "        [0.2619, 0.2697, 0.4684],\n",
            "        [0.4087, 0.2520, 0.3393],\n",
            "        [0.1885, 0.5170, 0.2945],\n",
            "        [0.1492, 0.1706, 0.6802]], device='cuda:0', grad_fn=<SoftmaxBackward0>)\n",
            "prediction: tensor([1, 2, 2, 1, 2, 0, 1, 2], device='cuda:0')\n",
            "train labels: tensor([2, 2, 0, 1, 2, 1, 0, 2], device='cuda:0')\n"
          ]
        },
        {
          "output_type": "stream",
          "name": "stderr",
          "text": [
            "\r 32%|███▏      | 20/63 [00:13<00:29,  1.45it/s]"
          ]
        },
        {
          "output_type": "stream",
          "name": "stdout",
          "text": [
            "training logits: tensor([[0.3766, 0.2621, 0.3613],\n",
            "        [0.3398, 0.5528, 0.1075],\n",
            "        [0.2821, 0.4301, 0.2879],\n",
            "        [0.2773, 0.3779, 0.3448],\n",
            "        [0.1545, 0.4602, 0.3853],\n",
            "        [0.3556, 0.2981, 0.3462],\n",
            "        [0.4992, 0.1214, 0.3795],\n",
            "        [0.3467, 0.1900, 0.4632]], device='cuda:0', grad_fn=<SoftmaxBackward0>)\n",
            "training outputs\n",
            "tensor([[0.3766, 0.2621, 0.3613],\n",
            "        [0.3398, 0.5528, 0.1075],\n",
            "        [0.2821, 0.4301, 0.2879],\n",
            "        [0.2773, 0.3779, 0.3448],\n",
            "        [0.1545, 0.4602, 0.3853],\n",
            "        [0.3556, 0.2981, 0.3462],\n",
            "        [0.4992, 0.1214, 0.3795],\n",
            "        [0.3467, 0.1900, 0.4632]], device='cuda:0', grad_fn=<SoftmaxBackward0>)\n",
            "prediction: tensor([0, 1, 1, 1, 1, 0, 0, 2], device='cuda:0')\n",
            "train labels: tensor([0, 1, 0, 0, 0, 2, 1, 2], device='cuda:0')\n"
          ]
        },
        {
          "output_type": "stream",
          "name": "stderr",
          "text": [
            "\r 33%|███▎      | 21/63 [00:14<00:28,  1.45it/s]"
          ]
        },
        {
          "output_type": "stream",
          "name": "stdout",
          "text": [
            "training logits: tensor([[0.2290, 0.2486, 0.5223],\n",
            "        [0.2938, 0.2005, 0.5057],\n",
            "        [0.3220, 0.1038, 0.5741],\n",
            "        [0.1956, 0.5813, 0.2230],\n",
            "        [0.1082, 0.5190, 0.3728],\n",
            "        [0.3264, 0.3578, 0.3158],\n",
            "        [0.3036, 0.2271, 0.4694],\n",
            "        [0.1670, 0.1976, 0.6354]], device='cuda:0', grad_fn=<SoftmaxBackward0>)\n",
            "training outputs\n",
            "tensor([[0.2290, 0.2486, 0.5223],\n",
            "        [0.2938, 0.2005, 0.5057],\n",
            "        [0.3220, 0.1038, 0.5741],\n",
            "        [0.1956, 0.5813, 0.2230],\n",
            "        [0.1082, 0.5190, 0.3728],\n",
            "        [0.3264, 0.3578, 0.3158],\n",
            "        [0.3036, 0.2271, 0.4694],\n",
            "        [0.1670, 0.1976, 0.6354]], device='cuda:0', grad_fn=<SoftmaxBackward0>)\n",
            "prediction: tensor([2, 2, 2, 1, 1, 1, 2, 2], device='cuda:0')\n",
            "train labels: tensor([2, 0, 1, 1, 2, 1, 1, 2], device='cuda:0')\n"
          ]
        },
        {
          "output_type": "stream",
          "name": "stderr",
          "text": [
            "\r 35%|███▍      | 22/63 [00:15<00:28,  1.45it/s]"
          ]
        },
        {
          "output_type": "stream",
          "name": "stdout",
          "text": [
            "training logits: tensor([[0.1070, 0.0735, 0.8195],\n",
            "        [0.3026, 0.4827, 0.2147],\n",
            "        [0.2976, 0.4368, 0.2656],\n",
            "        [0.2507, 0.6261, 0.1232],\n",
            "        [0.2577, 0.2694, 0.4729],\n",
            "        [0.1449, 0.1518, 0.7033],\n",
            "        [0.4225, 0.2080, 0.3695],\n",
            "        [0.1681, 0.5523, 0.2795]], device='cuda:0', grad_fn=<SoftmaxBackward0>)\n",
            "training outputs\n",
            "tensor([[0.1070, 0.0735, 0.8195],\n",
            "        [0.3026, 0.4827, 0.2147],\n",
            "        [0.2976, 0.4368, 0.2656],\n",
            "        [0.2507, 0.6261, 0.1232],\n",
            "        [0.2577, 0.2694, 0.4729],\n",
            "        [0.1449, 0.1518, 0.7033],\n",
            "        [0.4225, 0.2080, 0.3695],\n",
            "        [0.1681, 0.5523, 0.2795]], device='cuda:0', grad_fn=<SoftmaxBackward0>)\n",
            "prediction: tensor([2, 1, 1, 1, 2, 2, 0, 1], device='cuda:0')\n",
            "train labels: tensor([2, 0, 0, 2, 1, 0, 1, 1], device='cuda:0')\n"
          ]
        },
        {
          "output_type": "stream",
          "name": "stderr",
          "text": [
            "\r 37%|███▋      | 23/63 [00:15<00:27,  1.45it/s]"
          ]
        },
        {
          "output_type": "stream",
          "name": "stdout",
          "text": [
            "training logits: tensor([[0.2651, 0.2372, 0.4977],\n",
            "        [0.2737, 0.4346, 0.2916],\n",
            "        [0.2152, 0.5233, 0.2615],\n",
            "        [0.1550, 0.4512, 0.3938],\n",
            "        [0.2146, 0.6141, 0.1713],\n",
            "        [0.2566, 0.0860, 0.6574],\n",
            "        [0.1422, 0.4326, 0.4252],\n",
            "        [0.3489, 0.1874, 0.4636]], device='cuda:0', grad_fn=<SoftmaxBackward0>)\n",
            "training outputs\n",
            "tensor([[0.2651, 0.2372, 0.4977],\n",
            "        [0.2737, 0.4346, 0.2916],\n",
            "        [0.2152, 0.5233, 0.2615],\n",
            "        [0.1550, 0.4512, 0.3938],\n",
            "        [0.2146, 0.6141, 0.1713],\n",
            "        [0.2566, 0.0860, 0.6574],\n",
            "        [0.1422, 0.4326, 0.4252],\n",
            "        [0.3489, 0.1874, 0.4636]], device='cuda:0', grad_fn=<SoftmaxBackward0>)\n",
            "prediction: tensor([2, 1, 1, 1, 1, 2, 1, 2], device='cuda:0')\n",
            "train labels: tensor([0, 2, 2, 1, 2, 2, 0, 1], device='cuda:0')\n"
          ]
        },
        {
          "output_type": "stream",
          "name": "stderr",
          "text": [
            "\r 38%|███▊      | 24/63 [00:16<00:27,  1.44it/s]"
          ]
        },
        {
          "output_type": "stream",
          "name": "stdout",
          "text": [
            "training logits: tensor([[0.1606, 0.5102, 0.3292],\n",
            "        [0.3254, 0.2777, 0.3969],\n",
            "        [0.2745, 0.3759, 0.3497],\n",
            "        [0.2856, 0.2907, 0.4237],\n",
            "        [0.2931, 0.2841, 0.4228],\n",
            "        [0.2722, 0.5002, 0.2276],\n",
            "        [0.2459, 0.4497, 0.3043],\n",
            "        [0.0840, 0.6285, 0.2875]], device='cuda:0', grad_fn=<SoftmaxBackward0>)\n",
            "training outputs\n",
            "tensor([[0.1606, 0.5102, 0.3292],\n",
            "        [0.3254, 0.2777, 0.3969],\n",
            "        [0.2745, 0.3759, 0.3497],\n",
            "        [0.2856, 0.2907, 0.4237],\n",
            "        [0.2931, 0.2841, 0.4228],\n",
            "        [0.2722, 0.5002, 0.2276],\n",
            "        [0.2459, 0.4497, 0.3043],\n",
            "        [0.0840, 0.6285, 0.2875]], device='cuda:0', grad_fn=<SoftmaxBackward0>)\n",
            "prediction: tensor([1, 2, 1, 2, 2, 1, 1, 1], device='cuda:0')\n",
            "train labels: tensor([1, 0, 0, 2, 2, 2, 1, 2], device='cuda:0')\n"
          ]
        },
        {
          "output_type": "stream",
          "name": "stderr",
          "text": [
            "\r 40%|███▉      | 25/63 [00:17<00:26,  1.44it/s]"
          ]
        },
        {
          "output_type": "stream",
          "name": "stdout",
          "text": [
            "training logits: tensor([[0.1937, 0.4627, 0.3436],\n",
            "        [0.1103, 0.4983, 0.3914],\n",
            "        [0.1173, 0.2755, 0.6072],\n",
            "        [0.3616, 0.3677, 0.2707],\n",
            "        [0.3517, 0.1476, 0.5007],\n",
            "        [0.2295, 0.4609, 0.3096],\n",
            "        [0.0998, 0.3768, 0.5234],\n",
            "        [0.1900, 0.3617, 0.4483]], device='cuda:0', grad_fn=<SoftmaxBackward0>)\n",
            "training outputs\n",
            "tensor([[0.1937, 0.4627, 0.3436],\n",
            "        [0.1103, 0.4983, 0.3914],\n",
            "        [0.1173, 0.2755, 0.6072],\n",
            "        [0.3616, 0.3677, 0.2707],\n",
            "        [0.3517, 0.1476, 0.5007],\n",
            "        [0.2295, 0.4609, 0.3096],\n",
            "        [0.0998, 0.3768, 0.5234],\n",
            "        [0.1900, 0.3617, 0.4483]], device='cuda:0', grad_fn=<SoftmaxBackward0>)\n",
            "prediction: tensor([1, 1, 2, 1, 2, 1, 2, 2], device='cuda:0')\n",
            "train labels: tensor([0, 0, 1, 2, 0, 2, 1, 0], device='cuda:0')\n"
          ]
        },
        {
          "output_type": "stream",
          "name": "stderr",
          "text": [
            "\r 41%|████▏     | 26/63 [00:17<00:25,  1.44it/s]"
          ]
        },
        {
          "output_type": "stream",
          "name": "stdout",
          "text": [
            "training logits: tensor([[0.3049, 0.4461, 0.2491],\n",
            "        [0.4084, 0.4120, 0.1795],\n",
            "        [0.1660, 0.3053, 0.5287],\n",
            "        [0.1173, 0.5007, 0.3820],\n",
            "        [0.1703, 0.5322, 0.2974],\n",
            "        [0.3063, 0.5146, 0.1791],\n",
            "        [0.4767, 0.2466, 0.2767],\n",
            "        [0.1977, 0.3354, 0.4669]], device='cuda:0', grad_fn=<SoftmaxBackward0>)\n",
            "training outputs\n",
            "tensor([[0.3049, 0.4461, 0.2491],\n",
            "        [0.4084, 0.4120, 0.1795],\n",
            "        [0.1660, 0.3053, 0.5287],\n",
            "        [0.1173, 0.5007, 0.3820],\n",
            "        [0.1703, 0.5322, 0.2974],\n",
            "        [0.3063, 0.5146, 0.1791],\n",
            "        [0.4767, 0.2466, 0.2767],\n",
            "        [0.1977, 0.3354, 0.4669]], device='cuda:0', grad_fn=<SoftmaxBackward0>)\n",
            "prediction: tensor([1, 1, 2, 1, 1, 1, 0, 2], device='cuda:0')\n",
            "train labels: tensor([1, 0, 2, 1, 2, 0, 1, 0], device='cuda:0')\n"
          ]
        },
        {
          "output_type": "stream",
          "name": "stderr",
          "text": [
            "\r 43%|████▎     | 27/63 [00:18<00:25,  1.44it/s]"
          ]
        },
        {
          "output_type": "stream",
          "name": "stdout",
          "text": [
            "training logits: tensor([[0.3454, 0.3094, 0.3453],\n",
            "        [0.5025, 0.2973, 0.2002],\n",
            "        [0.1371, 0.5711, 0.2918],\n",
            "        [0.1112, 0.1589, 0.7300],\n",
            "        [0.2088, 0.5216, 0.2696],\n",
            "        [0.3137, 0.5210, 0.1652],\n",
            "        [0.1758, 0.4735, 0.3507],\n",
            "        [0.2047, 0.5965, 0.1989]], device='cuda:0', grad_fn=<SoftmaxBackward0>)\n",
            "training outputs\n",
            "tensor([[0.3454, 0.3094, 0.3453],\n",
            "        [0.5025, 0.2973, 0.2002],\n",
            "        [0.1371, 0.5711, 0.2918],\n",
            "        [0.1112, 0.1589, 0.7300],\n",
            "        [0.2088, 0.5216, 0.2696],\n",
            "        [0.3137, 0.5210, 0.1652],\n",
            "        [0.1758, 0.4735, 0.3507],\n",
            "        [0.2047, 0.5965, 0.1989]], device='cuda:0', grad_fn=<SoftmaxBackward0>)\n",
            "prediction: tensor([0, 0, 1, 2, 1, 1, 1, 1], device='cuda:0')\n",
            "train labels: tensor([0, 0, 0, 1, 0, 0, 1, 1], device='cuda:0')\n"
          ]
        },
        {
          "output_type": "stream",
          "name": "stderr",
          "text": [
            "\r 44%|████▍     | 28/63 [00:19<00:24,  1.44it/s]"
          ]
        },
        {
          "output_type": "stream",
          "name": "stdout",
          "text": [
            "training logits: tensor([[0.1645, 0.3818, 0.4538],\n",
            "        [0.1361, 0.7510, 0.1129],\n",
            "        [0.3296, 0.4627, 0.2077],\n",
            "        [0.3129, 0.4887, 0.1984],\n",
            "        [0.2440, 0.4974, 0.2586],\n",
            "        [0.3466, 0.4339, 0.2195],\n",
            "        [0.2632, 0.4990, 0.2378],\n",
            "        [0.2124, 0.4717, 0.3160]], device='cuda:0', grad_fn=<SoftmaxBackward0>)\n",
            "training outputs\n",
            "tensor([[0.1645, 0.3818, 0.4538],\n",
            "        [0.1361, 0.7510, 0.1129],\n",
            "        [0.3296, 0.4627, 0.2077],\n",
            "        [0.3129, 0.4887, 0.1984],\n",
            "        [0.2440, 0.4974, 0.2586],\n",
            "        [0.3466, 0.4339, 0.2195],\n",
            "        [0.2632, 0.4990, 0.2378],\n",
            "        [0.2124, 0.4717, 0.3160]], device='cuda:0', grad_fn=<SoftmaxBackward0>)\n",
            "prediction: tensor([2, 1, 1, 1, 1, 1, 1, 1], device='cuda:0')\n",
            "train labels: tensor([1, 2, 2, 2, 2, 1, 0, 1], device='cuda:0')\n"
          ]
        },
        {
          "output_type": "stream",
          "name": "stderr",
          "text": [
            "\r 46%|████▌     | 29/63 [00:19<00:23,  1.43it/s]"
          ]
        },
        {
          "output_type": "stream",
          "name": "stdout",
          "text": [
            "training logits: tensor([[0.4561, 0.4120, 0.1320],\n",
            "        [0.2805, 0.2164, 0.5031],\n",
            "        [0.4751, 0.2655, 0.2594],\n",
            "        [0.2837, 0.5681, 0.1481],\n",
            "        [0.2273, 0.3084, 0.4643],\n",
            "        [0.2508, 0.5874, 0.1618],\n",
            "        [0.2172, 0.6212, 0.1616],\n",
            "        [0.1261, 0.4871, 0.3868]], device='cuda:0', grad_fn=<SoftmaxBackward0>)\n",
            "training outputs\n",
            "tensor([[0.4561, 0.4120, 0.1320],\n",
            "        [0.2805, 0.2164, 0.5031],\n",
            "        [0.4751, 0.2655, 0.2594],\n",
            "        [0.2837, 0.5681, 0.1481],\n",
            "        [0.2273, 0.3084, 0.4643],\n",
            "        [0.2508, 0.5874, 0.1618],\n",
            "        [0.2172, 0.6212, 0.1616],\n",
            "        [0.1261, 0.4871, 0.3868]], device='cuda:0', grad_fn=<SoftmaxBackward0>)\n",
            "prediction: tensor([0, 2, 0, 1, 2, 1, 1, 1], device='cuda:0')\n",
            "train labels: tensor([1, 2, 1, 2, 1, 1, 0, 1], device='cuda:0')\n"
          ]
        },
        {
          "output_type": "stream",
          "name": "stderr",
          "text": [
            "\r 48%|████▊     | 30/63 [00:20<00:22,  1.44it/s]"
          ]
        },
        {
          "output_type": "stream",
          "name": "stdout",
          "text": [
            "training logits: tensor([[0.2253, 0.5495, 0.2252],\n",
            "        [0.2489, 0.4096, 0.3416],\n",
            "        [0.3754, 0.3717, 0.2529],\n",
            "        [0.4087, 0.5154, 0.0759],\n",
            "        [0.2116, 0.3424, 0.4460],\n",
            "        [0.2610, 0.2478, 0.4912],\n",
            "        [0.3263, 0.3162, 0.3575],\n",
            "        [0.1387, 0.4634, 0.3979]], device='cuda:0', grad_fn=<SoftmaxBackward0>)\n",
            "training outputs\n",
            "tensor([[0.2253, 0.5495, 0.2252],\n",
            "        [0.2489, 0.4096, 0.3416],\n",
            "        [0.3754, 0.3717, 0.2529],\n",
            "        [0.4087, 0.5154, 0.0759],\n",
            "        [0.2116, 0.3424, 0.4460],\n",
            "        [0.2610, 0.2478, 0.4912],\n",
            "        [0.3263, 0.3162, 0.3575],\n",
            "        [0.1387, 0.4634, 0.3979]], device='cuda:0', grad_fn=<SoftmaxBackward0>)\n",
            "prediction: tensor([1, 1, 0, 1, 2, 2, 2, 1], device='cuda:0')\n",
            "train labels: tensor([0, 0, 1, 1, 1, 0, 1, 1], device='cuda:0')\n"
          ]
        },
        {
          "output_type": "stream",
          "name": "stderr",
          "text": [
            "\r 49%|████▉     | 31/63 [00:21<00:22,  1.43it/s]"
          ]
        },
        {
          "output_type": "stream",
          "name": "stdout",
          "text": [
            "training logits: tensor([[0.2192, 0.3999, 0.3810],\n",
            "        [0.2948, 0.6063, 0.0989],\n",
            "        [0.1806, 0.6177, 0.2017],\n",
            "        [0.1708, 0.6635, 0.1656],\n",
            "        [0.2907, 0.4250, 0.2843],\n",
            "        [0.3022, 0.4771, 0.2207],\n",
            "        [0.2599, 0.5169, 0.2232],\n",
            "        [0.1730, 0.5690, 0.2580]], device='cuda:0', grad_fn=<SoftmaxBackward0>)\n",
            "training outputs\n",
            "tensor([[0.2192, 0.3999, 0.3810],\n",
            "        [0.2948, 0.6063, 0.0989],\n",
            "        [0.1806, 0.6177, 0.2017],\n",
            "        [0.1708, 0.6635, 0.1656],\n",
            "        [0.2907, 0.4250, 0.2843],\n",
            "        [0.3022, 0.4771, 0.2207],\n",
            "        [0.2599, 0.5169, 0.2232],\n",
            "        [0.1730, 0.5690, 0.2580]], device='cuda:0', grad_fn=<SoftmaxBackward0>)\n",
            "prediction: tensor([1, 1, 1, 1, 1, 1, 1, 1], device='cuda:0')\n",
            "train labels: tensor([2, 2, 0, 1, 2, 2, 1, 1], device='cuda:0')\n"
          ]
        },
        {
          "output_type": "stream",
          "name": "stderr",
          "text": [
            "\r 51%|█████     | 32/63 [00:22<00:21,  1.43it/s]"
          ]
        },
        {
          "output_type": "stream",
          "name": "stdout",
          "text": [
            "training logits: tensor([[0.1361, 0.6169, 0.2470],\n",
            "        [0.1924, 0.5892, 0.2184],\n",
            "        [0.2306, 0.5580, 0.2115],\n",
            "        [0.1391, 0.4090, 0.4519],\n",
            "        [0.2579, 0.4667, 0.2753],\n",
            "        [0.2686, 0.3427, 0.3888],\n",
            "        [0.4305, 0.2752, 0.2942],\n",
            "        [0.2969, 0.4225, 0.2806]], device='cuda:0', grad_fn=<SoftmaxBackward0>)\n",
            "training outputs\n",
            "tensor([[0.1361, 0.6169, 0.2470],\n",
            "        [0.1924, 0.5892, 0.2184],\n",
            "        [0.2306, 0.5580, 0.2115],\n",
            "        [0.1391, 0.4090, 0.4519],\n",
            "        [0.2579, 0.4667, 0.2753],\n",
            "        [0.2686, 0.3427, 0.3888],\n",
            "        [0.4305, 0.2752, 0.2942],\n",
            "        [0.2969, 0.4225, 0.2806]], device='cuda:0', grad_fn=<SoftmaxBackward0>)\n",
            "prediction: tensor([1, 1, 1, 2, 1, 2, 0, 1], device='cuda:0')\n",
            "train labels: tensor([0, 0, 2, 2, 2, 0, 0, 0], device='cuda:0')\n"
          ]
        },
        {
          "output_type": "stream",
          "name": "stderr",
          "text": [
            "\r 52%|█████▏    | 33/63 [00:22<00:21,  1.42it/s]"
          ]
        },
        {
          "output_type": "stream",
          "name": "stdout",
          "text": [
            "training logits: tensor([[0.2690, 0.4922, 0.2388],\n",
            "        [0.5176, 0.4204, 0.0621],\n",
            "        [0.3289, 0.4478, 0.2233],\n",
            "        [0.3187, 0.4639, 0.2174],\n",
            "        [0.3135, 0.3553, 0.3312],\n",
            "        [0.2068, 0.5844, 0.2088],\n",
            "        [0.2722, 0.3479, 0.3799],\n",
            "        [0.3522, 0.4035, 0.2443]], device='cuda:0', grad_fn=<SoftmaxBackward0>)\n",
            "training outputs\n",
            "tensor([[0.2690, 0.4922, 0.2388],\n",
            "        [0.5176, 0.4204, 0.0621],\n",
            "        [0.3289, 0.4478, 0.2233],\n",
            "        [0.3187, 0.4639, 0.2174],\n",
            "        [0.3135, 0.3553, 0.3312],\n",
            "        [0.2068, 0.5844, 0.2088],\n",
            "        [0.2722, 0.3479, 0.3799],\n",
            "        [0.3522, 0.4035, 0.2443]], device='cuda:0', grad_fn=<SoftmaxBackward0>)\n",
            "prediction: tensor([1, 0, 1, 1, 1, 1, 2, 1], device='cuda:0')\n",
            "train labels: tensor([1, 2, 1, 1, 2, 0, 1, 0], device='cuda:0')\n"
          ]
        },
        {
          "output_type": "stream",
          "name": "stderr",
          "text": [
            "\r 54%|█████▍    | 34/63 [00:23<00:20,  1.42it/s]"
          ]
        },
        {
          "output_type": "stream",
          "name": "stdout",
          "text": [
            "training logits: tensor([[0.3758, 0.2305, 0.3937],\n",
            "        [0.3965, 0.4159, 0.1876],\n",
            "        [0.3409, 0.5154, 0.1437],\n",
            "        [0.2891, 0.3295, 0.3814],\n",
            "        [0.4756, 0.3293, 0.1951],\n",
            "        [0.4455, 0.3890, 0.1655],\n",
            "        [0.2296, 0.5680, 0.2025],\n",
            "        [0.3994, 0.3473, 0.2533]], device='cuda:0', grad_fn=<SoftmaxBackward0>)\n",
            "training outputs\n",
            "tensor([[0.3758, 0.2305, 0.3937],\n",
            "        [0.3965, 0.4159, 0.1876],\n",
            "        [0.3409, 0.5154, 0.1437],\n",
            "        [0.2891, 0.3295, 0.3814],\n",
            "        [0.4756, 0.3293, 0.1951],\n",
            "        [0.4455, 0.3890, 0.1655],\n",
            "        [0.2296, 0.5680, 0.2025],\n",
            "        [0.3994, 0.3473, 0.2533]], device='cuda:0', grad_fn=<SoftmaxBackward0>)\n",
            "prediction: tensor([2, 1, 1, 2, 0, 0, 1, 0], device='cuda:0')\n",
            "train labels: tensor([0, 2, 0, 0, 1, 0, 1, 0], device='cuda:0')\n"
          ]
        },
        {
          "output_type": "stream",
          "name": "stderr",
          "text": [
            "\r 56%|█████▌    | 35/63 [00:24<00:19,  1.42it/s]"
          ]
        },
        {
          "output_type": "stream",
          "name": "stdout",
          "text": [
            "training logits: tensor([[0.2573, 0.3495, 0.3932],\n",
            "        [0.1496, 0.6983, 0.1521],\n",
            "        [0.2417, 0.5682, 0.1902],\n",
            "        [0.2302, 0.5310, 0.2387],\n",
            "        [0.2291, 0.5158, 0.2551],\n",
            "        [0.2985, 0.4316, 0.2699],\n",
            "        [0.4260, 0.4662, 0.1077],\n",
            "        [0.4183, 0.4749, 0.1068]], device='cuda:0', grad_fn=<SoftmaxBackward0>)\n",
            "training outputs\n",
            "tensor([[0.2573, 0.3495, 0.3932],\n",
            "        [0.1496, 0.6983, 0.1521],\n",
            "        [0.2417, 0.5682, 0.1902],\n",
            "        [0.2302, 0.5310, 0.2387],\n",
            "        [0.2291, 0.5158, 0.2551],\n",
            "        [0.2985, 0.4316, 0.2699],\n",
            "        [0.4260, 0.4662, 0.1077],\n",
            "        [0.4183, 0.4749, 0.1068]], device='cuda:0', grad_fn=<SoftmaxBackward0>)\n",
            "prediction: tensor([2, 1, 1, 1, 1, 1, 1, 1], device='cuda:0')\n",
            "train labels: tensor([0, 2, 0, 2, 2, 0, 1, 0], device='cuda:0')\n"
          ]
        },
        {
          "output_type": "stream",
          "name": "stderr",
          "text": [
            "\r 57%|█████▋    | 36/63 [00:24<00:19,  1.42it/s]"
          ]
        },
        {
          "output_type": "stream",
          "name": "stdout",
          "text": [
            "training logits: tensor([[0.3113, 0.3281, 0.3606],\n",
            "        [0.5203, 0.3191, 0.1606],\n",
            "        [0.4104, 0.4999, 0.0897],\n",
            "        [0.2008, 0.4966, 0.3025],\n",
            "        [0.1568, 0.5597, 0.2835],\n",
            "        [0.2157, 0.4481, 0.3362],\n",
            "        [0.6278, 0.2650, 0.1072],\n",
            "        [0.4762, 0.2352, 0.2886]], device='cuda:0', grad_fn=<SoftmaxBackward0>)\n",
            "training outputs\n",
            "tensor([[0.3113, 0.3281, 0.3606],\n",
            "        [0.5203, 0.3191, 0.1606],\n",
            "        [0.4104, 0.4999, 0.0897],\n",
            "        [0.2008, 0.4966, 0.3025],\n",
            "        [0.1568, 0.5597, 0.2835],\n",
            "        [0.2157, 0.4481, 0.3362],\n",
            "        [0.6278, 0.2650, 0.1072],\n",
            "        [0.4762, 0.2352, 0.2886]], device='cuda:0', grad_fn=<SoftmaxBackward0>)\n",
            "prediction: tensor([2, 0, 1, 1, 1, 1, 0, 0], device='cuda:0')\n",
            "train labels: tensor([0, 2, 0, 2, 2, 2, 2, 0], device='cuda:0')\n"
          ]
        },
        {
          "output_type": "stream",
          "name": "stderr",
          "text": [
            "\r 59%|█████▊    | 37/63 [00:25<00:18,  1.42it/s]"
          ]
        },
        {
          "output_type": "stream",
          "name": "stdout",
          "text": [
            "training logits: tensor([[0.3972, 0.4485, 0.1543],\n",
            "        [0.6211, 0.1906, 0.1883],\n",
            "        [0.4113, 0.4390, 0.1497],\n",
            "        [0.3830, 0.4244, 0.1926],\n",
            "        [0.4121, 0.1991, 0.3888],\n",
            "        [0.2170, 0.5684, 0.2147],\n",
            "        [0.1804, 0.5250, 0.2947],\n",
            "        [0.3986, 0.2821, 0.3194]], device='cuda:0', grad_fn=<SoftmaxBackward0>)\n",
            "training outputs\n",
            "tensor([[0.3972, 0.4485, 0.1543],\n",
            "        [0.6211, 0.1906, 0.1883],\n",
            "        [0.4113, 0.4390, 0.1497],\n",
            "        [0.3830, 0.4244, 0.1926],\n",
            "        [0.4121, 0.1991, 0.3888],\n",
            "        [0.2170, 0.5684, 0.2147],\n",
            "        [0.1804, 0.5250, 0.2947],\n",
            "        [0.3986, 0.2821, 0.3194]], device='cuda:0', grad_fn=<SoftmaxBackward0>)\n",
            "prediction: tensor([1, 0, 1, 1, 0, 1, 1, 0], device='cuda:0')\n",
            "train labels: tensor([2, 0, 1, 1, 2, 2, 0, 2], device='cuda:0')\n"
          ]
        },
        {
          "output_type": "stream",
          "name": "stderr",
          "text": [
            "\r 60%|██████    | 38/63 [00:26<00:17,  1.41it/s]"
          ]
        },
        {
          "output_type": "stream",
          "name": "stdout",
          "text": [
            "training logits: tensor([[0.2873, 0.5884, 0.1244],\n",
            "        [0.2163, 0.6516, 0.1321],\n",
            "        [0.2364, 0.3547, 0.4088],\n",
            "        [0.5525, 0.3265, 0.1210],\n",
            "        [0.1353, 0.7145, 0.1502],\n",
            "        [0.2784, 0.4544, 0.2672],\n",
            "        [0.1775, 0.4642, 0.3584],\n",
            "        [0.1628, 0.6166, 0.2206]], device='cuda:0', grad_fn=<SoftmaxBackward0>)\n",
            "training outputs\n",
            "tensor([[0.2873, 0.5884, 0.1244],\n",
            "        [0.2163, 0.6516, 0.1321],\n",
            "        [0.2364, 0.3547, 0.4088],\n",
            "        [0.5525, 0.3265, 0.1210],\n",
            "        [0.1353, 0.7145, 0.1502],\n",
            "        [0.2784, 0.4544, 0.2672],\n",
            "        [0.1775, 0.4642, 0.3584],\n",
            "        [0.1628, 0.6166, 0.2206]], device='cuda:0', grad_fn=<SoftmaxBackward0>)\n",
            "prediction: tensor([1, 1, 2, 0, 1, 1, 1, 1], device='cuda:0')\n",
            "train labels: tensor([2, 0, 2, 0, 2, 0, 0, 0], device='cuda:0')\n"
          ]
        },
        {
          "output_type": "stream",
          "name": "stderr",
          "text": [
            "\r 62%|██████▏   | 39/63 [00:27<00:16,  1.42it/s]"
          ]
        },
        {
          "output_type": "stream",
          "name": "stdout",
          "text": [
            "training logits: tensor([[0.3841, 0.4268, 0.1891],\n",
            "        [0.1365, 0.6639, 0.1996],\n",
            "        [0.3358, 0.4202, 0.2440],\n",
            "        [0.2945, 0.4672, 0.2383],\n",
            "        [0.2869, 0.4089, 0.3042],\n",
            "        [0.4266, 0.3953, 0.1780],\n",
            "        [0.3087, 0.4962, 0.1951],\n",
            "        [0.1403, 0.7000, 0.1597]], device='cuda:0', grad_fn=<SoftmaxBackward0>)\n",
            "training outputs\n",
            "tensor([[0.3841, 0.4268, 0.1891],\n",
            "        [0.1365, 0.6639, 0.1996],\n",
            "        [0.3358, 0.4202, 0.2440],\n",
            "        [0.2945, 0.4672, 0.2383],\n",
            "        [0.2869, 0.4089, 0.3042],\n",
            "        [0.4266, 0.3953, 0.1780],\n",
            "        [0.3087, 0.4962, 0.1951],\n",
            "        [0.1403, 0.7000, 0.1597]], device='cuda:0', grad_fn=<SoftmaxBackward0>)\n",
            "prediction: tensor([1, 1, 1, 1, 1, 0, 1, 1], device='cuda:0')\n",
            "train labels: tensor([0, 1, 2, 0, 0, 1, 0, 0], device='cuda:0')\n"
          ]
        },
        {
          "output_type": "stream",
          "name": "stderr",
          "text": [
            "\r 63%|██████▎   | 40/63 [00:27<00:16,  1.42it/s]"
          ]
        },
        {
          "output_type": "stream",
          "name": "stdout",
          "text": [
            "training logits: tensor([[0.4150, 0.4209, 0.1641],\n",
            "        [0.1920, 0.5843, 0.2237],\n",
            "        [0.2571, 0.6065, 0.1364],\n",
            "        [0.4134, 0.3563, 0.2303],\n",
            "        [0.3299, 0.4697, 0.2004],\n",
            "        [0.3651, 0.5666, 0.0683],\n",
            "        [0.2874, 0.4763, 0.2363],\n",
            "        [0.2538, 0.3157, 0.4305]], device='cuda:0', grad_fn=<SoftmaxBackward0>)\n",
            "training outputs\n",
            "tensor([[0.4150, 0.4209, 0.1641],\n",
            "        [0.1920, 0.5843, 0.2237],\n",
            "        [0.2571, 0.6065, 0.1364],\n",
            "        [0.4134, 0.3563, 0.2303],\n",
            "        [0.3299, 0.4697, 0.2004],\n",
            "        [0.3651, 0.5666, 0.0683],\n",
            "        [0.2874, 0.4763, 0.2363],\n",
            "        [0.2538, 0.3157, 0.4305]], device='cuda:0', grad_fn=<SoftmaxBackward0>)\n",
            "prediction: tensor([1, 1, 1, 0, 1, 1, 1, 2], device='cuda:0')\n",
            "train labels: tensor([0, 1, 2, 1, 2, 2, 2, 1], device='cuda:0')\n"
          ]
        },
        {
          "output_type": "stream",
          "name": "stderr",
          "text": [
            "\r 65%|██████▌   | 41/63 [00:28<00:15,  1.42it/s]"
          ]
        },
        {
          "output_type": "stream",
          "name": "stdout",
          "text": [
            "training logits: tensor([[0.3004, 0.4232, 0.2763],\n",
            "        [0.2618, 0.6378, 0.1004],\n",
            "        [0.2281, 0.5240, 0.2479],\n",
            "        [0.2915, 0.3400, 0.3685],\n",
            "        [0.3016, 0.4634, 0.2351],\n",
            "        [0.3140, 0.3709, 0.3151],\n",
            "        [0.3287, 0.4647, 0.2065],\n",
            "        [0.2207, 0.5405, 0.2388]], device='cuda:0', grad_fn=<SoftmaxBackward0>)\n",
            "training outputs\n",
            "tensor([[0.3004, 0.4232, 0.2763],\n",
            "        [0.2618, 0.6378, 0.1004],\n",
            "        [0.2281, 0.5240, 0.2479],\n",
            "        [0.2915, 0.3400, 0.3685],\n",
            "        [0.3016, 0.4634, 0.2351],\n",
            "        [0.3140, 0.3709, 0.3151],\n",
            "        [0.3287, 0.4647, 0.2065],\n",
            "        [0.2207, 0.5405, 0.2388]], device='cuda:0', grad_fn=<SoftmaxBackward0>)\n",
            "prediction: tensor([1, 1, 1, 2, 1, 1, 1, 1], device='cuda:0')\n",
            "train labels: tensor([0, 1, 0, 2, 1, 0, 2, 1], device='cuda:0')\n"
          ]
        },
        {
          "output_type": "stream",
          "name": "stderr",
          "text": [
            "\r 67%|██████▋   | 42/63 [00:29<00:14,  1.42it/s]"
          ]
        },
        {
          "output_type": "stream",
          "name": "stdout",
          "text": [
            "training logits: tensor([[0.3205, 0.4935, 0.1860],\n",
            "        [0.2845, 0.4670, 0.2484],\n",
            "        [0.2069, 0.6991, 0.0939],\n",
            "        [0.3762, 0.2099, 0.4140],\n",
            "        [0.4252, 0.2746, 0.3002],\n",
            "        [0.3021, 0.4309, 0.2670],\n",
            "        [0.4241, 0.3206, 0.2553],\n",
            "        [0.4724, 0.3374, 0.1902]], device='cuda:0', grad_fn=<SoftmaxBackward0>)\n",
            "training outputs\n",
            "tensor([[0.3205, 0.4935, 0.1860],\n",
            "        [0.2845, 0.4670, 0.2484],\n",
            "        [0.2069, 0.6991, 0.0939],\n",
            "        [0.3762, 0.2099, 0.4140],\n",
            "        [0.4252, 0.2746, 0.3002],\n",
            "        [0.3021, 0.4309, 0.2670],\n",
            "        [0.4241, 0.3206, 0.2553],\n",
            "        [0.4724, 0.3374, 0.1902]], device='cuda:0', grad_fn=<SoftmaxBackward0>)\n",
            "prediction: tensor([1, 1, 1, 2, 0, 1, 0, 0], device='cuda:0')\n",
            "train labels: tensor([0, 0, 1, 1, 2, 1, 1, 1], device='cuda:0')\n"
          ]
        },
        {
          "output_type": "stream",
          "name": "stderr",
          "text": [
            "\r 68%|██████▊   | 43/63 [00:29<00:14,  1.41it/s]"
          ]
        },
        {
          "output_type": "stream",
          "name": "stdout",
          "text": [
            "training logits: tensor([[0.1501, 0.7034, 0.1466],\n",
            "        [0.4388, 0.3467, 0.2145],\n",
            "        [0.3130, 0.4869, 0.2001],\n",
            "        [0.5005, 0.3191, 0.1805],\n",
            "        [0.1540, 0.8066, 0.0394],\n",
            "        [0.3706, 0.4541, 0.1753],\n",
            "        [0.1366, 0.4468, 0.4165],\n",
            "        [0.3593, 0.4462, 0.1945]], device='cuda:0', grad_fn=<SoftmaxBackward0>)\n",
            "training outputs\n",
            "tensor([[0.1501, 0.7034, 0.1466],\n",
            "        [0.4388, 0.3467, 0.2145],\n",
            "        [0.3130, 0.4869, 0.2001],\n",
            "        [0.5005, 0.3191, 0.1805],\n",
            "        [0.1540, 0.8066, 0.0394],\n",
            "        [0.3706, 0.4541, 0.1753],\n",
            "        [0.1366, 0.4468, 0.4165],\n",
            "        [0.3593, 0.4462, 0.1945]], device='cuda:0', grad_fn=<SoftmaxBackward0>)\n",
            "prediction: tensor([1, 0, 1, 0, 1, 1, 1, 1], device='cuda:0')\n",
            "train labels: tensor([1, 2, 2, 0, 2, 2, 2, 2], device='cuda:0')\n"
          ]
        },
        {
          "output_type": "stream",
          "name": "stderr",
          "text": [
            "\r 70%|██████▉   | 44/63 [00:30<00:13,  1.41it/s]"
          ]
        },
        {
          "output_type": "stream",
          "name": "stdout",
          "text": [
            "training logits: tensor([[0.3211, 0.4505, 0.2285],\n",
            "        [0.3913, 0.4675, 0.1412],\n",
            "        [0.3404, 0.5654, 0.0942],\n",
            "        [0.3455, 0.3545, 0.3000],\n",
            "        [0.1969, 0.4661, 0.3370],\n",
            "        [0.2490, 0.5210, 0.2300],\n",
            "        [0.2659, 0.2728, 0.4613],\n",
            "        [0.2668, 0.6550, 0.0783]], device='cuda:0', grad_fn=<SoftmaxBackward0>)\n",
            "training outputs\n",
            "tensor([[0.3211, 0.4505, 0.2285],\n",
            "        [0.3913, 0.4675, 0.1412],\n",
            "        [0.3404, 0.5654, 0.0942],\n",
            "        [0.3455, 0.3545, 0.3000],\n",
            "        [0.1969, 0.4661, 0.3370],\n",
            "        [0.2490, 0.5210, 0.2300],\n",
            "        [0.2659, 0.2728, 0.4613],\n",
            "        [0.2668, 0.6550, 0.0783]], device='cuda:0', grad_fn=<SoftmaxBackward0>)\n",
            "prediction: tensor([1, 1, 1, 1, 1, 1, 2, 1], device='cuda:0')\n",
            "train labels: tensor([1, 0, 0, 0, 1, 0, 2, 0], device='cuda:0')\n"
          ]
        },
        {
          "output_type": "stream",
          "name": "stderr",
          "text": [
            "\r 71%|███████▏  | 45/63 [00:31<00:12,  1.41it/s]"
          ]
        },
        {
          "output_type": "stream",
          "name": "stdout",
          "text": [
            "training logits: tensor([[0.3283, 0.5547, 0.1171],\n",
            "        [0.1415, 0.6211, 0.2374],\n",
            "        [0.2698, 0.5411, 0.1891],\n",
            "        [0.1939, 0.7219, 0.0842],\n",
            "        [0.2492, 0.6370, 0.1138],\n",
            "        [0.3873, 0.4268, 0.1859],\n",
            "        [0.3437, 0.2326, 0.4237],\n",
            "        [0.1474, 0.6790, 0.1737]], device='cuda:0', grad_fn=<SoftmaxBackward0>)\n",
            "training outputs\n",
            "tensor([[0.3283, 0.5547, 0.1171],\n",
            "        [0.1415, 0.6211, 0.2374],\n",
            "        [0.2698, 0.5411, 0.1891],\n",
            "        [0.1939, 0.7219, 0.0842],\n",
            "        [0.2492, 0.6370, 0.1138],\n",
            "        [0.3873, 0.4268, 0.1859],\n",
            "        [0.3437, 0.2326, 0.4237],\n",
            "        [0.1474, 0.6790, 0.1737]], device='cuda:0', grad_fn=<SoftmaxBackward0>)\n",
            "prediction: tensor([1, 1, 1, 1, 1, 1, 2, 1], device='cuda:0')\n",
            "train labels: tensor([2, 2, 2, 1, 0, 1, 0, 1], device='cuda:0')\n"
          ]
        },
        {
          "output_type": "stream",
          "name": "stderr",
          "text": [
            "\r 73%|███████▎  | 46/63 [00:31<00:12,  1.41it/s]"
          ]
        },
        {
          "output_type": "stream",
          "name": "stdout",
          "text": [
            "training logits: tensor([[0.3955, 0.3340, 0.2705],\n",
            "        [0.5769, 0.2061, 0.2169],\n",
            "        [0.3988, 0.1484, 0.4528],\n",
            "        [0.2353, 0.5808, 0.1839],\n",
            "        [0.4750, 0.4290, 0.0960],\n",
            "        [0.2732, 0.4734, 0.2534],\n",
            "        [0.1736, 0.5799, 0.2465],\n",
            "        [0.3893, 0.3898, 0.2209]], device='cuda:0', grad_fn=<SoftmaxBackward0>)\n",
            "training outputs\n",
            "tensor([[0.3955, 0.3340, 0.2705],\n",
            "        [0.5769, 0.2061, 0.2169],\n",
            "        [0.3988, 0.1484, 0.4528],\n",
            "        [0.2353, 0.5808, 0.1839],\n",
            "        [0.4750, 0.4290, 0.0960],\n",
            "        [0.2732, 0.4734, 0.2534],\n",
            "        [0.1736, 0.5799, 0.2465],\n",
            "        [0.3893, 0.3898, 0.2209]], device='cuda:0', grad_fn=<SoftmaxBackward0>)\n",
            "prediction: tensor([0, 0, 2, 1, 0, 1, 1, 1], device='cuda:0')\n",
            "train labels: tensor([0, 2, 2, 0, 1, 2, 2, 1], device='cuda:0')\n"
          ]
        },
        {
          "output_type": "stream",
          "name": "stderr",
          "text": [
            "\r 75%|███████▍  | 47/63 [00:32<00:11,  1.41it/s]"
          ]
        },
        {
          "output_type": "stream",
          "name": "stdout",
          "text": [
            "training logits: tensor([[0.3566, 0.4323, 0.2111],\n",
            "        [0.5411, 0.3434, 0.1155],\n",
            "        [0.6771, 0.2205, 0.1024],\n",
            "        [0.2237, 0.6451, 0.1312],\n",
            "        [0.2050, 0.2879, 0.5071],\n",
            "        [0.5040, 0.2968, 0.1992],\n",
            "        [0.4163, 0.3980, 0.1857],\n",
            "        [0.1781, 0.4523, 0.3696]], device='cuda:0', grad_fn=<SoftmaxBackward0>)\n",
            "training outputs\n",
            "tensor([[0.3566, 0.4323, 0.2111],\n",
            "        [0.5411, 0.3434, 0.1155],\n",
            "        [0.6771, 0.2205, 0.1024],\n",
            "        [0.2237, 0.6451, 0.1312],\n",
            "        [0.2050, 0.2879, 0.5071],\n",
            "        [0.5040, 0.2968, 0.1992],\n",
            "        [0.4163, 0.3980, 0.1857],\n",
            "        [0.1781, 0.4523, 0.3696]], device='cuda:0', grad_fn=<SoftmaxBackward0>)\n",
            "prediction: tensor([1, 0, 0, 1, 2, 0, 0, 1], device='cuda:0')\n",
            "train labels: tensor([2, 2, 1, 1, 2, 2, 0, 2], device='cuda:0')\n"
          ]
        },
        {
          "output_type": "stream",
          "name": "stderr",
          "text": [
            "\r 76%|███████▌  | 48/63 [00:33<00:10,  1.41it/s]"
          ]
        },
        {
          "output_type": "stream",
          "name": "stdout",
          "text": [
            "training logits: tensor([[0.4251, 0.1676, 0.4073],\n",
            "        [0.5318, 0.2575, 0.2107],\n",
            "        [0.3111, 0.4101, 0.2788],\n",
            "        [0.5815, 0.2856, 0.1329],\n",
            "        [0.4974, 0.2937, 0.2090],\n",
            "        [0.2230, 0.5179, 0.2591],\n",
            "        [0.5111, 0.2520, 0.2369],\n",
            "        [0.1763, 0.5528, 0.2709]], device='cuda:0', grad_fn=<SoftmaxBackward0>)\n",
            "training outputs\n",
            "tensor([[0.4251, 0.1676, 0.4073],\n",
            "        [0.5318, 0.2575, 0.2107],\n",
            "        [0.3111, 0.4101, 0.2788],\n",
            "        [0.5815, 0.2856, 0.1329],\n",
            "        [0.4974, 0.2937, 0.2090],\n",
            "        [0.2230, 0.5179, 0.2591],\n",
            "        [0.5111, 0.2520, 0.2369],\n",
            "        [0.1763, 0.5528, 0.2709]], device='cuda:0', grad_fn=<SoftmaxBackward0>)\n",
            "prediction: tensor([0, 0, 1, 0, 0, 1, 0, 1], device='cuda:0')\n",
            "train labels: tensor([2, 1, 2, 2, 0, 1, 1, 2], device='cuda:0')\n"
          ]
        },
        {
          "output_type": "stream",
          "name": "stderr",
          "text": [
            "\r 78%|███████▊  | 49/63 [00:34<00:09,  1.41it/s]"
          ]
        },
        {
          "output_type": "stream",
          "name": "stdout",
          "text": [
            "training logits: tensor([[0.2199, 0.4089, 0.3712],\n",
            "        [0.2519, 0.4680, 0.2801],\n",
            "        [0.2404, 0.5752, 0.1844],\n",
            "        [0.3396, 0.4097, 0.2507],\n",
            "        [0.4016, 0.1578, 0.4406],\n",
            "        [0.6022, 0.2468, 0.1511],\n",
            "        [0.3778, 0.3542, 0.2680],\n",
            "        [0.3856, 0.5082, 0.1062]], device='cuda:0', grad_fn=<SoftmaxBackward0>)\n",
            "training outputs\n",
            "tensor([[0.2199, 0.4089, 0.3712],\n",
            "        [0.2519, 0.4680, 0.2801],\n",
            "        [0.2404, 0.5752, 0.1844],\n",
            "        [0.3396, 0.4097, 0.2507],\n",
            "        [0.4016, 0.1578, 0.4406],\n",
            "        [0.6022, 0.2468, 0.1511],\n",
            "        [0.3778, 0.3542, 0.2680],\n",
            "        [0.3856, 0.5082, 0.1062]], device='cuda:0', grad_fn=<SoftmaxBackward0>)\n",
            "prediction: tensor([1, 1, 1, 1, 2, 0, 0, 1], device='cuda:0')\n",
            "train labels: tensor([2, 2, 2, 1, 2, 0, 1, 0], device='cuda:0')\n"
          ]
        },
        {
          "output_type": "stream",
          "name": "stderr",
          "text": [
            "\r 79%|███████▉  | 50/63 [00:34<00:09,  1.40it/s]"
          ]
        },
        {
          "output_type": "stream",
          "name": "stdout",
          "text": [
            "training logits: tensor([[0.1577, 0.4990, 0.3434],\n",
            "        [0.2380, 0.3574, 0.4046],\n",
            "        [0.1686, 0.5753, 0.2561],\n",
            "        [0.2516, 0.4276, 0.3208],\n",
            "        [0.3818, 0.3040, 0.3142],\n",
            "        [0.5032, 0.3309, 0.1659],\n",
            "        [0.3953, 0.3305, 0.2742],\n",
            "        [0.5504, 0.2700, 0.1796]], device='cuda:0', grad_fn=<SoftmaxBackward0>)\n",
            "training outputs\n",
            "tensor([[0.1577, 0.4990, 0.3434],\n",
            "        [0.2380, 0.3574, 0.4046],\n",
            "        [0.1686, 0.5753, 0.2561],\n",
            "        [0.2516, 0.4276, 0.3208],\n",
            "        [0.3818, 0.3040, 0.3142],\n",
            "        [0.5032, 0.3309, 0.1659],\n",
            "        [0.3953, 0.3305, 0.2742],\n",
            "        [0.5504, 0.2700, 0.1796]], device='cuda:0', grad_fn=<SoftmaxBackward0>)\n",
            "prediction: tensor([1, 2, 1, 1, 0, 0, 0, 0], device='cuda:0')\n",
            "train labels: tensor([1, 1, 2, 2, 2, 2, 2, 2], device='cuda:0')\n"
          ]
        },
        {
          "output_type": "stream",
          "name": "stderr",
          "text": [
            "\r 81%|████████  | 51/63 [00:35<00:08,  1.40it/s]"
          ]
        },
        {
          "output_type": "stream",
          "name": "stdout",
          "text": [
            "training logits: tensor([[0.4493, 0.3369, 0.2138],\n",
            "        [0.3532, 0.5436, 0.1032],\n",
            "        [0.2347, 0.4594, 0.3058],\n",
            "        [0.4201, 0.3668, 0.2131],\n",
            "        [0.3628, 0.4709, 0.1664],\n",
            "        [0.4661, 0.2851, 0.2488],\n",
            "        [0.4380, 0.2292, 0.3327],\n",
            "        [0.3556, 0.3178, 0.3265]], device='cuda:0', grad_fn=<SoftmaxBackward0>)\n",
            "training outputs\n",
            "tensor([[0.4493, 0.3369, 0.2138],\n",
            "        [0.3532, 0.5436, 0.1032],\n",
            "        [0.2347, 0.4594, 0.3058],\n",
            "        [0.4201, 0.3668, 0.2131],\n",
            "        [0.3628, 0.4709, 0.1664],\n",
            "        [0.4661, 0.2851, 0.2488],\n",
            "        [0.4380, 0.2292, 0.3327],\n",
            "        [0.3556, 0.3178, 0.3265]], device='cuda:0', grad_fn=<SoftmaxBackward0>)\n",
            "prediction: tensor([0, 1, 1, 0, 1, 0, 0, 0], device='cuda:0')\n",
            "train labels: tensor([2, 0, 0, 1, 2, 2, 1, 2], device='cuda:0')\n"
          ]
        },
        {
          "output_type": "stream",
          "name": "stderr",
          "text": [
            "\r 83%|████████▎ | 52/63 [00:36<00:07,  1.40it/s]"
          ]
        },
        {
          "output_type": "stream",
          "name": "stdout",
          "text": [
            "training logits: tensor([[0.4120, 0.3614, 0.2267],\n",
            "        [0.3606, 0.3152, 0.3242],\n",
            "        [0.4055, 0.3276, 0.2669],\n",
            "        [0.3289, 0.2343, 0.4368],\n",
            "        [0.1655, 0.2421, 0.5924],\n",
            "        [0.4608, 0.3607, 0.1785],\n",
            "        [0.3881, 0.3426, 0.2693],\n",
            "        [0.2500, 0.4256, 0.3244]], device='cuda:0', grad_fn=<SoftmaxBackward0>)\n",
            "training outputs\n",
            "tensor([[0.4120, 0.3614, 0.2267],\n",
            "        [0.3606, 0.3152, 0.3242],\n",
            "        [0.4055, 0.3276, 0.2669],\n",
            "        [0.3289, 0.2343, 0.4368],\n",
            "        [0.1655, 0.2421, 0.5924],\n",
            "        [0.4608, 0.3607, 0.1785],\n",
            "        [0.3881, 0.3426, 0.2693],\n",
            "        [0.2500, 0.4256, 0.3244]], device='cuda:0', grad_fn=<SoftmaxBackward0>)\n",
            "prediction: tensor([0, 0, 0, 2, 2, 0, 0, 1], device='cuda:0')\n",
            "train labels: tensor([2, 0, 1, 1, 1, 2, 0, 1], device='cuda:0')\n"
          ]
        },
        {
          "output_type": "stream",
          "name": "stderr",
          "text": [
            "\r 84%|████████▍ | 53/63 [00:36<00:07,  1.39it/s]"
          ]
        },
        {
          "output_type": "stream",
          "name": "stdout",
          "text": [
            "training logits: tensor([[0.5489, 0.2566, 0.1944],\n",
            "        [0.2086, 0.6132, 0.1782],\n",
            "        [0.3040, 0.5081, 0.1879],\n",
            "        [0.4343, 0.3018, 0.2640],\n",
            "        [0.4101, 0.4375, 0.1525],\n",
            "        [0.2245, 0.5103, 0.2652],\n",
            "        [0.3199, 0.6043, 0.0758],\n",
            "        [0.4646, 0.3169, 0.2185]], device='cuda:0', grad_fn=<SoftmaxBackward0>)\n",
            "training outputs\n",
            "tensor([[0.5489, 0.2566, 0.1944],\n",
            "        [0.2086, 0.6132, 0.1782],\n",
            "        [0.3040, 0.5081, 0.1879],\n",
            "        [0.4343, 0.3018, 0.2640],\n",
            "        [0.4101, 0.4375, 0.1525],\n",
            "        [0.2245, 0.5103, 0.2652],\n",
            "        [0.3199, 0.6043, 0.0758],\n",
            "        [0.4646, 0.3169, 0.2185]], device='cuda:0', grad_fn=<SoftmaxBackward0>)\n",
            "prediction: tensor([0, 1, 1, 0, 1, 1, 1, 0], device='cuda:0')\n",
            "train labels: tensor([1, 2, 0, 1, 0, 2, 1, 0], device='cuda:0')\n"
          ]
        },
        {
          "output_type": "stream",
          "name": "stderr",
          "text": [
            "\r 86%|████████▌ | 54/63 [00:37<00:06,  1.39it/s]"
          ]
        },
        {
          "output_type": "stream",
          "name": "stdout",
          "text": [
            "training logits: tensor([[0.2652, 0.6325, 0.1023],\n",
            "        [0.2418, 0.3287, 0.4294],\n",
            "        [0.4133, 0.3033, 0.2835],\n",
            "        [0.5606, 0.2910, 0.1484],\n",
            "        [0.2339, 0.4939, 0.2722],\n",
            "        [0.4618, 0.3152, 0.2230],\n",
            "        [0.3233, 0.4405, 0.2362],\n",
            "        [0.3227, 0.3318, 0.3455]], device='cuda:0', grad_fn=<SoftmaxBackward0>)\n",
            "training outputs\n",
            "tensor([[0.2652, 0.6325, 0.1023],\n",
            "        [0.2418, 0.3287, 0.4294],\n",
            "        [0.4133, 0.3033, 0.2835],\n",
            "        [0.5606, 0.2910, 0.1484],\n",
            "        [0.2339, 0.4939, 0.2722],\n",
            "        [0.4618, 0.3152, 0.2230],\n",
            "        [0.3233, 0.4405, 0.2362],\n",
            "        [0.3227, 0.3318, 0.3455]], device='cuda:0', grad_fn=<SoftmaxBackward0>)\n",
            "prediction: tensor([1, 2, 0, 0, 1, 0, 1, 2], device='cuda:0')\n",
            "train labels: tensor([1, 0, 0, 0, 2, 2, 0, 2], device='cuda:0')\n"
          ]
        },
        {
          "output_type": "stream",
          "name": "stderr",
          "text": [
            "\r 87%|████████▋ | 55/63 [00:38<00:05,  1.39it/s]"
          ]
        },
        {
          "output_type": "stream",
          "name": "stdout",
          "text": [
            "training logits: tensor([[0.6345, 0.2051, 0.1605],\n",
            "        [0.1909, 0.5144, 0.2947],\n",
            "        [0.2916, 0.5016, 0.2068],\n",
            "        [0.4666, 0.2664, 0.2670],\n",
            "        [0.6047, 0.2506, 0.1448],\n",
            "        [0.1464, 0.4476, 0.4060],\n",
            "        [0.5167, 0.3740, 0.1093],\n",
            "        [0.3114, 0.3994, 0.2892]], device='cuda:0', grad_fn=<SoftmaxBackward0>)\n",
            "training outputs\n",
            "tensor([[0.6345, 0.2051, 0.1605],\n",
            "        [0.1909, 0.5144, 0.2947],\n",
            "        [0.2916, 0.5016, 0.2068],\n",
            "        [0.4666, 0.2664, 0.2670],\n",
            "        [0.6047, 0.2506, 0.1448],\n",
            "        [0.1464, 0.4476, 0.4060],\n",
            "        [0.5167, 0.3740, 0.1093],\n",
            "        [0.3114, 0.3994, 0.2892]], device='cuda:0', grad_fn=<SoftmaxBackward0>)\n",
            "prediction: tensor([0, 1, 1, 0, 0, 1, 0, 1], device='cuda:0')\n",
            "train labels: tensor([2, 2, 2, 2, 0, 0, 2, 1], device='cuda:0')\n"
          ]
        },
        {
          "output_type": "stream",
          "name": "stderr",
          "text": [
            "\r 89%|████████▉ | 56/63 [00:39<00:05,  1.39it/s]"
          ]
        },
        {
          "output_type": "stream",
          "name": "stdout",
          "text": [
            "training logits: tensor([[0.2465, 0.4599, 0.2936],\n",
            "        [0.2494, 0.2843, 0.4663],\n",
            "        [0.3189, 0.4247, 0.2564],\n",
            "        [0.6244, 0.3220, 0.0535],\n",
            "        [0.3119, 0.4133, 0.2748],\n",
            "        [0.3477, 0.5847, 0.0675],\n",
            "        [0.5474, 0.3047, 0.1479],\n",
            "        [0.1557, 0.2567, 0.5876]], device='cuda:0', grad_fn=<SoftmaxBackward0>)\n",
            "training outputs\n",
            "tensor([[0.2465, 0.4599, 0.2936],\n",
            "        [0.2494, 0.2843, 0.4663],\n",
            "        [0.3189, 0.4247, 0.2564],\n",
            "        [0.6244, 0.3220, 0.0535],\n",
            "        [0.3119, 0.4133, 0.2748],\n",
            "        [0.3477, 0.5847, 0.0675],\n",
            "        [0.5474, 0.3047, 0.1479],\n",
            "        [0.1557, 0.2567, 0.5876]], device='cuda:0', grad_fn=<SoftmaxBackward0>)\n",
            "prediction: tensor([1, 2, 1, 0, 1, 1, 0, 2], device='cuda:0')\n",
            "train labels: tensor([1, 1, 2, 1, 0, 0, 2, 2], device='cuda:0')\n"
          ]
        },
        {
          "output_type": "stream",
          "name": "stderr",
          "text": [
            "\r 90%|█████████ | 57/63 [00:39<00:04,  1.38it/s]"
          ]
        },
        {
          "output_type": "stream",
          "name": "stdout",
          "text": [
            "training logits: tensor([[0.4243, 0.3880, 0.1878],\n",
            "        [0.2601, 0.1534, 0.5865],\n",
            "        [0.6683, 0.2485, 0.0832],\n",
            "        [0.2784, 0.4630, 0.2586],\n",
            "        [0.3483, 0.2569, 0.3948],\n",
            "        [0.4773, 0.3794, 0.1433],\n",
            "        [0.2580, 0.4991, 0.2430],\n",
            "        [0.5374, 0.2929, 0.1697]], device='cuda:0', grad_fn=<SoftmaxBackward0>)\n",
            "training outputs\n",
            "tensor([[0.4243, 0.3880, 0.1878],\n",
            "        [0.2601, 0.1534, 0.5865],\n",
            "        [0.6683, 0.2485, 0.0832],\n",
            "        [0.2784, 0.4630, 0.2586],\n",
            "        [0.3483, 0.2569, 0.3948],\n",
            "        [0.4773, 0.3794, 0.1433],\n",
            "        [0.2580, 0.4991, 0.2430],\n",
            "        [0.5374, 0.2929, 0.1697]], device='cuda:0', grad_fn=<SoftmaxBackward0>)\n",
            "prediction: tensor([0, 2, 0, 1, 2, 0, 1, 0], device='cuda:0')\n",
            "train labels: tensor([2, 0, 0, 0, 2, 0, 2, 0], device='cuda:0')\n"
          ]
        },
        {
          "output_type": "stream",
          "name": "stderr",
          "text": [
            "\r 92%|█████████▏| 58/63 [00:40<00:03,  1.38it/s]"
          ]
        },
        {
          "output_type": "stream",
          "name": "stdout",
          "text": [
            "training logits: tensor([[0.6739, 0.1928, 0.1333],\n",
            "        [0.4043, 0.4509, 0.1448],\n",
            "        [0.3476, 0.4027, 0.2498],\n",
            "        [0.4853, 0.3619, 0.1528],\n",
            "        [0.4559, 0.2769, 0.2672],\n",
            "        [0.6024, 0.0907, 0.3069],\n",
            "        [0.2921, 0.4682, 0.2398],\n",
            "        [0.1542, 0.2646, 0.5811]], device='cuda:0', grad_fn=<SoftmaxBackward0>)\n",
            "training outputs\n",
            "tensor([[0.6739, 0.1928, 0.1333],\n",
            "        [0.4043, 0.4509, 0.1448],\n",
            "        [0.3476, 0.4027, 0.2498],\n",
            "        [0.4853, 0.3619, 0.1528],\n",
            "        [0.4559, 0.2769, 0.2672],\n",
            "        [0.6024, 0.0907, 0.3069],\n",
            "        [0.2921, 0.4682, 0.2398],\n",
            "        [0.1542, 0.2646, 0.5811]], device='cuda:0', grad_fn=<SoftmaxBackward0>)\n",
            "prediction: tensor([0, 1, 1, 0, 0, 0, 1, 2], device='cuda:0')\n",
            "train labels: tensor([1, 2, 2, 1, 0, 2, 2, 1], device='cuda:0')\n"
          ]
        },
        {
          "output_type": "stream",
          "name": "stderr",
          "text": [
            "\r 94%|█████████▎| 59/63 [00:41<00:02,  1.38it/s]"
          ]
        },
        {
          "output_type": "stream",
          "name": "stdout",
          "text": [
            "training logits: tensor([[0.2648, 0.5356, 0.1996],\n",
            "        [0.3054, 0.5606, 0.1339],\n",
            "        [0.3136, 0.5109, 0.1756],\n",
            "        [0.3816, 0.3424, 0.2759],\n",
            "        [0.2657, 0.4232, 0.3111],\n",
            "        [0.4192, 0.4393, 0.1415],\n",
            "        [0.2869, 0.3443, 0.3688],\n",
            "        [0.4262, 0.4079, 0.1659]], device='cuda:0', grad_fn=<SoftmaxBackward0>)\n",
            "training outputs\n",
            "tensor([[0.2648, 0.5356, 0.1996],\n",
            "        [0.3054, 0.5606, 0.1339],\n",
            "        [0.3136, 0.5109, 0.1756],\n",
            "        [0.3816, 0.3424, 0.2759],\n",
            "        [0.2657, 0.4232, 0.3111],\n",
            "        [0.4192, 0.4393, 0.1415],\n",
            "        [0.2869, 0.3443, 0.3688],\n",
            "        [0.4262, 0.4079, 0.1659]], device='cuda:0', grad_fn=<SoftmaxBackward0>)\n",
            "prediction: tensor([1, 1, 1, 0, 1, 1, 2, 0], device='cuda:0')\n",
            "train labels: tensor([1, 1, 2, 0, 1, 0, 0, 0], device='cuda:0')\n"
          ]
        },
        {
          "output_type": "stream",
          "name": "stderr",
          "text": [
            "\r 95%|█████████▌| 60/63 [00:42<00:02,  1.37it/s]"
          ]
        },
        {
          "output_type": "stream",
          "name": "stdout",
          "text": [
            "training logits: tensor([[0.3183, 0.5033, 0.1784],\n",
            "        [0.3539, 0.3697, 0.2764],\n",
            "        [0.2945, 0.2466, 0.4589],\n",
            "        [0.2884, 0.2834, 0.4281],\n",
            "        [0.4264, 0.3457, 0.2278],\n",
            "        [0.3895, 0.3861, 0.2244],\n",
            "        [0.3014, 0.4530, 0.2457],\n",
            "        [0.4953, 0.2754, 0.2294]], device='cuda:0', grad_fn=<SoftmaxBackward0>)\n",
            "training outputs\n",
            "tensor([[0.3183, 0.5033, 0.1784],\n",
            "        [0.3539, 0.3697, 0.2764],\n",
            "        [0.2945, 0.2466, 0.4589],\n",
            "        [0.2884, 0.2834, 0.4281],\n",
            "        [0.4264, 0.3457, 0.2278],\n",
            "        [0.3895, 0.3861, 0.2244],\n",
            "        [0.3014, 0.4530, 0.2457],\n",
            "        [0.4953, 0.2754, 0.2294]], device='cuda:0', grad_fn=<SoftmaxBackward0>)\n",
            "prediction: tensor([1, 1, 2, 2, 0, 0, 1, 0], device='cuda:0')\n",
            "train labels: tensor([2, 1, 1, 1, 0, 0, 1, 0], device='cuda:0')\n"
          ]
        },
        {
          "output_type": "stream",
          "name": "stderr",
          "text": [
            "\r 97%|█████████▋| 61/63 [00:42<00:01,  1.37it/s]"
          ]
        },
        {
          "output_type": "stream",
          "name": "stdout",
          "text": [
            "training logits: tensor([[0.4438, 0.3222, 0.2340],\n",
            "        [0.3259, 0.3835, 0.2905],\n",
            "        [0.2925, 0.4919, 0.2156],\n",
            "        [0.4696, 0.1911, 0.3394],\n",
            "        [0.1598, 0.3132, 0.5269],\n",
            "        [0.5392, 0.1879, 0.2728],\n",
            "        [0.2915, 0.5906, 0.1179],\n",
            "        [0.4964, 0.2630, 0.2406]], device='cuda:0', grad_fn=<SoftmaxBackward0>)\n",
            "training outputs\n",
            "tensor([[0.4438, 0.3222, 0.2340],\n",
            "        [0.3259, 0.3835, 0.2905],\n",
            "        [0.2925, 0.4919, 0.2156],\n",
            "        [0.4696, 0.1911, 0.3394],\n",
            "        [0.1598, 0.3132, 0.5269],\n",
            "        [0.5392, 0.1879, 0.2728],\n",
            "        [0.2915, 0.5906, 0.1179],\n",
            "        [0.4964, 0.2630, 0.2406]], device='cuda:0', grad_fn=<SoftmaxBackward0>)\n",
            "prediction: tensor([0, 1, 1, 0, 2, 0, 1, 0], device='cuda:0')\n",
            "train labels: tensor([0, 0, 0, 1, 1, 2, 0, 1], device='cuda:0')\n"
          ]
        },
        {
          "output_type": "stream",
          "name": "stderr",
          "text": [
            "\r 98%|█████████▊| 62/63 [00:43<00:00,  1.37it/s]"
          ]
        },
        {
          "output_type": "stream",
          "name": "stdout",
          "text": [
            "training logits: tensor([[0.3549, 0.2894, 0.3557],\n",
            "        [0.3046, 0.4178, 0.2776],\n",
            "        [0.2939, 0.4589, 0.2473],\n",
            "        [0.4367, 0.1930, 0.3702]], device='cuda:0', grad_fn=<SoftmaxBackward0>)\n",
            "training outputs\n",
            "tensor([[0.3549, 0.2894, 0.3557],\n",
            "        [0.3046, 0.4178, 0.2776],\n",
            "        [0.2939, 0.4589, 0.2473],\n",
            "        [0.4367, 0.1930, 0.3702]], device='cuda:0', grad_fn=<SoftmaxBackward0>)\n",
            "prediction: tensor([2, 1, 1, 0], device='cuda:0')\n",
            "train labels: tensor([0, 2, 1, 1], device='cuda:0')\n"
          ]
        },
        {
          "output_type": "stream",
          "name": "stderr",
          "text": [
            "100%|██████████| 63/63 [00:43<00:00,  1.43it/s]\n"
          ]
        },
        {
          "output_type": "stream",
          "name": "stdout",
          "text": [
            "tensor([2, 1, 0, 2, 0, 1, 1, 0], device='cuda:0')\n",
            "validating logits: tensor([[0.2894, 0.2213, 0.4894],\n",
            "        [0.4495, 0.4627, 0.0879],\n",
            "        [0.2018, 0.5010, 0.2971],\n",
            "        [0.2135, 0.3699, 0.4166],\n",
            "        [0.3565, 0.4018, 0.2417],\n",
            "        [0.6252, 0.2419, 0.1329],\n",
            "        [0.1259, 0.6397, 0.2345],\n",
            "        [0.3423, 0.3940, 0.2637]], device='cuda:0')\n",
            "prediction: tensor([2, 1, 1, 2, 1, 0, 1, 1], device='cuda:0')\n",
            "tensor([[0.2894, 0.2213, 0.4894],\n",
            "        [0.4495, 0.4627, 0.0879],\n",
            "        [0.2018, 0.5010, 0.2971],\n",
            "        [0.2135, 0.3699, 0.4166],\n",
            "        [0.3565, 0.4018, 0.2417],\n",
            "        [0.6252, 0.2419, 0.1329],\n",
            "        [0.1259, 0.6397, 0.2345],\n",
            "        [0.3423, 0.3940, 0.2637]], device='cuda:0')\n",
            "tensor([2, 2, 1, 2, 2, 1, 0, 2], device='cuda:0')\n",
            "validating logits: tensor([[0.4826, 0.3077, 0.2097],\n",
            "        [0.3163, 0.2538, 0.4299],\n",
            "        [0.5197, 0.2025, 0.2778],\n",
            "        [0.4422, 0.4474, 0.1104],\n",
            "        [0.6160, 0.2576, 0.1263],\n",
            "        [0.1862, 0.5104, 0.3034],\n",
            "        [0.1914, 0.4817, 0.3270],\n",
            "        [0.2921, 0.1721, 0.5358]], device='cuda:0')\n",
            "prediction: tensor([0, 2, 0, 1, 0, 1, 1, 2], device='cuda:0')\n",
            "tensor([[0.4826, 0.3077, 0.2097],\n",
            "        [0.3163, 0.2538, 0.4299],\n",
            "        [0.5197, 0.2025, 0.2778],\n",
            "        [0.4422, 0.4474, 0.1104],\n",
            "        [0.6160, 0.2576, 0.1263],\n",
            "        [0.1862, 0.5104, 0.3034],\n",
            "        [0.1914, 0.4817, 0.3270],\n",
            "        [0.2921, 0.1721, 0.5358]], device='cuda:0')\n",
            "tensor([1, 0, 0, 1, 2, 2, 1, 0], device='cuda:0')\n",
            "validating logits: tensor([[0.5439, 0.2559, 0.2002],\n",
            "        [0.1298, 0.2815, 0.5887],\n",
            "        [0.4605, 0.2738, 0.2657],\n",
            "        [0.4228, 0.2729, 0.3043],\n",
            "        [0.3034, 0.3617, 0.3349],\n",
            "        [0.4476, 0.3002, 0.2521],\n",
            "        [0.2047, 0.4552, 0.3401],\n",
            "        [0.2498, 0.3543, 0.3959]], device='cuda:0')\n",
            "prediction: tensor([0, 2, 0, 0, 1, 0, 1, 2], device='cuda:0')\n",
            "tensor([[0.5439, 0.2559, 0.2002],\n",
            "        [0.1298, 0.2815, 0.5887],\n",
            "        [0.4605, 0.2738, 0.2657],\n",
            "        [0.4228, 0.2729, 0.3043],\n",
            "        [0.3034, 0.3617, 0.3349],\n",
            "        [0.4476, 0.3002, 0.2521],\n",
            "        [0.2047, 0.4552, 0.3401],\n",
            "        [0.2498, 0.3543, 0.3959]], device='cuda:0')\n",
            "tensor([1, 0, 2, 2, 1, 0, 2, 0], device='cuda:0')\n",
            "validating logits: tensor([[0.3434, 0.2757, 0.3809],\n",
            "        [0.2169, 0.2785, 0.5046],\n",
            "        [0.3974, 0.1485, 0.4540],\n",
            "        [0.2038, 0.4318, 0.3644],\n",
            "        [0.4118, 0.3113, 0.2768],\n",
            "        [0.4546, 0.4081, 0.1373],\n",
            "        [0.4921, 0.2721, 0.2358],\n",
            "        [0.2808, 0.3330, 0.3862]], device='cuda:0')\n",
            "prediction: tensor([2, 2, 2, 1, 0, 0, 0, 2], device='cuda:0')\n",
            "tensor([[0.3434, 0.2757, 0.3809],\n",
            "        [0.2169, 0.2785, 0.5046],\n",
            "        [0.3974, 0.1485, 0.4540],\n",
            "        [0.2038, 0.4318, 0.3644],\n",
            "        [0.4118, 0.3113, 0.2768],\n",
            "        [0.4546, 0.4081, 0.1373],\n",
            "        [0.4921, 0.2721, 0.2358],\n",
            "        [0.2808, 0.3330, 0.3862]], device='cuda:0')\n",
            "tensor([1, 1, 2, 0, 1, 0, 2, 2], device='cuda:0')\n",
            "validating logits: tensor([[0.4101, 0.3163, 0.2735],\n",
            "        [0.3659, 0.3555, 0.2786],\n",
            "        [0.5351, 0.1686, 0.2963],\n",
            "        [0.2626, 0.3002, 0.4372],\n",
            "        [0.2444, 0.2829, 0.4728],\n",
            "        [0.3991, 0.3322, 0.2687],\n",
            "        [0.1342, 0.2165, 0.6493],\n",
            "        [0.4096, 0.4255, 0.1649]], device='cuda:0')\n",
            "prediction: tensor([0, 0, 0, 2, 2, 0, 2, 1], device='cuda:0')\n",
            "tensor([[0.4101, 0.3163, 0.2735],\n",
            "        [0.3659, 0.3555, 0.2786],\n",
            "        [0.5351, 0.1686, 0.2963],\n",
            "        [0.2626, 0.3002, 0.4372],\n",
            "        [0.2444, 0.2829, 0.4728],\n",
            "        [0.3991, 0.3322, 0.2687],\n",
            "        [0.1342, 0.2165, 0.6493],\n",
            "        [0.4096, 0.4255, 0.1649]], device='cuda:0')\n",
            "tensor([0, 1, 2, 0, 0, 0, 2, 1], device='cuda:0')\n",
            "validating logits: tensor([[0.7060, 0.0961, 0.1979],\n",
            "        [0.2494, 0.2936, 0.4570],\n",
            "        [0.5005, 0.2629, 0.2366],\n",
            "        [0.2282, 0.6515, 0.1203],\n",
            "        [0.3793, 0.3312, 0.2895],\n",
            "        [0.3727, 0.5253, 0.1019],\n",
            "        [0.3957, 0.2885, 0.3158],\n",
            "        [0.2901, 0.4975, 0.2124]], device='cuda:0')\n",
            "prediction: tensor([0, 2, 0, 1, 0, 1, 0, 1], device='cuda:0')\n",
            "tensor([[0.7060, 0.0961, 0.1979],\n",
            "        [0.2494, 0.2936, 0.4570],\n",
            "        [0.5005, 0.2629, 0.2366],\n",
            "        [0.2282, 0.6515, 0.1203],\n",
            "        [0.3793, 0.3312, 0.2895],\n",
            "        [0.3727, 0.5253, 0.1019],\n",
            "        [0.3957, 0.2885, 0.3158],\n",
            "        [0.2901, 0.4975, 0.2124]], device='cuda:0')\n",
            "tensor([1, 0, 2, 1, 0, 2, 1, 2], device='cuda:0')\n",
            "validating logits: tensor([[0.4760, 0.1457, 0.3783],\n",
            "        [0.2751, 0.2041, 0.5208],\n",
            "        [0.1778, 0.1529, 0.6693],\n",
            "        [0.3139, 0.2492, 0.4369],\n",
            "        [0.2853, 0.3023, 0.4124],\n",
            "        [0.2621, 0.4275, 0.3105],\n",
            "        [0.2783, 0.4552, 0.2664],\n",
            "        [0.6268, 0.2282, 0.1450]], device='cuda:0')\n",
            "prediction: tensor([0, 2, 2, 2, 2, 1, 1, 0], device='cuda:0')\n",
            "tensor([[0.4760, 0.1457, 0.3783],\n",
            "        [0.2751, 0.2041, 0.5208],\n",
            "        [0.1778, 0.1529, 0.6693],\n",
            "        [0.3139, 0.2492, 0.4369],\n",
            "        [0.2853, 0.3023, 0.4124],\n",
            "        [0.2621, 0.4275, 0.3105],\n",
            "        [0.2783, 0.4552, 0.2664],\n",
            "        [0.6268, 0.2282, 0.1450]], device='cuda:0')\n",
            "tensor([0, 2, 1, 0, 0, 1, 2, 0], device='cuda:0')\n",
            "validating logits: tensor([[0.3416, 0.3882, 0.2702],\n",
            "        [0.2311, 0.4980, 0.2710],\n",
            "        [0.4235, 0.3302, 0.2463],\n",
            "        [0.4099, 0.2424, 0.3477],\n",
            "        [0.2537, 0.5061, 0.2402],\n",
            "        [0.4178, 0.2347, 0.3475],\n",
            "        [0.2926, 0.4546, 0.2528],\n",
            "        [0.4386, 0.2963, 0.2650]], device='cuda:0')\n",
            "prediction: tensor([1, 1, 0, 0, 1, 0, 1, 0], device='cuda:0')\n",
            "tensor([[0.3416, 0.3882, 0.2702],\n",
            "        [0.2311, 0.4980, 0.2710],\n",
            "        [0.4235, 0.3302, 0.2463],\n",
            "        [0.4099, 0.2424, 0.3477],\n",
            "        [0.2537, 0.5061, 0.2402],\n",
            "        [0.4178, 0.2347, 0.3475],\n",
            "        [0.2926, 0.4546, 0.2528],\n",
            "        [0.4386, 0.2963, 0.2650]], device='cuda:0')\n",
            "tensor([2, 1, 1, 0, 2, 1, 0, 2], device='cuda:0')\n",
            "validating logits: tensor([[0.2666, 0.2017, 0.5318],\n",
            "        [0.3847, 0.3021, 0.3131],\n",
            "        [0.5135, 0.2237, 0.2629],\n",
            "        [0.5044, 0.2596, 0.2360],\n",
            "        [0.3400, 0.3124, 0.3477],\n",
            "        [0.5965, 0.2060, 0.1975],\n",
            "        [0.3264, 0.3715, 0.3021],\n",
            "        [0.3721, 0.3594, 0.2685]], device='cuda:0')\n",
            "prediction: tensor([2, 0, 0, 0, 2, 0, 1, 0], device='cuda:0')\n",
            "tensor([[0.2666, 0.2017, 0.5318],\n",
            "        [0.3847, 0.3021, 0.3131],\n",
            "        [0.5135, 0.2237, 0.2629],\n",
            "        [0.5044, 0.2596, 0.2360],\n",
            "        [0.3400, 0.3124, 0.3477],\n",
            "        [0.5965, 0.2060, 0.1975],\n",
            "        [0.3264, 0.3715, 0.3021],\n",
            "        [0.3721, 0.3594, 0.2685]], device='cuda:0')\n",
            "tensor([2, 1, 0, 2, 1, 0, 1, 0], device='cuda:0')\n",
            "validating logits: tensor([[0.5015, 0.3314, 0.1671],\n",
            "        [0.4841, 0.3041, 0.2119],\n",
            "        [0.2097, 0.5243, 0.2659],\n",
            "        [0.3751, 0.4360, 0.1889],\n",
            "        [0.3198, 0.4139, 0.2663],\n",
            "        [0.3072, 0.4840, 0.2088],\n",
            "        [0.3140, 0.4799, 0.2061],\n",
            "        [0.2521, 0.2753, 0.4726]], device='cuda:0')\n",
            "prediction: tensor([0, 0, 1, 1, 1, 1, 1, 2], device='cuda:0')\n",
            "tensor([[0.5015, 0.3314, 0.1671],\n",
            "        [0.4841, 0.3041, 0.2119],\n",
            "        [0.2097, 0.5243, 0.2659],\n",
            "        [0.3751, 0.4360, 0.1889],\n",
            "        [0.3198, 0.4139, 0.2663],\n",
            "        [0.3072, 0.4840, 0.2088],\n",
            "        [0.3140, 0.4799, 0.2061],\n",
            "        [0.2521, 0.2753, 0.4726]], device='cuda:0')\n",
            "tensor([2, 2, 1, 0, 0, 1, 2, 1], device='cuda:0')\n",
            "validating logits: tensor([[0.4299, 0.2173, 0.3528],\n",
            "        [0.3497, 0.4430, 0.2073],\n",
            "        [0.4247, 0.5072, 0.0681],\n",
            "        [0.3282, 0.3388, 0.3331],\n",
            "        [0.2360, 0.2416, 0.5224],\n",
            "        [0.4650, 0.3591, 0.1759],\n",
            "        [0.3366, 0.2546, 0.4089],\n",
            "        [0.3356, 0.4458, 0.2186]], device='cuda:0')\n",
            "prediction: tensor([0, 1, 1, 1, 2, 0, 2, 1], device='cuda:0')\n",
            "tensor([[0.4299, 0.2173, 0.3528],\n",
            "        [0.3497, 0.4430, 0.2073],\n",
            "        [0.4247, 0.5072, 0.0681],\n",
            "        [0.3282, 0.3388, 0.3331],\n",
            "        [0.2360, 0.2416, 0.5224],\n",
            "        [0.4650, 0.3591, 0.1759],\n",
            "        [0.3366, 0.2546, 0.4089],\n",
            "        [0.3356, 0.4458, 0.2186]], device='cuda:0')\n",
            "tensor([0, 2, 1, 0, 1, 2, 1, 2], device='cuda:0')\n",
            "validating logits: tensor([[0.4845, 0.2803, 0.2352],\n",
            "        [0.2002, 0.5911, 0.2087],\n",
            "        [0.1991, 0.4480, 0.3529],\n",
            "        [0.1017, 0.6542, 0.2441],\n",
            "        [0.1922, 0.4729, 0.3349],\n",
            "        [0.2363, 0.2469, 0.5168],\n",
            "        [0.3787, 0.2881, 0.3332],\n",
            "        [0.1484, 0.1665, 0.6852]], device='cuda:0')\n",
            "prediction: tensor([0, 1, 1, 1, 1, 2, 0, 2], device='cuda:0')\n",
            "tensor([[0.4845, 0.2803, 0.2352],\n",
            "        [0.2002, 0.5911, 0.2087],\n",
            "        [0.1991, 0.4480, 0.3529],\n",
            "        [0.1017, 0.6542, 0.2441],\n",
            "        [0.1922, 0.4729, 0.3349],\n",
            "        [0.2363, 0.2469, 0.5168],\n",
            "        [0.3787, 0.2881, 0.3332],\n",
            "        [0.1484, 0.1665, 0.6852]], device='cuda:0')\n",
            "tensor([0, 2, 2, 0], device='cuda:0')\n",
            "validating logits: tensor([[0.2712, 0.4130, 0.3158],\n",
            "        [0.3207, 0.3753, 0.3039],\n",
            "        [0.2140, 0.5267, 0.2593],\n",
            "        [0.1930, 0.5766, 0.2304]], device='cuda:0')\n",
            "prediction: tensor([1, 1, 1, 1], device='cuda:0')\n",
            "tensor([[0.2712, 0.4130, 0.3158],\n",
            "        [0.3207, 0.3753, 0.3039],\n",
            "        [0.2140, 0.5267, 0.2593],\n",
            "        [0.1930, 0.5766, 0.2304]], device='cuda:0')\n",
            "Epochs: 1 | Train Loss:  0.141             | Train Accuracy:  0.304             | Val Loss:  0.144             | Val Accuracy:  0.330\n",
            "Found a better model\n"
          ]
        },
        {
          "output_type": "stream",
          "name": "stderr",
          "text": [
            "\r  0%|          | 0/63 [00:00<?, ?it/s]"
          ]
        },
        {
          "output_type": "stream",
          "name": "stdout",
          "text": [
            "training logits: tensor([[0.2498, 0.3577, 0.3926],\n",
            "        [0.5866, 0.2364, 0.1770],\n",
            "        [0.3134, 0.4542, 0.2325],\n",
            "        [0.4310, 0.1829, 0.3861],\n",
            "        [0.4288, 0.1956, 0.3757],\n",
            "        [0.3392, 0.2778, 0.3830],\n",
            "        [0.2580, 0.5195, 0.2225],\n",
            "        [0.4063, 0.3479, 0.2458]], device='cuda:0', grad_fn=<SoftmaxBackward0>)\n",
            "training outputs\n",
            "tensor([[0.2498, 0.3577, 0.3926],\n",
            "        [0.5866, 0.2364, 0.1770],\n",
            "        [0.3134, 0.4542, 0.2325],\n",
            "        [0.4310, 0.1829, 0.3861],\n",
            "        [0.4288, 0.1956, 0.3757],\n",
            "        [0.3392, 0.2778, 0.3830],\n",
            "        [0.2580, 0.5195, 0.2225],\n",
            "        [0.4063, 0.3479, 0.2458]], device='cuda:0', grad_fn=<SoftmaxBackward0>)\n",
            "prediction: tensor([2, 0, 1, 0, 0, 2, 1, 0], device='cuda:0')\n",
            "train labels: tensor([2, 1, 2, 1, 0, 2, 1, 2], device='cuda:0')\n"
          ]
        },
        {
          "output_type": "stream",
          "name": "stderr",
          "text": [
            "\r  2%|▏         | 1/63 [00:00<00:46,  1.35it/s]"
          ]
        },
        {
          "output_type": "stream",
          "name": "stdout",
          "text": [
            "training logits: tensor([[0.3239, 0.2186, 0.4575],\n",
            "        [0.4420, 0.4489, 0.1091],\n",
            "        [0.4108, 0.3339, 0.2554],\n",
            "        [0.3961, 0.2069, 0.3970],\n",
            "        [0.4256, 0.3713, 0.2031],\n",
            "        [0.4282, 0.3156, 0.2562],\n",
            "        [0.3637, 0.3651, 0.2712],\n",
            "        [0.4862, 0.3007, 0.2131]], device='cuda:0', grad_fn=<SoftmaxBackward0>)\n",
            "training outputs\n",
            "tensor([[0.3239, 0.2186, 0.4575],\n",
            "        [0.4420, 0.4489, 0.1091],\n",
            "        [0.4108, 0.3339, 0.2554],\n",
            "        [0.3961, 0.2069, 0.3970],\n",
            "        [0.4256, 0.3713, 0.2031],\n",
            "        [0.4282, 0.3156, 0.2562],\n",
            "        [0.3637, 0.3651, 0.2712],\n",
            "        [0.4862, 0.3007, 0.2131]], device='cuda:0', grad_fn=<SoftmaxBackward0>)\n",
            "prediction: tensor([2, 1, 0, 2, 0, 0, 1, 0], device='cuda:0')\n",
            "train labels: tensor([2, 1, 1, 2, 1, 2, 2, 1], device='cuda:0')\n"
          ]
        },
        {
          "output_type": "stream",
          "name": "stderr",
          "text": [
            "\r  3%|▎         | 2/63 [00:01<00:44,  1.37it/s]"
          ]
        },
        {
          "output_type": "stream",
          "name": "stdout",
          "text": [
            "training logits: tensor([[0.3405, 0.3155, 0.3440],\n",
            "        [0.5385, 0.2664, 0.1952],\n",
            "        [0.5257, 0.1961, 0.2782],\n",
            "        [0.3928, 0.3398, 0.2675],\n",
            "        [0.2371, 0.2301, 0.5328],\n",
            "        [0.1467, 0.4002, 0.4531],\n",
            "        [0.5008, 0.2466, 0.2526],\n",
            "        [0.4956, 0.1995, 0.3050]], device='cuda:0', grad_fn=<SoftmaxBackward0>)\n",
            "training outputs\n",
            "tensor([[0.3405, 0.3155, 0.3440],\n",
            "        [0.5385, 0.2664, 0.1952],\n",
            "        [0.5257, 0.1961, 0.2782],\n",
            "        [0.3928, 0.3398, 0.2675],\n",
            "        [0.2371, 0.2301, 0.5328],\n",
            "        [0.1467, 0.4002, 0.4531],\n",
            "        [0.5008, 0.2466, 0.2526],\n",
            "        [0.4956, 0.1995, 0.3050]], device='cuda:0', grad_fn=<SoftmaxBackward0>)\n",
            "prediction: tensor([2, 0, 0, 0, 2, 2, 0, 0], device='cuda:0')\n",
            "train labels: tensor([0, 2, 0, 1, 0, 2, 0, 1], device='cuda:0')\n"
          ]
        },
        {
          "output_type": "stream",
          "name": "stderr",
          "text": [
            "\r  5%|▍         | 3/63 [00:02<00:43,  1.37it/s]"
          ]
        },
        {
          "output_type": "stream",
          "name": "stdout",
          "text": [
            "training logits: tensor([[0.2348, 0.3500, 0.4152],\n",
            "        [0.3097, 0.3446, 0.3457],\n",
            "        [0.2765, 0.1687, 0.5548],\n",
            "        [0.3762, 0.3894, 0.2344],\n",
            "        [0.4109, 0.3957, 0.1933],\n",
            "        [0.2433, 0.2168, 0.5399],\n",
            "        [0.4523, 0.3451, 0.2026],\n",
            "        [0.3426, 0.2408, 0.4165]], device='cuda:0', grad_fn=<SoftmaxBackward0>)\n",
            "training outputs\n",
            "tensor([[0.2348, 0.3500, 0.4152],\n",
            "        [0.3097, 0.3446, 0.3457],\n",
            "        [0.2765, 0.1687, 0.5548],\n",
            "        [0.3762, 0.3894, 0.2344],\n",
            "        [0.4109, 0.3957, 0.1933],\n",
            "        [0.2433, 0.2168, 0.5399],\n",
            "        [0.4523, 0.3451, 0.2026],\n",
            "        [0.3426, 0.2408, 0.4165]], device='cuda:0', grad_fn=<SoftmaxBackward0>)\n",
            "prediction: tensor([2, 2, 2, 1, 0, 2, 0, 2], device='cuda:0')\n",
            "train labels: tensor([0, 0, 2, 1, 0, 0, 2, 1], device='cuda:0')\n"
          ]
        },
        {
          "output_type": "stream",
          "name": "stderr",
          "text": [
            "\r  6%|▋         | 4/63 [00:02<00:43,  1.37it/s]"
          ]
        },
        {
          "output_type": "stream",
          "name": "stdout",
          "text": [
            "training logits: tensor([[0.3523, 0.3258, 0.3219],\n",
            "        [0.3211, 0.2818, 0.3971],\n",
            "        [0.5318, 0.1617, 0.3065],\n",
            "        [0.2441, 0.2963, 0.4596],\n",
            "        [0.3741, 0.5105, 0.1154],\n",
            "        [0.5448, 0.3132, 0.1421],\n",
            "        [0.3447, 0.3471, 0.3082],\n",
            "        [0.4678, 0.2326, 0.2996]], device='cuda:0', grad_fn=<SoftmaxBackward0>)\n",
            "training outputs\n",
            "tensor([[0.3523, 0.3258, 0.3219],\n",
            "        [0.3211, 0.2818, 0.3971],\n",
            "        [0.5318, 0.1617, 0.3065],\n",
            "        [0.2441, 0.2963, 0.4596],\n",
            "        [0.3741, 0.5105, 0.1154],\n",
            "        [0.5448, 0.3132, 0.1421],\n",
            "        [0.3447, 0.3471, 0.3082],\n",
            "        [0.4678, 0.2326, 0.2996]], device='cuda:0', grad_fn=<SoftmaxBackward0>)\n",
            "prediction: tensor([0, 2, 0, 2, 1, 0, 1, 0], device='cuda:0')\n",
            "train labels: tensor([1, 0, 0, 1, 1, 1, 1, 0], device='cuda:0')\n"
          ]
        },
        {
          "output_type": "stream",
          "name": "stderr",
          "text": [
            "\r  8%|▊         | 5/63 [00:03<00:42,  1.37it/s]"
          ]
        },
        {
          "output_type": "stream",
          "name": "stdout",
          "text": [
            "training logits: tensor([[0.3774, 0.2560, 0.3666],\n",
            "        [0.4846, 0.3320, 0.1834],\n",
            "        [0.2696, 0.3504, 0.3800],\n",
            "        [0.1566, 0.5234, 0.3200],\n",
            "        [0.3941, 0.3384, 0.2675],\n",
            "        [0.4582, 0.2965, 0.2453],\n",
            "        [0.2490, 0.4727, 0.2783],\n",
            "        [0.2617, 0.5370, 0.2013]], device='cuda:0', grad_fn=<SoftmaxBackward0>)\n",
            "training outputs\n",
            "tensor([[0.3774, 0.2560, 0.3666],\n",
            "        [0.4846, 0.3320, 0.1834],\n",
            "        [0.2696, 0.3504, 0.3800],\n",
            "        [0.1566, 0.5234, 0.3200],\n",
            "        [0.3941, 0.3384, 0.2675],\n",
            "        [0.4582, 0.2965, 0.2453],\n",
            "        [0.2490, 0.4727, 0.2783],\n",
            "        [0.2617, 0.5370, 0.2013]], device='cuda:0', grad_fn=<SoftmaxBackward0>)\n",
            "prediction: tensor([0, 0, 2, 1, 0, 0, 1, 1], device='cuda:0')\n",
            "train labels: tensor([0, 2, 0, 1, 2, 0, 0, 1], device='cuda:0')\n"
          ]
        },
        {
          "output_type": "stream",
          "name": "stderr",
          "text": [
            "\r 10%|▉         | 6/63 [00:04<00:41,  1.37it/s]"
          ]
        },
        {
          "output_type": "stream",
          "name": "stdout",
          "text": [
            "training logits: tensor([[0.5502, 0.2760, 0.1738],\n",
            "        [0.3681, 0.2640, 0.3680],\n",
            "        [0.4018, 0.2006, 0.3977],\n",
            "        [0.3652, 0.4051, 0.2297],\n",
            "        [0.1299, 0.6119, 0.2582],\n",
            "        [0.3379, 0.3398, 0.3223],\n",
            "        [0.3458, 0.2360, 0.4182],\n",
            "        [0.2310, 0.5928, 0.1761]], device='cuda:0', grad_fn=<SoftmaxBackward0>)\n",
            "training outputs\n",
            "tensor([[0.5502, 0.2760, 0.1738],\n",
            "        [0.3681, 0.2640, 0.3680],\n",
            "        [0.4018, 0.2006, 0.3977],\n",
            "        [0.3652, 0.4051, 0.2297],\n",
            "        [0.1299, 0.6119, 0.2582],\n",
            "        [0.3379, 0.3398, 0.3223],\n",
            "        [0.3458, 0.2360, 0.4182],\n",
            "        [0.2310, 0.5928, 0.1761]], device='cuda:0', grad_fn=<SoftmaxBackward0>)\n",
            "prediction: tensor([0, 0, 0, 1, 1, 1, 2, 1], device='cuda:0')\n",
            "train labels: tensor([1, 2, 2, 1, 0, 2, 0, 1], device='cuda:0')\n"
          ]
        },
        {
          "output_type": "stream",
          "name": "stderr",
          "text": [
            "\r 11%|█         | 7/63 [00:05<00:40,  1.37it/s]"
          ]
        },
        {
          "output_type": "stream",
          "name": "stdout",
          "text": [
            "training logits: tensor([[0.3747, 0.3074, 0.3179],\n",
            "        [0.4638, 0.2920, 0.2442],\n",
            "        [0.3595, 0.3030, 0.3375],\n",
            "        [0.2014, 0.5471, 0.2515],\n",
            "        [0.5750, 0.1205, 0.3045],\n",
            "        [0.4957, 0.3943, 0.1099],\n",
            "        [0.3843, 0.3847, 0.2309],\n",
            "        [0.1901, 0.2836, 0.5262]], device='cuda:0', grad_fn=<SoftmaxBackward0>)\n",
            "training outputs\n",
            "tensor([[0.3747, 0.3074, 0.3179],\n",
            "        [0.4638, 0.2920, 0.2442],\n",
            "        [0.3595, 0.3030, 0.3375],\n",
            "        [0.2014, 0.5471, 0.2515],\n",
            "        [0.5750, 0.1205, 0.3045],\n",
            "        [0.4957, 0.3943, 0.1099],\n",
            "        [0.3843, 0.3847, 0.2309],\n",
            "        [0.1901, 0.2836, 0.5262]], device='cuda:0', grad_fn=<SoftmaxBackward0>)\n",
            "prediction: tensor([0, 0, 0, 1, 0, 0, 1, 2], device='cuda:0')\n",
            "train labels: tensor([1, 2, 1, 0, 1, 0, 1, 1], device='cuda:0')\n"
          ]
        },
        {
          "output_type": "stream",
          "name": "stderr",
          "text": [
            "\r 13%|█▎        | 8/63 [00:05<00:40,  1.37it/s]"
          ]
        },
        {
          "output_type": "stream",
          "name": "stdout",
          "text": [
            "training logits: tensor([[0.2991, 0.5120, 0.1889],\n",
            "        [0.3005, 0.4736, 0.2259],\n",
            "        [0.5693, 0.1914, 0.2393],\n",
            "        [0.4952, 0.3178, 0.1870],\n",
            "        [0.3350, 0.5023, 0.1628],\n",
            "        [0.4087, 0.3767, 0.2146],\n",
            "        [0.3447, 0.2829, 0.3723],\n",
            "        [0.3381, 0.2764, 0.3855]], device='cuda:0', grad_fn=<SoftmaxBackward0>)\n",
            "training outputs\n",
            "tensor([[0.2991, 0.5120, 0.1889],\n",
            "        [0.3005, 0.4736, 0.2259],\n",
            "        [0.5693, 0.1914, 0.2393],\n",
            "        [0.4952, 0.3178, 0.1870],\n",
            "        [0.3350, 0.5023, 0.1628],\n",
            "        [0.4087, 0.3767, 0.2146],\n",
            "        [0.3447, 0.2829, 0.3723],\n",
            "        [0.3381, 0.2764, 0.3855]], device='cuda:0', grad_fn=<SoftmaxBackward0>)\n",
            "prediction: tensor([1, 1, 0, 0, 1, 0, 2, 2], device='cuda:0')\n",
            "train labels: tensor([0, 0, 0, 0, 2, 2, 0, 1], device='cuda:0')\n"
          ]
        },
        {
          "output_type": "stream",
          "name": "stderr",
          "text": [
            "\r 14%|█▍        | 9/63 [00:06<00:39,  1.37it/s]"
          ]
        },
        {
          "output_type": "stream",
          "name": "stdout",
          "text": [
            "training logits: tensor([[0.3333, 0.2733, 0.3934],\n",
            "        [0.4640, 0.3352, 0.2007],\n",
            "        [0.4779, 0.2630, 0.2591],\n",
            "        [0.3647, 0.4307, 0.2046],\n",
            "        [0.2993, 0.4821, 0.2186],\n",
            "        [0.3657, 0.5034, 0.1309],\n",
            "        [0.4855, 0.3268, 0.1877],\n",
            "        [0.2722, 0.3263, 0.4016]], device='cuda:0', grad_fn=<SoftmaxBackward0>)\n",
            "training outputs\n",
            "tensor([[0.3333, 0.2733, 0.3934],\n",
            "        [0.4640, 0.3352, 0.2007],\n",
            "        [0.4779, 0.2630, 0.2591],\n",
            "        [0.3647, 0.4307, 0.2046],\n",
            "        [0.2993, 0.4821, 0.2186],\n",
            "        [0.3657, 0.5034, 0.1309],\n",
            "        [0.4855, 0.3268, 0.1877],\n",
            "        [0.2722, 0.3263, 0.4016]], device='cuda:0', grad_fn=<SoftmaxBackward0>)\n",
            "prediction: tensor([2, 0, 0, 1, 1, 1, 0, 2], device='cuda:0')\n",
            "train labels: tensor([2, 2, 1, 1, 2, 0, 1, 2], device='cuda:0')\n"
          ]
        },
        {
          "output_type": "stream",
          "name": "stderr",
          "text": [
            "\r 16%|█▌        | 10/63 [00:07<00:38,  1.37it/s]"
          ]
        },
        {
          "output_type": "stream",
          "name": "stdout",
          "text": [
            "training logits: tensor([[0.4512, 0.3176, 0.2312],\n",
            "        [0.3838, 0.3542, 0.2621],\n",
            "        [0.4125, 0.4030, 0.1845],\n",
            "        [0.2961, 0.3340, 0.3700],\n",
            "        [0.4094, 0.4003, 0.1903],\n",
            "        [0.4206, 0.3890, 0.1904],\n",
            "        [0.4897, 0.2245, 0.2858],\n",
            "        [0.3509, 0.2709, 0.3782]], device='cuda:0', grad_fn=<SoftmaxBackward0>)\n",
            "training outputs\n",
            "tensor([[0.4512, 0.3176, 0.2312],\n",
            "        [0.3838, 0.3542, 0.2621],\n",
            "        [0.4125, 0.4030, 0.1845],\n",
            "        [0.2961, 0.3340, 0.3700],\n",
            "        [0.4094, 0.4003, 0.1903],\n",
            "        [0.4206, 0.3890, 0.1904],\n",
            "        [0.4897, 0.2245, 0.2858],\n",
            "        [0.3509, 0.2709, 0.3782]], device='cuda:0', grad_fn=<SoftmaxBackward0>)\n",
            "prediction: tensor([0, 0, 0, 2, 0, 0, 0, 2], device='cuda:0')\n",
            "train labels: tensor([2, 2, 0, 2, 1, 0, 1, 1], device='cuda:0')\n"
          ]
        },
        {
          "output_type": "stream",
          "name": "stderr",
          "text": [
            "\r 17%|█▋        | 11/63 [00:08<00:37,  1.37it/s]"
          ]
        },
        {
          "output_type": "stream",
          "name": "stdout",
          "text": [
            "training logits: tensor([[0.1579, 0.3866, 0.4554],\n",
            "        [0.2536, 0.5120, 0.2344],\n",
            "        [0.2605, 0.3899, 0.3497],\n",
            "        [0.1447, 0.4951, 0.3602],\n",
            "        [0.3705, 0.2776, 0.3518],\n",
            "        [0.3751, 0.3971, 0.2277],\n",
            "        [0.3434, 0.4507, 0.2059],\n",
            "        [0.3422, 0.3468, 0.3110]], device='cuda:0', grad_fn=<SoftmaxBackward0>)\n",
            "training outputs\n",
            "tensor([[0.1579, 0.3866, 0.4554],\n",
            "        [0.2536, 0.5120, 0.2344],\n",
            "        [0.2605, 0.3899, 0.3497],\n",
            "        [0.1447, 0.4951, 0.3602],\n",
            "        [0.3705, 0.2776, 0.3518],\n",
            "        [0.3751, 0.3971, 0.2277],\n",
            "        [0.3434, 0.4507, 0.2059],\n",
            "        [0.3422, 0.3468, 0.3110]], device='cuda:0', grad_fn=<SoftmaxBackward0>)\n",
            "prediction: tensor([2, 1, 1, 1, 0, 1, 1, 1], device='cuda:0')\n",
            "train labels: tensor([2, 0, 2, 0, 1, 2, 2, 1], device='cuda:0')\n"
          ]
        },
        {
          "output_type": "stream",
          "name": "stderr",
          "text": [
            "\r 19%|█▉        | 12/63 [00:08<00:37,  1.37it/s]"
          ]
        },
        {
          "output_type": "stream",
          "name": "stdout",
          "text": [
            "training logits: tensor([[0.5397, 0.1947, 0.2656],\n",
            "        [0.3236, 0.2230, 0.4534],\n",
            "        [0.4823, 0.2283, 0.2894],\n",
            "        [0.2937, 0.2225, 0.4838],\n",
            "        [0.4258, 0.3886, 0.1856],\n",
            "        [0.5566, 0.3183, 0.1252],\n",
            "        [0.3045, 0.3974, 0.2980],\n",
            "        [0.6067, 0.2039, 0.1894]], device='cuda:0', grad_fn=<SoftmaxBackward0>)\n",
            "training outputs\n",
            "tensor([[0.5397, 0.1947, 0.2656],\n",
            "        [0.3236, 0.2230, 0.4534],\n",
            "        [0.4823, 0.2283, 0.2894],\n",
            "        [0.2937, 0.2225, 0.4838],\n",
            "        [0.4258, 0.3886, 0.1856],\n",
            "        [0.5566, 0.3183, 0.1252],\n",
            "        [0.3045, 0.3974, 0.2980],\n",
            "        [0.6067, 0.2039, 0.1894]], device='cuda:0', grad_fn=<SoftmaxBackward0>)\n",
            "prediction: tensor([0, 2, 0, 2, 0, 0, 1, 0], device='cuda:0')\n",
            "train labels: tensor([1, 1, 2, 0, 2, 0, 2, 1], device='cuda:0')\n"
          ]
        },
        {
          "output_type": "stream",
          "name": "stderr",
          "text": [
            "\r 21%|██        | 13/63 [00:09<00:36,  1.37it/s]"
          ]
        },
        {
          "output_type": "stream",
          "name": "stdout",
          "text": [
            "training logits: tensor([[0.2542, 0.2453, 0.5005],\n",
            "        [0.1690, 0.3858, 0.4452],\n",
            "        [0.3459, 0.3128, 0.3413],\n",
            "        [0.1973, 0.5225, 0.2802],\n",
            "        [0.4826, 0.3309, 0.1865],\n",
            "        [0.4237, 0.0733, 0.5030],\n",
            "        [0.3206, 0.3494, 0.3300],\n",
            "        [0.4203, 0.3720, 0.2077]], device='cuda:0', grad_fn=<SoftmaxBackward0>)\n",
            "training outputs\n",
            "tensor([[0.2542, 0.2453, 0.5005],\n",
            "        [0.1690, 0.3858, 0.4452],\n",
            "        [0.3459, 0.3128, 0.3413],\n",
            "        [0.1973, 0.5225, 0.2802],\n",
            "        [0.4826, 0.3309, 0.1865],\n",
            "        [0.4237, 0.0733, 0.5030],\n",
            "        [0.3206, 0.3494, 0.3300],\n",
            "        [0.4203, 0.3720, 0.2077]], device='cuda:0', grad_fn=<SoftmaxBackward0>)\n",
            "prediction: tensor([2, 2, 0, 1, 0, 2, 1, 0], device='cuda:0')\n",
            "train labels: tensor([2, 1, 2, 2, 2, 2, 0, 0], device='cuda:0')\n"
          ]
        },
        {
          "output_type": "stream",
          "name": "stderr",
          "text": [
            "\r 22%|██▏       | 14/63 [00:10<00:35,  1.37it/s]"
          ]
        },
        {
          "output_type": "stream",
          "name": "stdout",
          "text": [
            "training logits: tensor([[0.3191, 0.4693, 0.2116],\n",
            "        [0.2530, 0.2597, 0.4873],\n",
            "        [0.1903, 0.4014, 0.4083],\n",
            "        [0.2970, 0.3176, 0.3854],\n",
            "        [0.3402, 0.4246, 0.2353],\n",
            "        [0.2760, 0.3603, 0.3636],\n",
            "        [0.3532, 0.4398, 0.2070],\n",
            "        [0.4065, 0.2906, 0.3029]], device='cuda:0', grad_fn=<SoftmaxBackward0>)\n",
            "training outputs\n",
            "tensor([[0.3191, 0.4693, 0.2116],\n",
            "        [0.2530, 0.2597, 0.4873],\n",
            "        [0.1903, 0.4014, 0.4083],\n",
            "        [0.2970, 0.3176, 0.3854],\n",
            "        [0.3402, 0.4246, 0.2353],\n",
            "        [0.2760, 0.3603, 0.3636],\n",
            "        [0.3532, 0.4398, 0.2070],\n",
            "        [0.4065, 0.2906, 0.3029]], device='cuda:0', grad_fn=<SoftmaxBackward0>)\n",
            "prediction: tensor([1, 2, 2, 2, 1, 2, 1, 0], device='cuda:0')\n",
            "train labels: tensor([0, 1, 0, 2, 0, 2, 0, 0], device='cuda:0')\n"
          ]
        },
        {
          "output_type": "stream",
          "name": "stderr",
          "text": [
            "\r 24%|██▍       | 15/63 [00:10<00:35,  1.37it/s]"
          ]
        },
        {
          "output_type": "stream",
          "name": "stdout",
          "text": [
            "training logits: tensor([[0.4155, 0.3581, 0.2263],\n",
            "        [0.5387, 0.2559, 0.2054],\n",
            "        [0.4222, 0.2772, 0.3006],\n",
            "        [0.4531, 0.3061, 0.2408],\n",
            "        [0.2329, 0.4567, 0.3104],\n",
            "        [0.5636, 0.2629, 0.1735],\n",
            "        [0.5370, 0.2290, 0.2340],\n",
            "        [0.6166, 0.1011, 0.2824]], device='cuda:0', grad_fn=<SoftmaxBackward0>)\n",
            "training outputs\n",
            "tensor([[0.4155, 0.3581, 0.2263],\n",
            "        [0.5387, 0.2559, 0.2054],\n",
            "        [0.4222, 0.2772, 0.3006],\n",
            "        [0.4531, 0.3061, 0.2408],\n",
            "        [0.2329, 0.4567, 0.3104],\n",
            "        [0.5636, 0.2629, 0.1735],\n",
            "        [0.5370, 0.2290, 0.2340],\n",
            "        [0.6166, 0.1011, 0.2824]], device='cuda:0', grad_fn=<SoftmaxBackward0>)\n",
            "prediction: tensor([0, 0, 0, 0, 1, 0, 0, 0], device='cuda:0')\n",
            "train labels: tensor([0, 1, 0, 2, 0, 2, 0, 2], device='cuda:0')\n"
          ]
        },
        {
          "output_type": "stream",
          "name": "stderr",
          "text": [
            "\r 25%|██▌       | 16/63 [00:11<00:34,  1.37it/s]"
          ]
        },
        {
          "output_type": "stream",
          "name": "stdout",
          "text": [
            "training logits: tensor([[0.4111, 0.2507, 0.3382],\n",
            "        [0.5007, 0.3550, 0.1443],\n",
            "        [0.2744, 0.4149, 0.3107],\n",
            "        [0.3705, 0.4937, 0.1359],\n",
            "        [0.4555, 0.1648, 0.3797],\n",
            "        [0.2571, 0.2958, 0.4472],\n",
            "        [0.3366, 0.3638, 0.2996],\n",
            "        [0.3109, 0.4286, 0.2605]], device='cuda:0', grad_fn=<SoftmaxBackward0>)\n",
            "training outputs\n",
            "tensor([[0.4111, 0.2507, 0.3382],\n",
            "        [0.5007, 0.3550, 0.1443],\n",
            "        [0.2744, 0.4149, 0.3107],\n",
            "        [0.3705, 0.4937, 0.1359],\n",
            "        [0.4555, 0.1648, 0.3797],\n",
            "        [0.2571, 0.2958, 0.4472],\n",
            "        [0.3366, 0.3638, 0.2996],\n",
            "        [0.3109, 0.4286, 0.2605]], device='cuda:0', grad_fn=<SoftmaxBackward0>)\n",
            "prediction: tensor([0, 0, 1, 1, 0, 2, 1, 1], device='cuda:0')\n",
            "train labels: tensor([2, 2, 0, 1, 2, 2, 2, 1], device='cuda:0')\n"
          ]
        },
        {
          "output_type": "stream",
          "name": "stderr",
          "text": [
            "\r 27%|██▋       | 17/63 [00:12<00:33,  1.37it/s]"
          ]
        },
        {
          "output_type": "stream",
          "name": "stdout",
          "text": [
            "training logits: tensor([[0.3133, 0.2337, 0.4530],\n",
            "        [0.1393, 0.3263, 0.5344],\n",
            "        [0.4686, 0.2511, 0.2804],\n",
            "        [0.3418, 0.3468, 0.3114],\n",
            "        [0.4726, 0.2832, 0.2442],\n",
            "        [0.3068, 0.2344, 0.4588],\n",
            "        [0.4200, 0.3459, 0.2340],\n",
            "        [0.3954, 0.2536, 0.3510]], device='cuda:0', grad_fn=<SoftmaxBackward0>)\n",
            "training outputs\n",
            "tensor([[0.3133, 0.2337, 0.4530],\n",
            "        [0.1393, 0.3263, 0.5344],\n",
            "        [0.4686, 0.2511, 0.2804],\n",
            "        [0.3418, 0.3468, 0.3114],\n",
            "        [0.4726, 0.2832, 0.2442],\n",
            "        [0.3068, 0.2344, 0.4588],\n",
            "        [0.4200, 0.3459, 0.2340],\n",
            "        [0.3954, 0.2536, 0.3510]], device='cuda:0', grad_fn=<SoftmaxBackward0>)\n",
            "prediction: tensor([2, 2, 0, 1, 0, 2, 0, 0], device='cuda:0')\n",
            "train labels: tensor([2, 0, 0, 0, 0, 0, 2, 2], device='cuda:0')\n"
          ]
        },
        {
          "output_type": "stream",
          "name": "stderr",
          "text": [
            "\r 29%|██▊       | 18/63 [00:13<00:32,  1.37it/s]"
          ]
        },
        {
          "output_type": "stream",
          "name": "stdout",
          "text": [
            "training logits: tensor([[0.3149, 0.3732, 0.3120],\n",
            "        [0.1013, 0.3245, 0.5742],\n",
            "        [0.3085, 0.3829, 0.3086],\n",
            "        [0.2932, 0.4529, 0.2538],\n",
            "        [0.2192, 0.4423, 0.3386],\n",
            "        [0.3695, 0.4118, 0.2188],\n",
            "        [0.2494, 0.3779, 0.3727],\n",
            "        [0.1373, 0.4050, 0.4577]], device='cuda:0', grad_fn=<SoftmaxBackward0>)\n",
            "training outputs\n",
            "tensor([[0.3149, 0.3732, 0.3120],\n",
            "        [0.1013, 0.3245, 0.5742],\n",
            "        [0.3085, 0.3829, 0.3086],\n",
            "        [0.2932, 0.4529, 0.2538],\n",
            "        [0.2192, 0.4423, 0.3386],\n",
            "        [0.3695, 0.4118, 0.2188],\n",
            "        [0.2494, 0.3779, 0.3727],\n",
            "        [0.1373, 0.4050, 0.4577]], device='cuda:0', grad_fn=<SoftmaxBackward0>)\n",
            "prediction: tensor([1, 2, 1, 1, 1, 1, 1, 2], device='cuda:0')\n",
            "train labels: tensor([0, 2, 2, 0, 0, 0, 0, 0], device='cuda:0')\n"
          ]
        },
        {
          "output_type": "stream",
          "name": "stderr",
          "text": [
            "\r 30%|███       | 19/63 [00:13<00:32,  1.37it/s]"
          ]
        },
        {
          "output_type": "stream",
          "name": "stdout",
          "text": [
            "training logits: tensor([[0.2708, 0.5004, 0.2288],\n",
            "        [0.5725, 0.0976, 0.3299],\n",
            "        [0.3960, 0.3687, 0.2353],\n",
            "        [0.2132, 0.3649, 0.4219],\n",
            "        [0.2049, 0.4836, 0.3115],\n",
            "        [0.3778, 0.4386, 0.1837],\n",
            "        [0.3141, 0.3026, 0.3833],\n",
            "        [0.3976, 0.2607, 0.3417]], device='cuda:0', grad_fn=<SoftmaxBackward0>)\n",
            "training outputs\n",
            "tensor([[0.2708, 0.5004, 0.2288],\n",
            "        [0.5725, 0.0976, 0.3299],\n",
            "        [0.3960, 0.3687, 0.2353],\n",
            "        [0.2132, 0.3649, 0.4219],\n",
            "        [0.2049, 0.4836, 0.3115],\n",
            "        [0.3778, 0.4386, 0.1837],\n",
            "        [0.3141, 0.3026, 0.3833],\n",
            "        [0.3976, 0.2607, 0.3417]], device='cuda:0', grad_fn=<SoftmaxBackward0>)\n",
            "prediction: tensor([1, 0, 0, 2, 1, 1, 2, 0], device='cuda:0')\n",
            "train labels: tensor([0, 0, 2, 0, 2, 2, 1, 2], device='cuda:0')\n"
          ]
        },
        {
          "output_type": "stream",
          "name": "stderr",
          "text": [
            "\r 32%|███▏      | 20/63 [00:14<00:31,  1.37it/s]"
          ]
        },
        {
          "output_type": "stream",
          "name": "stdout",
          "text": [
            "training logits: tensor([[0.2569, 0.2073, 0.5357],\n",
            "        [0.1904, 0.2799, 0.5297],\n",
            "        [0.4763, 0.3756, 0.1481],\n",
            "        [0.3713, 0.2668, 0.3619],\n",
            "        [0.3147, 0.4416, 0.2437],\n",
            "        [0.2204, 0.3039, 0.4757],\n",
            "        [0.3386, 0.2432, 0.4182],\n",
            "        [0.2121, 0.2858, 0.5020]], device='cuda:0', grad_fn=<SoftmaxBackward0>)\n",
            "training outputs\n",
            "tensor([[0.2569, 0.2073, 0.5357],\n",
            "        [0.1904, 0.2799, 0.5297],\n",
            "        [0.4763, 0.3756, 0.1481],\n",
            "        [0.3713, 0.2668, 0.3619],\n",
            "        [0.3147, 0.4416, 0.2437],\n",
            "        [0.2204, 0.3039, 0.4757],\n",
            "        [0.3386, 0.2432, 0.4182],\n",
            "        [0.2121, 0.2858, 0.5020]], device='cuda:0', grad_fn=<SoftmaxBackward0>)\n",
            "prediction: tensor([2, 2, 0, 0, 1, 2, 2, 2], device='cuda:0')\n",
            "train labels: tensor([1, 2, 1, 1, 0, 2, 2, 2], device='cuda:0')\n"
          ]
        },
        {
          "output_type": "stream",
          "name": "stderr",
          "text": [
            "\r 33%|███▎      | 21/63 [00:15<00:30,  1.37it/s]"
          ]
        },
        {
          "output_type": "stream",
          "name": "stdout",
          "text": [
            "training logits: tensor([[0.6009, 0.1724, 0.2267],\n",
            "        [0.1076, 0.4797, 0.4127],\n",
            "        [0.4618, 0.2162, 0.3220],\n",
            "        [0.3188, 0.3430, 0.3383],\n",
            "        [0.4108, 0.3623, 0.2269],\n",
            "        [0.1438, 0.5171, 0.3392],\n",
            "        [0.4939, 0.2934, 0.2127],\n",
            "        [0.2897, 0.0746, 0.6357]], device='cuda:0', grad_fn=<SoftmaxBackward0>)\n",
            "training outputs\n",
            "tensor([[0.6009, 0.1724, 0.2267],\n",
            "        [0.1076, 0.4797, 0.4127],\n",
            "        [0.4618, 0.2162, 0.3220],\n",
            "        [0.3188, 0.3430, 0.3383],\n",
            "        [0.4108, 0.3623, 0.2269],\n",
            "        [0.1438, 0.5171, 0.3392],\n",
            "        [0.4939, 0.2934, 0.2127],\n",
            "        [0.2897, 0.0746, 0.6357]], device='cuda:0', grad_fn=<SoftmaxBackward0>)\n",
            "prediction: tensor([0, 1, 0, 1, 0, 1, 0, 2], device='cuda:0')\n",
            "train labels: tensor([2, 0, 1, 0, 0, 2, 1, 0], device='cuda:0')\n"
          ]
        },
        {
          "output_type": "stream",
          "name": "stderr",
          "text": [
            "\r 35%|███▍      | 22/63 [00:16<00:29,  1.37it/s]"
          ]
        },
        {
          "output_type": "stream",
          "name": "stdout",
          "text": [
            "training logits: tensor([[0.1749, 0.4661, 0.3590],\n",
            "        [0.5073, 0.1342, 0.3585],\n",
            "        [0.2424, 0.2990, 0.4587],\n",
            "        [0.1169, 0.2928, 0.5903],\n",
            "        [0.3900, 0.3346, 0.2754],\n",
            "        [0.2962, 0.3012, 0.4026],\n",
            "        [0.3139, 0.3473, 0.3388],\n",
            "        [0.3459, 0.3343, 0.3198]], device='cuda:0', grad_fn=<SoftmaxBackward0>)\n",
            "training outputs\n",
            "tensor([[0.1749, 0.4661, 0.3590],\n",
            "        [0.5073, 0.1342, 0.3585],\n",
            "        [0.2424, 0.2990, 0.4587],\n",
            "        [0.1169, 0.2928, 0.5903],\n",
            "        [0.3900, 0.3346, 0.2754],\n",
            "        [0.2962, 0.3012, 0.4026],\n",
            "        [0.3139, 0.3473, 0.3388],\n",
            "        [0.3459, 0.3343, 0.3198]], device='cuda:0', grad_fn=<SoftmaxBackward0>)\n",
            "prediction: tensor([1, 0, 2, 2, 0, 2, 1, 0], device='cuda:0')\n",
            "train labels: tensor([2, 0, 2, 1, 1, 0, 2, 0], device='cuda:0')\n"
          ]
        },
        {
          "output_type": "stream",
          "name": "stderr",
          "text": [
            "\r 37%|███▋      | 23/63 [00:16<00:29,  1.37it/s]"
          ]
        },
        {
          "output_type": "stream",
          "name": "stdout",
          "text": [
            "training logits: tensor([[0.2575, 0.4256, 0.3170],\n",
            "        [0.2591, 0.3534, 0.3876],\n",
            "        [0.3405, 0.1770, 0.4826],\n",
            "        [0.4506, 0.2482, 0.3012],\n",
            "        [0.2425, 0.1335, 0.6239],\n",
            "        [0.4514, 0.2661, 0.2825],\n",
            "        [0.2787, 0.3347, 0.3866],\n",
            "        [0.3428, 0.4517, 0.2055]], device='cuda:0', grad_fn=<SoftmaxBackward0>)\n",
            "training outputs\n",
            "tensor([[0.2575, 0.4256, 0.3170],\n",
            "        [0.2591, 0.3534, 0.3876],\n",
            "        [0.3405, 0.1770, 0.4826],\n",
            "        [0.4506, 0.2482, 0.3012],\n",
            "        [0.2425, 0.1335, 0.6239],\n",
            "        [0.4514, 0.2661, 0.2825],\n",
            "        [0.2787, 0.3347, 0.3866],\n",
            "        [0.3428, 0.4517, 0.2055]], device='cuda:0', grad_fn=<SoftmaxBackward0>)\n",
            "prediction: tensor([1, 2, 2, 0, 2, 0, 2, 1], device='cuda:0')\n",
            "train labels: tensor([0, 1, 1, 1, 1, 1, 0, 1], device='cuda:0')\n"
          ]
        },
        {
          "output_type": "stream",
          "name": "stderr",
          "text": [
            "\r 38%|███▊      | 24/63 [00:17<00:28,  1.37it/s]"
          ]
        },
        {
          "output_type": "stream",
          "name": "stdout",
          "text": [
            "training logits: tensor([[0.2355, 0.3994, 0.3650],\n",
            "        [0.4863, 0.3339, 0.1798],\n",
            "        [0.3349, 0.2828, 0.3823],\n",
            "        [0.1934, 0.2442, 0.5624],\n",
            "        [0.1171, 0.3981, 0.4848],\n",
            "        [0.2404, 0.3636, 0.3960],\n",
            "        [0.2809, 0.1976, 0.5215],\n",
            "        [0.4310, 0.1914, 0.3776]], device='cuda:0', grad_fn=<SoftmaxBackward0>)\n",
            "training outputs\n",
            "tensor([[0.2355, 0.3994, 0.3650],\n",
            "        [0.4863, 0.3339, 0.1798],\n",
            "        [0.3349, 0.2828, 0.3823],\n",
            "        [0.1934, 0.2442, 0.5624],\n",
            "        [0.1171, 0.3981, 0.4848],\n",
            "        [0.2404, 0.3636, 0.3960],\n",
            "        [0.2809, 0.1976, 0.5215],\n",
            "        [0.4310, 0.1914, 0.3776]], device='cuda:0', grad_fn=<SoftmaxBackward0>)\n",
            "prediction: tensor([1, 0, 2, 2, 2, 2, 2, 0], device='cuda:0')\n",
            "train labels: tensor([1, 2, 1, 0, 1, 2, 0, 1], device='cuda:0')\n"
          ]
        },
        {
          "output_type": "stream",
          "name": "stderr",
          "text": [
            "\r 40%|███▉      | 25/63 [00:18<00:27,  1.37it/s]"
          ]
        },
        {
          "output_type": "stream",
          "name": "stdout",
          "text": [
            "training logits: tensor([[0.1614, 0.4648, 0.3738],\n",
            "        [0.3844, 0.3451, 0.2704],\n",
            "        [0.3768, 0.2302, 0.3930],\n",
            "        [0.2867, 0.3074, 0.4059],\n",
            "        [0.3087, 0.2730, 0.4183],\n",
            "        [0.2948, 0.2981, 0.4072],\n",
            "        [0.3340, 0.2867, 0.3793],\n",
            "        [0.3692, 0.1757, 0.4551]], device='cuda:0', grad_fn=<SoftmaxBackward0>)\n",
            "training outputs\n",
            "tensor([[0.1614, 0.4648, 0.3738],\n",
            "        [0.3844, 0.3451, 0.2704],\n",
            "        [0.3768, 0.2302, 0.3930],\n",
            "        [0.2867, 0.3074, 0.4059],\n",
            "        [0.3087, 0.2730, 0.4183],\n",
            "        [0.2948, 0.2981, 0.4072],\n",
            "        [0.3340, 0.2867, 0.3793],\n",
            "        [0.3692, 0.1757, 0.4551]], device='cuda:0', grad_fn=<SoftmaxBackward0>)\n",
            "prediction: tensor([1, 0, 2, 2, 2, 2, 2, 2], device='cuda:0')\n",
            "train labels: tensor([2, 0, 1, 0, 0, 2, 2, 1], device='cuda:0')\n"
          ]
        },
        {
          "output_type": "stream",
          "name": "stderr",
          "text": [
            "\r 41%|████▏     | 26/63 [00:18<00:26,  1.37it/s]"
          ]
        },
        {
          "output_type": "stream",
          "name": "stdout",
          "text": [
            "training logits: tensor([[0.1733, 0.4770, 0.3497],\n",
            "        [0.3948, 0.1838, 0.4214],\n",
            "        [0.5264, 0.2962, 0.1774],\n",
            "        [0.2211, 0.4482, 0.3307],\n",
            "        [0.3053, 0.2874, 0.4073],\n",
            "        [0.2316, 0.1204, 0.6480],\n",
            "        [0.2255, 0.2228, 0.5517],\n",
            "        [0.5167, 0.1537, 0.3296]], device='cuda:0', grad_fn=<SoftmaxBackward0>)\n",
            "training outputs\n",
            "tensor([[0.1733, 0.4770, 0.3497],\n",
            "        [0.3948, 0.1838, 0.4214],\n",
            "        [0.5264, 0.2962, 0.1774],\n",
            "        [0.2211, 0.4482, 0.3307],\n",
            "        [0.3053, 0.2874, 0.4073],\n",
            "        [0.2316, 0.1204, 0.6480],\n",
            "        [0.2255, 0.2228, 0.5517],\n",
            "        [0.5167, 0.1537, 0.3296]], device='cuda:0', grad_fn=<SoftmaxBackward0>)\n",
            "prediction: tensor([1, 2, 0, 1, 2, 2, 2, 0], device='cuda:0')\n",
            "train labels: tensor([1, 1, 2, 2, 2, 1, 2, 1], device='cuda:0')\n"
          ]
        },
        {
          "output_type": "stream",
          "name": "stderr",
          "text": [
            "\r 43%|████▎     | 27/63 [00:19<00:26,  1.37it/s]"
          ]
        },
        {
          "output_type": "stream",
          "name": "stdout",
          "text": [
            "training logits: tensor([[0.4178, 0.2005, 0.3817],\n",
            "        [0.1979, 0.3950, 0.4071],\n",
            "        [0.2980, 0.1049, 0.5972],\n",
            "        [0.2256, 0.3419, 0.4325],\n",
            "        [0.4151, 0.1992, 0.3857],\n",
            "        [0.2105, 0.4651, 0.3243],\n",
            "        [0.1813, 0.0801, 0.7386],\n",
            "        [0.3460, 0.3901, 0.2639]], device='cuda:0', grad_fn=<SoftmaxBackward0>)\n",
            "training outputs\n",
            "tensor([[0.4178, 0.2005, 0.3817],\n",
            "        [0.1979, 0.3950, 0.4071],\n",
            "        [0.2980, 0.1049, 0.5972],\n",
            "        [0.2256, 0.3419, 0.4325],\n",
            "        [0.4151, 0.1992, 0.3857],\n",
            "        [0.2105, 0.4651, 0.3243],\n",
            "        [0.1813, 0.0801, 0.7386],\n",
            "        [0.3460, 0.3901, 0.2639]], device='cuda:0', grad_fn=<SoftmaxBackward0>)\n",
            "prediction: tensor([0, 2, 2, 2, 0, 1, 2, 1], device='cuda:0')\n",
            "train labels: tensor([2, 1, 2, 2, 1, 0, 2, 0], device='cuda:0')\n"
          ]
        },
        {
          "output_type": "stream",
          "name": "stderr",
          "text": [
            "\r 44%|████▍     | 28/63 [00:20<00:25,  1.36it/s]"
          ]
        },
        {
          "output_type": "stream",
          "name": "stdout",
          "text": [
            "training logits: tensor([[0.4532, 0.2302, 0.3166],\n",
            "        [0.3340, 0.1671, 0.4989],\n",
            "        [0.1310, 0.3230, 0.5460],\n",
            "        [0.2752, 0.0626, 0.6622],\n",
            "        [0.3516, 0.3765, 0.2719],\n",
            "        [0.3712, 0.1852, 0.4436],\n",
            "        [0.4188, 0.3030, 0.2783],\n",
            "        [0.1621, 0.2784, 0.5595]], device='cuda:0', grad_fn=<SoftmaxBackward0>)\n",
            "training outputs\n",
            "tensor([[0.4532, 0.2302, 0.3166],\n",
            "        [0.3340, 0.1671, 0.4989],\n",
            "        [0.1310, 0.3230, 0.5460],\n",
            "        [0.2752, 0.0626, 0.6622],\n",
            "        [0.3516, 0.3765, 0.2719],\n",
            "        [0.3712, 0.1852, 0.4436],\n",
            "        [0.4188, 0.3030, 0.2783],\n",
            "        [0.1621, 0.2784, 0.5595]], device='cuda:0', grad_fn=<SoftmaxBackward0>)\n",
            "prediction: tensor([0, 2, 2, 2, 1, 2, 0, 2], device='cuda:0')\n",
            "train labels: tensor([1, 0, 0, 0, 1, 1, 1, 2], device='cuda:0')\n"
          ]
        },
        {
          "output_type": "stream",
          "name": "stderr",
          "text": [
            "\r 46%|████▌     | 29/63 [00:21<00:24,  1.37it/s]"
          ]
        },
        {
          "output_type": "stream",
          "name": "stdout",
          "text": [
            "training logits: tensor([[0.2823, 0.3430, 0.3747],\n",
            "        [0.3283, 0.2413, 0.4304],\n",
            "        [0.2093, 0.2814, 0.5093],\n",
            "        [0.1768, 0.3292, 0.4940],\n",
            "        [0.1854, 0.1302, 0.6844],\n",
            "        [0.3210, 0.2174, 0.4616],\n",
            "        [0.2593, 0.4376, 0.3031],\n",
            "        [0.6215, 0.1899, 0.1886]], device='cuda:0', grad_fn=<SoftmaxBackward0>)\n",
            "training outputs\n",
            "tensor([[0.2823, 0.3430, 0.3747],\n",
            "        [0.3283, 0.2413, 0.4304],\n",
            "        [0.2093, 0.2814, 0.5093],\n",
            "        [0.1768, 0.3292, 0.4940],\n",
            "        [0.1854, 0.1302, 0.6844],\n",
            "        [0.3210, 0.2174, 0.4616],\n",
            "        [0.2593, 0.4376, 0.3031],\n",
            "        [0.6215, 0.1899, 0.1886]], device='cuda:0', grad_fn=<SoftmaxBackward0>)\n",
            "prediction: tensor([2, 2, 2, 2, 2, 2, 1, 0], device='cuda:0')\n",
            "train labels: tensor([1, 2, 1, 0, 0, 0, 0, 1], device='cuda:0')\n"
          ]
        },
        {
          "output_type": "stream",
          "name": "stderr",
          "text": [
            "\r 48%|████▊     | 30/63 [00:21<00:24,  1.37it/s]"
          ]
        },
        {
          "output_type": "stream",
          "name": "stdout",
          "text": [
            "training logits: tensor([[0.1936, 0.4476, 0.3589],\n",
            "        [0.2841, 0.1640, 0.5519],\n",
            "        [0.2699, 0.3931, 0.3370],\n",
            "        [0.3062, 0.1029, 0.5909],\n",
            "        [0.2414, 0.3318, 0.4268],\n",
            "        [0.2491, 0.2954, 0.4555],\n",
            "        [0.1452, 0.4661, 0.3887],\n",
            "        [0.2351, 0.1350, 0.6299]], device='cuda:0', grad_fn=<SoftmaxBackward0>)\n",
            "training outputs\n",
            "tensor([[0.1936, 0.4476, 0.3589],\n",
            "        [0.2841, 0.1640, 0.5519],\n",
            "        [0.2699, 0.3931, 0.3370],\n",
            "        [0.3062, 0.1029, 0.5909],\n",
            "        [0.2414, 0.3318, 0.4268],\n",
            "        [0.2491, 0.2954, 0.4555],\n",
            "        [0.1452, 0.4661, 0.3887],\n",
            "        [0.2351, 0.1350, 0.6299]], device='cuda:0', grad_fn=<SoftmaxBackward0>)\n",
            "prediction: tensor([1, 2, 1, 2, 2, 2, 1, 2], device='cuda:0')\n",
            "train labels: tensor([1, 0, 2, 1, 1, 1, 0, 0], device='cuda:0')\n"
          ]
        },
        {
          "output_type": "stream",
          "name": "stderr",
          "text": [
            "\r 49%|████▉     | 31/63 [00:22<00:23,  1.37it/s]"
          ]
        },
        {
          "output_type": "stream",
          "name": "stdout",
          "text": [
            "training logits: tensor([[0.4257, 0.1958, 0.3785],\n",
            "        [0.1566, 0.1424, 0.7010],\n",
            "        [0.5050, 0.1583, 0.3367],\n",
            "        [0.1639, 0.3710, 0.4651],\n",
            "        [0.2193, 0.1064, 0.6743],\n",
            "        [0.1196, 0.0813, 0.7991],\n",
            "        [0.3354, 0.1514, 0.5132],\n",
            "        [0.3045, 0.1794, 0.5161]], device='cuda:0', grad_fn=<SoftmaxBackward0>)\n",
            "training outputs\n",
            "tensor([[0.4257, 0.1958, 0.3785],\n",
            "        [0.1566, 0.1424, 0.7010],\n",
            "        [0.5050, 0.1583, 0.3367],\n",
            "        [0.1639, 0.3710, 0.4651],\n",
            "        [0.2193, 0.1064, 0.6743],\n",
            "        [0.1196, 0.0813, 0.7991],\n",
            "        [0.3354, 0.1514, 0.5132],\n",
            "        [0.3045, 0.1794, 0.5161]], device='cuda:0', grad_fn=<SoftmaxBackward0>)\n",
            "prediction: tensor([0, 2, 0, 2, 2, 2, 2, 2], device='cuda:0')\n",
            "train labels: tensor([0, 2, 0, 2, 2, 2, 0, 1], device='cuda:0')\n"
          ]
        },
        {
          "output_type": "stream",
          "name": "stderr",
          "text": [
            "\r 51%|█████     | 32/63 [00:23<00:22,  1.37it/s]"
          ]
        },
        {
          "output_type": "stream",
          "name": "stdout",
          "text": [
            "training logits: tensor([[0.3845, 0.3485, 0.2669],\n",
            "        [0.4109, 0.2627, 0.3264],\n",
            "        [0.4589, 0.2757, 0.2654],\n",
            "        [0.1651, 0.3396, 0.4953],\n",
            "        [0.3779, 0.2559, 0.3662],\n",
            "        [0.1509, 0.4125, 0.4366],\n",
            "        [0.1559, 0.2700, 0.5741],\n",
            "        [0.5099, 0.1583, 0.3318]], device='cuda:0', grad_fn=<SoftmaxBackward0>)\n",
            "training outputs\n",
            "tensor([[0.3845, 0.3485, 0.2669],\n",
            "        [0.4109, 0.2627, 0.3264],\n",
            "        [0.4589, 0.2757, 0.2654],\n",
            "        [0.1651, 0.3396, 0.4953],\n",
            "        [0.3779, 0.2559, 0.3662],\n",
            "        [0.1509, 0.4125, 0.4366],\n",
            "        [0.1559, 0.2700, 0.5741],\n",
            "        [0.5099, 0.1583, 0.3318]], device='cuda:0', grad_fn=<SoftmaxBackward0>)\n",
            "prediction: tensor([0, 0, 0, 2, 0, 2, 2, 0], device='cuda:0')\n",
            "train labels: tensor([1, 0, 2, 0, 2, 2, 1, 2], device='cuda:0')\n"
          ]
        },
        {
          "output_type": "stream",
          "name": "stderr",
          "text": [
            "\r 52%|█████▏    | 33/63 [00:24<00:21,  1.37it/s]"
          ]
        },
        {
          "output_type": "stream",
          "name": "stdout",
          "text": [
            "training logits: tensor([[0.3147, 0.2561, 0.4292],\n",
            "        [0.4721, 0.2473, 0.2806],\n",
            "        [0.2351, 0.4540, 0.3109],\n",
            "        [0.3055, 0.1611, 0.5334],\n",
            "        [0.1530, 0.3472, 0.4999],\n",
            "        [0.3586, 0.2059, 0.4355],\n",
            "        [0.3657, 0.2785, 0.3557],\n",
            "        [0.2327, 0.4425, 0.3248]], device='cuda:0', grad_fn=<SoftmaxBackward0>)\n",
            "training outputs\n",
            "tensor([[0.3147, 0.2561, 0.4292],\n",
            "        [0.4721, 0.2473, 0.2806],\n",
            "        [0.2351, 0.4540, 0.3109],\n",
            "        [0.3055, 0.1611, 0.5334],\n",
            "        [0.1530, 0.3472, 0.4999],\n",
            "        [0.3586, 0.2059, 0.4355],\n",
            "        [0.3657, 0.2785, 0.3557],\n",
            "        [0.2327, 0.4425, 0.3248]], device='cuda:0', grad_fn=<SoftmaxBackward0>)\n",
            "prediction: tensor([2, 0, 1, 2, 2, 2, 0, 1], device='cuda:0')\n",
            "train labels: tensor([1, 0, 0, 1, 1, 0, 2, 0], device='cuda:0')\n"
          ]
        },
        {
          "output_type": "stream",
          "name": "stderr",
          "text": [
            "\r 54%|█████▍    | 34/63 [00:24<00:21,  1.37it/s]"
          ]
        },
        {
          "output_type": "stream",
          "name": "stdout",
          "text": [
            "training logits: tensor([[0.4742, 0.1969, 0.3289],\n",
            "        [0.4164, 0.1842, 0.3995],\n",
            "        [0.2927, 0.2768, 0.4305],\n",
            "        [0.2017, 0.1510, 0.6473],\n",
            "        [0.2852, 0.3228, 0.3919],\n",
            "        [0.2089, 0.5350, 0.2561],\n",
            "        [0.3985, 0.4191, 0.1824],\n",
            "        [0.2542, 0.2738, 0.4720]], device='cuda:0', grad_fn=<SoftmaxBackward0>)\n",
            "training outputs\n",
            "tensor([[0.4742, 0.1969, 0.3289],\n",
            "        [0.4164, 0.1842, 0.3995],\n",
            "        [0.2927, 0.2768, 0.4305],\n",
            "        [0.2017, 0.1510, 0.6473],\n",
            "        [0.2852, 0.3228, 0.3919],\n",
            "        [0.2089, 0.5350, 0.2561],\n",
            "        [0.3985, 0.4191, 0.1824],\n",
            "        [0.2542, 0.2738, 0.4720]], device='cuda:0', grad_fn=<SoftmaxBackward0>)\n",
            "prediction: tensor([0, 0, 2, 2, 2, 1, 1, 2], device='cuda:0')\n",
            "train labels: tensor([0, 1, 0, 1, 2, 1, 1, 2], device='cuda:0')\n"
          ]
        },
        {
          "output_type": "stream",
          "name": "stderr",
          "text": [
            "\r 56%|█████▌    | 35/63 [00:25<00:20,  1.37it/s]"
          ]
        },
        {
          "output_type": "stream",
          "name": "stdout",
          "text": [
            "training logits: tensor([[0.3689, 0.1186, 0.5125],\n",
            "        [0.5032, 0.1491, 0.3477],\n",
            "        [0.4344, 0.1671, 0.3985],\n",
            "        [0.2334, 0.2280, 0.5386],\n",
            "        [0.1954, 0.1297, 0.6749],\n",
            "        [0.3639, 0.2837, 0.3524],\n",
            "        [0.2387, 0.4039, 0.3574],\n",
            "        [0.1795, 0.1206, 0.6998]], device='cuda:0', grad_fn=<SoftmaxBackward0>)\n",
            "training outputs\n",
            "tensor([[0.3689, 0.1186, 0.5125],\n",
            "        [0.5032, 0.1491, 0.3477],\n",
            "        [0.4344, 0.1671, 0.3985],\n",
            "        [0.2334, 0.2280, 0.5386],\n",
            "        [0.1954, 0.1297, 0.6749],\n",
            "        [0.3639, 0.2837, 0.3524],\n",
            "        [0.2387, 0.4039, 0.3574],\n",
            "        [0.1795, 0.1206, 0.6998]], device='cuda:0', grad_fn=<SoftmaxBackward0>)\n",
            "prediction: tensor([2, 0, 0, 2, 2, 0, 1, 2], device='cuda:0')\n",
            "train labels: tensor([2, 1, 0, 2, 1, 1, 1, 2], device='cuda:0')\n"
          ]
        },
        {
          "output_type": "stream",
          "name": "stderr",
          "text": [
            "\r 57%|█████▋    | 36/63 [00:26<00:19,  1.37it/s]"
          ]
        },
        {
          "output_type": "stream",
          "name": "stdout",
          "text": [
            "training logits: tensor([[0.3055, 0.1985, 0.4961],\n",
            "        [0.2837, 0.1702, 0.5462],\n",
            "        [0.1448, 0.2954, 0.5598],\n",
            "        [0.2709, 0.1873, 0.5418],\n",
            "        [0.2416, 0.4254, 0.3330],\n",
            "        [0.2406, 0.3232, 0.4363],\n",
            "        [0.4856, 0.3072, 0.2072],\n",
            "        [0.3730, 0.4343, 0.1926]], device='cuda:0', grad_fn=<SoftmaxBackward0>)\n",
            "training outputs\n",
            "tensor([[0.3055, 0.1985, 0.4961],\n",
            "        [0.2837, 0.1702, 0.5462],\n",
            "        [0.1448, 0.2954, 0.5598],\n",
            "        [0.2709, 0.1873, 0.5418],\n",
            "        [0.2416, 0.4254, 0.3330],\n",
            "        [0.2406, 0.3232, 0.4363],\n",
            "        [0.4856, 0.3072, 0.2072],\n",
            "        [0.3730, 0.4343, 0.1926]], device='cuda:0', grad_fn=<SoftmaxBackward0>)\n",
            "prediction: tensor([2, 2, 2, 2, 1, 2, 0, 1], device='cuda:0')\n",
            "train labels: tensor([1, 0, 0, 1, 2, 1, 0, 2], device='cuda:0')\n"
          ]
        },
        {
          "output_type": "stream",
          "name": "stderr",
          "text": [
            "\r 59%|█████▊    | 37/63 [00:27<00:18,  1.37it/s]"
          ]
        },
        {
          "output_type": "stream",
          "name": "stdout",
          "text": [
            "training logits: tensor([[0.2198, 0.1209, 0.6593],\n",
            "        [0.4810, 0.2414, 0.2775],\n",
            "        [0.3764, 0.3754, 0.2482],\n",
            "        [0.3142, 0.2042, 0.4816],\n",
            "        [0.3932, 0.1896, 0.4172],\n",
            "        [0.1640, 0.2467, 0.5893],\n",
            "        [0.3593, 0.1435, 0.4972],\n",
            "        [0.4742, 0.3111, 0.2147]], device='cuda:0', grad_fn=<SoftmaxBackward0>)\n",
            "training outputs\n",
            "tensor([[0.2198, 0.1209, 0.6593],\n",
            "        [0.4810, 0.2414, 0.2775],\n",
            "        [0.3764, 0.3754, 0.2482],\n",
            "        [0.3142, 0.2042, 0.4816],\n",
            "        [0.3932, 0.1896, 0.4172],\n",
            "        [0.1640, 0.2467, 0.5893],\n",
            "        [0.3593, 0.1435, 0.4972],\n",
            "        [0.4742, 0.3111, 0.2147]], device='cuda:0', grad_fn=<SoftmaxBackward0>)\n",
            "prediction: tensor([2, 0, 0, 2, 2, 2, 2, 0], device='cuda:0')\n",
            "train labels: tensor([0, 0, 1, 0, 1, 1, 0, 2], device='cuda:0')\n"
          ]
        },
        {
          "output_type": "stream",
          "name": "stderr",
          "text": [
            "\r 60%|██████    | 38/63 [00:27<00:18,  1.37it/s]"
          ]
        },
        {
          "output_type": "stream",
          "name": "stdout",
          "text": [
            "training logits: tensor([[0.2706, 0.3249, 0.4045],\n",
            "        [0.2393, 0.2374, 0.5234],\n",
            "        [0.2934, 0.3777, 0.3289],\n",
            "        [0.2794, 0.3714, 0.3492],\n",
            "        [0.2883, 0.3011, 0.4105],\n",
            "        [0.3342, 0.2941, 0.3716],\n",
            "        [0.3958, 0.2278, 0.3764],\n",
            "        [0.2724, 0.3286, 0.3990]], device='cuda:0', grad_fn=<SoftmaxBackward0>)\n",
            "training outputs\n",
            "tensor([[0.2706, 0.3249, 0.4045],\n",
            "        [0.2393, 0.2374, 0.5234],\n",
            "        [0.2934, 0.3777, 0.3289],\n",
            "        [0.2794, 0.3714, 0.3492],\n",
            "        [0.2883, 0.3011, 0.4105],\n",
            "        [0.3342, 0.2941, 0.3716],\n",
            "        [0.3958, 0.2278, 0.3764],\n",
            "        [0.2724, 0.3286, 0.3990]], device='cuda:0', grad_fn=<SoftmaxBackward0>)\n",
            "prediction: tensor([2, 2, 1, 1, 2, 2, 0, 2], device='cuda:0')\n",
            "train labels: tensor([1, 0, 1, 2, 2, 1, 0, 1], device='cuda:0')\n"
          ]
        },
        {
          "output_type": "stream",
          "name": "stderr",
          "text": [
            "\r 62%|██████▏   | 39/63 [00:28<00:17,  1.37it/s]"
          ]
        },
        {
          "output_type": "stream",
          "name": "stdout",
          "text": [
            "training logits: tensor([[0.2877, 0.2233, 0.4890],\n",
            "        [0.1282, 0.2636, 0.6082],\n",
            "        [0.3637, 0.3128, 0.3235],\n",
            "        [0.2907, 0.2766, 0.4327],\n",
            "        [0.2186, 0.2106, 0.5708],\n",
            "        [0.3574, 0.2313, 0.4113],\n",
            "        [0.2159, 0.3328, 0.4514],\n",
            "        [0.1656, 0.3408, 0.4937]], device='cuda:0', grad_fn=<SoftmaxBackward0>)\n",
            "training outputs\n",
            "tensor([[0.2877, 0.2233, 0.4890],\n",
            "        [0.1282, 0.2636, 0.6082],\n",
            "        [0.3637, 0.3128, 0.3235],\n",
            "        [0.2907, 0.2766, 0.4327],\n",
            "        [0.2186, 0.2106, 0.5708],\n",
            "        [0.3574, 0.2313, 0.4113],\n",
            "        [0.2159, 0.3328, 0.4514],\n",
            "        [0.1656, 0.3408, 0.4937]], device='cuda:0', grad_fn=<SoftmaxBackward0>)\n",
            "prediction: tensor([2, 2, 0, 2, 2, 2, 2, 2], device='cuda:0')\n",
            "train labels: tensor([2, 2, 0, 0, 1, 2, 0, 1], device='cuda:0')\n"
          ]
        },
        {
          "output_type": "stream",
          "name": "stderr",
          "text": [
            "\r 63%|██████▎   | 40/63 [00:29<00:16,  1.37it/s]"
          ]
        },
        {
          "output_type": "stream",
          "name": "stdout",
          "text": [
            "training logits: tensor([[0.5176, 0.2994, 0.1830],\n",
            "        [0.3254, 0.4341, 0.2405],\n",
            "        [0.4318, 0.3272, 0.2410],\n",
            "        [0.1497, 0.1136, 0.7366],\n",
            "        [0.3371, 0.5031, 0.1597],\n",
            "        [0.3184, 0.3222, 0.3594],\n",
            "        [0.3067, 0.2759, 0.4173],\n",
            "        [0.4931, 0.2888, 0.2181]], device='cuda:0', grad_fn=<SoftmaxBackward0>)\n",
            "training outputs\n",
            "tensor([[0.5176, 0.2994, 0.1830],\n",
            "        [0.3254, 0.4341, 0.2405],\n",
            "        [0.4318, 0.3272, 0.2410],\n",
            "        [0.1497, 0.1136, 0.7366],\n",
            "        [0.3371, 0.5031, 0.1597],\n",
            "        [0.3184, 0.3222, 0.3594],\n",
            "        [0.3067, 0.2759, 0.4173],\n",
            "        [0.4931, 0.2888, 0.2181]], device='cuda:0', grad_fn=<SoftmaxBackward0>)\n",
            "prediction: tensor([0, 1, 0, 2, 1, 2, 2, 0], device='cuda:0')\n",
            "train labels: tensor([0, 2, 2, 2, 1, 0, 1, 2], device='cuda:0')\n"
          ]
        },
        {
          "output_type": "stream",
          "name": "stderr",
          "text": [
            "\r 65%|██████▌   | 41/63 [00:29<00:16,  1.37it/s]"
          ]
        },
        {
          "output_type": "stream",
          "name": "stdout",
          "text": [
            "training logits: tensor([[0.4102, 0.2120, 0.3778],\n",
            "        [0.3223, 0.3419, 0.3358],\n",
            "        [0.3105, 0.3831, 0.3063],\n",
            "        [0.2112, 0.5437, 0.2451],\n",
            "        [0.5214, 0.1779, 0.3006],\n",
            "        [0.5542, 0.2058, 0.2400],\n",
            "        [0.6238, 0.1733, 0.2029],\n",
            "        [0.4306, 0.2398, 0.3297]], device='cuda:0', grad_fn=<SoftmaxBackward0>)\n",
            "training outputs\n",
            "tensor([[0.4102, 0.2120, 0.3778],\n",
            "        [0.3223, 0.3419, 0.3358],\n",
            "        [0.3105, 0.3831, 0.3063],\n",
            "        [0.2112, 0.5437, 0.2451],\n",
            "        [0.5214, 0.1779, 0.3006],\n",
            "        [0.5542, 0.2058, 0.2400],\n",
            "        [0.6238, 0.1733, 0.2029],\n",
            "        [0.4306, 0.2398, 0.3297]], device='cuda:0', grad_fn=<SoftmaxBackward0>)\n",
            "prediction: tensor([0, 1, 1, 1, 0, 0, 0, 0], device='cuda:0')\n",
            "train labels: tensor([0, 0, 1, 0, 1, 2, 0, 1], device='cuda:0')\n"
          ]
        },
        {
          "output_type": "stream",
          "name": "stderr",
          "text": [
            "\r 67%|██████▋   | 42/63 [00:30<00:15,  1.37it/s]"
          ]
        },
        {
          "output_type": "stream",
          "name": "stdout",
          "text": [
            "training logits: tensor([[0.5294, 0.1689, 0.3017],\n",
            "        [0.3572, 0.2612, 0.3816],\n",
            "        [0.4037, 0.3732, 0.2231],\n",
            "        [0.1781, 0.4211, 0.4008],\n",
            "        [0.1717, 0.0800, 0.7482],\n",
            "        [0.4320, 0.3226, 0.2453],\n",
            "        [0.4781, 0.2417, 0.2803],\n",
            "        [0.4392, 0.3149, 0.2459]], device='cuda:0', grad_fn=<SoftmaxBackward0>)\n",
            "training outputs\n",
            "tensor([[0.5294, 0.1689, 0.3017],\n",
            "        [0.3572, 0.2612, 0.3816],\n",
            "        [0.4037, 0.3732, 0.2231],\n",
            "        [0.1781, 0.4211, 0.4008],\n",
            "        [0.1717, 0.0800, 0.7482],\n",
            "        [0.4320, 0.3226, 0.2453],\n",
            "        [0.4781, 0.2417, 0.2803],\n",
            "        [0.4392, 0.3149, 0.2459]], device='cuda:0', grad_fn=<SoftmaxBackward0>)\n",
            "prediction: tensor([0, 2, 0, 1, 2, 0, 0, 0], device='cuda:0')\n",
            "train labels: tensor([0, 2, 0, 0, 2, 0, 1, 1], device='cuda:0')\n"
          ]
        },
        {
          "output_type": "stream",
          "name": "stderr",
          "text": [
            "\r 68%|██████▊   | 43/63 [00:31<00:14,  1.37it/s]"
          ]
        },
        {
          "output_type": "stream",
          "name": "stdout",
          "text": [
            "training logits: tensor([[0.3576, 0.3709, 0.2714],\n",
            "        [0.3086, 0.3000, 0.3914],\n",
            "        [0.3872, 0.3146, 0.2982],\n",
            "        [0.2440, 0.3105, 0.4455],\n",
            "        [0.3195, 0.3906, 0.2899],\n",
            "        [0.2635, 0.4218, 0.3147],\n",
            "        [0.2673, 0.2494, 0.4833],\n",
            "        [0.4110, 0.2491, 0.3399]], device='cuda:0', grad_fn=<SoftmaxBackward0>)\n",
            "training outputs\n",
            "tensor([[0.3576, 0.3709, 0.2714],\n",
            "        [0.3086, 0.3000, 0.3914],\n",
            "        [0.3872, 0.3146, 0.2982],\n",
            "        [0.2440, 0.3105, 0.4455],\n",
            "        [0.3195, 0.3906, 0.2899],\n",
            "        [0.2635, 0.4218, 0.3147],\n",
            "        [0.2673, 0.2494, 0.4833],\n",
            "        [0.4110, 0.2491, 0.3399]], device='cuda:0', grad_fn=<SoftmaxBackward0>)\n",
            "prediction: tensor([1, 2, 0, 2, 1, 1, 2, 0], device='cuda:0')\n",
            "train labels: tensor([0, 0, 2, 1, 2, 2, 0, 2], device='cuda:0')\n"
          ]
        },
        {
          "output_type": "stream",
          "name": "stderr",
          "text": [
            "\r 70%|██████▉   | 44/63 [00:32<00:13,  1.37it/s]"
          ]
        },
        {
          "output_type": "stream",
          "name": "stdout",
          "text": [
            "training logits: tensor([[0.2998, 0.3372, 0.3630],\n",
            "        [0.3621, 0.2098, 0.4280],\n",
            "        [0.3505, 0.4168, 0.2327],\n",
            "        [0.2798, 0.4293, 0.2908],\n",
            "        [0.4262, 0.4941, 0.0796],\n",
            "        [0.1417, 0.2365, 0.6218],\n",
            "        [0.3287, 0.3780, 0.2933],\n",
            "        [0.3886, 0.2909, 0.3205]], device='cuda:0', grad_fn=<SoftmaxBackward0>)\n",
            "training outputs\n",
            "tensor([[0.2998, 0.3372, 0.3630],\n",
            "        [0.3621, 0.2098, 0.4280],\n",
            "        [0.3505, 0.4168, 0.2327],\n",
            "        [0.2798, 0.4293, 0.2908],\n",
            "        [0.4262, 0.4941, 0.0796],\n",
            "        [0.1417, 0.2365, 0.6218],\n",
            "        [0.3287, 0.3780, 0.2933],\n",
            "        [0.3886, 0.2909, 0.3205]], device='cuda:0', grad_fn=<SoftmaxBackward0>)\n",
            "prediction: tensor([2, 2, 1, 1, 1, 2, 1, 0], device='cuda:0')\n",
            "train labels: tensor([2, 1, 1, 0, 1, 0, 1, 2], device='cuda:0')\n"
          ]
        },
        {
          "output_type": "stream",
          "name": "stderr",
          "text": [
            "\r 71%|███████▏  | 45/63 [00:32<00:13,  1.37it/s]"
          ]
        },
        {
          "output_type": "stream",
          "name": "stdout",
          "text": [
            "training logits: tensor([[0.3214, 0.4687, 0.2099],\n",
            "        [0.5579, 0.1915, 0.2506],\n",
            "        [0.2517, 0.3177, 0.4306],\n",
            "        [0.3856, 0.4090, 0.2054],\n",
            "        [0.4823, 0.2602, 0.2575],\n",
            "        [0.3953, 0.3205, 0.2841],\n",
            "        [0.5644, 0.1796, 0.2560],\n",
            "        [0.4494, 0.2009, 0.3498]], device='cuda:0', grad_fn=<SoftmaxBackward0>)\n",
            "training outputs\n",
            "tensor([[0.3214, 0.4687, 0.2099],\n",
            "        [0.5579, 0.1915, 0.2506],\n",
            "        [0.2517, 0.3177, 0.4306],\n",
            "        [0.3856, 0.4090, 0.2054],\n",
            "        [0.4823, 0.2602, 0.2575],\n",
            "        [0.3953, 0.3205, 0.2841],\n",
            "        [0.5644, 0.1796, 0.2560],\n",
            "        [0.4494, 0.2009, 0.3498]], device='cuda:0', grad_fn=<SoftmaxBackward0>)\n",
            "prediction: tensor([1, 0, 2, 1, 0, 0, 0, 0], device='cuda:0')\n",
            "train labels: tensor([0, 0, 0, 1, 2, 2, 1, 0], device='cuda:0')\n"
          ]
        },
        {
          "output_type": "stream",
          "name": "stderr",
          "text": [
            "\r 73%|███████▎  | 46/63 [00:33<00:12,  1.37it/s]"
          ]
        },
        {
          "output_type": "stream",
          "name": "stdout",
          "text": [
            "training logits: tensor([[0.3703, 0.0877, 0.5420],\n",
            "        [0.2616, 0.2251, 0.5133],\n",
            "        [0.2711, 0.4191, 0.3098],\n",
            "        [0.3333, 0.3532, 0.3135],\n",
            "        [0.1349, 0.2437, 0.6214],\n",
            "        [0.3667, 0.3729, 0.2604],\n",
            "        [0.2993, 0.4773, 0.2234],\n",
            "        [0.5682, 0.1604, 0.2715]], device='cuda:0', grad_fn=<SoftmaxBackward0>)\n",
            "training outputs\n",
            "tensor([[0.3703, 0.0877, 0.5420],\n",
            "        [0.2616, 0.2251, 0.5133],\n",
            "        [0.2711, 0.4191, 0.3098],\n",
            "        [0.3333, 0.3532, 0.3135],\n",
            "        [0.1349, 0.2437, 0.6214],\n",
            "        [0.3667, 0.3729, 0.2604],\n",
            "        [0.2993, 0.4773, 0.2234],\n",
            "        [0.5682, 0.1604, 0.2715]], device='cuda:0', grad_fn=<SoftmaxBackward0>)\n",
            "prediction: tensor([2, 2, 1, 1, 2, 1, 1, 0], device='cuda:0')\n",
            "train labels: tensor([0, 2, 1, 1, 2, 2, 1, 1], device='cuda:0')\n"
          ]
        },
        {
          "output_type": "stream",
          "name": "stderr",
          "text": [
            "\r 75%|███████▍  | 47/63 [00:34<00:11,  1.37it/s]"
          ]
        },
        {
          "output_type": "stream",
          "name": "stdout",
          "text": [
            "training logits: tensor([[0.4471, 0.2183, 0.3347],\n",
            "        [0.2560, 0.3588, 0.3852],\n",
            "        [0.3996, 0.3257, 0.2747],\n",
            "        [0.4574, 0.2765, 0.2661],\n",
            "        [0.2884, 0.3422, 0.3694],\n",
            "        [0.4636, 0.2755, 0.2609],\n",
            "        [0.4731, 0.3264, 0.2004],\n",
            "        [0.3950, 0.1956, 0.4094]], device='cuda:0', grad_fn=<SoftmaxBackward0>)\n",
            "training outputs\n",
            "tensor([[0.4471, 0.2183, 0.3347],\n",
            "        [0.2560, 0.3588, 0.3852],\n",
            "        [0.3996, 0.3257, 0.2747],\n",
            "        [0.4574, 0.2765, 0.2661],\n",
            "        [0.2884, 0.3422, 0.3694],\n",
            "        [0.4636, 0.2755, 0.2609],\n",
            "        [0.4731, 0.3264, 0.2004],\n",
            "        [0.3950, 0.1956, 0.4094]], device='cuda:0', grad_fn=<SoftmaxBackward0>)\n",
            "prediction: tensor([0, 2, 0, 0, 2, 0, 0, 2], device='cuda:0')\n",
            "train labels: tensor([0, 1, 0, 1, 2, 2, 1, 0], device='cuda:0')\n"
          ]
        },
        {
          "output_type": "stream",
          "name": "stderr",
          "text": [
            "\r 76%|███████▌  | 48/63 [00:35<00:10,  1.37it/s]"
          ]
        },
        {
          "output_type": "stream",
          "name": "stdout",
          "text": [
            "training logits: tensor([[0.2466, 0.2151, 0.5383],\n",
            "        [0.4112, 0.3775, 0.2113],\n",
            "        [0.2270, 0.2312, 0.5417],\n",
            "        [0.2300, 0.2982, 0.4718],\n",
            "        [0.3286, 0.4129, 0.2585],\n",
            "        [0.4172, 0.3980, 0.1848],\n",
            "        [0.4334, 0.3496, 0.2170],\n",
            "        [0.4149, 0.3311, 0.2540]], device='cuda:0', grad_fn=<SoftmaxBackward0>)\n",
            "training outputs\n",
            "tensor([[0.2466, 0.2151, 0.5383],\n",
            "        [0.4112, 0.3775, 0.2113],\n",
            "        [0.2270, 0.2312, 0.5417],\n",
            "        [0.2300, 0.2982, 0.4718],\n",
            "        [0.3286, 0.4129, 0.2585],\n",
            "        [0.4172, 0.3980, 0.1848],\n",
            "        [0.4334, 0.3496, 0.2170],\n",
            "        [0.4149, 0.3311, 0.2540]], device='cuda:0', grad_fn=<SoftmaxBackward0>)\n",
            "prediction: tensor([2, 0, 2, 2, 1, 0, 0, 0], device='cuda:0')\n",
            "train labels: tensor([2, 1, 2, 1, 2, 2, 0, 0], device='cuda:0')\n"
          ]
        },
        {
          "output_type": "stream",
          "name": "stderr",
          "text": [
            "\r 78%|███████▊  | 49/63 [00:35<00:10,  1.37it/s]"
          ]
        },
        {
          "output_type": "stream",
          "name": "stdout",
          "text": [
            "training logits: tensor([[0.2652, 0.3926, 0.3422],\n",
            "        [0.4276, 0.3434, 0.2290],\n",
            "        [0.3972, 0.4080, 0.1948],\n",
            "        [0.3323, 0.2423, 0.4254],\n",
            "        [0.3149, 0.3411, 0.3440],\n",
            "        [0.3542, 0.3986, 0.2472],\n",
            "        [0.3860, 0.2964, 0.3176],\n",
            "        [0.2680, 0.3825, 0.3495]], device='cuda:0', grad_fn=<SoftmaxBackward0>)\n",
            "training outputs\n",
            "tensor([[0.2652, 0.3926, 0.3422],\n",
            "        [0.4276, 0.3434, 0.2290],\n",
            "        [0.3972, 0.4080, 0.1948],\n",
            "        [0.3323, 0.2423, 0.4254],\n",
            "        [0.3149, 0.3411, 0.3440],\n",
            "        [0.3542, 0.3986, 0.2472],\n",
            "        [0.3860, 0.2964, 0.3176],\n",
            "        [0.2680, 0.3825, 0.3495]], device='cuda:0', grad_fn=<SoftmaxBackward0>)\n",
            "prediction: tensor([1, 0, 1, 2, 2, 1, 0, 1], device='cuda:0')\n",
            "train labels: tensor([2, 1, 1, 1, 2, 1, 1, 1], device='cuda:0')\n"
          ]
        },
        {
          "output_type": "stream",
          "name": "stderr",
          "text": [
            "\r 79%|███████▉  | 50/63 [00:36<00:09,  1.37it/s]"
          ]
        },
        {
          "output_type": "stream",
          "name": "stdout",
          "text": [
            "training logits: tensor([[0.3173, 0.3795, 0.3032],\n",
            "        [0.2171, 0.3079, 0.4750],\n",
            "        [0.3817, 0.2491, 0.3692],\n",
            "        [0.5101, 0.1815, 0.3084],\n",
            "        [0.2567, 0.5286, 0.2147],\n",
            "        [0.1918, 0.5000, 0.3082],\n",
            "        [0.5108, 0.2363, 0.2529],\n",
            "        [0.3103, 0.3418, 0.3479]], device='cuda:0', grad_fn=<SoftmaxBackward0>)\n",
            "training outputs\n",
            "tensor([[0.3173, 0.3795, 0.3032],\n",
            "        [0.2171, 0.3079, 0.4750],\n",
            "        [0.3817, 0.2491, 0.3692],\n",
            "        [0.5101, 0.1815, 0.3084],\n",
            "        [0.2567, 0.5286, 0.2147],\n",
            "        [0.1918, 0.5000, 0.3082],\n",
            "        [0.5108, 0.2363, 0.2529],\n",
            "        [0.3103, 0.3418, 0.3479]], device='cuda:0', grad_fn=<SoftmaxBackward0>)\n",
            "prediction: tensor([1, 2, 0, 0, 1, 1, 0, 2], device='cuda:0')\n",
            "train labels: tensor([0, 0, 2, 1, 2, 1, 0, 1], device='cuda:0')\n"
          ]
        },
        {
          "output_type": "stream",
          "name": "stderr",
          "text": [
            "\r 81%|████████  | 51/63 [00:37<00:08,  1.37it/s]"
          ]
        },
        {
          "output_type": "stream",
          "name": "stdout",
          "text": [
            "training logits: tensor([[0.5588, 0.2506, 0.1906],\n",
            "        [0.4517, 0.2458, 0.3025],\n",
            "        [0.1483, 0.3267, 0.5251],\n",
            "        [0.6527, 0.2360, 0.1113],\n",
            "        [0.2979, 0.2544, 0.4477],\n",
            "        [0.5222, 0.2347, 0.2431],\n",
            "        [0.3519, 0.1235, 0.5246],\n",
            "        [0.2717, 0.3817, 0.3467]], device='cuda:0', grad_fn=<SoftmaxBackward0>)\n",
            "training outputs\n",
            "tensor([[0.5588, 0.2506, 0.1906],\n",
            "        [0.4517, 0.2458, 0.3025],\n",
            "        [0.1483, 0.3267, 0.5251],\n",
            "        [0.6527, 0.2360, 0.1113],\n",
            "        [0.2979, 0.2544, 0.4477],\n",
            "        [0.5222, 0.2347, 0.2431],\n",
            "        [0.3519, 0.1235, 0.5246],\n",
            "        [0.2717, 0.3817, 0.3467]], device='cuda:0', grad_fn=<SoftmaxBackward0>)\n",
            "prediction: tensor([0, 0, 2, 0, 2, 0, 2, 1], device='cuda:0')\n",
            "train labels: tensor([0, 2, 0, 2, 2, 0, 2, 1], device='cuda:0')\n"
          ]
        },
        {
          "output_type": "stream",
          "name": "stderr",
          "text": [
            "\r 83%|████████▎ | 52/63 [00:37<00:08,  1.37it/s]"
          ]
        },
        {
          "output_type": "stream",
          "name": "stdout",
          "text": [
            "training logits: tensor([[0.5167, 0.3602, 0.1231],\n",
            "        [0.5072, 0.3037, 0.1891],\n",
            "        [0.3530, 0.4785, 0.1685],\n",
            "        [0.2031, 0.1412, 0.6557],\n",
            "        [0.3877, 0.2098, 0.4024],\n",
            "        [0.2693, 0.4340, 0.2967],\n",
            "        [0.3943, 0.3901, 0.2156],\n",
            "        [0.4194, 0.3045, 0.2760]], device='cuda:0', grad_fn=<SoftmaxBackward0>)\n",
            "training outputs\n",
            "tensor([[0.5167, 0.3602, 0.1231],\n",
            "        [0.5072, 0.3037, 0.1891],\n",
            "        [0.3530, 0.4785, 0.1685],\n",
            "        [0.2031, 0.1412, 0.6557],\n",
            "        [0.3877, 0.2098, 0.4024],\n",
            "        [0.2693, 0.4340, 0.2967],\n",
            "        [0.3943, 0.3901, 0.2156],\n",
            "        [0.4194, 0.3045, 0.2760]], device='cuda:0', grad_fn=<SoftmaxBackward0>)\n",
            "prediction: tensor([0, 0, 1, 2, 2, 1, 0, 0], device='cuda:0')\n",
            "train labels: tensor([1, 1, 0, 0, 0, 1, 2, 1], device='cuda:0')\n"
          ]
        },
        {
          "output_type": "stream",
          "name": "stderr",
          "text": [
            "\r 84%|████████▍ | 53/63 [00:38<00:07,  1.38it/s]"
          ]
        },
        {
          "output_type": "stream",
          "name": "stdout",
          "text": [
            "training logits: tensor([[0.4728, 0.2182, 0.3090],\n",
            "        [0.4210, 0.1983, 0.3807],\n",
            "        [0.6418, 0.2293, 0.1289],\n",
            "        [0.1419, 0.3478, 0.5103],\n",
            "        [0.2656, 0.3929, 0.3415],\n",
            "        [0.0766, 0.7990, 0.1244],\n",
            "        [0.3491, 0.2091, 0.4419],\n",
            "        [0.2709, 0.3568, 0.3723]], device='cuda:0', grad_fn=<SoftmaxBackward0>)\n",
            "training outputs\n",
            "tensor([[0.4728, 0.2182, 0.3090],\n",
            "        [0.4210, 0.1983, 0.3807],\n",
            "        [0.6418, 0.2293, 0.1289],\n",
            "        [0.1419, 0.3478, 0.5103],\n",
            "        [0.2656, 0.3929, 0.3415],\n",
            "        [0.0766, 0.7990, 0.1244],\n",
            "        [0.3491, 0.2091, 0.4419],\n",
            "        [0.2709, 0.3568, 0.3723]], device='cuda:0', grad_fn=<SoftmaxBackward0>)\n",
            "prediction: tensor([0, 0, 0, 2, 1, 1, 2, 2], device='cuda:0')\n",
            "train labels: tensor([2, 1, 0, 1, 1, 1, 1, 2], device='cuda:0')\n"
          ]
        },
        {
          "output_type": "stream",
          "name": "stderr",
          "text": [
            "\r 86%|████████▌ | 54/63 [00:39<00:06,  1.38it/s]"
          ]
        },
        {
          "output_type": "stream",
          "name": "stdout",
          "text": [
            "training logits: tensor([[0.2482, 0.3662, 0.3856],\n",
            "        [0.1194, 0.3382, 0.5424],\n",
            "        [0.2080, 0.4305, 0.3615],\n",
            "        [0.3350, 0.3348, 0.3302],\n",
            "        [0.3197, 0.3229, 0.3574],\n",
            "        [0.3035, 0.4150, 0.2814],\n",
            "        [0.2886, 0.3218, 0.3896],\n",
            "        [0.3901, 0.2853, 0.3247]], device='cuda:0', grad_fn=<SoftmaxBackward0>)\n",
            "training outputs\n",
            "tensor([[0.2482, 0.3662, 0.3856],\n",
            "        [0.1194, 0.3382, 0.5424],\n",
            "        [0.2080, 0.4305, 0.3615],\n",
            "        [0.3350, 0.3348, 0.3302],\n",
            "        [0.3197, 0.3229, 0.3574],\n",
            "        [0.3035, 0.4150, 0.2814],\n",
            "        [0.2886, 0.3218, 0.3896],\n",
            "        [0.3901, 0.2853, 0.3247]], device='cuda:0', grad_fn=<SoftmaxBackward0>)\n",
            "prediction: tensor([2, 2, 1, 0, 2, 1, 2, 0], device='cuda:0')\n",
            "train labels: tensor([2, 2, 1, 0, 2, 2, 0, 1], device='cuda:0')\n"
          ]
        },
        {
          "output_type": "stream",
          "name": "stderr",
          "text": [
            "\r 87%|████████▋ | 55/63 [00:40<00:05,  1.39it/s]"
          ]
        },
        {
          "output_type": "stream",
          "name": "stdout",
          "text": [
            "training logits: tensor([[0.2118, 0.3894, 0.3988],\n",
            "        [0.5289, 0.2388, 0.2322],\n",
            "        [0.3281, 0.2346, 0.4373],\n",
            "        [0.2736, 0.2560, 0.4704],\n",
            "        [0.1486, 0.1265, 0.7249],\n",
            "        [0.3052, 0.2935, 0.4013],\n",
            "        [0.3997, 0.4144, 0.1859],\n",
            "        [0.4121, 0.3223, 0.2655]], device='cuda:0', grad_fn=<SoftmaxBackward0>)\n",
            "training outputs\n",
            "tensor([[0.2118, 0.3894, 0.3988],\n",
            "        [0.5289, 0.2388, 0.2322],\n",
            "        [0.3281, 0.2346, 0.4373],\n",
            "        [0.2736, 0.2560, 0.4704],\n",
            "        [0.1486, 0.1265, 0.7249],\n",
            "        [0.3052, 0.2935, 0.4013],\n",
            "        [0.3997, 0.4144, 0.1859],\n",
            "        [0.4121, 0.3223, 0.2655]], device='cuda:0', grad_fn=<SoftmaxBackward0>)\n",
            "prediction: tensor([2, 0, 2, 2, 2, 2, 1, 0], device='cuda:0')\n",
            "train labels: tensor([0, 2, 2, 2, 2, 0, 1, 1], device='cuda:0')\n"
          ]
        },
        {
          "output_type": "stream",
          "name": "stderr",
          "text": [
            "\r 89%|████████▉ | 56/63 [00:40<00:05,  1.39it/s]"
          ]
        },
        {
          "output_type": "stream",
          "name": "stdout",
          "text": [
            "training logits: tensor([[0.2418, 0.3861, 0.3722],\n",
            "        [0.4449, 0.2052, 0.3498],\n",
            "        [0.4093, 0.2747, 0.3160],\n",
            "        [0.4677, 0.2301, 0.3022],\n",
            "        [0.4601, 0.3692, 0.1707],\n",
            "        [0.3431, 0.3907, 0.2661],\n",
            "        [0.3098, 0.2562, 0.4340],\n",
            "        [0.3777, 0.3415, 0.2808]], device='cuda:0', grad_fn=<SoftmaxBackward0>)\n",
            "training outputs\n",
            "tensor([[0.2418, 0.3861, 0.3722],\n",
            "        [0.4449, 0.2052, 0.3498],\n",
            "        [0.4093, 0.2747, 0.3160],\n",
            "        [0.4677, 0.2301, 0.3022],\n",
            "        [0.4601, 0.3692, 0.1707],\n",
            "        [0.3431, 0.3907, 0.2661],\n",
            "        [0.3098, 0.2562, 0.4340],\n",
            "        [0.3777, 0.3415, 0.2808]], device='cuda:0', grad_fn=<SoftmaxBackward0>)\n",
            "prediction: tensor([1, 0, 0, 0, 0, 1, 2, 0], device='cuda:0')\n",
            "train labels: tensor([0, 1, 2, 2, 0, 2, 2, 2], device='cuda:0')\n"
          ]
        },
        {
          "output_type": "stream",
          "name": "stderr",
          "text": [
            "\r 90%|█████████ | 57/63 [00:41<00:04,  1.39it/s]"
          ]
        },
        {
          "output_type": "stream",
          "name": "stdout",
          "text": [
            "training logits: tensor([[0.5466, 0.2593, 0.1941],\n",
            "        [0.3446, 0.2592, 0.3962],\n",
            "        [0.4364, 0.2884, 0.2751],\n",
            "        [0.1215, 0.1287, 0.7498],\n",
            "        [0.3523, 0.3815, 0.2662],\n",
            "        [0.2774, 0.3222, 0.4004],\n",
            "        [0.2997, 0.5704, 0.1299],\n",
            "        [0.2341, 0.4548, 0.3111]], device='cuda:0', grad_fn=<SoftmaxBackward0>)\n",
            "training outputs\n",
            "tensor([[0.5466, 0.2593, 0.1941],\n",
            "        [0.3446, 0.2592, 0.3962],\n",
            "        [0.4364, 0.2884, 0.2751],\n",
            "        [0.1215, 0.1287, 0.7498],\n",
            "        [0.3523, 0.3815, 0.2662],\n",
            "        [0.2774, 0.3222, 0.4004],\n",
            "        [0.2997, 0.5704, 0.1299],\n",
            "        [0.2341, 0.4548, 0.3111]], device='cuda:0', grad_fn=<SoftmaxBackward0>)\n",
            "prediction: tensor([0, 2, 0, 2, 1, 2, 1, 1], device='cuda:0')\n",
            "train labels: tensor([0, 0, 2, 0, 1, 1, 0, 0], device='cuda:0')\n"
          ]
        },
        {
          "output_type": "stream",
          "name": "stderr",
          "text": [
            "\r 92%|█████████▏| 58/63 [00:42<00:03,  1.39it/s]"
          ]
        },
        {
          "output_type": "stream",
          "name": "stdout",
          "text": [
            "training logits: tensor([[0.4148, 0.4208, 0.1644],\n",
            "        [0.2929, 0.3124, 0.3947],\n",
            "        [0.2692, 0.2909, 0.4399],\n",
            "        [0.4186, 0.2180, 0.3634],\n",
            "        [0.2115, 0.3497, 0.4388],\n",
            "        [0.2722, 0.2554, 0.4725],\n",
            "        [0.3126, 0.3375, 0.3499],\n",
            "        [0.1862, 0.1516, 0.6622]], device='cuda:0', grad_fn=<SoftmaxBackward0>)\n",
            "training outputs\n",
            "tensor([[0.4148, 0.4208, 0.1644],\n",
            "        [0.2929, 0.3124, 0.3947],\n",
            "        [0.2692, 0.2909, 0.4399],\n",
            "        [0.4186, 0.2180, 0.3634],\n",
            "        [0.2115, 0.3497, 0.4388],\n",
            "        [0.2722, 0.2554, 0.4725],\n",
            "        [0.3126, 0.3375, 0.3499],\n",
            "        [0.1862, 0.1516, 0.6622]], device='cuda:0', grad_fn=<SoftmaxBackward0>)\n",
            "prediction: tensor([1, 2, 2, 0, 2, 2, 2, 2], device='cuda:0')\n",
            "train labels: tensor([1, 2, 0, 1, 2, 0, 2, 2], device='cuda:0')\n"
          ]
        },
        {
          "output_type": "stream",
          "name": "stderr",
          "text": [
            "\r 94%|█████████▎| 59/63 [00:42<00:02,  1.39it/s]"
          ]
        },
        {
          "output_type": "stream",
          "name": "stdout",
          "text": [
            "training logits: tensor([[0.2322, 0.3222, 0.4456],\n",
            "        [0.3535, 0.3841, 0.2625],\n",
            "        [0.2196, 0.6354, 0.1450],\n",
            "        [0.4156, 0.4543, 0.1301],\n",
            "        [0.3110, 0.3562, 0.3329],\n",
            "        [0.2881, 0.2608, 0.4511],\n",
            "        [0.1669, 0.3258, 0.5073],\n",
            "        [0.6627, 0.2089, 0.1284]], device='cuda:0', grad_fn=<SoftmaxBackward0>)\n",
            "training outputs\n",
            "tensor([[0.2322, 0.3222, 0.4456],\n",
            "        [0.3535, 0.3841, 0.2625],\n",
            "        [0.2196, 0.6354, 0.1450],\n",
            "        [0.4156, 0.4543, 0.1301],\n",
            "        [0.3110, 0.3562, 0.3329],\n",
            "        [0.2881, 0.2608, 0.4511],\n",
            "        [0.1669, 0.3258, 0.5073],\n",
            "        [0.6627, 0.2089, 0.1284]], device='cuda:0', grad_fn=<SoftmaxBackward0>)\n",
            "prediction: tensor([2, 1, 1, 1, 1, 2, 2, 0], device='cuda:0')\n",
            "train labels: tensor([0, 0, 0, 0, 1, 2, 2, 2], device='cuda:0')\n"
          ]
        },
        {
          "output_type": "stream",
          "name": "stderr",
          "text": [
            "\r 95%|█████████▌| 60/63 [00:43<00:02,  1.39it/s]"
          ]
        },
        {
          "output_type": "stream",
          "name": "stdout",
          "text": [
            "training logits: tensor([[0.3388, 0.3626, 0.2986],\n",
            "        [0.3700, 0.3089, 0.3210],\n",
            "        [0.6019, 0.2692, 0.1289],\n",
            "        [0.3211, 0.3202, 0.3587],\n",
            "        [0.5609, 0.1542, 0.2849],\n",
            "        [0.4234, 0.2990, 0.2777],\n",
            "        [0.1531, 0.5214, 0.3254],\n",
            "        [0.3898, 0.2442, 0.3661]], device='cuda:0', grad_fn=<SoftmaxBackward0>)\n",
            "training outputs\n",
            "tensor([[0.3388, 0.3626, 0.2986],\n",
            "        [0.3700, 0.3089, 0.3210],\n",
            "        [0.6019, 0.2692, 0.1289],\n",
            "        [0.3211, 0.3202, 0.3587],\n",
            "        [0.5609, 0.1542, 0.2849],\n",
            "        [0.4234, 0.2990, 0.2777],\n",
            "        [0.1531, 0.5214, 0.3254],\n",
            "        [0.3898, 0.2442, 0.3661]], device='cuda:0', grad_fn=<SoftmaxBackward0>)\n",
            "prediction: tensor([1, 0, 0, 2, 0, 0, 1, 0], device='cuda:0')\n",
            "train labels: tensor([2, 2, 2, 1, 0, 2, 2, 1], device='cuda:0')\n"
          ]
        },
        {
          "output_type": "stream",
          "name": "stderr",
          "text": [
            "\r 97%|█████████▋| 61/63 [00:44<00:01,  1.39it/s]"
          ]
        },
        {
          "output_type": "stream",
          "name": "stdout",
          "text": [
            "training logits: tensor([[0.5176, 0.1963, 0.2860],\n",
            "        [0.2838, 0.1630, 0.5532],\n",
            "        [0.5456, 0.1655, 0.2889],\n",
            "        [0.3361, 0.4519, 0.2121],\n",
            "        [0.3615, 0.2408, 0.3977],\n",
            "        [0.5886, 0.2018, 0.2096],\n",
            "        [0.0585, 0.1805, 0.7610],\n",
            "        [0.2197, 0.3386, 0.4417]], device='cuda:0', grad_fn=<SoftmaxBackward0>)\n",
            "training outputs\n",
            "tensor([[0.5176, 0.1963, 0.2860],\n",
            "        [0.2838, 0.1630, 0.5532],\n",
            "        [0.5456, 0.1655, 0.2889],\n",
            "        [0.3361, 0.4519, 0.2121],\n",
            "        [0.3615, 0.2408, 0.3977],\n",
            "        [0.5886, 0.2018, 0.2096],\n",
            "        [0.0585, 0.1805, 0.7610],\n",
            "        [0.2197, 0.3386, 0.4417]], device='cuda:0', grad_fn=<SoftmaxBackward0>)\n",
            "prediction: tensor([0, 2, 0, 1, 2, 0, 2, 2], device='cuda:0')\n",
            "train labels: tensor([0, 1, 0, 1, 1, 0, 1, 0], device='cuda:0')\n"
          ]
        },
        {
          "output_type": "stream",
          "name": "stderr",
          "text": [
            "\r 98%|█████████▊| 62/63 [00:45<00:00,  1.39it/s]"
          ]
        },
        {
          "output_type": "stream",
          "name": "stdout",
          "text": [
            "training logits: tensor([[0.3018, 0.4315, 0.2666],\n",
            "        [0.1982, 0.2892, 0.5126],\n",
            "        [0.4203, 0.3772, 0.2025],\n",
            "        [0.1893, 0.6003, 0.2104]], device='cuda:0', grad_fn=<SoftmaxBackward0>)\n",
            "training outputs\n",
            "tensor([[0.3018, 0.4315, 0.2666],\n",
            "        [0.1982, 0.2892, 0.5126],\n",
            "        [0.4203, 0.3772, 0.2025],\n",
            "        [0.1893, 0.6003, 0.2104]], device='cuda:0', grad_fn=<SoftmaxBackward0>)\n",
            "prediction: tensor([1, 2, 0, 1], device='cuda:0')\n",
            "train labels: tensor([2, 0, 1, 2], device='cuda:0')\n"
          ]
        },
        {
          "output_type": "stream",
          "name": "stderr",
          "text": [
            "100%|██████████| 63/63 [00:45<00:00,  1.38it/s]\n"
          ]
        },
        {
          "output_type": "stream",
          "name": "stdout",
          "text": [
            "tensor([2, 1, 0, 2, 0, 1, 1, 0], device='cuda:0')\n",
            "validating logits: tensor([[0.2024, 0.3900, 0.4077],\n",
            "        [0.4016, 0.3165, 0.2819],\n",
            "        [0.3693, 0.2879, 0.3428],\n",
            "        [0.4527, 0.3147, 0.2326],\n",
            "        [0.4349, 0.0801, 0.4849],\n",
            "        [0.3206, 0.3669, 0.3125],\n",
            "        [0.2768, 0.4713, 0.2519],\n",
            "        [0.1420, 0.2396, 0.6183]], device='cuda:0')\n",
            "prediction: tensor([2, 0, 0, 0, 2, 1, 1, 2], device='cuda:0')\n",
            "tensor([[0.2024, 0.3900, 0.4077],\n",
            "        [0.4016, 0.3165, 0.2819],\n",
            "        [0.3693, 0.2879, 0.3428],\n",
            "        [0.4527, 0.3147, 0.2326],\n",
            "        [0.4349, 0.0801, 0.4849],\n",
            "        [0.3206, 0.3669, 0.3125],\n",
            "        [0.2768, 0.4713, 0.2519],\n",
            "        [0.1420, 0.2396, 0.6183]], device='cuda:0')\n",
            "tensor([2, 2, 1, 2, 2, 1, 0, 2], device='cuda:0')\n",
            "validating logits: tensor([[0.1988, 0.2257, 0.5755],\n",
            "        [0.1476, 0.1683, 0.6841],\n",
            "        [0.3824, 0.2186, 0.3989],\n",
            "        [0.4326, 0.0925, 0.4749],\n",
            "        [0.2855, 0.0825, 0.6320],\n",
            "        [0.4730, 0.2103, 0.3167],\n",
            "        [0.1121, 0.1708, 0.7171],\n",
            "        [0.2664, 0.2800, 0.4537]], device='cuda:0')\n",
            "prediction: tensor([2, 2, 2, 2, 2, 0, 2, 2], device='cuda:0')\n",
            "tensor([[0.1988, 0.2257, 0.5755],\n",
            "        [0.1476, 0.1683, 0.6841],\n",
            "        [0.3824, 0.2186, 0.3989],\n",
            "        [0.4326, 0.0925, 0.4749],\n",
            "        [0.2855, 0.0825, 0.6320],\n",
            "        [0.4730, 0.2103, 0.3167],\n",
            "        [0.1121, 0.1708, 0.7171],\n",
            "        [0.2664, 0.2800, 0.4537]], device='cuda:0')\n",
            "tensor([1, 0, 0, 1, 2, 2, 1, 0], device='cuda:0')\n",
            "validating logits: tensor([[0.3318, 0.1279, 0.5403],\n",
            "        [0.1819, 0.1742, 0.6439],\n",
            "        [0.4992, 0.2968, 0.2040],\n",
            "        [0.3251, 0.1589, 0.5159],\n",
            "        [0.2198, 0.4263, 0.3540],\n",
            "        [0.2413, 0.1706, 0.5881],\n",
            "        [0.3715, 0.3543, 0.2742],\n",
            "        [0.3077, 0.1994, 0.4930]], device='cuda:0')\n",
            "prediction: tensor([2, 2, 0, 2, 1, 2, 0, 2], device='cuda:0')\n",
            "tensor([[0.3318, 0.1279, 0.5403],\n",
            "        [0.1819, 0.1742, 0.6439],\n",
            "        [0.4992, 0.2968, 0.2040],\n",
            "        [0.3251, 0.1589, 0.5159],\n",
            "        [0.2198, 0.4263, 0.3540],\n",
            "        [0.2413, 0.1706, 0.5881],\n",
            "        [0.3715, 0.3543, 0.2742],\n",
            "        [0.3077, 0.1994, 0.4930]], device='cuda:0')\n",
            "tensor([1, 0, 2, 2, 1, 0, 2, 0], device='cuda:0')\n",
            "validating logits: tensor([[0.3833, 0.3354, 0.2812],\n",
            "        [0.2900, 0.1826, 0.5273],\n",
            "        [0.4606, 0.1443, 0.3951],\n",
            "        [0.2281, 0.4864, 0.2855],\n",
            "        [0.3161, 0.3382, 0.3458],\n",
            "        [0.4677, 0.4113, 0.1210],\n",
            "        [0.3139, 0.1886, 0.4975],\n",
            "        [0.0982, 0.1929, 0.7090]], device='cuda:0')\n",
            "prediction: tensor([0, 2, 0, 1, 2, 0, 2, 2], device='cuda:0')\n",
            "tensor([[0.3833, 0.3354, 0.2812],\n",
            "        [0.2900, 0.1826, 0.5273],\n",
            "        [0.4606, 0.1443, 0.3951],\n",
            "        [0.2281, 0.4864, 0.2855],\n",
            "        [0.3161, 0.3382, 0.3458],\n",
            "        [0.4677, 0.4113, 0.1210],\n",
            "        [0.3139, 0.1886, 0.4975],\n",
            "        [0.0982, 0.1929, 0.7090]], device='cuda:0')\n",
            "tensor([1, 1, 2, 0, 1, 0, 2, 2], device='cuda:0')\n",
            "validating logits: tensor([[0.1795, 0.2503, 0.5702],\n",
            "        [0.3344, 0.3746, 0.2910],\n",
            "        [0.1771, 0.1658, 0.6570],\n",
            "        [0.1629, 0.2116, 0.6255],\n",
            "        [0.4462, 0.2865, 0.2674],\n",
            "        [0.3276, 0.3107, 0.3617],\n",
            "        [0.5332, 0.1551, 0.3117],\n",
            "        [0.2641, 0.1241, 0.6118]], device='cuda:0')\n",
            "prediction: tensor([2, 1, 2, 2, 0, 2, 0, 2], device='cuda:0')\n",
            "tensor([[0.1795, 0.2503, 0.5702],\n",
            "        [0.3344, 0.3746, 0.2910],\n",
            "        [0.1771, 0.1658, 0.6570],\n",
            "        [0.1629, 0.2116, 0.6255],\n",
            "        [0.4462, 0.2865, 0.2674],\n",
            "        [0.3276, 0.3107, 0.3617],\n",
            "        [0.5332, 0.1551, 0.3117],\n",
            "        [0.2641, 0.1241, 0.6118]], device='cuda:0')\n",
            "tensor([0, 1, 2, 0, 0, 0, 2, 1], device='cuda:0')\n",
            "validating logits: tensor([[0.3541, 0.4271, 0.2188],\n",
            "        [0.2772, 0.4257, 0.2971],\n",
            "        [0.2479, 0.3381, 0.4140],\n",
            "        [0.2007, 0.4107, 0.3886],\n",
            "        [0.2142, 0.2006, 0.5852],\n",
            "        [0.4477, 0.2724, 0.2799],\n",
            "        [0.1591, 0.1760, 0.6649],\n",
            "        [0.2641, 0.3421, 0.3938]], device='cuda:0')\n",
            "prediction: tensor([1, 1, 2, 1, 2, 0, 2, 2], device='cuda:0')\n",
            "tensor([[0.3541, 0.4271, 0.2188],\n",
            "        [0.2772, 0.4257, 0.2971],\n",
            "        [0.2479, 0.3381, 0.4140],\n",
            "        [0.2007, 0.4107, 0.3886],\n",
            "        [0.2142, 0.2006, 0.5852],\n",
            "        [0.4477, 0.2724, 0.2799],\n",
            "        [0.1591, 0.1760, 0.6649],\n",
            "        [0.2641, 0.3421, 0.3938]], device='cuda:0')\n",
            "tensor([1, 0, 2, 1, 0, 2, 1, 2], device='cuda:0')\n",
            "validating logits: tensor([[0.2001, 0.2685, 0.5314],\n",
            "        [0.1257, 0.2635, 0.6108],\n",
            "        [0.2325, 0.0985, 0.6690],\n",
            "        [0.3232, 0.3142, 0.3625],\n",
            "        [0.5206, 0.2305, 0.2489],\n",
            "        [0.4230, 0.3554, 0.2216],\n",
            "        [0.3170, 0.1307, 0.5523],\n",
            "        [0.1080, 0.0796, 0.8124]], device='cuda:0')\n",
            "prediction: tensor([2, 2, 2, 2, 0, 0, 2, 2], device='cuda:0')\n",
            "tensor([[0.2001, 0.2685, 0.5314],\n",
            "        [0.1257, 0.2635, 0.6108],\n",
            "        [0.2325, 0.0985, 0.6690],\n",
            "        [0.3232, 0.3142, 0.3625],\n",
            "        [0.5206, 0.2305, 0.2489],\n",
            "        [0.4230, 0.3554, 0.2216],\n",
            "        [0.3170, 0.1307, 0.5523],\n",
            "        [0.1080, 0.0796, 0.8124]], device='cuda:0')\n",
            "tensor([0, 2, 1, 0, 0, 1, 2, 0], device='cuda:0')\n",
            "validating logits: tensor([[0.1854, 0.4304, 0.3841],\n",
            "        [0.1767, 0.2165, 0.6068],\n",
            "        [0.3030, 0.3886, 0.3084],\n",
            "        [0.3063, 0.3573, 0.3364],\n",
            "        [0.3160, 0.2796, 0.4045],\n",
            "        [0.2944, 0.1582, 0.5474],\n",
            "        [0.4731, 0.2430, 0.2839],\n",
            "        [0.3003, 0.3592, 0.3405]], device='cuda:0')\n",
            "prediction: tensor([1, 2, 1, 1, 2, 2, 0, 1], device='cuda:0')\n",
            "tensor([[0.1854, 0.4304, 0.3841],\n",
            "        [0.1767, 0.2165, 0.6068],\n",
            "        [0.3030, 0.3886, 0.3084],\n",
            "        [0.3063, 0.3573, 0.3364],\n",
            "        [0.3160, 0.2796, 0.4045],\n",
            "        [0.2944, 0.1582, 0.5474],\n",
            "        [0.4731, 0.2430, 0.2839],\n",
            "        [0.3003, 0.3592, 0.3405]], device='cuda:0')\n",
            "tensor([2, 1, 1, 0, 2, 1, 0, 2], device='cuda:0')\n",
            "validating logits: tensor([[0.4383, 0.2032, 0.3585],\n",
            "        [0.3194, 0.4064, 0.2742],\n",
            "        [0.3509, 0.0818, 0.5673],\n",
            "        [0.4036, 0.2277, 0.3687],\n",
            "        [0.2762, 0.3399, 0.3839],\n",
            "        [0.1605, 0.2403, 0.5992],\n",
            "        [0.2058, 0.3356, 0.4586],\n",
            "        [0.3581, 0.3721, 0.2699]], device='cuda:0')\n",
            "prediction: tensor([0, 1, 2, 0, 2, 2, 2, 1], device='cuda:0')\n",
            "tensor([[0.4383, 0.2032, 0.3585],\n",
            "        [0.3194, 0.4064, 0.2742],\n",
            "        [0.3509, 0.0818, 0.5673],\n",
            "        [0.4036, 0.2277, 0.3687],\n",
            "        [0.2762, 0.3399, 0.3839],\n",
            "        [0.1605, 0.2403, 0.5992],\n",
            "        [0.2058, 0.3356, 0.4586],\n",
            "        [0.3581, 0.3721, 0.2699]], device='cuda:0')\n",
            "tensor([2, 1, 0, 2, 1, 0, 1, 0], device='cuda:0')\n",
            "validating logits: tensor([[0.4383, 0.1943, 0.3674],\n",
            "        [0.2843, 0.2498, 0.4659],\n",
            "        [0.3600, 0.1005, 0.5396],\n",
            "        [0.1385, 0.1511, 0.7103],\n",
            "        [0.3356, 0.3756, 0.2888],\n",
            "        [0.1287, 0.3530, 0.5183],\n",
            "        [0.2677, 0.3019, 0.4304],\n",
            "        [0.3397, 0.3311, 0.3291]], device='cuda:0')\n",
            "prediction: tensor([0, 2, 2, 2, 1, 2, 2, 0], device='cuda:0')\n",
            "tensor([[0.4383, 0.1943, 0.3674],\n",
            "        [0.2843, 0.2498, 0.4659],\n",
            "        [0.3600, 0.1005, 0.5396],\n",
            "        [0.1385, 0.1511, 0.7103],\n",
            "        [0.3356, 0.3756, 0.2888],\n",
            "        [0.1287, 0.3530, 0.5183],\n",
            "        [0.2677, 0.3019, 0.4304],\n",
            "        [0.3397, 0.3311, 0.3291]], device='cuda:0')\n",
            "tensor([2, 2, 1, 0, 0, 1, 2, 1], device='cuda:0')\n",
            "validating logits: tensor([[0.2484, 0.4022, 0.3494],\n",
            "        [0.3568, 0.2807, 0.3625],\n",
            "        [0.2699, 0.2113, 0.5188],\n",
            "        [0.3395, 0.3171, 0.3434],\n",
            "        [0.0848, 0.2033, 0.7119],\n",
            "        [0.2304, 0.4880, 0.2816],\n",
            "        [0.5106, 0.1620, 0.3274],\n",
            "        [0.1919, 0.4882, 0.3199]], device='cuda:0')\n",
            "prediction: tensor([1, 2, 2, 2, 2, 1, 0, 1], device='cuda:0')\n",
            "tensor([[0.2484, 0.4022, 0.3494],\n",
            "        [0.3568, 0.2807, 0.3625],\n",
            "        [0.2699, 0.2113, 0.5188],\n",
            "        [0.3395, 0.3171, 0.3434],\n",
            "        [0.0848, 0.2033, 0.7119],\n",
            "        [0.2304, 0.4880, 0.2816],\n",
            "        [0.5106, 0.1620, 0.3274],\n",
            "        [0.1919, 0.4882, 0.3199]], device='cuda:0')\n",
            "tensor([0, 2, 1, 0, 1, 2, 1, 2], device='cuda:0')\n",
            "validating logits: tensor([[0.4517, 0.2734, 0.2749],\n",
            "        [0.3537, 0.2109, 0.4354],\n",
            "        [0.1956, 0.2879, 0.5165],\n",
            "        [0.3873, 0.2774, 0.3353],\n",
            "        [0.4474, 0.2598, 0.2928],\n",
            "        [0.2774, 0.2313, 0.4913],\n",
            "        [0.1255, 0.5212, 0.3534],\n",
            "        [0.3553, 0.0612, 0.5835]], device='cuda:0')\n",
            "prediction: tensor([0, 2, 2, 0, 0, 2, 1, 2], device='cuda:0')\n",
            "tensor([[0.4517, 0.2734, 0.2749],\n",
            "        [0.3537, 0.2109, 0.4354],\n",
            "        [0.1956, 0.2879, 0.5165],\n",
            "        [0.3873, 0.2774, 0.3353],\n",
            "        [0.4474, 0.2598, 0.2928],\n",
            "        [0.2774, 0.2313, 0.4913],\n",
            "        [0.1255, 0.5212, 0.3534],\n",
            "        [0.3553, 0.0612, 0.5835]], device='cuda:0')\n",
            "tensor([0, 2, 2, 0], device='cuda:0')\n",
            "validating logits: tensor([[0.2776, 0.3423, 0.3801],\n",
            "        [0.2569, 0.4912, 0.2519],\n",
            "        [0.1947, 0.2151, 0.5902],\n",
            "        [0.5061, 0.2731, 0.2208]], device='cuda:0')\n",
            "prediction: tensor([2, 1, 2, 0], device='cuda:0')\n",
            "tensor([[0.2776, 0.3423, 0.3801],\n",
            "        [0.2569, 0.4912, 0.2519],\n",
            "        [0.1947, 0.2151, 0.5902],\n",
            "        [0.5061, 0.2731, 0.2208]], device='cuda:0')\n",
            "Epochs: 2 | Train Loss:  0.139             | Train Accuracy:  0.354             | Val Loss:  0.141             | Val Accuracy:  0.420\n",
            "Found a better model\n"
          ]
        },
        {
          "output_type": "stream",
          "name": "stderr",
          "text": [
            "\r  0%|          | 0/63 [00:00<?, ?it/s]"
          ]
        },
        {
          "output_type": "stream",
          "name": "stdout",
          "text": [
            "training logits: tensor([[0.2156, 0.4173, 0.3671],\n",
            "        [0.2185, 0.0811, 0.7004],\n",
            "        [0.1757, 0.3898, 0.4344],\n",
            "        [0.4176, 0.0636, 0.5188],\n",
            "        [0.4236, 0.3600, 0.2165],\n",
            "        [0.4071, 0.1436, 0.4493],\n",
            "        [0.2670, 0.3307, 0.4023],\n",
            "        [0.1985, 0.4916, 0.3099]], device='cuda:0', grad_fn=<SoftmaxBackward0>)\n",
            "training outputs\n",
            "tensor([[0.2156, 0.4173, 0.3671],\n",
            "        [0.2185, 0.0811, 0.7004],\n",
            "        [0.1757, 0.3898, 0.4344],\n",
            "        [0.4176, 0.0636, 0.5188],\n",
            "        [0.4236, 0.3600, 0.2165],\n",
            "        [0.4071, 0.1436, 0.4493],\n",
            "        [0.2670, 0.3307, 0.4023],\n",
            "        [0.1985, 0.4916, 0.3099]], device='cuda:0', grad_fn=<SoftmaxBackward0>)\n",
            "prediction: tensor([1, 2, 2, 2, 0, 2, 2, 1], device='cuda:0')\n",
            "train labels: tensor([2, 1, 0, 2, 2, 0, 1, 0], device='cuda:0')\n"
          ]
        },
        {
          "output_type": "stream",
          "name": "stderr",
          "text": [
            "\r  2%|▏         | 1/63 [00:00<00:45,  1.38it/s]"
          ]
        },
        {
          "output_type": "stream",
          "name": "stdout",
          "text": [
            "training logits: tensor([[0.2997, 0.3775, 0.3229],\n",
            "        [0.1475, 0.4501, 0.4024],\n",
            "        [0.5417, 0.2206, 0.2377],\n",
            "        [0.0728, 0.3624, 0.5648],\n",
            "        [0.1913, 0.4822, 0.3265],\n",
            "        [0.3221, 0.2498, 0.4281],\n",
            "        [0.2930, 0.2959, 0.4112],\n",
            "        [0.3677, 0.2354, 0.3969]], device='cuda:0', grad_fn=<SoftmaxBackward0>)\n",
            "training outputs\n",
            "tensor([[0.2997, 0.3775, 0.3229],\n",
            "        [0.1475, 0.4501, 0.4024],\n",
            "        [0.5417, 0.2206, 0.2377],\n",
            "        [0.0728, 0.3624, 0.5648],\n",
            "        [0.1913, 0.4822, 0.3265],\n",
            "        [0.3221, 0.2498, 0.4281],\n",
            "        [0.2930, 0.2959, 0.4112],\n",
            "        [0.3677, 0.2354, 0.3969]], device='cuda:0', grad_fn=<SoftmaxBackward0>)\n",
            "prediction: tensor([1, 1, 0, 2, 1, 2, 2, 2], device='cuda:0')\n",
            "train labels: tensor([0, 1, 0, 0, 0, 2, 1, 2], device='cuda:0')\n"
          ]
        },
        {
          "output_type": "stream",
          "name": "stderr",
          "text": [
            "\r  3%|▎         | 2/63 [00:01<00:42,  1.42it/s]"
          ]
        },
        {
          "output_type": "stream",
          "name": "stdout",
          "text": [
            "training logits: tensor([[0.3549, 0.4512, 0.1938],\n",
            "        [0.3994, 0.1313, 0.4693],\n",
            "        [0.4660, 0.2836, 0.2504],\n",
            "        [0.3293, 0.2022, 0.4685],\n",
            "        [0.2105, 0.0680, 0.7215],\n",
            "        [0.1582, 0.5658, 0.2760],\n",
            "        [0.2938, 0.1858, 0.5204],\n",
            "        [0.3126, 0.2677, 0.4197]], device='cuda:0', grad_fn=<SoftmaxBackward0>)\n",
            "training outputs\n",
            "tensor([[0.3549, 0.4512, 0.1938],\n",
            "        [0.3994, 0.1313, 0.4693],\n",
            "        [0.4660, 0.2836, 0.2504],\n",
            "        [0.3293, 0.2022, 0.4685],\n",
            "        [0.2105, 0.0680, 0.7215],\n",
            "        [0.1582, 0.5658, 0.2760],\n",
            "        [0.2938, 0.1858, 0.5204],\n",
            "        [0.3126, 0.2677, 0.4197]], device='cuda:0', grad_fn=<SoftmaxBackward0>)\n",
            "prediction: tensor([1, 2, 0, 2, 2, 1, 2, 2], device='cuda:0')\n",
            "train labels: tensor([2, 1, 1, 2, 2, 2, 2, 1], device='cuda:0')\n"
          ]
        },
        {
          "output_type": "stream",
          "name": "stderr",
          "text": [
            "\r  5%|▍         | 3/63 [00:02<00:42,  1.42it/s]"
          ]
        },
        {
          "output_type": "stream",
          "name": "stdout",
          "text": [
            "training logits: tensor([[0.1641, 0.2353, 0.6006],\n",
            "        [0.5007, 0.3109, 0.1884],\n",
            "        [0.2358, 0.4724, 0.2918],\n",
            "        [0.2174, 0.2673, 0.5153],\n",
            "        [0.2018, 0.3338, 0.4644],\n",
            "        [0.2216, 0.4081, 0.3704],\n",
            "        [0.0453, 0.0524, 0.9023],\n",
            "        [0.3098, 0.1727, 0.5174]], device='cuda:0', grad_fn=<SoftmaxBackward0>)\n",
            "training outputs\n",
            "tensor([[0.1641, 0.2353, 0.6006],\n",
            "        [0.5007, 0.3109, 0.1884],\n",
            "        [0.2358, 0.4724, 0.2918],\n",
            "        [0.2174, 0.2673, 0.5153],\n",
            "        [0.2018, 0.3338, 0.4644],\n",
            "        [0.2216, 0.4081, 0.3704],\n",
            "        [0.0453, 0.0524, 0.9023],\n",
            "        [0.3098, 0.1727, 0.5174]], device='cuda:0', grad_fn=<SoftmaxBackward0>)\n",
            "prediction: tensor([2, 0, 1, 2, 2, 1, 2, 2], device='cuda:0')\n",
            "train labels: tensor([2, 1, 1, 1, 1, 1, 2, 0], device='cuda:0')\n"
          ]
        },
        {
          "output_type": "stream",
          "name": "stderr",
          "text": [
            "\r  6%|▋         | 4/63 [00:02<00:41,  1.43it/s]"
          ]
        },
        {
          "output_type": "stream",
          "name": "stdout",
          "text": [
            "training logits: tensor([[0.1740, 0.2803, 0.5457],\n",
            "        [0.2323, 0.3372, 0.4305],\n",
            "        [0.1708, 0.2041, 0.6251],\n",
            "        [0.3882, 0.3825, 0.2293],\n",
            "        [0.5237, 0.2128, 0.2635],\n",
            "        [0.1832, 0.3248, 0.4920],\n",
            "        [0.2494, 0.3654, 0.3852],\n",
            "        [0.3232, 0.3320, 0.3449]], device='cuda:0', grad_fn=<SoftmaxBackward0>)\n",
            "training outputs\n",
            "tensor([[0.1740, 0.2803, 0.5457],\n",
            "        [0.2323, 0.3372, 0.4305],\n",
            "        [0.1708, 0.2041, 0.6251],\n",
            "        [0.3882, 0.3825, 0.2293],\n",
            "        [0.5237, 0.2128, 0.2635],\n",
            "        [0.1832, 0.3248, 0.4920],\n",
            "        [0.2494, 0.3654, 0.3852],\n",
            "        [0.3232, 0.3320, 0.3449]], device='cuda:0', grad_fn=<SoftmaxBackward0>)\n",
            "prediction: tensor([2, 2, 2, 0, 0, 2, 2, 2], device='cuda:0')\n",
            "train labels: tensor([2, 2, 2, 0, 2, 0, 2, 2], device='cuda:0')\n"
          ]
        },
        {
          "output_type": "stream",
          "name": "stderr",
          "text": [
            "\r  8%|▊         | 5/63 [00:03<00:40,  1.42it/s]"
          ]
        },
        {
          "output_type": "stream",
          "name": "stdout",
          "text": [
            "training logits: tensor([[0.5933, 0.2678, 0.1389],\n",
            "        [0.1977, 0.5177, 0.2846],\n",
            "        [0.2882, 0.4330, 0.2789],\n",
            "        [0.2345, 0.3319, 0.4336],\n",
            "        [0.3749, 0.3676, 0.2576],\n",
            "        [0.2625, 0.4438, 0.2937],\n",
            "        [0.3495, 0.4223, 0.2282],\n",
            "        [0.5223, 0.1935, 0.2843]], device='cuda:0', grad_fn=<SoftmaxBackward0>)\n",
            "training outputs\n",
            "tensor([[0.5933, 0.2678, 0.1389],\n",
            "        [0.1977, 0.5177, 0.2846],\n",
            "        [0.2882, 0.4330, 0.2789],\n",
            "        [0.2345, 0.3319, 0.4336],\n",
            "        [0.3749, 0.3676, 0.2576],\n",
            "        [0.2625, 0.4438, 0.2937],\n",
            "        [0.3495, 0.4223, 0.2282],\n",
            "        [0.5223, 0.1935, 0.2843]], device='cuda:0', grad_fn=<SoftmaxBackward0>)\n",
            "prediction: tensor([0, 1, 1, 2, 0, 1, 1, 0], device='cuda:0')\n",
            "train labels: tensor([0, 0, 1, 1, 0, 1, 1, 1], device='cuda:0')\n"
          ]
        },
        {
          "output_type": "stream",
          "name": "stderr",
          "text": [
            "\r 10%|▉         | 6/63 [00:04<00:40,  1.42it/s]"
          ]
        },
        {
          "output_type": "stream",
          "name": "stdout",
          "text": [
            "training logits: tensor([[0.2616, 0.2105, 0.5279],\n",
            "        [0.1379, 0.1674, 0.6947],\n",
            "        [0.1435, 0.6246, 0.2319],\n",
            "        [0.2387, 0.1498, 0.6115],\n",
            "        [0.1532, 0.2398, 0.6069],\n",
            "        [0.2087, 0.4602, 0.3311],\n",
            "        [0.2244, 0.5859, 0.1897],\n",
            "        [0.1757, 0.3414, 0.4828]], device='cuda:0', grad_fn=<SoftmaxBackward0>)\n",
            "training outputs\n",
            "tensor([[0.2616, 0.2105, 0.5279],\n",
            "        [0.1379, 0.1674, 0.6947],\n",
            "        [0.1435, 0.6246, 0.2319],\n",
            "        [0.2387, 0.1498, 0.6115],\n",
            "        [0.1532, 0.2398, 0.6069],\n",
            "        [0.2087, 0.4602, 0.3311],\n",
            "        [0.2244, 0.5859, 0.1897],\n",
            "        [0.1757, 0.3414, 0.4828]], device='cuda:0', grad_fn=<SoftmaxBackward0>)\n",
            "prediction: tensor([2, 2, 1, 2, 2, 1, 1, 2], device='cuda:0')\n",
            "train labels: tensor([1, 2, 1, 2, 1, 0, 2, 2], device='cuda:0')\n"
          ]
        },
        {
          "output_type": "stream",
          "name": "stderr",
          "text": [
            "\r 11%|█         | 7/63 [00:04<00:39,  1.42it/s]"
          ]
        },
        {
          "output_type": "stream",
          "name": "stdout",
          "text": [
            "training logits: tensor([[0.1603, 0.1483, 0.6914],\n",
            "        [0.1481, 0.2456, 0.6063],\n",
            "        [0.5139, 0.2517, 0.2344],\n",
            "        [0.5923, 0.2582, 0.1495],\n",
            "        [0.5018, 0.2955, 0.2026],\n",
            "        [0.2917, 0.1109, 0.5974],\n",
            "        [0.3067, 0.3798, 0.3136],\n",
            "        [0.1412, 0.3849, 0.4738]], device='cuda:0', grad_fn=<SoftmaxBackward0>)\n",
            "training outputs\n",
            "tensor([[0.1603, 0.1483, 0.6914],\n",
            "        [0.1481, 0.2456, 0.6063],\n",
            "        [0.5139, 0.2517, 0.2344],\n",
            "        [0.5923, 0.2582, 0.1495],\n",
            "        [0.5018, 0.2955, 0.2026],\n",
            "        [0.2917, 0.1109, 0.5974],\n",
            "        [0.3067, 0.3798, 0.3136],\n",
            "        [0.1412, 0.3849, 0.4738]], device='cuda:0', grad_fn=<SoftmaxBackward0>)\n",
            "prediction: tensor([2, 2, 0, 0, 0, 2, 1, 2], device='cuda:0')\n",
            "train labels: tensor([1, 2, 0, 1, 1, 0, 2, 2], device='cuda:0')\n"
          ]
        },
        {
          "output_type": "stream",
          "name": "stderr",
          "text": [
            "\r 13%|█▎        | 8/63 [00:05<00:38,  1.42it/s]"
          ]
        },
        {
          "output_type": "stream",
          "name": "stdout",
          "text": [
            "training logits: tensor([[0.4605, 0.2036, 0.3358],\n",
            "        [0.3032, 0.1479, 0.5489],\n",
            "        [0.2149, 0.3193, 0.4658],\n",
            "        [0.1207, 0.3448, 0.5345],\n",
            "        [0.3492, 0.2794, 0.3714],\n",
            "        [0.5602, 0.1869, 0.2529],\n",
            "        [0.1518, 0.1981, 0.6501],\n",
            "        [0.5137, 0.2574, 0.2289]], device='cuda:0', grad_fn=<SoftmaxBackward0>)\n",
            "training outputs\n",
            "tensor([[0.4605, 0.2036, 0.3358],\n",
            "        [0.3032, 0.1479, 0.5489],\n",
            "        [0.2149, 0.3193, 0.4658],\n",
            "        [0.1207, 0.3448, 0.5345],\n",
            "        [0.3492, 0.2794, 0.3714],\n",
            "        [0.5602, 0.1869, 0.2529],\n",
            "        [0.1518, 0.1981, 0.6501],\n",
            "        [0.5137, 0.2574, 0.2289]], device='cuda:0', grad_fn=<SoftmaxBackward0>)\n",
            "prediction: tensor([0, 2, 2, 2, 2, 0, 2, 0], device='cuda:0')\n",
            "train labels: tensor([1, 2, 1, 0, 0, 1, 1, 2], device='cuda:0')\n"
          ]
        },
        {
          "output_type": "stream",
          "name": "stderr",
          "text": [
            "\r 14%|█▍        | 9/63 [00:06<00:38,  1.42it/s]"
          ]
        },
        {
          "output_type": "stream",
          "name": "stdout",
          "text": [
            "training logits: tensor([[0.1593, 0.1717, 0.6689],\n",
            "        [0.1938, 0.6136, 0.1926],\n",
            "        [0.3005, 0.1379, 0.5616],\n",
            "        [0.2924, 0.0816, 0.6260],\n",
            "        [0.1666, 0.4067, 0.4267],\n",
            "        [0.2438, 0.4117, 0.3446],\n",
            "        [0.2677, 0.4918, 0.2405],\n",
            "        [0.4824, 0.2515, 0.2662]], device='cuda:0', grad_fn=<SoftmaxBackward0>)\n",
            "training outputs\n",
            "tensor([[0.1593, 0.1717, 0.6689],\n",
            "        [0.1938, 0.6136, 0.1926],\n",
            "        [0.3005, 0.1379, 0.5616],\n",
            "        [0.2924, 0.0816, 0.6260],\n",
            "        [0.1666, 0.4067, 0.4267],\n",
            "        [0.2438, 0.4117, 0.3446],\n",
            "        [0.2677, 0.4918, 0.2405],\n",
            "        [0.4824, 0.2515, 0.2662]], device='cuda:0', grad_fn=<SoftmaxBackward0>)\n",
            "prediction: tensor([2, 1, 2, 2, 2, 1, 1, 0], device='cuda:0')\n",
            "train labels: tensor([2, 0, 0, 1, 1, 0, 0, 2], device='cuda:0')\n"
          ]
        },
        {
          "output_type": "stream",
          "name": "stderr",
          "text": [
            "\r 16%|█▌        | 10/63 [00:07<00:37,  1.41it/s]"
          ]
        },
        {
          "output_type": "stream",
          "name": "stdout",
          "text": [
            "training logits: tensor([[0.3923, 0.2551, 0.3526],\n",
            "        [0.3887, 0.3619, 0.2494],\n",
            "        [0.1978, 0.3264, 0.4758],\n",
            "        [0.2810, 0.3722, 0.3468],\n",
            "        [0.3325, 0.4410, 0.2265],\n",
            "        [0.2465, 0.5868, 0.1667],\n",
            "        [0.3986, 0.3505, 0.2509],\n",
            "        [0.4037, 0.2310, 0.3654]], device='cuda:0', grad_fn=<SoftmaxBackward0>)\n",
            "training outputs\n",
            "tensor([[0.3923, 0.2551, 0.3526],\n",
            "        [0.3887, 0.3619, 0.2494],\n",
            "        [0.1978, 0.3264, 0.4758],\n",
            "        [0.2810, 0.3722, 0.3468],\n",
            "        [0.3325, 0.4410, 0.2265],\n",
            "        [0.2465, 0.5868, 0.1667],\n",
            "        [0.3986, 0.3505, 0.2509],\n",
            "        [0.4037, 0.2310, 0.3654]], device='cuda:0', grad_fn=<SoftmaxBackward0>)\n",
            "prediction: tensor([0, 0, 2, 1, 1, 1, 0, 0], device='cuda:0')\n",
            "train labels: tensor([0, 1, 0, 1, 2, 1, 0, 0], device='cuda:0')\n"
          ]
        },
        {
          "output_type": "stream",
          "name": "stderr",
          "text": [
            "\r 17%|█▋        | 11/63 [00:07<00:36,  1.41it/s]"
          ]
        },
        {
          "output_type": "stream",
          "name": "stdout",
          "text": [
            "training logits: tensor([[0.3925, 0.2363, 0.3712],\n",
            "        [0.3483, 0.4260, 0.2257],\n",
            "        [0.1473, 0.2182, 0.6345],\n",
            "        [0.1510, 0.5899, 0.2590],\n",
            "        [0.1769, 0.3915, 0.4317],\n",
            "        [0.1032, 0.3381, 0.5587],\n",
            "        [0.5109, 0.1022, 0.3869],\n",
            "        [0.3273, 0.1833, 0.4894]], device='cuda:0', grad_fn=<SoftmaxBackward0>)\n",
            "training outputs\n",
            "tensor([[0.3925, 0.2363, 0.3712],\n",
            "        [0.3483, 0.4260, 0.2257],\n",
            "        [0.1473, 0.2182, 0.6345],\n",
            "        [0.1510, 0.5899, 0.2590],\n",
            "        [0.1769, 0.3915, 0.4317],\n",
            "        [0.1032, 0.3381, 0.5587],\n",
            "        [0.5109, 0.1022, 0.3869],\n",
            "        [0.3273, 0.1833, 0.4894]], device='cuda:0', grad_fn=<SoftmaxBackward0>)\n",
            "prediction: tensor([0, 1, 2, 1, 2, 2, 0, 2], device='cuda:0')\n",
            "train labels: tensor([0, 0, 2, 1, 2, 2, 0, 0], device='cuda:0')\n"
          ]
        },
        {
          "output_type": "stream",
          "name": "stderr",
          "text": [
            "\r 19%|█▉        | 12/63 [00:08<00:36,  1.41it/s]"
          ]
        },
        {
          "output_type": "stream",
          "name": "stdout",
          "text": [
            "training logits: tensor([[0.3439, 0.4391, 0.2170],\n",
            "        [0.3701, 0.3269, 0.3030],\n",
            "        [0.1295, 0.1498, 0.7207],\n",
            "        [0.4711, 0.1402, 0.3888],\n",
            "        [0.5222, 0.2569, 0.2209],\n",
            "        [0.3206, 0.4876, 0.1918],\n",
            "        [0.3792, 0.1661, 0.4547],\n",
            "        [0.3092, 0.2101, 0.4807]], device='cuda:0', grad_fn=<SoftmaxBackward0>)\n",
            "training outputs\n",
            "tensor([[0.3439, 0.4391, 0.2170],\n",
            "        [0.3701, 0.3269, 0.3030],\n",
            "        [0.1295, 0.1498, 0.7207],\n",
            "        [0.4711, 0.1402, 0.3888],\n",
            "        [0.5222, 0.2569, 0.2209],\n",
            "        [0.3206, 0.4876, 0.1918],\n",
            "        [0.3792, 0.1661, 0.4547],\n",
            "        [0.3092, 0.2101, 0.4807]], device='cuda:0', grad_fn=<SoftmaxBackward0>)\n",
            "prediction: tensor([1, 0, 2, 0, 0, 1, 2, 2], device='cuda:0')\n",
            "train labels: tensor([2, 0, 2, 0, 1, 1, 0, 2], device='cuda:0')\n"
          ]
        },
        {
          "output_type": "stream",
          "name": "stderr",
          "text": [
            "\r 21%|██        | 13/63 [00:09<00:35,  1.41it/s]"
          ]
        },
        {
          "output_type": "stream",
          "name": "stdout",
          "text": [
            "training logits: tensor([[0.4275, 0.4260, 0.1466],\n",
            "        [0.4062, 0.2962, 0.2976],\n",
            "        [0.3032, 0.4489, 0.2479],\n",
            "        [0.3188, 0.4688, 0.2124],\n",
            "        [0.4596, 0.2399, 0.3005],\n",
            "        [0.3214, 0.2205, 0.4582],\n",
            "        [0.0945, 0.1134, 0.7921],\n",
            "        [0.1739, 0.2316, 0.5946]], device='cuda:0', grad_fn=<SoftmaxBackward0>)\n",
            "training outputs\n",
            "tensor([[0.4275, 0.4260, 0.1466],\n",
            "        [0.4062, 0.2962, 0.2976],\n",
            "        [0.3032, 0.4489, 0.2479],\n",
            "        [0.3188, 0.4688, 0.2124],\n",
            "        [0.4596, 0.2399, 0.3005],\n",
            "        [0.3214, 0.2205, 0.4582],\n",
            "        [0.0945, 0.1134, 0.7921],\n",
            "        [0.1739, 0.2316, 0.5946]], device='cuda:0', grad_fn=<SoftmaxBackward0>)\n",
            "prediction: tensor([0, 0, 1, 1, 0, 2, 2, 2], device='cuda:0')\n",
            "train labels: tensor([1, 0, 1, 0, 0, 0, 2, 0], device='cuda:0')\n"
          ]
        },
        {
          "output_type": "stream",
          "name": "stderr",
          "text": [
            "\r 22%|██▏       | 14/63 [00:09<00:34,  1.41it/s]"
          ]
        },
        {
          "output_type": "stream",
          "name": "stdout",
          "text": [
            "training logits: tensor([[0.1211, 0.1843, 0.6946],\n",
            "        [0.4263, 0.3412, 0.2325],\n",
            "        [0.3873, 0.4074, 0.2052],\n",
            "        [0.3006, 0.1860, 0.5134],\n",
            "        [0.1485, 0.2837, 0.5678],\n",
            "        [0.4133, 0.2559, 0.3308],\n",
            "        [0.2473, 0.3029, 0.4499],\n",
            "        [0.3414, 0.2967, 0.3620]], device='cuda:0', grad_fn=<SoftmaxBackward0>)\n",
            "training outputs\n",
            "tensor([[0.1211, 0.1843, 0.6946],\n",
            "        [0.4263, 0.3412, 0.2325],\n",
            "        [0.3873, 0.4074, 0.2052],\n",
            "        [0.3006, 0.1860, 0.5134],\n",
            "        [0.1485, 0.2837, 0.5678],\n",
            "        [0.4133, 0.2559, 0.3308],\n",
            "        [0.2473, 0.3029, 0.4499],\n",
            "        [0.3414, 0.2967, 0.3620]], device='cuda:0', grad_fn=<SoftmaxBackward0>)\n",
            "prediction: tensor([2, 0, 1, 2, 2, 0, 2, 2], device='cuda:0')\n",
            "train labels: tensor([2, 0, 1, 2, 0, 2, 2, 2], device='cuda:0')\n"
          ]
        },
        {
          "output_type": "stream",
          "name": "stderr",
          "text": [
            "\r 24%|██▍       | 15/63 [00:10<00:34,  1.41it/s]"
          ]
        },
        {
          "output_type": "stream",
          "name": "stdout",
          "text": [
            "training logits: tensor([[0.4134, 0.4012, 0.1854],\n",
            "        [0.1681, 0.3662, 0.4657],\n",
            "        [0.2875, 0.2973, 0.4152],\n",
            "        [0.2159, 0.2936, 0.4905],\n",
            "        [0.2653, 0.2832, 0.4516],\n",
            "        [0.3098, 0.2803, 0.4099],\n",
            "        [0.1168, 0.1466, 0.7365],\n",
            "        [0.3042, 0.2905, 0.4053]], device='cuda:0', grad_fn=<SoftmaxBackward0>)\n",
            "training outputs\n",
            "tensor([[0.4134, 0.4012, 0.1854],\n",
            "        [0.1681, 0.3662, 0.4657],\n",
            "        [0.2875, 0.2973, 0.4152],\n",
            "        [0.2159, 0.2936, 0.4905],\n",
            "        [0.2653, 0.2832, 0.4516],\n",
            "        [0.3098, 0.2803, 0.4099],\n",
            "        [0.1168, 0.1466, 0.7365],\n",
            "        [0.3042, 0.2905, 0.4053]], device='cuda:0', grad_fn=<SoftmaxBackward0>)\n",
            "prediction: tensor([0, 2, 2, 2, 2, 2, 2, 2], device='cuda:0')\n",
            "train labels: tensor([2, 1, 1, 0, 2, 1, 2, 2], device='cuda:0')\n"
          ]
        },
        {
          "output_type": "stream",
          "name": "stderr",
          "text": [
            "\r 25%|██▌       | 16/63 [00:11<00:33,  1.41it/s]"
          ]
        },
        {
          "output_type": "stream",
          "name": "stdout",
          "text": [
            "training logits: tensor([[0.2254, 0.1163, 0.6583],\n",
            "        [0.3143, 0.4929, 0.1928],\n",
            "        [0.2788, 0.4016, 0.3196],\n",
            "        [0.6107, 0.1468, 0.2425],\n",
            "        [0.1647, 0.4674, 0.3679],\n",
            "        [0.3608, 0.3797, 0.2595],\n",
            "        [0.2362, 0.5123, 0.2515],\n",
            "        [0.6815, 0.1699, 0.1487]], device='cuda:0', grad_fn=<SoftmaxBackward0>)\n",
            "training outputs\n",
            "tensor([[0.2254, 0.1163, 0.6583],\n",
            "        [0.3143, 0.4929, 0.1928],\n",
            "        [0.2788, 0.4016, 0.3196],\n",
            "        [0.6107, 0.1468, 0.2425],\n",
            "        [0.1647, 0.4674, 0.3679],\n",
            "        [0.3608, 0.3797, 0.2595],\n",
            "        [0.2362, 0.5123, 0.2515],\n",
            "        [0.6815, 0.1699, 0.1487]], device='cuda:0', grad_fn=<SoftmaxBackward0>)\n",
            "prediction: tensor([2, 1, 1, 0, 1, 1, 1, 0], device='cuda:0')\n",
            "train labels: tensor([1, 0, 0, 2, 2, 1, 0, 0], device='cuda:0')\n"
          ]
        },
        {
          "output_type": "stream",
          "name": "stderr",
          "text": [
            "\r 27%|██▋       | 17/63 [00:12<00:32,  1.41it/s]"
          ]
        },
        {
          "output_type": "stream",
          "name": "stdout",
          "text": [
            "training logits: tensor([[0.0952, 0.5472, 0.3576],\n",
            "        [0.3372, 0.3132, 0.3496],\n",
            "        [0.3310, 0.3407, 0.3283],\n",
            "        [0.2501, 0.1476, 0.6024],\n",
            "        [0.3443, 0.3076, 0.3482],\n",
            "        [0.2313, 0.0895, 0.6792],\n",
            "        [0.1343, 0.3102, 0.5555],\n",
            "        [0.4306, 0.2490, 0.3204]], device='cuda:0', grad_fn=<SoftmaxBackward0>)\n",
            "training outputs\n",
            "tensor([[0.0952, 0.5472, 0.3576],\n",
            "        [0.3372, 0.3132, 0.3496],\n",
            "        [0.3310, 0.3407, 0.3283],\n",
            "        [0.2501, 0.1476, 0.6024],\n",
            "        [0.3443, 0.3076, 0.3482],\n",
            "        [0.2313, 0.0895, 0.6792],\n",
            "        [0.1343, 0.3102, 0.5555],\n",
            "        [0.4306, 0.2490, 0.3204]], device='cuda:0', grad_fn=<SoftmaxBackward0>)\n",
            "prediction: tensor([1, 2, 1, 2, 2, 2, 2, 0], device='cuda:0')\n",
            "train labels: tensor([0, 0, 2, 2, 1, 2, 2, 2], device='cuda:0')\n"
          ]
        },
        {
          "output_type": "stream",
          "name": "stderr",
          "text": [
            "\r 29%|██▊       | 18/63 [00:12<00:31,  1.41it/s]"
          ]
        },
        {
          "output_type": "stream",
          "name": "stdout",
          "text": [
            "training logits: tensor([[0.1676, 0.2114, 0.6210],\n",
            "        [0.3062, 0.3970, 0.2967],\n",
            "        [0.2991, 0.2685, 0.4324],\n",
            "        [0.5459, 0.2888, 0.1653],\n",
            "        [0.3594, 0.2591, 0.3815],\n",
            "        [0.2356, 0.1529, 0.6116],\n",
            "        [0.2522, 0.2179, 0.5299],\n",
            "        [0.2056, 0.3706, 0.4238]], device='cuda:0', grad_fn=<SoftmaxBackward0>)\n",
            "training outputs\n",
            "tensor([[0.1676, 0.2114, 0.6210],\n",
            "        [0.3062, 0.3970, 0.2967],\n",
            "        [0.2991, 0.2685, 0.4324],\n",
            "        [0.5459, 0.2888, 0.1653],\n",
            "        [0.3594, 0.2591, 0.3815],\n",
            "        [0.2356, 0.1529, 0.6116],\n",
            "        [0.2522, 0.2179, 0.5299],\n",
            "        [0.2056, 0.3706, 0.4238]], device='cuda:0', grad_fn=<SoftmaxBackward0>)\n",
            "prediction: tensor([2, 1, 2, 0, 2, 2, 2, 2], device='cuda:0')\n",
            "train labels: tensor([0, 1, 1, 2, 2, 0, 0, 1], device='cuda:0')\n"
          ]
        },
        {
          "output_type": "stream",
          "name": "stderr",
          "text": [
            "\r 30%|███       | 19/63 [00:13<00:31,  1.40it/s]"
          ]
        },
        {
          "output_type": "stream",
          "name": "stdout",
          "text": [
            "training logits: tensor([[0.3341, 0.4467, 0.2192],\n",
            "        [0.3262, 0.2646, 0.4092],\n",
            "        [0.4709, 0.3881, 0.1410],\n",
            "        [0.1037, 0.3074, 0.5889],\n",
            "        [0.3348, 0.1943, 0.4710],\n",
            "        [0.3735, 0.4054, 0.2212],\n",
            "        [0.1382, 0.1701, 0.6917],\n",
            "        [0.4178, 0.3556, 0.2266]], device='cuda:0', grad_fn=<SoftmaxBackward0>)\n",
            "training outputs\n",
            "tensor([[0.3341, 0.4467, 0.2192],\n",
            "        [0.3262, 0.2646, 0.4092],\n",
            "        [0.4709, 0.3881, 0.1410],\n",
            "        [0.1037, 0.3074, 0.5889],\n",
            "        [0.3348, 0.1943, 0.4710],\n",
            "        [0.3735, 0.4054, 0.2212],\n",
            "        [0.1382, 0.1701, 0.6917],\n",
            "        [0.4178, 0.3556, 0.2266]], device='cuda:0', grad_fn=<SoftmaxBackward0>)\n",
            "prediction: tensor([1, 2, 0, 2, 2, 1, 2, 0], device='cuda:0')\n",
            "train labels: tensor([0, 1, 1, 1, 1, 2, 2, 2], device='cuda:0')\n"
          ]
        },
        {
          "output_type": "stream",
          "name": "stderr",
          "text": [
            "\r 32%|███▏      | 20/63 [00:14<00:30,  1.40it/s]"
          ]
        },
        {
          "output_type": "stream",
          "name": "stdout",
          "text": [
            "training logits: tensor([[0.4807, 0.3157, 0.2036],\n",
            "        [0.4185, 0.2409, 0.3405],\n",
            "        [0.3982, 0.1940, 0.4079],\n",
            "        [0.3314, 0.2625, 0.4060],\n",
            "        [0.1817, 0.2249, 0.5935],\n",
            "        [0.3548, 0.3602, 0.2851],\n",
            "        [0.2465, 0.6954, 0.0581],\n",
            "        [0.2306, 0.2571, 0.5123]], device='cuda:0', grad_fn=<SoftmaxBackward0>)\n",
            "training outputs\n",
            "tensor([[0.4807, 0.3157, 0.2036],\n",
            "        [0.4185, 0.2409, 0.3405],\n",
            "        [0.3982, 0.1940, 0.4079],\n",
            "        [0.3314, 0.2625, 0.4060],\n",
            "        [0.1817, 0.2249, 0.5935],\n",
            "        [0.3548, 0.3602, 0.2851],\n",
            "        [0.2465, 0.6954, 0.0581],\n",
            "        [0.2306, 0.2571, 0.5123]], device='cuda:0', grad_fn=<SoftmaxBackward0>)\n",
            "prediction: tensor([0, 0, 2, 2, 2, 1, 1, 2], device='cuda:0')\n",
            "train labels: tensor([2, 1, 1, 2, 2, 2, 0, 0], device='cuda:0')\n"
          ]
        },
        {
          "output_type": "stream",
          "name": "stderr",
          "text": [
            "\r 33%|███▎      | 21/63 [00:14<00:30,  1.39it/s]"
          ]
        },
        {
          "output_type": "stream",
          "name": "stdout",
          "text": [
            "training logits: tensor([[0.3983, 0.3387, 0.2629],\n",
            "        [0.3457, 0.2502, 0.4040],\n",
            "        [0.2845, 0.4302, 0.2853],\n",
            "        [0.5270, 0.2350, 0.2380],\n",
            "        [0.5528, 0.2003, 0.2469],\n",
            "        [0.2497, 0.4568, 0.2935],\n",
            "        [0.3496, 0.4941, 0.1563],\n",
            "        [0.1793, 0.1369, 0.6839]], device='cuda:0', grad_fn=<SoftmaxBackward0>)\n",
            "training outputs\n",
            "tensor([[0.3983, 0.3387, 0.2629],\n",
            "        [0.3457, 0.2502, 0.4040],\n",
            "        [0.2845, 0.4302, 0.2853],\n",
            "        [0.5270, 0.2350, 0.2380],\n",
            "        [0.5528, 0.2003, 0.2469],\n",
            "        [0.2497, 0.4568, 0.2935],\n",
            "        [0.3496, 0.4941, 0.1563],\n",
            "        [0.1793, 0.1369, 0.6839]], device='cuda:0', grad_fn=<SoftmaxBackward0>)\n",
            "prediction: tensor([0, 2, 1, 0, 0, 1, 1, 2], device='cuda:0')\n",
            "train labels: tensor([1, 0, 0, 0, 0, 1, 2, 2], device='cuda:0')\n"
          ]
        },
        {
          "output_type": "stream",
          "name": "stderr",
          "text": [
            "\r 35%|███▍      | 22/63 [00:15<00:29,  1.40it/s]"
          ]
        },
        {
          "output_type": "stream",
          "name": "stdout",
          "text": [
            "training logits: tensor([[0.5474, 0.2597, 0.1929],\n",
            "        [0.1965, 0.3649, 0.4386],\n",
            "        [0.4672, 0.3357, 0.1971],\n",
            "        [0.2279, 0.5372, 0.2349],\n",
            "        [0.4694, 0.2512, 0.2795],\n",
            "        [0.3328, 0.0764, 0.5908],\n",
            "        [0.6008, 0.1340, 0.2652],\n",
            "        [0.1591, 0.5568, 0.2841]], device='cuda:0', grad_fn=<SoftmaxBackward0>)\n",
            "training outputs\n",
            "tensor([[0.5474, 0.2597, 0.1929],\n",
            "        [0.1965, 0.3649, 0.4386],\n",
            "        [0.4672, 0.3357, 0.1971],\n",
            "        [0.2279, 0.5372, 0.2349],\n",
            "        [0.4694, 0.2512, 0.2795],\n",
            "        [0.3328, 0.0764, 0.5908],\n",
            "        [0.6008, 0.1340, 0.2652],\n",
            "        [0.1591, 0.5568, 0.2841]], device='cuda:0', grad_fn=<SoftmaxBackward0>)\n",
            "prediction: tensor([0, 2, 0, 1, 0, 2, 0, 1], device='cuda:0')\n",
            "train labels: tensor([2, 1, 0, 2, 1, 0, 0, 2], device='cuda:0')\n"
          ]
        },
        {
          "output_type": "stream",
          "name": "stderr",
          "text": [
            "\r 37%|███▋      | 23/63 [00:16<00:28,  1.39it/s]"
          ]
        },
        {
          "output_type": "stream",
          "name": "stdout",
          "text": [
            "training logits: tensor([[0.2446, 0.5038, 0.2517],\n",
            "        [0.5791, 0.1467, 0.2743],\n",
            "        [0.3929, 0.1848, 0.4223],\n",
            "        [0.3823, 0.1319, 0.4858],\n",
            "        [0.4350, 0.4471, 0.1178],\n",
            "        [0.3805, 0.4186, 0.2009],\n",
            "        [0.1995, 0.4095, 0.3910],\n",
            "        [0.2595, 0.1131, 0.6274]], device='cuda:0', grad_fn=<SoftmaxBackward0>)\n",
            "training outputs\n",
            "tensor([[0.2446, 0.5038, 0.2517],\n",
            "        [0.5791, 0.1467, 0.2743],\n",
            "        [0.3929, 0.1848, 0.4223],\n",
            "        [0.3823, 0.1319, 0.4858],\n",
            "        [0.4350, 0.4471, 0.1178],\n",
            "        [0.3805, 0.4186, 0.2009],\n",
            "        [0.1995, 0.4095, 0.3910],\n",
            "        [0.2595, 0.1131, 0.6274]], device='cuda:0', grad_fn=<SoftmaxBackward0>)\n",
            "prediction: tensor([1, 0, 2, 2, 1, 1, 1, 2], device='cuda:0')\n",
            "train labels: tensor([2, 0, 0, 2, 0, 0, 1, 0], device='cuda:0')\n"
          ]
        },
        {
          "output_type": "stream",
          "name": "stderr",
          "text": [
            "\r 38%|███▊      | 24/63 [00:17<00:28,  1.38it/s]"
          ]
        },
        {
          "output_type": "stream",
          "name": "stdout",
          "text": [
            "training logits: tensor([[0.1646, 0.1635, 0.6719],\n",
            "        [0.5994, 0.2513, 0.1494],\n",
            "        [0.3830, 0.3926, 0.2244],\n",
            "        [0.3312, 0.2110, 0.4578],\n",
            "        [0.3273, 0.2088, 0.4638],\n",
            "        [0.3280, 0.4389, 0.2332],\n",
            "        [0.3941, 0.2553, 0.3506],\n",
            "        [0.4912, 0.2605, 0.2483]], device='cuda:0', grad_fn=<SoftmaxBackward0>)\n",
            "training outputs\n",
            "tensor([[0.1646, 0.1635, 0.6719],\n",
            "        [0.5994, 0.2513, 0.1494],\n",
            "        [0.3830, 0.3926, 0.2244],\n",
            "        [0.3312, 0.2110, 0.4578],\n",
            "        [0.3273, 0.2088, 0.4638],\n",
            "        [0.3280, 0.4389, 0.2332],\n",
            "        [0.3941, 0.2553, 0.3506],\n",
            "        [0.4912, 0.2605, 0.2483]], device='cuda:0', grad_fn=<SoftmaxBackward0>)\n",
            "prediction: tensor([2, 0, 1, 2, 2, 1, 0, 0], device='cuda:0')\n",
            "train labels: tensor([1, 0, 2, 2, 2, 0, 2, 0], device='cuda:0')\n"
          ]
        },
        {
          "output_type": "stream",
          "name": "stderr",
          "text": [
            "\r 40%|███▉      | 25/63 [00:17<00:27,  1.38it/s]"
          ]
        },
        {
          "output_type": "stream",
          "name": "stdout",
          "text": [
            "training logits: tensor([[0.2016, 0.2993, 0.4991],\n",
            "        [0.2930, 0.3718, 0.3353],\n",
            "        [0.2774, 0.2476, 0.4750],\n",
            "        [0.3164, 0.1899, 0.4937],\n",
            "        [0.4726, 0.3343, 0.1931],\n",
            "        [0.2768, 0.4174, 0.3059],\n",
            "        [0.4193, 0.1776, 0.4032],\n",
            "        [0.6120, 0.2199, 0.1681]], device='cuda:0', grad_fn=<SoftmaxBackward0>)\n",
            "training outputs\n",
            "tensor([[0.2016, 0.2993, 0.4991],\n",
            "        [0.2930, 0.3718, 0.3353],\n",
            "        [0.2774, 0.2476, 0.4750],\n",
            "        [0.3164, 0.1899, 0.4937],\n",
            "        [0.4726, 0.3343, 0.1931],\n",
            "        [0.2768, 0.4174, 0.3059],\n",
            "        [0.4193, 0.1776, 0.4032],\n",
            "        [0.6120, 0.2199, 0.1681]], device='cuda:0', grad_fn=<SoftmaxBackward0>)\n",
            "prediction: tensor([2, 1, 2, 2, 0, 1, 0, 0], device='cuda:0')\n",
            "train labels: tensor([2, 1, 0, 1, 1, 1, 2, 0], device='cuda:0')\n"
          ]
        },
        {
          "output_type": "stream",
          "name": "stderr",
          "text": [
            "\r 41%|████▏     | 26/63 [00:18<00:26,  1.38it/s]"
          ]
        },
        {
          "output_type": "stream",
          "name": "stdout",
          "text": [
            "training logits: tensor([[0.5258, 0.2925, 0.1817],\n",
            "        [0.4388, 0.2621, 0.2991],\n",
            "        [0.3656, 0.3556, 0.2788],\n",
            "        [0.1883, 0.2996, 0.5121],\n",
            "        [0.2534, 0.5811, 0.1656],\n",
            "        [0.4758, 0.1913, 0.3328],\n",
            "        [0.6122, 0.1741, 0.2136],\n",
            "        [0.2432, 0.2237, 0.5331]], device='cuda:0', grad_fn=<SoftmaxBackward0>)\n",
            "training outputs\n",
            "tensor([[0.5258, 0.2925, 0.1817],\n",
            "        [0.4388, 0.2621, 0.2991],\n",
            "        [0.3656, 0.3556, 0.2788],\n",
            "        [0.1883, 0.2996, 0.5121],\n",
            "        [0.2534, 0.5811, 0.1656],\n",
            "        [0.4758, 0.1913, 0.3328],\n",
            "        [0.6122, 0.1741, 0.2136],\n",
            "        [0.2432, 0.2237, 0.5331]], device='cuda:0', grad_fn=<SoftmaxBackward0>)\n",
            "prediction: tensor([0, 0, 0, 2, 1, 0, 0, 2], device='cuda:0')\n",
            "train labels: tensor([0, 0, 2, 1, 1, 0, 0, 1], device='cuda:0')\n"
          ]
        },
        {
          "output_type": "stream",
          "name": "stderr",
          "text": [
            "\r 43%|████▎     | 27/63 [00:19<00:26,  1.37it/s]"
          ]
        },
        {
          "output_type": "stream",
          "name": "stdout",
          "text": [
            "training logits: tensor([[0.2180, 0.4432, 0.3388],\n",
            "        [0.3140, 0.4200, 0.2660],\n",
            "        [0.3457, 0.4832, 0.1710],\n",
            "        [0.5183, 0.2659, 0.2157],\n",
            "        [0.3588, 0.2080, 0.4332],\n",
            "        [0.3035, 0.2541, 0.4424],\n",
            "        [0.4547, 0.3501, 0.1952],\n",
            "        [0.4044, 0.2152, 0.3804]], device='cuda:0', grad_fn=<SoftmaxBackward0>)\n",
            "training outputs\n",
            "tensor([[0.2180, 0.4432, 0.3388],\n",
            "        [0.3140, 0.4200, 0.2660],\n",
            "        [0.3457, 0.4832, 0.1710],\n",
            "        [0.5183, 0.2659, 0.2157],\n",
            "        [0.3588, 0.2080, 0.4332],\n",
            "        [0.3035, 0.2541, 0.4424],\n",
            "        [0.4547, 0.3501, 0.1952],\n",
            "        [0.4044, 0.2152, 0.3804]], device='cuda:0', grad_fn=<SoftmaxBackward0>)\n",
            "prediction: tensor([1, 1, 1, 0, 2, 2, 0, 0], device='cuda:0')\n",
            "train labels: tensor([2, 2, 0, 2, 1, 2, 0, 0], device='cuda:0')\n"
          ]
        },
        {
          "output_type": "stream",
          "name": "stderr",
          "text": [
            "\r 44%|████▍     | 28/63 [00:19<00:25,  1.37it/s]"
          ]
        },
        {
          "output_type": "stream",
          "name": "stdout",
          "text": [
            "training logits: tensor([[0.3289, 0.3267, 0.3444],\n",
            "        [0.2943, 0.3918, 0.3138],\n",
            "        [0.2286, 0.2723, 0.4991],\n",
            "        [0.1694, 0.2261, 0.6045],\n",
            "        [0.4036, 0.3289, 0.2675],\n",
            "        [0.5358, 0.3559, 0.1083],\n",
            "        [0.4954, 0.2513, 0.2533],\n",
            "        [0.2478, 0.2753, 0.4769]], device='cuda:0', grad_fn=<SoftmaxBackward0>)\n",
            "training outputs\n",
            "tensor([[0.3289, 0.3267, 0.3444],\n",
            "        [0.2943, 0.3918, 0.3138],\n",
            "        [0.2286, 0.2723, 0.4991],\n",
            "        [0.1694, 0.2261, 0.6045],\n",
            "        [0.4036, 0.3289, 0.2675],\n",
            "        [0.5358, 0.3559, 0.1083],\n",
            "        [0.4954, 0.2513, 0.2533],\n",
            "        [0.2478, 0.2753, 0.4769]], device='cuda:0', grad_fn=<SoftmaxBackward0>)\n",
            "prediction: tensor([2, 1, 2, 2, 0, 0, 0, 2], device='cuda:0')\n",
            "train labels: tensor([2, 1, 2, 2, 0, 1, 2, 1], device='cuda:0')\n"
          ]
        },
        {
          "output_type": "stream",
          "name": "stderr",
          "text": [
            "\r 46%|████▌     | 29/63 [00:20<00:24,  1.37it/s]"
          ]
        },
        {
          "output_type": "stream",
          "name": "stdout",
          "text": [
            "training logits: tensor([[0.4772, 0.1412, 0.3816],\n",
            "        [0.1899, 0.3945, 0.4156],\n",
            "        [0.2059, 0.5795, 0.2146],\n",
            "        [0.4545, 0.1609, 0.3846],\n",
            "        [0.3225, 0.1262, 0.5514],\n",
            "        [0.7344, 0.1759, 0.0896],\n",
            "        [0.3309, 0.5638, 0.1053],\n",
            "        [0.6255, 0.2733, 0.1011]], device='cuda:0', grad_fn=<SoftmaxBackward0>)\n",
            "training outputs\n",
            "tensor([[0.4772, 0.1412, 0.3816],\n",
            "        [0.1899, 0.3945, 0.4156],\n",
            "        [0.2059, 0.5795, 0.2146],\n",
            "        [0.4545, 0.1609, 0.3846],\n",
            "        [0.3225, 0.1262, 0.5514],\n",
            "        [0.7344, 0.1759, 0.0896],\n",
            "        [0.3309, 0.5638, 0.1053],\n",
            "        [0.6255, 0.2733, 0.1011]], device='cuda:0', grad_fn=<SoftmaxBackward0>)\n",
            "prediction: tensor([0, 2, 1, 0, 2, 0, 1, 0], device='cuda:0')\n",
            "train labels: tensor([0, 0, 1, 1, 1, 0, 1, 0], device='cuda:0')\n"
          ]
        },
        {
          "output_type": "stream",
          "name": "stderr",
          "text": [
            "\r 48%|████▊     | 30/63 [00:21<00:24,  1.37it/s]"
          ]
        },
        {
          "output_type": "stream",
          "name": "stdout",
          "text": [
            "training logits: tensor([[0.5063, 0.2273, 0.2664],\n",
            "        [0.4485, 0.3284, 0.2231],\n",
            "        [0.1508, 0.4243, 0.4249],\n",
            "        [0.4125, 0.3953, 0.1923],\n",
            "        [0.4931, 0.2154, 0.2914],\n",
            "        [0.3711, 0.3118, 0.3171],\n",
            "        [0.4115, 0.1763, 0.4122],\n",
            "        [0.2166, 0.4277, 0.3557]], device='cuda:0', grad_fn=<SoftmaxBackward0>)\n",
            "training outputs\n",
            "tensor([[0.5063, 0.2273, 0.2664],\n",
            "        [0.4485, 0.3284, 0.2231],\n",
            "        [0.1508, 0.4243, 0.4249],\n",
            "        [0.4125, 0.3953, 0.1923],\n",
            "        [0.4931, 0.2154, 0.2914],\n",
            "        [0.3711, 0.3118, 0.3171],\n",
            "        [0.4115, 0.1763, 0.4122],\n",
            "        [0.2166, 0.4277, 0.3557]], device='cuda:0', grad_fn=<SoftmaxBackward0>)\n",
            "prediction: tensor([0, 0, 2, 0, 0, 0, 2, 1], device='cuda:0')\n",
            "train labels: tensor([0, 0, 0, 0, 0, 1, 1, 0], device='cuda:0')\n"
          ]
        },
        {
          "output_type": "stream",
          "name": "stderr",
          "text": [
            "\r 49%|████▉     | 31/63 [00:22<00:23,  1.37it/s]"
          ]
        },
        {
          "output_type": "stream",
          "name": "stdout",
          "text": [
            "training logits: tensor([[0.3920, 0.4234, 0.1846],\n",
            "        [0.4352, 0.3200, 0.2448],\n",
            "        [0.5859, 0.2202, 0.1939],\n",
            "        [0.3439, 0.3364, 0.3196],\n",
            "        [0.4465, 0.3522, 0.2012],\n",
            "        [0.2111, 0.1635, 0.6254],\n",
            "        [0.2078, 0.3300, 0.4622],\n",
            "        [0.6852, 0.1645, 0.1503]], device='cuda:0', grad_fn=<SoftmaxBackward0>)\n",
            "training outputs\n",
            "tensor([[0.3920, 0.4234, 0.1846],\n",
            "        [0.4352, 0.3200, 0.2448],\n",
            "        [0.5859, 0.2202, 0.1939],\n",
            "        [0.3439, 0.3364, 0.3196],\n",
            "        [0.4465, 0.3522, 0.2012],\n",
            "        [0.2111, 0.1635, 0.6254],\n",
            "        [0.2078, 0.3300, 0.4622],\n",
            "        [0.6852, 0.1645, 0.1503]], device='cuda:0', grad_fn=<SoftmaxBackward0>)\n",
            "prediction: tensor([1, 0, 0, 0, 0, 2, 2, 0], device='cuda:0')\n",
            "train labels: tensor([2, 1, 2, 0, 1, 2, 1, 1], device='cuda:0')\n"
          ]
        },
        {
          "output_type": "stream",
          "name": "stderr",
          "text": [
            "\r 51%|█████     | 32/63 [00:22<00:22,  1.37it/s]"
          ]
        },
        {
          "output_type": "stream",
          "name": "stdout",
          "text": [
            "training logits: tensor([[0.4133, 0.3289, 0.2578],\n",
            "        [0.4198, 0.2825, 0.2977],\n",
            "        [0.2972, 0.4533, 0.2494],\n",
            "        [0.2820, 0.3501, 0.3680],\n",
            "        [0.3639, 0.1610, 0.4750],\n",
            "        [0.5852, 0.2160, 0.1988],\n",
            "        [0.2959, 0.4793, 0.2248],\n",
            "        [0.2485, 0.2893, 0.4622]], device='cuda:0', grad_fn=<SoftmaxBackward0>)\n",
            "training outputs\n",
            "tensor([[0.4133, 0.3289, 0.2578],\n",
            "        [0.4198, 0.2825, 0.2977],\n",
            "        [0.2972, 0.4533, 0.2494],\n",
            "        [0.2820, 0.3501, 0.3680],\n",
            "        [0.3639, 0.1610, 0.4750],\n",
            "        [0.5852, 0.2160, 0.1988],\n",
            "        [0.2959, 0.4793, 0.2248],\n",
            "        [0.2485, 0.2893, 0.4622]], device='cuda:0', grad_fn=<SoftmaxBackward0>)\n",
            "prediction: tensor([0, 0, 1, 2, 2, 0, 1, 2], device='cuda:0')\n",
            "train labels: tensor([2, 0, 1, 2, 2, 1, 0, 2], device='cuda:0')\n"
          ]
        },
        {
          "output_type": "stream",
          "name": "stderr",
          "text": [
            "\r 52%|█████▏    | 33/63 [00:23<00:21,  1.37it/s]"
          ]
        },
        {
          "output_type": "stream",
          "name": "stdout",
          "text": [
            "training logits: tensor([[0.2785, 0.4628, 0.2586],\n",
            "        [0.5323, 0.2651, 0.2027],\n",
            "        [0.5708, 0.1293, 0.2999],\n",
            "        [0.2406, 0.4631, 0.2963],\n",
            "        [0.3307, 0.2847, 0.3847],\n",
            "        [0.4339, 0.3570, 0.2091],\n",
            "        [0.5073, 0.1982, 0.2945],\n",
            "        [0.3795, 0.3381, 0.2824]], device='cuda:0', grad_fn=<SoftmaxBackward0>)\n",
            "training outputs\n",
            "tensor([[0.2785, 0.4628, 0.2586],\n",
            "        [0.5323, 0.2651, 0.2027],\n",
            "        [0.5708, 0.1293, 0.2999],\n",
            "        [0.2406, 0.4631, 0.2963],\n",
            "        [0.3307, 0.2847, 0.3847],\n",
            "        [0.4339, 0.3570, 0.2091],\n",
            "        [0.5073, 0.1982, 0.2945],\n",
            "        [0.3795, 0.3381, 0.2824]], device='cuda:0', grad_fn=<SoftmaxBackward0>)\n",
            "prediction: tensor([1, 0, 0, 1, 2, 0, 0, 0], device='cuda:0')\n",
            "train labels: tensor([2, 0, 2, 2, 0, 0, 0, 2], device='cuda:0')\n"
          ]
        },
        {
          "output_type": "stream",
          "name": "stderr",
          "text": [
            "\r 54%|█████▍    | 34/63 [00:24<00:21,  1.37it/s]"
          ]
        },
        {
          "output_type": "stream",
          "name": "stdout",
          "text": [
            "training logits: tensor([[0.5162, 0.1545, 0.3293],\n",
            "        [0.4149, 0.3286, 0.2564],\n",
            "        [0.4202, 0.1426, 0.4372],\n",
            "        [0.4455, 0.2504, 0.3041],\n",
            "        [0.3767, 0.4329, 0.1904],\n",
            "        [0.2267, 0.2034, 0.5700],\n",
            "        [0.1931, 0.3998, 0.4072],\n",
            "        [0.4676, 0.2701, 0.2623]], device='cuda:0', grad_fn=<SoftmaxBackward0>)\n",
            "training outputs\n",
            "tensor([[0.5162, 0.1545, 0.3293],\n",
            "        [0.4149, 0.3286, 0.2564],\n",
            "        [0.4202, 0.1426, 0.4372],\n",
            "        [0.4455, 0.2504, 0.3041],\n",
            "        [0.3767, 0.4329, 0.1904],\n",
            "        [0.2267, 0.2034, 0.5700],\n",
            "        [0.1931, 0.3998, 0.4072],\n",
            "        [0.4676, 0.2701, 0.2623]], device='cuda:0', grad_fn=<SoftmaxBackward0>)\n",
            "prediction: tensor([0, 0, 2, 0, 1, 2, 2, 0], device='cuda:0')\n",
            "train labels: tensor([2, 0, 0, 1, 0, 0, 2, 1], device='cuda:0')\n"
          ]
        },
        {
          "output_type": "stream",
          "name": "stderr",
          "text": [
            "\r 56%|█████▌    | 35/63 [00:25<00:20,  1.37it/s]"
          ]
        },
        {
          "output_type": "stream",
          "name": "stdout",
          "text": [
            "training logits: tensor([[0.3157, 0.2777, 0.4066],\n",
            "        [0.5287, 0.3337, 0.1376],\n",
            "        [0.3623, 0.3687, 0.2690],\n",
            "        [0.3819, 0.3271, 0.2910],\n",
            "        [0.2796, 0.4701, 0.2503],\n",
            "        [0.4015, 0.3545, 0.2440],\n",
            "        [0.4628, 0.4297, 0.1075],\n",
            "        [0.5114, 0.1951, 0.2935]], device='cuda:0', grad_fn=<SoftmaxBackward0>)\n",
            "training outputs\n",
            "tensor([[0.3157, 0.2777, 0.4066],\n",
            "        [0.5287, 0.3337, 0.1376],\n",
            "        [0.3623, 0.3687, 0.2690],\n",
            "        [0.3819, 0.3271, 0.2910],\n",
            "        [0.2796, 0.4701, 0.2503],\n",
            "        [0.4015, 0.3545, 0.2440],\n",
            "        [0.4628, 0.4297, 0.1075],\n",
            "        [0.5114, 0.1951, 0.2935]], device='cuda:0', grad_fn=<SoftmaxBackward0>)\n",
            "prediction: tensor([2, 0, 1, 0, 1, 0, 0, 0], device='cuda:0')\n",
            "train labels: tensor([2, 1, 2, 0, 1, 2, 1, 0], device='cuda:0')\n"
          ]
        },
        {
          "output_type": "stream",
          "name": "stderr",
          "text": [
            "\r 57%|█████▋    | 36/63 [00:25<00:19,  1.37it/s]"
          ]
        },
        {
          "output_type": "stream",
          "name": "stdout",
          "text": [
            "training logits: tensor([[0.2396, 0.2482, 0.5122],\n",
            "        [0.6119, 0.2825, 0.1056],\n",
            "        [0.6393, 0.1752, 0.1855],\n",
            "        [0.3814, 0.2898, 0.3287],\n",
            "        [0.2855, 0.2394, 0.4750],\n",
            "        [0.2750, 0.2760, 0.4490],\n",
            "        [0.3902, 0.3784, 0.2313],\n",
            "        [0.3528, 0.5646, 0.0826]], device='cuda:0', grad_fn=<SoftmaxBackward0>)\n",
            "training outputs\n",
            "tensor([[0.2396, 0.2482, 0.5122],\n",
            "        [0.6119, 0.2825, 0.1056],\n",
            "        [0.6393, 0.1752, 0.1855],\n",
            "        [0.3814, 0.2898, 0.3287],\n",
            "        [0.2855, 0.2394, 0.4750],\n",
            "        [0.2750, 0.2760, 0.4490],\n",
            "        [0.3902, 0.3784, 0.2313],\n",
            "        [0.3528, 0.5646, 0.0826]], device='cuda:0', grad_fn=<SoftmaxBackward0>)\n",
            "prediction: tensor([2, 0, 0, 0, 2, 2, 0, 1], device='cuda:0')\n",
            "train labels: tensor([2, 2, 2, 2, 0, 1, 2, 1], device='cuda:0')\n"
          ]
        },
        {
          "output_type": "stream",
          "name": "stderr",
          "text": [
            "\r 59%|█████▊    | 37/63 [00:26<00:18,  1.37it/s]"
          ]
        },
        {
          "output_type": "stream",
          "name": "stdout",
          "text": [
            "training logits: tensor([[0.2626, 0.1629, 0.5745],\n",
            "        [0.4388, 0.3818, 0.1793],\n",
            "        [0.5140, 0.2171, 0.2690],\n",
            "        [0.3411, 0.2722, 0.3867],\n",
            "        [0.5415, 0.3207, 0.1377],\n",
            "        [0.3068, 0.3222, 0.3710],\n",
            "        [0.7115, 0.1404, 0.1481],\n",
            "        [0.3955, 0.3722, 0.2323]], device='cuda:0', grad_fn=<SoftmaxBackward0>)\n",
            "training outputs\n",
            "tensor([[0.2626, 0.1629, 0.5745],\n",
            "        [0.4388, 0.3818, 0.1793],\n",
            "        [0.5140, 0.2171, 0.2690],\n",
            "        [0.3411, 0.2722, 0.3867],\n",
            "        [0.5415, 0.3207, 0.1377],\n",
            "        [0.3068, 0.3222, 0.3710],\n",
            "        [0.7115, 0.1404, 0.1481],\n",
            "        [0.3955, 0.3722, 0.2323]], device='cuda:0', grad_fn=<SoftmaxBackward0>)\n",
            "prediction: tensor([2, 0, 0, 2, 0, 2, 0, 0], device='cuda:0')\n",
            "train labels: tensor([0, 2, 0, 0, 0, 1, 2, 0], device='cuda:0')\n"
          ]
        },
        {
          "output_type": "stream",
          "name": "stderr",
          "text": [
            "\r 60%|██████    | 38/63 [00:27<00:18,  1.37it/s]"
          ]
        },
        {
          "output_type": "stream",
          "name": "stdout",
          "text": [
            "training logits: tensor([[0.4174, 0.3848, 0.1979],\n",
            "        [0.3306, 0.2855, 0.3839],\n",
            "        [0.2273, 0.2721, 0.5006],\n",
            "        [0.6101, 0.2823, 0.1075],\n",
            "        [0.4554, 0.2323, 0.3123],\n",
            "        [0.2013, 0.5642, 0.2345],\n",
            "        [0.5520, 0.3081, 0.1399],\n",
            "        [0.5148, 0.2620, 0.2232]], device='cuda:0', grad_fn=<SoftmaxBackward0>)\n",
            "training outputs\n",
            "tensor([[0.4174, 0.3848, 0.1979],\n",
            "        [0.3306, 0.2855, 0.3839],\n",
            "        [0.2273, 0.2721, 0.5006],\n",
            "        [0.6101, 0.2823, 0.1075],\n",
            "        [0.4554, 0.2323, 0.3123],\n",
            "        [0.2013, 0.5642, 0.2345],\n",
            "        [0.5520, 0.3081, 0.1399],\n",
            "        [0.5148, 0.2620, 0.2232]], device='cuda:0', grad_fn=<SoftmaxBackward0>)\n",
            "prediction: tensor([0, 2, 2, 0, 0, 1, 0, 0], device='cuda:0')\n",
            "train labels: tensor([1, 0, 1, 1, 0, 0, 1, 0], device='cuda:0')\n"
          ]
        },
        {
          "output_type": "stream",
          "name": "stderr",
          "text": [
            "\r 62%|██████▏   | 39/63 [00:28<00:17,  1.37it/s]"
          ]
        },
        {
          "output_type": "stream",
          "name": "stdout",
          "text": [
            "training logits: tensor([[0.3932, 0.1720, 0.4347],\n",
            "        [0.3019, 0.5199, 0.1782],\n",
            "        [0.1365, 0.2270, 0.6365],\n",
            "        [0.3603, 0.2244, 0.4153],\n",
            "        [0.3686, 0.2610, 0.3704],\n",
            "        [0.2450, 0.3084, 0.4467],\n",
            "        [0.4049, 0.2523, 0.3428],\n",
            "        [0.5678, 0.2892, 0.1429]], device='cuda:0', grad_fn=<SoftmaxBackward0>)\n",
            "training outputs\n",
            "tensor([[0.3932, 0.1720, 0.4347],\n",
            "        [0.3019, 0.5199, 0.1782],\n",
            "        [0.1365, 0.2270, 0.6365],\n",
            "        [0.3603, 0.2244, 0.4153],\n",
            "        [0.3686, 0.2610, 0.3704],\n",
            "        [0.2450, 0.3084, 0.4467],\n",
            "        [0.4049, 0.2523, 0.3428],\n",
            "        [0.5678, 0.2892, 0.1429]], device='cuda:0', grad_fn=<SoftmaxBackward0>)\n",
            "prediction: tensor([2, 1, 2, 2, 2, 2, 0, 0], device='cuda:0')\n",
            "train labels: tensor([2, 1, 2, 0, 2, 0, 2, 0], device='cuda:0')\n"
          ]
        },
        {
          "output_type": "stream",
          "name": "stderr",
          "text": [
            "\r 63%|██████▎   | 40/63 [00:28<00:16,  1.37it/s]"
          ]
        },
        {
          "output_type": "stream",
          "name": "stdout",
          "text": [
            "training logits: tensor([[0.5771, 0.1594, 0.2635],\n",
            "        [0.4969, 0.2081, 0.2950],\n",
            "        [0.3367, 0.3691, 0.2942],\n",
            "        [0.6629, 0.1610, 0.1761],\n",
            "        [0.2223, 0.6384, 0.1393],\n",
            "        [0.5807, 0.1794, 0.2399],\n",
            "        [0.5075, 0.1589, 0.3336],\n",
            "        [0.2892, 0.3711, 0.3397]], device='cuda:0', grad_fn=<SoftmaxBackward0>)\n",
            "training outputs\n",
            "tensor([[0.5771, 0.1594, 0.2635],\n",
            "        [0.4969, 0.2081, 0.2950],\n",
            "        [0.3367, 0.3691, 0.2942],\n",
            "        [0.6629, 0.1610, 0.1761],\n",
            "        [0.2223, 0.6384, 0.1393],\n",
            "        [0.5807, 0.1794, 0.2399],\n",
            "        [0.5075, 0.1589, 0.3336],\n",
            "        [0.2892, 0.3711, 0.3397]], device='cuda:0', grad_fn=<SoftmaxBackward0>)\n",
            "prediction: tensor([0, 0, 1, 0, 1, 0, 0, 1], device='cuda:0')\n",
            "train labels: tensor([1, 0, 1, 2, 1, 1, 1, 1], device='cuda:0')\n"
          ]
        },
        {
          "output_type": "stream",
          "name": "stderr",
          "text": [
            "\r 65%|██████▌   | 41/63 [00:29<00:16,  1.37it/s]"
          ]
        },
        {
          "output_type": "stream",
          "name": "stdout",
          "text": [
            "training logits: tensor([[0.3870, 0.2872, 0.3258],\n",
            "        [0.6049, 0.2078, 0.1874],\n",
            "        [0.5458, 0.2441, 0.2101],\n",
            "        [0.2358, 0.4721, 0.2922],\n",
            "        [0.4301, 0.2858, 0.2840],\n",
            "        [0.4659, 0.2947, 0.2394],\n",
            "        [0.4416, 0.1662, 0.3922],\n",
            "        [0.3731, 0.1686, 0.4582]], device='cuda:0', grad_fn=<SoftmaxBackward0>)\n",
            "training outputs\n",
            "tensor([[0.3870, 0.2872, 0.3258],\n",
            "        [0.6049, 0.2078, 0.1874],\n",
            "        [0.5458, 0.2441, 0.2101],\n",
            "        [0.2358, 0.4721, 0.2922],\n",
            "        [0.4301, 0.2858, 0.2840],\n",
            "        [0.4659, 0.2947, 0.2394],\n",
            "        [0.4416, 0.1662, 0.3922],\n",
            "        [0.3731, 0.1686, 0.4582]], device='cuda:0', grad_fn=<SoftmaxBackward0>)\n",
            "prediction: tensor([0, 0, 0, 1, 0, 0, 0, 2], device='cuda:0')\n",
            "train labels: tensor([0, 0, 2, 1, 2, 1, 0, 1], device='cuda:0')\n"
          ]
        },
        {
          "output_type": "stream",
          "name": "stderr",
          "text": [
            "\r 67%|██████▋   | 42/63 [00:30<00:15,  1.36it/s]"
          ]
        },
        {
          "output_type": "stream",
          "name": "stdout",
          "text": [
            "training logits: tensor([[0.4865, 0.2635, 0.2501],\n",
            "        [0.4298, 0.3890, 0.1812],\n",
            "        [0.2667, 0.2581, 0.4752],\n",
            "        [0.2841, 0.5619, 0.1541],\n",
            "        [0.2651, 0.2086, 0.5263],\n",
            "        [0.5271, 0.2584, 0.2145],\n",
            "        [0.5383, 0.1316, 0.3301],\n",
            "        [0.5343, 0.2557, 0.2100]], device='cuda:0', grad_fn=<SoftmaxBackward0>)\n",
            "training outputs\n",
            "tensor([[0.4865, 0.2635, 0.2501],\n",
            "        [0.4298, 0.3890, 0.1812],\n",
            "        [0.2667, 0.2581, 0.4752],\n",
            "        [0.2841, 0.5619, 0.1541],\n",
            "        [0.2651, 0.2086, 0.5263],\n",
            "        [0.5271, 0.2584, 0.2145],\n",
            "        [0.5383, 0.1316, 0.3301],\n",
            "        [0.5343, 0.2557, 0.2100]], device='cuda:0', grad_fn=<SoftmaxBackward0>)\n",
            "prediction: tensor([0, 0, 2, 1, 2, 0, 0, 0], device='cuda:0')\n",
            "train labels: tensor([0, 0, 1, 1, 1, 1, 2, 1], device='cuda:0')\n"
          ]
        },
        {
          "output_type": "stream",
          "name": "stderr",
          "text": [
            "\r 68%|██████▊   | 43/63 [00:30<00:14,  1.36it/s]"
          ]
        },
        {
          "output_type": "stream",
          "name": "stdout",
          "text": [
            "training logits: tensor([[0.6634, 0.1917, 0.1449],\n",
            "        [0.3395, 0.3410, 0.3195],\n",
            "        [0.1676, 0.1521, 0.6803],\n",
            "        [0.2233, 0.4462, 0.3305],\n",
            "        [0.0901, 0.1385, 0.7714],\n",
            "        [0.3117, 0.3209, 0.3675],\n",
            "        [0.4068, 0.2670, 0.3262],\n",
            "        [0.2970, 0.4646, 0.2384]], device='cuda:0', grad_fn=<SoftmaxBackward0>)\n",
            "training outputs\n",
            "tensor([[0.6634, 0.1917, 0.1449],\n",
            "        [0.3395, 0.3410, 0.3195],\n",
            "        [0.1676, 0.1521, 0.6803],\n",
            "        [0.2233, 0.4462, 0.3305],\n",
            "        [0.0901, 0.1385, 0.7714],\n",
            "        [0.3117, 0.3209, 0.3675],\n",
            "        [0.4068, 0.2670, 0.3262],\n",
            "        [0.2970, 0.4646, 0.2384]], device='cuda:0', grad_fn=<SoftmaxBackward0>)\n",
            "prediction: tensor([0, 1, 2, 1, 2, 2, 0, 1], device='cuda:0')\n",
            "train labels: tensor([2, 1, 2, 0, 1, 0, 0, 2], device='cuda:0')\n"
          ]
        },
        {
          "output_type": "stream",
          "name": "stderr",
          "text": [
            "\r 70%|██████▉   | 44/63 [00:31<00:14,  1.35it/s]"
          ]
        },
        {
          "output_type": "stream",
          "name": "stdout",
          "text": [
            "training logits: tensor([[0.4526, 0.2426, 0.3048],\n",
            "        [0.4471, 0.1287, 0.4242],\n",
            "        [0.4627, 0.2904, 0.2470],\n",
            "        [0.3674, 0.4321, 0.2005],\n",
            "        [0.3329, 0.1822, 0.4849],\n",
            "        [0.3195, 0.2356, 0.4449],\n",
            "        [0.3118, 0.4430, 0.2451],\n",
            "        [0.4425, 0.3831, 0.1744]], device='cuda:0', grad_fn=<SoftmaxBackward0>)\n",
            "training outputs\n",
            "tensor([[0.4526, 0.2426, 0.3048],\n",
            "        [0.4471, 0.1287, 0.4242],\n",
            "        [0.4627, 0.2904, 0.2470],\n",
            "        [0.3674, 0.4321, 0.2005],\n",
            "        [0.3329, 0.1822, 0.4849],\n",
            "        [0.3195, 0.2356, 0.4449],\n",
            "        [0.3118, 0.4430, 0.2451],\n",
            "        [0.4425, 0.3831, 0.1744]], device='cuda:0', grad_fn=<SoftmaxBackward0>)\n",
            "prediction: tensor([0, 0, 0, 1, 2, 2, 1, 0], device='cuda:0')\n",
            "train labels: tensor([1, 1, 2, 0, 2, 1, 1, 1], device='cuda:0')\n"
          ]
        },
        {
          "output_type": "stream",
          "name": "stderr",
          "text": [
            "\r 71%|███████▏  | 45/63 [00:32<00:13,  1.35it/s]"
          ]
        },
        {
          "output_type": "stream",
          "name": "stdout",
          "text": [
            "training logits: tensor([[0.3489, 0.1861, 0.4651],\n",
            "        [0.6313, 0.2044, 0.1643],\n",
            "        [0.4611, 0.3058, 0.2331],\n",
            "        [0.1942, 0.3837, 0.4221],\n",
            "        [0.2622, 0.1457, 0.5921],\n",
            "        [0.3243, 0.4607, 0.2150],\n",
            "        [0.2973, 0.4377, 0.2651],\n",
            "        [0.3740, 0.2783, 0.3476]], device='cuda:0', grad_fn=<SoftmaxBackward0>)\n",
            "training outputs\n",
            "tensor([[0.3489, 0.1861, 0.4651],\n",
            "        [0.6313, 0.2044, 0.1643],\n",
            "        [0.4611, 0.3058, 0.2331],\n",
            "        [0.1942, 0.3837, 0.4221],\n",
            "        [0.2622, 0.1457, 0.5921],\n",
            "        [0.3243, 0.4607, 0.2150],\n",
            "        [0.2973, 0.4377, 0.2651],\n",
            "        [0.3740, 0.2783, 0.3476]], device='cuda:0', grad_fn=<SoftmaxBackward0>)\n",
            "prediction: tensor([2, 0, 0, 2, 2, 1, 1, 0], device='cuda:0')\n",
            "train labels: tensor([0, 1, 1, 1, 0, 1, 2, 1], device='cuda:0')\n"
          ]
        },
        {
          "output_type": "stream",
          "name": "stderr",
          "text": [
            "\r 73%|███████▎  | 46/63 [00:33<00:12,  1.35it/s]"
          ]
        },
        {
          "output_type": "stream",
          "name": "stdout",
          "text": [
            "training logits: tensor([[0.3660, 0.3779, 0.2561],\n",
            "        [0.3597, 0.3200, 0.3203],\n",
            "        [0.4596, 0.2982, 0.2422],\n",
            "        [0.2441, 0.4785, 0.2774],\n",
            "        [0.1421, 0.4712, 0.3867],\n",
            "        [0.3042, 0.4642, 0.2315],\n",
            "        [0.3783, 0.2130, 0.4087],\n",
            "        [0.4223, 0.2495, 0.3282]], device='cuda:0', grad_fn=<SoftmaxBackward0>)\n",
            "training outputs\n",
            "tensor([[0.3660, 0.3779, 0.2561],\n",
            "        [0.3597, 0.3200, 0.3203],\n",
            "        [0.4596, 0.2982, 0.2422],\n",
            "        [0.2441, 0.4785, 0.2774],\n",
            "        [0.1421, 0.4712, 0.3867],\n",
            "        [0.3042, 0.4642, 0.2315],\n",
            "        [0.3783, 0.2130, 0.4087],\n",
            "        [0.4223, 0.2495, 0.3282]], device='cuda:0', grad_fn=<SoftmaxBackward0>)\n",
            "prediction: tensor([1, 0, 0, 1, 1, 1, 2, 0], device='cuda:0')\n",
            "train labels: tensor([1, 2, 1, 2, 0, 1, 2, 2], device='cuda:0')\n"
          ]
        },
        {
          "output_type": "stream",
          "name": "stderr",
          "text": [
            "\r 75%|███████▍  | 47/63 [00:33<00:11,  1.35it/s]"
          ]
        },
        {
          "output_type": "stream",
          "name": "stdout",
          "text": [
            "training logits: tensor([[0.4421, 0.2412, 0.3167],\n",
            "        [0.2266, 0.2080, 0.5654],\n",
            "        [0.6149, 0.2105, 0.1747],\n",
            "        [0.3910, 0.4614, 0.1477],\n",
            "        [0.3046, 0.5956, 0.0998],\n",
            "        [0.6182, 0.2401, 0.1417],\n",
            "        [0.5016, 0.3656, 0.1328],\n",
            "        [0.1771, 0.1470, 0.6760]], device='cuda:0', grad_fn=<SoftmaxBackward0>)\n",
            "training outputs\n",
            "tensor([[0.4421, 0.2412, 0.3167],\n",
            "        [0.2266, 0.2080, 0.5654],\n",
            "        [0.6149, 0.2105, 0.1747],\n",
            "        [0.3910, 0.4614, 0.1477],\n",
            "        [0.3046, 0.5956, 0.0998],\n",
            "        [0.6182, 0.2401, 0.1417],\n",
            "        [0.5016, 0.3656, 0.1328],\n",
            "        [0.1771, 0.1470, 0.6760]], device='cuda:0', grad_fn=<SoftmaxBackward0>)\n",
            "prediction: tensor([0, 2, 0, 1, 1, 0, 0, 2], device='cuda:0')\n",
            "train labels: tensor([0, 0, 0, 1, 1, 0, 1, 2], device='cuda:0')\n"
          ]
        },
        {
          "output_type": "stream",
          "name": "stderr",
          "text": [
            "\r 76%|███████▌  | 48/63 [00:34<00:11,  1.34it/s]"
          ]
        },
        {
          "output_type": "stream",
          "name": "stdout",
          "text": [
            "training logits: tensor([[0.4823, 0.2707, 0.2470],\n",
            "        [0.4209, 0.2187, 0.3604],\n",
            "        [0.4128, 0.1738, 0.4134],\n",
            "        [0.3407, 0.2295, 0.4299],\n",
            "        [0.6460, 0.2193, 0.1346],\n",
            "        [0.4843, 0.2247, 0.2909],\n",
            "        [0.4422, 0.2055, 0.3523],\n",
            "        [0.2974, 0.1011, 0.6015]], device='cuda:0', grad_fn=<SoftmaxBackward0>)\n",
            "training outputs\n",
            "tensor([[0.4823, 0.2707, 0.2470],\n",
            "        [0.4209, 0.2187, 0.3604],\n",
            "        [0.4128, 0.1738, 0.4134],\n",
            "        [0.3407, 0.2295, 0.4299],\n",
            "        [0.6460, 0.2193, 0.1346],\n",
            "        [0.4843, 0.2247, 0.2909],\n",
            "        [0.4422, 0.2055, 0.3523],\n",
            "        [0.2974, 0.1011, 0.6015]], device='cuda:0', grad_fn=<SoftmaxBackward0>)\n",
            "prediction: tensor([0, 0, 2, 2, 0, 0, 0, 2], device='cuda:0')\n",
            "train labels: tensor([2, 2, 1, 0, 0, 2, 2, 1], device='cuda:0')\n"
          ]
        },
        {
          "output_type": "stream",
          "name": "stderr",
          "text": [
            "\r 78%|███████▊  | 49/63 [00:35<00:10,  1.34it/s]"
          ]
        },
        {
          "output_type": "stream",
          "name": "stdout",
          "text": [
            "training logits: tensor([[0.4776, 0.2325, 0.2899],\n",
            "        [0.1593, 0.5450, 0.2957],\n",
            "        [0.1851, 0.3836, 0.4313],\n",
            "        [0.6722, 0.2062, 0.1216],\n",
            "        [0.5318, 0.3119, 0.1563],\n",
            "        [0.4029, 0.2711, 0.3260],\n",
            "        [0.4814, 0.2800, 0.2386],\n",
            "        [0.5271, 0.2046, 0.2683]], device='cuda:0', grad_fn=<SoftmaxBackward0>)\n",
            "training outputs\n",
            "tensor([[0.4776, 0.2325, 0.2899],\n",
            "        [0.1593, 0.5450, 0.2957],\n",
            "        [0.1851, 0.3836, 0.4313],\n",
            "        [0.6722, 0.2062, 0.1216],\n",
            "        [0.5318, 0.3119, 0.1563],\n",
            "        [0.4029, 0.2711, 0.3260],\n",
            "        [0.4814, 0.2800, 0.2386],\n",
            "        [0.5271, 0.2046, 0.2683]], device='cuda:0', grad_fn=<SoftmaxBackward0>)\n",
            "prediction: tensor([0, 1, 2, 0, 0, 0, 0, 0], device='cuda:0')\n",
            "train labels: tensor([2, 1, 1, 2, 1, 0, 0, 2], device='cuda:0')\n"
          ]
        },
        {
          "output_type": "stream",
          "name": "stderr",
          "text": [
            "\r 79%|███████▉  | 50/63 [00:36<00:09,  1.34it/s]"
          ]
        },
        {
          "output_type": "stream",
          "name": "stdout",
          "text": [
            "training logits: tensor([[0.3795, 0.1853, 0.4351],\n",
            "        [0.1438, 0.0713, 0.7850],\n",
            "        [0.4601, 0.3509, 0.1890],\n",
            "        [0.4187, 0.2700, 0.3113],\n",
            "        [0.1429, 0.1670, 0.6900],\n",
            "        [0.3875, 0.3154, 0.2972],\n",
            "        [0.4962, 0.3788, 0.1250],\n",
            "        [0.4605, 0.3460, 0.1935]], device='cuda:0', grad_fn=<SoftmaxBackward0>)\n",
            "training outputs\n",
            "tensor([[0.3795, 0.1853, 0.4351],\n",
            "        [0.1438, 0.0713, 0.7850],\n",
            "        [0.4601, 0.3509, 0.1890],\n",
            "        [0.4187, 0.2700, 0.3113],\n",
            "        [0.1429, 0.1670, 0.6900],\n",
            "        [0.3875, 0.3154, 0.2972],\n",
            "        [0.4962, 0.3788, 0.1250],\n",
            "        [0.4605, 0.3460, 0.1935]], device='cuda:0', grad_fn=<SoftmaxBackward0>)\n",
            "prediction: tensor([2, 2, 0, 0, 2, 0, 0, 0], device='cuda:0')\n",
            "train labels: tensor([0, 2, 0, 1, 2, 2, 1, 0], device='cuda:0')\n"
          ]
        },
        {
          "output_type": "stream",
          "name": "stderr",
          "text": [
            "\r 81%|████████  | 51/63 [00:36<00:08,  1.34it/s]"
          ]
        },
        {
          "output_type": "stream",
          "name": "stdout",
          "text": [
            "training logits: tensor([[0.3902, 0.3221, 0.2877],\n",
            "        [0.3145, 0.4478, 0.2377],\n",
            "        [0.3600, 0.2973, 0.3427],\n",
            "        [0.2157, 0.2481, 0.5362],\n",
            "        [0.1993, 0.0599, 0.7408],\n",
            "        [0.3414, 0.4135, 0.2451],\n",
            "        [0.2537, 0.1522, 0.5942],\n",
            "        [0.3632, 0.1362, 0.5006]], device='cuda:0', grad_fn=<SoftmaxBackward0>)\n",
            "training outputs\n",
            "tensor([[0.3902, 0.3221, 0.2877],\n",
            "        [0.3145, 0.4478, 0.2377],\n",
            "        [0.3600, 0.2973, 0.3427],\n",
            "        [0.2157, 0.2481, 0.5362],\n",
            "        [0.1993, 0.0599, 0.7408],\n",
            "        [0.3414, 0.4135, 0.2451],\n",
            "        [0.2537, 0.1522, 0.5942],\n",
            "        [0.3632, 0.1362, 0.5006]], device='cuda:0', grad_fn=<SoftmaxBackward0>)\n",
            "prediction: tensor([0, 1, 0, 2, 2, 1, 2, 2], device='cuda:0')\n",
            "train labels: tensor([1, 0, 1, 0, 2, 1, 0, 1], device='cuda:0')\n"
          ]
        },
        {
          "output_type": "stream",
          "name": "stderr",
          "text": [
            "\r 83%|████████▎ | 52/63 [00:37<00:08,  1.34it/s]"
          ]
        },
        {
          "output_type": "stream",
          "name": "stdout",
          "text": [
            "training logits: tensor([[0.4651, 0.2035, 0.3314],\n",
            "        [0.2108, 0.0866, 0.7026],\n",
            "        [0.4158, 0.3477, 0.2365],\n",
            "        [0.3979, 0.2513, 0.3509],\n",
            "        [0.2912, 0.3587, 0.3501],\n",
            "        [0.3160, 0.0905, 0.5935],\n",
            "        [0.5850, 0.1807, 0.2343],\n",
            "        [0.4719, 0.2230, 0.3051]], device='cuda:0', grad_fn=<SoftmaxBackward0>)\n",
            "training outputs\n",
            "tensor([[0.4651, 0.2035, 0.3314],\n",
            "        [0.2108, 0.0866, 0.7026],\n",
            "        [0.4158, 0.3477, 0.2365],\n",
            "        [0.3979, 0.2513, 0.3509],\n",
            "        [0.2912, 0.3587, 0.3501],\n",
            "        [0.3160, 0.0905, 0.5935],\n",
            "        [0.5850, 0.1807, 0.2343],\n",
            "        [0.4719, 0.2230, 0.3051]], device='cuda:0', grad_fn=<SoftmaxBackward0>)\n",
            "prediction: tensor([0, 2, 0, 0, 1, 2, 0, 0], device='cuda:0')\n",
            "train labels: tensor([0, 2, 0, 2, 1, 2, 2, 1], device='cuda:0')\n"
          ]
        },
        {
          "output_type": "stream",
          "name": "stderr",
          "text": [
            "\r 84%|████████▍ | 53/63 [00:38<00:07,  1.34it/s]"
          ]
        },
        {
          "output_type": "stream",
          "name": "stdout",
          "text": [
            "training logits: tensor([[0.3662, 0.1682, 0.4656],\n",
            "        [0.3735, 0.1838, 0.4427],\n",
            "        [0.3558, 0.2326, 0.4116],\n",
            "        [0.2520, 0.2393, 0.5087],\n",
            "        [0.7619, 0.1174, 0.1207],\n",
            "        [0.1749, 0.3858, 0.4393],\n",
            "        [0.2214, 0.3107, 0.4679],\n",
            "        [0.1056, 0.2329, 0.6614]], device='cuda:0', grad_fn=<SoftmaxBackward0>)\n",
            "training outputs\n",
            "tensor([[0.3662, 0.1682, 0.4656],\n",
            "        [0.3735, 0.1838, 0.4427],\n",
            "        [0.3558, 0.2326, 0.4116],\n",
            "        [0.2520, 0.2393, 0.5087],\n",
            "        [0.7619, 0.1174, 0.1207],\n",
            "        [0.1749, 0.3858, 0.4393],\n",
            "        [0.2214, 0.3107, 0.4679],\n",
            "        [0.1056, 0.2329, 0.6614]], device='cuda:0', grad_fn=<SoftmaxBackward0>)\n",
            "prediction: tensor([2, 2, 2, 2, 0, 2, 2, 2], device='cuda:0')\n",
            "train labels: tensor([2, 0, 0, 1, 1, 2, 2, 2], device='cuda:0')\n"
          ]
        },
        {
          "output_type": "stream",
          "name": "stderr",
          "text": [
            "\r 86%|████████▌ | 54/63 [00:39<00:06,  1.34it/s]"
          ]
        },
        {
          "output_type": "stream",
          "name": "stdout",
          "text": [
            "training logits: tensor([[0.4237, 0.2821, 0.2943],\n",
            "        [0.5152, 0.3047, 0.1801],\n",
            "        [0.3728, 0.4841, 0.1431],\n",
            "        [0.4636, 0.2384, 0.2981],\n",
            "        [0.2356, 0.2214, 0.5430],\n",
            "        [0.1581, 0.3512, 0.4907],\n",
            "        [0.5410, 0.1040, 0.3551],\n",
            "        [0.5584, 0.2157, 0.2259]], device='cuda:0', grad_fn=<SoftmaxBackward0>)\n",
            "training outputs\n",
            "tensor([[0.4237, 0.2821, 0.2943],\n",
            "        [0.5152, 0.3047, 0.1801],\n",
            "        [0.3728, 0.4841, 0.1431],\n",
            "        [0.4636, 0.2384, 0.2981],\n",
            "        [0.2356, 0.2214, 0.5430],\n",
            "        [0.1581, 0.3512, 0.4907],\n",
            "        [0.5410, 0.1040, 0.3551],\n",
            "        [0.5584, 0.2157, 0.2259]], device='cuda:0', grad_fn=<SoftmaxBackward0>)\n",
            "prediction: tensor([0, 0, 1, 0, 2, 2, 0, 0], device='cuda:0')\n",
            "train labels: tensor([0, 1, 0, 2, 2, 1, 2, 1], device='cuda:0')\n"
          ]
        },
        {
          "output_type": "stream",
          "name": "stderr",
          "text": [
            "\r 87%|████████▋ | 55/63 [00:39<00:05,  1.34it/s]"
          ]
        },
        {
          "output_type": "stream",
          "name": "stdout",
          "text": [
            "training logits: tensor([[0.2602, 0.6285, 0.1113],\n",
            "        [0.6603, 0.1803, 0.1594],\n",
            "        [0.3427, 0.5330, 0.1243],\n",
            "        [0.5404, 0.1780, 0.2816],\n",
            "        [0.4184, 0.1743, 0.4073],\n",
            "        [0.1866, 0.1888, 0.6246],\n",
            "        [0.3282, 0.4554, 0.2164],\n",
            "        [0.5988, 0.2456, 0.1555]], device='cuda:0', grad_fn=<SoftmaxBackward0>)\n",
            "training outputs\n",
            "tensor([[0.2602, 0.6285, 0.1113],\n",
            "        [0.6603, 0.1803, 0.1594],\n",
            "        [0.3427, 0.5330, 0.1243],\n",
            "        [0.5404, 0.1780, 0.2816],\n",
            "        [0.4184, 0.1743, 0.4073],\n",
            "        [0.1866, 0.1888, 0.6246],\n",
            "        [0.3282, 0.4554, 0.2164],\n",
            "        [0.5988, 0.2456, 0.1555]], device='cuda:0', grad_fn=<SoftmaxBackward0>)\n",
            "prediction: tensor([1, 0, 1, 0, 0, 2, 1, 0], device='cuda:0')\n",
            "train labels: tensor([0, 0, 0, 0, 1, 0, 2, 0], device='cuda:0')\n"
          ]
        },
        {
          "output_type": "stream",
          "name": "stderr",
          "text": [
            "\r 89%|████████▉ | 56/63 [00:40<00:05,  1.34it/s]"
          ]
        },
        {
          "output_type": "stream",
          "name": "stdout",
          "text": [
            "training logits: tensor([[0.2895, 0.1384, 0.5722],\n",
            "        [0.2600, 0.3607, 0.3792],\n",
            "        [0.5452, 0.2567, 0.1981],\n",
            "        [0.5681, 0.2788, 0.1531],\n",
            "        [0.3431, 0.5477, 0.1093],\n",
            "        [0.6452, 0.2666, 0.0883],\n",
            "        [0.4387, 0.3289, 0.2324],\n",
            "        [0.2039, 0.2472, 0.5489]], device='cuda:0', grad_fn=<SoftmaxBackward0>)\n",
            "training outputs\n",
            "tensor([[0.2895, 0.1384, 0.5722],\n",
            "        [0.2600, 0.3607, 0.3792],\n",
            "        [0.5452, 0.2567, 0.1981],\n",
            "        [0.5681, 0.2788, 0.1531],\n",
            "        [0.3431, 0.5477, 0.1093],\n",
            "        [0.6452, 0.2666, 0.0883],\n",
            "        [0.4387, 0.3289, 0.2324],\n",
            "        [0.2039, 0.2472, 0.5489]], device='cuda:0', grad_fn=<SoftmaxBackward0>)\n",
            "prediction: tensor([2, 2, 0, 0, 1, 0, 0, 2], device='cuda:0')\n",
            "train labels: tensor([2, 2, 2, 0, 1, 0, 1, 1], device='cuda:0')\n"
          ]
        },
        {
          "output_type": "stream",
          "name": "stderr",
          "text": [
            "\r 90%|█████████ | 57/63 [00:41<00:04,  1.34it/s]"
          ]
        },
        {
          "output_type": "stream",
          "name": "stdout",
          "text": [
            "training logits: tensor([[0.6690, 0.1637, 0.1674],\n",
            "        [0.5310, 0.2683, 0.2007],\n",
            "        [0.3470, 0.3156, 0.3374],\n",
            "        [0.1103, 0.2778, 0.6119],\n",
            "        [0.1592, 0.5525, 0.2883],\n",
            "        [0.3599, 0.2020, 0.4381],\n",
            "        [0.4147, 0.1505, 0.4348],\n",
            "        [0.1845, 0.5298, 0.2856]], device='cuda:0', grad_fn=<SoftmaxBackward0>)\n",
            "training outputs\n",
            "tensor([[0.6690, 0.1637, 0.1674],\n",
            "        [0.5310, 0.2683, 0.2007],\n",
            "        [0.3470, 0.3156, 0.3374],\n",
            "        [0.1103, 0.2778, 0.6119],\n",
            "        [0.1592, 0.5525, 0.2883],\n",
            "        [0.3599, 0.2020, 0.4381],\n",
            "        [0.4147, 0.1505, 0.4348],\n",
            "        [0.1845, 0.5298, 0.2856]], device='cuda:0', grad_fn=<SoftmaxBackward0>)\n",
            "prediction: tensor([0, 0, 0, 2, 1, 2, 2, 1], device='cuda:0')\n",
            "train labels: tensor([1, 0, 0, 1, 0, 2, 2, 1], device='cuda:0')\n"
          ]
        },
        {
          "output_type": "stream",
          "name": "stderr",
          "text": [
            "\r 92%|█████████▏| 58/63 [00:42<00:03,  1.34it/s]"
          ]
        },
        {
          "output_type": "stream",
          "name": "stdout",
          "text": [
            "training logits: tensor([[0.6793, 0.2046, 0.1161],\n",
            "        [0.1869, 0.2918, 0.5212],\n",
            "        [0.4385, 0.3352, 0.2263],\n",
            "        [0.2670, 0.2800, 0.4531],\n",
            "        [0.4644, 0.2346, 0.3011],\n",
            "        [0.6837, 0.2528, 0.0635],\n",
            "        [0.2399, 0.2648, 0.4953],\n",
            "        [0.1493, 0.4243, 0.4264]], device='cuda:0', grad_fn=<SoftmaxBackward0>)\n",
            "training outputs\n",
            "tensor([[0.6793, 0.2046, 0.1161],\n",
            "        [0.1869, 0.2918, 0.5212],\n",
            "        [0.4385, 0.3352, 0.2263],\n",
            "        [0.2670, 0.2800, 0.4531],\n",
            "        [0.4644, 0.2346, 0.3011],\n",
            "        [0.6837, 0.2528, 0.0635],\n",
            "        [0.2399, 0.2648, 0.4953],\n",
            "        [0.1493, 0.4243, 0.4264]], device='cuda:0', grad_fn=<SoftmaxBackward0>)\n",
            "prediction: tensor([0, 2, 0, 2, 0, 0, 2, 2], device='cuda:0')\n",
            "train labels: tensor([0, 2, 1, 0, 1, 1, 2, 1], device='cuda:0')\n"
          ]
        },
        {
          "output_type": "stream",
          "name": "stderr",
          "text": [
            "\r 94%|█████████▎| 59/63 [00:42<00:02,  1.34it/s]"
          ]
        },
        {
          "output_type": "stream",
          "name": "stdout",
          "text": [
            "training logits: tensor([[0.5594, 0.2075, 0.2331],\n",
            "        [0.2130, 0.5982, 0.1888],\n",
            "        [0.7528, 0.1881, 0.0591],\n",
            "        [0.4870, 0.2840, 0.2290],\n",
            "        [0.5500, 0.2507, 0.1993],\n",
            "        [0.4627, 0.3224, 0.2149],\n",
            "        [0.7232, 0.1560, 0.1208],\n",
            "        [0.2743, 0.5576, 0.1680]], device='cuda:0', grad_fn=<SoftmaxBackward0>)\n",
            "training outputs\n",
            "tensor([[0.5594, 0.2075, 0.2331],\n",
            "        [0.2130, 0.5982, 0.1888],\n",
            "        [0.7528, 0.1881, 0.0591],\n",
            "        [0.4870, 0.2840, 0.2290],\n",
            "        [0.5500, 0.2507, 0.1993],\n",
            "        [0.4627, 0.3224, 0.2149],\n",
            "        [0.7232, 0.1560, 0.1208],\n",
            "        [0.2743, 0.5576, 0.1680]], device='cuda:0', grad_fn=<SoftmaxBackward0>)\n",
            "prediction: tensor([0, 1, 0, 0, 0, 0, 0, 1], device='cuda:0')\n",
            "train labels: tensor([1, 0, 0, 0, 2, 1, 2, 1], device='cuda:0')\n"
          ]
        },
        {
          "output_type": "stream",
          "name": "stderr",
          "text": [
            "\r 95%|█████████▌| 60/63 [00:43<00:02,  1.35it/s]"
          ]
        },
        {
          "output_type": "stream",
          "name": "stdout",
          "text": [
            "training logits: tensor([[0.3113, 0.3186, 0.3701],\n",
            "        [0.4626, 0.2482, 0.2892],\n",
            "        [0.6596, 0.1921, 0.1483],\n",
            "        [0.4153, 0.4274, 0.1573],\n",
            "        [0.3965, 0.3135, 0.2900],\n",
            "        [0.4302, 0.3124, 0.2574],\n",
            "        [0.3886, 0.3953, 0.2161],\n",
            "        [0.2650, 0.1809, 0.5541]], device='cuda:0', grad_fn=<SoftmaxBackward0>)\n",
            "training outputs\n",
            "tensor([[0.3113, 0.3186, 0.3701],\n",
            "        [0.4626, 0.2482, 0.2892],\n",
            "        [0.6596, 0.1921, 0.1483],\n",
            "        [0.4153, 0.4274, 0.1573],\n",
            "        [0.3965, 0.3135, 0.2900],\n",
            "        [0.4302, 0.3124, 0.2574],\n",
            "        [0.3886, 0.3953, 0.2161],\n",
            "        [0.2650, 0.1809, 0.5541]], device='cuda:0', grad_fn=<SoftmaxBackward0>)\n",
            "prediction: tensor([2, 0, 0, 1, 0, 0, 1, 2], device='cuda:0')\n",
            "train labels: tensor([2, 0, 1, 0, 2, 2, 1, 2], device='cuda:0')\n"
          ]
        },
        {
          "output_type": "stream",
          "name": "stderr",
          "text": [
            "\r 97%|█████████▋| 61/63 [00:44<00:01,  1.35it/s]"
          ]
        },
        {
          "output_type": "stream",
          "name": "stdout",
          "text": [
            "training logits: tensor([[0.3919, 0.1491, 0.4590],\n",
            "        [0.4200, 0.4672, 0.1128],\n",
            "        [0.4651, 0.2789, 0.2560],\n",
            "        [0.5651, 0.3719, 0.0630],\n",
            "        [0.6056, 0.2403, 0.1541],\n",
            "        [0.4673, 0.4021, 0.1305],\n",
            "        [0.5989, 0.2492, 0.1518],\n",
            "        [0.3099, 0.3347, 0.3554]], device='cuda:0', grad_fn=<SoftmaxBackward0>)\n",
            "training outputs\n",
            "tensor([[0.3919, 0.1491, 0.4590],\n",
            "        [0.4200, 0.4672, 0.1128],\n",
            "        [0.4651, 0.2789, 0.2560],\n",
            "        [0.5651, 0.3719, 0.0630],\n",
            "        [0.6056, 0.2403, 0.1541],\n",
            "        [0.4673, 0.4021, 0.1305],\n",
            "        [0.5989, 0.2492, 0.1518],\n",
            "        [0.3099, 0.3347, 0.3554]], device='cuda:0', grad_fn=<SoftmaxBackward0>)\n",
            "prediction: tensor([2, 1, 0, 0, 0, 0, 0, 2], device='cuda:0')\n",
            "train labels: tensor([1, 2, 2, 2, 2, 1, 0, 0], device='cuda:0')\n"
          ]
        },
        {
          "output_type": "stream",
          "name": "stderr",
          "text": [
            "\r 98%|█████████▊| 62/63 [00:45<00:00,  1.35it/s]"
          ]
        },
        {
          "output_type": "stream",
          "name": "stdout",
          "text": [
            "training logits: tensor([[0.3026, 0.4707, 0.2267],\n",
            "        [0.2894, 0.5163, 0.1943],\n",
            "        [0.3603, 0.5742, 0.0655],\n",
            "        [0.2453, 0.5585, 0.1962]], device='cuda:0', grad_fn=<SoftmaxBackward0>)\n",
            "training outputs\n",
            "tensor([[0.3026, 0.4707, 0.2267],\n",
            "        [0.2894, 0.5163, 0.1943],\n",
            "        [0.3603, 0.5742, 0.0655],\n",
            "        [0.2453, 0.5585, 0.1962]], device='cuda:0', grad_fn=<SoftmaxBackward0>)\n",
            "prediction: tensor([1, 1, 1, 1], device='cuda:0')\n",
            "train labels: tensor([2, 2, 1, 1], device='cuda:0')\n"
          ]
        },
        {
          "output_type": "stream",
          "name": "stderr",
          "text": [
            "100%|██████████| 63/63 [00:45<00:00,  1.38it/s]\n"
          ]
        },
        {
          "output_type": "stream",
          "name": "stdout",
          "text": [
            "tensor([2, 1, 0, 2, 0, 1, 1, 0], device='cuda:0')\n",
            "validating logits: tensor([[0.3426, 0.2957, 0.3617],\n",
            "        [0.2866, 0.6012, 0.1122],\n",
            "        [0.6813, 0.2103, 0.1085],\n",
            "        [0.3967, 0.3747, 0.2286],\n",
            "        [0.4468, 0.2909, 0.2623],\n",
            "        [0.4360, 0.3858, 0.1782],\n",
            "        [0.5446, 0.2687, 0.1867],\n",
            "        [0.6086, 0.2570, 0.1344]], device='cuda:0')\n",
            "prediction: tensor([2, 1, 0, 0, 0, 0, 0, 0], device='cuda:0')\n",
            "tensor([[0.3426, 0.2957, 0.3617],\n",
            "        [0.2866, 0.6012, 0.1122],\n",
            "        [0.6813, 0.2103, 0.1085],\n",
            "        [0.3967, 0.3747, 0.2286],\n",
            "        [0.4468, 0.2909, 0.2623],\n",
            "        [0.4360, 0.3858, 0.1782],\n",
            "        [0.5446, 0.2687, 0.1867],\n",
            "        [0.6086, 0.2570, 0.1344]], device='cuda:0')\n",
            "tensor([2, 2, 1, 2, 2, 1, 0, 2], device='cuda:0')\n",
            "validating logits: tensor([[0.1614, 0.3688, 0.4698],\n",
            "        [0.2415, 0.4036, 0.3548],\n",
            "        [0.3428, 0.3022, 0.3549],\n",
            "        [0.3425, 0.3154, 0.3421],\n",
            "        [0.4279, 0.2168, 0.3553],\n",
            "        [0.5169, 0.2507, 0.2324],\n",
            "        [0.2340, 0.3135, 0.4525],\n",
            "        [0.1822, 0.3599, 0.4579]], device='cuda:0')\n",
            "prediction: tensor([2, 1, 2, 0, 0, 0, 2, 2], device='cuda:0')\n",
            "tensor([[0.1614, 0.3688, 0.4698],\n",
            "        [0.2415, 0.4036, 0.3548],\n",
            "        [0.3428, 0.3022, 0.3549],\n",
            "        [0.3425, 0.3154, 0.3421],\n",
            "        [0.4279, 0.2168, 0.3553],\n",
            "        [0.5169, 0.2507, 0.2324],\n",
            "        [0.2340, 0.3135, 0.4525],\n",
            "        [0.1822, 0.3599, 0.4579]], device='cuda:0')\n",
            "tensor([1, 0, 0, 1, 2, 2, 1, 0], device='cuda:0')\n",
            "validating logits: tensor([[0.2746, 0.3036, 0.4218],\n",
            "        [0.2340, 0.2346, 0.5314],\n",
            "        [0.4312, 0.3054, 0.2634],\n",
            "        [0.3167, 0.5483, 0.1350],\n",
            "        [0.2331, 0.4174, 0.3495],\n",
            "        [0.5287, 0.2487, 0.2226],\n",
            "        [0.3723, 0.4875, 0.1402],\n",
            "        [0.5726, 0.2494, 0.1780]], device='cuda:0')\n",
            "prediction: tensor([2, 2, 0, 1, 1, 0, 1, 0], device='cuda:0')\n",
            "tensor([[0.2746, 0.3036, 0.4218],\n",
            "        [0.2340, 0.2346, 0.5314],\n",
            "        [0.4312, 0.3054, 0.2634],\n",
            "        [0.3167, 0.5483, 0.1350],\n",
            "        [0.2331, 0.4174, 0.3495],\n",
            "        [0.5287, 0.2487, 0.2226],\n",
            "        [0.3723, 0.4875, 0.1402],\n",
            "        [0.5726, 0.2494, 0.1780]], device='cuda:0')\n",
            "tensor([1, 0, 2, 2, 1, 0, 2, 0], device='cuda:0')\n",
            "validating logits: tensor([[0.3793, 0.5262, 0.0945],\n",
            "        [0.2909, 0.4106, 0.2985],\n",
            "        [0.2824, 0.1825, 0.5350],\n",
            "        [0.2130, 0.4325, 0.3545],\n",
            "        [0.2690, 0.6045, 0.1265],\n",
            "        [0.4944, 0.3812, 0.1244],\n",
            "        [0.2911, 0.2123, 0.4966],\n",
            "        [0.2646, 0.3181, 0.4173]], device='cuda:0')\n",
            "prediction: tensor([1, 1, 2, 1, 1, 0, 2, 2], device='cuda:0')\n",
            "tensor([[0.3793, 0.5262, 0.0945],\n",
            "        [0.2909, 0.4106, 0.2985],\n",
            "        [0.2824, 0.1825, 0.5350],\n",
            "        [0.2130, 0.4325, 0.3545],\n",
            "        [0.2690, 0.6045, 0.1265],\n",
            "        [0.4944, 0.3812, 0.1244],\n",
            "        [0.2911, 0.2123, 0.4966],\n",
            "        [0.2646, 0.3181, 0.4173]], device='cuda:0')\n",
            "tensor([1, 1, 2, 0, 1, 0, 2, 2], device='cuda:0')\n",
            "validating logits: tensor([[0.3038, 0.3327, 0.3634],\n",
            "        [0.2030, 0.5908, 0.2062],\n",
            "        [0.2063, 0.2854, 0.5083],\n",
            "        [0.4138, 0.2859, 0.3003],\n",
            "        [0.2110, 0.4302, 0.3587],\n",
            "        [0.7295, 0.1404, 0.1301],\n",
            "        [0.3342, 0.1769, 0.4889],\n",
            "        [0.2835, 0.1633, 0.5532]], device='cuda:0')\n",
            "prediction: tensor([2, 1, 2, 0, 1, 0, 2, 2], device='cuda:0')\n",
            "tensor([[0.3038, 0.3327, 0.3634],\n",
            "        [0.2030, 0.5908, 0.2062],\n",
            "        [0.2063, 0.2854, 0.5083],\n",
            "        [0.4138, 0.2859, 0.3003],\n",
            "        [0.2110, 0.4302, 0.3587],\n",
            "        [0.7295, 0.1404, 0.1301],\n",
            "        [0.3342, 0.1769, 0.4889],\n",
            "        [0.2835, 0.1633, 0.5532]], device='cuda:0')\n",
            "tensor([0, 1, 2, 0, 0, 0, 2, 1], device='cuda:0')\n",
            "validating logits: tensor([[0.2672, 0.4944, 0.2384],\n",
            "        [0.1210, 0.6383, 0.2407],\n",
            "        [0.2884, 0.3533, 0.3583],\n",
            "        [0.4485, 0.2180, 0.3336],\n",
            "        [0.5595, 0.2594, 0.1811],\n",
            "        [0.3919, 0.4046, 0.2036],\n",
            "        [0.1694, 0.3456, 0.4850],\n",
            "        [0.3374, 0.4606, 0.2020]], device='cuda:0')\n",
            "prediction: tensor([1, 1, 2, 0, 0, 1, 2, 1], device='cuda:0')\n",
            "tensor([[0.2672, 0.4944, 0.2384],\n",
            "        [0.1210, 0.6383, 0.2407],\n",
            "        [0.2884, 0.3533, 0.3583],\n",
            "        [0.4485, 0.2180, 0.3336],\n",
            "        [0.5595, 0.2594, 0.1811],\n",
            "        [0.3919, 0.4046, 0.2036],\n",
            "        [0.1694, 0.3456, 0.4850],\n",
            "        [0.3374, 0.4606, 0.2020]], device='cuda:0')\n",
            "tensor([1, 0, 2, 1, 0, 2, 1, 2], device='cuda:0')\n",
            "validating logits: tensor([[0.1593, 0.2948, 0.5460],\n",
            "        [0.2019, 0.5000, 0.2981],\n",
            "        [0.1612, 0.4384, 0.4004],\n",
            "        [0.4074, 0.3834, 0.2091],\n",
            "        [0.3540, 0.4600, 0.1859],\n",
            "        [0.4196, 0.2215, 0.3588],\n",
            "        [0.2548, 0.6354, 0.1097],\n",
            "        [0.2913, 0.2912, 0.4175]], device='cuda:0')\n",
            "prediction: tensor([2, 1, 1, 0, 1, 0, 1, 2], device='cuda:0')\n",
            "tensor([[0.1593, 0.2948, 0.5460],\n",
            "        [0.2019, 0.5000, 0.2981],\n",
            "        [0.1612, 0.4384, 0.4004],\n",
            "        [0.4074, 0.3834, 0.2091],\n",
            "        [0.3540, 0.4600, 0.1859],\n",
            "        [0.4196, 0.2215, 0.3588],\n",
            "        [0.2548, 0.6354, 0.1097],\n",
            "        [0.2913, 0.2912, 0.4175]], device='cuda:0')\n",
            "tensor([0, 2, 1, 0, 0, 1, 2, 0], device='cuda:0')\n",
            "validating logits: tensor([[0.6095, 0.2435, 0.1470],\n",
            "        [0.4484, 0.2508, 0.3008],\n",
            "        [0.5311, 0.3651, 0.1038],\n",
            "        [0.4332, 0.3951, 0.1716],\n",
            "        [0.5063, 0.2690, 0.2246],\n",
            "        [0.3668, 0.3220, 0.3113],\n",
            "        [0.2508, 0.2723, 0.4769],\n",
            "        [0.3913, 0.3359, 0.2728]], device='cuda:0')\n",
            "prediction: tensor([0, 0, 0, 0, 0, 0, 2, 0], device='cuda:0')\n",
            "tensor([[0.6095, 0.2435, 0.1470],\n",
            "        [0.4484, 0.2508, 0.3008],\n",
            "        [0.5311, 0.3651, 0.1038],\n",
            "        [0.4332, 0.3951, 0.1716],\n",
            "        [0.5063, 0.2690, 0.2246],\n",
            "        [0.3668, 0.3220, 0.3113],\n",
            "        [0.2508, 0.2723, 0.4769],\n",
            "        [0.3913, 0.3359, 0.2728]], device='cuda:0')\n",
            "tensor([2, 1, 1, 0, 2, 1, 0, 2], device='cuda:0')\n",
            "validating logits: tensor([[0.4194, 0.3478, 0.2328],\n",
            "        [0.4887, 0.3584, 0.1529],\n",
            "        [0.3982, 0.3032, 0.2986],\n",
            "        [0.3229, 0.3878, 0.2893],\n",
            "        [0.3614, 0.2976, 0.3410],\n",
            "        [0.8199, 0.1173, 0.0628],\n",
            "        [0.2901, 0.4808, 0.2290],\n",
            "        [0.4173, 0.4271, 0.1557]], device='cuda:0')\n",
            "prediction: tensor([0, 0, 0, 1, 0, 0, 1, 1], device='cuda:0')\n",
            "tensor([[0.4194, 0.3478, 0.2328],\n",
            "        [0.4887, 0.3584, 0.1529],\n",
            "        [0.3982, 0.3032, 0.2986],\n",
            "        [0.3229, 0.3878, 0.2893],\n",
            "        [0.3614, 0.2976, 0.3410],\n",
            "        [0.8199, 0.1173, 0.0628],\n",
            "        [0.2901, 0.4808, 0.2290],\n",
            "        [0.4173, 0.4271, 0.1557]], device='cuda:0')\n",
            "tensor([2, 1, 0, 2, 1, 0, 1, 0], device='cuda:0')\n",
            "validating logits: tensor([[0.5152, 0.3568, 0.1280],\n",
            "        [0.5905, 0.2296, 0.1799],\n",
            "        [0.6328, 0.2496, 0.1175],\n",
            "        [0.3660, 0.4340, 0.2000],\n",
            "        [0.4118, 0.2322, 0.3560],\n",
            "        [0.5573, 0.2633, 0.1794],\n",
            "        [0.3035, 0.5073, 0.1893],\n",
            "        [0.4572, 0.2821, 0.2607]], device='cuda:0')\n",
            "prediction: tensor([0, 0, 0, 1, 0, 0, 1, 0], device='cuda:0')\n",
            "tensor([[0.5152, 0.3568, 0.1280],\n",
            "        [0.5905, 0.2296, 0.1799],\n",
            "        [0.6328, 0.2496, 0.1175],\n",
            "        [0.3660, 0.4340, 0.2000],\n",
            "        [0.4118, 0.2322, 0.3560],\n",
            "        [0.5573, 0.2633, 0.1794],\n",
            "        [0.3035, 0.5073, 0.1893],\n",
            "        [0.4572, 0.2821, 0.2607]], device='cuda:0')\n",
            "tensor([2, 2, 1, 0, 0, 1, 2, 1], device='cuda:0')\n",
            "validating logits: tensor([[0.4183, 0.3596, 0.2221],\n",
            "        [0.6948, 0.1819, 0.1233],\n",
            "        [0.3220, 0.3992, 0.2788],\n",
            "        [0.6024, 0.1949, 0.2027],\n",
            "        [0.3842, 0.5166, 0.0993],\n",
            "        [0.4087, 0.3922, 0.1991],\n",
            "        [0.4154, 0.3126, 0.2719],\n",
            "        [0.4251, 0.4506, 0.1243]], device='cuda:0')\n",
            "prediction: tensor([0, 0, 1, 0, 1, 0, 0, 1], device='cuda:0')\n",
            "tensor([[0.4183, 0.3596, 0.2221],\n",
            "        [0.6948, 0.1819, 0.1233],\n",
            "        [0.3220, 0.3992, 0.2788],\n",
            "        [0.6024, 0.1949, 0.2027],\n",
            "        [0.3842, 0.5166, 0.0993],\n",
            "        [0.4087, 0.3922, 0.1991],\n",
            "        [0.4154, 0.3126, 0.2719],\n",
            "        [0.4251, 0.4506, 0.1243]], device='cuda:0')\n",
            "tensor([0, 2, 1, 0, 1, 2, 1, 2], device='cuda:0')\n",
            "validating logits: tensor([[0.6175, 0.2838, 0.0988],\n",
            "        [0.4270, 0.3411, 0.2319],\n",
            "        [0.2711, 0.5912, 0.1377],\n",
            "        [0.6123, 0.2797, 0.1079],\n",
            "        [0.1067, 0.2368, 0.6565],\n",
            "        [0.1562, 0.5285, 0.3153],\n",
            "        [0.5084, 0.3939, 0.0978],\n",
            "        [0.2676, 0.0989, 0.6335]], device='cuda:0')\n",
            "prediction: tensor([0, 0, 1, 0, 2, 1, 0, 2], device='cuda:0')\n",
            "tensor([[0.6175, 0.2838, 0.0988],\n",
            "        [0.4270, 0.3411, 0.2319],\n",
            "        [0.2711, 0.5912, 0.1377],\n",
            "        [0.6123, 0.2797, 0.1079],\n",
            "        [0.1067, 0.2368, 0.6565],\n",
            "        [0.1562, 0.5285, 0.3153],\n",
            "        [0.5084, 0.3939, 0.0978],\n",
            "        [0.2676, 0.0989, 0.6335]], device='cuda:0')\n",
            "tensor([0, 2, 2, 0], device='cuda:0')\n",
            "validating logits: tensor([[0.3332, 0.3775, 0.2893],\n",
            "        [0.3805, 0.3495, 0.2700],\n",
            "        [0.2443, 0.1972, 0.5585],\n",
            "        [0.7840, 0.1258, 0.0902]], device='cuda:0')\n",
            "prediction: tensor([1, 0, 2, 0], device='cuda:0')\n",
            "tensor([[0.3332, 0.3775, 0.2893],\n",
            "        [0.3805, 0.3495, 0.2700],\n",
            "        [0.2443, 0.1972, 0.5585],\n",
            "        [0.7840, 0.1258, 0.0902]], device='cuda:0')\n",
            "Epochs: 3 | Train Loss:  0.136             | Train Accuracy:  0.422             | Val Loss:  0.134             | Val Accuracy:  0.490\n",
            "Found a better model\n"
          ]
        },
        {
          "output_type": "stream",
          "name": "stderr",
          "text": [
            "\r  0%|          | 0/63 [00:00<?, ?it/s]"
          ]
        },
        {
          "output_type": "stream",
          "name": "stdout",
          "text": [
            "training logits: tensor([[0.2398, 0.3851, 0.3751],\n",
            "        [0.5502, 0.2683, 0.1815],\n",
            "        [0.2290, 0.2236, 0.5474],\n",
            "        [0.2280, 0.4589, 0.3132],\n",
            "        [0.3861, 0.3692, 0.2447],\n",
            "        [0.2653, 0.4408, 0.2939],\n",
            "        [0.7566, 0.1081, 0.1353],\n",
            "        [0.4087, 0.2109, 0.3804]], device='cuda:0', grad_fn=<SoftmaxBackward0>)\n",
            "training outputs\n",
            "tensor([[0.2398, 0.3851, 0.3751],\n",
            "        [0.5502, 0.2683, 0.1815],\n",
            "        [0.2290, 0.2236, 0.5474],\n",
            "        [0.2280, 0.4589, 0.3132],\n",
            "        [0.3861, 0.3692, 0.2447],\n",
            "        [0.2653, 0.4408, 0.2939],\n",
            "        [0.7566, 0.1081, 0.1353],\n",
            "        [0.4087, 0.2109, 0.3804]], device='cuda:0', grad_fn=<SoftmaxBackward0>)\n",
            "prediction: tensor([1, 0, 2, 1, 0, 1, 0, 0], device='cuda:0')\n",
            "train labels: tensor([0, 1, 0, 1, 0, 0, 2, 2], device='cuda:0')\n"
          ]
        },
        {
          "output_type": "stream",
          "name": "stderr",
          "text": [
            "\r  2%|▏         | 1/63 [00:00<00:45,  1.37it/s]"
          ]
        },
        {
          "output_type": "stream",
          "name": "stdout",
          "text": [
            "training logits: tensor([[0.3360, 0.3558, 0.3083],\n",
            "        [0.2513, 0.5921, 0.1566],\n",
            "        [0.2437, 0.4642, 0.2921],\n",
            "        [0.1825, 0.1356, 0.6819],\n",
            "        [0.4909, 0.1774, 0.3317],\n",
            "        [0.5636, 0.2663, 0.1701],\n",
            "        [0.3950, 0.3395, 0.2655],\n",
            "        [0.2419, 0.3426, 0.4155]], device='cuda:0', grad_fn=<SoftmaxBackward0>)\n",
            "training outputs\n",
            "tensor([[0.3360, 0.3558, 0.3083],\n",
            "        [0.2513, 0.5921, 0.1566],\n",
            "        [0.2437, 0.4642, 0.2921],\n",
            "        [0.1825, 0.1356, 0.6819],\n",
            "        [0.4909, 0.1774, 0.3317],\n",
            "        [0.5636, 0.2663, 0.1701],\n",
            "        [0.3950, 0.3395, 0.2655],\n",
            "        [0.2419, 0.3426, 0.4155]], device='cuda:0', grad_fn=<SoftmaxBackward0>)\n",
            "prediction: tensor([1, 1, 1, 2, 0, 0, 0, 2], device='cuda:0')\n",
            "train labels: tensor([2, 0, 1, 2, 0, 0, 2, 2], device='cuda:0')\n"
          ]
        },
        {
          "output_type": "stream",
          "name": "stderr",
          "text": [
            "\r  3%|▎         | 2/63 [00:01<00:43,  1.41it/s]"
          ]
        },
        {
          "output_type": "stream",
          "name": "stdout",
          "text": [
            "training logits: tensor([[0.2288, 0.3072, 0.4640],\n",
            "        [0.7556, 0.1136, 0.1308],\n",
            "        [0.3669, 0.0861, 0.5470],\n",
            "        [0.3843, 0.4002, 0.2154],\n",
            "        [0.3773, 0.1507, 0.4719],\n",
            "        [0.4985, 0.3507, 0.1509],\n",
            "        [0.3398, 0.3296, 0.3306],\n",
            "        [0.5517, 0.3282, 0.1200]], device='cuda:0', grad_fn=<SoftmaxBackward0>)\n",
            "training outputs\n",
            "tensor([[0.2288, 0.3072, 0.4640],\n",
            "        [0.7556, 0.1136, 0.1308],\n",
            "        [0.3669, 0.0861, 0.5470],\n",
            "        [0.3843, 0.4002, 0.2154],\n",
            "        [0.3773, 0.1507, 0.4719],\n",
            "        [0.4985, 0.3507, 0.1509],\n",
            "        [0.3398, 0.3296, 0.3306],\n",
            "        [0.5517, 0.3282, 0.1200]], device='cuda:0', grad_fn=<SoftmaxBackward0>)\n",
            "prediction: tensor([2, 0, 2, 1, 2, 0, 0, 0], device='cuda:0')\n",
            "train labels: tensor([2, 0, 2, 2, 2, 0, 2, 0], device='cuda:0')\n"
          ]
        },
        {
          "output_type": "stream",
          "name": "stderr",
          "text": [
            "\r  5%|▍         | 3/63 [00:02<00:42,  1.41it/s]"
          ]
        },
        {
          "output_type": "stream",
          "name": "stdout",
          "text": [
            "training logits: tensor([[0.2117, 0.5318, 0.2565],\n",
            "        [0.2036, 0.2795, 0.5169],\n",
            "        [0.2642, 0.4101, 0.3257],\n",
            "        [0.0945, 0.7110, 0.1945],\n",
            "        [0.2181, 0.3645, 0.4174],\n",
            "        [0.4797, 0.4334, 0.0869],\n",
            "        [0.7081, 0.2268, 0.0651],\n",
            "        [0.3146, 0.2402, 0.4452]], device='cuda:0', grad_fn=<SoftmaxBackward0>)\n",
            "training outputs\n",
            "tensor([[0.2117, 0.5318, 0.2565],\n",
            "        [0.2036, 0.2795, 0.5169],\n",
            "        [0.2642, 0.4101, 0.3257],\n",
            "        [0.0945, 0.7110, 0.1945],\n",
            "        [0.2181, 0.3645, 0.4174],\n",
            "        [0.4797, 0.4334, 0.0869],\n",
            "        [0.7081, 0.2268, 0.0651],\n",
            "        [0.3146, 0.2402, 0.4452]], device='cuda:0', grad_fn=<SoftmaxBackward0>)\n",
            "prediction: tensor([1, 2, 1, 1, 2, 0, 0, 2], device='cuda:0')\n",
            "train labels: tensor([2, 1, 1, 1, 1, 1, 2, 2], device='cuda:0')\n"
          ]
        },
        {
          "output_type": "stream",
          "name": "stderr",
          "text": [
            "\r  6%|▋         | 4/63 [00:02<00:41,  1.41it/s]"
          ]
        },
        {
          "output_type": "stream",
          "name": "stdout",
          "text": [
            "training logits: tensor([[0.6982, 0.1656, 0.1362],\n",
            "        [0.4220, 0.2442, 0.3338],\n",
            "        [0.4315, 0.3442, 0.2243],\n",
            "        [0.6276, 0.1510, 0.2215],\n",
            "        [0.6033, 0.1261, 0.2706],\n",
            "        [0.3988, 0.3240, 0.2772],\n",
            "        [0.3686, 0.4246, 0.2068],\n",
            "        [0.2915, 0.3889, 0.3196]], device='cuda:0', grad_fn=<SoftmaxBackward0>)\n",
            "training outputs\n",
            "tensor([[0.6982, 0.1656, 0.1362],\n",
            "        [0.4220, 0.2442, 0.3338],\n",
            "        [0.4315, 0.3442, 0.2243],\n",
            "        [0.6276, 0.1510, 0.2215],\n",
            "        [0.6033, 0.1261, 0.2706],\n",
            "        [0.3988, 0.3240, 0.2772],\n",
            "        [0.3686, 0.4246, 0.2068],\n",
            "        [0.2915, 0.3889, 0.3196]], device='cuda:0', grad_fn=<SoftmaxBackward0>)\n",
            "prediction: tensor([0, 0, 0, 0, 0, 0, 1, 1], device='cuda:0')\n",
            "train labels: tensor([1, 1, 1, 0, 0, 0, 1, 1], device='cuda:0')\n"
          ]
        },
        {
          "output_type": "stream",
          "name": "stderr",
          "text": [
            "\r  8%|▊         | 5/63 [00:03<00:41,  1.41it/s]"
          ]
        },
        {
          "output_type": "stream",
          "name": "stdout",
          "text": [
            "training logits: tensor([[0.6349, 0.2563, 0.1088],\n",
            "        [0.3508, 0.3634, 0.2858],\n",
            "        [0.3522, 0.2848, 0.3630],\n",
            "        [0.6765, 0.1788, 0.1447],\n",
            "        [0.6530, 0.1473, 0.1997],\n",
            "        [0.2603, 0.2267, 0.5130],\n",
            "        [0.5579, 0.2873, 0.1548],\n",
            "        [0.1339, 0.1336, 0.7325]], device='cuda:0', grad_fn=<SoftmaxBackward0>)\n",
            "training outputs\n",
            "tensor([[0.6349, 0.2563, 0.1088],\n",
            "        [0.3508, 0.3634, 0.2858],\n",
            "        [0.3522, 0.2848, 0.3630],\n",
            "        [0.6765, 0.1788, 0.1447],\n",
            "        [0.6530, 0.1473, 0.1997],\n",
            "        [0.2603, 0.2267, 0.5130],\n",
            "        [0.5579, 0.2873, 0.1548],\n",
            "        [0.1339, 0.1336, 0.7325]], device='cuda:0', grad_fn=<SoftmaxBackward0>)\n",
            "prediction: tensor([0, 1, 2, 0, 0, 2, 0, 2], device='cuda:0')\n",
            "train labels: tensor([1, 1, 0, 0, 0, 2, 0, 1], device='cuda:0')\n"
          ]
        },
        {
          "output_type": "stream",
          "name": "stderr",
          "text": [
            "\r 10%|▉         | 6/63 [00:04<00:40,  1.41it/s]"
          ]
        },
        {
          "output_type": "stream",
          "name": "stdout",
          "text": [
            "training logits: tensor([[0.2055, 0.4095, 0.3850],\n",
            "        [0.3449, 0.4265, 0.2286],\n",
            "        [0.5755, 0.2228, 0.2018],\n",
            "        [0.4424, 0.3222, 0.2354],\n",
            "        [0.6662, 0.2837, 0.0501],\n",
            "        [0.2746, 0.3342, 0.3911],\n",
            "        [0.1686, 0.3807, 0.4507],\n",
            "        [0.4280, 0.3522, 0.2199]], device='cuda:0', grad_fn=<SoftmaxBackward0>)\n",
            "training outputs\n",
            "tensor([[0.2055, 0.4095, 0.3850],\n",
            "        [0.3449, 0.4265, 0.2286],\n",
            "        [0.5755, 0.2228, 0.2018],\n",
            "        [0.4424, 0.3222, 0.2354],\n",
            "        [0.6662, 0.2837, 0.0501],\n",
            "        [0.2746, 0.3342, 0.3911],\n",
            "        [0.1686, 0.3807, 0.4507],\n",
            "        [0.4280, 0.3522, 0.2199]], device='cuda:0', grad_fn=<SoftmaxBackward0>)\n",
            "prediction: tensor([1, 1, 0, 0, 0, 2, 2, 0], device='cuda:0')\n",
            "train labels: tensor([0, 1, 2, 0, 1, 2, 1, 2], device='cuda:0')\n"
          ]
        },
        {
          "output_type": "stream",
          "name": "stderr",
          "text": [
            "\r 11%|█         | 7/63 [00:04<00:39,  1.41it/s]"
          ]
        },
        {
          "output_type": "stream",
          "name": "stdout",
          "text": [
            "training logits: tensor([[0.4616, 0.3067, 0.2316],\n",
            "        [0.4160, 0.2197, 0.3642],\n",
            "        [0.3619, 0.3425, 0.2955],\n",
            "        [0.5636, 0.1749, 0.2615],\n",
            "        [0.2208, 0.3636, 0.4156],\n",
            "        [0.5363, 0.2084, 0.2553],\n",
            "        [0.4726, 0.3772, 0.1502],\n",
            "        [0.4074, 0.1144, 0.4783]], device='cuda:0', grad_fn=<SoftmaxBackward0>)\n",
            "training outputs\n",
            "tensor([[0.4616, 0.3067, 0.2316],\n",
            "        [0.4160, 0.2197, 0.3642],\n",
            "        [0.3619, 0.3425, 0.2955],\n",
            "        [0.5636, 0.1749, 0.2615],\n",
            "        [0.2208, 0.3636, 0.4156],\n",
            "        [0.5363, 0.2084, 0.2553],\n",
            "        [0.4726, 0.3772, 0.1502],\n",
            "        [0.4074, 0.1144, 0.4783]], device='cuda:0', grad_fn=<SoftmaxBackward0>)\n",
            "prediction: tensor([0, 0, 0, 0, 2, 0, 0, 2], device='cuda:0')\n",
            "train labels: tensor([0, 2, 1, 2, 2, 2, 0, 2], device='cuda:0')\n"
          ]
        },
        {
          "output_type": "stream",
          "name": "stderr",
          "text": [
            "\r 13%|█▎        | 8/63 [00:05<00:39,  1.41it/s]"
          ]
        },
        {
          "output_type": "stream",
          "name": "stdout",
          "text": [
            "training logits: tensor([[0.4172, 0.4740, 0.1088],\n",
            "        [0.6791, 0.1961, 0.1248],\n",
            "        [0.5487, 0.2649, 0.1864],\n",
            "        [0.3872, 0.1558, 0.4569],\n",
            "        [0.5070, 0.1404, 0.3525],\n",
            "        [0.1880, 0.6967, 0.1153],\n",
            "        [0.6094, 0.1648, 0.2258],\n",
            "        [0.1266, 0.1370, 0.7364]], device='cuda:0', grad_fn=<SoftmaxBackward0>)\n",
            "training outputs\n",
            "tensor([[0.4172, 0.4740, 0.1088],\n",
            "        [0.6791, 0.1961, 0.1248],\n",
            "        [0.5487, 0.2649, 0.1864],\n",
            "        [0.3872, 0.1558, 0.4569],\n",
            "        [0.5070, 0.1404, 0.3525],\n",
            "        [0.1880, 0.6967, 0.1153],\n",
            "        [0.6094, 0.1648, 0.2258],\n",
            "        [0.1266, 0.1370, 0.7364]], device='cuda:0', grad_fn=<SoftmaxBackward0>)\n",
            "prediction: tensor([1, 0, 0, 2, 0, 1, 0, 2], device='cuda:0')\n",
            "train labels: tensor([1, 0, 0, 1, 2, 1, 2, 2], device='cuda:0')\n"
          ]
        },
        {
          "output_type": "stream",
          "name": "stderr",
          "text": [
            "\r 14%|█▍        | 9/63 [00:06<00:38,  1.41it/s]"
          ]
        },
        {
          "output_type": "stream",
          "name": "stdout",
          "text": [
            "training logits: tensor([[0.2121, 0.2073, 0.5806],\n",
            "        [0.5309, 0.2902, 0.1789],\n",
            "        [0.1770, 0.5129, 0.3101],\n",
            "        [0.2970, 0.2758, 0.4271],\n",
            "        [0.1856, 0.3638, 0.4505],\n",
            "        [0.5298, 0.2736, 0.1966],\n",
            "        [0.1062, 0.1161, 0.7777],\n",
            "        [0.5730, 0.1533, 0.2737]], device='cuda:0', grad_fn=<SoftmaxBackward0>)\n",
            "training outputs\n",
            "tensor([[0.2121, 0.2073, 0.5806],\n",
            "        [0.5309, 0.2902, 0.1789],\n",
            "        [0.1770, 0.5129, 0.3101],\n",
            "        [0.2970, 0.2758, 0.4271],\n",
            "        [0.1856, 0.3638, 0.4505],\n",
            "        [0.5298, 0.2736, 0.1966],\n",
            "        [0.1062, 0.1161, 0.7777],\n",
            "        [0.5730, 0.1533, 0.2737]], device='cuda:0', grad_fn=<SoftmaxBackward0>)\n",
            "prediction: tensor([2, 0, 1, 2, 2, 0, 2, 0], device='cuda:0')\n",
            "train labels: tensor([0, 2, 2, 0, 1, 2, 2, 0], device='cuda:0')\n"
          ]
        },
        {
          "output_type": "stream",
          "name": "stderr",
          "text": [
            "\r 16%|█▌        | 10/63 [00:07<00:37,  1.41it/s]"
          ]
        },
        {
          "output_type": "stream",
          "name": "stdout",
          "text": [
            "training logits: tensor([[0.5628, 0.1560, 0.2812],\n",
            "        [0.0518, 0.0495, 0.8986],\n",
            "        [0.3556, 0.1071, 0.5373],\n",
            "        [0.2891, 0.1790, 0.5319],\n",
            "        [0.3028, 0.3013, 0.3958],\n",
            "        [0.3167, 0.3595, 0.3237],\n",
            "        [0.2040, 0.1418, 0.6543],\n",
            "        [0.2692, 0.6101, 0.1207]], device='cuda:0', grad_fn=<SoftmaxBackward0>)\n",
            "training outputs\n",
            "tensor([[0.5628, 0.1560, 0.2812],\n",
            "        [0.0518, 0.0495, 0.8986],\n",
            "        [0.3556, 0.1071, 0.5373],\n",
            "        [0.2891, 0.1790, 0.5319],\n",
            "        [0.3028, 0.3013, 0.3958],\n",
            "        [0.3167, 0.3595, 0.3237],\n",
            "        [0.2040, 0.1418, 0.6543],\n",
            "        [0.2692, 0.6101, 0.1207]], device='cuda:0', grad_fn=<SoftmaxBackward0>)\n",
            "prediction: tensor([0, 2, 2, 2, 2, 1, 2, 1], device='cuda:0')\n",
            "train labels: tensor([0, 2, 2, 1, 0, 2, 2, 1], device='cuda:0')\n"
          ]
        },
        {
          "output_type": "stream",
          "name": "stderr",
          "text": [
            "\r 17%|█▋        | 11/63 [00:07<00:36,  1.41it/s]"
          ]
        },
        {
          "output_type": "stream",
          "name": "stdout",
          "text": [
            "training logits: tensor([[0.1574, 0.1406, 0.7021],\n",
            "        [0.3141, 0.2198, 0.4661],\n",
            "        [0.6851, 0.2133, 0.1016],\n",
            "        [0.3656, 0.3613, 0.2731],\n",
            "        [0.4696, 0.2507, 0.2797],\n",
            "        [0.1887, 0.3008, 0.5105],\n",
            "        [0.2241, 0.1376, 0.6383],\n",
            "        [0.2571, 0.2857, 0.4572]], device='cuda:0', grad_fn=<SoftmaxBackward0>)\n",
            "training outputs\n",
            "tensor([[0.1574, 0.1406, 0.7021],\n",
            "        [0.3141, 0.2198, 0.4661],\n",
            "        [0.6851, 0.2133, 0.1016],\n",
            "        [0.3656, 0.3613, 0.2731],\n",
            "        [0.4696, 0.2507, 0.2797],\n",
            "        [0.1887, 0.3008, 0.5105],\n",
            "        [0.2241, 0.1376, 0.6383],\n",
            "        [0.2571, 0.2857, 0.4572]], device='cuda:0', grad_fn=<SoftmaxBackward0>)\n",
            "prediction: tensor([2, 2, 0, 0, 0, 2, 2, 2], device='cuda:0')\n",
            "train labels: tensor([2, 0, 0, 0, 2, 0, 2, 0], device='cuda:0')\n"
          ]
        },
        {
          "output_type": "stream",
          "name": "stderr",
          "text": [
            "\r 19%|█▉        | 12/63 [00:08<00:36,  1.40it/s]"
          ]
        },
        {
          "output_type": "stream",
          "name": "stdout",
          "text": [
            "training logits: tensor([[0.5667, 0.1455, 0.2878],\n",
            "        [0.2373, 0.4654, 0.2974],\n",
            "        [0.3079, 0.3989, 0.2932],\n",
            "        [0.2657, 0.2172, 0.5171],\n",
            "        [0.4759, 0.1627, 0.3613],\n",
            "        [0.2231, 0.2671, 0.5098],\n",
            "        [0.4535, 0.4110, 0.1355],\n",
            "        [0.4400, 0.3215, 0.2385]], device='cuda:0', grad_fn=<SoftmaxBackward0>)\n",
            "training outputs\n",
            "tensor([[0.5667, 0.1455, 0.2878],\n",
            "        [0.2373, 0.4654, 0.2974],\n",
            "        [0.3079, 0.3989, 0.2932],\n",
            "        [0.2657, 0.2172, 0.5171],\n",
            "        [0.4759, 0.1627, 0.3613],\n",
            "        [0.2231, 0.2671, 0.5098],\n",
            "        [0.4535, 0.4110, 0.1355],\n",
            "        [0.4400, 0.3215, 0.2385]], device='cuda:0', grad_fn=<SoftmaxBackward0>)\n",
            "prediction: tensor([0, 1, 1, 2, 0, 2, 0, 0], device='cuda:0')\n",
            "train labels: tensor([0, 2, 1, 2, 0, 0, 1, 1], device='cuda:0')\n"
          ]
        },
        {
          "output_type": "stream",
          "name": "stderr",
          "text": [
            "\r 21%|██        | 13/63 [00:09<00:35,  1.40it/s]"
          ]
        },
        {
          "output_type": "stream",
          "name": "stdout",
          "text": [
            "training logits: tensor([[0.6670, 0.1742, 0.1588],\n",
            "        [0.1607, 0.1079, 0.7314],\n",
            "        [0.4725, 0.2112, 0.3163],\n",
            "        [0.1139, 0.4402, 0.4459],\n",
            "        [0.2395, 0.1759, 0.5846],\n",
            "        [0.3528, 0.3727, 0.2745],\n",
            "        [0.1624, 0.7118, 0.1258],\n",
            "        [0.2001, 0.1721, 0.6278]], device='cuda:0', grad_fn=<SoftmaxBackward0>)\n",
            "training outputs\n",
            "tensor([[0.6670, 0.1742, 0.1588],\n",
            "        [0.1607, 0.1079, 0.7314],\n",
            "        [0.4725, 0.2112, 0.3163],\n",
            "        [0.1139, 0.4402, 0.4459],\n",
            "        [0.2395, 0.1759, 0.5846],\n",
            "        [0.3528, 0.3727, 0.2745],\n",
            "        [0.1624, 0.7118, 0.1258],\n",
            "        [0.2001, 0.1721, 0.6278]], device='cuda:0', grad_fn=<SoftmaxBackward0>)\n",
            "prediction: tensor([0, 2, 0, 2, 2, 1, 1, 2], device='cuda:0')\n",
            "train labels: tensor([0, 2, 1, 2, 2, 0, 1, 2], device='cuda:0')\n"
          ]
        },
        {
          "output_type": "stream",
          "name": "stderr",
          "text": [
            "\r 22%|██▏       | 14/63 [00:09<00:35,  1.39it/s]"
          ]
        },
        {
          "output_type": "stream",
          "name": "stdout",
          "text": [
            "training logits: tensor([[0.6158, 0.2424, 0.1418],\n",
            "        [0.5216, 0.3016, 0.1768],\n",
            "        [0.4854, 0.2926, 0.2220],\n",
            "        [0.3181, 0.1755, 0.5063],\n",
            "        [0.6704, 0.1820, 0.1476],\n",
            "        [0.4981, 0.2515, 0.2504],\n",
            "        [0.6167, 0.2220, 0.1613],\n",
            "        [0.6364, 0.1873, 0.1764]], device='cuda:0', grad_fn=<SoftmaxBackward0>)\n",
            "training outputs\n",
            "tensor([[0.6158, 0.2424, 0.1418],\n",
            "        [0.5216, 0.3016, 0.1768],\n",
            "        [0.4854, 0.2926, 0.2220],\n",
            "        [0.3181, 0.1755, 0.5063],\n",
            "        [0.6704, 0.1820, 0.1476],\n",
            "        [0.4981, 0.2515, 0.2504],\n",
            "        [0.6167, 0.2220, 0.1613],\n",
            "        [0.6364, 0.1873, 0.1764]], device='cuda:0', grad_fn=<SoftmaxBackward0>)\n",
            "prediction: tensor([0, 0, 0, 2, 0, 0, 0, 0], device='cuda:0')\n",
            "train labels: tensor([0, 0, 1, 2, 0, 0, 0, 0], device='cuda:0')\n"
          ]
        },
        {
          "output_type": "stream",
          "name": "stderr",
          "text": [
            "\r 24%|██▍       | 15/63 [00:10<00:34,  1.40it/s]"
          ]
        },
        {
          "output_type": "stream",
          "name": "stdout",
          "text": [
            "training logits: tensor([[0.3322, 0.3508, 0.3170],\n",
            "        [0.6794, 0.1705, 0.1501],\n",
            "        [0.1514, 0.3135, 0.5351],\n",
            "        [0.2893, 0.6103, 0.1004],\n",
            "        [0.2723, 0.2335, 0.4942],\n",
            "        [0.3935, 0.2300, 0.3765],\n",
            "        [0.2532, 0.2363, 0.5105],\n",
            "        [0.2620, 0.1618, 0.5762]], device='cuda:0', grad_fn=<SoftmaxBackward0>)\n",
            "training outputs\n",
            "tensor([[0.3322, 0.3508, 0.3170],\n",
            "        [0.6794, 0.1705, 0.1501],\n",
            "        [0.1514, 0.3135, 0.5351],\n",
            "        [0.2893, 0.6103, 0.1004],\n",
            "        [0.2723, 0.2335, 0.4942],\n",
            "        [0.3935, 0.2300, 0.3765],\n",
            "        [0.2532, 0.2363, 0.5105],\n",
            "        [0.2620, 0.1618, 0.5762]], device='cuda:0', grad_fn=<SoftmaxBackward0>)\n",
            "prediction: tensor([1, 0, 2, 1, 2, 0, 2, 2], device='cuda:0')\n",
            "train labels: tensor([1, 0, 1, 1, 2, 0, 0, 1], device='cuda:0')\n"
          ]
        },
        {
          "output_type": "stream",
          "name": "stderr",
          "text": [
            "\r 25%|██▌       | 16/63 [00:11<00:33,  1.39it/s]"
          ]
        },
        {
          "output_type": "stream",
          "name": "stdout",
          "text": [
            "training logits: tensor([[0.2222, 0.5505, 0.2273],\n",
            "        [0.2841, 0.6298, 0.0861],\n",
            "        [0.3320, 0.3023, 0.3657],\n",
            "        [0.2035, 0.0504, 0.7462],\n",
            "        [0.5957, 0.2746, 0.1297],\n",
            "        [0.4243, 0.4571, 0.1186],\n",
            "        [0.2976, 0.3748, 0.3276],\n",
            "        [0.2333, 0.4376, 0.3291]], device='cuda:0', grad_fn=<SoftmaxBackward0>)\n",
            "training outputs\n",
            "tensor([[0.2222, 0.5505, 0.2273],\n",
            "        [0.2841, 0.6298, 0.0861],\n",
            "        [0.3320, 0.3023, 0.3657],\n",
            "        [0.2035, 0.0504, 0.7462],\n",
            "        [0.5957, 0.2746, 0.1297],\n",
            "        [0.4243, 0.4571, 0.1186],\n",
            "        [0.2976, 0.3748, 0.3276],\n",
            "        [0.2333, 0.4376, 0.3291]], device='cuda:0', grad_fn=<SoftmaxBackward0>)\n",
            "prediction: tensor([1, 1, 2, 2, 0, 1, 1, 1], device='cuda:0')\n",
            "train labels: tensor([1, 1, 0, 2, 0, 2, 2, 2], device='cuda:0')\n"
          ]
        },
        {
          "output_type": "stream",
          "name": "stderr",
          "text": [
            "\r 27%|██▋       | 17/63 [00:12<00:33,  1.38it/s]"
          ]
        },
        {
          "output_type": "stream",
          "name": "stdout",
          "text": [
            "training logits: tensor([[0.2517, 0.2542, 0.4941],\n",
            "        [0.5073, 0.0829, 0.4099],\n",
            "        [0.6321, 0.1677, 0.2002],\n",
            "        [0.1704, 0.4568, 0.3727],\n",
            "        [0.6893, 0.1995, 0.1113],\n",
            "        [0.6552, 0.1561, 0.1888],\n",
            "        [0.3769, 0.2159, 0.4072],\n",
            "        [0.1557, 0.2611, 0.5833]], device='cuda:0', grad_fn=<SoftmaxBackward0>)\n",
            "training outputs\n",
            "tensor([[0.2517, 0.2542, 0.4941],\n",
            "        [0.5073, 0.0829, 0.4099],\n",
            "        [0.6321, 0.1677, 0.2002],\n",
            "        [0.1704, 0.4568, 0.3727],\n",
            "        [0.6893, 0.1995, 0.1113],\n",
            "        [0.6552, 0.1561, 0.1888],\n",
            "        [0.3769, 0.2159, 0.4072],\n",
            "        [0.1557, 0.2611, 0.5833]], device='cuda:0', grad_fn=<SoftmaxBackward0>)\n",
            "prediction: tensor([2, 0, 0, 1, 0, 0, 2, 2], device='cuda:0')\n",
            "train labels: tensor([1, 0, 0, 2, 0, 1, 0, 2], device='cuda:0')\n"
          ]
        },
        {
          "output_type": "stream",
          "name": "stderr",
          "text": [
            "\r 29%|██▊       | 18/63 [00:12<00:32,  1.38it/s]"
          ]
        },
        {
          "output_type": "stream",
          "name": "stdout",
          "text": [
            "training logits: tensor([[0.2490, 0.2740, 0.4770],\n",
            "        [0.2407, 0.3471, 0.4122],\n",
            "        [0.6786, 0.1967, 0.1247],\n",
            "        [0.2567, 0.2681, 0.4752],\n",
            "        [0.6133, 0.2428, 0.1439],\n",
            "        [0.6896, 0.1427, 0.1677],\n",
            "        [0.1083, 0.2567, 0.6350],\n",
            "        [0.2897, 0.4240, 0.2863]], device='cuda:0', grad_fn=<SoftmaxBackward0>)\n",
            "training outputs\n",
            "tensor([[0.2490, 0.2740, 0.4770],\n",
            "        [0.2407, 0.3471, 0.4122],\n",
            "        [0.6786, 0.1967, 0.1247],\n",
            "        [0.2567, 0.2681, 0.4752],\n",
            "        [0.6133, 0.2428, 0.1439],\n",
            "        [0.6896, 0.1427, 0.1677],\n",
            "        [0.1083, 0.2567, 0.6350],\n",
            "        [0.2897, 0.4240, 0.2863]], device='cuda:0', grad_fn=<SoftmaxBackward0>)\n",
            "prediction: tensor([2, 2, 0, 2, 0, 0, 2, 1], device='cuda:0')\n",
            "train labels: tensor([2, 2, 0, 0, 2, 0, 2, 1], device='cuda:0')\n"
          ]
        },
        {
          "output_type": "stream",
          "name": "stderr",
          "text": [
            "\r 30%|███       | 19/63 [00:13<00:31,  1.38it/s]"
          ]
        },
        {
          "output_type": "stream",
          "name": "stdout",
          "text": [
            "training logits: tensor([[0.5164, 0.2065, 0.2771],\n",
            "        [0.4812, 0.1515, 0.3674],\n",
            "        [0.5711, 0.3775, 0.0514],\n",
            "        [0.3010, 0.4114, 0.2876],\n",
            "        [0.1681, 0.1927, 0.6392],\n",
            "        [0.5106, 0.2279, 0.2615],\n",
            "        [0.4551, 0.4920, 0.0530],\n",
            "        [0.6460, 0.1769, 0.1772]], device='cuda:0', grad_fn=<SoftmaxBackward0>)\n",
            "training outputs\n",
            "tensor([[0.5164, 0.2065, 0.2771],\n",
            "        [0.4812, 0.1515, 0.3674],\n",
            "        [0.5711, 0.3775, 0.0514],\n",
            "        [0.3010, 0.4114, 0.2876],\n",
            "        [0.1681, 0.1927, 0.6392],\n",
            "        [0.5106, 0.2279, 0.2615],\n",
            "        [0.4551, 0.4920, 0.0530],\n",
            "        [0.6460, 0.1769, 0.1772]], device='cuda:0', grad_fn=<SoftmaxBackward0>)\n",
            "prediction: tensor([0, 0, 0, 1, 2, 0, 1, 0], device='cuda:0')\n",
            "train labels: tensor([2, 2, 1, 1, 2, 2, 0, 0], device='cuda:0')\n"
          ]
        },
        {
          "output_type": "stream",
          "name": "stderr",
          "text": [
            "\r 32%|███▏      | 20/63 [00:14<00:31,  1.37it/s]"
          ]
        },
        {
          "output_type": "stream",
          "name": "stdout",
          "text": [
            "training logits: tensor([[0.2080, 0.6789, 0.1132],\n",
            "        [0.5381, 0.1830, 0.2789],\n",
            "        [0.1835, 0.5142, 0.3023],\n",
            "        [0.2134, 0.5482, 0.2384],\n",
            "        [0.2082, 0.2876, 0.5042],\n",
            "        [0.2545, 0.2746, 0.4709],\n",
            "        [0.1333, 0.3850, 0.4817],\n",
            "        [0.2073, 0.2206, 0.5721]], device='cuda:0', grad_fn=<SoftmaxBackward0>)\n",
            "training outputs\n",
            "tensor([[0.2080, 0.6789, 0.1132],\n",
            "        [0.5381, 0.1830, 0.2789],\n",
            "        [0.1835, 0.5142, 0.3023],\n",
            "        [0.2134, 0.5482, 0.2384],\n",
            "        [0.2082, 0.2876, 0.5042],\n",
            "        [0.2545, 0.2746, 0.4709],\n",
            "        [0.1333, 0.3850, 0.4817],\n",
            "        [0.2073, 0.2206, 0.5721]], device='cuda:0', grad_fn=<SoftmaxBackward0>)\n",
            "prediction: tensor([1, 0, 1, 1, 2, 2, 2, 2], device='cuda:0')\n",
            "train labels: tensor([1, 1, 0, 1, 0, 0, 1, 1], device='cuda:0')\n"
          ]
        },
        {
          "output_type": "stream",
          "name": "stderr",
          "text": [
            "\r 33%|███▎      | 21/63 [00:15<00:30,  1.37it/s]"
          ]
        },
        {
          "output_type": "stream",
          "name": "stdout",
          "text": [
            "training logits: tensor([[0.6182, 0.1493, 0.2325],\n",
            "        [0.1505, 0.3352, 0.5142],\n",
            "        [0.4768, 0.3808, 0.1424],\n",
            "        [0.6580, 0.1264, 0.2157],\n",
            "        [0.5979, 0.1313, 0.2708],\n",
            "        [0.7067, 0.1769, 0.1164],\n",
            "        [0.6852, 0.1876, 0.1271],\n",
            "        [0.3402, 0.1291, 0.5307]], device='cuda:0', grad_fn=<SoftmaxBackward0>)\n",
            "training outputs\n",
            "tensor([[0.6182, 0.1493, 0.2325],\n",
            "        [0.1505, 0.3352, 0.5142],\n",
            "        [0.4768, 0.3808, 0.1424],\n",
            "        [0.6580, 0.1264, 0.2157],\n",
            "        [0.5979, 0.1313, 0.2708],\n",
            "        [0.7067, 0.1769, 0.1164],\n",
            "        [0.6852, 0.1876, 0.1271],\n",
            "        [0.3402, 0.1291, 0.5307]], device='cuda:0', grad_fn=<SoftmaxBackward0>)\n",
            "prediction: tensor([0, 2, 0, 0, 0, 0, 0, 2], device='cuda:0')\n",
            "train labels: tensor([0, 2, 0, 0, 1, 0, 1, 2], device='cuda:0')\n"
          ]
        },
        {
          "output_type": "stream",
          "name": "stderr",
          "text": [
            "\r 35%|███▍      | 22/63 [00:15<00:29,  1.37it/s]"
          ]
        },
        {
          "output_type": "stream",
          "name": "stdout",
          "text": [
            "training logits: tensor([[0.2219, 0.3639, 0.4143],\n",
            "        [0.5264, 0.2610, 0.2126],\n",
            "        [0.6619, 0.1955, 0.1426],\n",
            "        [0.2577, 0.2951, 0.4472],\n",
            "        [0.1170, 0.4326, 0.4504],\n",
            "        [0.2850, 0.2685, 0.4466],\n",
            "        [0.4528, 0.2185, 0.3287],\n",
            "        [0.2184, 0.6965, 0.0852]], device='cuda:0', grad_fn=<SoftmaxBackward0>)\n",
            "training outputs\n",
            "tensor([[0.2219, 0.3639, 0.4143],\n",
            "        [0.5264, 0.2610, 0.2126],\n",
            "        [0.6619, 0.1955, 0.1426],\n",
            "        [0.2577, 0.2951, 0.4472],\n",
            "        [0.1170, 0.4326, 0.4504],\n",
            "        [0.2850, 0.2685, 0.4466],\n",
            "        [0.4528, 0.2185, 0.3287],\n",
            "        [0.2184, 0.6965, 0.0852]], device='cuda:0', grad_fn=<SoftmaxBackward0>)\n",
            "prediction: tensor([2, 0, 0, 2, 2, 2, 0, 1], device='cuda:0')\n",
            "train labels: tensor([2, 2, 0, 1, 1, 1, 0, 0], device='cuda:0')\n"
          ]
        },
        {
          "output_type": "stream",
          "name": "stderr",
          "text": [
            "\r 37%|███▋      | 23/63 [00:16<00:29,  1.37it/s]"
          ]
        },
        {
          "output_type": "stream",
          "name": "stdout",
          "text": [
            "training logits: tensor([[0.2913, 0.6168, 0.0919],\n",
            "        [0.2152, 0.1777, 0.6071],\n",
            "        [0.0894, 0.1193, 0.7913],\n",
            "        [0.6016, 0.2460, 0.1525],\n",
            "        [0.6692, 0.1736, 0.1572],\n",
            "        [0.7180, 0.1606, 0.1215],\n",
            "        [0.4723, 0.3955, 0.1322],\n",
            "        [0.5494, 0.1596, 0.2909]], device='cuda:0', grad_fn=<SoftmaxBackward0>)\n",
            "training outputs\n",
            "tensor([[0.2913, 0.6168, 0.0919],\n",
            "        [0.2152, 0.1777, 0.6071],\n",
            "        [0.0894, 0.1193, 0.7913],\n",
            "        [0.6016, 0.2460, 0.1525],\n",
            "        [0.6692, 0.1736, 0.1572],\n",
            "        [0.7180, 0.1606, 0.1215],\n",
            "        [0.4723, 0.3955, 0.1322],\n",
            "        [0.5494, 0.1596, 0.2909]], device='cuda:0', grad_fn=<SoftmaxBackward0>)\n",
            "prediction: tensor([1, 2, 2, 0, 0, 0, 0, 0], device='cuda:0')\n",
            "train labels: tensor([1, 2, 2, 0, 1, 1, 2, 0], device='cuda:0')\n"
          ]
        },
        {
          "output_type": "stream",
          "name": "stderr",
          "text": [
            "\r 38%|███▊      | 24/63 [00:17<00:28,  1.37it/s]"
          ]
        },
        {
          "output_type": "stream",
          "name": "stdout",
          "text": [
            "training logits: tensor([[0.1682, 0.1700, 0.6618],\n",
            "        [0.2262, 0.1243, 0.6495],\n",
            "        [0.6652, 0.1814, 0.1534],\n",
            "        [0.2468, 0.5412, 0.2120],\n",
            "        [0.6319, 0.1847, 0.1834],\n",
            "        [0.2628, 0.2516, 0.4856],\n",
            "        [0.4202, 0.3446, 0.2352],\n",
            "        [0.1197, 0.1278, 0.7525]], device='cuda:0', grad_fn=<SoftmaxBackward0>)\n",
            "training outputs\n",
            "tensor([[0.1682, 0.1700, 0.6618],\n",
            "        [0.2262, 0.1243, 0.6495],\n",
            "        [0.6652, 0.1814, 0.1534],\n",
            "        [0.2468, 0.5412, 0.2120],\n",
            "        [0.6319, 0.1847, 0.1834],\n",
            "        [0.2628, 0.2516, 0.4856],\n",
            "        [0.4202, 0.3446, 0.2352],\n",
            "        [0.1197, 0.1278, 0.7525]], device='cuda:0', grad_fn=<SoftmaxBackward0>)\n",
            "prediction: tensor([2, 2, 0, 1, 0, 2, 0, 2], device='cuda:0')\n",
            "train labels: tensor([2, 0, 2, 1, 0, 1, 2, 2], device='cuda:0')\n"
          ]
        },
        {
          "output_type": "stream",
          "name": "stderr",
          "text": [
            "\r 40%|███▉      | 25/63 [00:17<00:27,  1.37it/s]"
          ]
        },
        {
          "output_type": "stream",
          "name": "stdout",
          "text": [
            "training logits: tensor([[0.1722, 0.1483, 0.6795],\n",
            "        [0.6573, 0.2140, 0.1287],\n",
            "        [0.5182, 0.4101, 0.0717],\n",
            "        [0.3210, 0.5593, 0.1197],\n",
            "        [0.5875, 0.2089, 0.2036],\n",
            "        [0.7315, 0.1159, 0.1526],\n",
            "        [0.3378, 0.4733, 0.1889],\n",
            "        [0.4664, 0.3297, 0.2039]], device='cuda:0', grad_fn=<SoftmaxBackward0>)\n",
            "training outputs\n",
            "tensor([[0.1722, 0.1483, 0.6795],\n",
            "        [0.6573, 0.2140, 0.1287],\n",
            "        [0.5182, 0.4101, 0.0717],\n",
            "        [0.3210, 0.5593, 0.1197],\n",
            "        [0.5875, 0.2089, 0.2036],\n",
            "        [0.7315, 0.1159, 0.1526],\n",
            "        [0.3378, 0.4733, 0.1889],\n",
            "        [0.4664, 0.3297, 0.2039]], device='cuda:0', grad_fn=<SoftmaxBackward0>)\n",
            "prediction: tensor([2, 0, 0, 1, 0, 0, 1, 0], device='cuda:0')\n",
            "train labels: tensor([2, 0, 1, 1, 0, 2, 2, 0], device='cuda:0')\n"
          ]
        },
        {
          "output_type": "stream",
          "name": "stderr",
          "text": [
            "\r 41%|████▏     | 26/63 [00:18<00:27,  1.37it/s]"
          ]
        },
        {
          "output_type": "stream",
          "name": "stdout",
          "text": [
            "training logits: tensor([[0.6850, 0.2250, 0.0900],\n",
            "        [0.5628, 0.2182, 0.2190],\n",
            "        [0.3245, 0.5269, 0.1486],\n",
            "        [0.1298, 0.0550, 0.8152],\n",
            "        [0.1535, 0.6075, 0.2390],\n",
            "        [0.4191, 0.1714, 0.4095],\n",
            "        [0.7831, 0.1046, 0.1123],\n",
            "        [0.4904, 0.2924, 0.2172]], device='cuda:0', grad_fn=<SoftmaxBackward0>)\n",
            "training outputs\n",
            "tensor([[0.6850, 0.2250, 0.0900],\n",
            "        [0.5628, 0.2182, 0.2190],\n",
            "        [0.3245, 0.5269, 0.1486],\n",
            "        [0.1298, 0.0550, 0.8152],\n",
            "        [0.1535, 0.6075, 0.2390],\n",
            "        [0.4191, 0.1714, 0.4095],\n",
            "        [0.7831, 0.1046, 0.1123],\n",
            "        [0.4904, 0.2924, 0.2172]], device='cuda:0', grad_fn=<SoftmaxBackward0>)\n",
            "prediction: tensor([0, 0, 1, 2, 1, 0, 0, 0], device='cuda:0')\n",
            "train labels: tensor([0, 2, 1, 2, 1, 2, 1, 1], device='cuda:0')\n"
          ]
        },
        {
          "output_type": "stream",
          "name": "stderr",
          "text": [
            "\r 43%|████▎     | 27/63 [00:19<00:26,  1.37it/s]"
          ]
        },
        {
          "output_type": "stream",
          "name": "stdout",
          "text": [
            "training logits: tensor([[0.2390, 0.4579, 0.3030],\n",
            "        [0.5630, 0.2779, 0.1591],\n",
            "        [0.7912, 0.1496, 0.0591],\n",
            "        [0.2918, 0.3922, 0.3160],\n",
            "        [0.5189, 0.3261, 0.1550],\n",
            "        [0.1513, 0.3012, 0.5474],\n",
            "        [0.5036, 0.3088, 0.1877],\n",
            "        [0.5307, 0.2422, 0.2271]], device='cuda:0', grad_fn=<SoftmaxBackward0>)\n",
            "training outputs\n",
            "tensor([[0.2390, 0.4579, 0.3030],\n",
            "        [0.5630, 0.2779, 0.1591],\n",
            "        [0.7912, 0.1496, 0.0591],\n",
            "        [0.2918, 0.3922, 0.3160],\n",
            "        [0.5189, 0.3261, 0.1550],\n",
            "        [0.1513, 0.3012, 0.5474],\n",
            "        [0.5036, 0.3088, 0.1877],\n",
            "        [0.5307, 0.2422, 0.2271]], device='cuda:0', grad_fn=<SoftmaxBackward0>)\n",
            "prediction: tensor([1, 0, 0, 1, 0, 2, 0, 0], device='cuda:0')\n",
            "train labels: tensor([1, 1, 0, 1, 1, 1, 2, 0], device='cuda:0')\n"
          ]
        },
        {
          "output_type": "stream",
          "name": "stderr",
          "text": [
            "\r 44%|████▍     | 28/63 [00:20<00:25,  1.37it/s]"
          ]
        },
        {
          "output_type": "stream",
          "name": "stdout",
          "text": [
            "training logits: tensor([[0.2062, 0.1526, 0.6412],\n",
            "        [0.8022, 0.0755, 0.1223],\n",
            "        [0.5345, 0.2546, 0.2109],\n",
            "        [0.5861, 0.2562, 0.1577],\n",
            "        [0.1142, 0.4049, 0.4809],\n",
            "        [0.4437, 0.3093, 0.2470],\n",
            "        [0.3115, 0.5734, 0.1151],\n",
            "        [0.3074, 0.1447, 0.5479]], device='cuda:0', grad_fn=<SoftmaxBackward0>)\n",
            "training outputs\n",
            "tensor([[0.2062, 0.1526, 0.6412],\n",
            "        [0.8022, 0.0755, 0.1223],\n",
            "        [0.5345, 0.2546, 0.2109],\n",
            "        [0.5861, 0.2562, 0.1577],\n",
            "        [0.1142, 0.4049, 0.4809],\n",
            "        [0.4437, 0.3093, 0.2470],\n",
            "        [0.3115, 0.5734, 0.1151],\n",
            "        [0.3074, 0.1447, 0.5479]], device='cuda:0', grad_fn=<SoftmaxBackward0>)\n",
            "prediction: tensor([2, 0, 0, 0, 2, 0, 1, 2], device='cuda:0')\n",
            "train labels: tensor([2, 0, 2, 2, 2, 1, 1, 2], device='cuda:0')\n"
          ]
        },
        {
          "output_type": "stream",
          "name": "stderr",
          "text": [
            "\r 46%|████▌     | 29/63 [00:20<00:24,  1.37it/s]"
          ]
        },
        {
          "output_type": "stream",
          "name": "stdout",
          "text": [
            "training logits: tensor([[0.7300, 0.1746, 0.0954],\n",
            "        [0.5352, 0.2512, 0.2136],\n",
            "        [0.2093, 0.1770, 0.6138],\n",
            "        [0.5263, 0.2022, 0.2715],\n",
            "        [0.1896, 0.6180, 0.1924],\n",
            "        [0.1681, 0.1855, 0.6464],\n",
            "        [0.6063, 0.2434, 0.1503],\n",
            "        [0.1699, 0.1770, 0.6532]], device='cuda:0', grad_fn=<SoftmaxBackward0>)\n",
            "training outputs\n",
            "tensor([[0.7300, 0.1746, 0.0954],\n",
            "        [0.5352, 0.2512, 0.2136],\n",
            "        [0.2093, 0.1770, 0.6138],\n",
            "        [0.5263, 0.2022, 0.2715],\n",
            "        [0.1896, 0.6180, 0.1924],\n",
            "        [0.1681, 0.1855, 0.6464],\n",
            "        [0.6063, 0.2434, 0.1503],\n",
            "        [0.1699, 0.1770, 0.6532]], device='cuda:0', grad_fn=<SoftmaxBackward0>)\n",
            "prediction: tensor([0, 0, 2, 0, 1, 2, 0, 2], device='cuda:0')\n",
            "train labels: tensor([2, 0, 2, 1, 1, 1, 0, 2], device='cuda:0')\n"
          ]
        },
        {
          "output_type": "stream",
          "name": "stderr",
          "text": [
            "\r 48%|████▊     | 30/63 [00:21<00:24,  1.36it/s]"
          ]
        },
        {
          "output_type": "stream",
          "name": "stdout",
          "text": [
            "training logits: tensor([[0.3899, 0.3348, 0.2753],\n",
            "        [0.5196, 0.3843, 0.0962],\n",
            "        [0.5330, 0.2728, 0.1942],\n",
            "        [0.2867, 0.2340, 0.4793],\n",
            "        [0.2307, 0.4827, 0.2866],\n",
            "        [0.2363, 0.1531, 0.6106],\n",
            "        [0.5170, 0.2809, 0.2021],\n",
            "        [0.4426, 0.2647, 0.2927]], device='cuda:0', grad_fn=<SoftmaxBackward0>)\n",
            "training outputs\n",
            "tensor([[0.3899, 0.3348, 0.2753],\n",
            "        [0.5196, 0.3843, 0.0962],\n",
            "        [0.5330, 0.2728, 0.1942],\n",
            "        [0.2867, 0.2340, 0.4793],\n",
            "        [0.2307, 0.4827, 0.2866],\n",
            "        [0.2363, 0.1531, 0.6106],\n",
            "        [0.5170, 0.2809, 0.2021],\n",
            "        [0.4426, 0.2647, 0.2927]], device='cuda:0', grad_fn=<SoftmaxBackward0>)\n",
            "prediction: tensor([0, 0, 0, 2, 1, 2, 0, 0], device='cuda:0')\n",
            "train labels: tensor([2, 1, 1, 1, 1, 0, 2, 1], device='cuda:0')\n"
          ]
        },
        {
          "output_type": "stream",
          "name": "stderr",
          "text": [
            "\r 49%|████▉     | 31/63 [00:22<00:23,  1.36it/s]"
          ]
        },
        {
          "output_type": "stream",
          "name": "stdout",
          "text": [
            "training logits: tensor([[0.2469, 0.4871, 0.2660],\n",
            "        [0.3185, 0.5480, 0.1334],\n",
            "        [0.5083, 0.2517, 0.2400],\n",
            "        [0.3607, 0.3326, 0.3066],\n",
            "        [0.3384, 0.0924, 0.5692],\n",
            "        [0.5573, 0.2685, 0.1742],\n",
            "        [0.1798, 0.2979, 0.5223],\n",
            "        [0.2422, 0.2522, 0.5057]], device='cuda:0', grad_fn=<SoftmaxBackward0>)\n",
            "training outputs\n",
            "tensor([[0.2469, 0.4871, 0.2660],\n",
            "        [0.3185, 0.5480, 0.1334],\n",
            "        [0.5083, 0.2517, 0.2400],\n",
            "        [0.3607, 0.3326, 0.3066],\n",
            "        [0.3384, 0.0924, 0.5692],\n",
            "        [0.5573, 0.2685, 0.1742],\n",
            "        [0.1798, 0.2979, 0.5223],\n",
            "        [0.2422, 0.2522, 0.5057]], device='cuda:0', grad_fn=<SoftmaxBackward0>)\n",
            "prediction: tensor([1, 1, 0, 0, 2, 0, 2, 2], device='cuda:0')\n",
            "train labels: tensor([1, 1, 1, 1, 0, 0, 2, 2], device='cuda:0')\n"
          ]
        },
        {
          "output_type": "stream",
          "name": "stderr",
          "text": [
            "\r 51%|█████     | 32/63 [00:23<00:22,  1.35it/s]"
          ]
        },
        {
          "output_type": "stream",
          "name": "stdout",
          "text": [
            "training logits: tensor([[0.2873, 0.5722, 0.1405],\n",
            "        [0.7729, 0.1410, 0.0860],\n",
            "        [0.1433, 0.2926, 0.5641],\n",
            "        [0.6625, 0.1906, 0.1468],\n",
            "        [0.2692, 0.4760, 0.2548],\n",
            "        [0.1086, 0.7527, 0.1387],\n",
            "        [0.1651, 0.3011, 0.5338],\n",
            "        [0.5536, 0.2097, 0.2367]], device='cuda:0', grad_fn=<SoftmaxBackward0>)\n",
            "training outputs\n",
            "tensor([[0.2873, 0.5722, 0.1405],\n",
            "        [0.7729, 0.1410, 0.0860],\n",
            "        [0.1433, 0.2926, 0.5641],\n",
            "        [0.6625, 0.1906, 0.1468],\n",
            "        [0.2692, 0.4760, 0.2548],\n",
            "        [0.1086, 0.7527, 0.1387],\n",
            "        [0.1651, 0.3011, 0.5338],\n",
            "        [0.5536, 0.2097, 0.2367]], device='cuda:0', grad_fn=<SoftmaxBackward0>)\n",
            "prediction: tensor([1, 0, 2, 0, 1, 1, 2, 0], device='cuda:0')\n",
            "train labels: tensor([1, 0, 1, 0, 2, 1, 2, 2], device='cuda:0')\n"
          ]
        },
        {
          "output_type": "stream",
          "name": "stderr",
          "text": [
            "\r 52%|█████▏    | 33/63 [00:23<00:22,  1.35it/s]"
          ]
        },
        {
          "output_type": "stream",
          "name": "stdout",
          "text": [
            "training logits: tensor([[0.4761, 0.3026, 0.2214],\n",
            "        [0.2720, 0.4455, 0.2824],\n",
            "        [0.2701, 0.1981, 0.5318],\n",
            "        [0.6299, 0.1568, 0.2133],\n",
            "        [0.4142, 0.4415, 0.1443],\n",
            "        [0.1664, 0.4985, 0.3351],\n",
            "        [0.5350, 0.1490, 0.3159],\n",
            "        [0.3527, 0.4968, 0.1506]], device='cuda:0', grad_fn=<SoftmaxBackward0>)\n",
            "training outputs\n",
            "tensor([[0.4761, 0.3026, 0.2214],\n",
            "        [0.2720, 0.4455, 0.2824],\n",
            "        [0.2701, 0.1981, 0.5318],\n",
            "        [0.6299, 0.1568, 0.2133],\n",
            "        [0.4142, 0.4415, 0.1443],\n",
            "        [0.1664, 0.4985, 0.3351],\n",
            "        [0.5350, 0.1490, 0.3159],\n",
            "        [0.3527, 0.4968, 0.1506]], device='cuda:0', grad_fn=<SoftmaxBackward0>)\n",
            "prediction: tensor([0, 1, 2, 0, 1, 1, 0, 1], device='cuda:0')\n",
            "train labels: tensor([0, 2, 2, 0, 2, 1, 0, 2], device='cuda:0')\n"
          ]
        },
        {
          "output_type": "stream",
          "name": "stderr",
          "text": [
            "\r 54%|█████▍    | 34/63 [00:24<00:21,  1.35it/s]"
          ]
        },
        {
          "output_type": "stream",
          "name": "stdout",
          "text": [
            "training logits: tensor([[0.3695, 0.5687, 0.0618],\n",
            "        [0.1559, 0.4257, 0.4184],\n",
            "        [0.2731, 0.1047, 0.6222],\n",
            "        [0.1765, 0.5050, 0.3185],\n",
            "        [0.6852, 0.1139, 0.2009],\n",
            "        [0.3241, 0.6144, 0.0615],\n",
            "        [0.6615, 0.1525, 0.1860],\n",
            "        [0.7297, 0.1844, 0.0859]], device='cuda:0', grad_fn=<SoftmaxBackward0>)\n",
            "training outputs\n",
            "tensor([[0.3695, 0.5687, 0.0618],\n",
            "        [0.1559, 0.4257, 0.4184],\n",
            "        [0.2731, 0.1047, 0.6222],\n",
            "        [0.1765, 0.5050, 0.3185],\n",
            "        [0.6852, 0.1139, 0.2009],\n",
            "        [0.3241, 0.6144, 0.0615],\n",
            "        [0.6615, 0.1525, 0.1860],\n",
            "        [0.7297, 0.1844, 0.0859]], device='cuda:0', grad_fn=<SoftmaxBackward0>)\n",
            "prediction: tensor([1, 1, 2, 1, 0, 1, 0, 0], device='cuda:0')\n",
            "train labels: tensor([0, 2, 2, 1, 1, 2, 0, 0], device='cuda:0')\n"
          ]
        },
        {
          "output_type": "stream",
          "name": "stderr",
          "text": [
            "\r 56%|█████▌    | 35/63 [00:25<00:20,  1.35it/s]"
          ]
        },
        {
          "output_type": "stream",
          "name": "stdout",
          "text": [
            "training logits: tensor([[0.3901, 0.4859, 0.1241],\n",
            "        [0.4777, 0.3715, 0.1508],\n",
            "        [0.1814, 0.1745, 0.6441],\n",
            "        [0.1551, 0.1924, 0.6525],\n",
            "        [0.3508, 0.1157, 0.5334],\n",
            "        [0.3290, 0.4083, 0.2626],\n",
            "        [0.7225, 0.1978, 0.0797],\n",
            "        [0.0734, 0.1663, 0.7603]], device='cuda:0', grad_fn=<SoftmaxBackward0>)\n",
            "training outputs\n",
            "tensor([[0.3901, 0.4859, 0.1241],\n",
            "        [0.4777, 0.3715, 0.1508],\n",
            "        [0.1814, 0.1745, 0.6441],\n",
            "        [0.1551, 0.1924, 0.6525],\n",
            "        [0.3508, 0.1157, 0.5334],\n",
            "        [0.3290, 0.4083, 0.2626],\n",
            "        [0.7225, 0.1978, 0.0797],\n",
            "        [0.0734, 0.1663, 0.7603]], device='cuda:0', grad_fn=<SoftmaxBackward0>)\n",
            "prediction: tensor([1, 0, 2, 2, 2, 1, 0, 2], device='cuda:0')\n",
            "train labels: tensor([1, 2, 2, 2, 2, 0, 0, 2], device='cuda:0')\n"
          ]
        },
        {
          "output_type": "stream",
          "name": "stderr",
          "text": [
            "\r 57%|█████▋    | 36/63 [00:26<00:20,  1.34it/s]"
          ]
        },
        {
          "output_type": "stream",
          "name": "stdout",
          "text": [
            "training logits: tensor([[0.5050, 0.3711, 0.1240],\n",
            "        [0.3662, 0.4087, 0.2251],\n",
            "        [0.3132, 0.3099, 0.3769],\n",
            "        [0.4541, 0.3369, 0.2089],\n",
            "        [0.2948, 0.4299, 0.2754],\n",
            "        [0.5253, 0.0994, 0.3752],\n",
            "        [0.1783, 0.6698, 0.1519],\n",
            "        [0.1739, 0.4811, 0.3450]], device='cuda:0', grad_fn=<SoftmaxBackward0>)\n",
            "training outputs\n",
            "tensor([[0.5050, 0.3711, 0.1240],\n",
            "        [0.3662, 0.4087, 0.2251],\n",
            "        [0.3132, 0.3099, 0.3769],\n",
            "        [0.4541, 0.3369, 0.2089],\n",
            "        [0.2948, 0.4299, 0.2754],\n",
            "        [0.5253, 0.0994, 0.3752],\n",
            "        [0.1783, 0.6698, 0.1519],\n",
            "        [0.1739, 0.4811, 0.3450]], device='cuda:0', grad_fn=<SoftmaxBackward0>)\n",
            "prediction: tensor([0, 1, 2, 0, 1, 0, 1, 1], device='cuda:0')\n",
            "train labels: tensor([0, 0, 0, 1, 0, 2, 1, 2], device='cuda:0')\n"
          ]
        },
        {
          "output_type": "stream",
          "name": "stderr",
          "text": [
            "\r 59%|█████▊    | 37/63 [00:26<00:19,  1.34it/s]"
          ]
        },
        {
          "output_type": "stream",
          "name": "stdout",
          "text": [
            "training logits: tensor([[0.2290, 0.1163, 0.6546],\n",
            "        [0.2072, 0.5236, 0.2693],\n",
            "        [0.4663, 0.2393, 0.2944],\n",
            "        [0.2990, 0.2047, 0.4963],\n",
            "        [0.2596, 0.3243, 0.4161],\n",
            "        [0.3691, 0.2822, 0.3487],\n",
            "        [0.2427, 0.2486, 0.5087],\n",
            "        [0.1527, 0.3557, 0.4916]], device='cuda:0', grad_fn=<SoftmaxBackward0>)\n",
            "training outputs\n",
            "tensor([[0.2290, 0.1163, 0.6546],\n",
            "        [0.2072, 0.5236, 0.2693],\n",
            "        [0.4663, 0.2393, 0.2944],\n",
            "        [0.2990, 0.2047, 0.4963],\n",
            "        [0.2596, 0.3243, 0.4161],\n",
            "        [0.3691, 0.2822, 0.3487],\n",
            "        [0.2427, 0.2486, 0.5087],\n",
            "        [0.1527, 0.3557, 0.4916]], device='cuda:0', grad_fn=<SoftmaxBackward0>)\n",
            "prediction: tensor([2, 1, 0, 2, 2, 0, 2, 2], device='cuda:0')\n",
            "train labels: tensor([2, 1, 0, 1, 1, 2, 2, 2], device='cuda:0')\n"
          ]
        },
        {
          "output_type": "stream",
          "name": "stderr",
          "text": [
            "\r 60%|██████    | 38/63 [00:27<00:18,  1.34it/s]"
          ]
        },
        {
          "output_type": "stream",
          "name": "stdout",
          "text": [
            "training logits: tensor([[0.3832, 0.1459, 0.4710],\n",
            "        [0.2404, 0.5652, 0.1944],\n",
            "        [0.1135, 0.6964, 0.1901],\n",
            "        [0.3430, 0.1257, 0.5313],\n",
            "        [0.3332, 0.3981, 0.2687],\n",
            "        [0.4152, 0.3571, 0.2277],\n",
            "        [0.1736, 0.6844, 0.1420],\n",
            "        [0.2573, 0.5247, 0.2180]], device='cuda:0', grad_fn=<SoftmaxBackward0>)\n",
            "training outputs\n",
            "tensor([[0.3832, 0.1459, 0.4710],\n",
            "        [0.2404, 0.5652, 0.1944],\n",
            "        [0.1135, 0.6964, 0.1901],\n",
            "        [0.3430, 0.1257, 0.5313],\n",
            "        [0.3332, 0.3981, 0.2687],\n",
            "        [0.4152, 0.3571, 0.2277],\n",
            "        [0.1736, 0.6844, 0.1420],\n",
            "        [0.2573, 0.5247, 0.2180]], device='cuda:0', grad_fn=<SoftmaxBackward0>)\n",
            "prediction: tensor([2, 1, 1, 2, 1, 0, 1, 1], device='cuda:0')\n",
            "train labels: tensor([0, 1, 1, 2, 2, 2, 1, 1], device='cuda:0')\n"
          ]
        },
        {
          "output_type": "stream",
          "name": "stderr",
          "text": [
            "\r 62%|██████▏   | 39/63 [00:28<00:17,  1.34it/s]"
          ]
        },
        {
          "output_type": "stream",
          "name": "stdout",
          "text": [
            "training logits: tensor([[0.1326, 0.7151, 0.1524],\n",
            "        [0.5194, 0.3542, 0.1264],\n",
            "        [0.2669, 0.4228, 0.3103],\n",
            "        [0.1401, 0.6537, 0.2062],\n",
            "        [0.5506, 0.0652, 0.3842],\n",
            "        [0.3964, 0.4293, 0.1743],\n",
            "        [0.2772, 0.1256, 0.5972],\n",
            "        [0.1325, 0.3980, 0.4694]], device='cuda:0', grad_fn=<SoftmaxBackward0>)\n",
            "training outputs\n",
            "tensor([[0.1326, 0.7151, 0.1524],\n",
            "        [0.5194, 0.3542, 0.1264],\n",
            "        [0.2669, 0.4228, 0.3103],\n",
            "        [0.1401, 0.6537, 0.2062],\n",
            "        [0.5506, 0.0652, 0.3842],\n",
            "        [0.3964, 0.4293, 0.1743],\n",
            "        [0.2772, 0.1256, 0.5972],\n",
            "        [0.1325, 0.3980, 0.4694]], device='cuda:0', grad_fn=<SoftmaxBackward0>)\n",
            "prediction: tensor([1, 0, 1, 1, 0, 1, 2, 2], device='cuda:0')\n",
            "train labels: tensor([1, 0, 1, 1, 2, 1, 0, 2], device='cuda:0')\n"
          ]
        },
        {
          "output_type": "stream",
          "name": "stderr",
          "text": [
            "\r 63%|██████▎   | 40/63 [00:29<00:17,  1.34it/s]"
          ]
        },
        {
          "output_type": "stream",
          "name": "stdout",
          "text": [
            "training logits: tensor([[0.1551, 0.3027, 0.5422],\n",
            "        [0.2724, 0.2643, 0.4633],\n",
            "        [0.4607, 0.1406, 0.3988],\n",
            "        [0.2927, 0.2092, 0.4981],\n",
            "        [0.3024, 0.4308, 0.2668],\n",
            "        [0.1228, 0.1397, 0.7375],\n",
            "        [0.1640, 0.7626, 0.0734],\n",
            "        [0.2567, 0.1080, 0.6353]], device='cuda:0', grad_fn=<SoftmaxBackward0>)\n",
            "training outputs\n",
            "tensor([[0.1551, 0.3027, 0.5422],\n",
            "        [0.2724, 0.2643, 0.4633],\n",
            "        [0.4607, 0.1406, 0.3988],\n",
            "        [0.2927, 0.2092, 0.4981],\n",
            "        [0.3024, 0.4308, 0.2668],\n",
            "        [0.1228, 0.1397, 0.7375],\n",
            "        [0.1640, 0.7626, 0.0734],\n",
            "        [0.2567, 0.1080, 0.6353]], device='cuda:0', grad_fn=<SoftmaxBackward0>)\n",
            "prediction: tensor([2, 2, 0, 2, 1, 2, 1, 2], device='cuda:0')\n",
            "train labels: tensor([2, 2, 0, 2, 1, 2, 1, 2], device='cuda:0')\n"
          ]
        },
        {
          "output_type": "stream",
          "name": "stderr",
          "text": [
            "\r 65%|██████▌   | 41/63 [00:29<00:16,  1.34it/s]"
          ]
        },
        {
          "output_type": "stream",
          "name": "stdout",
          "text": [
            "training logits: tensor([[0.4520, 0.1256, 0.4224],\n",
            "        [0.6520, 0.1053, 0.2427],\n",
            "        [0.3629, 0.4633, 0.1739],\n",
            "        [0.2195, 0.5112, 0.2693],\n",
            "        [0.4410, 0.4019, 0.1571],\n",
            "        [0.7824, 0.1011, 0.1165],\n",
            "        [0.4737, 0.3846, 0.1417],\n",
            "        [0.4291, 0.1476, 0.4233]], device='cuda:0', grad_fn=<SoftmaxBackward0>)\n",
            "training outputs\n",
            "tensor([[0.4520, 0.1256, 0.4224],\n",
            "        [0.6520, 0.1053, 0.2427],\n",
            "        [0.3629, 0.4633, 0.1739],\n",
            "        [0.2195, 0.5112, 0.2693],\n",
            "        [0.4410, 0.4019, 0.1571],\n",
            "        [0.7824, 0.1011, 0.1165],\n",
            "        [0.4737, 0.3846, 0.1417],\n",
            "        [0.4291, 0.1476, 0.4233]], device='cuda:0', grad_fn=<SoftmaxBackward0>)\n",
            "prediction: tensor([0, 0, 1, 1, 0, 0, 0, 0], device='cuda:0')\n",
            "train labels: tensor([2, 0, 0, 2, 1, 0, 2, 0], device='cuda:0')\n"
          ]
        },
        {
          "output_type": "stream",
          "name": "stderr",
          "text": [
            "\r 67%|██████▋   | 42/63 [00:30<00:15,  1.34it/s]"
          ]
        },
        {
          "output_type": "stream",
          "name": "stdout",
          "text": [
            "training logits: tensor([[0.1390, 0.3059, 0.5550],\n",
            "        [0.1268, 0.1358, 0.7375],\n",
            "        [0.6475, 0.1399, 0.2126],\n",
            "        [0.3820, 0.0748, 0.5432],\n",
            "        [0.4635, 0.3036, 0.2329],\n",
            "        [0.7590, 0.1043, 0.1367],\n",
            "        [0.1925, 0.1116, 0.6959],\n",
            "        [0.0676, 0.0930, 0.8394]], device='cuda:0', grad_fn=<SoftmaxBackward0>)\n",
            "training outputs\n",
            "tensor([[0.1390, 0.3059, 0.5550],\n",
            "        [0.1268, 0.1358, 0.7375],\n",
            "        [0.6475, 0.1399, 0.2126],\n",
            "        [0.3820, 0.0748, 0.5432],\n",
            "        [0.4635, 0.3036, 0.2329],\n",
            "        [0.7590, 0.1043, 0.1367],\n",
            "        [0.1925, 0.1116, 0.6959],\n",
            "        [0.0676, 0.0930, 0.8394]], device='cuda:0', grad_fn=<SoftmaxBackward0>)\n",
            "prediction: tensor([2, 2, 0, 2, 0, 0, 2, 2], device='cuda:0')\n",
            "train labels: tensor([2, 2, 0, 1, 2, 0, 2, 0], device='cuda:0')\n"
          ]
        },
        {
          "output_type": "stream",
          "name": "stderr",
          "text": [
            "\r 68%|██████▊   | 43/63 [00:31<00:14,  1.34it/s]"
          ]
        },
        {
          "output_type": "stream",
          "name": "stdout",
          "text": [
            "training logits: tensor([[0.5485, 0.1727, 0.2788],\n",
            "        [0.0672, 0.1515, 0.7814],\n",
            "        [0.5783, 0.0896, 0.3321],\n",
            "        [0.3205, 0.3446, 0.3349],\n",
            "        [0.2840, 0.6058, 0.1103],\n",
            "        [0.8203, 0.0793, 0.1004],\n",
            "        [0.3194, 0.0565, 0.6242],\n",
            "        [0.1179, 0.3619, 0.5202]], device='cuda:0', grad_fn=<SoftmaxBackward0>)\n",
            "training outputs\n",
            "tensor([[0.5485, 0.1727, 0.2788],\n",
            "        [0.0672, 0.1515, 0.7814],\n",
            "        [0.5783, 0.0896, 0.3321],\n",
            "        [0.3205, 0.3446, 0.3349],\n",
            "        [0.2840, 0.6058, 0.1103],\n",
            "        [0.8203, 0.0793, 0.1004],\n",
            "        [0.3194, 0.0565, 0.6242],\n",
            "        [0.1179, 0.3619, 0.5202]], device='cuda:0', grad_fn=<SoftmaxBackward0>)\n",
            "prediction: tensor([0, 2, 0, 1, 1, 0, 2, 2], device='cuda:0')\n",
            "train labels: tensor([0, 2, 0, 1, 1, 0, 2, 1], device='cuda:0')\n"
          ]
        },
        {
          "output_type": "stream",
          "name": "stderr",
          "text": [
            "\r 70%|██████▉   | 44/63 [00:32<00:14,  1.33it/s]"
          ]
        },
        {
          "output_type": "stream",
          "name": "stdout",
          "text": [
            "training logits: tensor([[0.1759, 0.5772, 0.2469],\n",
            "        [0.4041, 0.5166, 0.0793],\n",
            "        [0.6330, 0.0936, 0.2734],\n",
            "        [0.4429, 0.4300, 0.1271],\n",
            "        [0.7008, 0.1219, 0.1773],\n",
            "        [0.7395, 0.1014, 0.1591],\n",
            "        [0.2666, 0.2194, 0.5140],\n",
            "        [0.4102, 0.3492, 0.2406]], device='cuda:0', grad_fn=<SoftmaxBackward0>)\n",
            "training outputs\n",
            "tensor([[0.1759, 0.5772, 0.2469],\n",
            "        [0.4041, 0.5166, 0.0793],\n",
            "        [0.6330, 0.0936, 0.2734],\n",
            "        [0.4429, 0.4300, 0.1271],\n",
            "        [0.7008, 0.1219, 0.1773],\n",
            "        [0.7395, 0.1014, 0.1591],\n",
            "        [0.2666, 0.2194, 0.5140],\n",
            "        [0.4102, 0.3492, 0.2406]], device='cuda:0', grad_fn=<SoftmaxBackward0>)\n",
            "prediction: tensor([1, 1, 0, 0, 0, 0, 2, 0], device='cuda:0')\n",
            "train labels: tensor([2, 1, 0, 0, 0, 0, 2, 0], device='cuda:0')\n"
          ]
        },
        {
          "output_type": "stream",
          "name": "stderr",
          "text": [
            "\r 71%|███████▏  | 45/63 [00:32<00:13,  1.34it/s]"
          ]
        },
        {
          "output_type": "stream",
          "name": "stdout",
          "text": [
            "training logits: tensor([[0.4405, 0.1383, 0.4212],\n",
            "        [0.1507, 0.5499, 0.2994],\n",
            "        [0.5880, 0.1891, 0.2229],\n",
            "        [0.2356, 0.1197, 0.6447],\n",
            "        [0.2432, 0.5963, 0.1605],\n",
            "        [0.0617, 0.1805, 0.7578],\n",
            "        [0.6823, 0.0918, 0.2259],\n",
            "        [0.3380, 0.4519, 0.2101]], device='cuda:0', grad_fn=<SoftmaxBackward0>)\n",
            "training outputs\n",
            "tensor([[0.4405, 0.1383, 0.4212],\n",
            "        [0.1507, 0.5499, 0.2994],\n",
            "        [0.5880, 0.1891, 0.2229],\n",
            "        [0.2356, 0.1197, 0.6447],\n",
            "        [0.2432, 0.5963, 0.1605],\n",
            "        [0.0617, 0.1805, 0.7578],\n",
            "        [0.6823, 0.0918, 0.2259],\n",
            "        [0.3380, 0.4519, 0.2101]], device='cuda:0', grad_fn=<SoftmaxBackward0>)\n",
            "prediction: tensor([0, 1, 0, 2, 1, 2, 0, 1], device='cuda:0')\n",
            "train labels: tensor([0, 1, 0, 2, 1, 2, 1, 1], device='cuda:0')\n"
          ]
        },
        {
          "output_type": "stream",
          "name": "stderr",
          "text": [
            "\r 73%|███████▎  | 46/63 [00:33<00:12,  1.34it/s]"
          ]
        },
        {
          "output_type": "stream",
          "name": "stdout",
          "text": [
            "training logits: tensor([[0.1058, 0.3545, 0.5398],\n",
            "        [0.1186, 0.1891, 0.6923],\n",
            "        [0.1550, 0.0608, 0.7843],\n",
            "        [0.1983, 0.1735, 0.6281],\n",
            "        [0.2205, 0.6883, 0.0912],\n",
            "        [0.5380, 0.2619, 0.2001],\n",
            "        [0.4042, 0.4158, 0.1800],\n",
            "        [0.2414, 0.5267, 0.2319]], device='cuda:0', grad_fn=<SoftmaxBackward0>)\n",
            "training outputs\n",
            "tensor([[0.1058, 0.3545, 0.5398],\n",
            "        [0.1186, 0.1891, 0.6923],\n",
            "        [0.1550, 0.0608, 0.7843],\n",
            "        [0.1983, 0.1735, 0.6281],\n",
            "        [0.2205, 0.6883, 0.0912],\n",
            "        [0.5380, 0.2619, 0.2001],\n",
            "        [0.4042, 0.4158, 0.1800],\n",
            "        [0.2414, 0.5267, 0.2319]], device='cuda:0', grad_fn=<SoftmaxBackward0>)\n",
            "prediction: tensor([2, 2, 2, 2, 1, 0, 1, 1], device='cuda:0')\n",
            "train labels: tensor([2, 2, 2, 2, 1, 0, 1, 1], device='cuda:0')\n"
          ]
        },
        {
          "output_type": "stream",
          "name": "stderr",
          "text": [
            "\r 75%|███████▍  | 47/63 [00:34<00:11,  1.34it/s]"
          ]
        },
        {
          "output_type": "stream",
          "name": "stdout",
          "text": [
            "training logits: tensor([[0.1339, 0.0651, 0.8009],\n",
            "        [0.1681, 0.6971, 0.1348],\n",
            "        [0.1703, 0.2602, 0.5694],\n",
            "        [0.7240, 0.0904, 0.1856],\n",
            "        [0.1774, 0.5575, 0.2650],\n",
            "        [0.1607, 0.7322, 0.1071],\n",
            "        [0.0877, 0.6203, 0.2920],\n",
            "        [0.7546, 0.0983, 0.1471]], device='cuda:0', grad_fn=<SoftmaxBackward0>)\n",
            "training outputs\n",
            "tensor([[0.1339, 0.0651, 0.8009],\n",
            "        [0.1681, 0.6971, 0.1348],\n",
            "        [0.1703, 0.2602, 0.5694],\n",
            "        [0.7240, 0.0904, 0.1856],\n",
            "        [0.1774, 0.5575, 0.2650],\n",
            "        [0.1607, 0.7322, 0.1071],\n",
            "        [0.0877, 0.6203, 0.2920],\n",
            "        [0.7546, 0.0983, 0.1471]], device='cuda:0', grad_fn=<SoftmaxBackward0>)\n",
            "prediction: tensor([2, 1, 2, 0, 1, 1, 1, 0], device='cuda:0')\n",
            "train labels: tensor([2, 1, 2, 0, 1, 1, 0, 0], device='cuda:0')\n"
          ]
        },
        {
          "output_type": "stream",
          "name": "stderr",
          "text": [
            "\r 76%|███████▌  | 48/63 [00:35<00:11,  1.34it/s]"
          ]
        },
        {
          "output_type": "stream",
          "name": "stdout",
          "text": [
            "training logits: tensor([[0.2758, 0.2224, 0.5018],\n",
            "        [0.7771, 0.0989, 0.1240],\n",
            "        [0.5974, 0.1597, 0.2429],\n",
            "        [0.5656, 0.1872, 0.2472],\n",
            "        [0.7268, 0.0829, 0.1902],\n",
            "        [0.2015, 0.4208, 0.3777],\n",
            "        [0.5334, 0.1926, 0.2740],\n",
            "        [0.1354, 0.5087, 0.3560]], device='cuda:0', grad_fn=<SoftmaxBackward0>)\n",
            "training outputs\n",
            "tensor([[0.2758, 0.2224, 0.5018],\n",
            "        [0.7771, 0.0989, 0.1240],\n",
            "        [0.5974, 0.1597, 0.2429],\n",
            "        [0.5656, 0.1872, 0.2472],\n",
            "        [0.7268, 0.0829, 0.1902],\n",
            "        [0.2015, 0.4208, 0.3777],\n",
            "        [0.5334, 0.1926, 0.2740],\n",
            "        [0.1354, 0.5087, 0.3560]], device='cuda:0', grad_fn=<SoftmaxBackward0>)\n",
            "prediction: tensor([2, 0, 0, 0, 0, 1, 0, 1], device='cuda:0')\n",
            "train labels: tensor([1, 0, 1, 2, 0, 0, 0, 1], device='cuda:0')\n"
          ]
        },
        {
          "output_type": "stream",
          "name": "stderr",
          "text": [
            "\r 78%|███████▊  | 49/63 [00:35<00:10,  1.34it/s]"
          ]
        },
        {
          "output_type": "stream",
          "name": "stdout",
          "text": [
            "training logits: tensor([[0.3805, 0.0762, 0.5432],\n",
            "        [0.1516, 0.3193, 0.5291],\n",
            "        [0.7772, 0.0941, 0.1287],\n",
            "        [0.7799, 0.0885, 0.1315],\n",
            "        [0.3377, 0.1793, 0.4831],\n",
            "        [0.8140, 0.0895, 0.0965],\n",
            "        [0.0856, 0.1831, 0.7313],\n",
            "        [0.2269, 0.3086, 0.4645]], device='cuda:0', grad_fn=<SoftmaxBackward0>)\n",
            "training outputs\n",
            "tensor([[0.3805, 0.0762, 0.5432],\n",
            "        [0.1516, 0.3193, 0.5291],\n",
            "        [0.7772, 0.0941, 0.1287],\n",
            "        [0.7799, 0.0885, 0.1315],\n",
            "        [0.3377, 0.1793, 0.4831],\n",
            "        [0.8140, 0.0895, 0.0965],\n",
            "        [0.0856, 0.1831, 0.7313],\n",
            "        [0.2269, 0.3086, 0.4645]], device='cuda:0', grad_fn=<SoftmaxBackward0>)\n",
            "prediction: tensor([2, 2, 0, 0, 2, 0, 2, 2], device='cuda:0')\n",
            "train labels: tensor([0, 1, 2, 1, 2, 1, 0, 2], device='cuda:0')\n"
          ]
        },
        {
          "output_type": "stream",
          "name": "stderr",
          "text": [
            "\r 79%|███████▉  | 50/63 [00:36<00:09,  1.33it/s]"
          ]
        },
        {
          "output_type": "stream",
          "name": "stdout",
          "text": [
            "training logits: tensor([[0.2180, 0.2467, 0.5352],\n",
            "        [0.1022, 0.1758, 0.7220],\n",
            "        [0.1770, 0.7224, 0.1006],\n",
            "        [0.6415, 0.1286, 0.2299],\n",
            "        [0.8118, 0.0520, 0.1362],\n",
            "        [0.8495, 0.0452, 0.1053],\n",
            "        [0.7344, 0.1635, 0.1021],\n",
            "        [0.1938, 0.6421, 0.1641]], device='cuda:0', grad_fn=<SoftmaxBackward0>)\n",
            "training outputs\n",
            "tensor([[0.2180, 0.2467, 0.5352],\n",
            "        [0.1022, 0.1758, 0.7220],\n",
            "        [0.1770, 0.7224, 0.1006],\n",
            "        [0.6415, 0.1286, 0.2299],\n",
            "        [0.8118, 0.0520, 0.1362],\n",
            "        [0.8495, 0.0452, 0.1053],\n",
            "        [0.7344, 0.1635, 0.1021],\n",
            "        [0.1938, 0.6421, 0.1641]], device='cuda:0', grad_fn=<SoftmaxBackward0>)\n",
            "prediction: tensor([2, 2, 1, 0, 0, 0, 0, 1], device='cuda:0')\n",
            "train labels: tensor([1, 0, 1, 1, 0, 0, 1, 2], device='cuda:0')\n"
          ]
        },
        {
          "output_type": "stream",
          "name": "stderr",
          "text": [
            "\r 81%|████████  | 51/63 [00:37<00:08,  1.34it/s]"
          ]
        },
        {
          "output_type": "stream",
          "name": "stdout",
          "text": [
            "training logits: tensor([[0.1972, 0.5165, 0.2864],\n",
            "        [0.1681, 0.3489, 0.4830],\n",
            "        [0.1565, 0.7337, 0.1098],\n",
            "        [0.7485, 0.0926, 0.1589],\n",
            "        [0.6703, 0.1797, 0.1500],\n",
            "        [0.3083, 0.4036, 0.2881],\n",
            "        [0.8410, 0.0568, 0.1022],\n",
            "        [0.4680, 0.1293, 0.4027]], device='cuda:0', grad_fn=<SoftmaxBackward0>)\n",
            "training outputs\n",
            "tensor([[0.1972, 0.5165, 0.2864],\n",
            "        [0.1681, 0.3489, 0.4830],\n",
            "        [0.1565, 0.7337, 0.1098],\n",
            "        [0.7485, 0.0926, 0.1589],\n",
            "        [0.6703, 0.1797, 0.1500],\n",
            "        [0.3083, 0.4036, 0.2881],\n",
            "        [0.8410, 0.0568, 0.1022],\n",
            "        [0.4680, 0.1293, 0.4027]], device='cuda:0', grad_fn=<SoftmaxBackward0>)\n",
            "prediction: tensor([1, 2, 1, 0, 0, 1, 0, 0], device='cuda:0')\n",
            "train labels: tensor([1, 1, 1, 0, 1, 1, 0, 2], device='cuda:0')\n"
          ]
        },
        {
          "output_type": "stream",
          "name": "stderr",
          "text": [
            "\r 83%|████████▎ | 52/63 [00:38<00:08,  1.34it/s]"
          ]
        },
        {
          "output_type": "stream",
          "name": "stdout",
          "text": [
            "training logits: tensor([[0.6107, 0.1992, 0.1901],\n",
            "        [0.4533, 0.3869, 0.1598],\n",
            "        [0.8431, 0.0797, 0.0772],\n",
            "        [0.7554, 0.1456, 0.0990],\n",
            "        [0.5965, 0.0466, 0.3569],\n",
            "        [0.2028, 0.1915, 0.6058],\n",
            "        [0.3620, 0.5274, 0.1106],\n",
            "        [0.1694, 0.3063, 0.5243]], device='cuda:0', grad_fn=<SoftmaxBackward0>)\n",
            "training outputs\n",
            "tensor([[0.6107, 0.1992, 0.1901],\n",
            "        [0.4533, 0.3869, 0.1598],\n",
            "        [0.8431, 0.0797, 0.0772],\n",
            "        [0.7554, 0.1456, 0.0990],\n",
            "        [0.5965, 0.0466, 0.3569],\n",
            "        [0.2028, 0.1915, 0.6058],\n",
            "        [0.3620, 0.5274, 0.1106],\n",
            "        [0.1694, 0.3063, 0.5243]], device='cuda:0', grad_fn=<SoftmaxBackward0>)\n",
            "prediction: tensor([0, 0, 0, 0, 0, 2, 1, 2], device='cuda:0')\n",
            "train labels: tensor([0, 0, 2, 1, 0, 2, 1, 2], device='cuda:0')\n"
          ]
        },
        {
          "output_type": "stream",
          "name": "stderr",
          "text": [
            "\r 84%|████████▍ | 53/63 [00:38<00:07,  1.35it/s]"
          ]
        },
        {
          "output_type": "stream",
          "name": "stdout",
          "text": [
            "training logits: tensor([[0.3151, 0.3453, 0.3395],\n",
            "        [0.2376, 0.3873, 0.3751],\n",
            "        [0.5854, 0.1355, 0.2791],\n",
            "        [0.7030, 0.1888, 0.1083],\n",
            "        [0.7781, 0.1353, 0.0866],\n",
            "        [0.2434, 0.4035, 0.3532],\n",
            "        [0.2342, 0.1303, 0.6354],\n",
            "        [0.6376, 0.0956, 0.2668]], device='cuda:0', grad_fn=<SoftmaxBackward0>)\n",
            "training outputs\n",
            "tensor([[0.3151, 0.3453, 0.3395],\n",
            "        [0.2376, 0.3873, 0.3751],\n",
            "        [0.5854, 0.1355, 0.2791],\n",
            "        [0.7030, 0.1888, 0.1083],\n",
            "        [0.7781, 0.1353, 0.0866],\n",
            "        [0.2434, 0.4035, 0.3532],\n",
            "        [0.2342, 0.1303, 0.6354],\n",
            "        [0.6376, 0.0956, 0.2668]], device='cuda:0', grad_fn=<SoftmaxBackward0>)\n",
            "prediction: tensor([1, 1, 0, 0, 0, 1, 2, 0], device='cuda:0')\n",
            "train labels: tensor([2, 2, 0, 2, 0, 1, 1, 1], device='cuda:0')\n"
          ]
        },
        {
          "output_type": "stream",
          "name": "stderr",
          "text": [
            "\r 86%|████████▌ | 54/63 [00:39<00:06,  1.35it/s]"
          ]
        },
        {
          "output_type": "stream",
          "name": "stdout",
          "text": [
            "training logits: tensor([[0.7615, 0.0354, 0.2031],\n",
            "        [0.1070, 0.0870, 0.8060],\n",
            "        [0.2086, 0.2883, 0.5031],\n",
            "        [0.7653, 0.1014, 0.1333],\n",
            "        [0.2376, 0.1702, 0.5922],\n",
            "        [0.6521, 0.1223, 0.2257],\n",
            "        [0.1869, 0.3927, 0.4204],\n",
            "        [0.1295, 0.1352, 0.7353]], device='cuda:0', grad_fn=<SoftmaxBackward0>)\n",
            "training outputs\n",
            "tensor([[0.7615, 0.0354, 0.2031],\n",
            "        [0.1070, 0.0870, 0.8060],\n",
            "        [0.2086, 0.2883, 0.5031],\n",
            "        [0.7653, 0.1014, 0.1333],\n",
            "        [0.2376, 0.1702, 0.5922],\n",
            "        [0.6521, 0.1223, 0.2257],\n",
            "        [0.1869, 0.3927, 0.4204],\n",
            "        [0.1295, 0.1352, 0.7353]], device='cuda:0', grad_fn=<SoftmaxBackward0>)\n",
            "prediction: tensor([0, 2, 2, 0, 2, 0, 2, 2], device='cuda:0')\n",
            "train labels: tensor([1, 1, 2, 2, 1, 1, 1, 0], device='cuda:0')\n"
          ]
        },
        {
          "output_type": "stream",
          "name": "stderr",
          "text": [
            "\r 87%|████████▋ | 55/63 [00:40<00:05,  1.35it/s]"
          ]
        },
        {
          "output_type": "stream",
          "name": "stdout",
          "text": [
            "training logits: tensor([[0.1557, 0.3387, 0.5055],\n",
            "        [0.1726, 0.4213, 0.4061],\n",
            "        [0.7647, 0.1325, 0.1028],\n",
            "        [0.2808, 0.6235, 0.0957],\n",
            "        [0.2633, 0.3421, 0.3946],\n",
            "        [0.4013, 0.4502, 0.1485],\n",
            "        [0.4175, 0.3879, 0.1946],\n",
            "        [0.7210, 0.1493, 0.1298]], device='cuda:0', grad_fn=<SoftmaxBackward0>)\n",
            "training outputs\n",
            "tensor([[0.1557, 0.3387, 0.5055],\n",
            "        [0.1726, 0.4213, 0.4061],\n",
            "        [0.7647, 0.1325, 0.1028],\n",
            "        [0.2808, 0.6235, 0.0957],\n",
            "        [0.2633, 0.3421, 0.3946],\n",
            "        [0.4013, 0.4502, 0.1485],\n",
            "        [0.4175, 0.3879, 0.1946],\n",
            "        [0.7210, 0.1493, 0.1298]], device='cuda:0', grad_fn=<SoftmaxBackward0>)\n",
            "prediction: tensor([2, 1, 0, 1, 2, 1, 0, 0], device='cuda:0')\n",
            "train labels: tensor([2, 1, 0, 1, 2, 1, 1, 1], device='cuda:0')\n"
          ]
        },
        {
          "output_type": "stream",
          "name": "stderr",
          "text": [
            "\r 89%|████████▉ | 56/63 [00:41<00:05,  1.35it/s]"
          ]
        },
        {
          "output_type": "stream",
          "name": "stdout",
          "text": [
            "training logits: tensor([[0.6903, 0.2142, 0.0954],\n",
            "        [0.2132, 0.7013, 0.0856],\n",
            "        [0.2404, 0.3196, 0.4400],\n",
            "        [0.7796, 0.1779, 0.0424],\n",
            "        [0.6778, 0.2250, 0.0972],\n",
            "        [0.7534, 0.0921, 0.1545],\n",
            "        [0.4436, 0.1954, 0.3611],\n",
            "        [0.4223, 0.3317, 0.2460]], device='cuda:0', grad_fn=<SoftmaxBackward0>)\n",
            "training outputs\n",
            "tensor([[0.6903, 0.2142, 0.0954],\n",
            "        [0.2132, 0.7013, 0.0856],\n",
            "        [0.2404, 0.3196, 0.4400],\n",
            "        [0.7796, 0.1779, 0.0424],\n",
            "        [0.6778, 0.2250, 0.0972],\n",
            "        [0.7534, 0.0921, 0.1545],\n",
            "        [0.4436, 0.1954, 0.3611],\n",
            "        [0.4223, 0.3317, 0.2460]], device='cuda:0', grad_fn=<SoftmaxBackward0>)\n",
            "prediction: tensor([0, 1, 2, 0, 0, 0, 0, 0], device='cuda:0')\n",
            "train labels: tensor([0, 1, 1, 0, 0, 0, 0, 1], device='cuda:0')\n"
          ]
        },
        {
          "output_type": "stream",
          "name": "stderr",
          "text": [
            "\r 90%|█████████ | 57/63 [00:41<00:04,  1.35it/s]"
          ]
        },
        {
          "output_type": "stream",
          "name": "stdout",
          "text": [
            "training logits: tensor([[0.2448, 0.2236, 0.5316],\n",
            "        [0.6786, 0.1540, 0.1675],\n",
            "        [0.2070, 0.0382, 0.7548],\n",
            "        [0.0813, 0.2604, 0.6583],\n",
            "        [0.3655, 0.3720, 0.2625],\n",
            "        [0.1808, 0.5793, 0.2399],\n",
            "        [0.3047, 0.2580, 0.4373],\n",
            "        [0.4539, 0.3222, 0.2239]], device='cuda:0', grad_fn=<SoftmaxBackward0>)\n",
            "training outputs\n",
            "tensor([[0.2448, 0.2236, 0.5316],\n",
            "        [0.6786, 0.1540, 0.1675],\n",
            "        [0.2070, 0.0382, 0.7548],\n",
            "        [0.0813, 0.2604, 0.6583],\n",
            "        [0.3655, 0.3720, 0.2625],\n",
            "        [0.1808, 0.5793, 0.2399],\n",
            "        [0.3047, 0.2580, 0.4373],\n",
            "        [0.4539, 0.3222, 0.2239]], device='cuda:0', grad_fn=<SoftmaxBackward0>)\n",
            "prediction: tensor([2, 0, 2, 2, 1, 1, 2, 0], device='cuda:0')\n",
            "train labels: tensor([0, 0, 2, 2, 2, 2, 2, 1], device='cuda:0')\n"
          ]
        },
        {
          "output_type": "stream",
          "name": "stderr",
          "text": [
            "\r 92%|█████████▏| 58/63 [00:42<00:03,  1.36it/s]"
          ]
        },
        {
          "output_type": "stream",
          "name": "stdout",
          "text": [
            "training logits: tensor([[0.1517, 0.1728, 0.6755],\n",
            "        [0.2524, 0.2094, 0.5382],\n",
            "        [0.3088, 0.3463, 0.3449],\n",
            "        [0.1190, 0.7422, 0.1388],\n",
            "        [0.2106, 0.5962, 0.1932],\n",
            "        [0.6150, 0.1890, 0.1960],\n",
            "        [0.7736, 0.1170, 0.1094],\n",
            "        [0.5591, 0.1579, 0.2830]], device='cuda:0', grad_fn=<SoftmaxBackward0>)\n",
            "training outputs\n",
            "tensor([[0.1517, 0.1728, 0.6755],\n",
            "        [0.2524, 0.2094, 0.5382],\n",
            "        [0.3088, 0.3463, 0.3449],\n",
            "        [0.1190, 0.7422, 0.1388],\n",
            "        [0.2106, 0.5962, 0.1932],\n",
            "        [0.6150, 0.1890, 0.1960],\n",
            "        [0.7736, 0.1170, 0.1094],\n",
            "        [0.5591, 0.1579, 0.2830]], device='cuda:0', grad_fn=<SoftmaxBackward0>)\n",
            "prediction: tensor([2, 2, 1, 1, 1, 0, 0, 0], device='cuda:0')\n",
            "train labels: tensor([2, 0, 2, 1, 1, 0, 0, 0], device='cuda:0')\n"
          ]
        },
        {
          "output_type": "stream",
          "name": "stderr",
          "text": [
            "\r 94%|█████████▎| 59/63 [00:43<00:02,  1.36it/s]"
          ]
        },
        {
          "output_type": "stream",
          "name": "stdout",
          "text": [
            "training logits: tensor([[0.8440, 0.0563, 0.0997],\n",
            "        [0.6145, 0.2875, 0.0980],\n",
            "        [0.2188, 0.7584, 0.0228],\n",
            "        [0.1117, 0.7907, 0.0976],\n",
            "        [0.8553, 0.0809, 0.0639],\n",
            "        [0.3792, 0.3580, 0.2628],\n",
            "        [0.1373, 0.2061, 0.6566],\n",
            "        [0.2122, 0.3621, 0.4257]], device='cuda:0', grad_fn=<SoftmaxBackward0>)\n",
            "training outputs\n",
            "tensor([[0.8440, 0.0563, 0.0997],\n",
            "        [0.6145, 0.2875, 0.0980],\n",
            "        [0.2188, 0.7584, 0.0228],\n",
            "        [0.1117, 0.7907, 0.0976],\n",
            "        [0.8553, 0.0809, 0.0639],\n",
            "        [0.3792, 0.3580, 0.2628],\n",
            "        [0.1373, 0.2061, 0.6566],\n",
            "        [0.2122, 0.3621, 0.4257]], device='cuda:0', grad_fn=<SoftmaxBackward0>)\n",
            "prediction: tensor([0, 0, 1, 1, 0, 0, 2, 2], device='cuda:0')\n",
            "train labels: tensor([0, 0, 0, 2, 0, 0, 1, 0], device='cuda:0')\n"
          ]
        },
        {
          "output_type": "stream",
          "name": "stderr",
          "text": [
            "\r 95%|█████████▌| 60/63 [00:43<00:02,  1.37it/s]"
          ]
        },
        {
          "output_type": "stream",
          "name": "stdout",
          "text": [
            "training logits: tensor([[0.4253, 0.3606, 0.2141],\n",
            "        [0.2376, 0.6234, 0.1390],\n",
            "        [0.7329, 0.1183, 0.1488],\n",
            "        [0.3587, 0.4199, 0.2215],\n",
            "        [0.7885, 0.1136, 0.0979],\n",
            "        [0.5427, 0.1571, 0.3002],\n",
            "        [0.1635, 0.7755, 0.0610],\n",
            "        [0.4911, 0.4560, 0.0529]], device='cuda:0', grad_fn=<SoftmaxBackward0>)\n",
            "training outputs\n",
            "tensor([[0.4253, 0.3606, 0.2141],\n",
            "        [0.2376, 0.6234, 0.1390],\n",
            "        [0.7329, 0.1183, 0.1488],\n",
            "        [0.3587, 0.4199, 0.2215],\n",
            "        [0.7885, 0.1136, 0.0979],\n",
            "        [0.5427, 0.1571, 0.3002],\n",
            "        [0.1635, 0.7755, 0.0610],\n",
            "        [0.4911, 0.4560, 0.0529]], device='cuda:0', grad_fn=<SoftmaxBackward0>)\n",
            "prediction: tensor([0, 1, 0, 1, 0, 0, 1, 0], device='cuda:0')\n",
            "train labels: tensor([2, 1, 2, 0, 0, 0, 0, 1], device='cuda:0')\n"
          ]
        },
        {
          "output_type": "stream",
          "name": "stderr",
          "text": [
            "\r 97%|█████████▋| 61/63 [00:44<00:01,  1.37it/s]"
          ]
        },
        {
          "output_type": "stream",
          "name": "stdout",
          "text": [
            "training logits: tensor([[0.6677, 0.2055, 0.1268],\n",
            "        [0.2627, 0.3632, 0.3741],\n",
            "        [0.2508, 0.5485, 0.2006],\n",
            "        [0.8152, 0.0955, 0.0893],\n",
            "        [0.2364, 0.1967, 0.5669],\n",
            "        [0.0662, 0.8621, 0.0717],\n",
            "        [0.7701, 0.1336, 0.0963],\n",
            "        [0.0893, 0.5878, 0.3229]], device='cuda:0', grad_fn=<SoftmaxBackward0>)\n",
            "training outputs\n",
            "tensor([[0.6677, 0.2055, 0.1268],\n",
            "        [0.2627, 0.3632, 0.3741],\n",
            "        [0.2508, 0.5485, 0.2006],\n",
            "        [0.8152, 0.0955, 0.0893],\n",
            "        [0.2364, 0.1967, 0.5669],\n",
            "        [0.0662, 0.8621, 0.0717],\n",
            "        [0.7701, 0.1336, 0.0963],\n",
            "        [0.0893, 0.5878, 0.3229]], device='cuda:0', grad_fn=<SoftmaxBackward0>)\n",
            "prediction: tensor([0, 2, 1, 0, 2, 1, 0, 1], device='cuda:0')\n",
            "train labels: tensor([2, 2, 0, 0, 2, 1, 0, 1], device='cuda:0')\n"
          ]
        },
        {
          "output_type": "stream",
          "name": "stderr",
          "text": [
            "\r 98%|█████████▊| 62/63 [00:45<00:00,  1.37it/s]"
          ]
        },
        {
          "output_type": "stream",
          "name": "stdout",
          "text": [
            "training logits: tensor([[0.7462, 0.1343, 0.1195],\n",
            "        [0.0747, 0.8497, 0.0757],\n",
            "        [0.3407, 0.5541, 0.1052],\n",
            "        [0.3156, 0.5367, 0.1478]], device='cuda:0', grad_fn=<SoftmaxBackward0>)\n",
            "training outputs\n",
            "tensor([[0.7462, 0.1343, 0.1195],\n",
            "        [0.0747, 0.8497, 0.0757],\n",
            "        [0.3407, 0.5541, 0.1052],\n",
            "        [0.3156, 0.5367, 0.1478]], device='cuda:0', grad_fn=<SoftmaxBackward0>)\n",
            "prediction: tensor([0, 1, 1, 1], device='cuda:0')\n",
            "train labels: tensor([0, 1, 1, 1], device='cuda:0')\n"
          ]
        },
        {
          "output_type": "stream",
          "name": "stderr",
          "text": [
            "100%|██████████| 63/63 [00:45<00:00,  1.37it/s]\n"
          ]
        },
        {
          "output_type": "stream",
          "name": "stdout",
          "text": [
            "tensor([2, 1, 0, 2, 0, 1, 1, 0], device='cuda:0')\n",
            "validating logits: tensor([[0.1019, 0.1151, 0.7829],\n",
            "        [0.0927, 0.6728, 0.2345],\n",
            "        [0.8011, 0.1247, 0.0742],\n",
            "        [0.5714, 0.2565, 0.1721],\n",
            "        [0.6067, 0.2372, 0.1561],\n",
            "        [0.5124, 0.3252, 0.1624],\n",
            "        [0.7352, 0.1485, 0.1162],\n",
            "        [0.8733, 0.0966, 0.0301]], device='cuda:0')\n",
            "prediction: tensor([2, 1, 0, 0, 0, 0, 0, 0], device='cuda:0')\n",
            "tensor([[0.1019, 0.1151, 0.7829],\n",
            "        [0.0927, 0.6728, 0.2345],\n",
            "        [0.8011, 0.1247, 0.0742],\n",
            "        [0.5714, 0.2565, 0.1721],\n",
            "        [0.6067, 0.2372, 0.1561],\n",
            "        [0.5124, 0.3252, 0.1624],\n",
            "        [0.7352, 0.1485, 0.1162],\n",
            "        [0.8733, 0.0966, 0.0301]], device='cuda:0')\n",
            "tensor([2, 2, 1, 2, 2, 1, 0, 2], device='cuda:0')\n",
            "validating logits: tensor([[0.2086, 0.3670, 0.4244],\n",
            "        [0.2784, 0.1086, 0.6131],\n",
            "        [0.1976, 0.6989, 0.1035],\n",
            "        [0.0894, 0.7237, 0.1869],\n",
            "        [0.1656, 0.0690, 0.7654],\n",
            "        [0.1473, 0.7225, 0.1302],\n",
            "        [0.8407, 0.0761, 0.0832],\n",
            "        [0.1094, 0.4492, 0.4414]], device='cuda:0')\n",
            "prediction: tensor([2, 2, 1, 1, 2, 1, 0, 1], device='cuda:0')\n",
            "tensor([[0.2086, 0.3670, 0.4244],\n",
            "        [0.2784, 0.1086, 0.6131],\n",
            "        [0.1976, 0.6989, 0.1035],\n",
            "        [0.0894, 0.7237, 0.1869],\n",
            "        [0.1656, 0.0690, 0.7654],\n",
            "        [0.1473, 0.7225, 0.1302],\n",
            "        [0.8407, 0.0761, 0.0832],\n",
            "        [0.1094, 0.4492, 0.4414]], device='cuda:0')\n",
            "tensor([1, 0, 0, 1, 2, 2, 1, 0], device='cuda:0')\n",
            "validating logits: tensor([[0.1250, 0.7665, 0.1086],\n",
            "        [0.5380, 0.3171, 0.1449],\n",
            "        [0.8152, 0.1330, 0.0518],\n",
            "        [0.1159, 0.8019, 0.0823],\n",
            "        [0.1552, 0.4416, 0.4033],\n",
            "        [0.3104, 0.4357, 0.2539],\n",
            "        [0.2077, 0.5743, 0.2179],\n",
            "        [0.8181, 0.0510, 0.1310]], device='cuda:0')\n",
            "prediction: tensor([1, 0, 0, 1, 1, 1, 1, 0], device='cuda:0')\n",
            "tensor([[0.1250, 0.7665, 0.1086],\n",
            "        [0.5380, 0.3171, 0.1449],\n",
            "        [0.8152, 0.1330, 0.0518],\n",
            "        [0.1159, 0.8019, 0.0823],\n",
            "        [0.1552, 0.4416, 0.4033],\n",
            "        [0.3104, 0.4357, 0.2539],\n",
            "        [0.2077, 0.5743, 0.2179],\n",
            "        [0.8181, 0.0510, 0.1310]], device='cuda:0')\n",
            "tensor([1, 0, 2, 2, 1, 0, 2, 0], device='cuda:0')\n",
            "validating logits: tensor([[0.1643, 0.4729, 0.3628],\n",
            "        [0.6015, 0.2410, 0.1575],\n",
            "        [0.1146, 0.2231, 0.6623],\n",
            "        [0.3271, 0.1947, 0.4782],\n",
            "        [0.3715, 0.6102, 0.0183],\n",
            "        [0.8062, 0.1232, 0.0706],\n",
            "        [0.2043, 0.3614, 0.4342],\n",
            "        [0.8544, 0.0891, 0.0565]], device='cuda:0')\n",
            "prediction: tensor([1, 0, 2, 2, 1, 0, 2, 0], device='cuda:0')\n",
            "tensor([[0.1643, 0.4729, 0.3628],\n",
            "        [0.6015, 0.2410, 0.1575],\n",
            "        [0.1146, 0.2231, 0.6623],\n",
            "        [0.3271, 0.1947, 0.4782],\n",
            "        [0.3715, 0.6102, 0.0183],\n",
            "        [0.8062, 0.1232, 0.0706],\n",
            "        [0.2043, 0.3614, 0.4342],\n",
            "        [0.8544, 0.0891, 0.0565]], device='cuda:0')\n",
            "tensor([1, 1, 2, 0, 1, 0, 2, 2], device='cuda:0')\n",
            "validating logits: tensor([[0.1089, 0.7970, 0.0941],\n",
            "        [0.1065, 0.7557, 0.1378],\n",
            "        [0.1331, 0.2931, 0.5739],\n",
            "        [0.8691, 0.0657, 0.0653],\n",
            "        [0.1671, 0.6689, 0.1640],\n",
            "        [0.8245, 0.0569, 0.1186],\n",
            "        [0.2493, 0.2252, 0.5255],\n",
            "        [0.2782, 0.4457, 0.2762]], device='cuda:0')\n",
            "prediction: tensor([1, 1, 2, 0, 1, 0, 2, 1], device='cuda:0')\n",
            "tensor([[0.1089, 0.7970, 0.0941],\n",
            "        [0.1065, 0.7557, 0.1378],\n",
            "        [0.1331, 0.2931, 0.5739],\n",
            "        [0.8691, 0.0657, 0.0653],\n",
            "        [0.1671, 0.6689, 0.1640],\n",
            "        [0.8245, 0.0569, 0.1186],\n",
            "        [0.2493, 0.2252, 0.5255],\n",
            "        [0.2782, 0.4457, 0.2762]], device='cuda:0')\n",
            "tensor([0, 1, 2, 0, 0, 0, 2, 1], device='cuda:0')\n",
            "validating logits: tensor([[0.3166, 0.4504, 0.2330],\n",
            "        [0.3050, 0.5240, 0.1710],\n",
            "        [0.5256, 0.1611, 0.3132],\n",
            "        [0.8689, 0.0788, 0.0523],\n",
            "        [0.8579, 0.0982, 0.0439],\n",
            "        [0.8113, 0.0765, 0.1122],\n",
            "        [0.2751, 0.3019, 0.4230],\n",
            "        [0.2466, 0.5897, 0.1637]], device='cuda:0')\n",
            "prediction: tensor([1, 1, 0, 0, 0, 0, 2, 1], device='cuda:0')\n",
            "tensor([[0.3166, 0.4504, 0.2330],\n",
            "        [0.3050, 0.5240, 0.1710],\n",
            "        [0.5256, 0.1611, 0.3132],\n",
            "        [0.8689, 0.0788, 0.0523],\n",
            "        [0.8579, 0.0982, 0.0439],\n",
            "        [0.8113, 0.0765, 0.1122],\n",
            "        [0.2751, 0.3019, 0.4230],\n",
            "        [0.2466, 0.5897, 0.1637]], device='cuda:0')\n",
            "tensor([1, 0, 2, 1, 0, 2, 1, 2], device='cuda:0')\n",
            "validating logits: tensor([[0.1570, 0.5632, 0.2798],\n",
            "        [0.1353, 0.7682, 0.0965],\n",
            "        [0.1418, 0.4223, 0.4359],\n",
            "        [0.2089, 0.5444, 0.2468],\n",
            "        [0.3114, 0.4255, 0.2631],\n",
            "        [0.2631, 0.2210, 0.5159],\n",
            "        [0.2577, 0.5388, 0.2035],\n",
            "        [0.1901, 0.4637, 0.3462]], device='cuda:0')\n",
            "prediction: tensor([1, 1, 2, 1, 1, 2, 1, 1], device='cuda:0')\n",
            "tensor([[0.1570, 0.5632, 0.2798],\n",
            "        [0.1353, 0.7682, 0.0965],\n",
            "        [0.1418, 0.4223, 0.4359],\n",
            "        [0.2089, 0.5444, 0.2468],\n",
            "        [0.3114, 0.4255, 0.2631],\n",
            "        [0.2631, 0.2210, 0.5159],\n",
            "        [0.2577, 0.5388, 0.2035],\n",
            "        [0.1901, 0.4637, 0.3462]], device='cuda:0')\n",
            "tensor([0, 2, 1, 0, 0, 1, 2, 0], device='cuda:0')\n",
            "validating logits: tensor([[0.8796, 0.0509, 0.0695],\n",
            "        [0.6126, 0.2559, 0.1315],\n",
            "        [0.4623, 0.4447, 0.0930],\n",
            "        [0.3400, 0.5764, 0.0836],\n",
            "        [0.6553, 0.1915, 0.1532],\n",
            "        [0.4508, 0.3301, 0.2191],\n",
            "        [0.6695, 0.2013, 0.1292],\n",
            "        [0.3743, 0.4582, 0.1674]], device='cuda:0')\n",
            "prediction: tensor([0, 0, 0, 1, 0, 0, 0, 1], device='cuda:0')\n",
            "tensor([[0.8796, 0.0509, 0.0695],\n",
            "        [0.6126, 0.2559, 0.1315],\n",
            "        [0.4623, 0.4447, 0.0930],\n",
            "        [0.3400, 0.5764, 0.0836],\n",
            "        [0.6553, 0.1915, 0.1532],\n",
            "        [0.4508, 0.3301, 0.2191],\n",
            "        [0.6695, 0.2013, 0.1292],\n",
            "        [0.3743, 0.4582, 0.1674]], device='cuda:0')\n",
            "tensor([2, 1, 1, 0, 2, 1, 0, 2], device='cuda:0')\n",
            "validating logits: tensor([[0.3026, 0.5074, 0.1901],\n",
            "        [0.2664, 0.4755, 0.2582],\n",
            "        [0.3918, 0.3175, 0.2907],\n",
            "        [0.1868, 0.4997, 0.3135],\n",
            "        [0.4445, 0.4101, 0.1455],\n",
            "        [0.5475, 0.2044, 0.2481],\n",
            "        [0.4274, 0.3566, 0.2160],\n",
            "        [0.4866, 0.4614, 0.0521]], device='cuda:0')\n",
            "prediction: tensor([1, 1, 0, 1, 0, 0, 0, 0], device='cuda:0')\n",
            "tensor([[0.3026, 0.5074, 0.1901],\n",
            "        [0.2664, 0.4755, 0.2582],\n",
            "        [0.3918, 0.3175, 0.2907],\n",
            "        [0.1868, 0.4997, 0.3135],\n",
            "        [0.4445, 0.4101, 0.1455],\n",
            "        [0.5475, 0.2044, 0.2481],\n",
            "        [0.4274, 0.3566, 0.2160],\n",
            "        [0.4866, 0.4614, 0.0521]], device='cuda:0')\n",
            "tensor([2, 1, 0, 2, 1, 0, 1, 0], device='cuda:0')\n",
            "validating logits: tensor([[0.2399, 0.4821, 0.2781],\n",
            "        [0.6607, 0.2783, 0.0609],\n",
            "        [0.6641, 0.2715, 0.0644],\n",
            "        [0.4323, 0.3883, 0.1794],\n",
            "        [0.3867, 0.3534, 0.2600],\n",
            "        [0.4678, 0.3723, 0.1599],\n",
            "        [0.1733, 0.3366, 0.4901],\n",
            "        [0.8157, 0.1218, 0.0626]], device='cuda:0')\n",
            "prediction: tensor([1, 0, 0, 0, 0, 0, 2, 0], device='cuda:0')\n",
            "tensor([[0.2399, 0.4821, 0.2781],\n",
            "        [0.6607, 0.2783, 0.0609],\n",
            "        [0.6641, 0.2715, 0.0644],\n",
            "        [0.4323, 0.3883, 0.1794],\n",
            "        [0.3867, 0.3534, 0.2600],\n",
            "        [0.4678, 0.3723, 0.1599],\n",
            "        [0.1733, 0.3366, 0.4901],\n",
            "        [0.8157, 0.1218, 0.0626]], device='cuda:0')\n",
            "tensor([2, 2, 1, 0, 0, 1, 2, 1], device='cuda:0')\n",
            "validating logits: tensor([[0.8252, 0.0910, 0.0837],\n",
            "        [0.3960, 0.3904, 0.2136],\n",
            "        [0.3084, 0.5166, 0.1750],\n",
            "        [0.7414, 0.1355, 0.1231],\n",
            "        [0.2667, 0.6119, 0.1214],\n",
            "        [0.1715, 0.7513, 0.0773],\n",
            "        [0.7419, 0.1208, 0.1373],\n",
            "        [0.0895, 0.8275, 0.0831]], device='cuda:0')\n",
            "prediction: tensor([0, 0, 1, 0, 1, 1, 0, 1], device='cuda:0')\n",
            "tensor([[0.8252, 0.0910, 0.0837],\n",
            "        [0.3960, 0.3904, 0.2136],\n",
            "        [0.3084, 0.5166, 0.1750],\n",
            "        [0.7414, 0.1355, 0.1231],\n",
            "        [0.2667, 0.6119, 0.1214],\n",
            "        [0.1715, 0.7513, 0.0773],\n",
            "        [0.7419, 0.1208, 0.1373],\n",
            "        [0.0895, 0.8275, 0.0831]], device='cuda:0')\n",
            "tensor([0, 2, 1, 0, 1, 2, 1, 2], device='cuda:0')\n",
            "validating logits: tensor([[0.7388, 0.1367, 0.1245],\n",
            "        [0.2468, 0.4631, 0.2901],\n",
            "        [0.4091, 0.5179, 0.0731],\n",
            "        [0.7995, 0.1395, 0.0610],\n",
            "        [0.0841, 0.7069, 0.2090],\n",
            "        [0.1164, 0.1059, 0.7778],\n",
            "        [0.1588, 0.4841, 0.3571],\n",
            "        [0.3314, 0.1353, 0.5333]], device='cuda:0')\n",
            "prediction: tensor([0, 1, 1, 0, 1, 2, 1, 2], device='cuda:0')\n",
            "tensor([[0.7388, 0.1367, 0.1245],\n",
            "        [0.2468, 0.4631, 0.2901],\n",
            "        [0.4091, 0.5179, 0.0731],\n",
            "        [0.7995, 0.1395, 0.0610],\n",
            "        [0.0841, 0.7069, 0.2090],\n",
            "        [0.1164, 0.1059, 0.7778],\n",
            "        [0.1588, 0.4841, 0.3571],\n",
            "        [0.3314, 0.1353, 0.5333]], device='cuda:0')\n",
            "tensor([0, 2, 2, 0], device='cuda:0')\n",
            "validating logits: tensor([[0.7985, 0.1035, 0.0979],\n",
            "        [0.3408, 0.3587, 0.3004],\n",
            "        [0.1145, 0.1020, 0.7835],\n",
            "        [0.8517, 0.0733, 0.0750]], device='cuda:0')\n",
            "prediction: tensor([0, 1, 2, 0], device='cuda:0')\n",
            "tensor([[0.7985, 0.1035, 0.0979],\n",
            "        [0.3408, 0.3587, 0.3004],\n",
            "        [0.1145, 0.1020, 0.7835],\n",
            "        [0.8517, 0.0733, 0.0750]], device='cuda:0')\n",
            "Epochs: 4 | Train Loss:  0.126             | Train Accuracy:  0.580             | Val Loss:  0.121             | Val Accuracy:  0.640\n",
            "Found a better model\n"
          ]
        },
        {
          "output_type": "stream",
          "name": "stderr",
          "text": [
            "\r  0%|          | 0/63 [00:00<?, ?it/s]"
          ]
        },
        {
          "output_type": "stream",
          "name": "stdout",
          "text": [
            "training logits: tensor([[0.6382, 0.2703, 0.0915],\n",
            "        [0.1945, 0.7212, 0.0843],\n",
            "        [0.7100, 0.2128, 0.0772],\n",
            "        [0.7782, 0.1441, 0.0777],\n",
            "        [0.5937, 0.1021, 0.3043],\n",
            "        [0.2100, 0.1217, 0.6683],\n",
            "        [0.5644, 0.3237, 0.1119],\n",
            "        [0.2068, 0.5083, 0.2849]], device='cuda:0', grad_fn=<SoftmaxBackward0>)\n",
            "training outputs\n",
            "tensor([[0.6382, 0.2703, 0.0915],\n",
            "        [0.1945, 0.7212, 0.0843],\n",
            "        [0.7100, 0.2128, 0.0772],\n",
            "        [0.7782, 0.1441, 0.0777],\n",
            "        [0.5937, 0.1021, 0.3043],\n",
            "        [0.2100, 0.1217, 0.6683],\n",
            "        [0.5644, 0.3237, 0.1119],\n",
            "        [0.2068, 0.5083, 0.2849]], device='cuda:0', grad_fn=<SoftmaxBackward0>)\n",
            "prediction: tensor([0, 1, 0, 0, 0, 2, 0, 1], device='cuda:0')\n",
            "train labels: tensor([1, 1, 2, 0, 2, 2, 1, 1], device='cuda:0')\n"
          ]
        },
        {
          "output_type": "stream",
          "name": "stderr",
          "text": [
            "\r  2%|▏         | 1/63 [00:00<00:45,  1.36it/s]"
          ]
        },
        {
          "output_type": "stream",
          "name": "stdout",
          "text": [
            "training logits: tensor([[0.1040, 0.6361, 0.2599],\n",
            "        [0.1142, 0.4179, 0.4680],\n",
            "        [0.8133, 0.0354, 0.1513],\n",
            "        [0.2502, 0.5899, 0.1599],\n",
            "        [0.2505, 0.4398, 0.3097],\n",
            "        [0.3272, 0.2021, 0.4707],\n",
            "        [0.3092, 0.5636, 0.1273],\n",
            "        [0.4767, 0.0764, 0.4469]], device='cuda:0', grad_fn=<SoftmaxBackward0>)\n",
            "training outputs\n",
            "tensor([[0.1040, 0.6361, 0.2599],\n",
            "        [0.1142, 0.4179, 0.4680],\n",
            "        [0.8133, 0.0354, 0.1513],\n",
            "        [0.2502, 0.5899, 0.1599],\n",
            "        [0.2505, 0.4398, 0.3097],\n",
            "        [0.3272, 0.2021, 0.4707],\n",
            "        [0.3092, 0.5636, 0.1273],\n",
            "        [0.4767, 0.0764, 0.4469]], device='cuda:0', grad_fn=<SoftmaxBackward0>)\n",
            "prediction: tensor([1, 2, 0, 1, 1, 2, 1, 0], device='cuda:0')\n",
            "train labels: tensor([2, 1, 0, 2, 2, 2, 0, 2], device='cuda:0')\n"
          ]
        },
        {
          "output_type": "stream",
          "name": "stderr",
          "text": [
            "\r  3%|▎         | 2/63 [00:01<00:43,  1.41it/s]"
          ]
        },
        {
          "output_type": "stream",
          "name": "stdout",
          "text": [
            "training logits: tensor([[0.5563, 0.2651, 0.1785],\n",
            "        [0.8454, 0.0721, 0.0826],\n",
            "        [0.2099, 0.3410, 0.4491],\n",
            "        [0.6288, 0.2549, 0.1163],\n",
            "        [0.3011, 0.5192, 0.1796],\n",
            "        [0.6079, 0.2579, 0.1341],\n",
            "        [0.4811, 0.3742, 0.1447],\n",
            "        [0.2795, 0.5738, 0.1467]], device='cuda:0', grad_fn=<SoftmaxBackward0>)\n",
            "training outputs\n",
            "tensor([[0.5563, 0.2651, 0.1785],\n",
            "        [0.8454, 0.0721, 0.0826],\n",
            "        [0.2099, 0.3410, 0.4491],\n",
            "        [0.6288, 0.2549, 0.1163],\n",
            "        [0.3011, 0.5192, 0.1796],\n",
            "        [0.6079, 0.2579, 0.1341],\n",
            "        [0.4811, 0.3742, 0.1447],\n",
            "        [0.2795, 0.5738, 0.1467]], device='cuda:0', grad_fn=<SoftmaxBackward0>)\n",
            "prediction: tensor([0, 0, 2, 0, 1, 0, 0, 1], device='cuda:0')\n",
            "train labels: tensor([0, 0, 2, 2, 0, 0, 2, 2], device='cuda:0')\n"
          ]
        },
        {
          "output_type": "stream",
          "name": "stderr",
          "text": [
            "\r  5%|▍         | 3/63 [00:02<00:42,  1.41it/s]"
          ]
        },
        {
          "output_type": "stream",
          "name": "stdout",
          "text": [
            "training logits: tensor([[0.1172, 0.4076, 0.4751],\n",
            "        [0.1467, 0.6965, 0.1568],\n",
            "        [0.1343, 0.7435, 0.1222],\n",
            "        [0.3193, 0.3258, 0.3549],\n",
            "        [0.8883, 0.0564, 0.0553],\n",
            "        [0.1999, 0.5427, 0.2573],\n",
            "        [0.1482, 0.4921, 0.3597],\n",
            "        [0.8305, 0.0727, 0.0968]], device='cuda:0', grad_fn=<SoftmaxBackward0>)\n",
            "training outputs\n",
            "tensor([[0.1172, 0.4076, 0.4751],\n",
            "        [0.1467, 0.6965, 0.1568],\n",
            "        [0.1343, 0.7435, 0.1222],\n",
            "        [0.3193, 0.3258, 0.3549],\n",
            "        [0.8883, 0.0564, 0.0553],\n",
            "        [0.1999, 0.5427, 0.2573],\n",
            "        [0.1482, 0.4921, 0.3597],\n",
            "        [0.8305, 0.0727, 0.0968]], device='cuda:0', grad_fn=<SoftmaxBackward0>)\n",
            "prediction: tensor([2, 1, 1, 2, 0, 1, 1, 0], device='cuda:0')\n",
            "train labels: tensor([1, 1, 1, 2, 0, 1, 2, 0], device='cuda:0')\n"
          ]
        },
        {
          "output_type": "stream",
          "name": "stderr",
          "text": [
            "\r  6%|▋         | 4/63 [00:02<00:41,  1.42it/s]"
          ]
        },
        {
          "output_type": "stream",
          "name": "stdout",
          "text": [
            "training logits: tensor([[0.7625, 0.1300, 0.1075],\n",
            "        [0.0666, 0.7822, 0.1512],\n",
            "        [0.8776, 0.0374, 0.0850],\n",
            "        [0.6669, 0.2510, 0.0821],\n",
            "        [0.8334, 0.0810, 0.0856],\n",
            "        [0.8835, 0.0631, 0.0533],\n",
            "        [0.5093, 0.2395, 0.2513],\n",
            "        [0.7035, 0.1566, 0.1400]], device='cuda:0', grad_fn=<SoftmaxBackward0>)\n",
            "training outputs\n",
            "tensor([[0.7625, 0.1300, 0.1075],\n",
            "        [0.0666, 0.7822, 0.1512],\n",
            "        [0.8776, 0.0374, 0.0850],\n",
            "        [0.6669, 0.2510, 0.0821],\n",
            "        [0.8334, 0.0810, 0.0856],\n",
            "        [0.8835, 0.0631, 0.0533],\n",
            "        [0.5093, 0.2395, 0.2513],\n",
            "        [0.7035, 0.1566, 0.1400]], device='cuda:0', grad_fn=<SoftmaxBackward0>)\n",
            "prediction: tensor([0, 1, 0, 0, 0, 0, 0, 0], device='cuda:0')\n",
            "train labels: tensor([0, 1, 0, 0, 0, 0, 2, 1], device='cuda:0')\n"
          ]
        },
        {
          "output_type": "stream",
          "name": "stderr",
          "text": [
            "\r  8%|▊         | 5/63 [00:03<00:40,  1.42it/s]"
          ]
        },
        {
          "output_type": "stream",
          "name": "stdout",
          "text": [
            "training logits: tensor([[0.8369, 0.1035, 0.0596],\n",
            "        [0.2319, 0.6588, 0.1093],\n",
            "        [0.0765, 0.8375, 0.0860],\n",
            "        [0.1157, 0.7674, 0.1169],\n",
            "        [0.0805, 0.0467, 0.8728],\n",
            "        [0.8706, 0.0695, 0.0599],\n",
            "        [0.8344, 0.0556, 0.1100],\n",
            "        [0.1482, 0.1112, 0.7407]], device='cuda:0', grad_fn=<SoftmaxBackward0>)\n",
            "training outputs\n",
            "tensor([[0.8369, 0.1035, 0.0596],\n",
            "        [0.2319, 0.6588, 0.1093],\n",
            "        [0.0765, 0.8375, 0.0860],\n",
            "        [0.1157, 0.7674, 0.1169],\n",
            "        [0.0805, 0.0467, 0.8728],\n",
            "        [0.8706, 0.0695, 0.0599],\n",
            "        [0.8344, 0.0556, 0.1100],\n",
            "        [0.1482, 0.1112, 0.7407]], device='cuda:0', grad_fn=<SoftmaxBackward0>)\n",
            "prediction: tensor([0, 1, 1, 1, 2, 0, 0, 2], device='cuda:0')\n",
            "train labels: tensor([0, 1, 1, 1, 2, 0, 0, 2], device='cuda:0')\n"
          ]
        },
        {
          "output_type": "stream",
          "name": "stderr",
          "text": [
            "\r 10%|▉         | 6/63 [00:04<00:39,  1.43it/s]"
          ]
        },
        {
          "output_type": "stream",
          "name": "stdout",
          "text": [
            "training logits: tensor([[0.8108, 0.1159, 0.0734],\n",
            "        [0.2913, 0.3990, 0.3097],\n",
            "        [0.7558, 0.1624, 0.0818],\n",
            "        [0.0299, 0.7656, 0.2045],\n",
            "        [0.6190, 0.2278, 0.1532],\n",
            "        [0.0871, 0.6404, 0.2725],\n",
            "        [0.0425, 0.3423, 0.6152],\n",
            "        [0.0881, 0.6240, 0.2878]], device='cuda:0', grad_fn=<SoftmaxBackward0>)\n",
            "training outputs\n",
            "tensor([[0.8108, 0.1159, 0.0734],\n",
            "        [0.2913, 0.3990, 0.3097],\n",
            "        [0.7558, 0.1624, 0.0818],\n",
            "        [0.0299, 0.7656, 0.2045],\n",
            "        [0.6190, 0.2278, 0.1532],\n",
            "        [0.0871, 0.6404, 0.2725],\n",
            "        [0.0425, 0.3423, 0.6152],\n",
            "        [0.0881, 0.6240, 0.2878]], device='cuda:0', grad_fn=<SoftmaxBackward0>)\n",
            "prediction: tensor([0, 1, 0, 1, 0, 1, 2, 1], device='cuda:0')\n",
            "train labels: tensor([0, 0, 0, 1, 1, 1, 2, 1], device='cuda:0')\n"
          ]
        },
        {
          "output_type": "stream",
          "name": "stderr",
          "text": [
            "\r 11%|█         | 7/63 [00:04<00:39,  1.42it/s]"
          ]
        },
        {
          "output_type": "stream",
          "name": "stdout",
          "text": [
            "training logits: tensor([[0.3163, 0.5985, 0.0852],\n",
            "        [0.8427, 0.0916, 0.0657],\n",
            "        [0.2087, 0.3043, 0.4870],\n",
            "        [0.8243, 0.1112, 0.0646],\n",
            "        [0.3877, 0.1899, 0.4224],\n",
            "        [0.1307, 0.3016, 0.5677],\n",
            "        [0.2384, 0.4228, 0.3388],\n",
            "        [0.8175, 0.0989, 0.0836]], device='cuda:0', grad_fn=<SoftmaxBackward0>)\n",
            "training outputs\n",
            "tensor([[0.3163, 0.5985, 0.0852],\n",
            "        [0.8427, 0.0916, 0.0657],\n",
            "        [0.2087, 0.3043, 0.4870],\n",
            "        [0.8243, 0.1112, 0.0646],\n",
            "        [0.3877, 0.1899, 0.4224],\n",
            "        [0.1307, 0.3016, 0.5677],\n",
            "        [0.2384, 0.4228, 0.3388],\n",
            "        [0.8175, 0.0989, 0.0836]], device='cuda:0', grad_fn=<SoftmaxBackward0>)\n",
            "prediction: tensor([1, 0, 2, 0, 2, 2, 1, 0], device='cuda:0')\n",
            "train labels: tensor([1, 0, 2, 0, 1, 2, 1, 0], device='cuda:0')\n"
          ]
        },
        {
          "output_type": "stream",
          "name": "stderr",
          "text": [
            "\r 13%|█▎        | 8/63 [00:05<00:38,  1.42it/s]"
          ]
        },
        {
          "output_type": "stream",
          "name": "stdout",
          "text": [
            "training logits: tensor([[0.0931, 0.5871, 0.3198],\n",
            "        [0.1905, 0.1618, 0.6476],\n",
            "        [0.8982, 0.0542, 0.0475],\n",
            "        [0.3077, 0.5235, 0.1688],\n",
            "        [0.2447, 0.6385, 0.1168],\n",
            "        [0.3429, 0.0902, 0.5669],\n",
            "        [0.1643, 0.7240, 0.1117],\n",
            "        [0.8840, 0.0630, 0.0529]], device='cuda:0', grad_fn=<SoftmaxBackward0>)\n",
            "training outputs\n",
            "tensor([[0.0931, 0.5871, 0.3198],\n",
            "        [0.1905, 0.1618, 0.6476],\n",
            "        [0.8982, 0.0542, 0.0475],\n",
            "        [0.3077, 0.5235, 0.1688],\n",
            "        [0.2447, 0.6385, 0.1168],\n",
            "        [0.3429, 0.0902, 0.5669],\n",
            "        [0.1643, 0.7240, 0.1117],\n",
            "        [0.8840, 0.0630, 0.0529]], device='cuda:0', grad_fn=<SoftmaxBackward0>)\n",
            "prediction: tensor([1, 2, 0, 1, 1, 2, 1, 0], device='cuda:0')\n",
            "train labels: tensor([1, 2, 0, 0, 1, 0, 1, 0], device='cuda:0')\n"
          ]
        },
        {
          "output_type": "stream",
          "name": "stderr",
          "text": [
            "\r 14%|█▍        | 9/63 [00:06<00:38,  1.42it/s]"
          ]
        },
        {
          "output_type": "stream",
          "name": "stdout",
          "text": [
            "training logits: tensor([[0.8819, 0.0581, 0.0600],\n",
            "        [0.8360, 0.0619, 0.1021],\n",
            "        [0.0627, 0.1142, 0.8231],\n",
            "        [0.0393, 0.8898, 0.0710],\n",
            "        [0.2803, 0.2577, 0.4620],\n",
            "        [0.7858, 0.1298, 0.0844],\n",
            "        [0.0947, 0.7153, 0.1900],\n",
            "        [0.3639, 0.0532, 0.5829]], device='cuda:0', grad_fn=<SoftmaxBackward0>)\n",
            "training outputs\n",
            "tensor([[0.8819, 0.0581, 0.0600],\n",
            "        [0.8360, 0.0619, 0.1021],\n",
            "        [0.0627, 0.1142, 0.8231],\n",
            "        [0.0393, 0.8898, 0.0710],\n",
            "        [0.2803, 0.2577, 0.4620],\n",
            "        [0.7858, 0.1298, 0.0844],\n",
            "        [0.0947, 0.7153, 0.1900],\n",
            "        [0.3639, 0.0532, 0.5829]], device='cuda:0', grad_fn=<SoftmaxBackward0>)\n",
            "prediction: tensor([0, 0, 2, 1, 2, 0, 1, 2], device='cuda:0')\n",
            "train labels: tensor([0, 0, 2, 1, 2, 0, 2, 2], device='cuda:0')\n"
          ]
        },
        {
          "output_type": "stream",
          "name": "stderr",
          "text": [
            "\r 16%|█▌        | 10/63 [00:07<00:37,  1.42it/s]"
          ]
        },
        {
          "output_type": "stream",
          "name": "stdout",
          "text": [
            "training logits: tensor([[0.1742, 0.5709, 0.2549],\n",
            "        [0.0648, 0.2512, 0.6840],\n",
            "        [0.1199, 0.1239, 0.7562],\n",
            "        [0.7034, 0.0923, 0.2043],\n",
            "        [0.1862, 0.0740, 0.7397],\n",
            "        [0.1102, 0.7407, 0.1491],\n",
            "        [0.2099, 0.1731, 0.6170],\n",
            "        [0.7074, 0.2129, 0.0797]], device='cuda:0', grad_fn=<SoftmaxBackward0>)\n",
            "training outputs\n",
            "tensor([[0.1742, 0.5709, 0.2549],\n",
            "        [0.0648, 0.2512, 0.6840],\n",
            "        [0.1199, 0.1239, 0.7562],\n",
            "        [0.7034, 0.0923, 0.2043],\n",
            "        [0.1862, 0.0740, 0.7397],\n",
            "        [0.1102, 0.7407, 0.1491],\n",
            "        [0.2099, 0.1731, 0.6170],\n",
            "        [0.7074, 0.2129, 0.0797]], device='cuda:0', grad_fn=<SoftmaxBackward0>)\n",
            "prediction: tensor([1, 2, 2, 0, 2, 1, 2, 0], device='cuda:0')\n",
            "train labels: tensor([1, 2, 2, 0, 0, 0, 2, 1], device='cuda:0')\n"
          ]
        },
        {
          "output_type": "stream",
          "name": "stderr",
          "text": [
            "\r 17%|█▋        | 11/63 [00:07<00:36,  1.42it/s]"
          ]
        },
        {
          "output_type": "stream",
          "name": "stdout",
          "text": [
            "training logits: tensor([[0.8556, 0.1081, 0.0364],\n",
            "        [0.1599, 0.6175, 0.2226],\n",
            "        [0.0993, 0.7915, 0.1092],\n",
            "        [0.4386, 0.3691, 0.1923],\n",
            "        [0.1642, 0.6376, 0.1982],\n",
            "        [0.8854, 0.0399, 0.0747],\n",
            "        [0.6985, 0.2182, 0.0833],\n",
            "        [0.6331, 0.2728, 0.0941]], device='cuda:0', grad_fn=<SoftmaxBackward0>)\n",
            "training outputs\n",
            "tensor([[0.8556, 0.1081, 0.0364],\n",
            "        [0.1599, 0.6175, 0.2226],\n",
            "        [0.0993, 0.7915, 0.1092],\n",
            "        [0.4386, 0.3691, 0.1923],\n",
            "        [0.1642, 0.6376, 0.1982],\n",
            "        [0.8854, 0.0399, 0.0747],\n",
            "        [0.6985, 0.2182, 0.0833],\n",
            "        [0.6331, 0.2728, 0.0941]], device='cuda:0', grad_fn=<SoftmaxBackward0>)\n",
            "prediction: tensor([0, 1, 1, 0, 1, 0, 0, 0], device='cuda:0')\n",
            "train labels: tensor([1, 1, 1, 2, 1, 0, 0, 1], device='cuda:0')\n"
          ]
        },
        {
          "output_type": "stream",
          "name": "stderr",
          "text": [
            "\r 19%|█▉        | 12/63 [00:08<00:35,  1.42it/s]"
          ]
        },
        {
          "output_type": "stream",
          "name": "stdout",
          "text": [
            "training logits: tensor([[0.1038, 0.6416, 0.2546],\n",
            "        [0.3122, 0.2524, 0.4354],\n",
            "        [0.6415, 0.1005, 0.2580],\n",
            "        [0.6929, 0.1733, 0.1337],\n",
            "        [0.0847, 0.0408, 0.8745],\n",
            "        [0.2363, 0.3027, 0.4610],\n",
            "        [0.3711, 0.3146, 0.3143],\n",
            "        [0.2239, 0.2297, 0.5463]], device='cuda:0', grad_fn=<SoftmaxBackward0>)\n",
            "training outputs\n",
            "tensor([[0.1038, 0.6416, 0.2546],\n",
            "        [0.3122, 0.2524, 0.4354],\n",
            "        [0.6415, 0.1005, 0.2580],\n",
            "        [0.6929, 0.1733, 0.1337],\n",
            "        [0.0847, 0.0408, 0.8745],\n",
            "        [0.2363, 0.3027, 0.4610],\n",
            "        [0.3711, 0.3146, 0.3143],\n",
            "        [0.2239, 0.2297, 0.5463]], device='cuda:0', grad_fn=<SoftmaxBackward0>)\n",
            "prediction: tensor([1, 2, 0, 0, 2, 2, 0, 2], device='cuda:0')\n",
            "train labels: tensor([1, 1, 2, 0, 2, 2, 0, 2], device='cuda:0')\n"
          ]
        },
        {
          "output_type": "stream",
          "name": "stderr",
          "text": [
            "\r 21%|██        | 13/63 [00:09<00:35,  1.42it/s]"
          ]
        },
        {
          "output_type": "stream",
          "name": "stdout",
          "text": [
            "training logits: tensor([[0.1878, 0.1387, 0.6734],\n",
            "        [0.0665, 0.6169, 0.3166],\n",
            "        [0.8348, 0.1006, 0.0646],\n",
            "        [0.8101, 0.1100, 0.0798],\n",
            "        [0.4553, 0.3417, 0.2030],\n",
            "        [0.0875, 0.1050, 0.8075],\n",
            "        [0.0920, 0.7620, 0.1460],\n",
            "        [0.8282, 0.1072, 0.0646]], device='cuda:0', grad_fn=<SoftmaxBackward0>)\n",
            "training outputs\n",
            "tensor([[0.1878, 0.1387, 0.6734],\n",
            "        [0.0665, 0.6169, 0.3166],\n",
            "        [0.8348, 0.1006, 0.0646],\n",
            "        [0.8101, 0.1100, 0.0798],\n",
            "        [0.4553, 0.3417, 0.2030],\n",
            "        [0.0875, 0.1050, 0.8075],\n",
            "        [0.0920, 0.7620, 0.1460],\n",
            "        [0.8282, 0.1072, 0.0646]], device='cuda:0', grad_fn=<SoftmaxBackward0>)\n",
            "prediction: tensor([2, 1, 0, 0, 0, 2, 1, 0], device='cuda:0')\n",
            "train labels: tensor([2, 1, 0, 0, 2, 0, 1, 0], device='cuda:0')\n"
          ]
        },
        {
          "output_type": "stream",
          "name": "stderr",
          "text": [
            "\r 22%|██▏       | 14/63 [00:09<00:34,  1.42it/s]"
          ]
        },
        {
          "output_type": "stream",
          "name": "stdout",
          "text": [
            "training logits: tensor([[0.1412, 0.4687, 0.3901],\n",
            "        [0.7269, 0.0802, 0.1929],\n",
            "        [0.0650, 0.3055, 0.6295],\n",
            "        [0.1455, 0.0715, 0.7830],\n",
            "        [0.1413, 0.4302, 0.4285],\n",
            "        [0.4163, 0.2024, 0.3814],\n",
            "        [0.1022, 0.6949, 0.2029],\n",
            "        [0.1131, 0.8148, 0.0721]], device='cuda:0', grad_fn=<SoftmaxBackward0>)\n",
            "training outputs\n",
            "tensor([[0.1412, 0.4687, 0.3901],\n",
            "        [0.7269, 0.0802, 0.1929],\n",
            "        [0.0650, 0.3055, 0.6295],\n",
            "        [0.1455, 0.0715, 0.7830],\n",
            "        [0.1413, 0.4302, 0.4285],\n",
            "        [0.4163, 0.2024, 0.3814],\n",
            "        [0.1022, 0.6949, 0.2029],\n",
            "        [0.1131, 0.8148, 0.0721]], device='cuda:0', grad_fn=<SoftmaxBackward0>)\n",
            "prediction: tensor([1, 0, 2, 2, 1, 0, 1, 1], device='cuda:0')\n",
            "train labels: tensor([1, 0, 2, 2, 2, 2, 1, 1], device='cuda:0')\n"
          ]
        },
        {
          "output_type": "stream",
          "name": "stderr",
          "text": [
            "\r 24%|██▍       | 15/63 [00:10<00:33,  1.42it/s]"
          ]
        },
        {
          "output_type": "stream",
          "name": "stdout",
          "text": [
            "training logits: tensor([[0.1905, 0.5786, 0.2309],\n",
            "        [0.9052, 0.0569, 0.0378],\n",
            "        [0.7796, 0.1541, 0.0663],\n",
            "        [0.3804, 0.5898, 0.0298],\n",
            "        [0.1488, 0.5978, 0.2534],\n",
            "        [0.3708, 0.3365, 0.2927],\n",
            "        [0.8647, 0.0540, 0.0812],\n",
            "        [0.2365, 0.2422, 0.5213]], device='cuda:0', grad_fn=<SoftmaxBackward0>)\n",
            "training outputs\n",
            "tensor([[0.1905, 0.5786, 0.2309],\n",
            "        [0.9052, 0.0569, 0.0378],\n",
            "        [0.7796, 0.1541, 0.0663],\n",
            "        [0.3804, 0.5898, 0.0298],\n",
            "        [0.1488, 0.5978, 0.2534],\n",
            "        [0.3708, 0.3365, 0.2927],\n",
            "        [0.8647, 0.0540, 0.0812],\n",
            "        [0.2365, 0.2422, 0.5213]], device='cuda:0', grad_fn=<SoftmaxBackward0>)\n",
            "prediction: tensor([1, 0, 0, 1, 1, 0, 0, 2], device='cuda:0')\n",
            "train labels: tensor([0, 0, 1, 0, 1, 0, 0, 2], device='cuda:0')\n"
          ]
        },
        {
          "output_type": "stream",
          "name": "stderr",
          "text": [
            "\r 25%|██▌       | 16/63 [00:11<00:33,  1.41it/s]"
          ]
        },
        {
          "output_type": "stream",
          "name": "stdout",
          "text": [
            "training logits: tensor([[0.2085, 0.1591, 0.6324],\n",
            "        [0.2302, 0.7045, 0.0653],\n",
            "        [0.6674, 0.1159, 0.2166],\n",
            "        [0.8033, 0.1161, 0.0807],\n",
            "        [0.8345, 0.0814, 0.0841],\n",
            "        [0.1844, 0.6430, 0.1726],\n",
            "        [0.1548, 0.5891, 0.2560],\n",
            "        [0.1371, 0.7932, 0.0697]], device='cuda:0', grad_fn=<SoftmaxBackward0>)\n",
            "training outputs\n",
            "tensor([[0.2085, 0.1591, 0.6324],\n",
            "        [0.2302, 0.7045, 0.0653],\n",
            "        [0.6674, 0.1159, 0.2166],\n",
            "        [0.8033, 0.1161, 0.0807],\n",
            "        [0.8345, 0.0814, 0.0841],\n",
            "        [0.1844, 0.6430, 0.1726],\n",
            "        [0.1548, 0.5891, 0.2560],\n",
            "        [0.1371, 0.7932, 0.0697]], device='cuda:0', grad_fn=<SoftmaxBackward0>)\n",
            "prediction: tensor([2, 1, 0, 0, 0, 1, 1, 1], device='cuda:0')\n",
            "train labels: tensor([0, 1, 1, 0, 1, 1, 1, 2], device='cuda:0')\n"
          ]
        },
        {
          "output_type": "stream",
          "name": "stderr",
          "text": [
            "\r 27%|██▋       | 17/63 [00:11<00:32,  1.41it/s]"
          ]
        },
        {
          "output_type": "stream",
          "name": "stdout",
          "text": [
            "training logits: tensor([[0.0770, 0.7922, 0.1308],\n",
            "        [0.2729, 0.6417, 0.0854],\n",
            "        [0.8373, 0.0924, 0.0703],\n",
            "        [0.7933, 0.0746, 0.1321],\n",
            "        [0.8955, 0.0652, 0.0393],\n",
            "        [0.4519, 0.4130, 0.1351],\n",
            "        [0.9064, 0.0468, 0.0468],\n",
            "        [0.8765, 0.0759, 0.0476]], device='cuda:0', grad_fn=<SoftmaxBackward0>)\n",
            "training outputs\n",
            "tensor([[0.0770, 0.7922, 0.1308],\n",
            "        [0.2729, 0.6417, 0.0854],\n",
            "        [0.8373, 0.0924, 0.0703],\n",
            "        [0.7933, 0.0746, 0.1321],\n",
            "        [0.8955, 0.0652, 0.0393],\n",
            "        [0.4519, 0.4130, 0.1351],\n",
            "        [0.9064, 0.0468, 0.0468],\n",
            "        [0.8765, 0.0759, 0.0476]], device='cuda:0', grad_fn=<SoftmaxBackward0>)\n",
            "prediction: tensor([1, 1, 0, 0, 0, 0, 0, 0], device='cuda:0')\n",
            "train labels: tensor([1, 1, 0, 1, 0, 1, 0, 0], device='cuda:0')\n"
          ]
        },
        {
          "output_type": "stream",
          "name": "stderr",
          "text": [
            "\r 29%|██▊       | 18/63 [00:12<00:31,  1.41it/s]"
          ]
        },
        {
          "output_type": "stream",
          "name": "stdout",
          "text": [
            "training logits: tensor([[0.1403, 0.7273, 0.1325],\n",
            "        [0.1295, 0.1372, 0.7334],\n",
            "        [0.4478, 0.2590, 0.2933],\n",
            "        [0.1257, 0.7860, 0.0884],\n",
            "        [0.1412, 0.0815, 0.7773],\n",
            "        [0.3236, 0.5866, 0.0898],\n",
            "        [0.9309, 0.0352, 0.0338],\n",
            "        [0.6358, 0.2294, 0.1348]], device='cuda:0', grad_fn=<SoftmaxBackward0>)\n",
            "training outputs\n",
            "tensor([[0.1403, 0.7273, 0.1325],\n",
            "        [0.1295, 0.1372, 0.7334],\n",
            "        [0.4478, 0.2590, 0.2933],\n",
            "        [0.1257, 0.7860, 0.0884],\n",
            "        [0.1412, 0.0815, 0.7773],\n",
            "        [0.3236, 0.5866, 0.0898],\n",
            "        [0.9309, 0.0352, 0.0338],\n",
            "        [0.6358, 0.2294, 0.1348]], device='cuda:0', grad_fn=<SoftmaxBackward0>)\n",
            "prediction: tensor([1, 2, 0, 1, 2, 1, 0, 0], device='cuda:0')\n",
            "train labels: tensor([1, 2, 2, 1, 2, 2, 0, 0], device='cuda:0')\n"
          ]
        },
        {
          "output_type": "stream",
          "name": "stderr",
          "text": [
            "\r 30%|███       | 19/63 [00:13<00:31,  1.41it/s]"
          ]
        },
        {
          "output_type": "stream",
          "name": "stdout",
          "text": [
            "training logits: tensor([[0.1214, 0.7446, 0.1340],\n",
            "        [0.9565, 0.0171, 0.0264],\n",
            "        [0.2929, 0.5726, 0.1344],\n",
            "        [0.0726, 0.1768, 0.7506],\n",
            "        [0.3246, 0.3899, 0.2854],\n",
            "        [0.0856, 0.8039, 0.1105],\n",
            "        [0.9627, 0.0180, 0.0193],\n",
            "        [0.7907, 0.1329, 0.0764]], device='cuda:0', grad_fn=<SoftmaxBackward0>)\n",
            "training outputs\n",
            "tensor([[0.1214, 0.7446, 0.1340],\n",
            "        [0.9565, 0.0171, 0.0264],\n",
            "        [0.2929, 0.5726, 0.1344],\n",
            "        [0.0726, 0.1768, 0.7506],\n",
            "        [0.3246, 0.3899, 0.2854],\n",
            "        [0.0856, 0.8039, 0.1105],\n",
            "        [0.9627, 0.0180, 0.0193],\n",
            "        [0.7907, 0.1329, 0.0764]], device='cuda:0', grad_fn=<SoftmaxBackward0>)\n",
            "prediction: tensor([1, 0, 1, 2, 1, 1, 0, 0], device='cuda:0')\n",
            "train labels: tensor([1, 0, 0, 2, 0, 1, 0, 1], device='cuda:0')\n"
          ]
        },
        {
          "output_type": "stream",
          "name": "stderr",
          "text": [
            "\r 32%|███▏      | 20/63 [00:14<00:30,  1.40it/s]"
          ]
        },
        {
          "output_type": "stream",
          "name": "stdout",
          "text": [
            "training logits: tensor([[0.3451, 0.2453, 0.4097],\n",
            "        [0.8922, 0.0513, 0.0564],\n",
            "        [0.1946, 0.2224, 0.5830],\n",
            "        [0.6688, 0.2325, 0.0987],\n",
            "        [0.2652, 0.0858, 0.6490],\n",
            "        [0.8712, 0.0401, 0.0886],\n",
            "        [0.2541, 0.2403, 0.5056],\n",
            "        [0.0868, 0.7250, 0.1882]], device='cuda:0', grad_fn=<SoftmaxBackward0>)\n",
            "training outputs\n",
            "tensor([[0.3451, 0.2453, 0.4097],\n",
            "        [0.8922, 0.0513, 0.0564],\n",
            "        [0.1946, 0.2224, 0.5830],\n",
            "        [0.6688, 0.2325, 0.0987],\n",
            "        [0.2652, 0.0858, 0.6490],\n",
            "        [0.8712, 0.0401, 0.0886],\n",
            "        [0.2541, 0.2403, 0.5056],\n",
            "        [0.0868, 0.7250, 0.1882]], device='cuda:0', grad_fn=<SoftmaxBackward0>)\n",
            "prediction: tensor([2, 0, 2, 0, 2, 0, 2, 1], device='cuda:0')\n",
            "train labels: tensor([2, 0, 2, 1, 2, 0, 2, 2], device='cuda:0')\n"
          ]
        },
        {
          "output_type": "stream",
          "name": "stderr",
          "text": [
            "\r 33%|███▎      | 21/63 [00:14<00:30,  1.40it/s]"
          ]
        },
        {
          "output_type": "stream",
          "name": "stdout",
          "text": [
            "training logits: tensor([[0.0800, 0.7898, 0.1303],\n",
            "        [0.7402, 0.1693, 0.0905],\n",
            "        [0.2111, 0.7255, 0.0634],\n",
            "        [0.0898, 0.8522, 0.0580],\n",
            "        [0.7154, 0.0844, 0.2002],\n",
            "        [0.9446, 0.0289, 0.0265],\n",
            "        [0.1177, 0.0642, 0.8181],\n",
            "        [0.2772, 0.2364, 0.4864]], device='cuda:0', grad_fn=<SoftmaxBackward0>)\n",
            "training outputs\n",
            "tensor([[0.0800, 0.7898, 0.1303],\n",
            "        [0.7402, 0.1693, 0.0905],\n",
            "        [0.2111, 0.7255, 0.0634],\n",
            "        [0.0898, 0.8522, 0.0580],\n",
            "        [0.7154, 0.0844, 0.2002],\n",
            "        [0.9446, 0.0289, 0.0265],\n",
            "        [0.1177, 0.0642, 0.8181],\n",
            "        [0.2772, 0.2364, 0.4864]], device='cuda:0', grad_fn=<SoftmaxBackward0>)\n",
            "prediction: tensor([1, 0, 1, 1, 0, 0, 2, 2], device='cuda:0')\n",
            "train labels: tensor([1, 0, 1, 1, 0, 0, 2, 2], device='cuda:0')\n"
          ]
        },
        {
          "output_type": "stream",
          "name": "stderr",
          "text": [
            "\r 35%|███▍      | 22/63 [00:15<00:29,  1.39it/s]"
          ]
        },
        {
          "output_type": "stream",
          "name": "stdout",
          "text": [
            "training logits: tensor([[0.6526, 0.2887, 0.0587],\n",
            "        [0.8224, 0.1206, 0.0570],\n",
            "        [0.2828, 0.3706, 0.3466],\n",
            "        [0.2725, 0.1373, 0.5902],\n",
            "        [0.1333, 0.7149, 0.1518],\n",
            "        [0.0790, 0.8886, 0.0324],\n",
            "        [0.2075, 0.3594, 0.4331],\n",
            "        [0.1570, 0.0665, 0.7765]], device='cuda:0', grad_fn=<SoftmaxBackward0>)\n",
            "training outputs\n",
            "tensor([[0.6526, 0.2887, 0.0587],\n",
            "        [0.8224, 0.1206, 0.0570],\n",
            "        [0.2828, 0.3706, 0.3466],\n",
            "        [0.2725, 0.1373, 0.5902],\n",
            "        [0.1333, 0.7149, 0.1518],\n",
            "        [0.0790, 0.8886, 0.0324],\n",
            "        [0.2075, 0.3594, 0.4331],\n",
            "        [0.1570, 0.0665, 0.7765]], device='cuda:0', grad_fn=<SoftmaxBackward0>)\n",
            "prediction: tensor([0, 0, 1, 2, 1, 1, 2, 2], device='cuda:0')\n",
            "train labels: tensor([1, 1, 2, 2, 1, 1, 2, 2], device='cuda:0')\n"
          ]
        },
        {
          "output_type": "stream",
          "name": "stderr",
          "text": [
            "\r 37%|███▋      | 23/63 [00:16<00:28,  1.40it/s]"
          ]
        },
        {
          "output_type": "stream",
          "name": "stdout",
          "text": [
            "training logits: tensor([[0.0735, 0.8621, 0.0644],\n",
            "        [0.0698, 0.7157, 0.2145],\n",
            "        [0.1061, 0.4722, 0.4217],\n",
            "        [0.9203, 0.0520, 0.0277],\n",
            "        [0.9288, 0.0285, 0.0427],\n",
            "        [0.5774, 0.1430, 0.2796],\n",
            "        [0.0738, 0.1866, 0.7397],\n",
            "        [0.3136, 0.1563, 0.5301]], device='cuda:0', grad_fn=<SoftmaxBackward0>)\n",
            "training outputs\n",
            "tensor([[0.0735, 0.8621, 0.0644],\n",
            "        [0.0698, 0.7157, 0.2145],\n",
            "        [0.1061, 0.4722, 0.4217],\n",
            "        [0.9203, 0.0520, 0.0277],\n",
            "        [0.9288, 0.0285, 0.0427],\n",
            "        [0.5774, 0.1430, 0.2796],\n",
            "        [0.0738, 0.1866, 0.7397],\n",
            "        [0.3136, 0.1563, 0.5301]], device='cuda:0', grad_fn=<SoftmaxBackward0>)\n",
            "prediction: tensor([1, 1, 1, 0, 0, 0, 2, 2], device='cuda:0')\n",
            "train labels: tensor([1, 1, 2, 0, 2, 0, 2, 1], device='cuda:0')\n"
          ]
        },
        {
          "output_type": "stream",
          "name": "stderr",
          "text": [
            "\r 38%|███▊      | 24/63 [00:17<00:28,  1.39it/s]"
          ]
        },
        {
          "output_type": "stream",
          "name": "stdout",
          "text": [
            "training logits: tensor([[0.3634, 0.2448, 0.3918],\n",
            "        [0.0417, 0.1081, 0.8503],\n",
            "        [0.8842, 0.0322, 0.0836],\n",
            "        [0.0813, 0.8668, 0.0518],\n",
            "        [0.3205, 0.0977, 0.5817],\n",
            "        [0.9195, 0.0228, 0.0577],\n",
            "        [0.1715, 0.2567, 0.5718],\n",
            "        [0.0948, 0.8334, 0.0718]], device='cuda:0', grad_fn=<SoftmaxBackward0>)\n",
            "training outputs\n",
            "tensor([[0.3634, 0.2448, 0.3918],\n",
            "        [0.0417, 0.1081, 0.8503],\n",
            "        [0.8842, 0.0322, 0.0836],\n",
            "        [0.0813, 0.8668, 0.0518],\n",
            "        [0.3205, 0.0977, 0.5817],\n",
            "        [0.9195, 0.0228, 0.0577],\n",
            "        [0.1715, 0.2567, 0.5718],\n",
            "        [0.0948, 0.8334, 0.0718]], device='cuda:0', grad_fn=<SoftmaxBackward0>)\n",
            "prediction: tensor([2, 2, 0, 1, 2, 0, 2, 1], device='cuda:0')\n",
            "train labels: tensor([0, 2, 0, 1, 2, 0, 2, 1], device='cuda:0')\n"
          ]
        },
        {
          "output_type": "stream",
          "name": "stderr",
          "text": [
            "\r 40%|███▉      | 25/63 [00:17<00:27,  1.38it/s]"
          ]
        },
        {
          "output_type": "stream",
          "name": "stdout",
          "text": [
            "training logits: tensor([[0.3121, 0.1385, 0.5494],\n",
            "        [0.8497, 0.0663, 0.0840],\n",
            "        [0.0440, 0.8997, 0.0563],\n",
            "        [0.9640, 0.0205, 0.0155],\n",
            "        [0.1880, 0.5642, 0.2478],\n",
            "        [0.1645, 0.5051, 0.3305],\n",
            "        [0.7336, 0.1079, 0.1585],\n",
            "        [0.7273, 0.1700, 0.1026]], device='cuda:0', grad_fn=<SoftmaxBackward0>)\n",
            "training outputs\n",
            "tensor([[0.3121, 0.1385, 0.5494],\n",
            "        [0.8497, 0.0663, 0.0840],\n",
            "        [0.0440, 0.8997, 0.0563],\n",
            "        [0.9640, 0.0205, 0.0155],\n",
            "        [0.1880, 0.5642, 0.2478],\n",
            "        [0.1645, 0.5051, 0.3305],\n",
            "        [0.7336, 0.1079, 0.1585],\n",
            "        [0.7273, 0.1700, 0.1026]], device='cuda:0', grad_fn=<SoftmaxBackward0>)\n",
            "prediction: tensor([2, 0, 1, 0, 1, 1, 0, 0], device='cuda:0')\n",
            "train labels: tensor([2, 0, 1, 0, 1, 2, 0, 0], device='cuda:0')\n"
          ]
        },
        {
          "output_type": "stream",
          "name": "stderr",
          "text": [
            "\r 41%|████▏     | 26/63 [00:18<00:26,  1.38it/s]"
          ]
        },
        {
          "output_type": "stream",
          "name": "stdout",
          "text": [
            "training logits: tensor([[0.8095, 0.1211, 0.0694],\n",
            "        [0.1698, 0.6029, 0.2272],\n",
            "        [0.2128, 0.1611, 0.6260],\n",
            "        [0.0773, 0.2338, 0.6888],\n",
            "        [0.2129, 0.5379, 0.2492],\n",
            "        [0.1240, 0.3516, 0.5244],\n",
            "        [0.1014, 0.2241, 0.6746],\n",
            "        [0.9180, 0.0388, 0.0432]], device='cuda:0', grad_fn=<SoftmaxBackward0>)\n",
            "training outputs\n",
            "tensor([[0.8095, 0.1211, 0.0694],\n",
            "        [0.1698, 0.6029, 0.2272],\n",
            "        [0.2128, 0.1611, 0.6260],\n",
            "        [0.0773, 0.2338, 0.6888],\n",
            "        [0.2129, 0.5379, 0.2492],\n",
            "        [0.1240, 0.3516, 0.5244],\n",
            "        [0.1014, 0.2241, 0.6746],\n",
            "        [0.9180, 0.0388, 0.0432]], device='cuda:0', grad_fn=<SoftmaxBackward0>)\n",
            "prediction: tensor([0, 1, 2, 2, 1, 2, 2, 0], device='cuda:0')\n",
            "train labels: tensor([1, 1, 2, 1, 0, 2, 0, 0], device='cuda:0')\n"
          ]
        },
        {
          "output_type": "stream",
          "name": "stderr",
          "text": [
            "\r 43%|████▎     | 27/63 [00:19<00:26,  1.38it/s]"
          ]
        },
        {
          "output_type": "stream",
          "name": "stdout",
          "text": [
            "training logits: tensor([[0.0796, 0.8059, 0.1144],\n",
            "        [0.0860, 0.1859, 0.7281],\n",
            "        [0.1726, 0.2485, 0.5789],\n",
            "        [0.2601, 0.0871, 0.6528],\n",
            "        [0.0889, 0.7932, 0.1179],\n",
            "        [0.4439, 0.2211, 0.3350],\n",
            "        [0.0393, 0.8948, 0.0660],\n",
            "        [0.1414, 0.8006, 0.0580]], device='cuda:0', grad_fn=<SoftmaxBackward0>)\n",
            "training outputs\n",
            "tensor([[0.0796, 0.8059, 0.1144],\n",
            "        [0.0860, 0.1859, 0.7281],\n",
            "        [0.1726, 0.2485, 0.5789],\n",
            "        [0.2601, 0.0871, 0.6528],\n",
            "        [0.0889, 0.7932, 0.1179],\n",
            "        [0.4439, 0.2211, 0.3350],\n",
            "        [0.0393, 0.8948, 0.0660],\n",
            "        [0.1414, 0.8006, 0.0580]], device='cuda:0', grad_fn=<SoftmaxBackward0>)\n",
            "prediction: tensor([1, 2, 2, 2, 1, 0, 1, 1], device='cuda:0')\n",
            "train labels: tensor([1, 2, 2, 2, 0, 2, 1, 2], device='cuda:0')\n"
          ]
        },
        {
          "output_type": "stream",
          "name": "stderr",
          "text": [
            "\r 44%|████▍     | 28/63 [00:19<00:25,  1.37it/s]"
          ]
        },
        {
          "output_type": "stream",
          "name": "stdout",
          "text": [
            "training logits: tensor([[0.5098, 0.3514, 0.1388],\n",
            "        [0.9410, 0.0408, 0.0182],\n",
            "        [0.2435, 0.0925, 0.6640],\n",
            "        [0.2351, 0.1157, 0.6492],\n",
            "        [0.9261, 0.0266, 0.0473],\n",
            "        [0.6537, 0.2073, 0.1390],\n",
            "        [0.0878, 0.1001, 0.8122],\n",
            "        [0.2139, 0.1370, 0.6491]], device='cuda:0', grad_fn=<SoftmaxBackward0>)\n",
            "training outputs\n",
            "tensor([[0.5098, 0.3514, 0.1388],\n",
            "        [0.9410, 0.0408, 0.0182],\n",
            "        [0.2435, 0.0925, 0.6640],\n",
            "        [0.2351, 0.1157, 0.6492],\n",
            "        [0.9261, 0.0266, 0.0473],\n",
            "        [0.6537, 0.2073, 0.1390],\n",
            "        [0.0878, 0.1001, 0.8122],\n",
            "        [0.2139, 0.1370, 0.6491]], device='cuda:0', grad_fn=<SoftmaxBackward0>)\n",
            "prediction: tensor([0, 0, 2, 2, 0, 0, 2, 2], device='cuda:0')\n",
            "train labels: tensor([2, 0, 0, 0, 0, 2, 2, 2], device='cuda:0')\n"
          ]
        },
        {
          "output_type": "stream",
          "name": "stderr",
          "text": [
            "\r 46%|████▌     | 29/63 [00:20<00:24,  1.37it/s]"
          ]
        },
        {
          "output_type": "stream",
          "name": "stdout",
          "text": [
            "training logits: tensor([[0.7276, 0.1067, 0.1657],\n",
            "        [0.9160, 0.0324, 0.0516],\n",
            "        [0.8740, 0.0610, 0.0651],\n",
            "        [0.0793, 0.7228, 0.1979],\n",
            "        [0.1015, 0.1299, 0.7686],\n",
            "        [0.0647, 0.8263, 0.1090],\n",
            "        [0.2416, 0.1991, 0.5594],\n",
            "        [0.7985, 0.0315, 0.1700]], device='cuda:0', grad_fn=<SoftmaxBackward0>)\n",
            "training outputs\n",
            "tensor([[0.7276, 0.1067, 0.1657],\n",
            "        [0.9160, 0.0324, 0.0516],\n",
            "        [0.8740, 0.0610, 0.0651],\n",
            "        [0.0793, 0.7228, 0.1979],\n",
            "        [0.1015, 0.1299, 0.7686],\n",
            "        [0.0647, 0.8263, 0.1090],\n",
            "        [0.2416, 0.1991, 0.5594],\n",
            "        [0.7985, 0.0315, 0.1700]], device='cuda:0', grad_fn=<SoftmaxBackward0>)\n",
            "prediction: tensor([0, 0, 0, 1, 2, 1, 2, 0], device='cuda:0')\n",
            "train labels: tensor([0, 0, 1, 1, 2, 1, 2, 0], device='cuda:0')\n"
          ]
        },
        {
          "output_type": "stream",
          "name": "stderr",
          "text": [
            "\r 48%|████▊     | 30/63 [00:21<00:24,  1.37it/s]"
          ]
        },
        {
          "output_type": "stream",
          "name": "stdout",
          "text": [
            "training logits: tensor([[0.1643, 0.2238, 0.6119],\n",
            "        [0.0738, 0.0710, 0.8552],\n",
            "        [0.4075, 0.4442, 0.1483],\n",
            "        [0.2951, 0.5806, 0.1242],\n",
            "        [0.0559, 0.7153, 0.2288],\n",
            "        [0.7626, 0.1617, 0.0757],\n",
            "        [0.1575, 0.7435, 0.0990],\n",
            "        [0.2859, 0.1614, 0.5527]], device='cuda:0', grad_fn=<SoftmaxBackward0>)\n",
            "training outputs\n",
            "tensor([[0.1643, 0.2238, 0.6119],\n",
            "        [0.0738, 0.0710, 0.8552],\n",
            "        [0.4075, 0.4442, 0.1483],\n",
            "        [0.2951, 0.5806, 0.1242],\n",
            "        [0.0559, 0.7153, 0.2288],\n",
            "        [0.7626, 0.1617, 0.0757],\n",
            "        [0.1575, 0.7435, 0.0990],\n",
            "        [0.2859, 0.1614, 0.5527]], device='cuda:0', grad_fn=<SoftmaxBackward0>)\n",
            "prediction: tensor([2, 2, 1, 1, 1, 0, 1, 2], device='cuda:0')\n",
            "train labels: tensor([2, 2, 1, 1, 1, 1, 1, 2], device='cuda:0')\n"
          ]
        },
        {
          "output_type": "stream",
          "name": "stderr",
          "text": [
            "\r 49%|████▉     | 31/63 [00:22<00:23,  1.37it/s]"
          ]
        },
        {
          "output_type": "stream",
          "name": "stdout",
          "text": [
            "training logits: tensor([[0.8839, 0.0713, 0.0448],\n",
            "        [0.2319, 0.1066, 0.6615],\n",
            "        [0.1038, 0.7267, 0.1695],\n",
            "        [0.0530, 0.3186, 0.6284],\n",
            "        [0.2375, 0.1793, 0.5832],\n",
            "        [0.8865, 0.0414, 0.0721],\n",
            "        [0.0364, 0.8221, 0.1415],\n",
            "        [0.8179, 0.1347, 0.0473]], device='cuda:0', grad_fn=<SoftmaxBackward0>)\n",
            "training outputs\n",
            "tensor([[0.8839, 0.0713, 0.0448],\n",
            "        [0.2319, 0.1066, 0.6615],\n",
            "        [0.1038, 0.7267, 0.1695],\n",
            "        [0.0530, 0.3186, 0.6284],\n",
            "        [0.2375, 0.1793, 0.5832],\n",
            "        [0.8865, 0.0414, 0.0721],\n",
            "        [0.0364, 0.8221, 0.1415],\n",
            "        [0.8179, 0.1347, 0.0473]], device='cuda:0', grad_fn=<SoftmaxBackward0>)\n",
            "prediction: tensor([0, 2, 1, 2, 2, 0, 1, 0], device='cuda:0')\n",
            "train labels: tensor([2, 0, 1, 1, 2, 0, 1, 0], device='cuda:0')\n"
          ]
        },
        {
          "output_type": "stream",
          "name": "stderr",
          "text": [
            "\r 51%|█████     | 32/63 [00:22<00:22,  1.38it/s]"
          ]
        },
        {
          "output_type": "stream",
          "name": "stdout",
          "text": [
            "training logits: tensor([[0.0428, 0.5687, 0.3885],\n",
            "        [0.3428, 0.5563, 0.1009],\n",
            "        [0.0698, 0.8519, 0.0783],\n",
            "        [0.9199, 0.0494, 0.0307],\n",
            "        [0.1057, 0.8661, 0.0282],\n",
            "        [0.0230, 0.9012, 0.0758],\n",
            "        [0.1614, 0.1036, 0.7350],\n",
            "        [0.2172, 0.0688, 0.7140]], device='cuda:0', grad_fn=<SoftmaxBackward0>)\n",
            "training outputs\n",
            "tensor([[0.0428, 0.5687, 0.3885],\n",
            "        [0.3428, 0.5563, 0.1009],\n",
            "        [0.0698, 0.8519, 0.0783],\n",
            "        [0.9199, 0.0494, 0.0307],\n",
            "        [0.1057, 0.8661, 0.0282],\n",
            "        [0.0230, 0.9012, 0.0758],\n",
            "        [0.1614, 0.1036, 0.7350],\n",
            "        [0.2172, 0.0688, 0.7140]], device='cuda:0', grad_fn=<SoftmaxBackward0>)\n",
            "prediction: tensor([1, 1, 1, 0, 1, 1, 2, 2], device='cuda:0')\n",
            "train labels: tensor([1, 2, 1, 0, 1, 1, 2, 2], device='cuda:0')\n"
          ]
        },
        {
          "output_type": "stream",
          "name": "stderr",
          "text": [
            "\r 52%|█████▏    | 33/63 [00:23<00:21,  1.38it/s]"
          ]
        },
        {
          "output_type": "stream",
          "name": "stdout",
          "text": [
            "training logits: tensor([[0.1855, 0.1609, 0.6536],\n",
            "        [0.9365, 0.0293, 0.0343],\n",
            "        [0.0667, 0.8151, 0.1182],\n",
            "        [0.6617, 0.2806, 0.0577],\n",
            "        [0.0944, 0.0683, 0.8373],\n",
            "        [0.2045, 0.6681, 0.1273],\n",
            "        [0.0836, 0.8123, 0.1041],\n",
            "        [0.3515, 0.4323, 0.2162]], device='cuda:0', grad_fn=<SoftmaxBackward0>)\n",
            "training outputs\n",
            "tensor([[0.1855, 0.1609, 0.6536],\n",
            "        [0.9365, 0.0293, 0.0343],\n",
            "        [0.0667, 0.8151, 0.1182],\n",
            "        [0.6617, 0.2806, 0.0577],\n",
            "        [0.0944, 0.0683, 0.8373],\n",
            "        [0.2045, 0.6681, 0.1273],\n",
            "        [0.0836, 0.8123, 0.1041],\n",
            "        [0.3515, 0.4323, 0.2162]], device='cuda:0', grad_fn=<SoftmaxBackward0>)\n",
            "prediction: tensor([2, 0, 1, 0, 2, 1, 1, 1], device='cuda:0')\n",
            "train labels: tensor([0, 0, 1, 0, 2, 1, 1, 2], device='cuda:0')\n"
          ]
        },
        {
          "output_type": "stream",
          "name": "stderr",
          "text": [
            "\r 54%|█████▍    | 34/63 [00:24<00:21,  1.37it/s]"
          ]
        },
        {
          "output_type": "stream",
          "name": "stdout",
          "text": [
            "training logits: tensor([[0.4797, 0.3151, 0.2052],\n",
            "        [0.0987, 0.1966, 0.7047],\n",
            "        [0.1745, 0.3605, 0.4650],\n",
            "        [0.1618, 0.1462, 0.6920],\n",
            "        [0.9147, 0.0620, 0.0233],\n",
            "        [0.1398, 0.2163, 0.6439],\n",
            "        [0.0662, 0.1279, 0.8059],\n",
            "        [0.5033, 0.2678, 0.2289]], device='cuda:0', grad_fn=<SoftmaxBackward0>)\n",
            "training outputs\n",
            "tensor([[0.4797, 0.3151, 0.2052],\n",
            "        [0.0987, 0.1966, 0.7047],\n",
            "        [0.1745, 0.3605, 0.4650],\n",
            "        [0.1618, 0.1462, 0.6920],\n",
            "        [0.9147, 0.0620, 0.0233],\n",
            "        [0.1398, 0.2163, 0.6439],\n",
            "        [0.0662, 0.1279, 0.8059],\n",
            "        [0.5033, 0.2678, 0.2289]], device='cuda:0', grad_fn=<SoftmaxBackward0>)\n",
            "prediction: tensor([0, 2, 2, 2, 0, 2, 2, 0], device='cuda:0')\n",
            "train labels: tensor([1, 2, 2, 2, 0, 2, 2, 2], device='cuda:0')\n"
          ]
        },
        {
          "output_type": "stream",
          "name": "stderr",
          "text": [
            "\r 56%|█████▌    | 35/63 [00:25<00:20,  1.37it/s]"
          ]
        },
        {
          "output_type": "stream",
          "name": "stdout",
          "text": [
            "training logits: tensor([[0.0844, 0.7746, 0.1409],\n",
            "        [0.8758, 0.0942, 0.0301],\n",
            "        [0.1100, 0.8277, 0.0623],\n",
            "        [0.0721, 0.2192, 0.7087],\n",
            "        [0.9263, 0.0498, 0.0239],\n",
            "        [0.9250, 0.0356, 0.0394],\n",
            "        [0.2136, 0.5754, 0.2109],\n",
            "        [0.1837, 0.5321, 0.2842]], device='cuda:0', grad_fn=<SoftmaxBackward0>)\n",
            "training outputs\n",
            "tensor([[0.0844, 0.7746, 0.1409],\n",
            "        [0.8758, 0.0942, 0.0301],\n",
            "        [0.1100, 0.8277, 0.0623],\n",
            "        [0.0721, 0.2192, 0.7087],\n",
            "        [0.9263, 0.0498, 0.0239],\n",
            "        [0.9250, 0.0356, 0.0394],\n",
            "        [0.2136, 0.5754, 0.2109],\n",
            "        [0.1837, 0.5321, 0.2842]], device='cuda:0', grad_fn=<SoftmaxBackward0>)\n",
            "prediction: tensor([1, 0, 1, 2, 0, 0, 1, 1], device='cuda:0')\n",
            "train labels: tensor([1, 0, 1, 2, 0, 2, 1, 0], device='cuda:0')\n"
          ]
        },
        {
          "output_type": "stream",
          "name": "stderr",
          "text": [
            "\r 57%|█████▋    | 36/63 [00:25<00:19,  1.37it/s]"
          ]
        },
        {
          "output_type": "stream",
          "name": "stdout",
          "text": [
            "training logits: tensor([[0.6390, 0.2769, 0.0840],\n",
            "        [0.0821, 0.1065, 0.8114],\n",
            "        [0.2100, 0.7022, 0.0878],\n",
            "        [0.0313, 0.8913, 0.0775],\n",
            "        [0.6214, 0.1053, 0.2732],\n",
            "        [0.1292, 0.3590, 0.5117],\n",
            "        [0.3129, 0.5862, 0.1009],\n",
            "        [0.8015, 0.1754, 0.0232]], device='cuda:0', grad_fn=<SoftmaxBackward0>)\n",
            "training outputs\n",
            "tensor([[0.6390, 0.2769, 0.0840],\n",
            "        [0.0821, 0.1065, 0.8114],\n",
            "        [0.2100, 0.7022, 0.0878],\n",
            "        [0.0313, 0.8913, 0.0775],\n",
            "        [0.6214, 0.1053, 0.2732],\n",
            "        [0.1292, 0.3590, 0.5117],\n",
            "        [0.3129, 0.5862, 0.1009],\n",
            "        [0.8015, 0.1754, 0.0232]], device='cuda:0', grad_fn=<SoftmaxBackward0>)\n",
            "prediction: tensor([0, 2, 1, 1, 0, 2, 1, 0], device='cuda:0')\n",
            "train labels: tensor([0, 2, 1, 1, 1, 0, 1, 0], device='cuda:0')\n"
          ]
        },
        {
          "output_type": "stream",
          "name": "stderr",
          "text": [
            "\r 59%|█████▊    | 37/63 [00:26<00:18,  1.37it/s]"
          ]
        },
        {
          "output_type": "stream",
          "name": "stdout",
          "text": [
            "training logits: tensor([[0.0972, 0.8621, 0.0406],\n",
            "        [0.8268, 0.1482, 0.0249],\n",
            "        [0.2797, 0.6662, 0.0542],\n",
            "        [0.0820, 0.4358, 0.4822],\n",
            "        [0.0463, 0.7142, 0.2395],\n",
            "        [0.8015, 0.0886, 0.1098],\n",
            "        [0.3148, 0.6278, 0.0574],\n",
            "        [0.0481, 0.2116, 0.7404]], device='cuda:0', grad_fn=<SoftmaxBackward0>)\n",
            "training outputs\n",
            "tensor([[0.0972, 0.8621, 0.0406],\n",
            "        [0.8268, 0.1482, 0.0249],\n",
            "        [0.2797, 0.6662, 0.0542],\n",
            "        [0.0820, 0.4358, 0.4822],\n",
            "        [0.0463, 0.7142, 0.2395],\n",
            "        [0.8015, 0.0886, 0.1098],\n",
            "        [0.3148, 0.6278, 0.0574],\n",
            "        [0.0481, 0.2116, 0.7404]], device='cuda:0', grad_fn=<SoftmaxBackward0>)\n",
            "prediction: tensor([1, 0, 1, 2, 1, 0, 1, 2], device='cuda:0')\n",
            "train labels: tensor([1, 1, 1, 2, 0, 0, 1, 2], device='cuda:0')\n"
          ]
        },
        {
          "output_type": "stream",
          "name": "stderr",
          "text": [
            "\r 60%|██████    | 38/63 [00:27<00:18,  1.37it/s]"
          ]
        },
        {
          "output_type": "stream",
          "name": "stdout",
          "text": [
            "training logits: tensor([[0.9494, 0.0211, 0.0294],\n",
            "        [0.1664, 0.1367, 0.6970],\n",
            "        [0.3072, 0.2585, 0.4343],\n",
            "        [0.0626, 0.3537, 0.5837],\n",
            "        [0.9454, 0.0338, 0.0208],\n",
            "        [0.4924, 0.1099, 0.3978],\n",
            "        [0.1592, 0.2664, 0.5744],\n",
            "        [0.1253, 0.8080, 0.0667]], device='cuda:0', grad_fn=<SoftmaxBackward0>)\n",
            "training outputs\n",
            "tensor([[0.9494, 0.0211, 0.0294],\n",
            "        [0.1664, 0.1367, 0.6970],\n",
            "        [0.3072, 0.2585, 0.4343],\n",
            "        [0.0626, 0.3537, 0.5837],\n",
            "        [0.9454, 0.0338, 0.0208],\n",
            "        [0.4924, 0.1099, 0.3978],\n",
            "        [0.1592, 0.2664, 0.5744],\n",
            "        [0.1253, 0.8080, 0.0667]], device='cuda:0', grad_fn=<SoftmaxBackward0>)\n",
            "prediction: tensor([0, 2, 2, 2, 0, 0, 2, 1], device='cuda:0')\n",
            "train labels: tensor([0, 2, 1, 2, 0, 0, 2, 1], device='cuda:0')\n"
          ]
        },
        {
          "output_type": "stream",
          "name": "stderr",
          "text": [
            "\r 62%|██████▏   | 39/63 [00:27<00:17,  1.37it/s]"
          ]
        },
        {
          "output_type": "stream",
          "name": "stdout",
          "text": [
            "training logits: tensor([[0.9543, 0.0314, 0.0142],\n",
            "        [0.4881, 0.1436, 0.3683],\n",
            "        [0.9740, 0.0150, 0.0110],\n",
            "        [0.0665, 0.9059, 0.0276],\n",
            "        [0.3263, 0.5414, 0.1323],\n",
            "        [0.8604, 0.0860, 0.0536],\n",
            "        [0.0425, 0.9352, 0.0223],\n",
            "        [0.1383, 0.6807, 0.1810]], device='cuda:0', grad_fn=<SoftmaxBackward0>)\n",
            "training outputs\n",
            "tensor([[0.9543, 0.0314, 0.0142],\n",
            "        [0.4881, 0.1436, 0.3683],\n",
            "        [0.9740, 0.0150, 0.0110],\n",
            "        [0.0665, 0.9059, 0.0276],\n",
            "        [0.3263, 0.5414, 0.1323],\n",
            "        [0.8604, 0.0860, 0.0536],\n",
            "        [0.0425, 0.9352, 0.0223],\n",
            "        [0.1383, 0.6807, 0.1810]], device='cuda:0', grad_fn=<SoftmaxBackward0>)\n",
            "prediction: tensor([0, 0, 0, 1, 1, 0, 1, 1], device='cuda:0')\n",
            "train labels: tensor([0, 2, 0, 1, 1, 2, 1, 1], device='cuda:0')\n"
          ]
        },
        {
          "output_type": "stream",
          "name": "stderr",
          "text": [
            "\r 63%|██████▎   | 40/63 [00:28<00:16,  1.37it/s]"
          ]
        },
        {
          "output_type": "stream",
          "name": "stdout",
          "text": [
            "training logits: tensor([[0.7866, 0.1867, 0.0267],\n",
            "        [0.9404, 0.0385, 0.0211],\n",
            "        [0.9022, 0.0574, 0.0404],\n",
            "        [0.1761, 0.7735, 0.0504],\n",
            "        [0.2106, 0.7127, 0.0767],\n",
            "        [0.2820, 0.1425, 0.5755],\n",
            "        [0.7470, 0.1462, 0.1068],\n",
            "        [0.8994, 0.0808, 0.0198]], device='cuda:0', grad_fn=<SoftmaxBackward0>)\n",
            "training outputs\n",
            "tensor([[0.7866, 0.1867, 0.0267],\n",
            "        [0.9404, 0.0385, 0.0211],\n",
            "        [0.9022, 0.0574, 0.0404],\n",
            "        [0.1761, 0.7735, 0.0504],\n",
            "        [0.2106, 0.7127, 0.0767],\n",
            "        [0.2820, 0.1425, 0.5755],\n",
            "        [0.7470, 0.1462, 0.1068],\n",
            "        [0.8994, 0.0808, 0.0198]], device='cuda:0', grad_fn=<SoftmaxBackward0>)\n",
            "prediction: tensor([0, 0, 0, 1, 1, 2, 0, 0], device='cuda:0')\n",
            "train labels: tensor([0, 0, 2, 1, 1, 2, 0, 0], device='cuda:0')\n"
          ]
        },
        {
          "output_type": "stream",
          "name": "stderr",
          "text": [
            "\r 65%|██████▌   | 41/63 [00:29<00:16,  1.36it/s]"
          ]
        },
        {
          "output_type": "stream",
          "name": "stdout",
          "text": [
            "training logits: tensor([[0.0785, 0.8604, 0.0610],\n",
            "        [0.1209, 0.0767, 0.8024],\n",
            "        [0.0739, 0.2130, 0.7131],\n",
            "        [0.1463, 0.2051, 0.6487],\n",
            "        [0.3769, 0.5962, 0.0269],\n",
            "        [0.0469, 0.9160, 0.0371],\n",
            "        [0.1128, 0.7374, 0.1498],\n",
            "        [0.9614, 0.0198, 0.0189]], device='cuda:0', grad_fn=<SoftmaxBackward0>)\n",
            "training outputs\n",
            "tensor([[0.0785, 0.8604, 0.0610],\n",
            "        [0.1209, 0.0767, 0.8024],\n",
            "        [0.0739, 0.2130, 0.7131],\n",
            "        [0.1463, 0.2051, 0.6487],\n",
            "        [0.3769, 0.5962, 0.0269],\n",
            "        [0.0469, 0.9160, 0.0371],\n",
            "        [0.1128, 0.7374, 0.1498],\n",
            "        [0.9614, 0.0198, 0.0189]], device='cuda:0', grad_fn=<SoftmaxBackward0>)\n",
            "prediction: tensor([1, 2, 2, 2, 1, 1, 1, 0], device='cuda:0')\n",
            "train labels: tensor([1, 2, 1, 0, 1, 1, 2, 0], device='cuda:0')\n"
          ]
        },
        {
          "output_type": "stream",
          "name": "stderr",
          "text": [
            "\r 67%|██████▋   | 42/63 [00:30<00:15,  1.35it/s]"
          ]
        },
        {
          "output_type": "stream",
          "name": "stdout",
          "text": [
            "training logits: tensor([[0.9487, 0.0316, 0.0197],\n",
            "        [0.1903, 0.0401, 0.7696],\n",
            "        [0.1388, 0.1316, 0.7296],\n",
            "        [0.8400, 0.1120, 0.0480],\n",
            "        [0.2695, 0.6553, 0.0753],\n",
            "        [0.8642, 0.0816, 0.0542],\n",
            "        [0.0362, 0.8753, 0.0885],\n",
            "        [0.1126, 0.1237, 0.7637]], device='cuda:0', grad_fn=<SoftmaxBackward0>)\n",
            "training outputs\n",
            "tensor([[0.9487, 0.0316, 0.0197],\n",
            "        [0.1903, 0.0401, 0.7696],\n",
            "        [0.1388, 0.1316, 0.7296],\n",
            "        [0.8400, 0.1120, 0.0480],\n",
            "        [0.2695, 0.6553, 0.0753],\n",
            "        [0.8642, 0.0816, 0.0542],\n",
            "        [0.0362, 0.8753, 0.0885],\n",
            "        [0.1126, 0.1237, 0.7637]], device='cuda:0', grad_fn=<SoftmaxBackward0>)\n",
            "prediction: tensor([0, 2, 2, 0, 1, 0, 1, 2], device='cuda:0')\n",
            "train labels: tensor([0, 2, 0, 0, 1, 0, 1, 2], device='cuda:0')\n"
          ]
        },
        {
          "output_type": "stream",
          "name": "stderr",
          "text": [
            "\r 68%|██████▊   | 43/63 [00:30<00:14,  1.35it/s]"
          ]
        },
        {
          "output_type": "stream",
          "name": "stdout",
          "text": [
            "training logits: tensor([[0.0751, 0.3640, 0.5609],\n",
            "        [0.6666, 0.2431, 0.0903],\n",
            "        [0.9462, 0.0340, 0.0198],\n",
            "        [0.9461, 0.0326, 0.0212],\n",
            "        [0.7974, 0.0725, 0.1301],\n",
            "        [0.0963, 0.7824, 0.1213],\n",
            "        [0.9462, 0.0342, 0.0196],\n",
            "        [0.0761, 0.7367, 0.1872]], device='cuda:0', grad_fn=<SoftmaxBackward0>)\n",
            "training outputs\n",
            "tensor([[0.0751, 0.3640, 0.5609],\n",
            "        [0.6666, 0.2431, 0.0903],\n",
            "        [0.9462, 0.0340, 0.0198],\n",
            "        [0.9461, 0.0326, 0.0212],\n",
            "        [0.7974, 0.0725, 0.1301],\n",
            "        [0.0963, 0.7824, 0.1213],\n",
            "        [0.9462, 0.0342, 0.0196],\n",
            "        [0.0761, 0.7367, 0.1872]], device='cuda:0', grad_fn=<SoftmaxBackward0>)\n",
            "prediction: tensor([2, 0, 0, 0, 0, 1, 0, 1], device='cuda:0')\n",
            "train labels: tensor([2, 1, 0, 0, 2, 1, 0, 1], device='cuda:0')\n"
          ]
        },
        {
          "output_type": "stream",
          "name": "stderr",
          "text": [
            "\r 70%|██████▉   | 44/63 [00:31<00:14,  1.34it/s]"
          ]
        },
        {
          "output_type": "stream",
          "name": "stdout",
          "text": [
            "training logits: tensor([[0.0789, 0.8364, 0.0847],\n",
            "        [0.0776, 0.8965, 0.0259],\n",
            "        [0.6032, 0.3107, 0.0861],\n",
            "        [0.9140, 0.0502, 0.0357],\n",
            "        [0.0427, 0.7785, 0.1788],\n",
            "        [0.0589, 0.9007, 0.0404],\n",
            "        [0.9380, 0.0308, 0.0312],\n",
            "        [0.1431, 0.3107, 0.5462]], device='cuda:0', grad_fn=<SoftmaxBackward0>)\n",
            "training outputs\n",
            "tensor([[0.0789, 0.8364, 0.0847],\n",
            "        [0.0776, 0.8965, 0.0259],\n",
            "        [0.6032, 0.3107, 0.0861],\n",
            "        [0.9140, 0.0502, 0.0357],\n",
            "        [0.0427, 0.7785, 0.1788],\n",
            "        [0.0589, 0.9007, 0.0404],\n",
            "        [0.9380, 0.0308, 0.0312],\n",
            "        [0.1431, 0.3107, 0.5462]], device='cuda:0', grad_fn=<SoftmaxBackward0>)\n",
            "prediction: tensor([1, 1, 0, 0, 1, 1, 0, 2], device='cuda:0')\n",
            "train labels: tensor([0, 1, 0, 0, 2, 1, 0, 1], device='cuda:0')\n"
          ]
        },
        {
          "output_type": "stream",
          "name": "stderr",
          "text": [
            "\r 71%|███████▏  | 45/63 [00:32<00:13,  1.34it/s]"
          ]
        },
        {
          "output_type": "stream",
          "name": "stdout",
          "text": [
            "training logits: tensor([[0.0164, 0.9550, 0.0286],\n",
            "        [0.7180, 0.0649, 0.2171],\n",
            "        [0.9455, 0.0283, 0.0262],\n",
            "        [0.9413, 0.0452, 0.0135],\n",
            "        [0.9001, 0.0739, 0.0259],\n",
            "        [0.1367, 0.1970, 0.6663],\n",
            "        [0.0429, 0.0664, 0.8907],\n",
            "        [0.1322, 0.0399, 0.8280]], device='cuda:0', grad_fn=<SoftmaxBackward0>)\n",
            "training outputs\n",
            "tensor([[0.0164, 0.9550, 0.0286],\n",
            "        [0.7180, 0.0649, 0.2171],\n",
            "        [0.9455, 0.0283, 0.0262],\n",
            "        [0.9413, 0.0452, 0.0135],\n",
            "        [0.9001, 0.0739, 0.0259],\n",
            "        [0.1367, 0.1970, 0.6663],\n",
            "        [0.0429, 0.0664, 0.8907],\n",
            "        [0.1322, 0.0399, 0.8280]], device='cuda:0', grad_fn=<SoftmaxBackward0>)\n",
            "prediction: tensor([1, 0, 0, 0, 0, 2, 2, 2], device='cuda:0')\n",
            "train labels: tensor([1, 0, 0, 0, 0, 2, 2, 2], device='cuda:0')\n"
          ]
        },
        {
          "output_type": "stream",
          "name": "stderr",
          "text": [
            "\r 73%|███████▎  | 46/63 [00:33<00:12,  1.34it/s]"
          ]
        },
        {
          "output_type": "stream",
          "name": "stdout",
          "text": [
            "training logits: tensor([[0.0489, 0.8669, 0.0842],\n",
            "        [0.1809, 0.1899, 0.6292],\n",
            "        [0.0700, 0.5152, 0.4148],\n",
            "        [0.1274, 0.3292, 0.5434],\n",
            "        [0.2527, 0.6118, 0.1356],\n",
            "        [0.9338, 0.0449, 0.0213],\n",
            "        [0.0573, 0.7109, 0.2318],\n",
            "        [0.0169, 0.9665, 0.0165]], device='cuda:0', grad_fn=<SoftmaxBackward0>)\n",
            "training outputs\n",
            "tensor([[0.0489, 0.8669, 0.0842],\n",
            "        [0.1809, 0.1899, 0.6292],\n",
            "        [0.0700, 0.5152, 0.4148],\n",
            "        [0.1274, 0.3292, 0.5434],\n",
            "        [0.2527, 0.6118, 0.1356],\n",
            "        [0.9338, 0.0449, 0.0213],\n",
            "        [0.0573, 0.7109, 0.2318],\n",
            "        [0.0169, 0.9665, 0.0165]], device='cuda:0', grad_fn=<SoftmaxBackward0>)\n",
            "prediction: tensor([1, 2, 1, 2, 1, 0, 1, 1], device='cuda:0')\n",
            "train labels: tensor([2, 1, 2, 2, 2, 0, 1, 1], device='cuda:0')\n"
          ]
        },
        {
          "output_type": "stream",
          "name": "stderr",
          "text": [
            "\r 75%|███████▍  | 47/63 [00:33<00:11,  1.34it/s]"
          ]
        },
        {
          "output_type": "stream",
          "name": "stdout",
          "text": [
            "training logits: tensor([[0.0550, 0.9203, 0.0247],\n",
            "        [0.9081, 0.0598, 0.0321],\n",
            "        [0.5006, 0.4356, 0.0638],\n",
            "        [0.2299, 0.6476, 0.1224],\n",
            "        [0.1506, 0.0714, 0.7781],\n",
            "        [0.0603, 0.3438, 0.5959],\n",
            "        [0.0781, 0.0843, 0.8376],\n",
            "        [0.0513, 0.7629, 0.1858]], device='cuda:0', grad_fn=<SoftmaxBackward0>)\n",
            "training outputs\n",
            "tensor([[0.0550, 0.9203, 0.0247],\n",
            "        [0.9081, 0.0598, 0.0321],\n",
            "        [0.5006, 0.4356, 0.0638],\n",
            "        [0.2299, 0.6476, 0.1224],\n",
            "        [0.1506, 0.0714, 0.7781],\n",
            "        [0.0603, 0.3438, 0.5959],\n",
            "        [0.0781, 0.0843, 0.8376],\n",
            "        [0.0513, 0.7629, 0.1858]], device='cuda:0', grad_fn=<SoftmaxBackward0>)\n",
            "prediction: tensor([1, 0, 0, 1, 2, 2, 2, 1], device='cuda:0')\n",
            "train labels: tensor([1, 0, 2, 1, 2, 2, 2, 0], device='cuda:0')\n"
          ]
        },
        {
          "output_type": "stream",
          "name": "stderr",
          "text": [
            "\r 76%|███████▌  | 48/63 [00:34<00:11,  1.34it/s]"
          ]
        },
        {
          "output_type": "stream",
          "name": "stdout",
          "text": [
            "training logits: tensor([[0.2286, 0.1334, 0.6380],\n",
            "        [0.1612, 0.2330, 0.6058],\n",
            "        [0.1220, 0.3074, 0.5706],\n",
            "        [0.8786, 0.0855, 0.0359],\n",
            "        [0.9516, 0.0289, 0.0194],\n",
            "        [0.1329, 0.0928, 0.7743],\n",
            "        [0.8751, 0.0987, 0.0261],\n",
            "        [0.3275, 0.6272, 0.0453]], device='cuda:0', grad_fn=<SoftmaxBackward0>)\n",
            "training outputs\n",
            "tensor([[0.2286, 0.1334, 0.6380],\n",
            "        [0.1612, 0.2330, 0.6058],\n",
            "        [0.1220, 0.3074, 0.5706],\n",
            "        [0.8786, 0.0855, 0.0359],\n",
            "        [0.9516, 0.0289, 0.0194],\n",
            "        [0.1329, 0.0928, 0.7743],\n",
            "        [0.8751, 0.0987, 0.0261],\n",
            "        [0.3275, 0.6272, 0.0453]], device='cuda:0', grad_fn=<SoftmaxBackward0>)\n",
            "prediction: tensor([2, 2, 2, 0, 0, 2, 0, 1], device='cuda:0')\n",
            "train labels: tensor([2, 2, 1, 0, 0, 2, 0, 1], device='cuda:0')\n"
          ]
        },
        {
          "output_type": "stream",
          "name": "stderr",
          "text": [
            "\r 78%|███████▊  | 49/63 [00:35<00:10,  1.33it/s]"
          ]
        },
        {
          "output_type": "stream",
          "name": "stdout",
          "text": [
            "training logits: tensor([[0.9059, 0.0267, 0.0674],\n",
            "        [0.0813, 0.8577, 0.0610],\n",
            "        [0.1934, 0.7499, 0.0567],\n",
            "        [0.8764, 0.0794, 0.0442],\n",
            "        [0.1130, 0.2224, 0.6646],\n",
            "        [0.4096, 0.2525, 0.3379],\n",
            "        [0.0544, 0.8850, 0.0606],\n",
            "        [0.1481, 0.6768, 0.1750]], device='cuda:0', grad_fn=<SoftmaxBackward0>)\n",
            "training outputs\n",
            "tensor([[0.9059, 0.0267, 0.0674],\n",
            "        [0.0813, 0.8577, 0.0610],\n",
            "        [0.1934, 0.7499, 0.0567],\n",
            "        [0.8764, 0.0794, 0.0442],\n",
            "        [0.1130, 0.2224, 0.6646],\n",
            "        [0.4096, 0.2525, 0.3379],\n",
            "        [0.0544, 0.8850, 0.0606],\n",
            "        [0.1481, 0.6768, 0.1750]], device='cuda:0', grad_fn=<SoftmaxBackward0>)\n",
            "prediction: tensor([0, 1, 1, 0, 2, 0, 1, 1], device='cuda:0')\n",
            "train labels: tensor([0, 1, 2, 0, 2, 0, 1, 1], device='cuda:0')\n"
          ]
        },
        {
          "output_type": "stream",
          "name": "stderr",
          "text": [
            "\r 79%|███████▉  | 50/63 [00:36<00:09,  1.34it/s]"
          ]
        },
        {
          "output_type": "stream",
          "name": "stdout",
          "text": [
            "training logits: tensor([[0.0205, 0.9410, 0.0385],\n",
            "        [0.0400, 0.8013, 0.1587],\n",
            "        [0.6879, 0.2719, 0.0402],\n",
            "        [0.1000, 0.8568, 0.0432],\n",
            "        [0.0762, 0.6809, 0.2429],\n",
            "        [0.7731, 0.0406, 0.1863],\n",
            "        [0.0101, 0.9070, 0.0829],\n",
            "        [0.9134, 0.0417, 0.0449]], device='cuda:0', grad_fn=<SoftmaxBackward0>)\n",
            "training outputs\n",
            "tensor([[0.0205, 0.9410, 0.0385],\n",
            "        [0.0400, 0.8013, 0.1587],\n",
            "        [0.6879, 0.2719, 0.0402],\n",
            "        [0.1000, 0.8568, 0.0432],\n",
            "        [0.0762, 0.6809, 0.2429],\n",
            "        [0.7731, 0.0406, 0.1863],\n",
            "        [0.0101, 0.9070, 0.0829],\n",
            "        [0.9134, 0.0417, 0.0449]], device='cuda:0', grad_fn=<SoftmaxBackward0>)\n",
            "prediction: tensor([1, 1, 0, 1, 1, 0, 1, 0], device='cuda:0')\n",
            "train labels: tensor([1, 1, 0, 1, 2, 0, 1, 0], device='cuda:0')\n"
          ]
        },
        {
          "output_type": "stream",
          "name": "stderr",
          "text": [
            "\r 81%|████████  | 51/63 [00:36<00:08,  1.33it/s]"
          ]
        },
        {
          "output_type": "stream",
          "name": "stdout",
          "text": [
            "training logits: tensor([[0.3372, 0.5364, 0.1264],\n",
            "        [0.9139, 0.0661, 0.0200],\n",
            "        [0.1277, 0.3207, 0.5516],\n",
            "        [0.6499, 0.2935, 0.0565],\n",
            "        [0.2230, 0.1390, 0.6380],\n",
            "        [0.9777, 0.0130, 0.0093],\n",
            "        [0.9704, 0.0204, 0.0092],\n",
            "        [0.7414, 0.1884, 0.0702]], device='cuda:0', grad_fn=<SoftmaxBackward0>)\n",
            "training outputs\n",
            "tensor([[0.3372, 0.5364, 0.1264],\n",
            "        [0.9139, 0.0661, 0.0200],\n",
            "        [0.1277, 0.3207, 0.5516],\n",
            "        [0.6499, 0.2935, 0.0565],\n",
            "        [0.2230, 0.1390, 0.6380],\n",
            "        [0.9777, 0.0130, 0.0093],\n",
            "        [0.9704, 0.0204, 0.0092],\n",
            "        [0.7414, 0.1884, 0.0702]], device='cuda:0', grad_fn=<SoftmaxBackward0>)\n",
            "prediction: tensor([1, 0, 2, 0, 2, 0, 0, 0], device='cuda:0')\n",
            "train labels: tensor([1, 1, 2, 0, 1, 0, 0, 0], device='cuda:0')\n"
          ]
        },
        {
          "output_type": "stream",
          "name": "stderr",
          "text": [
            "\r 83%|████████▎ | 52/63 [00:37<00:08,  1.33it/s]"
          ]
        },
        {
          "output_type": "stream",
          "name": "stdout",
          "text": [
            "training logits: tensor([[0.0693, 0.3410, 0.5897],\n",
            "        [0.6779, 0.1980, 0.1241],\n",
            "        [0.0330, 0.8871, 0.0799],\n",
            "        [0.3131, 0.1451, 0.5418],\n",
            "        [0.0837, 0.8716, 0.0447],\n",
            "        [0.0290, 0.1344, 0.8366],\n",
            "        [0.0401, 0.9240, 0.0359],\n",
            "        [0.2149, 0.2535, 0.5316]], device='cuda:0', grad_fn=<SoftmaxBackward0>)\n",
            "training outputs\n",
            "tensor([[0.0693, 0.3410, 0.5897],\n",
            "        [0.6779, 0.1980, 0.1241],\n",
            "        [0.0330, 0.8871, 0.0799],\n",
            "        [0.3131, 0.1451, 0.5418],\n",
            "        [0.0837, 0.8716, 0.0447],\n",
            "        [0.0290, 0.1344, 0.8366],\n",
            "        [0.0401, 0.9240, 0.0359],\n",
            "        [0.2149, 0.2535, 0.5316]], device='cuda:0', grad_fn=<SoftmaxBackward0>)\n",
            "prediction: tensor([2, 0, 1, 2, 1, 2, 1, 2], device='cuda:0')\n",
            "train labels: tensor([2, 1, 2, 2, 1, 2, 1, 2], device='cuda:0')\n"
          ]
        },
        {
          "output_type": "stream",
          "name": "stderr",
          "text": [
            "\r 84%|████████▍ | 53/63 [00:38<00:07,  1.33it/s]"
          ]
        },
        {
          "output_type": "stream",
          "name": "stdout",
          "text": [
            "training logits: tensor([[0.1340, 0.4720, 0.3940],\n",
            "        [0.9137, 0.0594, 0.0269],\n",
            "        [0.0938, 0.2139, 0.6922],\n",
            "        [0.9517, 0.0344, 0.0139],\n",
            "        [0.4182, 0.0534, 0.5283],\n",
            "        [0.1278, 0.7390, 0.1332],\n",
            "        [0.0714, 0.4407, 0.4879],\n",
            "        [0.1933, 0.6743, 0.1324]], device='cuda:0', grad_fn=<SoftmaxBackward0>)\n",
            "training outputs\n",
            "tensor([[0.1340, 0.4720, 0.3940],\n",
            "        [0.9137, 0.0594, 0.0269],\n",
            "        [0.0938, 0.2139, 0.6922],\n",
            "        [0.9517, 0.0344, 0.0139],\n",
            "        [0.4182, 0.0534, 0.5283],\n",
            "        [0.1278, 0.7390, 0.1332],\n",
            "        [0.0714, 0.4407, 0.4879],\n",
            "        [0.1933, 0.6743, 0.1324]], device='cuda:0', grad_fn=<SoftmaxBackward0>)\n",
            "prediction: tensor([1, 0, 2, 0, 2, 1, 2, 1], device='cuda:0')\n",
            "train labels: tensor([2, 2, 2, 0, 2, 1, 2, 2], device='cuda:0')\n"
          ]
        },
        {
          "output_type": "stream",
          "name": "stderr",
          "text": [
            "\r 86%|████████▌ | 54/63 [00:39<00:06,  1.33it/s]"
          ]
        },
        {
          "output_type": "stream",
          "name": "stdout",
          "text": [
            "training logits: tensor([[0.4490, 0.1863, 0.3647],\n",
            "        [0.6848, 0.1667, 0.1485],\n",
            "        [0.2942, 0.2729, 0.4328],\n",
            "        [0.9790, 0.0101, 0.0109],\n",
            "        [0.0939, 0.1770, 0.7291],\n",
            "        [0.9280, 0.0215, 0.0505],\n",
            "        [0.0353, 0.1096, 0.8551],\n",
            "        [0.0913, 0.6262, 0.2825]], device='cuda:0', grad_fn=<SoftmaxBackward0>)\n",
            "training outputs\n",
            "tensor([[0.4490, 0.1863, 0.3647],\n",
            "        [0.6848, 0.1667, 0.1485],\n",
            "        [0.2942, 0.2729, 0.4328],\n",
            "        [0.9790, 0.0101, 0.0109],\n",
            "        [0.0939, 0.1770, 0.7291],\n",
            "        [0.9280, 0.0215, 0.0505],\n",
            "        [0.0353, 0.1096, 0.8551],\n",
            "        [0.0913, 0.6262, 0.2825]], device='cuda:0', grad_fn=<SoftmaxBackward0>)\n",
            "prediction: tensor([0, 0, 2, 0, 2, 0, 2, 1], device='cuda:0')\n",
            "train labels: tensor([1, 0, 0, 0, 1, 2, 0, 2], device='cuda:0')\n"
          ]
        },
        {
          "output_type": "stream",
          "name": "stderr",
          "text": [
            "\r 87%|████████▋ | 55/63 [00:39<00:05,  1.33it/s]"
          ]
        },
        {
          "output_type": "stream",
          "name": "stdout",
          "text": [
            "training logits: tensor([[0.0348, 0.7837, 0.1815],\n",
            "        [0.9701, 0.0169, 0.0130],\n",
            "        [0.9473, 0.0295, 0.0232],\n",
            "        [0.2633, 0.6724, 0.0643],\n",
            "        [0.0284, 0.6943, 0.2772],\n",
            "        [0.3221, 0.1868, 0.4911],\n",
            "        [0.0243, 0.8807, 0.0950],\n",
            "        [0.8796, 0.0779, 0.0425]], device='cuda:0', grad_fn=<SoftmaxBackward0>)\n",
            "training outputs\n",
            "tensor([[0.0348, 0.7837, 0.1815],\n",
            "        [0.9701, 0.0169, 0.0130],\n",
            "        [0.9473, 0.0295, 0.0232],\n",
            "        [0.2633, 0.6724, 0.0643],\n",
            "        [0.0284, 0.6943, 0.2772],\n",
            "        [0.3221, 0.1868, 0.4911],\n",
            "        [0.0243, 0.8807, 0.0950],\n",
            "        [0.8796, 0.0779, 0.0425]], device='cuda:0', grad_fn=<SoftmaxBackward0>)\n",
            "prediction: tensor([1, 0, 0, 1, 1, 2, 1, 0], device='cuda:0')\n",
            "train labels: tensor([2, 0, 0, 1, 2, 1, 1, 2], device='cuda:0')\n"
          ]
        },
        {
          "output_type": "stream",
          "name": "stderr",
          "text": [
            "\r 89%|████████▉ | 56/63 [00:40<00:05,  1.33it/s]"
          ]
        },
        {
          "output_type": "stream",
          "name": "stdout",
          "text": [
            "training logits: tensor([[0.1094, 0.2067, 0.6839],\n",
            "        [0.0252, 0.9135, 0.0613],\n",
            "        [0.0308, 0.9052, 0.0640],\n",
            "        [0.6690, 0.2666, 0.0645],\n",
            "        [0.0275, 0.9185, 0.0541],\n",
            "        [0.0864, 0.7279, 0.1857],\n",
            "        [0.2676, 0.5579, 0.1746],\n",
            "        [0.9492, 0.0263, 0.0245]], device='cuda:0', grad_fn=<SoftmaxBackward0>)\n",
            "training outputs\n",
            "tensor([[0.1094, 0.2067, 0.6839],\n",
            "        [0.0252, 0.9135, 0.0613],\n",
            "        [0.0308, 0.9052, 0.0640],\n",
            "        [0.6690, 0.2666, 0.0645],\n",
            "        [0.0275, 0.9185, 0.0541],\n",
            "        [0.0864, 0.7279, 0.1857],\n",
            "        [0.2676, 0.5579, 0.1746],\n",
            "        [0.9492, 0.0263, 0.0245]], device='cuda:0', grad_fn=<SoftmaxBackward0>)\n",
            "prediction: tensor([2, 1, 1, 0, 1, 1, 1, 0], device='cuda:0')\n",
            "train labels: tensor([2, 1, 0, 0, 1, 0, 1, 0], device='cuda:0')\n"
          ]
        },
        {
          "output_type": "stream",
          "name": "stderr",
          "text": [
            "\r 90%|█████████ | 57/63 [00:41<00:04,  1.34it/s]"
          ]
        },
        {
          "output_type": "stream",
          "name": "stdout",
          "text": [
            "training logits: tensor([[0.9382, 0.0197, 0.0420],\n",
            "        [0.9445, 0.0257, 0.0297],\n",
            "        [0.3839, 0.1844, 0.4317],\n",
            "        [0.7890, 0.0661, 0.1449],\n",
            "        [0.0173, 0.9463, 0.0364],\n",
            "        [0.9322, 0.0253, 0.0424],\n",
            "        [0.0486, 0.2430, 0.7085],\n",
            "        [0.0571, 0.4133, 0.5296]], device='cuda:0', grad_fn=<SoftmaxBackward0>)\n",
            "training outputs\n",
            "tensor([[0.9382, 0.0197, 0.0420],\n",
            "        [0.9445, 0.0257, 0.0297],\n",
            "        [0.3839, 0.1844, 0.4317],\n",
            "        [0.7890, 0.0661, 0.1449],\n",
            "        [0.0173, 0.9463, 0.0364],\n",
            "        [0.9322, 0.0253, 0.0424],\n",
            "        [0.0486, 0.2430, 0.7085],\n",
            "        [0.0571, 0.4133, 0.5296]], device='cuda:0', grad_fn=<SoftmaxBackward0>)\n",
            "prediction: tensor([0, 0, 2, 0, 1, 0, 2, 2], device='cuda:0')\n",
            "train labels: tensor([0, 0, 2, 0, 1, 0, 2, 1], device='cuda:0')\n"
          ]
        },
        {
          "output_type": "stream",
          "name": "stderr",
          "text": [
            "\r 92%|█████████▏| 58/63 [00:42<00:03,  1.34it/s]"
          ]
        },
        {
          "output_type": "stream",
          "name": "stdout",
          "text": [
            "training logits: tensor([[0.9530, 0.0247, 0.0223],\n",
            "        [0.1626, 0.0913, 0.7462],\n",
            "        [0.1386, 0.2994, 0.5620],\n",
            "        [0.3343, 0.3205, 0.3452],\n",
            "        [0.9644, 0.0129, 0.0226],\n",
            "        [0.1048, 0.4288, 0.4664],\n",
            "        [0.1990, 0.4314, 0.3696],\n",
            "        [0.0250, 0.9176, 0.0573]], device='cuda:0', grad_fn=<SoftmaxBackward0>)\n",
            "training outputs\n",
            "tensor([[0.9530, 0.0247, 0.0223],\n",
            "        [0.1626, 0.0913, 0.7462],\n",
            "        [0.1386, 0.2994, 0.5620],\n",
            "        [0.3343, 0.3205, 0.3452],\n",
            "        [0.9644, 0.0129, 0.0226],\n",
            "        [0.1048, 0.4288, 0.4664],\n",
            "        [0.1990, 0.4314, 0.3696],\n",
            "        [0.0250, 0.9176, 0.0573]], device='cuda:0', grad_fn=<SoftmaxBackward0>)\n",
            "prediction: tensor([0, 2, 2, 2, 0, 2, 1, 1], device='cuda:0')\n",
            "train labels: tensor([0, 2, 1, 2, 2, 0, 2, 1], device='cuda:0')\n"
          ]
        },
        {
          "output_type": "stream",
          "name": "stderr",
          "text": [
            "\r 94%|█████████▎| 59/63 [00:42<00:02,  1.34it/s]"
          ]
        },
        {
          "output_type": "stream",
          "name": "stdout",
          "text": [
            "training logits: tensor([[0.3050, 0.0897, 0.6053],\n",
            "        [0.9470, 0.0285, 0.0244],\n",
            "        [0.1237, 0.3406, 0.5357],\n",
            "        [0.4311, 0.2627, 0.3062],\n",
            "        [0.0723, 0.5347, 0.3930],\n",
            "        [0.3396, 0.3363, 0.3241],\n",
            "        [0.8961, 0.0347, 0.0693],\n",
            "        [0.0896, 0.3196, 0.5908]], device='cuda:0', grad_fn=<SoftmaxBackward0>)\n",
            "training outputs\n",
            "tensor([[0.3050, 0.0897, 0.6053],\n",
            "        [0.9470, 0.0285, 0.0244],\n",
            "        [0.1237, 0.3406, 0.5357],\n",
            "        [0.4311, 0.2627, 0.3062],\n",
            "        [0.0723, 0.5347, 0.3930],\n",
            "        [0.3396, 0.3363, 0.3241],\n",
            "        [0.8961, 0.0347, 0.0693],\n",
            "        [0.0896, 0.3196, 0.5908]], device='cuda:0', grad_fn=<SoftmaxBackward0>)\n",
            "prediction: tensor([2, 0, 2, 0, 1, 0, 0, 2], device='cuda:0')\n",
            "train labels: tensor([0, 0, 2, 2, 2, 2, 0, 1], device='cuda:0')\n"
          ]
        },
        {
          "output_type": "stream",
          "name": "stderr",
          "text": [
            "\r 95%|█████████▌| 60/63 [00:43<00:02,  1.34it/s]"
          ]
        },
        {
          "output_type": "stream",
          "name": "stdout",
          "text": [
            "training logits: tensor([[0.1532, 0.2805, 0.5663],\n",
            "        [0.1627, 0.3651, 0.4722],\n",
            "        [0.9440, 0.0321, 0.0238],\n",
            "        [0.0591, 0.1431, 0.7978],\n",
            "        [0.0204, 0.8371, 0.1425],\n",
            "        [0.8723, 0.0432, 0.0845],\n",
            "        [0.0579, 0.1253, 0.8168],\n",
            "        [0.0323, 0.8486, 0.1191]], device='cuda:0', grad_fn=<SoftmaxBackward0>)\n",
            "training outputs\n",
            "tensor([[0.1532, 0.2805, 0.5663],\n",
            "        [0.1627, 0.3651, 0.4722],\n",
            "        [0.9440, 0.0321, 0.0238],\n",
            "        [0.0591, 0.1431, 0.7978],\n",
            "        [0.0204, 0.8371, 0.1425],\n",
            "        [0.8723, 0.0432, 0.0845],\n",
            "        [0.0579, 0.1253, 0.8168],\n",
            "        [0.0323, 0.8486, 0.1191]], device='cuda:0', grad_fn=<SoftmaxBackward0>)\n",
            "prediction: tensor([2, 2, 0, 2, 1, 0, 2, 1], device='cuda:0')\n",
            "train labels: tensor([2, 2, 0, 2, 1, 0, 2, 1], device='cuda:0')\n"
          ]
        },
        {
          "output_type": "stream",
          "name": "stderr",
          "text": [
            "\r 97%|█████████▋| 61/63 [00:44<00:01,  1.34it/s]"
          ]
        },
        {
          "output_type": "stream",
          "name": "stdout",
          "text": [
            "training logits: tensor([[0.0350, 0.8704, 0.0945],\n",
            "        [0.0388, 0.2977, 0.6635],\n",
            "        [0.1285, 0.0302, 0.8413],\n",
            "        [0.2922, 0.1743, 0.5334],\n",
            "        [0.1859, 0.3390, 0.4750],\n",
            "        [0.1450, 0.3186, 0.5364],\n",
            "        [0.0577, 0.2063, 0.7360],\n",
            "        [0.2248, 0.1224, 0.6527]], device='cuda:0', grad_fn=<SoftmaxBackward0>)\n",
            "training outputs\n",
            "tensor([[0.0350, 0.8704, 0.0945],\n",
            "        [0.0388, 0.2977, 0.6635],\n",
            "        [0.1285, 0.0302, 0.8413],\n",
            "        [0.2922, 0.1743, 0.5334],\n",
            "        [0.1859, 0.3390, 0.4750],\n",
            "        [0.1450, 0.3186, 0.5364],\n",
            "        [0.0577, 0.2063, 0.7360],\n",
            "        [0.2248, 0.1224, 0.6527]], device='cuda:0', grad_fn=<SoftmaxBackward0>)\n",
            "prediction: tensor([1, 2, 2, 2, 2, 2, 2, 2], device='cuda:0')\n",
            "train labels: tensor([1, 1, 0, 2, 1, 2, 2, 0], device='cuda:0')\n"
          ]
        },
        {
          "output_type": "stream",
          "name": "stderr",
          "text": [
            "\r 98%|█████████▊| 62/63 [00:45<00:00,  1.34it/s]"
          ]
        },
        {
          "output_type": "stream",
          "name": "stdout",
          "text": [
            "training logits: tensor([[0.0969, 0.0747, 0.8284],\n",
            "        [0.2292, 0.1420, 0.6288],\n",
            "        [0.9675, 0.0166, 0.0159],\n",
            "        [0.5410, 0.2486, 0.2104]], device='cuda:0', grad_fn=<SoftmaxBackward0>)\n",
            "training outputs\n",
            "tensor([[0.0969, 0.0747, 0.8284],\n",
            "        [0.2292, 0.1420, 0.6288],\n",
            "        [0.9675, 0.0166, 0.0159],\n",
            "        [0.5410, 0.2486, 0.2104]], device='cuda:0', grad_fn=<SoftmaxBackward0>)\n",
            "prediction: tensor([2, 2, 0, 0], device='cuda:0')\n",
            "train labels: tensor([2, 2, 0, 2], device='cuda:0')\n"
          ]
        },
        {
          "output_type": "stream",
          "name": "stderr",
          "text": [
            "100%|██████████| 63/63 [00:45<00:00,  1.38it/s]\n"
          ]
        },
        {
          "output_type": "stream",
          "name": "stdout",
          "text": [
            "tensor([2, 1, 0, 2, 0, 1, 1, 0], device='cuda:0')\n",
            "validating logits: tensor([[0.2588, 0.1830, 0.5582],\n",
            "        [0.0518, 0.8167, 0.1314],\n",
            "        [0.9680, 0.0122, 0.0198],\n",
            "        [0.3810, 0.2832, 0.3358],\n",
            "        [0.9542, 0.0176, 0.0282],\n",
            "        [0.0535, 0.8039, 0.1426],\n",
            "        [0.1134, 0.2765, 0.6101],\n",
            "        [0.8991, 0.0308, 0.0701]], device='cuda:0')\n",
            "prediction: tensor([2, 1, 0, 0, 0, 1, 2, 0], device='cuda:0')\n",
            "tensor([[0.2588, 0.1830, 0.5582],\n",
            "        [0.0518, 0.8167, 0.1314],\n",
            "        [0.9680, 0.0122, 0.0198],\n",
            "        [0.3810, 0.2832, 0.3358],\n",
            "        [0.9542, 0.0176, 0.0282],\n",
            "        [0.0535, 0.8039, 0.1426],\n",
            "        [0.1134, 0.2765, 0.6101],\n",
            "        [0.8991, 0.0308, 0.0701]], device='cuda:0')\n",
            "tensor([2, 2, 1, 2, 2, 1, 0, 2], device='cuda:0')\n",
            "validating logits: tensor([[0.0779, 0.1571, 0.7651],\n",
            "        [0.0610, 0.1071, 0.8318],\n",
            "        [0.2674, 0.6304, 0.1022],\n",
            "        [0.0803, 0.1391, 0.7806],\n",
            "        [0.1991, 0.1001, 0.7007],\n",
            "        [0.0328, 0.8437, 0.1235],\n",
            "        [0.8824, 0.0519, 0.0658],\n",
            "        [0.1919, 0.1100, 0.6980]], device='cuda:0')\n",
            "prediction: tensor([2, 2, 1, 2, 2, 1, 0, 2], device='cuda:0')\n",
            "tensor([[0.0779, 0.1571, 0.7651],\n",
            "        [0.0610, 0.1071, 0.8318],\n",
            "        [0.2674, 0.6304, 0.1022],\n",
            "        [0.0803, 0.1391, 0.7806],\n",
            "        [0.1991, 0.1001, 0.7007],\n",
            "        [0.0328, 0.8437, 0.1235],\n",
            "        [0.8824, 0.0519, 0.0658],\n",
            "        [0.1919, 0.1100, 0.6980]], device='cuda:0')\n",
            "tensor([1, 0, 0, 1, 2, 2, 1, 0], device='cuda:0')\n",
            "validating logits: tensor([[0.0701, 0.8188, 0.1111],\n",
            "        [0.9098, 0.0422, 0.0479],\n",
            "        [0.9753, 0.0106, 0.0142],\n",
            "        [0.0139, 0.9140, 0.0721],\n",
            "        [0.1736, 0.2765, 0.5499],\n",
            "        [0.1358, 0.0493, 0.8149],\n",
            "        [0.0103, 0.9271, 0.0626],\n",
            "        [0.9093, 0.0462, 0.0445]], device='cuda:0')\n",
            "prediction: tensor([1, 0, 0, 1, 2, 2, 1, 0], device='cuda:0')\n",
            "tensor([[0.0701, 0.8188, 0.1111],\n",
            "        [0.9098, 0.0422, 0.0479],\n",
            "        [0.9753, 0.0106, 0.0142],\n",
            "        [0.0139, 0.9140, 0.0721],\n",
            "        [0.1736, 0.2765, 0.5499],\n",
            "        [0.1358, 0.0493, 0.8149],\n",
            "        [0.0103, 0.9271, 0.0626],\n",
            "        [0.9093, 0.0462, 0.0445]], device='cuda:0')\n",
            "tensor([1, 0, 2, 2, 1, 0, 2, 0], device='cuda:0')\n",
            "validating logits: tensor([[0.0492, 0.9360, 0.0148],\n",
            "        [0.9509, 0.0338, 0.0153],\n",
            "        [0.2028, 0.3200, 0.4772],\n",
            "        [0.1007, 0.3087, 0.5906],\n",
            "        [0.2682, 0.5799, 0.1519],\n",
            "        [0.9276, 0.0160, 0.0564],\n",
            "        [0.0593, 0.1223, 0.8185],\n",
            "        [0.8866, 0.0379, 0.0756]], device='cuda:0')\n",
            "prediction: tensor([1, 0, 2, 2, 1, 0, 2, 0], device='cuda:0')\n",
            "tensor([[0.0492, 0.9360, 0.0148],\n",
            "        [0.9509, 0.0338, 0.0153],\n",
            "        [0.2028, 0.3200, 0.4772],\n",
            "        [0.1007, 0.3087, 0.5906],\n",
            "        [0.2682, 0.5799, 0.1519],\n",
            "        [0.9276, 0.0160, 0.0564],\n",
            "        [0.0593, 0.1223, 0.8185],\n",
            "        [0.8866, 0.0379, 0.0756]], device='cuda:0')\n",
            "tensor([1, 1, 2, 0, 1, 0, 2, 2], device='cuda:0')\n",
            "validating logits: tensor([[0.0515, 0.8006, 0.1479],\n",
            "        [0.1596, 0.5004, 0.3399],\n",
            "        [0.2122, 0.1065, 0.6813],\n",
            "        [0.9462, 0.0240, 0.0297],\n",
            "        [0.0358, 0.9190, 0.0452],\n",
            "        [0.9443, 0.0139, 0.0418],\n",
            "        [0.1094, 0.1401, 0.7505],\n",
            "        [0.1822, 0.0928, 0.7250]], device='cuda:0')\n",
            "prediction: tensor([1, 1, 2, 0, 1, 0, 2, 2], device='cuda:0')\n",
            "tensor([[0.0515, 0.8006, 0.1479],\n",
            "        [0.1596, 0.5004, 0.3399],\n",
            "        [0.2122, 0.1065, 0.6813],\n",
            "        [0.9462, 0.0240, 0.0297],\n",
            "        [0.0358, 0.9190, 0.0452],\n",
            "        [0.9443, 0.0139, 0.0418],\n",
            "        [0.1094, 0.1401, 0.7505],\n",
            "        [0.1822, 0.0928, 0.7250]], device='cuda:0')\n",
            "tensor([0, 1, 2, 0, 0, 0, 2, 1], device='cuda:0')\n",
            "validating logits: tensor([[0.9696, 0.0107, 0.0197],\n",
            "        [0.0393, 0.7712, 0.1894],\n",
            "        [0.0756, 0.2396, 0.6849],\n",
            "        [0.9263, 0.0228, 0.0510],\n",
            "        [0.6483, 0.0378, 0.3139],\n",
            "        [0.9513, 0.0130, 0.0357],\n",
            "        [0.1066, 0.1472, 0.7462],\n",
            "        [0.0291, 0.9066, 0.0643]], device='cuda:0')\n",
            "prediction: tensor([0, 1, 2, 0, 0, 0, 2, 1], device='cuda:0')\n",
            "tensor([[0.9696, 0.0107, 0.0197],\n",
            "        [0.0393, 0.7712, 0.1894],\n",
            "        [0.0756, 0.2396, 0.6849],\n",
            "        [0.9263, 0.0228, 0.0510],\n",
            "        [0.6483, 0.0378, 0.3139],\n",
            "        [0.9513, 0.0130, 0.0357],\n",
            "        [0.1066, 0.1472, 0.7462],\n",
            "        [0.0291, 0.9066, 0.0643]], device='cuda:0')\n",
            "tensor([1, 0, 2, 1, 0, 2, 1, 2], device='cuda:0')\n",
            "validating logits: tensor([[0.0458, 0.4162, 0.5380],\n",
            "        [0.4438, 0.2208, 0.3353],\n",
            "        [0.1202, 0.1344, 0.7454],\n",
            "        [0.0310, 0.7823, 0.1867],\n",
            "        [0.6874, 0.2376, 0.0750],\n",
            "        [0.1293, 0.0594, 0.8113],\n",
            "        [0.3773, 0.5328, 0.0899],\n",
            "        [0.0903, 0.0791, 0.8306]], device='cuda:0')\n",
            "prediction: tensor([2, 0, 2, 1, 0, 2, 1, 2], device='cuda:0')\n",
            "tensor([[0.0458, 0.4162, 0.5380],\n",
            "        [0.4438, 0.2208, 0.3353],\n",
            "        [0.1202, 0.1344, 0.7454],\n",
            "        [0.0310, 0.7823, 0.1867],\n",
            "        [0.6874, 0.2376, 0.0750],\n",
            "        [0.1293, 0.0594, 0.8113],\n",
            "        [0.3773, 0.5328, 0.0899],\n",
            "        [0.0903, 0.0791, 0.8306]], device='cuda:0')\n",
            "tensor([0, 2, 1, 0, 0, 1, 2, 0], device='cuda:0')\n",
            "validating logits: tensor([[0.5334, 0.1443, 0.3223],\n",
            "        [0.1386, 0.4594, 0.4021],\n",
            "        [0.1280, 0.2891, 0.5830],\n",
            "        [0.1618, 0.7619, 0.0763],\n",
            "        [0.0504, 0.2100, 0.7396],\n",
            "        [0.1155, 0.2168, 0.6677],\n",
            "        [0.2024, 0.1620, 0.6356],\n",
            "        [0.1761, 0.2159, 0.6079]], device='cuda:0')\n",
            "prediction: tensor([0, 1, 2, 1, 2, 2, 2, 2], device='cuda:0')\n",
            "tensor([[0.5334, 0.1443, 0.3223],\n",
            "        [0.1386, 0.4594, 0.4021],\n",
            "        [0.1280, 0.2891, 0.5830],\n",
            "        [0.1618, 0.7619, 0.0763],\n",
            "        [0.0504, 0.2100, 0.7396],\n",
            "        [0.1155, 0.2168, 0.6677],\n",
            "        [0.2024, 0.1620, 0.6356],\n",
            "        [0.1761, 0.2159, 0.6079]], device='cuda:0')\n",
            "tensor([2, 1, 1, 0, 2, 1, 0, 2], device='cuda:0')\n",
            "validating logits: tensor([[0.0574, 0.1742, 0.7684],\n",
            "        [0.1872, 0.5176, 0.2952],\n",
            "        [0.0258, 0.1250, 0.8492],\n",
            "        [0.0815, 0.2603, 0.6582],\n",
            "        [0.1212, 0.4880, 0.3908],\n",
            "        [0.3061, 0.1106, 0.5833],\n",
            "        [0.1368, 0.3214, 0.5418],\n",
            "        [0.2313, 0.7184, 0.0503]], device='cuda:0')\n",
            "prediction: tensor([2, 1, 2, 2, 1, 2, 2, 1], device='cuda:0')\n",
            "tensor([[0.0574, 0.1742, 0.7684],\n",
            "        [0.1872, 0.5176, 0.2952],\n",
            "        [0.0258, 0.1250, 0.8492],\n",
            "        [0.0815, 0.2603, 0.6582],\n",
            "        [0.1212, 0.4880, 0.3908],\n",
            "        [0.3061, 0.1106, 0.5833],\n",
            "        [0.1368, 0.3214, 0.5418],\n",
            "        [0.2313, 0.7184, 0.0503]], device='cuda:0')\n",
            "tensor([2, 1, 0, 2, 1, 0, 1, 0], device='cuda:0')\n",
            "validating logits: tensor([[0.0274, 0.0364, 0.9362],\n",
            "        [0.0587, 0.1525, 0.7888],\n",
            "        [0.1558, 0.1053, 0.7389],\n",
            "        [0.0971, 0.2092, 0.6936],\n",
            "        [0.0903, 0.0988, 0.8108],\n",
            "        [0.1897, 0.0398, 0.7705],\n",
            "        [0.1209, 0.3205, 0.5586],\n",
            "        [0.0414, 0.0483, 0.9103]], device='cuda:0')\n",
            "prediction: tensor([2, 2, 2, 2, 2, 2, 2, 2], device='cuda:0')\n",
            "tensor([[0.0274, 0.0364, 0.9362],\n",
            "        [0.0587, 0.1525, 0.7888],\n",
            "        [0.1558, 0.1053, 0.7389],\n",
            "        [0.0971, 0.2092, 0.6936],\n",
            "        [0.0903, 0.0988, 0.8108],\n",
            "        [0.1897, 0.0398, 0.7705],\n",
            "        [0.1209, 0.3205, 0.5586],\n",
            "        [0.0414, 0.0483, 0.9103]], device='cuda:0')\n",
            "tensor([2, 2, 1, 0, 0, 1, 2, 1], device='cuda:0')\n",
            "validating logits: tensor([[0.0922, 0.3968, 0.5110],\n",
            "        [0.0935, 0.1370, 0.7695],\n",
            "        [0.0530, 0.1136, 0.8334],\n",
            "        [0.2202, 0.0859, 0.6939],\n",
            "        [0.1218, 0.2523, 0.6259],\n",
            "        [0.0805, 0.4518, 0.4676],\n",
            "        [0.1170, 0.2373, 0.6457],\n",
            "        [0.1046, 0.8216, 0.0738]], device='cuda:0')\n",
            "prediction: tensor([2, 2, 2, 2, 2, 2, 2, 1], device='cuda:0')\n",
            "tensor([[0.0922, 0.3968, 0.5110],\n",
            "        [0.0935, 0.1370, 0.7695],\n",
            "        [0.0530, 0.1136, 0.8334],\n",
            "        [0.2202, 0.0859, 0.6939],\n",
            "        [0.1218, 0.2523, 0.6259],\n",
            "        [0.0805, 0.4518, 0.4676],\n",
            "        [0.1170, 0.2373, 0.6457],\n",
            "        [0.1046, 0.8216, 0.0738]], device='cuda:0')\n",
            "tensor([0, 2, 1, 0, 1, 2, 1, 2], device='cuda:0')\n",
            "validating logits: tensor([[0.9775, 0.0132, 0.0093],\n",
            "        [0.1058, 0.0692, 0.8250],\n",
            "        [0.1600, 0.7106, 0.1294],\n",
            "        [0.8784, 0.0260, 0.0956],\n",
            "        [0.0459, 0.9224, 0.0317],\n",
            "        [0.0904, 0.0888, 0.8208],\n",
            "        [0.0379, 0.8835, 0.0785],\n",
            "        [0.1126, 0.1912, 0.6963]], device='cuda:0')\n",
            "prediction: tensor([0, 2, 1, 0, 1, 2, 1, 2], device='cuda:0')\n",
            "tensor([[0.9775, 0.0132, 0.0093],\n",
            "        [0.1058, 0.0692, 0.8250],\n",
            "        [0.1600, 0.7106, 0.1294],\n",
            "        [0.8784, 0.0260, 0.0956],\n",
            "        [0.0459, 0.9224, 0.0317],\n",
            "        [0.0904, 0.0888, 0.8208],\n",
            "        [0.0379, 0.8835, 0.0785],\n",
            "        [0.1126, 0.1912, 0.6963]], device='cuda:0')\n",
            "tensor([0, 2, 2, 0], device='cuda:0')\n",
            "validating logits: tensor([[0.9283, 0.0368, 0.0349],\n",
            "        [0.1159, 0.1852, 0.6988],\n",
            "        [0.3580, 0.1266, 0.5154],\n",
            "        [0.9592, 0.0269, 0.0139]], device='cuda:0')\n",
            "prediction: tensor([0, 2, 2, 0], device='cuda:0')\n",
            "tensor([[0.9283, 0.0368, 0.0349],\n",
            "        [0.1159, 0.1852, 0.6988],\n",
            "        [0.3580, 0.1266, 0.5154],\n",
            "        [0.9592, 0.0269, 0.0139]], device='cuda:0')\n",
            "Epochs: 5 | Train Loss:  0.111             | Train Accuracy:  0.714             | Val Loss:  0.110             | Val Accuracy:  0.750\n",
            "Found a better model\n"
          ]
        },
        {
          "output_type": "stream",
          "name": "stderr",
          "text": [
            "\r  0%|          | 0/63 [00:00<?, ?it/s]"
          ]
        },
        {
          "output_type": "stream",
          "name": "stdout",
          "text": [
            "training logits: tensor([[0.5157, 0.4021, 0.0823],\n",
            "        [0.0398, 0.8181, 0.1421],\n",
            "        [0.1224, 0.1084, 0.7692],\n",
            "        [0.9463, 0.0315, 0.0222],\n",
            "        [0.8751, 0.0456, 0.0793],\n",
            "        [0.0225, 0.9515, 0.0260],\n",
            "        [0.1064, 0.2530, 0.6406],\n",
            "        [0.0759, 0.1455, 0.7786]], device='cuda:0', grad_fn=<SoftmaxBackward0>)\n",
            "training outputs\n",
            "tensor([[0.5157, 0.4021, 0.0823],\n",
            "        [0.0398, 0.8181, 0.1421],\n",
            "        [0.1224, 0.1084, 0.7692],\n",
            "        [0.9463, 0.0315, 0.0222],\n",
            "        [0.8751, 0.0456, 0.0793],\n",
            "        [0.0225, 0.9515, 0.0260],\n",
            "        [0.1064, 0.2530, 0.6406],\n",
            "        [0.0759, 0.1455, 0.7786]], device='cuda:0', grad_fn=<SoftmaxBackward0>)\n",
            "prediction: tensor([0, 1, 2, 0, 0, 1, 2, 2], device='cuda:0')\n",
            "train labels: tensor([0, 1, 2, 0, 0, 1, 1, 2], device='cuda:0')\n"
          ]
        },
        {
          "output_type": "stream",
          "name": "stderr",
          "text": [
            "\r  2%|▏         | 1/63 [00:00<00:45,  1.35it/s]"
          ]
        },
        {
          "output_type": "stream",
          "name": "stdout",
          "text": [
            "training logits: tensor([[0.1451, 0.2456, 0.6094],\n",
            "        [0.8839, 0.0319, 0.0842],\n",
            "        [0.0316, 0.7180, 0.2504],\n",
            "        [0.1569, 0.1100, 0.7331],\n",
            "        [0.0696, 0.6200, 0.3104],\n",
            "        [0.0634, 0.8397, 0.0969],\n",
            "        [0.0706, 0.7505, 0.1789],\n",
            "        [0.0127, 0.8937, 0.0936]], device='cuda:0', grad_fn=<SoftmaxBackward0>)\n",
            "training outputs\n",
            "tensor([[0.1451, 0.2456, 0.6094],\n",
            "        [0.8839, 0.0319, 0.0842],\n",
            "        [0.0316, 0.7180, 0.2504],\n",
            "        [0.1569, 0.1100, 0.7331],\n",
            "        [0.0696, 0.6200, 0.3104],\n",
            "        [0.0634, 0.8397, 0.0969],\n",
            "        [0.0706, 0.7505, 0.1789],\n",
            "        [0.0127, 0.8937, 0.0936]], device='cuda:0', grad_fn=<SoftmaxBackward0>)\n",
            "prediction: tensor([2, 0, 1, 2, 1, 1, 1, 1], device='cuda:0')\n",
            "train labels: tensor([2, 0, 1, 0, 1, 1, 1, 1], device='cuda:0')\n"
          ]
        },
        {
          "output_type": "stream",
          "name": "stderr",
          "text": [
            "\r  3%|▎         | 2/63 [00:01<00:43,  1.41it/s]"
          ]
        },
        {
          "output_type": "stream",
          "name": "stdout",
          "text": [
            "training logits: tensor([[0.7614, 0.0326, 0.2060],\n",
            "        [0.0278, 0.9180, 0.0542],\n",
            "        [0.8069, 0.1304, 0.0627],\n",
            "        [0.0269, 0.9529, 0.0202],\n",
            "        [0.0625, 0.3139, 0.6236],\n",
            "        [0.2722, 0.2185, 0.5094],\n",
            "        [0.7253, 0.0989, 0.1758],\n",
            "        [0.6894, 0.0553, 0.2553]], device='cuda:0', grad_fn=<SoftmaxBackward0>)\n",
            "training outputs\n",
            "tensor([[0.7614, 0.0326, 0.2060],\n",
            "        [0.0278, 0.9180, 0.0542],\n",
            "        [0.8069, 0.1304, 0.0627],\n",
            "        [0.0269, 0.9529, 0.0202],\n",
            "        [0.0625, 0.3139, 0.6236],\n",
            "        [0.2722, 0.2185, 0.5094],\n",
            "        [0.7253, 0.0989, 0.1758],\n",
            "        [0.6894, 0.0553, 0.2553]], device='cuda:0', grad_fn=<SoftmaxBackward0>)\n",
            "prediction: tensor([0, 1, 0, 1, 2, 2, 0, 0], device='cuda:0')\n",
            "train labels: tensor([0, 1, 1, 1, 2, 1, 0, 0], device='cuda:0')\n"
          ]
        },
        {
          "output_type": "stream",
          "name": "stderr",
          "text": [
            "\r  5%|▍         | 3/63 [00:02<00:42,  1.41it/s]"
          ]
        },
        {
          "output_type": "stream",
          "name": "stdout",
          "text": [
            "training logits: tensor([[0.0518, 0.1412, 0.8070],\n",
            "        [0.1294, 0.1420, 0.7286],\n",
            "        [0.1722, 0.5778, 0.2500],\n",
            "        [0.2180, 0.0704, 0.7116],\n",
            "        [0.9126, 0.0162, 0.0711],\n",
            "        [0.0676, 0.7623, 0.1701],\n",
            "        [0.0603, 0.8547, 0.0850],\n",
            "        [0.1665, 0.1270, 0.7066]], device='cuda:0', grad_fn=<SoftmaxBackward0>)\n",
            "training outputs\n",
            "tensor([[0.0518, 0.1412, 0.8070],\n",
            "        [0.1294, 0.1420, 0.7286],\n",
            "        [0.1722, 0.5778, 0.2500],\n",
            "        [0.2180, 0.0704, 0.7116],\n",
            "        [0.9126, 0.0162, 0.0711],\n",
            "        [0.0676, 0.7623, 0.1701],\n",
            "        [0.0603, 0.8547, 0.0850],\n",
            "        [0.1665, 0.1270, 0.7066]], device='cuda:0', grad_fn=<SoftmaxBackward0>)\n",
            "prediction: tensor([2, 2, 1, 2, 0, 1, 1, 2], device='cuda:0')\n",
            "train labels: tensor([2, 0, 1, 2, 0, 1, 1, 2], device='cuda:0')\n"
          ]
        },
        {
          "output_type": "stream",
          "name": "stderr",
          "text": [
            "\r  6%|▋         | 4/63 [00:02<00:41,  1.41it/s]"
          ]
        },
        {
          "output_type": "stream",
          "name": "stdout",
          "text": [
            "training logits: tensor([[0.2966, 0.6388, 0.0646],\n",
            "        [0.1212, 0.1650, 0.7138],\n",
            "        [0.0509, 0.1165, 0.8327],\n",
            "        [0.4478, 0.1343, 0.4180],\n",
            "        [0.1269, 0.6030, 0.2701],\n",
            "        [0.0408, 0.0388, 0.9204],\n",
            "        [0.0622, 0.1522, 0.7856],\n",
            "        [0.0286, 0.8019, 0.1694]], device='cuda:0', grad_fn=<SoftmaxBackward0>)\n",
            "training outputs\n",
            "tensor([[0.2966, 0.6388, 0.0646],\n",
            "        [0.1212, 0.1650, 0.7138],\n",
            "        [0.0509, 0.1165, 0.8327],\n",
            "        [0.4478, 0.1343, 0.4180],\n",
            "        [0.1269, 0.6030, 0.2701],\n",
            "        [0.0408, 0.0388, 0.9204],\n",
            "        [0.0622, 0.1522, 0.7856],\n",
            "        [0.0286, 0.8019, 0.1694]], device='cuda:0', grad_fn=<SoftmaxBackward0>)\n",
            "prediction: tensor([1, 2, 2, 0, 1, 2, 2, 1], device='cuda:0')\n",
            "train labels: tensor([1, 2, 2, 0, 2, 2, 1, 1], device='cuda:0')\n"
          ]
        },
        {
          "output_type": "stream",
          "name": "stderr",
          "text": [
            "\r  8%|▊         | 5/63 [00:03<00:41,  1.41it/s]"
          ]
        },
        {
          "output_type": "stream",
          "name": "stdout",
          "text": [
            "training logits: tensor([[0.0391, 0.8791, 0.0818],\n",
            "        [0.0223, 0.8597, 0.1180],\n",
            "        [0.9227, 0.0562, 0.0211],\n",
            "        [0.0299, 0.9137, 0.0564],\n",
            "        [0.3305, 0.2437, 0.4258],\n",
            "        [0.9680, 0.0160, 0.0160],\n",
            "        [0.0401, 0.1154, 0.8445],\n",
            "        [0.9695, 0.0117, 0.0188]], device='cuda:0', grad_fn=<SoftmaxBackward0>)\n",
            "training outputs\n",
            "tensor([[0.0391, 0.8791, 0.0818],\n",
            "        [0.0223, 0.8597, 0.1180],\n",
            "        [0.9227, 0.0562, 0.0211],\n",
            "        [0.0299, 0.9137, 0.0564],\n",
            "        [0.3305, 0.2437, 0.4258],\n",
            "        [0.9680, 0.0160, 0.0160],\n",
            "        [0.0401, 0.1154, 0.8445],\n",
            "        [0.9695, 0.0117, 0.0188]], device='cuda:0', grad_fn=<SoftmaxBackward0>)\n",
            "prediction: tensor([1, 1, 0, 1, 2, 0, 2, 0], device='cuda:0')\n",
            "train labels: tensor([1, 2, 1, 1, 2, 0, 2, 0], device='cuda:0')\n"
          ]
        },
        {
          "output_type": "stream",
          "name": "stderr",
          "text": [
            "\r 10%|▉         | 6/63 [00:04<00:40,  1.41it/s]"
          ]
        },
        {
          "output_type": "stream",
          "name": "stdout",
          "text": [
            "training logits: tensor([[0.0596, 0.1102, 0.8302],\n",
            "        [0.0762, 0.6234, 0.3004],\n",
            "        [0.9432, 0.0289, 0.0278],\n",
            "        [0.9029, 0.0664, 0.0307],\n",
            "        [0.1630, 0.1068, 0.7302],\n",
            "        [0.0488, 0.7730, 0.1782],\n",
            "        [0.1788, 0.0934, 0.7278],\n",
            "        [0.1341, 0.1575, 0.7084]], device='cuda:0', grad_fn=<SoftmaxBackward0>)\n",
            "training outputs\n",
            "tensor([[0.0596, 0.1102, 0.8302],\n",
            "        [0.0762, 0.6234, 0.3004],\n",
            "        [0.9432, 0.0289, 0.0278],\n",
            "        [0.9029, 0.0664, 0.0307],\n",
            "        [0.1630, 0.1068, 0.7302],\n",
            "        [0.0488, 0.7730, 0.1782],\n",
            "        [0.1788, 0.0934, 0.7278],\n",
            "        [0.1341, 0.1575, 0.7084]], device='cuda:0', grad_fn=<SoftmaxBackward0>)\n",
            "prediction: tensor([2, 1, 0, 0, 2, 1, 2, 2], device='cuda:0')\n",
            "train labels: tensor([1, 1, 0, 0, 2, 1, 2, 2], device='cuda:0')\n"
          ]
        },
        {
          "output_type": "stream",
          "name": "stderr",
          "text": [
            "\r 11%|█         | 7/63 [00:04<00:39,  1.41it/s]"
          ]
        },
        {
          "output_type": "stream",
          "name": "stdout",
          "text": [
            "training logits: tensor([[0.0484, 0.0841, 0.8674],\n",
            "        [0.1457, 0.0809, 0.7734],\n",
            "        [0.3950, 0.0725, 0.5324],\n",
            "        [0.9579, 0.0269, 0.0152],\n",
            "        [0.0601, 0.2207, 0.7192],\n",
            "        [0.9768, 0.0150, 0.0083],\n",
            "        [0.0293, 0.9054, 0.0653],\n",
            "        [0.0461, 0.5185, 0.4354]], device='cuda:0', grad_fn=<SoftmaxBackward0>)\n",
            "training outputs\n",
            "tensor([[0.0484, 0.0841, 0.8674],\n",
            "        [0.1457, 0.0809, 0.7734],\n",
            "        [0.3950, 0.0725, 0.5324],\n",
            "        [0.9579, 0.0269, 0.0152],\n",
            "        [0.0601, 0.2207, 0.7192],\n",
            "        [0.9768, 0.0150, 0.0083],\n",
            "        [0.0293, 0.9054, 0.0653],\n",
            "        [0.0461, 0.5185, 0.4354]], device='cuda:0', grad_fn=<SoftmaxBackward0>)\n",
            "prediction: tensor([2, 2, 2, 0, 2, 0, 1, 1], device='cuda:0')\n",
            "train labels: tensor([2, 2, 2, 0, 2, 0, 1, 1], device='cuda:0')\n"
          ]
        },
        {
          "output_type": "stream",
          "name": "stderr",
          "text": [
            "\r 13%|█▎        | 8/63 [00:05<00:39,  1.41it/s]"
          ]
        },
        {
          "output_type": "stream",
          "name": "stdout",
          "text": [
            "training logits: tensor([[0.0200, 0.9481, 0.0320],\n",
            "        [0.0467, 0.0467, 0.9065],\n",
            "        [0.9745, 0.0154, 0.0102],\n",
            "        [0.0681, 0.8108, 0.1211],\n",
            "        [0.3382, 0.1013, 0.5606],\n",
            "        [0.1036, 0.1104, 0.7860],\n",
            "        [0.0323, 0.8922, 0.0755],\n",
            "        [0.2551, 0.4828, 0.2621]], device='cuda:0', grad_fn=<SoftmaxBackward0>)\n",
            "training outputs\n",
            "tensor([[0.0200, 0.9481, 0.0320],\n",
            "        [0.0467, 0.0467, 0.9065],\n",
            "        [0.9745, 0.0154, 0.0102],\n",
            "        [0.0681, 0.8108, 0.1211],\n",
            "        [0.3382, 0.1013, 0.5606],\n",
            "        [0.1036, 0.1104, 0.7860],\n",
            "        [0.0323, 0.8922, 0.0755],\n",
            "        [0.2551, 0.4828, 0.2621]], device='cuda:0', grad_fn=<SoftmaxBackward0>)\n",
            "prediction: tensor([1, 2, 0, 1, 2, 2, 1, 1], device='cuda:0')\n",
            "train labels: tensor([1, 0, 0, 0, 0, 2, 1, 2], device='cuda:0')\n"
          ]
        },
        {
          "output_type": "stream",
          "name": "stderr",
          "text": [
            "\r 14%|█▍        | 9/63 [00:06<00:38,  1.41it/s]"
          ]
        },
        {
          "output_type": "stream",
          "name": "stdout",
          "text": [
            "training logits: tensor([[0.0170, 0.9196, 0.0634],\n",
            "        [0.1092, 0.0448, 0.8460],\n",
            "        [0.0805, 0.3035, 0.6160],\n",
            "        [0.0130, 0.9520, 0.0350],\n",
            "        [0.9590, 0.0282, 0.0128],\n",
            "        [0.9388, 0.0382, 0.0230],\n",
            "        [0.1769, 0.2840, 0.5391],\n",
            "        [0.0461, 0.0882, 0.8658]], device='cuda:0', grad_fn=<SoftmaxBackward0>)\n",
            "training outputs\n",
            "tensor([[0.0170, 0.9196, 0.0634],\n",
            "        [0.1092, 0.0448, 0.8460],\n",
            "        [0.0805, 0.3035, 0.6160],\n",
            "        [0.0130, 0.9520, 0.0350],\n",
            "        [0.9590, 0.0282, 0.0128],\n",
            "        [0.9388, 0.0382, 0.0230],\n",
            "        [0.1769, 0.2840, 0.5391],\n",
            "        [0.0461, 0.0882, 0.8658]], device='cuda:0', grad_fn=<SoftmaxBackward0>)\n",
            "prediction: tensor([1, 2, 2, 1, 0, 0, 2, 2], device='cuda:0')\n",
            "train labels: tensor([1, 0, 2, 1, 0, 0, 1, 2], device='cuda:0')\n"
          ]
        },
        {
          "output_type": "stream",
          "name": "stderr",
          "text": [
            "\r 16%|█▌        | 10/63 [00:07<00:37,  1.40it/s]"
          ]
        },
        {
          "output_type": "stream",
          "name": "stdout",
          "text": [
            "training logits: tensor([[0.0736, 0.3434, 0.5830],\n",
            "        [0.9491, 0.0372, 0.0137],\n",
            "        [0.9752, 0.0129, 0.0119],\n",
            "        [0.1052, 0.8479, 0.0469],\n",
            "        [0.0235, 0.9612, 0.0153],\n",
            "        [0.9480, 0.0179, 0.0341],\n",
            "        [0.0412, 0.0571, 0.9017],\n",
            "        [0.9583, 0.0159, 0.0258]], device='cuda:0', grad_fn=<SoftmaxBackward0>)\n",
            "training outputs\n",
            "tensor([[0.0736, 0.3434, 0.5830],\n",
            "        [0.9491, 0.0372, 0.0137],\n",
            "        [0.9752, 0.0129, 0.0119],\n",
            "        [0.1052, 0.8479, 0.0469],\n",
            "        [0.0235, 0.9612, 0.0153],\n",
            "        [0.9480, 0.0179, 0.0341],\n",
            "        [0.0412, 0.0571, 0.9017],\n",
            "        [0.9583, 0.0159, 0.0258]], device='cuda:0', grad_fn=<SoftmaxBackward0>)\n",
            "prediction: tensor([2, 0, 0, 1, 1, 0, 2, 0], device='cuda:0')\n",
            "train labels: tensor([2, 0, 0, 1, 1, 0, 2, 0], device='cuda:0')\n"
          ]
        },
        {
          "output_type": "stream",
          "name": "stderr",
          "text": [
            "\r 17%|█▋        | 11/63 [00:07<00:36,  1.41it/s]"
          ]
        },
        {
          "output_type": "stream",
          "name": "stdout",
          "text": [
            "training logits: tensor([[0.0385, 0.8425, 0.1190],\n",
            "        [0.1104, 0.2119, 0.6777],\n",
            "        [0.9788, 0.0151, 0.0061],\n",
            "        [0.0296, 0.9374, 0.0331],\n",
            "        [0.1448, 0.7274, 0.1278],\n",
            "        [0.1113, 0.4795, 0.4092],\n",
            "        [0.1279, 0.0480, 0.8241],\n",
            "        [0.1437, 0.1477, 0.7086]], device='cuda:0', grad_fn=<SoftmaxBackward0>)\n",
            "training outputs\n",
            "tensor([[0.0385, 0.8425, 0.1190],\n",
            "        [0.1104, 0.2119, 0.6777],\n",
            "        [0.9788, 0.0151, 0.0061],\n",
            "        [0.0296, 0.9374, 0.0331],\n",
            "        [0.1448, 0.7274, 0.1278],\n",
            "        [0.1113, 0.4795, 0.4092],\n",
            "        [0.1279, 0.0480, 0.8241],\n",
            "        [0.1437, 0.1477, 0.7086]], device='cuda:0', grad_fn=<SoftmaxBackward0>)\n",
            "prediction: tensor([1, 2, 0, 1, 1, 1, 2, 2], device='cuda:0')\n",
            "train labels: tensor([0, 2, 0, 1, 1, 1, 2, 2], device='cuda:0')\n"
          ]
        },
        {
          "output_type": "stream",
          "name": "stderr",
          "text": [
            "\r 19%|█▉        | 12/63 [00:08<00:36,  1.41it/s]"
          ]
        },
        {
          "output_type": "stream",
          "name": "stdout",
          "text": [
            "training logits: tensor([[0.0498, 0.0450, 0.9052],\n",
            "        [0.9775, 0.0132, 0.0093],\n",
            "        [0.9494, 0.0290, 0.0216],\n",
            "        [0.0920, 0.0487, 0.8593],\n",
            "        [0.2105, 0.3225, 0.4669],\n",
            "        [0.1282, 0.3816, 0.4902],\n",
            "        [0.0766, 0.0803, 0.8431],\n",
            "        [0.8251, 0.0962, 0.0787]], device='cuda:0', grad_fn=<SoftmaxBackward0>)\n",
            "training outputs\n",
            "tensor([[0.0498, 0.0450, 0.9052],\n",
            "        [0.9775, 0.0132, 0.0093],\n",
            "        [0.9494, 0.0290, 0.0216],\n",
            "        [0.0920, 0.0487, 0.8593],\n",
            "        [0.2105, 0.3225, 0.4669],\n",
            "        [0.1282, 0.3816, 0.4902],\n",
            "        [0.0766, 0.0803, 0.8431],\n",
            "        [0.8251, 0.0962, 0.0787]], device='cuda:0', grad_fn=<SoftmaxBackward0>)\n",
            "prediction: tensor([2, 0, 0, 2, 2, 2, 2, 0], device='cuda:0')\n",
            "train labels: tensor([2, 0, 0, 2, 1, 2, 2, 0], device='cuda:0')\n"
          ]
        },
        {
          "output_type": "stream",
          "name": "stderr",
          "text": [
            "\r 21%|██        | 13/63 [00:09<00:35,  1.41it/s]"
          ]
        },
        {
          "output_type": "stream",
          "name": "stdout",
          "text": [
            "training logits: tensor([[0.2235, 0.1676, 0.6090],\n",
            "        [0.9282, 0.0366, 0.0352],\n",
            "        [0.0867, 0.1587, 0.7546],\n",
            "        [0.2304, 0.7480, 0.0216],\n",
            "        [0.9791, 0.0101, 0.0108],\n",
            "        [0.1268, 0.0646, 0.8086],\n",
            "        [0.1621, 0.1249, 0.7130],\n",
            "        [0.9183, 0.0419, 0.0398]], device='cuda:0', grad_fn=<SoftmaxBackward0>)\n",
            "training outputs\n",
            "tensor([[0.2235, 0.1676, 0.6090],\n",
            "        [0.9282, 0.0366, 0.0352],\n",
            "        [0.0867, 0.1587, 0.7546],\n",
            "        [0.2304, 0.7480, 0.0216],\n",
            "        [0.9791, 0.0101, 0.0108],\n",
            "        [0.1268, 0.0646, 0.8086],\n",
            "        [0.1621, 0.1249, 0.7130],\n",
            "        [0.9183, 0.0419, 0.0398]], device='cuda:0', grad_fn=<SoftmaxBackward0>)\n",
            "prediction: tensor([2, 0, 2, 1, 0, 2, 2, 0], device='cuda:0')\n",
            "train labels: tensor([2, 0, 2, 1, 0, 2, 2, 0], device='cuda:0')\n"
          ]
        },
        {
          "output_type": "stream",
          "name": "stderr",
          "text": [
            "\r 22%|██▏       | 14/63 [00:09<00:34,  1.41it/s]"
          ]
        },
        {
          "output_type": "stream",
          "name": "stdout",
          "text": [
            "training logits: tensor([[0.0678, 0.8009, 0.1314],\n",
            "        [0.9563, 0.0281, 0.0156],\n",
            "        [0.0179, 0.9509, 0.0313],\n",
            "        [0.2515, 0.6299, 0.1187],\n",
            "        [0.9525, 0.0297, 0.0178],\n",
            "        [0.0575, 0.0752, 0.8673],\n",
            "        [0.0249, 0.8123, 0.1628],\n",
            "        [0.1344, 0.1335, 0.7322]], device='cuda:0', grad_fn=<SoftmaxBackward0>)\n",
            "training outputs\n",
            "tensor([[0.0678, 0.8009, 0.1314],\n",
            "        [0.9563, 0.0281, 0.0156],\n",
            "        [0.0179, 0.9509, 0.0313],\n",
            "        [0.2515, 0.6299, 0.1187],\n",
            "        [0.9525, 0.0297, 0.0178],\n",
            "        [0.0575, 0.0752, 0.8673],\n",
            "        [0.0249, 0.8123, 0.1628],\n",
            "        [0.1344, 0.1335, 0.7322]], device='cuda:0', grad_fn=<SoftmaxBackward0>)\n",
            "prediction: tensor([1, 0, 1, 1, 0, 2, 1, 2], device='cuda:0')\n",
            "train labels: tensor([1, 0, 1, 2, 0, 2, 2, 2], device='cuda:0')\n"
          ]
        },
        {
          "output_type": "stream",
          "name": "stderr",
          "text": [
            "\r 24%|██▍       | 15/63 [00:10<00:34,  1.40it/s]"
          ]
        },
        {
          "output_type": "stream",
          "name": "stdout",
          "text": [
            "training logits: tensor([[0.0345, 0.8893, 0.0762],\n",
            "        [0.1041, 0.0992, 0.7967],\n",
            "        [0.9492, 0.0369, 0.0139],\n",
            "        [0.0450, 0.8202, 0.1347],\n",
            "        [0.0978, 0.7363, 0.1659],\n",
            "        [0.9761, 0.0174, 0.0065],\n",
            "        [0.9673, 0.0174, 0.0153],\n",
            "        [0.0943, 0.1788, 0.7269]], device='cuda:0', grad_fn=<SoftmaxBackward0>)\n",
            "training outputs\n",
            "tensor([[0.0345, 0.8893, 0.0762],\n",
            "        [0.1041, 0.0992, 0.7967],\n",
            "        [0.9492, 0.0369, 0.0139],\n",
            "        [0.0450, 0.8202, 0.1347],\n",
            "        [0.0978, 0.7363, 0.1659],\n",
            "        [0.9761, 0.0174, 0.0065],\n",
            "        [0.9673, 0.0174, 0.0153],\n",
            "        [0.0943, 0.1788, 0.7269]], device='cuda:0', grad_fn=<SoftmaxBackward0>)\n",
            "prediction: tensor([1, 2, 0, 1, 1, 0, 0, 2], device='cuda:0')\n",
            "train labels: tensor([1, 2, 0, 1, 1, 0, 0, 2], device='cuda:0')\n"
          ]
        },
        {
          "output_type": "stream",
          "name": "stderr",
          "text": [
            "\r 25%|██▌       | 16/63 [00:11<00:33,  1.40it/s]"
          ]
        },
        {
          "output_type": "stream",
          "name": "stdout",
          "text": [
            "training logits: tensor([[0.0460, 0.9382, 0.0158],\n",
            "        [0.0165, 0.9596, 0.0239],\n",
            "        [0.0566, 0.1711, 0.7723],\n",
            "        [0.3359, 0.0839, 0.5802],\n",
            "        [0.1121, 0.1932, 0.6948],\n",
            "        [0.0471, 0.0643, 0.8886],\n",
            "        [0.7230, 0.0707, 0.2063],\n",
            "        [0.2152, 0.0490, 0.7358]], device='cuda:0', grad_fn=<SoftmaxBackward0>)\n",
            "training outputs\n",
            "tensor([[0.0460, 0.9382, 0.0158],\n",
            "        [0.0165, 0.9596, 0.0239],\n",
            "        [0.0566, 0.1711, 0.7723],\n",
            "        [0.3359, 0.0839, 0.5802],\n",
            "        [0.1121, 0.1932, 0.6948],\n",
            "        [0.0471, 0.0643, 0.8886],\n",
            "        [0.7230, 0.0707, 0.2063],\n",
            "        [0.2152, 0.0490, 0.7358]], device='cuda:0', grad_fn=<SoftmaxBackward0>)\n",
            "prediction: tensor([1, 1, 2, 2, 2, 2, 0, 2], device='cuda:0')\n",
            "train labels: tensor([1, 1, 0, 2, 2, 2, 1, 2], device='cuda:0')\n"
          ]
        },
        {
          "output_type": "stream",
          "name": "stderr",
          "text": [
            "\r 27%|██▋       | 17/63 [00:12<00:32,  1.40it/s]"
          ]
        },
        {
          "output_type": "stream",
          "name": "stdout",
          "text": [
            "training logits: tensor([[0.0359, 0.9370, 0.0271],\n",
            "        [0.3276, 0.5076, 0.1648],\n",
            "        [0.0130, 0.9665, 0.0205],\n",
            "        [0.0479, 0.8761, 0.0760],\n",
            "        [0.9665, 0.0167, 0.0168],\n",
            "        [0.1795, 0.2359, 0.5846],\n",
            "        [0.9729, 0.0149, 0.0122],\n",
            "        [0.0556, 0.1916, 0.7528]], device='cuda:0', grad_fn=<SoftmaxBackward0>)\n",
            "training outputs\n",
            "tensor([[0.0359, 0.9370, 0.0271],\n",
            "        [0.3276, 0.5076, 0.1648],\n",
            "        [0.0130, 0.9665, 0.0205],\n",
            "        [0.0479, 0.8761, 0.0760],\n",
            "        [0.9665, 0.0167, 0.0168],\n",
            "        [0.1795, 0.2359, 0.5846],\n",
            "        [0.9729, 0.0149, 0.0122],\n",
            "        [0.0556, 0.1916, 0.7528]], device='cuda:0', grad_fn=<SoftmaxBackward0>)\n",
            "prediction: tensor([1, 1, 1, 1, 0, 2, 0, 2], device='cuda:0')\n",
            "train labels: tensor([1, 1, 1, 1, 0, 2, 0, 2], device='cuda:0')\n"
          ]
        },
        {
          "output_type": "stream",
          "name": "stderr",
          "text": [
            "\r 29%|██▊       | 18/63 [00:12<00:32,  1.39it/s]"
          ]
        },
        {
          "output_type": "stream",
          "name": "stdout",
          "text": [
            "training logits: tensor([[0.0181, 0.9776, 0.0043],\n",
            "        [0.9712, 0.0177, 0.0110],\n",
            "        [0.0591, 0.1553, 0.7856],\n",
            "        [0.1016, 0.0353, 0.8631],\n",
            "        [0.1552, 0.3834, 0.4614],\n",
            "        [0.0917, 0.8039, 0.1044],\n",
            "        [0.3146, 0.3066, 0.3788],\n",
            "        [0.9751, 0.0140, 0.0109]], device='cuda:0', grad_fn=<SoftmaxBackward0>)\n",
            "training outputs\n",
            "tensor([[0.0181, 0.9776, 0.0043],\n",
            "        [0.9712, 0.0177, 0.0110],\n",
            "        [0.0591, 0.1553, 0.7856],\n",
            "        [0.1016, 0.0353, 0.8631],\n",
            "        [0.1552, 0.3834, 0.4614],\n",
            "        [0.0917, 0.8039, 0.1044],\n",
            "        [0.3146, 0.3066, 0.3788],\n",
            "        [0.9751, 0.0140, 0.0109]], device='cuda:0', grad_fn=<SoftmaxBackward0>)\n",
            "prediction: tensor([1, 0, 2, 2, 2, 1, 2, 0], device='cuda:0')\n",
            "train labels: tensor([1, 0, 2, 0, 2, 1, 2, 0], device='cuda:0')\n"
          ]
        },
        {
          "output_type": "stream",
          "name": "stderr",
          "text": [
            "\r 30%|███       | 19/63 [00:13<00:31,  1.39it/s]"
          ]
        },
        {
          "output_type": "stream",
          "name": "stdout",
          "text": [
            "training logits: tensor([[0.0471, 0.9345, 0.0184],\n",
            "        [0.0243, 0.1437, 0.8320],\n",
            "        [0.0630, 0.2451, 0.6919],\n",
            "        [0.1465, 0.7888, 0.0647],\n",
            "        [0.0392, 0.9268, 0.0339],\n",
            "        [0.0560, 0.9164, 0.0276],\n",
            "        [0.9752, 0.0145, 0.0103],\n",
            "        [0.0219, 0.8938, 0.0843]], device='cuda:0', grad_fn=<SoftmaxBackward0>)\n",
            "training outputs\n",
            "tensor([[0.0471, 0.9345, 0.0184],\n",
            "        [0.0243, 0.1437, 0.8320],\n",
            "        [0.0630, 0.2451, 0.6919],\n",
            "        [0.1465, 0.7888, 0.0647],\n",
            "        [0.0392, 0.9268, 0.0339],\n",
            "        [0.0560, 0.9164, 0.0276],\n",
            "        [0.9752, 0.0145, 0.0103],\n",
            "        [0.0219, 0.8938, 0.0843]], device='cuda:0', grad_fn=<SoftmaxBackward0>)\n",
            "prediction: tensor([1, 2, 2, 1, 1, 1, 0, 1], device='cuda:0')\n",
            "train labels: tensor([1, 2, 2, 0, 1, 1, 0, 2], device='cuda:0')\n"
          ]
        },
        {
          "output_type": "stream",
          "name": "stderr",
          "text": [
            "\r 32%|███▏      | 20/63 [00:14<00:30,  1.39it/s]"
          ]
        },
        {
          "output_type": "stream",
          "name": "stdout",
          "text": [
            "training logits: tensor([[0.0895, 0.8759, 0.0346],\n",
            "        [0.0556, 0.9176, 0.0269],\n",
            "        [0.0832, 0.4022, 0.5146],\n",
            "        [0.0535, 0.8431, 0.1034],\n",
            "        [0.9789, 0.0125, 0.0086],\n",
            "        [0.9586, 0.0238, 0.0176],\n",
            "        [0.0320, 0.9498, 0.0182],\n",
            "        [0.0421, 0.9195, 0.0385]], device='cuda:0', grad_fn=<SoftmaxBackward0>)\n",
            "training outputs\n",
            "tensor([[0.0895, 0.8759, 0.0346],\n",
            "        [0.0556, 0.9176, 0.0269],\n",
            "        [0.0832, 0.4022, 0.5146],\n",
            "        [0.0535, 0.8431, 0.1034],\n",
            "        [0.9789, 0.0125, 0.0086],\n",
            "        [0.9586, 0.0238, 0.0176],\n",
            "        [0.0320, 0.9498, 0.0182],\n",
            "        [0.0421, 0.9195, 0.0385]], device='cuda:0', grad_fn=<SoftmaxBackward0>)\n",
            "prediction: tensor([1, 1, 2, 1, 0, 0, 1, 1], device='cuda:0')\n",
            "train labels: tensor([1, 1, 2, 2, 0, 0, 1, 1], device='cuda:0')\n"
          ]
        },
        {
          "output_type": "stream",
          "name": "stderr",
          "text": [
            "\r 33%|███▎      | 21/63 [00:14<00:30,  1.38it/s]"
          ]
        },
        {
          "output_type": "stream",
          "name": "stdout",
          "text": [
            "training logits: tensor([[0.9736, 0.0127, 0.0137],\n",
            "        [0.0280, 0.0409, 0.9311],\n",
            "        [0.0942, 0.2666, 0.6392],\n",
            "        [0.0163, 0.9668, 0.0169],\n",
            "        [0.0848, 0.2005, 0.7147],\n",
            "        [0.9825, 0.0122, 0.0053],\n",
            "        [0.0441, 0.1135, 0.8424],\n",
            "        [0.9725, 0.0201, 0.0074]], device='cuda:0', grad_fn=<SoftmaxBackward0>)\n",
            "training outputs\n",
            "tensor([[0.9736, 0.0127, 0.0137],\n",
            "        [0.0280, 0.0409, 0.9311],\n",
            "        [0.0942, 0.2666, 0.6392],\n",
            "        [0.0163, 0.9668, 0.0169],\n",
            "        [0.0848, 0.2005, 0.7147],\n",
            "        [0.9825, 0.0122, 0.0053],\n",
            "        [0.0441, 0.1135, 0.8424],\n",
            "        [0.9725, 0.0201, 0.0074]], device='cuda:0', grad_fn=<SoftmaxBackward0>)\n",
            "prediction: tensor([0, 2, 2, 1, 2, 0, 2, 0], device='cuda:0')\n",
            "train labels: tensor([0, 2, 2, 1, 2, 0, 2, 1], device='cuda:0')\n"
          ]
        },
        {
          "output_type": "stream",
          "name": "stderr",
          "text": [
            "\r 35%|███▍      | 22/63 [00:15<00:29,  1.38it/s]"
          ]
        },
        {
          "output_type": "stream",
          "name": "stdout",
          "text": [
            "training logits: tensor([[0.0635, 0.8641, 0.0725],\n",
            "        [0.0332, 0.9249, 0.0419],\n",
            "        [0.9618, 0.0241, 0.0142],\n",
            "        [0.9570, 0.0316, 0.0114],\n",
            "        [0.0506, 0.7436, 0.2059],\n",
            "        [0.9637, 0.0270, 0.0092],\n",
            "        [0.9666, 0.0235, 0.0099],\n",
            "        [0.0913, 0.8003, 0.1084]], device='cuda:0', grad_fn=<SoftmaxBackward0>)\n",
            "training outputs\n",
            "tensor([[0.0635, 0.8641, 0.0725],\n",
            "        [0.0332, 0.9249, 0.0419],\n",
            "        [0.9618, 0.0241, 0.0142],\n",
            "        [0.9570, 0.0316, 0.0114],\n",
            "        [0.0506, 0.7436, 0.2059],\n",
            "        [0.9637, 0.0270, 0.0092],\n",
            "        [0.9666, 0.0235, 0.0099],\n",
            "        [0.0913, 0.8003, 0.1084]], device='cuda:0', grad_fn=<SoftmaxBackward0>)\n",
            "prediction: tensor([1, 1, 0, 0, 1, 0, 0, 1], device='cuda:0')\n",
            "train labels: tensor([1, 1, 0, 2, 2, 0, 0, 1], device='cuda:0')\n"
          ]
        },
        {
          "output_type": "stream",
          "name": "stderr",
          "text": [
            "\r 37%|███▋      | 23/63 [00:16<00:29,  1.38it/s]"
          ]
        },
        {
          "output_type": "stream",
          "name": "stdout",
          "text": [
            "training logits: tensor([[0.1074, 0.1986, 0.6940],\n",
            "        [0.0632, 0.0784, 0.8585],\n",
            "        [0.5055, 0.4355, 0.0589],\n",
            "        [0.0663, 0.1775, 0.7562],\n",
            "        [0.5182, 0.1736, 0.3082],\n",
            "        [0.0711, 0.0662, 0.8627],\n",
            "        [0.0275, 0.4558, 0.5167],\n",
            "        [0.1128, 0.3221, 0.5651]], device='cuda:0', grad_fn=<SoftmaxBackward0>)\n",
            "training outputs\n",
            "tensor([[0.1074, 0.1986, 0.6940],\n",
            "        [0.0632, 0.0784, 0.8585],\n",
            "        [0.5055, 0.4355, 0.0589],\n",
            "        [0.0663, 0.1775, 0.7562],\n",
            "        [0.5182, 0.1736, 0.3082],\n",
            "        [0.0711, 0.0662, 0.8627],\n",
            "        [0.0275, 0.4558, 0.5167],\n",
            "        [0.1128, 0.3221, 0.5651]], device='cuda:0', grad_fn=<SoftmaxBackward0>)\n",
            "prediction: tensor([2, 2, 0, 2, 0, 2, 2, 2], device='cuda:0')\n",
            "train labels: tensor([2, 2, 1, 1, 2, 2, 2, 0], device='cuda:0')\n"
          ]
        },
        {
          "output_type": "stream",
          "name": "stderr",
          "text": [
            "\r 38%|███▊      | 24/63 [00:17<00:28,  1.38it/s]"
          ]
        },
        {
          "output_type": "stream",
          "name": "stdout",
          "text": [
            "training logits: tensor([[0.1056, 0.7567, 0.1377],\n",
            "        [0.0917, 0.1528, 0.7555],\n",
            "        [0.0450, 0.1262, 0.8288],\n",
            "        [0.0264, 0.8717, 0.1018],\n",
            "        [0.1200, 0.1269, 0.7531],\n",
            "        [0.4525, 0.1063, 0.4412],\n",
            "        [0.9802, 0.0148, 0.0050],\n",
            "        [0.1256, 0.3020, 0.5724]], device='cuda:0', grad_fn=<SoftmaxBackward0>)\n",
            "training outputs\n",
            "tensor([[0.1056, 0.7567, 0.1377],\n",
            "        [0.0917, 0.1528, 0.7555],\n",
            "        [0.0450, 0.1262, 0.8288],\n",
            "        [0.0264, 0.8717, 0.1018],\n",
            "        [0.1200, 0.1269, 0.7531],\n",
            "        [0.4525, 0.1063, 0.4412],\n",
            "        [0.9802, 0.0148, 0.0050],\n",
            "        [0.1256, 0.3020, 0.5724]], device='cuda:0', grad_fn=<SoftmaxBackward0>)\n",
            "prediction: tensor([1, 2, 2, 1, 2, 0, 0, 2], device='cuda:0')\n",
            "train labels: tensor([1, 2, 2, 1, 2, 2, 0, 2], device='cuda:0')\n"
          ]
        },
        {
          "output_type": "stream",
          "name": "stderr",
          "text": [
            "\r 40%|███▉      | 25/63 [00:17<00:27,  1.37it/s]"
          ]
        },
        {
          "output_type": "stream",
          "name": "stdout",
          "text": [
            "training logits: tensor([[0.0781, 0.0787, 0.8432],\n",
            "        [0.9672, 0.0180, 0.0148],\n",
            "        [0.5001, 0.1199, 0.3800],\n",
            "        [0.0849, 0.0876, 0.8275],\n",
            "        [0.0915, 0.1791, 0.7294],\n",
            "        [0.9816, 0.0080, 0.0104],\n",
            "        [0.9793, 0.0083, 0.0124],\n",
            "        [0.9346, 0.0327, 0.0327]], device='cuda:0', grad_fn=<SoftmaxBackward0>)\n",
            "training outputs\n",
            "tensor([[0.0781, 0.0787, 0.8432],\n",
            "        [0.9672, 0.0180, 0.0148],\n",
            "        [0.5001, 0.1199, 0.3800],\n",
            "        [0.0849, 0.0876, 0.8275],\n",
            "        [0.0915, 0.1791, 0.7294],\n",
            "        [0.9816, 0.0080, 0.0104],\n",
            "        [0.9793, 0.0083, 0.0124],\n",
            "        [0.9346, 0.0327, 0.0327]], device='cuda:0', grad_fn=<SoftmaxBackward0>)\n",
            "prediction: tensor([2, 0, 0, 2, 2, 0, 0, 0], device='cuda:0')\n",
            "train labels: tensor([2, 0, 1, 2, 2, 0, 0, 0], device='cuda:0')\n"
          ]
        },
        {
          "output_type": "stream",
          "name": "stderr",
          "text": [
            "\r 41%|████▏     | 26/63 [00:18<00:26,  1.37it/s]"
          ]
        },
        {
          "output_type": "stream",
          "name": "stdout",
          "text": [
            "training logits: tensor([[0.9609, 0.0113, 0.0278],\n",
            "        [0.0292, 0.8680, 0.1027],\n",
            "        [0.9552, 0.0393, 0.0055],\n",
            "        [0.2702, 0.1626, 0.5671],\n",
            "        [0.2530, 0.2196, 0.5275],\n",
            "        [0.0352, 0.8699, 0.0949],\n",
            "        [0.0542, 0.6065, 0.3393],\n",
            "        [0.0540, 0.0361, 0.9098]], device='cuda:0', grad_fn=<SoftmaxBackward0>)\n",
            "training outputs\n",
            "tensor([[0.9609, 0.0113, 0.0278],\n",
            "        [0.0292, 0.8680, 0.1027],\n",
            "        [0.9552, 0.0393, 0.0055],\n",
            "        [0.2702, 0.1626, 0.5671],\n",
            "        [0.2530, 0.2196, 0.5275],\n",
            "        [0.0352, 0.8699, 0.0949],\n",
            "        [0.0542, 0.6065, 0.3393],\n",
            "        [0.0540, 0.0361, 0.9098]], device='cuda:0', grad_fn=<SoftmaxBackward0>)\n",
            "prediction: tensor([0, 1, 0, 2, 2, 1, 1, 2], device='cuda:0')\n",
            "train labels: tensor([2, 1, 1, 1, 2, 1, 0, 2], device='cuda:0')\n"
          ]
        },
        {
          "output_type": "stream",
          "name": "stderr",
          "text": [
            "\r 43%|████▎     | 27/63 [00:19<00:26,  1.37it/s]"
          ]
        },
        {
          "output_type": "stream",
          "name": "stdout",
          "text": [
            "training logits: tensor([[0.2084, 0.1614, 0.6302],\n",
            "        [0.0626, 0.1414, 0.7960],\n",
            "        [0.1289, 0.2622, 0.6089],\n",
            "        [0.0221, 0.9369, 0.0410],\n",
            "        [0.9693, 0.0216, 0.0091],\n",
            "        [0.9851, 0.0060, 0.0089],\n",
            "        [0.0281, 0.8037, 0.1681],\n",
            "        [0.0802, 0.1378, 0.7821]], device='cuda:0', grad_fn=<SoftmaxBackward0>)\n",
            "training outputs\n",
            "tensor([[0.2084, 0.1614, 0.6302],\n",
            "        [0.0626, 0.1414, 0.7960],\n",
            "        [0.1289, 0.2622, 0.6089],\n",
            "        [0.0221, 0.9369, 0.0410],\n",
            "        [0.9693, 0.0216, 0.0091],\n",
            "        [0.9851, 0.0060, 0.0089],\n",
            "        [0.0281, 0.8037, 0.1681],\n",
            "        [0.0802, 0.1378, 0.7821]], device='cuda:0', grad_fn=<SoftmaxBackward0>)\n",
            "prediction: tensor([2, 2, 2, 1, 0, 0, 1, 2], device='cuda:0')\n",
            "train labels: tensor([2, 2, 2, 1, 0, 0, 1, 2], device='cuda:0')\n"
          ]
        },
        {
          "output_type": "stream",
          "name": "stderr",
          "text": [
            "\r 44%|████▍     | 28/63 [00:20<00:25,  1.37it/s]"
          ]
        },
        {
          "output_type": "stream",
          "name": "stdout",
          "text": [
            "training logits: tensor([[0.1120, 0.5052, 0.3828],\n",
            "        [0.1172, 0.1140, 0.7688],\n",
            "        [0.9658, 0.0127, 0.0214],\n",
            "        [0.9805, 0.0087, 0.0108],\n",
            "        [0.0203, 0.9584, 0.0213],\n",
            "        [0.0665, 0.1971, 0.7364],\n",
            "        [0.0168, 0.9110, 0.0722],\n",
            "        [0.6758, 0.0998, 0.2244]], device='cuda:0', grad_fn=<SoftmaxBackward0>)\n",
            "training outputs\n",
            "tensor([[0.1120, 0.5052, 0.3828],\n",
            "        [0.1172, 0.1140, 0.7688],\n",
            "        [0.9658, 0.0127, 0.0214],\n",
            "        [0.9805, 0.0087, 0.0108],\n",
            "        [0.0203, 0.9584, 0.0213],\n",
            "        [0.0665, 0.1971, 0.7364],\n",
            "        [0.0168, 0.9110, 0.0722],\n",
            "        [0.6758, 0.0998, 0.2244]], device='cuda:0', grad_fn=<SoftmaxBackward0>)\n",
            "prediction: tensor([1, 2, 0, 0, 1, 2, 1, 0], device='cuda:0')\n",
            "train labels: tensor([1, 2, 0, 0, 1, 2, 1, 2], device='cuda:0')\n"
          ]
        },
        {
          "output_type": "stream",
          "name": "stderr",
          "text": [
            "\r 46%|████▌     | 29/63 [00:20<00:24,  1.37it/s]"
          ]
        },
        {
          "output_type": "stream",
          "name": "stdout",
          "text": [
            "training logits: tensor([[0.0166, 0.9253, 0.0581],\n",
            "        [0.0106, 0.9385, 0.0509],\n",
            "        [0.9666, 0.0115, 0.0219],\n",
            "        [0.8771, 0.0309, 0.0920],\n",
            "        [0.0508, 0.8837, 0.0655],\n",
            "        [0.0391, 0.0743, 0.8867],\n",
            "        [0.9733, 0.0109, 0.0158],\n",
            "        [0.9619, 0.0213, 0.0168]], device='cuda:0', grad_fn=<SoftmaxBackward0>)\n",
            "training outputs\n",
            "tensor([[0.0166, 0.9253, 0.0581],\n",
            "        [0.0106, 0.9385, 0.0509],\n",
            "        [0.9666, 0.0115, 0.0219],\n",
            "        [0.8771, 0.0309, 0.0920],\n",
            "        [0.0508, 0.8837, 0.0655],\n",
            "        [0.0391, 0.0743, 0.8867],\n",
            "        [0.9733, 0.0109, 0.0158],\n",
            "        [0.9619, 0.0213, 0.0168]], device='cuda:0', grad_fn=<SoftmaxBackward0>)\n",
            "prediction: tensor([1, 1, 0, 0, 1, 2, 0, 0], device='cuda:0')\n",
            "train labels: tensor([1, 1, 0, 0, 1, 2, 0, 2], device='cuda:0')\n"
          ]
        },
        {
          "output_type": "stream",
          "name": "stderr",
          "text": [
            "\r 48%|████▊     | 30/63 [00:21<00:24,  1.37it/s]"
          ]
        },
        {
          "output_type": "stream",
          "name": "stdout",
          "text": [
            "training logits: tensor([[0.0473, 0.1173, 0.8354],\n",
            "        [0.0351, 0.7633, 0.2016],\n",
            "        [0.1526, 0.1015, 0.7460],\n",
            "        [0.0111, 0.9331, 0.0557],\n",
            "        [0.0723, 0.1867, 0.7410],\n",
            "        [0.0758, 0.0628, 0.8614],\n",
            "        [0.1030, 0.1105, 0.7865],\n",
            "        [0.0158, 0.9338, 0.0504]], device='cuda:0', grad_fn=<SoftmaxBackward0>)\n",
            "training outputs\n",
            "tensor([[0.0473, 0.1173, 0.8354],\n",
            "        [0.0351, 0.7633, 0.2016],\n",
            "        [0.1526, 0.1015, 0.7460],\n",
            "        [0.0111, 0.9331, 0.0557],\n",
            "        [0.0723, 0.1867, 0.7410],\n",
            "        [0.0758, 0.0628, 0.8614],\n",
            "        [0.1030, 0.1105, 0.7865],\n",
            "        [0.0158, 0.9338, 0.0504]], device='cuda:0', grad_fn=<SoftmaxBackward0>)\n",
            "prediction: tensor([2, 1, 2, 1, 2, 2, 2, 1], device='cuda:0')\n",
            "train labels: tensor([2, 1, 2, 1, 2, 2, 0, 1], device='cuda:0')\n"
          ]
        },
        {
          "output_type": "stream",
          "name": "stderr",
          "text": [
            "\r 49%|████▉     | 31/63 [00:22<00:23,  1.37it/s]"
          ]
        },
        {
          "output_type": "stream",
          "name": "stdout",
          "text": [
            "training logits: tensor([[0.9729, 0.0114, 0.0157],\n",
            "        [0.6859, 0.2841, 0.0301],\n",
            "        [0.3624, 0.0362, 0.6015],\n",
            "        [0.1696, 0.7548, 0.0757],\n",
            "        [0.1094, 0.1523, 0.7383],\n",
            "        [0.9010, 0.0190, 0.0800],\n",
            "        [0.0260, 0.9597, 0.0143],\n",
            "        [0.9837, 0.0071, 0.0093]], device='cuda:0', grad_fn=<SoftmaxBackward0>)\n",
            "training outputs\n",
            "tensor([[0.9729, 0.0114, 0.0157],\n",
            "        [0.6859, 0.2841, 0.0301],\n",
            "        [0.3624, 0.0362, 0.6015],\n",
            "        [0.1696, 0.7548, 0.0757],\n",
            "        [0.1094, 0.1523, 0.7383],\n",
            "        [0.9010, 0.0190, 0.0800],\n",
            "        [0.0260, 0.9597, 0.0143],\n",
            "        [0.9837, 0.0071, 0.0093]], device='cuda:0', grad_fn=<SoftmaxBackward0>)\n",
            "prediction: tensor([0, 0, 2, 1, 2, 0, 1, 0], device='cuda:0')\n",
            "train labels: tensor([0, 1, 0, 1, 1, 0, 1, 0], device='cuda:0')\n"
          ]
        },
        {
          "output_type": "stream",
          "name": "stderr",
          "text": [
            "\r 51%|█████     | 32/63 [00:23<00:22,  1.37it/s]"
          ]
        },
        {
          "output_type": "stream",
          "name": "stdout",
          "text": [
            "training logits: tensor([[0.1126, 0.0413, 0.8461],\n",
            "        [0.9732, 0.0136, 0.0131],\n",
            "        [0.0336, 0.0785, 0.8879],\n",
            "        [0.1419, 0.2384, 0.6197],\n",
            "        [0.1678, 0.1607, 0.6715],\n",
            "        [0.0746, 0.4170, 0.5084],\n",
            "        [0.1454, 0.0762, 0.7784],\n",
            "        [0.1579, 0.7305, 0.1116]], device='cuda:0', grad_fn=<SoftmaxBackward0>)\n",
            "training outputs\n",
            "tensor([[0.1126, 0.0413, 0.8461],\n",
            "        [0.9732, 0.0136, 0.0131],\n",
            "        [0.0336, 0.0785, 0.8879],\n",
            "        [0.1419, 0.2384, 0.6197],\n",
            "        [0.1678, 0.1607, 0.6715],\n",
            "        [0.0746, 0.4170, 0.5084],\n",
            "        [0.1454, 0.0762, 0.7784],\n",
            "        [0.1579, 0.7305, 0.1116]], device='cuda:0', grad_fn=<SoftmaxBackward0>)\n",
            "prediction: tensor([2, 0, 2, 2, 2, 2, 2, 1], device='cuda:0')\n",
            "train labels: tensor([2, 0, 2, 2, 2, 1, 1, 1], device='cuda:0')\n"
          ]
        },
        {
          "output_type": "stream",
          "name": "stderr",
          "text": [
            "\r 52%|█████▏    | 33/63 [00:23<00:21,  1.37it/s]"
          ]
        },
        {
          "output_type": "stream",
          "name": "stdout",
          "text": [
            "training logits: tensor([[0.1358, 0.8004, 0.0638],\n",
            "        [0.0570, 0.8604, 0.0826],\n",
            "        [0.7523, 0.0211, 0.2266],\n",
            "        [0.0469, 0.7113, 0.2418],\n",
            "        [0.1535, 0.1656, 0.6810],\n",
            "        [0.0796, 0.0751, 0.8453],\n",
            "        [0.0283, 0.7992, 0.1725],\n",
            "        [0.1253, 0.0374, 0.8374]], device='cuda:0', grad_fn=<SoftmaxBackward0>)\n",
            "training outputs\n",
            "tensor([[0.1358, 0.8004, 0.0638],\n",
            "        [0.0570, 0.8604, 0.0826],\n",
            "        [0.7523, 0.0211, 0.2266],\n",
            "        [0.0469, 0.7113, 0.2418],\n",
            "        [0.1535, 0.1656, 0.6810],\n",
            "        [0.0796, 0.0751, 0.8453],\n",
            "        [0.0283, 0.7992, 0.1725],\n",
            "        [0.1253, 0.0374, 0.8374]], device='cuda:0', grad_fn=<SoftmaxBackward0>)\n",
            "prediction: tensor([1, 1, 0, 1, 2, 2, 1, 2], device='cuda:0')\n",
            "train labels: tensor([1, 2, 1, 1, 0, 2, 1, 2], device='cuda:0')\n"
          ]
        },
        {
          "output_type": "stream",
          "name": "stderr",
          "text": [
            "\r 54%|█████▍    | 34/63 [00:24<00:21,  1.37it/s]"
          ]
        },
        {
          "output_type": "stream",
          "name": "stdout",
          "text": [
            "training logits: tensor([[0.0926, 0.0799, 0.8275],\n",
            "        [0.0126, 0.9367, 0.0507],\n",
            "        [0.0463, 0.2829, 0.6708],\n",
            "        [0.0408, 0.0760, 0.8833],\n",
            "        [0.0447, 0.1213, 0.8340],\n",
            "        [0.0578, 0.0873, 0.8549],\n",
            "        [0.0191, 0.9559, 0.0251],\n",
            "        [0.1345, 0.8256, 0.0399]], device='cuda:0', grad_fn=<SoftmaxBackward0>)\n",
            "training outputs\n",
            "tensor([[0.0926, 0.0799, 0.8275],\n",
            "        [0.0126, 0.9367, 0.0507],\n",
            "        [0.0463, 0.2829, 0.6708],\n",
            "        [0.0408, 0.0760, 0.8833],\n",
            "        [0.0447, 0.1213, 0.8340],\n",
            "        [0.0578, 0.0873, 0.8549],\n",
            "        [0.0191, 0.9559, 0.0251],\n",
            "        [0.1345, 0.8256, 0.0399]], device='cuda:0', grad_fn=<SoftmaxBackward0>)\n",
            "prediction: tensor([2, 1, 2, 2, 2, 2, 1, 1], device='cuda:0')\n",
            "train labels: tensor([2, 1, 1, 0, 2, 2, 1, 1], device='cuda:0')\n"
          ]
        },
        {
          "output_type": "stream",
          "name": "stderr",
          "text": [
            "\r 56%|█████▌    | 35/63 [00:25<00:20,  1.36it/s]"
          ]
        },
        {
          "output_type": "stream",
          "name": "stdout",
          "text": [
            "training logits: tensor([[0.0210, 0.8709, 0.1082],\n",
            "        [0.0274, 0.8744, 0.0982],\n",
            "        [0.1676, 0.1717, 0.6608],\n",
            "        [0.0452, 0.9261, 0.0288],\n",
            "        [0.2944, 0.6578, 0.0478],\n",
            "        [0.1128, 0.0947, 0.7924],\n",
            "        [0.0122, 0.9641, 0.0237],\n",
            "        [0.0801, 0.0511, 0.8689]], device='cuda:0', grad_fn=<SoftmaxBackward0>)\n",
            "training outputs\n",
            "tensor([[0.0210, 0.8709, 0.1082],\n",
            "        [0.0274, 0.8744, 0.0982],\n",
            "        [0.1676, 0.1717, 0.6608],\n",
            "        [0.0452, 0.9261, 0.0288],\n",
            "        [0.2944, 0.6578, 0.0478],\n",
            "        [0.1128, 0.0947, 0.7924],\n",
            "        [0.0122, 0.9641, 0.0237],\n",
            "        [0.0801, 0.0511, 0.8689]], device='cuda:0', grad_fn=<SoftmaxBackward0>)\n",
            "prediction: tensor([1, 1, 2, 1, 1, 2, 1, 2], device='cuda:0')\n",
            "train labels: tensor([1, 1, 0, 0, 1, 0, 1, 2], device='cuda:0')\n"
          ]
        },
        {
          "output_type": "stream",
          "name": "stderr",
          "text": [
            "\r 57%|█████▋    | 36/63 [00:25<00:19,  1.36it/s]"
          ]
        },
        {
          "output_type": "stream",
          "name": "stdout",
          "text": [
            "training logits: tensor([[0.2459, 0.7088, 0.0453],\n",
            "        [0.0459, 0.4166, 0.5375],\n",
            "        [0.0411, 0.8880, 0.0708],\n",
            "        [0.0122, 0.9257, 0.0621],\n",
            "        [0.0357, 0.9067, 0.0576],\n",
            "        [0.0055, 0.9774, 0.0171],\n",
            "        [0.0140, 0.9651, 0.0209],\n",
            "        [0.0324, 0.9300, 0.0376]], device='cuda:0', grad_fn=<SoftmaxBackward0>)\n",
            "training outputs\n",
            "tensor([[0.2459, 0.7088, 0.0453],\n",
            "        [0.0459, 0.4166, 0.5375],\n",
            "        [0.0411, 0.8880, 0.0708],\n",
            "        [0.0122, 0.9257, 0.0621],\n",
            "        [0.0357, 0.9067, 0.0576],\n",
            "        [0.0055, 0.9774, 0.0171],\n",
            "        [0.0140, 0.9651, 0.0209],\n",
            "        [0.0324, 0.9300, 0.0376]], device='cuda:0', grad_fn=<SoftmaxBackward0>)\n",
            "prediction: tensor([1, 2, 1, 1, 1, 1, 1, 1], device='cuda:0')\n",
            "train labels: tensor([1, 0, 2, 1, 1, 1, 1, 1], device='cuda:0')\n"
          ]
        },
        {
          "output_type": "stream",
          "name": "stderr",
          "text": [
            "\r 59%|█████▊    | 37/63 [00:26<00:19,  1.36it/s]"
          ]
        },
        {
          "output_type": "stream",
          "name": "stdout",
          "text": [
            "training logits: tensor([[0.9668, 0.0158, 0.0175],\n",
            "        [0.9412, 0.0095, 0.0494],\n",
            "        [0.1978, 0.7109, 0.0913],\n",
            "        [0.0171, 0.9345, 0.0484],\n",
            "        [0.9843, 0.0078, 0.0079],\n",
            "        [0.9774, 0.0164, 0.0062],\n",
            "        [0.0498, 0.9225, 0.0277],\n",
            "        [0.1387, 0.1737, 0.6876]], device='cuda:0', grad_fn=<SoftmaxBackward0>)\n",
            "training outputs\n",
            "tensor([[0.9668, 0.0158, 0.0175],\n",
            "        [0.9412, 0.0095, 0.0494],\n",
            "        [0.1978, 0.7109, 0.0913],\n",
            "        [0.0171, 0.9345, 0.0484],\n",
            "        [0.9843, 0.0078, 0.0079],\n",
            "        [0.9774, 0.0164, 0.0062],\n",
            "        [0.0498, 0.9225, 0.0277],\n",
            "        [0.1387, 0.1737, 0.6876]], device='cuda:0', grad_fn=<SoftmaxBackward0>)\n",
            "prediction: tensor([0, 0, 1, 1, 0, 0, 1, 2], device='cuda:0')\n",
            "train labels: tensor([0, 0, 1, 1, 0, 0, 1, 0], device='cuda:0')\n"
          ]
        },
        {
          "output_type": "stream",
          "name": "stderr",
          "text": [
            "\r 60%|██████    | 38/63 [00:27<00:18,  1.37it/s]"
          ]
        },
        {
          "output_type": "stream",
          "name": "stdout",
          "text": [
            "training logits: tensor([[0.0248, 0.0652, 0.9100],\n",
            "        [0.9430, 0.0360, 0.0211],\n",
            "        [0.9800, 0.0064, 0.0136],\n",
            "        [0.0436, 0.3470, 0.6093],\n",
            "        [0.0169, 0.9552, 0.0279],\n",
            "        [0.6732, 0.1385, 0.1882],\n",
            "        [0.9761, 0.0122, 0.0117],\n",
            "        [0.1463, 0.2729, 0.5808]], device='cuda:0', grad_fn=<SoftmaxBackward0>)\n",
            "training outputs\n",
            "tensor([[0.0248, 0.0652, 0.9100],\n",
            "        [0.9430, 0.0360, 0.0211],\n",
            "        [0.9800, 0.0064, 0.0136],\n",
            "        [0.0436, 0.3470, 0.6093],\n",
            "        [0.0169, 0.9552, 0.0279],\n",
            "        [0.6732, 0.1385, 0.1882],\n",
            "        [0.9761, 0.0122, 0.0117],\n",
            "        [0.1463, 0.2729, 0.5808]], device='cuda:0', grad_fn=<SoftmaxBackward0>)\n",
            "prediction: tensor([2, 0, 0, 2, 1, 0, 0, 2], device='cuda:0')\n",
            "train labels: tensor([2, 0, 0, 2, 1, 0, 0, 0], device='cuda:0')\n"
          ]
        },
        {
          "output_type": "stream",
          "name": "stderr",
          "text": [
            "\r 62%|██████▏   | 39/63 [00:28<00:17,  1.36it/s]"
          ]
        },
        {
          "output_type": "stream",
          "name": "stdout",
          "text": [
            "training logits: tensor([[0.9764, 0.0151, 0.0085],\n",
            "        [0.9393, 0.0398, 0.0209],\n",
            "        [0.0444, 0.9084, 0.0472],\n",
            "        [0.9849, 0.0102, 0.0049],\n",
            "        [0.0284, 0.8410, 0.1306],\n",
            "        [0.0617, 0.0923, 0.8460],\n",
            "        [0.1059, 0.1691, 0.7250],\n",
            "        [0.9828, 0.0085, 0.0086]], device='cuda:0', grad_fn=<SoftmaxBackward0>)\n",
            "training outputs\n",
            "tensor([[0.9764, 0.0151, 0.0085],\n",
            "        [0.9393, 0.0398, 0.0209],\n",
            "        [0.0444, 0.9084, 0.0472],\n",
            "        [0.9849, 0.0102, 0.0049],\n",
            "        [0.0284, 0.8410, 0.1306],\n",
            "        [0.0617, 0.0923, 0.8460],\n",
            "        [0.1059, 0.1691, 0.7250],\n",
            "        [0.9828, 0.0085, 0.0086]], device='cuda:0', grad_fn=<SoftmaxBackward0>)\n",
            "prediction: tensor([0, 0, 1, 0, 1, 2, 2, 0], device='cuda:0')\n",
            "train labels: tensor([0, 0, 1, 0, 2, 2, 2, 0], device='cuda:0')\n"
          ]
        },
        {
          "output_type": "stream",
          "name": "stderr",
          "text": [
            "\r 63%|██████▎   | 40/63 [00:28<00:16,  1.36it/s]"
          ]
        },
        {
          "output_type": "stream",
          "name": "stdout",
          "text": [
            "training logits: tensor([[0.0266, 0.9339, 0.0395],\n",
            "        [0.8254, 0.0444, 0.1302],\n",
            "        [0.0263, 0.9298, 0.0439],\n",
            "        [0.0865, 0.8683, 0.0452],\n",
            "        [0.0195, 0.8364, 0.1441],\n",
            "        [0.2216, 0.0751, 0.7032],\n",
            "        [0.6258, 0.1490, 0.2252],\n",
            "        [0.9313, 0.0186, 0.0501]], device='cuda:0', grad_fn=<SoftmaxBackward0>)\n",
            "training outputs\n",
            "tensor([[0.0266, 0.9339, 0.0395],\n",
            "        [0.8254, 0.0444, 0.1302],\n",
            "        [0.0263, 0.9298, 0.0439],\n",
            "        [0.0865, 0.8683, 0.0452],\n",
            "        [0.0195, 0.8364, 0.1441],\n",
            "        [0.2216, 0.0751, 0.7032],\n",
            "        [0.6258, 0.1490, 0.2252],\n",
            "        [0.9313, 0.0186, 0.0501]], device='cuda:0', grad_fn=<SoftmaxBackward0>)\n",
            "prediction: tensor([1, 0, 1, 1, 1, 2, 0, 0], device='cuda:0')\n",
            "train labels: tensor([2, 0, 1, 1, 2, 2, 2, 0], device='cuda:0')\n"
          ]
        },
        {
          "output_type": "stream",
          "name": "stderr",
          "text": [
            "\r 65%|██████▌   | 41/63 [00:29<00:16,  1.35it/s]"
          ]
        },
        {
          "output_type": "stream",
          "name": "stdout",
          "text": [
            "training logits: tensor([[0.9863, 0.0087, 0.0050],\n",
            "        [0.0615, 0.1566, 0.7819],\n",
            "        [0.0696, 0.1039, 0.8265],\n",
            "        [0.0987, 0.5226, 0.3787],\n",
            "        [0.9739, 0.0132, 0.0129],\n",
            "        [0.0487, 0.1737, 0.7777],\n",
            "        [0.9746, 0.0124, 0.0130],\n",
            "        [0.0636, 0.1792, 0.7572]], device='cuda:0', grad_fn=<SoftmaxBackward0>)\n",
            "training outputs\n",
            "tensor([[0.9863, 0.0087, 0.0050],\n",
            "        [0.0615, 0.1566, 0.7819],\n",
            "        [0.0696, 0.1039, 0.8265],\n",
            "        [0.0987, 0.5226, 0.3787],\n",
            "        [0.9739, 0.0132, 0.0129],\n",
            "        [0.0487, 0.1737, 0.7777],\n",
            "        [0.9746, 0.0124, 0.0130],\n",
            "        [0.0636, 0.1792, 0.7572]], device='cuda:0', grad_fn=<SoftmaxBackward0>)\n",
            "prediction: tensor([0, 2, 2, 1, 0, 2, 0, 2], device='cuda:0')\n",
            "train labels: tensor([0, 2, 2, 1, 0, 2, 0, 2], device='cuda:0')\n"
          ]
        },
        {
          "output_type": "stream",
          "name": "stderr",
          "text": [
            "\r 67%|██████▋   | 42/63 [00:30<00:15,  1.35it/s]"
          ]
        },
        {
          "output_type": "stream",
          "name": "stdout",
          "text": [
            "training logits: tensor([[0.9046, 0.0483, 0.0471],\n",
            "        [0.1003, 0.1650, 0.7347],\n",
            "        [0.0477, 0.0511, 0.9012],\n",
            "        [0.9309, 0.0182, 0.0509],\n",
            "        [0.8932, 0.0289, 0.0779],\n",
            "        [0.9591, 0.0245, 0.0165],\n",
            "        [0.1349, 0.1597, 0.7055],\n",
            "        [0.0601, 0.1461, 0.7938]], device='cuda:0', grad_fn=<SoftmaxBackward0>)\n",
            "training outputs\n",
            "tensor([[0.9046, 0.0483, 0.0471],\n",
            "        [0.1003, 0.1650, 0.7347],\n",
            "        [0.0477, 0.0511, 0.9012],\n",
            "        [0.9309, 0.0182, 0.0509],\n",
            "        [0.8932, 0.0289, 0.0779],\n",
            "        [0.9591, 0.0245, 0.0165],\n",
            "        [0.1349, 0.1597, 0.7055],\n",
            "        [0.0601, 0.1461, 0.7938]], device='cuda:0', grad_fn=<SoftmaxBackward0>)\n",
            "prediction: tensor([0, 2, 2, 0, 0, 0, 2, 2], device='cuda:0')\n",
            "train labels: tensor([2, 1, 2, 0, 2, 0, 2, 2], device='cuda:0')\n"
          ]
        },
        {
          "output_type": "stream",
          "name": "stderr",
          "text": [
            "\r 68%|██████▊   | 43/63 [00:31<00:14,  1.35it/s]"
          ]
        },
        {
          "output_type": "stream",
          "name": "stdout",
          "text": [
            "training logits: tensor([[0.0504, 0.2744, 0.6753],\n",
            "        [0.9702, 0.0097, 0.0201],\n",
            "        [0.0386, 0.2670, 0.6944],\n",
            "        [0.9631, 0.0182, 0.0188],\n",
            "        [0.0203, 0.8564, 0.1232],\n",
            "        [0.0547, 0.0643, 0.8811],\n",
            "        [0.7781, 0.0268, 0.1951],\n",
            "        [0.0356, 0.3256, 0.6388]], device='cuda:0', grad_fn=<SoftmaxBackward0>)\n",
            "training outputs\n",
            "tensor([[0.0504, 0.2744, 0.6753],\n",
            "        [0.9702, 0.0097, 0.0201],\n",
            "        [0.0386, 0.2670, 0.6944],\n",
            "        [0.9631, 0.0182, 0.0188],\n",
            "        [0.0203, 0.8564, 0.1232],\n",
            "        [0.0547, 0.0643, 0.8811],\n",
            "        [0.7781, 0.0268, 0.1951],\n",
            "        [0.0356, 0.3256, 0.6388]], device='cuda:0', grad_fn=<SoftmaxBackward0>)\n",
            "prediction: tensor([2, 0, 2, 0, 1, 2, 0, 2], device='cuda:0')\n",
            "train labels: tensor([2, 0, 2, 0, 1, 0, 2, 2], device='cuda:0')\n"
          ]
        },
        {
          "output_type": "stream",
          "name": "stderr",
          "text": [
            "\r 70%|██████▉   | 44/63 [00:31<00:14,  1.35it/s]"
          ]
        },
        {
          "output_type": "stream",
          "name": "stdout",
          "text": [
            "training logits: tensor([[0.9795, 0.0064, 0.0141],\n",
            "        [0.9625, 0.0134, 0.0241],\n",
            "        [0.0912, 0.1932, 0.7156],\n",
            "        [0.9731, 0.0221, 0.0049],\n",
            "        [0.0108, 0.9563, 0.0329],\n",
            "        [0.9880, 0.0051, 0.0069],\n",
            "        [0.0087, 0.9529, 0.0385],\n",
            "        [0.0226, 0.0143, 0.9631]], device='cuda:0', grad_fn=<SoftmaxBackward0>)\n",
            "training outputs\n",
            "tensor([[0.9795, 0.0064, 0.0141],\n",
            "        [0.9625, 0.0134, 0.0241],\n",
            "        [0.0912, 0.1932, 0.7156],\n",
            "        [0.9731, 0.0221, 0.0049],\n",
            "        [0.0108, 0.9563, 0.0329],\n",
            "        [0.9880, 0.0051, 0.0069],\n",
            "        [0.0087, 0.9529, 0.0385],\n",
            "        [0.0226, 0.0143, 0.9631]], device='cuda:0', grad_fn=<SoftmaxBackward0>)\n",
            "prediction: tensor([0, 0, 2, 0, 1, 0, 1, 2], device='cuda:0')\n",
            "train labels: tensor([0, 2, 2, 0, 1, 0, 1, 2], device='cuda:0')\n"
          ]
        },
        {
          "output_type": "stream",
          "name": "stderr",
          "text": [
            "\r 71%|███████▏  | 45/63 [00:32<00:13,  1.35it/s]"
          ]
        },
        {
          "output_type": "stream",
          "name": "stdout",
          "text": [
            "training logits: tensor([[0.0938, 0.0761, 0.8301],\n",
            "        [0.1762, 0.7881, 0.0358],\n",
            "        [0.0785, 0.0936, 0.8279],\n",
            "        [0.0159, 0.8557, 0.1284],\n",
            "        [0.9599, 0.0186, 0.0215],\n",
            "        [0.0814, 0.8417, 0.0769],\n",
            "        [0.9590, 0.0191, 0.0219],\n",
            "        [0.0671, 0.0819, 0.8510]], device='cuda:0', grad_fn=<SoftmaxBackward0>)\n",
            "training outputs\n",
            "tensor([[0.0938, 0.0761, 0.8301],\n",
            "        [0.1762, 0.7881, 0.0358],\n",
            "        [0.0785, 0.0936, 0.8279],\n",
            "        [0.0159, 0.8557, 0.1284],\n",
            "        [0.9599, 0.0186, 0.0215],\n",
            "        [0.0814, 0.8417, 0.0769],\n",
            "        [0.9590, 0.0191, 0.0219],\n",
            "        [0.0671, 0.0819, 0.8510]], device='cuda:0', grad_fn=<SoftmaxBackward0>)\n",
            "prediction: tensor([2, 1, 2, 1, 0, 1, 0, 2], device='cuda:0')\n",
            "train labels: tensor([1, 1, 2, 1, 0, 1, 0, 2], device='cuda:0')\n"
          ]
        },
        {
          "output_type": "stream",
          "name": "stderr",
          "text": [
            "\r 73%|███████▎  | 46/63 [00:33<00:12,  1.34it/s]"
          ]
        },
        {
          "output_type": "stream",
          "name": "stdout",
          "text": [
            "training logits: tensor([[0.9760, 0.0139, 0.0100],\n",
            "        [0.9848, 0.0101, 0.0051],\n",
            "        [0.0280, 0.1254, 0.8466],\n",
            "        [0.9261, 0.0466, 0.0273],\n",
            "        [0.0583, 0.3974, 0.5443],\n",
            "        [0.9482, 0.0389, 0.0129],\n",
            "        [0.0244, 0.0853, 0.8903],\n",
            "        [0.0728, 0.1291, 0.7981]], device='cuda:0', grad_fn=<SoftmaxBackward0>)\n",
            "training outputs\n",
            "tensor([[0.9760, 0.0139, 0.0100],\n",
            "        [0.9848, 0.0101, 0.0051],\n",
            "        [0.0280, 0.1254, 0.8466],\n",
            "        [0.9261, 0.0466, 0.0273],\n",
            "        [0.0583, 0.3974, 0.5443],\n",
            "        [0.9482, 0.0389, 0.0129],\n",
            "        [0.0244, 0.0853, 0.8903],\n",
            "        [0.0728, 0.1291, 0.7981]], device='cuda:0', grad_fn=<SoftmaxBackward0>)\n",
            "prediction: tensor([0, 0, 2, 0, 2, 0, 2, 2], device='cuda:0')\n",
            "train labels: tensor([0, 0, 2, 0, 0, 1, 1, 2], device='cuda:0')\n"
          ]
        },
        {
          "output_type": "stream",
          "name": "stderr",
          "text": [
            "\r 75%|███████▍  | 47/63 [00:34<00:11,  1.34it/s]"
          ]
        },
        {
          "output_type": "stream",
          "name": "stdout",
          "text": [
            "training logits: tensor([[0.0484, 0.1698, 0.7818],\n",
            "        [0.1173, 0.3396, 0.5432],\n",
            "        [0.0543, 0.6675, 0.2782],\n",
            "        [0.8904, 0.0122, 0.0974],\n",
            "        [0.0701, 0.7260, 0.2039],\n",
            "        [0.9732, 0.0148, 0.0120],\n",
            "        [0.0523, 0.0323, 0.9155],\n",
            "        [0.0105, 0.9242, 0.0654]], device='cuda:0', grad_fn=<SoftmaxBackward0>)\n",
            "training outputs\n",
            "tensor([[0.0484, 0.1698, 0.7818],\n",
            "        [0.1173, 0.3396, 0.5432],\n",
            "        [0.0543, 0.6675, 0.2782],\n",
            "        [0.8904, 0.0122, 0.0974],\n",
            "        [0.0701, 0.7260, 0.2039],\n",
            "        [0.9732, 0.0148, 0.0120],\n",
            "        [0.0523, 0.0323, 0.9155],\n",
            "        [0.0105, 0.9242, 0.0654]], device='cuda:0', grad_fn=<SoftmaxBackward0>)\n",
            "prediction: tensor([2, 2, 1, 0, 1, 0, 2, 1], device='cuda:0')\n",
            "train labels: tensor([2, 2, 2, 0, 1, 0, 2, 1], device='cuda:0')\n"
          ]
        },
        {
          "output_type": "stream",
          "name": "stderr",
          "text": [
            "\r 76%|███████▌  | 48/63 [00:34<00:11,  1.35it/s]"
          ]
        },
        {
          "output_type": "stream",
          "name": "stdout",
          "text": [
            "training logits: tensor([[0.0903, 0.0879, 0.8218],\n",
            "        [0.0687, 0.8985, 0.0328],\n",
            "        [0.0871, 0.8298, 0.0831],\n",
            "        [0.0942, 0.7605, 0.1453],\n",
            "        [0.1228, 0.1561, 0.7211],\n",
            "        [0.9181, 0.0191, 0.0629],\n",
            "        [0.0437, 0.0427, 0.9137],\n",
            "        [0.0131, 0.7527, 0.2342]], device='cuda:0', grad_fn=<SoftmaxBackward0>)\n",
            "training outputs\n",
            "tensor([[0.0903, 0.0879, 0.8218],\n",
            "        [0.0687, 0.8985, 0.0328],\n",
            "        [0.0871, 0.8298, 0.0831],\n",
            "        [0.0942, 0.7605, 0.1453],\n",
            "        [0.1228, 0.1561, 0.7211],\n",
            "        [0.9181, 0.0191, 0.0629],\n",
            "        [0.0437, 0.0427, 0.9137],\n",
            "        [0.0131, 0.7527, 0.2342]], device='cuda:0', grad_fn=<SoftmaxBackward0>)\n",
            "prediction: tensor([2, 1, 1, 1, 2, 0, 2, 1], device='cuda:0')\n",
            "train labels: tensor([2, 1, 2, 0, 2, 0, 2, 1], device='cuda:0')\n"
          ]
        },
        {
          "output_type": "stream",
          "name": "stderr",
          "text": [
            "\r 78%|███████▊  | 49/63 [00:35<00:10,  1.34it/s]"
          ]
        },
        {
          "output_type": "stream",
          "name": "stdout",
          "text": [
            "training logits: tensor([[0.0596, 0.1641, 0.7763],\n",
            "        [0.0633, 0.0359, 0.9008],\n",
            "        [0.9616, 0.0179, 0.0205],\n",
            "        [0.7304, 0.2277, 0.0419],\n",
            "        [0.0315, 0.0268, 0.9417],\n",
            "        [0.0853, 0.6198, 0.2949],\n",
            "        [0.0084, 0.9634, 0.0282],\n",
            "        [0.9706, 0.0225, 0.0069]], device='cuda:0', grad_fn=<SoftmaxBackward0>)\n",
            "training outputs\n",
            "tensor([[0.0596, 0.1641, 0.7763],\n",
            "        [0.0633, 0.0359, 0.9008],\n",
            "        [0.9616, 0.0179, 0.0205],\n",
            "        [0.7304, 0.2277, 0.0419],\n",
            "        [0.0315, 0.0268, 0.9417],\n",
            "        [0.0853, 0.6198, 0.2949],\n",
            "        [0.0084, 0.9634, 0.0282],\n",
            "        [0.9706, 0.0225, 0.0069]], device='cuda:0', grad_fn=<SoftmaxBackward0>)\n",
            "prediction: tensor([2, 2, 0, 0, 2, 1, 1, 0], device='cuda:0')\n",
            "train labels: tensor([0, 2, 2, 1, 2, 2, 1, 0], device='cuda:0')\n"
          ]
        },
        {
          "output_type": "stream",
          "name": "stderr",
          "text": [
            "\r 79%|███████▉  | 50/63 [00:36<00:09,  1.34it/s]"
          ]
        },
        {
          "output_type": "stream",
          "name": "stdout",
          "text": [
            "training logits: tensor([[0.1229, 0.1556, 0.7215],\n",
            "        [0.9811, 0.0055, 0.0134],\n",
            "        [0.1299, 0.2181, 0.6521],\n",
            "        [0.3069, 0.2739, 0.4192],\n",
            "        [0.0298, 0.9235, 0.0467],\n",
            "        [0.7326, 0.1020, 0.1654],\n",
            "        [0.0765, 0.0677, 0.8558],\n",
            "        [0.1274, 0.8256, 0.0470]], device='cuda:0', grad_fn=<SoftmaxBackward0>)\n",
            "training outputs\n",
            "tensor([[0.1229, 0.1556, 0.7215],\n",
            "        [0.9811, 0.0055, 0.0134],\n",
            "        [0.1299, 0.2181, 0.6521],\n",
            "        [0.3069, 0.2739, 0.4192],\n",
            "        [0.0298, 0.9235, 0.0467],\n",
            "        [0.7326, 0.1020, 0.1654],\n",
            "        [0.0765, 0.0677, 0.8558],\n",
            "        [0.1274, 0.8256, 0.0470]], device='cuda:0', grad_fn=<SoftmaxBackward0>)\n",
            "prediction: tensor([2, 0, 2, 2, 1, 0, 2, 1], device='cuda:0')\n",
            "train labels: tensor([2, 0, 2, 2, 1, 0, 0, 1], device='cuda:0')\n"
          ]
        },
        {
          "output_type": "stream",
          "name": "stderr",
          "text": [
            "\r 81%|████████  | 51/63 [00:37<00:08,  1.34it/s]"
          ]
        },
        {
          "output_type": "stream",
          "name": "stdout",
          "text": [
            "training logits: tensor([[0.1664, 0.0799, 0.7537],\n",
            "        [0.1017, 0.3890, 0.5094],\n",
            "        [0.9721, 0.0107, 0.0172],\n",
            "        [0.0442, 0.2819, 0.6739],\n",
            "        [0.0743, 0.7025, 0.2231],\n",
            "        [0.0515, 0.9278, 0.0207],\n",
            "        [0.0716, 0.1859, 0.7425],\n",
            "        [0.1414, 0.0539, 0.8047]], device='cuda:0', grad_fn=<SoftmaxBackward0>)\n",
            "training outputs\n",
            "tensor([[0.1664, 0.0799, 0.7537],\n",
            "        [0.1017, 0.3890, 0.5094],\n",
            "        [0.9721, 0.0107, 0.0172],\n",
            "        [0.0442, 0.2819, 0.6739],\n",
            "        [0.0743, 0.7025, 0.2231],\n",
            "        [0.0515, 0.9278, 0.0207],\n",
            "        [0.0716, 0.1859, 0.7425],\n",
            "        [0.1414, 0.0539, 0.8047]], device='cuda:0', grad_fn=<SoftmaxBackward0>)\n",
            "prediction: tensor([2, 2, 0, 2, 1, 1, 2, 2], device='cuda:0')\n",
            "train labels: tensor([2, 1, 0, 1, 0, 1, 2, 1], device='cuda:0')\n"
          ]
        },
        {
          "output_type": "stream",
          "name": "stderr",
          "text": [
            "\r 83%|████████▎ | 52/63 [00:37<00:08,  1.34it/s]"
          ]
        },
        {
          "output_type": "stream",
          "name": "stdout",
          "text": [
            "training logits: tensor([[0.1116, 0.1345, 0.7539],\n",
            "        [0.4438, 0.0291, 0.5271],\n",
            "        [0.9702, 0.0060, 0.0238],\n",
            "        [0.0251, 0.0881, 0.8868],\n",
            "        [0.0106, 0.9284, 0.0610],\n",
            "        [0.0086, 0.9824, 0.0090],\n",
            "        [0.0297, 0.1482, 0.8221],\n",
            "        [0.3269, 0.4778, 0.1952]], device='cuda:0', grad_fn=<SoftmaxBackward0>)\n",
            "training outputs\n",
            "tensor([[0.1116, 0.1345, 0.7539],\n",
            "        [0.4438, 0.0291, 0.5271],\n",
            "        [0.9702, 0.0060, 0.0238],\n",
            "        [0.0251, 0.0881, 0.8868],\n",
            "        [0.0106, 0.9284, 0.0610],\n",
            "        [0.0086, 0.9824, 0.0090],\n",
            "        [0.0297, 0.1482, 0.8221],\n",
            "        [0.3269, 0.4778, 0.1952]], device='cuda:0', grad_fn=<SoftmaxBackward0>)\n",
            "prediction: tensor([2, 2, 0, 2, 1, 1, 2, 1], device='cuda:0')\n",
            "train labels: tensor([2, 0, 2, 2, 1, 1, 1, 1], device='cuda:0')\n"
          ]
        },
        {
          "output_type": "stream",
          "name": "stderr",
          "text": [
            "\r 84%|████████▍ | 53/63 [00:38<00:07,  1.34it/s]"
          ]
        },
        {
          "output_type": "stream",
          "name": "stdout",
          "text": [
            "training logits: tensor([[0.1159, 0.0426, 0.8415],\n",
            "        [0.0850, 0.8203, 0.0947],\n",
            "        [0.0120, 0.9612, 0.0268],\n",
            "        [0.1335, 0.1968, 0.6697],\n",
            "        [0.7934, 0.0724, 0.1342],\n",
            "        [0.9329, 0.0464, 0.0207],\n",
            "        [0.0771, 0.8821, 0.0408],\n",
            "        [0.9827, 0.0083, 0.0090]], device='cuda:0', grad_fn=<SoftmaxBackward0>)\n",
            "training outputs\n",
            "tensor([[0.1159, 0.0426, 0.8415],\n",
            "        [0.0850, 0.8203, 0.0947],\n",
            "        [0.0120, 0.9612, 0.0268],\n",
            "        [0.1335, 0.1968, 0.6697],\n",
            "        [0.7934, 0.0724, 0.1342],\n",
            "        [0.9329, 0.0464, 0.0207],\n",
            "        [0.0771, 0.8821, 0.0408],\n",
            "        [0.9827, 0.0083, 0.0090]], device='cuda:0', grad_fn=<SoftmaxBackward0>)\n",
            "prediction: tensor([2, 1, 1, 2, 0, 0, 1, 0], device='cuda:0')\n",
            "train labels: tensor([2, 1, 1, 0, 0, 0, 1, 0], device='cuda:0')\n"
          ]
        },
        {
          "output_type": "stream",
          "name": "stderr",
          "text": [
            "\r 86%|████████▌ | 54/63 [00:39<00:06,  1.34it/s]"
          ]
        },
        {
          "output_type": "stream",
          "name": "stdout",
          "text": [
            "training logits: tensor([[0.0814, 0.2144, 0.7041],\n",
            "        [0.9804, 0.0079, 0.0117],\n",
            "        [0.0506, 0.0342, 0.9152],\n",
            "        [0.0515, 0.9101, 0.0384],\n",
            "        [0.0153, 0.9440, 0.0407],\n",
            "        [0.2238, 0.7200, 0.0562],\n",
            "        [0.7175, 0.2484, 0.0341],\n",
            "        [0.9722, 0.0197, 0.0081]], device='cuda:0', grad_fn=<SoftmaxBackward0>)\n",
            "training outputs\n",
            "tensor([[0.0814, 0.2144, 0.7041],\n",
            "        [0.9804, 0.0079, 0.0117],\n",
            "        [0.0506, 0.0342, 0.9152],\n",
            "        [0.0515, 0.9101, 0.0384],\n",
            "        [0.0153, 0.9440, 0.0407],\n",
            "        [0.2238, 0.7200, 0.0562],\n",
            "        [0.7175, 0.2484, 0.0341],\n",
            "        [0.9722, 0.0197, 0.0081]], device='cuda:0', grad_fn=<SoftmaxBackward0>)\n",
            "prediction: tensor([2, 0, 2, 1, 1, 1, 0, 0], device='cuda:0')\n",
            "train labels: tensor([2, 0, 2, 0, 1, 1, 0, 0], device='cuda:0')\n"
          ]
        },
        {
          "output_type": "stream",
          "name": "stderr",
          "text": [
            "\r 87%|████████▋ | 55/63 [00:40<00:05,  1.35it/s]"
          ]
        },
        {
          "output_type": "stream",
          "name": "stdout",
          "text": [
            "training logits: tensor([[0.1473, 0.7886, 0.0641],\n",
            "        [0.0158, 0.9542, 0.0300],\n",
            "        [0.9095, 0.0337, 0.0568],\n",
            "        [0.9608, 0.0189, 0.0203],\n",
            "        [0.9727, 0.0134, 0.0139],\n",
            "        [0.8296, 0.0322, 0.1382],\n",
            "        [0.9810, 0.0108, 0.0083],\n",
            "        [0.9706, 0.0131, 0.0163]], device='cuda:0', grad_fn=<SoftmaxBackward0>)\n",
            "training outputs\n",
            "tensor([[0.1473, 0.7886, 0.0641],\n",
            "        [0.0158, 0.9542, 0.0300],\n",
            "        [0.9095, 0.0337, 0.0568],\n",
            "        [0.9608, 0.0189, 0.0203],\n",
            "        [0.9727, 0.0134, 0.0139],\n",
            "        [0.8296, 0.0322, 0.1382],\n",
            "        [0.9810, 0.0108, 0.0083],\n",
            "        [0.9706, 0.0131, 0.0163]], device='cuda:0', grad_fn=<SoftmaxBackward0>)\n",
            "prediction: tensor([1, 1, 0, 0, 0, 0, 0, 0], device='cuda:0')\n",
            "train labels: tensor([0, 1, 0, 0, 0, 0, 0, 0], device='cuda:0')\n"
          ]
        },
        {
          "output_type": "stream",
          "name": "stderr",
          "text": [
            "\r 89%|████████▉ | 56/63 [00:40<00:05,  1.34it/s]"
          ]
        },
        {
          "output_type": "stream",
          "name": "stdout",
          "text": [
            "training logits: tensor([[0.0048, 0.9684, 0.0268],\n",
            "        [0.0634, 0.1749, 0.7618],\n",
            "        [0.0358, 0.0717, 0.8924],\n",
            "        [0.2974, 0.5954, 0.1072],\n",
            "        [0.0109, 0.9579, 0.0312],\n",
            "        [0.5959, 0.3759, 0.0282],\n",
            "        [0.9887, 0.0062, 0.0051],\n",
            "        [0.5617, 0.3360, 0.1023]], device='cuda:0', grad_fn=<SoftmaxBackward0>)\n",
            "training outputs\n",
            "tensor([[0.0048, 0.9684, 0.0268],\n",
            "        [0.0634, 0.1749, 0.7618],\n",
            "        [0.0358, 0.0717, 0.8924],\n",
            "        [0.2974, 0.5954, 0.1072],\n",
            "        [0.0109, 0.9579, 0.0312],\n",
            "        [0.5959, 0.3759, 0.0282],\n",
            "        [0.9887, 0.0062, 0.0051],\n",
            "        [0.5617, 0.3360, 0.1023]], device='cuda:0', grad_fn=<SoftmaxBackward0>)\n",
            "prediction: tensor([1, 2, 2, 1, 1, 0, 0, 0], device='cuda:0')\n",
            "train labels: tensor([1, 2, 2, 0, 1, 0, 0, 0], device='cuda:0')\n"
          ]
        },
        {
          "output_type": "stream",
          "name": "stderr",
          "text": [
            "\r 90%|█████████ | 57/63 [00:41<00:04,  1.35it/s]"
          ]
        },
        {
          "output_type": "stream",
          "name": "stdout",
          "text": [
            "training logits: tensor([[0.0493, 0.1072, 0.8435],\n",
            "        [0.9841, 0.0071, 0.0088],\n",
            "        [0.9789, 0.0130, 0.0081],\n",
            "        [0.9246, 0.0130, 0.0624],\n",
            "        [0.9713, 0.0119, 0.0168],\n",
            "        [0.0913, 0.0752, 0.8335],\n",
            "        [0.9636, 0.0259, 0.0105],\n",
            "        [0.9606, 0.0185, 0.0209]], device='cuda:0', grad_fn=<SoftmaxBackward0>)\n",
            "training outputs\n",
            "tensor([[0.0493, 0.1072, 0.8435],\n",
            "        [0.9841, 0.0071, 0.0088],\n",
            "        [0.9789, 0.0130, 0.0081],\n",
            "        [0.9246, 0.0130, 0.0624],\n",
            "        [0.9713, 0.0119, 0.0168],\n",
            "        [0.0913, 0.0752, 0.8335],\n",
            "        [0.9636, 0.0259, 0.0105],\n",
            "        [0.9606, 0.0185, 0.0209]], device='cuda:0', grad_fn=<SoftmaxBackward0>)\n",
            "prediction: tensor([2, 0, 0, 0, 0, 2, 0, 0], device='cuda:0')\n",
            "train labels: tensor([2, 0, 0, 0, 0, 2, 1, 2], device='cuda:0')\n"
          ]
        },
        {
          "output_type": "stream",
          "name": "stderr",
          "text": [
            "\r 92%|█████████▏| 58/63 [00:42<00:03,  1.35it/s]"
          ]
        },
        {
          "output_type": "stream",
          "name": "stdout",
          "text": [
            "training logits: tensor([[0.9841, 0.0050, 0.0110],\n",
            "        [0.0777, 0.8898, 0.0324],\n",
            "        [0.0624, 0.2519, 0.6857],\n",
            "        [0.1025, 0.8712, 0.0263],\n",
            "        [0.1452, 0.7778, 0.0769],\n",
            "        [0.9662, 0.0184, 0.0153],\n",
            "        [0.1612, 0.3442, 0.4946],\n",
            "        [0.9869, 0.0049, 0.0082]], device='cuda:0', grad_fn=<SoftmaxBackward0>)\n",
            "training outputs\n",
            "tensor([[0.9841, 0.0050, 0.0110],\n",
            "        [0.0777, 0.8898, 0.0324],\n",
            "        [0.0624, 0.2519, 0.6857],\n",
            "        [0.1025, 0.8712, 0.0263],\n",
            "        [0.1452, 0.7778, 0.0769],\n",
            "        [0.9662, 0.0184, 0.0153],\n",
            "        [0.1612, 0.3442, 0.4946],\n",
            "        [0.9869, 0.0049, 0.0082]], device='cuda:0', grad_fn=<SoftmaxBackward0>)\n",
            "prediction: tensor([0, 1, 2, 1, 1, 0, 2, 0], device='cuda:0')\n",
            "train labels: tensor([0, 1, 2, 1, 1, 0, 1, 0], device='cuda:0')\n"
          ]
        },
        {
          "output_type": "stream",
          "name": "stderr",
          "text": [
            "\r 94%|█████████▎| 59/63 [00:43<00:02,  1.35it/s]"
          ]
        },
        {
          "output_type": "stream",
          "name": "stdout",
          "text": [
            "training logits: tensor([[0.9768, 0.0156, 0.0077],\n",
            "        [0.1468, 0.8316, 0.0216],\n",
            "        [0.9857, 0.0068, 0.0075],\n",
            "        [0.2099, 0.2258, 0.5643],\n",
            "        [0.0753, 0.1657, 0.7590],\n",
            "        [0.0107, 0.9719, 0.0174],\n",
            "        [0.0108, 0.9580, 0.0312],\n",
            "        [0.0091, 0.9532, 0.0377]], device='cuda:0', grad_fn=<SoftmaxBackward0>)\n",
            "training outputs\n",
            "tensor([[0.9768, 0.0156, 0.0077],\n",
            "        [0.1468, 0.8316, 0.0216],\n",
            "        [0.9857, 0.0068, 0.0075],\n",
            "        [0.2099, 0.2258, 0.5643],\n",
            "        [0.0753, 0.1657, 0.7590],\n",
            "        [0.0107, 0.9719, 0.0174],\n",
            "        [0.0108, 0.9580, 0.0312],\n",
            "        [0.0091, 0.9532, 0.0377]], device='cuda:0', grad_fn=<SoftmaxBackward0>)\n",
            "prediction: tensor([0, 1, 0, 2, 2, 1, 1, 1], device='cuda:0')\n",
            "train labels: tensor([0, 1, 2, 0, 2, 1, 1, 1], device='cuda:0')\n"
          ]
        },
        {
          "output_type": "stream",
          "name": "stderr",
          "text": [
            "\r 95%|█████████▌| 60/63 [00:43<00:02,  1.36it/s]"
          ]
        },
        {
          "output_type": "stream",
          "name": "stdout",
          "text": [
            "training logits: tensor([[0.0114, 0.7518, 0.2368],\n",
            "        [0.9406, 0.0490, 0.0105],\n",
            "        [0.9785, 0.0101, 0.0115],\n",
            "        [0.9841, 0.0074, 0.0085],\n",
            "        [0.0642, 0.8848, 0.0510],\n",
            "        [0.0627, 0.8471, 0.0902],\n",
            "        [0.9864, 0.0060, 0.0075],\n",
            "        [0.9773, 0.0133, 0.0095]], device='cuda:0', grad_fn=<SoftmaxBackward0>)\n",
            "training outputs\n",
            "tensor([[0.0114, 0.7518, 0.2368],\n",
            "        [0.9406, 0.0490, 0.0105],\n",
            "        [0.9785, 0.0101, 0.0115],\n",
            "        [0.9841, 0.0074, 0.0085],\n",
            "        [0.0642, 0.8848, 0.0510],\n",
            "        [0.0627, 0.8471, 0.0902],\n",
            "        [0.9864, 0.0060, 0.0075],\n",
            "        [0.9773, 0.0133, 0.0095]], device='cuda:0', grad_fn=<SoftmaxBackward0>)\n",
            "prediction: tensor([1, 0, 0, 0, 1, 1, 0, 0], device='cuda:0')\n",
            "train labels: tensor([2, 1, 0, 0, 1, 1, 0, 0], device='cuda:0')\n"
          ]
        },
        {
          "output_type": "stream",
          "name": "stderr",
          "text": [
            "\r 97%|█████████▋| 61/63 [00:44<00:01,  1.37it/s]"
          ]
        },
        {
          "output_type": "stream",
          "name": "stdout",
          "text": [
            "training logits: tensor([[0.8604, 0.0338, 0.1058],\n",
            "        [0.3591, 0.5878, 0.0531],\n",
            "        [0.0833, 0.1625, 0.7542],\n",
            "        [0.9904, 0.0044, 0.0051],\n",
            "        [0.9871, 0.0066, 0.0064],\n",
            "        [0.6563, 0.2825, 0.0612],\n",
            "        [0.0922, 0.1187, 0.7891],\n",
            "        [0.9569, 0.0252, 0.0179]], device='cuda:0', grad_fn=<SoftmaxBackward0>)\n",
            "training outputs\n",
            "tensor([[0.8604, 0.0338, 0.1058],\n",
            "        [0.3591, 0.5878, 0.0531],\n",
            "        [0.0833, 0.1625, 0.7542],\n",
            "        [0.9904, 0.0044, 0.0051],\n",
            "        [0.9871, 0.0066, 0.0064],\n",
            "        [0.6563, 0.2825, 0.0612],\n",
            "        [0.0922, 0.1187, 0.7891],\n",
            "        [0.9569, 0.0252, 0.0179]], device='cuda:0', grad_fn=<SoftmaxBackward0>)\n",
            "prediction: tensor([0, 1, 2, 0, 0, 0, 2, 0], device='cuda:0')\n",
            "train labels: tensor([0, 1, 0, 0, 0, 0, 2, 0], device='cuda:0')\n"
          ]
        },
        {
          "output_type": "stream",
          "name": "stderr",
          "text": [
            "\r 98%|█████████▊| 62/63 [00:45<00:00,  1.37it/s]"
          ]
        },
        {
          "output_type": "stream",
          "name": "stdout",
          "text": [
            "training logits: tensor([[0.9793, 0.0152, 0.0055],\n",
            "        [0.9677, 0.0134, 0.0189],\n",
            "        [0.0282, 0.9437, 0.0281],\n",
            "        [0.9855, 0.0096, 0.0049]], device='cuda:0', grad_fn=<SoftmaxBackward0>)\n",
            "training outputs\n",
            "tensor([[0.9793, 0.0152, 0.0055],\n",
            "        [0.9677, 0.0134, 0.0189],\n",
            "        [0.0282, 0.9437, 0.0281],\n",
            "        [0.9855, 0.0096, 0.0049]], device='cuda:0', grad_fn=<SoftmaxBackward0>)\n",
            "prediction: tensor([0, 0, 1, 0], device='cuda:0')\n",
            "train labels: tensor([0, 2, 1, 0], device='cuda:0')\n"
          ]
        },
        {
          "output_type": "stream",
          "name": "stderr",
          "text": [
            "100%|██████████| 63/63 [00:45<00:00,  1.38it/s]\n"
          ]
        },
        {
          "output_type": "stream",
          "name": "stdout",
          "text": [
            "tensor([2, 1, 0, 2, 0, 1, 1, 0], device='cuda:0')\n",
            "validating logits: tensor([[0.0381, 0.0311, 0.9307],\n",
            "        [0.0154, 0.9496, 0.0350],\n",
            "        [0.9932, 0.0044, 0.0023],\n",
            "        [0.9146, 0.0553, 0.0301],\n",
            "        [0.9803, 0.0081, 0.0116],\n",
            "        [0.2809, 0.6506, 0.0685],\n",
            "        [0.1758, 0.7732, 0.0511],\n",
            "        [0.9788, 0.0128, 0.0084]], device='cuda:0')\n",
            "prediction: tensor([2, 1, 0, 0, 0, 1, 1, 0], device='cuda:0')\n",
            "tensor([[0.0381, 0.0311, 0.9307],\n",
            "        [0.0154, 0.9496, 0.0350],\n",
            "        [0.9932, 0.0044, 0.0023],\n",
            "        [0.9146, 0.0553, 0.0301],\n",
            "        [0.9803, 0.0081, 0.0116],\n",
            "        [0.2809, 0.6506, 0.0685],\n",
            "        [0.1758, 0.7732, 0.0511],\n",
            "        [0.9788, 0.0128, 0.0084]], device='cuda:0')\n",
            "tensor([2, 2, 1, 2, 2, 1, 0, 2], device='cuda:0')\n",
            "validating logits: tensor([[0.0136, 0.0150, 0.9714],\n",
            "        [0.0368, 0.0654, 0.8978],\n",
            "        [0.0146, 0.9674, 0.0180],\n",
            "        [0.9591, 0.0088, 0.0321],\n",
            "        [0.0528, 0.0840, 0.8632],\n",
            "        [0.0297, 0.9541, 0.0162],\n",
            "        [0.9763, 0.0122, 0.0115],\n",
            "        [0.1015, 0.0774, 0.8212]], device='cuda:0')\n",
            "prediction: tensor([2, 2, 1, 0, 2, 1, 0, 2], device='cuda:0')\n",
            "tensor([[0.0136, 0.0150, 0.9714],\n",
            "        [0.0368, 0.0654, 0.8978],\n",
            "        [0.0146, 0.9674, 0.0180],\n",
            "        [0.9591, 0.0088, 0.0321],\n",
            "        [0.0528, 0.0840, 0.8632],\n",
            "        [0.0297, 0.9541, 0.0162],\n",
            "        [0.9763, 0.0122, 0.0115],\n",
            "        [0.1015, 0.0774, 0.8212]], device='cuda:0')\n",
            "tensor([1, 0, 0, 1, 2, 2, 1, 0], device='cuda:0')\n",
            "validating logits: tensor([[0.0384, 0.9075, 0.0541],\n",
            "        [0.9707, 0.0169, 0.0124],\n",
            "        [0.9802, 0.0136, 0.0062],\n",
            "        [0.0172, 0.9508, 0.0320],\n",
            "        [0.8602, 0.0200, 0.1198],\n",
            "        [0.9446, 0.0116, 0.0438],\n",
            "        [0.0165, 0.9548, 0.0287],\n",
            "        [0.9836, 0.0072, 0.0092]], device='cuda:0')\n",
            "prediction: tensor([1, 0, 0, 1, 0, 0, 1, 0], device='cuda:0')\n",
            "tensor([[0.0384, 0.9075, 0.0541],\n",
            "        [0.9707, 0.0169, 0.0124],\n",
            "        [0.9802, 0.0136, 0.0062],\n",
            "        [0.0172, 0.9508, 0.0320],\n",
            "        [0.8602, 0.0200, 0.1198],\n",
            "        [0.9446, 0.0116, 0.0438],\n",
            "        [0.0165, 0.9548, 0.0287],\n",
            "        [0.9836, 0.0072, 0.0092]], device='cuda:0')\n",
            "tensor([1, 0, 2, 2, 1, 0, 2, 0], device='cuda:0')\n",
            "validating logits: tensor([[0.0108, 0.9776, 0.0116],\n",
            "        [0.9814, 0.0126, 0.0060],\n",
            "        [0.0812, 0.0626, 0.8563],\n",
            "        [0.0966, 0.3103, 0.5931],\n",
            "        [0.1906, 0.7246, 0.0848],\n",
            "        [0.9945, 0.0034, 0.0021],\n",
            "        [0.2438, 0.0857, 0.6705],\n",
            "        [0.9773, 0.0102, 0.0125]], device='cuda:0')\n",
            "prediction: tensor([1, 0, 2, 2, 1, 0, 2, 0], device='cuda:0')\n",
            "tensor([[0.0108, 0.9776, 0.0116],\n",
            "        [0.9814, 0.0126, 0.0060],\n",
            "        [0.0812, 0.0626, 0.8563],\n",
            "        [0.0966, 0.3103, 0.5931],\n",
            "        [0.1906, 0.7246, 0.0848],\n",
            "        [0.9945, 0.0034, 0.0021],\n",
            "        [0.2438, 0.0857, 0.6705],\n",
            "        [0.9773, 0.0102, 0.0125]], device='cuda:0')\n",
            "tensor([1, 1, 2, 0, 1, 0, 2, 2], device='cuda:0')\n",
            "validating logits: tensor([[0.0442, 0.9350, 0.0207],\n",
            "        [0.0250, 0.8877, 0.0873],\n",
            "        [0.9801, 0.0144, 0.0056],\n",
            "        [0.9765, 0.0117, 0.0118],\n",
            "        [0.0186, 0.9148, 0.0665],\n",
            "        [0.9899, 0.0038, 0.0063],\n",
            "        [0.1693, 0.2295, 0.6012],\n",
            "        [0.0777, 0.0895, 0.8328]], device='cuda:0')\n",
            "prediction: tensor([1, 1, 0, 0, 1, 0, 2, 2], device='cuda:0')\n",
            "tensor([[0.0442, 0.9350, 0.0207],\n",
            "        [0.0250, 0.8877, 0.0873],\n",
            "        [0.9801, 0.0144, 0.0056],\n",
            "        [0.9765, 0.0117, 0.0118],\n",
            "        [0.0186, 0.9148, 0.0665],\n",
            "        [0.9899, 0.0038, 0.0063],\n",
            "        [0.1693, 0.2295, 0.6012],\n",
            "        [0.0777, 0.0895, 0.8328]], device='cuda:0')\n",
            "tensor([0, 1, 2, 0, 0, 0, 2, 1], device='cuda:0')\n",
            "validating logits: tensor([[0.9875, 0.0070, 0.0056],\n",
            "        [0.0088, 0.9800, 0.0113],\n",
            "        [0.1118, 0.0616, 0.8266],\n",
            "        [0.9744, 0.0184, 0.0071],\n",
            "        [0.9740, 0.0148, 0.0112],\n",
            "        [0.9771, 0.0109, 0.0121],\n",
            "        [0.0617, 0.1983, 0.7400],\n",
            "        [0.0178, 0.9187, 0.0636]], device='cuda:0')\n",
            "prediction: tensor([0, 1, 2, 0, 0, 0, 2, 1], device='cuda:0')\n",
            "tensor([[0.9875, 0.0070, 0.0056],\n",
            "        [0.0088, 0.9800, 0.0113],\n",
            "        [0.1118, 0.0616, 0.8266],\n",
            "        [0.9744, 0.0184, 0.0071],\n",
            "        [0.9740, 0.0148, 0.0112],\n",
            "        [0.9771, 0.0109, 0.0121],\n",
            "        [0.0617, 0.1983, 0.7400],\n",
            "        [0.0178, 0.9187, 0.0636]], device='cuda:0')\n",
            "tensor([1, 0, 2, 1, 0, 2, 1, 2], device='cuda:0')\n",
            "validating logits: tensor([[0.0046, 0.9813, 0.0141],\n",
            "        [0.9758, 0.0120, 0.0122],\n",
            "        [0.0770, 0.0374, 0.8856],\n",
            "        [0.3731, 0.6025, 0.0244],\n",
            "        [0.9444, 0.0298, 0.0258],\n",
            "        [0.7659, 0.0597, 0.1745],\n",
            "        [0.0951, 0.8928, 0.0121],\n",
            "        [0.1073, 0.0951, 0.7976]], device='cuda:0')\n",
            "prediction: tensor([1, 0, 2, 1, 0, 0, 1, 2], device='cuda:0')\n",
            "tensor([[0.0046, 0.9813, 0.0141],\n",
            "        [0.9758, 0.0120, 0.0122],\n",
            "        [0.0770, 0.0374, 0.8856],\n",
            "        [0.3731, 0.6025, 0.0244],\n",
            "        [0.9444, 0.0298, 0.0258],\n",
            "        [0.7659, 0.0597, 0.1745],\n",
            "        [0.0951, 0.8928, 0.0121],\n",
            "        [0.1073, 0.0951, 0.7976]], device='cuda:0')\n",
            "tensor([0, 2, 1, 0, 0, 1, 2, 0], device='cuda:0')\n",
            "validating logits: tensor([[0.9848, 0.0072, 0.0080],\n",
            "        [0.8970, 0.0537, 0.0493],\n",
            "        [0.8793, 0.0922, 0.0285],\n",
            "        [0.2064, 0.7695, 0.0241],\n",
            "        [0.9575, 0.0157, 0.0268],\n",
            "        [0.9095, 0.0577, 0.0328],\n",
            "        [0.9708, 0.0172, 0.0120],\n",
            "        [0.8688, 0.1001, 0.0311]], device='cuda:0')\n",
            "prediction: tensor([0, 0, 0, 1, 0, 0, 0, 0], device='cuda:0')\n",
            "tensor([[0.9848, 0.0072, 0.0080],\n",
            "        [0.8970, 0.0537, 0.0493],\n",
            "        [0.8793, 0.0922, 0.0285],\n",
            "        [0.2064, 0.7695, 0.0241],\n",
            "        [0.9575, 0.0157, 0.0268],\n",
            "        [0.9095, 0.0577, 0.0328],\n",
            "        [0.9708, 0.0172, 0.0120],\n",
            "        [0.8688, 0.1001, 0.0311]], device='cuda:0')\n",
            "tensor([2, 1, 1, 0, 2, 1, 0, 2], device='cuda:0')\n",
            "validating logits: tensor([[0.9266, 0.0389, 0.0346],\n",
            "        [0.1422, 0.8111, 0.0467],\n",
            "        [0.7597, 0.1561, 0.0842],\n",
            "        [0.9229, 0.0571, 0.0200],\n",
            "        [0.9312, 0.0330, 0.0358],\n",
            "        [0.8471, 0.1275, 0.0254],\n",
            "        [0.8415, 0.1049, 0.0536],\n",
            "        [0.2566, 0.6941, 0.0492]], device='cuda:0')\n",
            "prediction: tensor([0, 1, 0, 0, 0, 0, 0, 1], device='cuda:0')\n",
            "tensor([[0.9266, 0.0389, 0.0346],\n",
            "        [0.1422, 0.8111, 0.0467],\n",
            "        [0.7597, 0.1561, 0.0842],\n",
            "        [0.9229, 0.0571, 0.0200],\n",
            "        [0.9312, 0.0330, 0.0358],\n",
            "        [0.8471, 0.1275, 0.0254],\n",
            "        [0.8415, 0.1049, 0.0536],\n",
            "        [0.2566, 0.6941, 0.0492]], device='cuda:0')\n",
            "tensor([2, 1, 0, 2, 1, 0, 1, 0], device='cuda:0')\n",
            "validating logits: tensor([[0.1233, 0.8501, 0.0265],\n",
            "        [0.9297, 0.0335, 0.0368],\n",
            "        [0.9395, 0.0409, 0.0196],\n",
            "        [0.1694, 0.1230, 0.7076],\n",
            "        [0.1521, 0.7871, 0.0608],\n",
            "        [0.9803, 0.0110, 0.0086],\n",
            "        [0.0157, 0.9679, 0.0164],\n",
            "        [0.9821, 0.0079, 0.0100]], device='cuda:0')\n",
            "prediction: tensor([1, 0, 0, 2, 1, 0, 1, 0], device='cuda:0')\n",
            "tensor([[0.1233, 0.8501, 0.0265],\n",
            "        [0.9297, 0.0335, 0.0368],\n",
            "        [0.9395, 0.0409, 0.0196],\n",
            "        [0.1694, 0.1230, 0.7076],\n",
            "        [0.1521, 0.7871, 0.0608],\n",
            "        [0.9803, 0.0110, 0.0086],\n",
            "        [0.0157, 0.9679, 0.0164],\n",
            "        [0.9821, 0.0079, 0.0100]], device='cuda:0')\n",
            "tensor([2, 2, 1, 0, 0, 1, 2, 1], device='cuda:0')\n",
            "validating logits: tensor([[0.1412, 0.0425, 0.8163],\n",
            "        [0.9756, 0.0191, 0.0052],\n",
            "        [0.0634, 0.9179, 0.0187],\n",
            "        [0.9505, 0.0311, 0.0184],\n",
            "        [0.9533, 0.0258, 0.0209],\n",
            "        [0.1055, 0.8520, 0.0426],\n",
            "        [0.9797, 0.0076, 0.0127],\n",
            "        [0.0136, 0.9797, 0.0067]], device='cuda:0')\n",
            "prediction: tensor([2, 0, 1, 0, 0, 1, 0, 1], device='cuda:0')\n",
            "tensor([[0.1412, 0.0425, 0.8163],\n",
            "        [0.9756, 0.0191, 0.0052],\n",
            "        [0.0634, 0.9179, 0.0187],\n",
            "        [0.9505, 0.0311, 0.0184],\n",
            "        [0.9533, 0.0258, 0.0209],\n",
            "        [0.1055, 0.8520, 0.0426],\n",
            "        [0.9797, 0.0076, 0.0127],\n",
            "        [0.0136, 0.9797, 0.0067]], device='cuda:0')\n",
            "tensor([0, 2, 1, 0, 1, 2, 1, 2], device='cuda:0')\n",
            "validating logits: tensor([[0.9521, 0.0354, 0.0125],\n",
            "        [0.4613, 0.0372, 0.5015],\n",
            "        [0.0312, 0.8836, 0.0852],\n",
            "        [0.9813, 0.0104, 0.0084],\n",
            "        [0.0255, 0.9642, 0.0103],\n",
            "        [0.0760, 0.0789, 0.8451],\n",
            "        [0.0132, 0.9484, 0.0384],\n",
            "        [0.0882, 0.0377, 0.8741]], device='cuda:0')\n",
            "prediction: tensor([0, 2, 1, 0, 1, 2, 1, 2], device='cuda:0')\n",
            "tensor([[0.9521, 0.0354, 0.0125],\n",
            "        [0.4613, 0.0372, 0.5015],\n",
            "        [0.0312, 0.8836, 0.0852],\n",
            "        [0.9813, 0.0104, 0.0084],\n",
            "        [0.0255, 0.9642, 0.0103],\n",
            "        [0.0760, 0.0789, 0.8451],\n",
            "        [0.0132, 0.9484, 0.0384],\n",
            "        [0.0882, 0.0377, 0.8741]], device='cuda:0')\n",
            "tensor([0, 2, 2, 0], device='cuda:0')\n",
            "validating logits: tensor([[0.9920, 0.0050, 0.0029],\n",
            "        [0.1618, 0.1278, 0.7104],\n",
            "        [0.1468, 0.0495, 0.8037],\n",
            "        [0.9853, 0.0082, 0.0064]], device='cuda:0')\n",
            "prediction: tensor([0, 2, 2, 0], device='cuda:0')\n",
            "tensor([[0.9920, 0.0050, 0.0029],\n",
            "        [0.1618, 0.1278, 0.7104],\n",
            "        [0.1468, 0.0495, 0.8037],\n",
            "        [0.9853, 0.0082, 0.0064]], device='cuda:0')\n",
            "Epochs: 6 | Train Loss:  0.101             | Train Accuracy:  0.798             | Val Loss:  0.102             | Val Accuracy:  0.800\n",
            "Found a better model\n"
          ]
        },
        {
          "output_type": "stream",
          "name": "stderr",
          "text": [
            "\r  0%|          | 0/63 [00:00<?, ?it/s]"
          ]
        },
        {
          "output_type": "stream",
          "name": "stdout",
          "text": [
            "training logits: tensor([[0.0137, 0.9677, 0.0185],\n",
            "        [0.9713, 0.0171, 0.0116],\n",
            "        [0.0035, 0.9892, 0.0072],\n",
            "        [0.9842, 0.0089, 0.0069],\n",
            "        [0.2977, 0.5839, 0.1184],\n",
            "        [0.0506, 0.7581, 0.1913],\n",
            "        [0.1273, 0.2872, 0.5854],\n",
            "        [0.0210, 0.1171, 0.8619]], device='cuda:0', grad_fn=<SoftmaxBackward0>)\n",
            "training outputs\n",
            "tensor([[0.0137, 0.9677, 0.0185],\n",
            "        [0.9713, 0.0171, 0.0116],\n",
            "        [0.0035, 0.9892, 0.0072],\n",
            "        [0.9842, 0.0089, 0.0069],\n",
            "        [0.2977, 0.5839, 0.1184],\n",
            "        [0.0506, 0.7581, 0.1913],\n",
            "        [0.1273, 0.2872, 0.5854],\n",
            "        [0.0210, 0.1171, 0.8619]], device='cuda:0', grad_fn=<SoftmaxBackward0>)\n",
            "prediction: tensor([1, 0, 1, 0, 1, 1, 2, 2], device='cuda:0')\n",
            "train labels: tensor([1, 0, 1, 0, 1, 1, 1, 2], device='cuda:0')\n"
          ]
        },
        {
          "output_type": "stream",
          "name": "stderr",
          "text": [
            "\r  2%|▏         | 1/63 [00:00<00:47,  1.30it/s]"
          ]
        },
        {
          "output_type": "stream",
          "name": "stdout",
          "text": [
            "training logits: tensor([[0.0663, 0.0589, 0.8748],\n",
            "        [0.1881, 0.0565, 0.7553],\n",
            "        [0.1625, 0.7908, 0.0466],\n",
            "        [0.9536, 0.0184, 0.0281],\n",
            "        [0.0168, 0.9529, 0.0303],\n",
            "        [0.1226, 0.1251, 0.7523],\n",
            "        [0.7756, 0.1151, 0.1093],\n",
            "        [0.1093, 0.1466, 0.7441]], device='cuda:0', grad_fn=<SoftmaxBackward0>)\n",
            "training outputs\n",
            "tensor([[0.0663, 0.0589, 0.8748],\n",
            "        [0.1881, 0.0565, 0.7553],\n",
            "        [0.1625, 0.7908, 0.0466],\n",
            "        [0.9536, 0.0184, 0.0281],\n",
            "        [0.0168, 0.9529, 0.0303],\n",
            "        [0.1226, 0.1251, 0.7523],\n",
            "        [0.7756, 0.1151, 0.1093],\n",
            "        [0.1093, 0.1466, 0.7441]], device='cuda:0', grad_fn=<SoftmaxBackward0>)\n",
            "prediction: tensor([2, 2, 1, 0, 1, 2, 0, 2], device='cuda:0')\n",
            "train labels: tensor([2, 2, 1, 1, 1, 2, 1, 2], device='cuda:0')\n"
          ]
        },
        {
          "output_type": "stream",
          "name": "stderr",
          "text": [
            "\r  3%|▎         | 2/63 [00:01<00:44,  1.38it/s]"
          ]
        },
        {
          "output_type": "stream",
          "name": "stdout",
          "text": [
            "training logits: tensor([[0.0797, 0.0919, 0.8284],\n",
            "        [0.8790, 0.0470, 0.0740],\n",
            "        [0.9788, 0.0124, 0.0088],\n",
            "        [0.9816, 0.0105, 0.0079],\n",
            "        [0.0889, 0.0413, 0.8698],\n",
            "        [0.0708, 0.1299, 0.7992],\n",
            "        [0.0408, 0.0389, 0.9202],\n",
            "        [0.9772, 0.0138, 0.0090]], device='cuda:0', grad_fn=<SoftmaxBackward0>)\n",
            "training outputs\n",
            "tensor([[0.0797, 0.0919, 0.8284],\n",
            "        [0.8790, 0.0470, 0.0740],\n",
            "        [0.9788, 0.0124, 0.0088],\n",
            "        [0.9816, 0.0105, 0.0079],\n",
            "        [0.0889, 0.0413, 0.8698],\n",
            "        [0.0708, 0.1299, 0.7992],\n",
            "        [0.0408, 0.0389, 0.9202],\n",
            "        [0.9772, 0.0138, 0.0090]], device='cuda:0', grad_fn=<SoftmaxBackward0>)\n",
            "prediction: tensor([2, 0, 0, 0, 2, 2, 2, 0], device='cuda:0')\n",
            "train labels: tensor([2, 1, 0, 0, 2, 1, 2, 0], device='cuda:0')\n"
          ]
        },
        {
          "output_type": "stream",
          "name": "stderr",
          "text": [
            "\r  5%|▍         | 3/63 [00:02<00:42,  1.40it/s]"
          ]
        },
        {
          "output_type": "stream",
          "name": "stdout",
          "text": [
            "training logits: tensor([[0.9708, 0.0164, 0.0128],\n",
            "        [0.0896, 0.0523, 0.8581],\n",
            "        [0.6673, 0.0715, 0.2612],\n",
            "        [0.0653, 0.8676, 0.0672],\n",
            "        [0.9742, 0.0132, 0.0127],\n",
            "        [0.9452, 0.0198, 0.0351],\n",
            "        [0.9099, 0.0639, 0.0262],\n",
            "        [0.0129, 0.9671, 0.0201]], device='cuda:0', grad_fn=<SoftmaxBackward0>)\n",
            "training outputs\n",
            "tensor([[0.9708, 0.0164, 0.0128],\n",
            "        [0.0896, 0.0523, 0.8581],\n",
            "        [0.6673, 0.0715, 0.2612],\n",
            "        [0.0653, 0.8676, 0.0672],\n",
            "        [0.9742, 0.0132, 0.0127],\n",
            "        [0.9452, 0.0198, 0.0351],\n",
            "        [0.9099, 0.0639, 0.0262],\n",
            "        [0.0129, 0.9671, 0.0201]], device='cuda:0', grad_fn=<SoftmaxBackward0>)\n",
            "prediction: tensor([0, 2, 0, 1, 0, 0, 0, 1], device='cuda:0')\n",
            "train labels: tensor([0, 2, 2, 1, 2, 1, 1, 1], device='cuda:0')\n"
          ]
        },
        {
          "output_type": "stream",
          "name": "stderr",
          "text": [
            "\r  6%|▋         | 4/63 [00:02<00:42,  1.40it/s]"
          ]
        },
        {
          "output_type": "stream",
          "name": "stdout",
          "text": [
            "training logits: tensor([[0.1323, 0.0378, 0.8299],\n",
            "        [0.0373, 0.1755, 0.7873],\n",
            "        [0.1083, 0.0514, 0.8404],\n",
            "        [0.1401, 0.0632, 0.7966],\n",
            "        [0.0656, 0.0667, 0.8677],\n",
            "        [0.9854, 0.0110, 0.0037],\n",
            "        [0.0565, 0.9165, 0.0270],\n",
            "        [0.2078, 0.0570, 0.7352]], device='cuda:0', grad_fn=<SoftmaxBackward0>)\n",
            "training outputs\n",
            "tensor([[0.1323, 0.0378, 0.8299],\n",
            "        [0.0373, 0.1755, 0.7873],\n",
            "        [0.1083, 0.0514, 0.8404],\n",
            "        [0.1401, 0.0632, 0.7966],\n",
            "        [0.0656, 0.0667, 0.8677],\n",
            "        [0.9854, 0.0110, 0.0037],\n",
            "        [0.0565, 0.9165, 0.0270],\n",
            "        [0.2078, 0.0570, 0.7352]], device='cuda:0', grad_fn=<SoftmaxBackward0>)\n",
            "prediction: tensor([2, 2, 2, 2, 2, 0, 1, 2], device='cuda:0')\n",
            "train labels: tensor([2, 2, 2, 2, 2, 0, 1, 2], device='cuda:0')\n"
          ]
        },
        {
          "output_type": "stream",
          "name": "stderr",
          "text": [
            "\r  8%|▊         | 5/63 [00:03<00:41,  1.40it/s]"
          ]
        },
        {
          "output_type": "stream",
          "name": "stdout",
          "text": [
            "training logits: tensor([[0.9741, 0.0143, 0.0116],\n",
            "        [0.0991, 0.1191, 0.7818],\n",
            "        [0.0219, 0.9524, 0.0257],\n",
            "        [0.3135, 0.3715, 0.3150],\n",
            "        [0.1174, 0.0329, 0.8497],\n",
            "        [0.3610, 0.1676, 0.4714],\n",
            "        [0.9872, 0.0064, 0.0064],\n",
            "        [0.9727, 0.0219, 0.0055]], device='cuda:0', grad_fn=<SoftmaxBackward0>)\n",
            "training outputs\n",
            "tensor([[0.9741, 0.0143, 0.0116],\n",
            "        [0.0991, 0.1191, 0.7818],\n",
            "        [0.0219, 0.9524, 0.0257],\n",
            "        [0.3135, 0.3715, 0.3150],\n",
            "        [0.1174, 0.0329, 0.8497],\n",
            "        [0.3610, 0.1676, 0.4714],\n",
            "        [0.9872, 0.0064, 0.0064],\n",
            "        [0.9727, 0.0219, 0.0055]], device='cuda:0', grad_fn=<SoftmaxBackward0>)\n",
            "prediction: tensor([0, 2, 1, 1, 2, 2, 0, 0], device='cuda:0')\n",
            "train labels: tensor([0, 2, 1, 2, 0, 2, 0, 0], device='cuda:0')\n"
          ]
        },
        {
          "output_type": "stream",
          "name": "stderr",
          "text": [
            "\r 10%|▉         | 6/63 [00:04<00:40,  1.41it/s]"
          ]
        },
        {
          "output_type": "stream",
          "name": "stdout",
          "text": [
            "training logits: tensor([[0.9465, 0.0390, 0.0145],\n",
            "        [0.1541, 0.0390, 0.8069],\n",
            "        [0.0440, 0.9367, 0.0193],\n",
            "        [0.4916, 0.1745, 0.3339],\n",
            "        [0.9797, 0.0149, 0.0054],\n",
            "        [0.9704, 0.0151, 0.0145],\n",
            "        [0.9800, 0.0127, 0.0073],\n",
            "        [0.9822, 0.0083, 0.0096]], device='cuda:0', grad_fn=<SoftmaxBackward0>)\n",
            "training outputs\n",
            "tensor([[0.9465, 0.0390, 0.0145],\n",
            "        [0.1541, 0.0390, 0.8069],\n",
            "        [0.0440, 0.9367, 0.0193],\n",
            "        [0.4916, 0.1745, 0.3339],\n",
            "        [0.9797, 0.0149, 0.0054],\n",
            "        [0.9704, 0.0151, 0.0145],\n",
            "        [0.9800, 0.0127, 0.0073],\n",
            "        [0.9822, 0.0083, 0.0096]], device='cuda:0', grad_fn=<SoftmaxBackward0>)\n",
            "prediction: tensor([0, 2, 1, 0, 0, 0, 0, 0], device='cuda:0')\n",
            "train labels: tensor([2, 2, 1, 1, 0, 0, 0, 0], device='cuda:0')\n"
          ]
        },
        {
          "output_type": "stream",
          "name": "stderr",
          "text": [
            "\r 11%|█         | 7/63 [00:05<00:39,  1.41it/s]"
          ]
        },
        {
          "output_type": "stream",
          "name": "stdout",
          "text": [
            "training logits: tensor([[0.0287, 0.9008, 0.0705],\n",
            "        [0.9894, 0.0067, 0.0039],\n",
            "        [0.0368, 0.9416, 0.0216],\n",
            "        [0.0500, 0.0165, 0.9335],\n",
            "        [0.4119, 0.0816, 0.5065],\n",
            "        [0.9198, 0.0465, 0.0337],\n",
            "        [0.9719, 0.0190, 0.0092],\n",
            "        [0.7314, 0.0174, 0.2512]], device='cuda:0', grad_fn=<SoftmaxBackward0>)\n",
            "training outputs\n",
            "tensor([[0.0287, 0.9008, 0.0705],\n",
            "        [0.9894, 0.0067, 0.0039],\n",
            "        [0.0368, 0.9416, 0.0216],\n",
            "        [0.0500, 0.0165, 0.9335],\n",
            "        [0.4119, 0.0816, 0.5065],\n",
            "        [0.9198, 0.0465, 0.0337],\n",
            "        [0.9719, 0.0190, 0.0092],\n",
            "        [0.7314, 0.0174, 0.2512]], device='cuda:0', grad_fn=<SoftmaxBackward0>)\n",
            "prediction: tensor([1, 0, 1, 2, 2, 0, 0, 0], device='cuda:0')\n",
            "train labels: tensor([1, 0, 1, 2, 2, 1, 0, 2], device='cuda:0')\n"
          ]
        },
        {
          "output_type": "stream",
          "name": "stderr",
          "text": [
            "\r 13%|█▎        | 8/63 [00:05<00:39,  1.41it/s]"
          ]
        },
        {
          "output_type": "stream",
          "name": "stdout",
          "text": [
            "training logits: tensor([[0.0060, 0.9781, 0.0158],\n",
            "        [0.0079, 0.9795, 0.0126],\n",
            "        [0.1888, 0.2494, 0.5619],\n",
            "        [0.9886, 0.0072, 0.0041],\n",
            "        [0.0185, 0.9129, 0.0685],\n",
            "        [0.0381, 0.0419, 0.9200],\n",
            "        [0.1709, 0.3142, 0.5149],\n",
            "        [0.9853, 0.0090, 0.0057]], device='cuda:0', grad_fn=<SoftmaxBackward0>)\n",
            "training outputs\n",
            "tensor([[0.0060, 0.9781, 0.0158],\n",
            "        [0.0079, 0.9795, 0.0126],\n",
            "        [0.1888, 0.2494, 0.5619],\n",
            "        [0.9886, 0.0072, 0.0041],\n",
            "        [0.0185, 0.9129, 0.0685],\n",
            "        [0.0381, 0.0419, 0.9200],\n",
            "        [0.1709, 0.3142, 0.5149],\n",
            "        [0.9853, 0.0090, 0.0057]], device='cuda:0', grad_fn=<SoftmaxBackward0>)\n",
            "prediction: tensor([1, 1, 2, 0, 1, 2, 2, 0], device='cuda:0')\n",
            "train labels: tensor([1, 1, 2, 0, 1, 2, 2, 0], device='cuda:0')\n"
          ]
        },
        {
          "output_type": "stream",
          "name": "stderr",
          "text": [
            "\r 14%|█▍        | 9/63 [00:06<00:38,  1.41it/s]"
          ]
        },
        {
          "output_type": "stream",
          "name": "stdout",
          "text": [
            "training logits: tensor([[0.1223, 0.0355, 0.8422],\n",
            "        [0.9838, 0.0077, 0.0085],\n",
            "        [0.9929, 0.0031, 0.0040],\n",
            "        [0.9839, 0.0053, 0.0108],\n",
            "        [0.9818, 0.0118, 0.0064],\n",
            "        [0.1040, 0.0892, 0.8068],\n",
            "        [0.9818, 0.0102, 0.0079],\n",
            "        [0.3904, 0.5508, 0.0588]], device='cuda:0', grad_fn=<SoftmaxBackward0>)\n",
            "training outputs\n",
            "tensor([[0.1223, 0.0355, 0.8422],\n",
            "        [0.9838, 0.0077, 0.0085],\n",
            "        [0.9929, 0.0031, 0.0040],\n",
            "        [0.9839, 0.0053, 0.0108],\n",
            "        [0.9818, 0.0118, 0.0064],\n",
            "        [0.1040, 0.0892, 0.8068],\n",
            "        [0.9818, 0.0102, 0.0079],\n",
            "        [0.3904, 0.5508, 0.0588]], device='cuda:0', grad_fn=<SoftmaxBackward0>)\n",
            "prediction: tensor([2, 0, 0, 0, 0, 2, 0, 1], device='cuda:0')\n",
            "train labels: tensor([2, 0, 0, 0, 0, 2, 0, 2], device='cuda:0')\n"
          ]
        },
        {
          "output_type": "stream",
          "name": "stderr",
          "text": [
            "\r 16%|█▌        | 10/63 [00:07<00:37,  1.41it/s]"
          ]
        },
        {
          "output_type": "stream",
          "name": "stdout",
          "text": [
            "training logits: tensor([[0.0400, 0.1100, 0.8499],\n",
            "        [0.0438, 0.9174, 0.0387],\n",
            "        [0.9917, 0.0049, 0.0034],\n",
            "        [0.2842, 0.3722, 0.3436],\n",
            "        [0.0696, 0.5957, 0.3347],\n",
            "        [0.0150, 0.9221, 0.0628],\n",
            "        [0.9461, 0.0430, 0.0109],\n",
            "        [0.7400, 0.1185, 0.1415]], device='cuda:0', grad_fn=<SoftmaxBackward0>)\n",
            "training outputs\n",
            "tensor([[0.0400, 0.1100, 0.8499],\n",
            "        [0.0438, 0.9174, 0.0387],\n",
            "        [0.9917, 0.0049, 0.0034],\n",
            "        [0.2842, 0.3722, 0.3436],\n",
            "        [0.0696, 0.5957, 0.3347],\n",
            "        [0.0150, 0.9221, 0.0628],\n",
            "        [0.9461, 0.0430, 0.0109],\n",
            "        [0.7400, 0.1185, 0.1415]], device='cuda:0', grad_fn=<SoftmaxBackward0>)\n",
            "prediction: tensor([2, 1, 0, 1, 1, 1, 0, 0], device='cuda:0')\n",
            "train labels: tensor([2, 1, 0, 0, 2, 1, 1, 1], device='cuda:0')\n"
          ]
        },
        {
          "output_type": "stream",
          "name": "stderr",
          "text": [
            "\r 17%|█▋        | 11/63 [00:07<00:36,  1.41it/s]"
          ]
        },
        {
          "output_type": "stream",
          "name": "stdout",
          "text": [
            "training logits: tensor([[0.4205, 0.5644, 0.0151],\n",
            "        [0.0586, 0.1053, 0.8361],\n",
            "        [0.9816, 0.0056, 0.0128],\n",
            "        [0.7589, 0.0371, 0.2040],\n",
            "        [0.8746, 0.0459, 0.0795],\n",
            "        [0.0330, 0.0655, 0.9015],\n",
            "        [0.9730, 0.0128, 0.0142],\n",
            "        [0.9004, 0.0488, 0.0508]], device='cuda:0', grad_fn=<SoftmaxBackward0>)\n",
            "training outputs\n",
            "tensor([[0.4205, 0.5644, 0.0151],\n",
            "        [0.0586, 0.1053, 0.8361],\n",
            "        [0.9816, 0.0056, 0.0128],\n",
            "        [0.7589, 0.0371, 0.2040],\n",
            "        [0.8746, 0.0459, 0.0795],\n",
            "        [0.0330, 0.0655, 0.9015],\n",
            "        [0.9730, 0.0128, 0.0142],\n",
            "        [0.9004, 0.0488, 0.0508]], device='cuda:0', grad_fn=<SoftmaxBackward0>)\n",
            "prediction: tensor([1, 2, 0, 0, 0, 2, 0, 0], device='cuda:0')\n",
            "train labels: tensor([1, 2, 0, 0, 2, 2, 0, 1], device='cuda:0')\n"
          ]
        },
        {
          "output_type": "stream",
          "name": "stderr",
          "text": [
            "\r 19%|█▉        | 12/63 [00:08<00:36,  1.41it/s]"
          ]
        },
        {
          "output_type": "stream",
          "name": "stdout",
          "text": [
            "training logits: tensor([[0.0192, 0.9559, 0.0250],\n",
            "        [0.0335, 0.1791, 0.7874],\n",
            "        [0.1065, 0.0589, 0.8346],\n",
            "        [0.0854, 0.2526, 0.6620],\n",
            "        [0.9888, 0.0058, 0.0054],\n",
            "        [0.9635, 0.0124, 0.0241],\n",
            "        [0.6169, 0.0393, 0.3437],\n",
            "        [0.9904, 0.0051, 0.0044]], device='cuda:0', grad_fn=<SoftmaxBackward0>)\n",
            "training outputs\n",
            "tensor([[0.0192, 0.9559, 0.0250],\n",
            "        [0.0335, 0.1791, 0.7874],\n",
            "        [0.1065, 0.0589, 0.8346],\n",
            "        [0.0854, 0.2526, 0.6620],\n",
            "        [0.9888, 0.0058, 0.0054],\n",
            "        [0.9635, 0.0124, 0.0241],\n",
            "        [0.6169, 0.0393, 0.3437],\n",
            "        [0.9904, 0.0051, 0.0044]], device='cuda:0', grad_fn=<SoftmaxBackward0>)\n",
            "prediction: tensor([1, 2, 2, 2, 0, 0, 0, 0], device='cuda:0')\n",
            "train labels: tensor([1, 2, 1, 2, 0, 0, 1, 0], device='cuda:0')\n"
          ]
        },
        {
          "output_type": "stream",
          "name": "stderr",
          "text": [
            "\r 21%|██        | 13/63 [00:09<00:35,  1.41it/s]"
          ]
        },
        {
          "output_type": "stream",
          "name": "stdout",
          "text": [
            "training logits: tensor([[0.0136, 0.8996, 0.0868],\n",
            "        [0.0584, 0.0848, 0.8568],\n",
            "        [0.7986, 0.0813, 0.1201],\n",
            "        [0.9858, 0.0079, 0.0063],\n",
            "        [0.0313, 0.0636, 0.9051],\n",
            "        [0.0305, 0.1584, 0.8112],\n",
            "        [0.8525, 0.0656, 0.0819],\n",
            "        [0.9859, 0.0069, 0.0072]], device='cuda:0', grad_fn=<SoftmaxBackward0>)\n",
            "training outputs\n",
            "tensor([[0.0136, 0.8996, 0.0868],\n",
            "        [0.0584, 0.0848, 0.8568],\n",
            "        [0.7986, 0.0813, 0.1201],\n",
            "        [0.9858, 0.0079, 0.0063],\n",
            "        [0.0313, 0.0636, 0.9051],\n",
            "        [0.0305, 0.1584, 0.8112],\n",
            "        [0.8525, 0.0656, 0.0819],\n",
            "        [0.9859, 0.0069, 0.0072]], device='cuda:0', grad_fn=<SoftmaxBackward0>)\n",
            "prediction: tensor([1, 2, 0, 0, 2, 2, 0, 0], device='cuda:0')\n",
            "train labels: tensor([1, 2, 2, 0, 2, 2, 0, 2], device='cuda:0')\n"
          ]
        },
        {
          "output_type": "stream",
          "name": "stderr",
          "text": [
            "\r 22%|██▏       | 14/63 [00:09<00:35,  1.40it/s]"
          ]
        },
        {
          "output_type": "stream",
          "name": "stdout",
          "text": [
            "training logits: tensor([[0.9099, 0.0481, 0.0420],\n",
            "        [0.0610, 0.0314, 0.9076],\n",
            "        [0.0523, 0.0369, 0.9108],\n",
            "        [0.2607, 0.1775, 0.5618],\n",
            "        [0.1082, 0.8285, 0.0633],\n",
            "        [0.1492, 0.8206, 0.0302],\n",
            "        [0.0750, 0.0741, 0.8509],\n",
            "        [0.9608, 0.0170, 0.0222]], device='cuda:0', grad_fn=<SoftmaxBackward0>)\n",
            "training outputs\n",
            "tensor([[0.9099, 0.0481, 0.0420],\n",
            "        [0.0610, 0.0314, 0.9076],\n",
            "        [0.0523, 0.0369, 0.9108],\n",
            "        [0.2607, 0.1775, 0.5618],\n",
            "        [0.1082, 0.8285, 0.0633],\n",
            "        [0.1492, 0.8206, 0.0302],\n",
            "        [0.0750, 0.0741, 0.8509],\n",
            "        [0.9608, 0.0170, 0.0222]], device='cuda:0', grad_fn=<SoftmaxBackward0>)\n",
            "prediction: tensor([0, 2, 2, 2, 1, 1, 2, 0], device='cuda:0')\n",
            "train labels: tensor([1, 2, 2, 2, 1, 1, 2, 0], device='cuda:0')\n"
          ]
        },
        {
          "output_type": "stream",
          "name": "stderr",
          "text": [
            "\r 24%|██▍       | 15/63 [00:10<00:34,  1.40it/s]"
          ]
        },
        {
          "output_type": "stream",
          "name": "stdout",
          "text": [
            "training logits: tensor([[0.9571, 0.0221, 0.0208],\n",
            "        [0.3510, 0.4917, 0.1574],\n",
            "        [0.0360, 0.9412, 0.0228],\n",
            "        [0.3740, 0.4934, 0.1327],\n",
            "        [0.1010, 0.1141, 0.7849],\n",
            "        [0.0467, 0.1092, 0.8441],\n",
            "        [0.0131, 0.0552, 0.9317],\n",
            "        [0.1250, 0.0953, 0.7797]], device='cuda:0', grad_fn=<SoftmaxBackward0>)\n",
            "training outputs\n",
            "tensor([[0.9571, 0.0221, 0.0208],\n",
            "        [0.3510, 0.4917, 0.1574],\n",
            "        [0.0360, 0.9412, 0.0228],\n",
            "        [0.3740, 0.4934, 0.1327],\n",
            "        [0.1010, 0.1141, 0.7849],\n",
            "        [0.0467, 0.1092, 0.8441],\n",
            "        [0.0131, 0.0552, 0.9317],\n",
            "        [0.1250, 0.0953, 0.7797]], device='cuda:0', grad_fn=<SoftmaxBackward0>)\n",
            "prediction: tensor([0, 1, 1, 1, 2, 2, 2, 2], device='cuda:0')\n",
            "train labels: tensor([0, 1, 1, 2, 2, 2, 2, 2], device='cuda:0')\n"
          ]
        },
        {
          "output_type": "stream",
          "name": "stderr",
          "text": [
            "\r 25%|██▌       | 16/63 [00:11<00:33,  1.39it/s]"
          ]
        },
        {
          "output_type": "stream",
          "name": "stdout",
          "text": [
            "training logits: tensor([[0.0124, 0.9650, 0.0227],\n",
            "        [0.0672, 0.1182, 0.8146],\n",
            "        [0.0100, 0.8155, 0.1745],\n",
            "        [0.0152, 0.0388, 0.9460],\n",
            "        [0.9567, 0.0290, 0.0143],\n",
            "        [0.9420, 0.0468, 0.0112],\n",
            "        [0.0755, 0.0844, 0.8401],\n",
            "        [0.0217, 0.9595, 0.0187]], device='cuda:0', grad_fn=<SoftmaxBackward0>)\n",
            "training outputs\n",
            "tensor([[0.0124, 0.9650, 0.0227],\n",
            "        [0.0672, 0.1182, 0.8146],\n",
            "        [0.0100, 0.8155, 0.1745],\n",
            "        [0.0152, 0.0388, 0.9460],\n",
            "        [0.9567, 0.0290, 0.0143],\n",
            "        [0.9420, 0.0468, 0.0112],\n",
            "        [0.0755, 0.0844, 0.8401],\n",
            "        [0.0217, 0.9595, 0.0187]], device='cuda:0', grad_fn=<SoftmaxBackward0>)\n",
            "prediction: tensor([1, 2, 1, 2, 0, 0, 2, 1], device='cuda:0')\n",
            "train labels: tensor([1, 0, 1, 2, 0, 2, 0, 1], device='cuda:0')\n"
          ]
        },
        {
          "output_type": "stream",
          "name": "stderr",
          "text": [
            "\r 27%|██▋       | 17/63 [00:12<00:32,  1.39it/s]"
          ]
        },
        {
          "output_type": "stream",
          "name": "stdout",
          "text": [
            "training logits: tensor([[0.2143, 0.2490, 0.5368],\n",
            "        [0.0098, 0.0372, 0.9530],\n",
            "        [0.2884, 0.6438, 0.0678],\n",
            "        [0.0463, 0.9384, 0.0153],\n",
            "        [0.0319, 0.9206, 0.0475],\n",
            "        [0.0051, 0.9865, 0.0083],\n",
            "        [0.1109, 0.0659, 0.8232],\n",
            "        [0.0801, 0.0739, 0.8460]], device='cuda:0', grad_fn=<SoftmaxBackward0>)\n",
            "training outputs\n",
            "tensor([[0.2143, 0.2490, 0.5368],\n",
            "        [0.0098, 0.0372, 0.9530],\n",
            "        [0.2884, 0.6438, 0.0678],\n",
            "        [0.0463, 0.9384, 0.0153],\n",
            "        [0.0319, 0.9206, 0.0475],\n",
            "        [0.0051, 0.9865, 0.0083],\n",
            "        [0.1109, 0.0659, 0.8232],\n",
            "        [0.0801, 0.0739, 0.8460]], device='cuda:0', grad_fn=<SoftmaxBackward0>)\n",
            "prediction: tensor([2, 2, 1, 1, 1, 1, 2, 2], device='cuda:0')\n",
            "train labels: tensor([1, 1, 1, 1, 1, 1, 2, 2], device='cuda:0')\n"
          ]
        },
        {
          "output_type": "stream",
          "name": "stderr",
          "text": [
            "\r 29%|██▊       | 18/63 [00:12<00:32,  1.39it/s]"
          ]
        },
        {
          "output_type": "stream",
          "name": "stdout",
          "text": [
            "training logits: tensor([[0.0300, 0.3568, 0.6132],\n",
            "        [0.1533, 0.7892, 0.0575],\n",
            "        [0.9035, 0.0538, 0.0427],\n",
            "        [0.7604, 0.0323, 0.2073],\n",
            "        [0.0525, 0.0786, 0.8688],\n",
            "        [0.9761, 0.0137, 0.0102],\n",
            "        [0.5136, 0.0490, 0.4374],\n",
            "        [0.0211, 0.7723, 0.2066]], device='cuda:0', grad_fn=<SoftmaxBackward0>)\n",
            "training outputs\n",
            "tensor([[0.0300, 0.3568, 0.6132],\n",
            "        [0.1533, 0.7892, 0.0575],\n",
            "        [0.9035, 0.0538, 0.0427],\n",
            "        [0.7604, 0.0323, 0.2073],\n",
            "        [0.0525, 0.0786, 0.8688],\n",
            "        [0.9761, 0.0137, 0.0102],\n",
            "        [0.5136, 0.0490, 0.4374],\n",
            "        [0.0211, 0.7723, 0.2066]], device='cuda:0', grad_fn=<SoftmaxBackward0>)\n",
            "prediction: tensor([2, 1, 0, 0, 2, 0, 0, 1], device='cuda:0')\n",
            "train labels: tensor([1, 1, 0, 0, 2, 0, 0, 1], device='cuda:0')\n"
          ]
        },
        {
          "output_type": "stream",
          "name": "stderr",
          "text": [
            "\r 30%|███       | 19/63 [00:13<00:31,  1.38it/s]"
          ]
        },
        {
          "output_type": "stream",
          "name": "stdout",
          "text": [
            "training logits: tensor([[0.0218, 0.1306, 0.8476],\n",
            "        [0.1092, 0.0523, 0.8384],\n",
            "        [0.3921, 0.0572, 0.5508],\n",
            "        [0.0136, 0.8508, 0.1356],\n",
            "        [0.2175, 0.6885, 0.0939],\n",
            "        [0.9800, 0.0108, 0.0093],\n",
            "        [0.0927, 0.8676, 0.0397],\n",
            "        [0.9803, 0.0082, 0.0115]], device='cuda:0', grad_fn=<SoftmaxBackward0>)\n",
            "training outputs\n",
            "tensor([[0.0218, 0.1306, 0.8476],\n",
            "        [0.1092, 0.0523, 0.8384],\n",
            "        [0.3921, 0.0572, 0.5508],\n",
            "        [0.0136, 0.8508, 0.1356],\n",
            "        [0.2175, 0.6885, 0.0939],\n",
            "        [0.9800, 0.0108, 0.0093],\n",
            "        [0.0927, 0.8676, 0.0397],\n",
            "        [0.9803, 0.0082, 0.0115]], device='cuda:0', grad_fn=<SoftmaxBackward0>)\n",
            "prediction: tensor([2, 2, 2, 1, 1, 0, 1, 0], device='cuda:0')\n",
            "train labels: tensor([2, 2, 0, 1, 1, 0, 1, 0], device='cuda:0')\n"
          ]
        },
        {
          "output_type": "stream",
          "name": "stderr",
          "text": [
            "\r 32%|███▏      | 20/63 [00:14<00:31,  1.38it/s]"
          ]
        },
        {
          "output_type": "stream",
          "name": "stdout",
          "text": [
            "training logits: tensor([[0.9368, 0.0152, 0.0480],\n",
            "        [0.0074, 0.9648, 0.0278],\n",
            "        [0.0931, 0.0607, 0.8461],\n",
            "        [0.3523, 0.5057, 0.1419],\n",
            "        [0.0380, 0.0573, 0.9047],\n",
            "        [0.0322, 0.8168, 0.1510],\n",
            "        [0.9305, 0.0172, 0.0523],\n",
            "        [0.0099, 0.9610, 0.0291]], device='cuda:0', grad_fn=<SoftmaxBackward0>)\n",
            "training outputs\n",
            "tensor([[0.9368, 0.0152, 0.0480],\n",
            "        [0.0074, 0.9648, 0.0278],\n",
            "        [0.0931, 0.0607, 0.8461],\n",
            "        [0.3523, 0.5057, 0.1419],\n",
            "        [0.0380, 0.0573, 0.9047],\n",
            "        [0.0322, 0.8168, 0.1510],\n",
            "        [0.9305, 0.0172, 0.0523],\n",
            "        [0.0099, 0.9610, 0.0291]], device='cuda:0', grad_fn=<SoftmaxBackward0>)\n",
            "prediction: tensor([0, 1, 2, 1, 2, 1, 0, 1], device='cuda:0')\n",
            "train labels: tensor([2, 1, 2, 0, 2, 2, 0, 1], device='cuda:0')\n"
          ]
        },
        {
          "output_type": "stream",
          "name": "stderr",
          "text": [
            "\r 33%|███▎      | 21/63 [00:15<00:30,  1.38it/s]"
          ]
        },
        {
          "output_type": "stream",
          "name": "stdout",
          "text": [
            "training logits: tensor([[0.9849, 0.0091, 0.0060],\n",
            "        [0.1052, 0.1064, 0.7884],\n",
            "        [0.0425, 0.1673, 0.7902],\n",
            "        [0.9685, 0.0103, 0.0212],\n",
            "        [0.1204, 0.8520, 0.0276],\n",
            "        [0.0973, 0.1012, 0.8015],\n",
            "        [0.0118, 0.9788, 0.0094],\n",
            "        [0.0205, 0.9542, 0.0253]], device='cuda:0', grad_fn=<SoftmaxBackward0>)\n",
            "training outputs\n",
            "tensor([[0.9849, 0.0091, 0.0060],\n",
            "        [0.1052, 0.1064, 0.7884],\n",
            "        [0.0425, 0.1673, 0.7902],\n",
            "        [0.9685, 0.0103, 0.0212],\n",
            "        [0.1204, 0.8520, 0.0276],\n",
            "        [0.0973, 0.1012, 0.8015],\n",
            "        [0.0118, 0.9788, 0.0094],\n",
            "        [0.0205, 0.9542, 0.0253]], device='cuda:0', grad_fn=<SoftmaxBackward0>)\n",
            "prediction: tensor([0, 2, 2, 0, 1, 2, 1, 1], device='cuda:0')\n",
            "train labels: tensor([0, 2, 2, 0, 1, 2, 1, 1], device='cuda:0')\n"
          ]
        },
        {
          "output_type": "stream",
          "name": "stderr",
          "text": [
            "\r 35%|███▍      | 22/63 [00:15<00:29,  1.37it/s]"
          ]
        },
        {
          "output_type": "stream",
          "name": "stdout",
          "text": [
            "training logits: tensor([[0.0338, 0.2167, 0.7495],\n",
            "        [0.1211, 0.1545, 0.7243],\n",
            "        [0.0285, 0.0877, 0.8838],\n",
            "        [0.0509, 0.0845, 0.8645],\n",
            "        [0.8493, 0.0955, 0.0552],\n",
            "        [0.9610, 0.0340, 0.0050],\n",
            "        [0.0140, 0.9401, 0.0459],\n",
            "        [0.4056, 0.2601, 0.3343]], device='cuda:0', grad_fn=<SoftmaxBackward0>)\n",
            "training outputs\n",
            "tensor([[0.0338, 0.2167, 0.7495],\n",
            "        [0.1211, 0.1545, 0.7243],\n",
            "        [0.0285, 0.0877, 0.8838],\n",
            "        [0.0509, 0.0845, 0.8645],\n",
            "        [0.8493, 0.0955, 0.0552],\n",
            "        [0.9610, 0.0340, 0.0050],\n",
            "        [0.0140, 0.9401, 0.0459],\n",
            "        [0.4056, 0.2601, 0.3343]], device='cuda:0', grad_fn=<SoftmaxBackward0>)\n",
            "prediction: tensor([2, 2, 2, 2, 0, 0, 1, 0], device='cuda:0')\n",
            "train labels: tensor([2, 0, 2, 2, 2, 0, 1, 2], device='cuda:0')\n"
          ]
        },
        {
          "output_type": "stream",
          "name": "stderr",
          "text": [
            "\r 37%|███▋      | 23/63 [00:16<00:29,  1.37it/s]"
          ]
        },
        {
          "output_type": "stream",
          "name": "stdout",
          "text": [
            "training logits: tensor([[0.2408, 0.7144, 0.0448],\n",
            "        [0.9619, 0.0296, 0.0084],\n",
            "        [0.9875, 0.0067, 0.0058],\n",
            "        [0.8215, 0.0225, 0.1560],\n",
            "        [0.0098, 0.9616, 0.0286],\n",
            "        [0.0251, 0.9560, 0.0189],\n",
            "        [0.0075, 0.9638, 0.0287],\n",
            "        [0.0431, 0.9132, 0.0437]], device='cuda:0', grad_fn=<SoftmaxBackward0>)\n",
            "training outputs\n",
            "tensor([[0.2408, 0.7144, 0.0448],\n",
            "        [0.9619, 0.0296, 0.0084],\n",
            "        [0.9875, 0.0067, 0.0058],\n",
            "        [0.8215, 0.0225, 0.1560],\n",
            "        [0.0098, 0.9616, 0.0286],\n",
            "        [0.0251, 0.9560, 0.0189],\n",
            "        [0.0075, 0.9638, 0.0287],\n",
            "        [0.0431, 0.9132, 0.0437]], device='cuda:0', grad_fn=<SoftmaxBackward0>)\n",
            "prediction: tensor([1, 0, 0, 0, 1, 1, 1, 1], device='cuda:0')\n",
            "train labels: tensor([1, 0, 0, 2, 1, 1, 1, 1], device='cuda:0')\n"
          ]
        },
        {
          "output_type": "stream",
          "name": "stderr",
          "text": [
            "\r 38%|███▊      | 24/63 [00:17<00:28,  1.37it/s]"
          ]
        },
        {
          "output_type": "stream",
          "name": "stdout",
          "text": [
            "training logits: tensor([[0.9766, 0.0151, 0.0083],\n",
            "        [0.1689, 0.7992, 0.0318],\n",
            "        [0.0753, 0.2026, 0.7221],\n",
            "        [0.0520, 0.8644, 0.0836],\n",
            "        [0.1810, 0.0725, 0.7466],\n",
            "        [0.9615, 0.0233, 0.0152],\n",
            "        [0.0310, 0.0850, 0.8840],\n",
            "        [0.0084, 0.9788, 0.0128]], device='cuda:0', grad_fn=<SoftmaxBackward0>)\n",
            "training outputs\n",
            "tensor([[0.9766, 0.0151, 0.0083],\n",
            "        [0.1689, 0.7992, 0.0318],\n",
            "        [0.0753, 0.2026, 0.7221],\n",
            "        [0.0520, 0.8644, 0.0836],\n",
            "        [0.1810, 0.0725, 0.7466],\n",
            "        [0.9615, 0.0233, 0.0152],\n",
            "        [0.0310, 0.0850, 0.8840],\n",
            "        [0.0084, 0.9788, 0.0128]], device='cuda:0', grad_fn=<SoftmaxBackward0>)\n",
            "prediction: tensor([0, 1, 2, 1, 2, 0, 2, 1], device='cuda:0')\n",
            "train labels: tensor([0, 1, 0, 1, 0, 0, 2, 1], device='cuda:0')\n"
          ]
        },
        {
          "output_type": "stream",
          "name": "stderr",
          "text": [
            "\r 40%|███▉      | 25/63 [00:17<00:27,  1.37it/s]"
          ]
        },
        {
          "output_type": "stream",
          "name": "stdout",
          "text": [
            "training logits: tensor([[0.0302, 0.1053, 0.8645],\n",
            "        [0.9768, 0.0087, 0.0145],\n",
            "        [0.3885, 0.2329, 0.3786],\n",
            "        [0.0230, 0.9154, 0.0615],\n",
            "        [0.0628, 0.0777, 0.8595],\n",
            "        [0.3229, 0.4524, 0.2246],\n",
            "        [0.0063, 0.9871, 0.0066],\n",
            "        [0.0105, 0.9810, 0.0086]], device='cuda:0', grad_fn=<SoftmaxBackward0>)\n",
            "training outputs\n",
            "tensor([[0.0302, 0.1053, 0.8645],\n",
            "        [0.9768, 0.0087, 0.0145],\n",
            "        [0.3885, 0.2329, 0.3786],\n",
            "        [0.0230, 0.9154, 0.0615],\n",
            "        [0.0628, 0.0777, 0.8595],\n",
            "        [0.3229, 0.4524, 0.2246],\n",
            "        [0.0063, 0.9871, 0.0066],\n",
            "        [0.0105, 0.9810, 0.0086]], device='cuda:0', grad_fn=<SoftmaxBackward0>)\n",
            "prediction: tensor([2, 0, 0, 1, 2, 1, 1, 1], device='cuda:0')\n",
            "train labels: tensor([0, 0, 0, 0, 2, 2, 1, 1], device='cuda:0')\n"
          ]
        },
        {
          "output_type": "stream",
          "name": "stderr",
          "text": [
            "\r 41%|████▏     | 26/63 [00:18<00:26,  1.37it/s]"
          ]
        },
        {
          "output_type": "stream",
          "name": "stdout",
          "text": [
            "training logits: tensor([[0.0423, 0.1316, 0.8261],\n",
            "        [0.9759, 0.0196, 0.0046],\n",
            "        [0.0073, 0.9798, 0.0129],\n",
            "        [0.9706, 0.0168, 0.0126],\n",
            "        [0.0221, 0.9071, 0.0708],\n",
            "        [0.0284, 0.0319, 0.9397],\n",
            "        [0.9505, 0.0072, 0.0422],\n",
            "        [0.0240, 0.0512, 0.9248]], device='cuda:0', grad_fn=<SoftmaxBackward0>)\n",
            "training outputs\n",
            "tensor([[0.0423, 0.1316, 0.8261],\n",
            "        [0.9759, 0.0196, 0.0046],\n",
            "        [0.0073, 0.9798, 0.0129],\n",
            "        [0.9706, 0.0168, 0.0126],\n",
            "        [0.0221, 0.9071, 0.0708],\n",
            "        [0.0284, 0.0319, 0.9397],\n",
            "        [0.9505, 0.0072, 0.0422],\n",
            "        [0.0240, 0.0512, 0.9248]], device='cuda:0', grad_fn=<SoftmaxBackward0>)\n",
            "prediction: tensor([2, 0, 1, 0, 1, 2, 0, 2], device='cuda:0')\n",
            "train labels: tensor([2, 0, 1, 0, 1, 2, 0, 2], device='cuda:0')\n"
          ]
        },
        {
          "output_type": "stream",
          "name": "stderr",
          "text": [
            "\r 43%|████▎     | 27/63 [00:19<00:26,  1.37it/s]"
          ]
        },
        {
          "output_type": "stream",
          "name": "stdout",
          "text": [
            "training logits: tensor([[0.0368, 0.0330, 0.9301],\n",
            "        [0.0552, 0.0615, 0.8833],\n",
            "        [0.9716, 0.0223, 0.0061],\n",
            "        [0.0279, 0.9365, 0.0356],\n",
            "        [0.0071, 0.9836, 0.0092],\n",
            "        [0.0222, 0.0964, 0.8814],\n",
            "        [0.0134, 0.1074, 0.8792],\n",
            "        [0.0884, 0.1126, 0.7989]], device='cuda:0', grad_fn=<SoftmaxBackward0>)\n",
            "training outputs\n",
            "tensor([[0.0368, 0.0330, 0.9301],\n",
            "        [0.0552, 0.0615, 0.8833],\n",
            "        [0.9716, 0.0223, 0.0061],\n",
            "        [0.0279, 0.9365, 0.0356],\n",
            "        [0.0071, 0.9836, 0.0092],\n",
            "        [0.0222, 0.0964, 0.8814],\n",
            "        [0.0134, 0.1074, 0.8792],\n",
            "        [0.0884, 0.1126, 0.7989]], device='cuda:0', grad_fn=<SoftmaxBackward0>)\n",
            "prediction: tensor([2, 2, 0, 1, 1, 2, 2, 2], device='cuda:0')\n",
            "train labels: tensor([2, 2, 0, 1, 1, 2, 2, 2], device='cuda:0')\n"
          ]
        },
        {
          "output_type": "stream",
          "name": "stderr",
          "text": [
            "\r 44%|████▍     | 28/63 [00:20<00:25,  1.37it/s]"
          ]
        },
        {
          "output_type": "stream",
          "name": "stdout",
          "text": [
            "training logits: tensor([[0.4944, 0.1068, 0.3988],\n",
            "        [0.0537, 0.0600, 0.8863],\n",
            "        [0.0072, 0.9712, 0.0216],\n",
            "        [0.0263, 0.9355, 0.0382],\n",
            "        [0.0414, 0.0286, 0.9299],\n",
            "        [0.0547, 0.0678, 0.8775],\n",
            "        [0.0247, 0.0336, 0.9417],\n",
            "        [0.0602, 0.0411, 0.8987]], device='cuda:0', grad_fn=<SoftmaxBackward0>)\n",
            "training outputs\n",
            "tensor([[0.4944, 0.1068, 0.3988],\n",
            "        [0.0537, 0.0600, 0.8863],\n",
            "        [0.0072, 0.9712, 0.0216],\n",
            "        [0.0263, 0.9355, 0.0382],\n",
            "        [0.0414, 0.0286, 0.9299],\n",
            "        [0.0547, 0.0678, 0.8775],\n",
            "        [0.0247, 0.0336, 0.9417],\n",
            "        [0.0602, 0.0411, 0.8987]], device='cuda:0', grad_fn=<SoftmaxBackward0>)\n",
            "prediction: tensor([0, 2, 1, 1, 2, 2, 2, 2], device='cuda:0')\n",
            "train labels: tensor([0, 1, 2, 1, 2, 2, 2, 2], device='cuda:0')\n"
          ]
        },
        {
          "output_type": "stream",
          "name": "stderr",
          "text": [
            "\r 46%|████▌     | 29/63 [00:20<00:24,  1.37it/s]"
          ]
        },
        {
          "output_type": "stream",
          "name": "stdout",
          "text": [
            "training logits: tensor([[0.9832, 0.0084, 0.0084],\n",
            "        [0.0830, 0.0921, 0.8248],\n",
            "        [0.1248, 0.1045, 0.7707],\n",
            "        [0.0827, 0.1266, 0.7907],\n",
            "        [0.0098, 0.8934, 0.0968],\n",
            "        [0.9853, 0.0083, 0.0065],\n",
            "        [0.1233, 0.0760, 0.8007],\n",
            "        [0.0792, 0.1806, 0.7402]], device='cuda:0', grad_fn=<SoftmaxBackward0>)\n",
            "training outputs\n",
            "tensor([[0.9832, 0.0084, 0.0084],\n",
            "        [0.0830, 0.0921, 0.8248],\n",
            "        [0.1248, 0.1045, 0.7707],\n",
            "        [0.0827, 0.1266, 0.7907],\n",
            "        [0.0098, 0.8934, 0.0968],\n",
            "        [0.9853, 0.0083, 0.0065],\n",
            "        [0.1233, 0.0760, 0.8007],\n",
            "        [0.0792, 0.1806, 0.7402]], device='cuda:0', grad_fn=<SoftmaxBackward0>)\n",
            "prediction: tensor([0, 2, 2, 2, 1, 0, 2, 2], device='cuda:0')\n",
            "train labels: tensor([0, 2, 2, 2, 1, 0, 2, 2], device='cuda:0')\n"
          ]
        },
        {
          "output_type": "stream",
          "name": "stderr",
          "text": [
            "\r 48%|████▊     | 30/63 [00:21<00:24,  1.37it/s]"
          ]
        },
        {
          "output_type": "stream",
          "name": "stdout",
          "text": [
            "training logits: tensor([[0.0317, 0.7780, 0.1903],\n",
            "        [0.0367, 0.7037, 0.2596],\n",
            "        [0.9356, 0.0305, 0.0338],\n",
            "        [0.9658, 0.0165, 0.0178],\n",
            "        [0.0038, 0.9831, 0.0131],\n",
            "        [0.0282, 0.1685, 0.8033],\n",
            "        [0.0065, 0.9410, 0.0525],\n",
            "        [0.1217, 0.8250, 0.0533]], device='cuda:0', grad_fn=<SoftmaxBackward0>)\n",
            "training outputs\n",
            "tensor([[0.0317, 0.7780, 0.1903],\n",
            "        [0.0367, 0.7037, 0.2596],\n",
            "        [0.9356, 0.0305, 0.0338],\n",
            "        [0.9658, 0.0165, 0.0178],\n",
            "        [0.0038, 0.9831, 0.0131],\n",
            "        [0.0282, 0.1685, 0.8033],\n",
            "        [0.0065, 0.9410, 0.0525],\n",
            "        [0.1217, 0.8250, 0.0533]], device='cuda:0', grad_fn=<SoftmaxBackward0>)\n",
            "prediction: tensor([1, 1, 0, 0, 1, 2, 1, 1], device='cuda:0')\n",
            "train labels: tensor([0, 1, 0, 2, 1, 2, 1, 1], device='cuda:0')\n"
          ]
        },
        {
          "output_type": "stream",
          "name": "stderr",
          "text": [
            "\r 49%|████▉     | 31/63 [00:22<00:23,  1.37it/s]"
          ]
        },
        {
          "output_type": "stream",
          "name": "stdout",
          "text": [
            "training logits: tensor([[0.5507, 0.2919, 0.1574],\n",
            "        [0.0227, 0.0795, 0.8978],\n",
            "        [0.3920, 0.0613, 0.5467],\n",
            "        [0.0539, 0.6626, 0.2835],\n",
            "        [0.0045, 0.9602, 0.0353],\n",
            "        [0.0170, 0.0977, 0.8853],\n",
            "        [0.0706, 0.1013, 0.8281],\n",
            "        [0.0169, 0.7454, 0.2378]], device='cuda:0', grad_fn=<SoftmaxBackward0>)\n",
            "training outputs\n",
            "tensor([[0.5507, 0.2919, 0.1574],\n",
            "        [0.0227, 0.0795, 0.8978],\n",
            "        [0.3920, 0.0613, 0.5467],\n",
            "        [0.0539, 0.6626, 0.2835],\n",
            "        [0.0045, 0.9602, 0.0353],\n",
            "        [0.0170, 0.0977, 0.8853],\n",
            "        [0.0706, 0.1013, 0.8281],\n",
            "        [0.0169, 0.7454, 0.2378]], device='cuda:0', grad_fn=<SoftmaxBackward0>)\n",
            "prediction: tensor([0, 2, 2, 1, 1, 2, 2, 1], device='cuda:0')\n",
            "train labels: tensor([0, 2, 1, 0, 1, 2, 2, 2], device='cuda:0')\n"
          ]
        },
        {
          "output_type": "stream",
          "name": "stderr",
          "text": [
            "\r 51%|█████     | 32/63 [00:23<00:22,  1.36it/s]"
          ]
        },
        {
          "output_type": "stream",
          "name": "stdout",
          "text": [
            "training logits: tensor([[0.9878, 0.0082, 0.0040],\n",
            "        [0.1424, 0.6586, 0.1990],\n",
            "        [0.0615, 0.8959, 0.0426],\n",
            "        [0.1608, 0.1629, 0.6763],\n",
            "        [0.0183, 0.9557, 0.0259],\n",
            "        [0.2711, 0.5842, 0.1447],\n",
            "        [0.0260, 0.0335, 0.9405],\n",
            "        [0.9829, 0.0055, 0.0116]], device='cuda:0', grad_fn=<SoftmaxBackward0>)\n",
            "training outputs\n",
            "tensor([[0.9878, 0.0082, 0.0040],\n",
            "        [0.1424, 0.6586, 0.1990],\n",
            "        [0.0615, 0.8959, 0.0426],\n",
            "        [0.1608, 0.1629, 0.6763],\n",
            "        [0.0183, 0.9557, 0.0259],\n",
            "        [0.2711, 0.5842, 0.1447],\n",
            "        [0.0260, 0.0335, 0.9405],\n",
            "        [0.9829, 0.0055, 0.0116]], device='cuda:0', grad_fn=<SoftmaxBackward0>)\n",
            "prediction: tensor([0, 1, 1, 2, 1, 1, 2, 0], device='cuda:0')\n",
            "train labels: tensor([0, 1, 1, 2, 1, 0, 2, 0], device='cuda:0')\n"
          ]
        },
        {
          "output_type": "stream",
          "name": "stderr",
          "text": [
            "\r 52%|█████▏    | 33/63 [00:23<00:22,  1.36it/s]"
          ]
        },
        {
          "output_type": "stream",
          "name": "stdout",
          "text": [
            "training logits: tensor([[0.0092, 0.9518, 0.0390],\n",
            "        [0.0406, 0.0443, 0.9151],\n",
            "        [0.8884, 0.0814, 0.0302],\n",
            "        [0.0052, 0.9668, 0.0281],\n",
            "        [0.0110, 0.9652, 0.0238],\n",
            "        [0.0582, 0.1877, 0.7540],\n",
            "        [0.0442, 0.8424, 0.1134],\n",
            "        [0.0595, 0.0286, 0.9119]], device='cuda:0', grad_fn=<SoftmaxBackward0>)\n",
            "training outputs\n",
            "tensor([[0.0092, 0.9518, 0.0390],\n",
            "        [0.0406, 0.0443, 0.9151],\n",
            "        [0.8884, 0.0814, 0.0302],\n",
            "        [0.0052, 0.9668, 0.0281],\n",
            "        [0.0110, 0.9652, 0.0238],\n",
            "        [0.0582, 0.1877, 0.7540],\n",
            "        [0.0442, 0.8424, 0.1134],\n",
            "        [0.0595, 0.0286, 0.9119]], device='cuda:0', grad_fn=<SoftmaxBackward0>)\n",
            "prediction: tensor([1, 2, 0, 1, 1, 2, 1, 2], device='cuda:0')\n",
            "train labels: tensor([1, 2, 0, 1, 1, 0, 0, 2], device='cuda:0')\n"
          ]
        },
        {
          "output_type": "stream",
          "name": "stderr",
          "text": [
            "\r 54%|█████▍    | 34/63 [00:24<00:21,  1.36it/s]"
          ]
        },
        {
          "output_type": "stream",
          "name": "stdout",
          "text": [
            "training logits: tensor([[0.9891, 0.0069, 0.0040],\n",
            "        [0.9751, 0.0160, 0.0089],\n",
            "        [0.1145, 0.8736, 0.0119],\n",
            "        [0.0069, 0.9689, 0.0242],\n",
            "        [0.0082, 0.9714, 0.0204],\n",
            "        [0.0057, 0.9492, 0.0451],\n",
            "        [0.0230, 0.2778, 0.6992],\n",
            "        [0.9812, 0.0048, 0.0140]], device='cuda:0', grad_fn=<SoftmaxBackward0>)\n",
            "training outputs\n",
            "tensor([[0.9891, 0.0069, 0.0040],\n",
            "        [0.9751, 0.0160, 0.0089],\n",
            "        [0.1145, 0.8736, 0.0119],\n",
            "        [0.0069, 0.9689, 0.0242],\n",
            "        [0.0082, 0.9714, 0.0204],\n",
            "        [0.0057, 0.9492, 0.0451],\n",
            "        [0.0230, 0.2778, 0.6992],\n",
            "        [0.9812, 0.0048, 0.0140]], device='cuda:0', grad_fn=<SoftmaxBackward0>)\n",
            "prediction: tensor([0, 0, 1, 1, 1, 1, 2, 0], device='cuda:0')\n",
            "train labels: tensor([0, 0, 1, 1, 1, 1, 2, 0], device='cuda:0')\n"
          ]
        },
        {
          "output_type": "stream",
          "name": "stderr",
          "text": [
            "\r 56%|█████▌    | 35/63 [00:25<00:20,  1.36it/s]"
          ]
        },
        {
          "output_type": "stream",
          "name": "stdout",
          "text": [
            "training logits: tensor([[0.0571, 0.0715, 0.8715],\n",
            "        [0.0054, 0.9835, 0.0111],\n",
            "        [0.0079, 0.9541, 0.0380],\n",
            "        [0.0603, 0.1051, 0.8346],\n",
            "        [0.1481, 0.1092, 0.7426],\n",
            "        [0.0080, 0.9821, 0.0100],\n",
            "        [0.0129, 0.9635, 0.0236],\n",
            "        [0.9905, 0.0053, 0.0042]], device='cuda:0', grad_fn=<SoftmaxBackward0>)\n",
            "training outputs\n",
            "tensor([[0.0571, 0.0715, 0.8715],\n",
            "        [0.0054, 0.9835, 0.0111],\n",
            "        [0.0079, 0.9541, 0.0380],\n",
            "        [0.0603, 0.1051, 0.8346],\n",
            "        [0.1481, 0.1092, 0.7426],\n",
            "        [0.0080, 0.9821, 0.0100],\n",
            "        [0.0129, 0.9635, 0.0236],\n",
            "        [0.9905, 0.0053, 0.0042]], device='cuda:0', grad_fn=<SoftmaxBackward0>)\n",
            "prediction: tensor([2, 1, 1, 2, 2, 1, 1, 0], device='cuda:0')\n",
            "train labels: tensor([2, 1, 1, 2, 2, 1, 1, 0], device='cuda:0')\n"
          ]
        },
        {
          "output_type": "stream",
          "name": "stderr",
          "text": [
            "\r 57%|█████▋    | 36/63 [00:26<00:19,  1.35it/s]"
          ]
        },
        {
          "output_type": "stream",
          "name": "stdout",
          "text": [
            "training logits: tensor([[0.0895, 0.0232, 0.8873],\n",
            "        [0.0613, 0.5365, 0.4022],\n",
            "        [0.0857, 0.0960, 0.8184],\n",
            "        [0.9719, 0.0137, 0.0144],\n",
            "        [0.1320, 0.4974, 0.3706],\n",
            "        [0.0106, 0.9798, 0.0096],\n",
            "        [0.3871, 0.5702, 0.0426],\n",
            "        [0.9869, 0.0055, 0.0076]], device='cuda:0', grad_fn=<SoftmaxBackward0>)\n",
            "training outputs\n",
            "tensor([[0.0895, 0.0232, 0.8873],\n",
            "        [0.0613, 0.5365, 0.4022],\n",
            "        [0.0857, 0.0960, 0.8184],\n",
            "        [0.9719, 0.0137, 0.0144],\n",
            "        [0.1320, 0.4974, 0.3706],\n",
            "        [0.0106, 0.9798, 0.0096],\n",
            "        [0.3871, 0.5702, 0.0426],\n",
            "        [0.9869, 0.0055, 0.0076]], device='cuda:0', grad_fn=<SoftmaxBackward0>)\n",
            "prediction: tensor([2, 1, 2, 0, 1, 1, 1, 0], device='cuda:0')\n",
            "train labels: tensor([2, 1, 2, 0, 0, 1, 2, 0], device='cuda:0')\n"
          ]
        },
        {
          "output_type": "stream",
          "name": "stderr",
          "text": [
            "\r 59%|█████▊    | 37/63 [00:26<00:19,  1.36it/s]"
          ]
        },
        {
          "output_type": "stream",
          "name": "stdout",
          "text": [
            "training logits: tensor([[0.9774, 0.0099, 0.0127],\n",
            "        [0.9839, 0.0104, 0.0057],\n",
            "        [0.0419, 0.1150, 0.8432],\n",
            "        [0.9842, 0.0074, 0.0084],\n",
            "        [0.9822, 0.0067, 0.0111],\n",
            "        [0.1474, 0.5499, 0.3028],\n",
            "        [0.9265, 0.0617, 0.0118],\n",
            "        [0.9432, 0.0119, 0.0449]], device='cuda:0', grad_fn=<SoftmaxBackward0>)\n",
            "training outputs\n",
            "tensor([[0.9774, 0.0099, 0.0127],\n",
            "        [0.9839, 0.0104, 0.0057],\n",
            "        [0.0419, 0.1150, 0.8432],\n",
            "        [0.9842, 0.0074, 0.0084],\n",
            "        [0.9822, 0.0067, 0.0111],\n",
            "        [0.1474, 0.5499, 0.3028],\n",
            "        [0.9265, 0.0617, 0.0118],\n",
            "        [0.9432, 0.0119, 0.0449]], device='cuda:0', grad_fn=<SoftmaxBackward0>)\n",
            "prediction: tensor([0, 0, 2, 0, 0, 1, 0, 0], device='cuda:0')\n",
            "train labels: tensor([0, 0, 2, 0, 0, 0, 0, 0], device='cuda:0')\n"
          ]
        },
        {
          "output_type": "stream",
          "name": "stderr",
          "text": [
            "\r 60%|██████    | 38/63 [00:27<00:18,  1.35it/s]"
          ]
        },
        {
          "output_type": "stream",
          "name": "stdout",
          "text": [
            "training logits: tensor([[0.0266, 0.1192, 0.8542],\n",
            "        [0.0182, 0.9201, 0.0617],\n",
            "        [0.0212, 0.0463, 0.9325],\n",
            "        [0.1314, 0.0382, 0.8304],\n",
            "        [0.0792, 0.0867, 0.8341],\n",
            "        [0.0457, 0.0316, 0.9227],\n",
            "        [0.0130, 0.9492, 0.0378],\n",
            "        [0.1403, 0.5302, 0.3294]], device='cuda:0', grad_fn=<SoftmaxBackward0>)\n",
            "training outputs\n",
            "tensor([[0.0266, 0.1192, 0.8542],\n",
            "        [0.0182, 0.9201, 0.0617],\n",
            "        [0.0212, 0.0463, 0.9325],\n",
            "        [0.1314, 0.0382, 0.8304],\n",
            "        [0.0792, 0.0867, 0.8341],\n",
            "        [0.0457, 0.0316, 0.9227],\n",
            "        [0.0130, 0.9492, 0.0378],\n",
            "        [0.1403, 0.5302, 0.3294]], device='cuda:0', grad_fn=<SoftmaxBackward0>)\n",
            "prediction: tensor([2, 1, 2, 2, 2, 2, 1, 1], device='cuda:0')\n",
            "train labels: tensor([2, 1, 2, 2, 2, 2, 1, 2], device='cuda:0')\n"
          ]
        },
        {
          "output_type": "stream",
          "name": "stderr",
          "text": [
            "\r 62%|██████▏   | 39/63 [00:28<00:17,  1.35it/s]"
          ]
        },
        {
          "output_type": "stream",
          "name": "stdout",
          "text": [
            "training logits: tensor([[0.0480, 0.0250, 0.9270],\n",
            "        [0.9888, 0.0060, 0.0052],\n",
            "        [0.0069, 0.9798, 0.0132],\n",
            "        [0.0053, 0.9818, 0.0129],\n",
            "        [0.6409, 0.1160, 0.2432],\n",
            "        [0.9720, 0.0197, 0.0082],\n",
            "        [0.9806, 0.0113, 0.0081],\n",
            "        [0.9125, 0.0505, 0.0370]], device='cuda:0', grad_fn=<SoftmaxBackward0>)\n",
            "training outputs\n",
            "tensor([[0.0480, 0.0250, 0.9270],\n",
            "        [0.9888, 0.0060, 0.0052],\n",
            "        [0.0069, 0.9798, 0.0132],\n",
            "        [0.0053, 0.9818, 0.0129],\n",
            "        [0.6409, 0.1160, 0.2432],\n",
            "        [0.9720, 0.0197, 0.0082],\n",
            "        [0.9806, 0.0113, 0.0081],\n",
            "        [0.9125, 0.0505, 0.0370]], device='cuda:0', grad_fn=<SoftmaxBackward0>)\n",
            "prediction: tensor([2, 0, 1, 1, 0, 0, 0, 0], device='cuda:0')\n",
            "train labels: tensor([2, 0, 1, 1, 0, 0, 0, 0], device='cuda:0')\n"
          ]
        },
        {
          "output_type": "stream",
          "name": "stderr",
          "text": [
            "\r 63%|██████▎   | 40/63 [00:29<00:17,  1.35it/s]"
          ]
        },
        {
          "output_type": "stream",
          "name": "stdout",
          "text": [
            "training logits: tensor([[0.0368, 0.1062, 0.8570],\n",
            "        [0.4478, 0.0647, 0.4875],\n",
            "        [0.1482, 0.0403, 0.8115],\n",
            "        [0.0207, 0.9420, 0.0373],\n",
            "        [0.0094, 0.9846, 0.0060],\n",
            "        [0.9484, 0.0327, 0.0189],\n",
            "        [0.5212, 0.3744, 0.1044],\n",
            "        [0.9836, 0.0065, 0.0098]], device='cuda:0', grad_fn=<SoftmaxBackward0>)\n",
            "training outputs\n",
            "tensor([[0.0368, 0.1062, 0.8570],\n",
            "        [0.4478, 0.0647, 0.4875],\n",
            "        [0.1482, 0.0403, 0.8115],\n",
            "        [0.0207, 0.9420, 0.0373],\n",
            "        [0.0094, 0.9846, 0.0060],\n",
            "        [0.9484, 0.0327, 0.0189],\n",
            "        [0.5212, 0.3744, 0.1044],\n",
            "        [0.9836, 0.0065, 0.0098]], device='cuda:0', grad_fn=<SoftmaxBackward0>)\n",
            "prediction: tensor([2, 2, 2, 1, 1, 0, 0, 0], device='cuda:0')\n",
            "train labels: tensor([2, 0, 2, 1, 1, 0, 0, 0], device='cuda:0')\n"
          ]
        },
        {
          "output_type": "stream",
          "name": "stderr",
          "text": [
            "\r 65%|██████▌   | 41/63 [00:29<00:16,  1.35it/s]"
          ]
        },
        {
          "output_type": "stream",
          "name": "stdout",
          "text": [
            "training logits: tensor([[0.2865, 0.6809, 0.0326],\n",
            "        [0.4262, 0.0393, 0.5345],\n",
            "        [0.0082, 0.9670, 0.0249],\n",
            "        [0.0044, 0.9855, 0.0101],\n",
            "        [0.9937, 0.0032, 0.0030],\n",
            "        [0.9887, 0.0065, 0.0048],\n",
            "        [0.0254, 0.6778, 0.2967],\n",
            "        [0.0677, 0.0959, 0.8364]], device='cuda:0', grad_fn=<SoftmaxBackward0>)\n",
            "training outputs\n",
            "tensor([[0.2865, 0.6809, 0.0326],\n",
            "        [0.4262, 0.0393, 0.5345],\n",
            "        [0.0082, 0.9670, 0.0249],\n",
            "        [0.0044, 0.9855, 0.0101],\n",
            "        [0.9937, 0.0032, 0.0030],\n",
            "        [0.9887, 0.0065, 0.0048],\n",
            "        [0.0254, 0.6778, 0.2967],\n",
            "        [0.0677, 0.0959, 0.8364]], device='cuda:0', grad_fn=<SoftmaxBackward0>)\n",
            "prediction: tensor([1, 2, 1, 1, 0, 0, 1, 2], device='cuda:0')\n",
            "train labels: tensor([1, 2, 1, 1, 0, 0, 0, 2], device='cuda:0')\n"
          ]
        },
        {
          "output_type": "stream",
          "name": "stderr",
          "text": [
            "\r 67%|██████▋   | 42/63 [00:30<00:15,  1.34it/s]"
          ]
        },
        {
          "output_type": "stream",
          "name": "stdout",
          "text": [
            "training logits: tensor([[0.3876, 0.5787, 0.0337],\n",
            "        [0.9905, 0.0057, 0.0038],\n",
            "        [0.0352, 0.0539, 0.9109],\n",
            "        [0.0655, 0.0546, 0.8799],\n",
            "        [0.2923, 0.6900, 0.0177],\n",
            "        [0.9892, 0.0056, 0.0052],\n",
            "        [0.0453, 0.0530, 0.9017],\n",
            "        [0.0292, 0.9496, 0.0212]], device='cuda:0', grad_fn=<SoftmaxBackward0>)\n",
            "training outputs\n",
            "tensor([[0.3876, 0.5787, 0.0337],\n",
            "        [0.9905, 0.0057, 0.0038],\n",
            "        [0.0352, 0.0539, 0.9109],\n",
            "        [0.0655, 0.0546, 0.8799],\n",
            "        [0.2923, 0.6900, 0.0177],\n",
            "        [0.9892, 0.0056, 0.0052],\n",
            "        [0.0453, 0.0530, 0.9017],\n",
            "        [0.0292, 0.9496, 0.0212]], device='cuda:0', grad_fn=<SoftmaxBackward0>)\n",
            "prediction: tensor([1, 0, 2, 2, 1, 0, 2, 1], device='cuda:0')\n",
            "train labels: tensor([1, 0, 2, 0, 0, 0, 2, 1], device='cuda:0')\n"
          ]
        },
        {
          "output_type": "stream",
          "name": "stderr",
          "text": [
            "\r 68%|██████▊   | 43/63 [00:31<00:14,  1.35it/s]"
          ]
        },
        {
          "output_type": "stream",
          "name": "stdout",
          "text": [
            "training logits: tensor([[0.5772, 0.0323, 0.3905],\n",
            "        [0.9876, 0.0067, 0.0057],\n",
            "        [0.0321, 0.0640, 0.9040],\n",
            "        [0.9912, 0.0051, 0.0037],\n",
            "        [0.0066, 0.9681, 0.0254],\n",
            "        [0.9395, 0.0406, 0.0199],\n",
            "        [0.9887, 0.0070, 0.0043],\n",
            "        [0.9848, 0.0084, 0.0067]], device='cuda:0', grad_fn=<SoftmaxBackward0>)\n",
            "training outputs\n",
            "tensor([[0.5772, 0.0323, 0.3905],\n",
            "        [0.9876, 0.0067, 0.0057],\n",
            "        [0.0321, 0.0640, 0.9040],\n",
            "        [0.9912, 0.0051, 0.0037],\n",
            "        [0.0066, 0.9681, 0.0254],\n",
            "        [0.9395, 0.0406, 0.0199],\n",
            "        [0.9887, 0.0070, 0.0043],\n",
            "        [0.9848, 0.0084, 0.0067]], device='cuda:0', grad_fn=<SoftmaxBackward0>)\n",
            "prediction: tensor([0, 0, 2, 0, 1, 0, 0, 0], device='cuda:0')\n",
            "train labels: tensor([0, 0, 2, 0, 1, 0, 0, 1], device='cuda:0')\n"
          ]
        },
        {
          "output_type": "stream",
          "name": "stderr",
          "text": [
            "\r 70%|██████▉   | 44/63 [00:32<00:14,  1.35it/s]"
          ]
        },
        {
          "output_type": "stream",
          "name": "stdout",
          "text": [
            "training logits: tensor([[0.0084, 0.9840, 0.0076],\n",
            "        [0.0098, 0.9694, 0.0208],\n",
            "        [0.0953, 0.1775, 0.7273],\n",
            "        [0.1011, 0.0919, 0.8070],\n",
            "        [0.0171, 0.9481, 0.0348],\n",
            "        [0.0266, 0.1419, 0.8315],\n",
            "        [0.9872, 0.0051, 0.0077],\n",
            "        [0.0647, 0.0675, 0.8678]], device='cuda:0', grad_fn=<SoftmaxBackward0>)\n",
            "training outputs\n",
            "tensor([[0.0084, 0.9840, 0.0076],\n",
            "        [0.0098, 0.9694, 0.0208],\n",
            "        [0.0953, 0.1775, 0.7273],\n",
            "        [0.1011, 0.0919, 0.8070],\n",
            "        [0.0171, 0.9481, 0.0348],\n",
            "        [0.0266, 0.1419, 0.8315],\n",
            "        [0.9872, 0.0051, 0.0077],\n",
            "        [0.0647, 0.0675, 0.8678]], device='cuda:0', grad_fn=<SoftmaxBackward0>)\n",
            "prediction: tensor([1, 1, 2, 2, 1, 2, 0, 2], device='cuda:0')\n",
            "train labels: tensor([1, 1, 2, 2, 1, 1, 0, 2], device='cuda:0')\n"
          ]
        },
        {
          "output_type": "stream",
          "name": "stderr",
          "text": [
            "\r 71%|███████▏  | 45/63 [00:32<00:13,  1.34it/s]"
          ]
        },
        {
          "output_type": "stream",
          "name": "stdout",
          "text": [
            "training logits: tensor([[0.1595, 0.0790, 0.7616],\n",
            "        [0.9904, 0.0062, 0.0034],\n",
            "        [0.9664, 0.0137, 0.0199],\n",
            "        [0.0364, 0.9489, 0.0147],\n",
            "        [0.2570, 0.6464, 0.0966],\n",
            "        [0.9687, 0.0193, 0.0120],\n",
            "        [0.0675, 0.9095, 0.0230],\n",
            "        [0.1500, 0.1531, 0.6969]], device='cuda:0', grad_fn=<SoftmaxBackward0>)\n",
            "training outputs\n",
            "tensor([[0.1595, 0.0790, 0.7616],\n",
            "        [0.9904, 0.0062, 0.0034],\n",
            "        [0.9664, 0.0137, 0.0199],\n",
            "        [0.0364, 0.9489, 0.0147],\n",
            "        [0.2570, 0.6464, 0.0966],\n",
            "        [0.9687, 0.0193, 0.0120],\n",
            "        [0.0675, 0.9095, 0.0230],\n",
            "        [0.1500, 0.1531, 0.6969]], device='cuda:0', grad_fn=<SoftmaxBackward0>)\n",
            "prediction: tensor([2, 0, 0, 1, 1, 0, 1, 2], device='cuda:0')\n",
            "train labels: tensor([1, 0, 0, 1, 1, 0, 1, 2], device='cuda:0')\n"
          ]
        },
        {
          "output_type": "stream",
          "name": "stderr",
          "text": [
            "\r 73%|███████▎  | 46/63 [00:33<00:12,  1.34it/s]"
          ]
        },
        {
          "output_type": "stream",
          "name": "stdout",
          "text": [
            "training logits: tensor([[0.1520, 0.0464, 0.8016],\n",
            "        [0.1189, 0.0342, 0.8469],\n",
            "        [0.0101, 0.9586, 0.0313],\n",
            "        [0.0364, 0.1154, 0.8482],\n",
            "        [0.0106, 0.9475, 0.0419],\n",
            "        [0.9701, 0.0168, 0.0131],\n",
            "        [0.0206, 0.9351, 0.0443],\n",
            "        [0.0130, 0.9467, 0.0404]], device='cuda:0', grad_fn=<SoftmaxBackward0>)\n",
            "training outputs\n",
            "tensor([[0.1520, 0.0464, 0.8016],\n",
            "        [0.1189, 0.0342, 0.8469],\n",
            "        [0.0101, 0.9586, 0.0313],\n",
            "        [0.0364, 0.1154, 0.8482],\n",
            "        [0.0106, 0.9475, 0.0419],\n",
            "        [0.9701, 0.0168, 0.0131],\n",
            "        [0.0206, 0.9351, 0.0443],\n",
            "        [0.0130, 0.9467, 0.0404]], device='cuda:0', grad_fn=<SoftmaxBackward0>)\n",
            "prediction: tensor([2, 2, 1, 2, 1, 0, 1, 1], device='cuda:0')\n",
            "train labels: tensor([2, 2, 1, 2, 1, 0, 1, 1], device='cuda:0')\n"
          ]
        },
        {
          "output_type": "stream",
          "name": "stderr",
          "text": [
            "\r 75%|███████▍  | 47/63 [00:34<00:11,  1.34it/s]"
          ]
        },
        {
          "output_type": "stream",
          "name": "stdout",
          "text": [
            "training logits: tensor([[0.9751, 0.0137, 0.0112],\n",
            "        [0.0406, 0.0626, 0.8968],\n",
            "        [0.0910, 0.0373, 0.8716],\n",
            "        [0.0273, 0.9376, 0.0351],\n",
            "        [0.9816, 0.0093, 0.0091],\n",
            "        [0.9756, 0.0131, 0.0113],\n",
            "        [0.0557, 0.1107, 0.8336],\n",
            "        [0.9195, 0.0278, 0.0526]], device='cuda:0', grad_fn=<SoftmaxBackward0>)\n",
            "training outputs\n",
            "tensor([[0.9751, 0.0137, 0.0112],\n",
            "        [0.0406, 0.0626, 0.8968],\n",
            "        [0.0910, 0.0373, 0.8716],\n",
            "        [0.0273, 0.9376, 0.0351],\n",
            "        [0.9816, 0.0093, 0.0091],\n",
            "        [0.9756, 0.0131, 0.0113],\n",
            "        [0.0557, 0.1107, 0.8336],\n",
            "        [0.9195, 0.0278, 0.0526]], device='cuda:0', grad_fn=<SoftmaxBackward0>)\n",
            "prediction: tensor([0, 2, 2, 1, 0, 0, 2, 0], device='cuda:0')\n",
            "train labels: tensor([0, 2, 2, 1, 0, 0, 2, 0], device='cuda:0')\n"
          ]
        },
        {
          "output_type": "stream",
          "name": "stderr",
          "text": [
            "\r 76%|███████▌  | 48/63 [00:35<00:11,  1.34it/s]"
          ]
        },
        {
          "output_type": "stream",
          "name": "stdout",
          "text": [
            "training logits: tensor([[0.0207, 0.9357, 0.0436],\n",
            "        [0.9938, 0.0031, 0.0031],\n",
            "        [0.8077, 0.0199, 0.1723],\n",
            "        [0.0125, 0.9455, 0.0419],\n",
            "        [0.2041, 0.2391, 0.5568],\n",
            "        [0.9823, 0.0120, 0.0057],\n",
            "        [0.9890, 0.0070, 0.0040],\n",
            "        [0.8115, 0.0412, 0.1473]], device='cuda:0', grad_fn=<SoftmaxBackward0>)\n",
            "training outputs\n",
            "tensor([[0.0207, 0.9357, 0.0436],\n",
            "        [0.9938, 0.0031, 0.0031],\n",
            "        [0.8077, 0.0199, 0.1723],\n",
            "        [0.0125, 0.9455, 0.0419],\n",
            "        [0.2041, 0.2391, 0.5568],\n",
            "        [0.9823, 0.0120, 0.0057],\n",
            "        [0.9890, 0.0070, 0.0040],\n",
            "        [0.8115, 0.0412, 0.1473]], device='cuda:0', grad_fn=<SoftmaxBackward0>)\n",
            "prediction: tensor([1, 0, 0, 1, 2, 0, 0, 0], device='cuda:0')\n",
            "train labels: tensor([1, 0, 2, 1, 0, 0, 0, 1], device='cuda:0')\n"
          ]
        },
        {
          "output_type": "stream",
          "name": "stderr",
          "text": [
            "\r 78%|███████▊  | 49/63 [00:35<00:10,  1.34it/s]"
          ]
        },
        {
          "output_type": "stream",
          "name": "stdout",
          "text": [
            "training logits: tensor([[0.9849, 0.0091, 0.0060],\n",
            "        [0.0391, 0.0461, 0.9148],\n",
            "        [0.0593, 0.0338, 0.9069],\n",
            "        [0.9516, 0.0376, 0.0108],\n",
            "        [0.0400, 0.8946, 0.0654],\n",
            "        [0.0230, 0.9441, 0.0329],\n",
            "        [0.9931, 0.0031, 0.0038],\n",
            "        [0.1181, 0.0337, 0.8482]], device='cuda:0', grad_fn=<SoftmaxBackward0>)\n",
            "training outputs\n",
            "tensor([[0.9849, 0.0091, 0.0060],\n",
            "        [0.0391, 0.0461, 0.9148],\n",
            "        [0.0593, 0.0338, 0.9069],\n",
            "        [0.9516, 0.0376, 0.0108],\n",
            "        [0.0400, 0.8946, 0.0654],\n",
            "        [0.0230, 0.9441, 0.0329],\n",
            "        [0.9931, 0.0031, 0.0038],\n",
            "        [0.1181, 0.0337, 0.8482]], device='cuda:0', grad_fn=<SoftmaxBackward0>)\n",
            "prediction: tensor([0, 2, 2, 0, 1, 1, 0, 2], device='cuda:0')\n",
            "train labels: tensor([0, 2, 2, 1, 1, 1, 0, 2], device='cuda:0')\n"
          ]
        },
        {
          "output_type": "stream",
          "name": "stderr",
          "text": [
            "\r 79%|███████▉  | 50/63 [00:36<00:09,  1.35it/s]"
          ]
        },
        {
          "output_type": "stream",
          "name": "stdout",
          "text": [
            "training logits: tensor([[0.9825, 0.0093, 0.0082],\n",
            "        [0.9877, 0.0028, 0.0095],\n",
            "        [0.0492, 0.4165, 0.5343],\n",
            "        [0.9911, 0.0025, 0.0064],\n",
            "        [0.1490, 0.1917, 0.6593],\n",
            "        [0.0150, 0.9770, 0.0080],\n",
            "        [0.0059, 0.9744, 0.0198],\n",
            "        [0.9893, 0.0041, 0.0065]], device='cuda:0', grad_fn=<SoftmaxBackward0>)\n",
            "training outputs\n",
            "tensor([[0.9825, 0.0093, 0.0082],\n",
            "        [0.9877, 0.0028, 0.0095],\n",
            "        [0.0492, 0.4165, 0.5343],\n",
            "        [0.9911, 0.0025, 0.0064],\n",
            "        [0.1490, 0.1917, 0.6593],\n",
            "        [0.0150, 0.9770, 0.0080],\n",
            "        [0.0059, 0.9744, 0.0198],\n",
            "        [0.9893, 0.0041, 0.0065]], device='cuda:0', grad_fn=<SoftmaxBackward0>)\n",
            "prediction: tensor([0, 0, 2, 0, 2, 1, 1, 0], device='cuda:0')\n",
            "train labels: tensor([0, 0, 2, 0, 2, 1, 1, 0], device='cuda:0')\n"
          ]
        },
        {
          "output_type": "stream",
          "name": "stderr",
          "text": [
            "\r 81%|████████  | 51/63 [00:37<00:08,  1.35it/s]"
          ]
        },
        {
          "output_type": "stream",
          "name": "stdout",
          "text": [
            "training logits: tensor([[0.4500, 0.0397, 0.5103],\n",
            "        [0.0284, 0.1093, 0.8623],\n",
            "        [0.9850, 0.0066, 0.0084],\n",
            "        [0.9770, 0.0156, 0.0075],\n",
            "        [0.0193, 0.0298, 0.9509],\n",
            "        [0.9893, 0.0063, 0.0044],\n",
            "        [0.0659, 0.0758, 0.8583],\n",
            "        [0.0269, 0.9170, 0.0561]], device='cuda:0', grad_fn=<SoftmaxBackward0>)\n",
            "training outputs\n",
            "tensor([[0.4500, 0.0397, 0.5103],\n",
            "        [0.0284, 0.1093, 0.8623],\n",
            "        [0.9850, 0.0066, 0.0084],\n",
            "        [0.9770, 0.0156, 0.0075],\n",
            "        [0.0193, 0.0298, 0.9509],\n",
            "        [0.9893, 0.0063, 0.0044],\n",
            "        [0.0659, 0.0758, 0.8583],\n",
            "        [0.0269, 0.9170, 0.0561]], device='cuda:0', grad_fn=<SoftmaxBackward0>)\n",
            "prediction: tensor([2, 2, 0, 0, 2, 0, 2, 1], device='cuda:0')\n",
            "train labels: tensor([2, 2, 0, 0, 2, 0, 2, 1], device='cuda:0')\n"
          ]
        },
        {
          "output_type": "stream",
          "name": "stderr",
          "text": [
            "\r 83%|████████▎ | 52/63 [00:37<00:08,  1.35it/s]"
          ]
        },
        {
          "output_type": "stream",
          "name": "stdout",
          "text": [
            "training logits: tensor([[0.0817, 0.0445, 0.8738],\n",
            "        [0.0152, 0.0416, 0.9432],\n",
            "        [0.7444, 0.1297, 0.1259],\n",
            "        [0.2344, 0.1535, 0.6121],\n",
            "        [0.9869, 0.0065, 0.0066],\n",
            "        [0.0046, 0.9579, 0.0375],\n",
            "        [0.0196, 0.0289, 0.9515],\n",
            "        [0.0527, 0.8523, 0.0950]], device='cuda:0', grad_fn=<SoftmaxBackward0>)\n",
            "training outputs\n",
            "tensor([[0.0817, 0.0445, 0.8738],\n",
            "        [0.0152, 0.0416, 0.9432],\n",
            "        [0.7444, 0.1297, 0.1259],\n",
            "        [0.2344, 0.1535, 0.6121],\n",
            "        [0.9869, 0.0065, 0.0066],\n",
            "        [0.0046, 0.9579, 0.0375],\n",
            "        [0.0196, 0.0289, 0.9515],\n",
            "        [0.0527, 0.8523, 0.0950]], device='cuda:0', grad_fn=<SoftmaxBackward0>)\n",
            "prediction: tensor([2, 2, 0, 2, 0, 1, 2, 1], device='cuda:0')\n",
            "train labels: tensor([2, 2, 0, 0, 0, 1, 2, 1], device='cuda:0')\n"
          ]
        },
        {
          "output_type": "stream",
          "name": "stderr",
          "text": [
            "\r 84%|████████▍ | 53/63 [00:38<00:07,  1.35it/s]"
          ]
        },
        {
          "output_type": "stream",
          "name": "stdout",
          "text": [
            "training logits: tensor([[0.0050, 0.9624, 0.0326],\n",
            "        [0.0063, 0.9774, 0.0163],\n",
            "        [0.0314, 0.0652, 0.9033],\n",
            "        [0.0299, 0.9508, 0.0193],\n",
            "        [0.9910, 0.0036, 0.0054],\n",
            "        [0.0069, 0.9828, 0.0103],\n",
            "        [0.9893, 0.0046, 0.0060],\n",
            "        [0.9812, 0.0080, 0.0108]], device='cuda:0', grad_fn=<SoftmaxBackward0>)\n",
            "training outputs\n",
            "tensor([[0.0050, 0.9624, 0.0326],\n",
            "        [0.0063, 0.9774, 0.0163],\n",
            "        [0.0314, 0.0652, 0.9033],\n",
            "        [0.0299, 0.9508, 0.0193],\n",
            "        [0.9910, 0.0036, 0.0054],\n",
            "        [0.0069, 0.9828, 0.0103],\n",
            "        [0.9893, 0.0046, 0.0060],\n",
            "        [0.9812, 0.0080, 0.0108]], device='cuda:0', grad_fn=<SoftmaxBackward0>)\n",
            "prediction: tensor([1, 1, 2, 1, 0, 1, 0, 0], device='cuda:0')\n",
            "train labels: tensor([1, 1, 2, 1, 0, 1, 0, 0], device='cuda:0')\n"
          ]
        },
        {
          "output_type": "stream",
          "name": "stderr",
          "text": [
            "\r 86%|████████▌ | 54/63 [00:39<00:06,  1.35it/s]"
          ]
        },
        {
          "output_type": "stream",
          "name": "stdout",
          "text": [
            "training logits: tensor([[0.9887, 0.0042, 0.0071],\n",
            "        [0.0315, 0.0683, 0.9002],\n",
            "        [0.9631, 0.0059, 0.0310],\n",
            "        [0.9828, 0.0051, 0.0120],\n",
            "        [0.0035, 0.9779, 0.0186],\n",
            "        [0.0553, 0.9043, 0.0404],\n",
            "        [0.9855, 0.0062, 0.0083],\n",
            "        [0.0154, 0.0186, 0.9659]], device='cuda:0', grad_fn=<SoftmaxBackward0>)\n",
            "training outputs\n",
            "tensor([[0.9887, 0.0042, 0.0071],\n",
            "        [0.0315, 0.0683, 0.9002],\n",
            "        [0.9631, 0.0059, 0.0310],\n",
            "        [0.9828, 0.0051, 0.0120],\n",
            "        [0.0035, 0.9779, 0.0186],\n",
            "        [0.0553, 0.9043, 0.0404],\n",
            "        [0.9855, 0.0062, 0.0083],\n",
            "        [0.0154, 0.0186, 0.9659]], device='cuda:0', grad_fn=<SoftmaxBackward0>)\n",
            "prediction: tensor([0, 2, 0, 0, 1, 1, 0, 2], device='cuda:0')\n",
            "train labels: tensor([0, 2, 2, 0, 1, 1, 0, 2], device='cuda:0')\n"
          ]
        },
        {
          "output_type": "stream",
          "name": "stderr",
          "text": [
            "\r 87%|████████▋ | 55/63 [00:40<00:05,  1.36it/s]"
          ]
        },
        {
          "output_type": "stream",
          "name": "stdout",
          "text": [
            "training logits: tensor([[0.0076, 0.7903, 0.2021],\n",
            "        [0.0193, 0.1300, 0.8507],\n",
            "        [0.9847, 0.0041, 0.0111],\n",
            "        [0.5445, 0.3966, 0.0589],\n",
            "        [0.2071, 0.1637, 0.6292],\n",
            "        [0.0230, 0.8575, 0.1195],\n",
            "        [0.0075, 0.9814, 0.0111],\n",
            "        [0.0588, 0.0193, 0.9219]], device='cuda:0', grad_fn=<SoftmaxBackward0>)\n",
            "training outputs\n",
            "tensor([[0.0076, 0.7903, 0.2021],\n",
            "        [0.0193, 0.1300, 0.8507],\n",
            "        [0.9847, 0.0041, 0.0111],\n",
            "        [0.5445, 0.3966, 0.0589],\n",
            "        [0.2071, 0.1637, 0.6292],\n",
            "        [0.0230, 0.8575, 0.1195],\n",
            "        [0.0075, 0.9814, 0.0111],\n",
            "        [0.0588, 0.0193, 0.9219]], device='cuda:0', grad_fn=<SoftmaxBackward0>)\n",
            "prediction: tensor([1, 2, 0, 0, 2, 1, 1, 2], device='cuda:0')\n",
            "train labels: tensor([2, 0, 0, 0, 2, 1, 1, 2], device='cuda:0')\n"
          ]
        },
        {
          "output_type": "stream",
          "name": "stderr",
          "text": [
            "\r 89%|████████▉ | 56/63 [00:40<00:05,  1.36it/s]"
          ]
        },
        {
          "output_type": "stream",
          "name": "stdout",
          "text": [
            "training logits: tensor([[0.7892, 0.0256, 0.1852],\n",
            "        [0.1152, 0.3107, 0.5741],\n",
            "        [0.9885, 0.0068, 0.0047],\n",
            "        [0.0319, 0.0199, 0.9481],\n",
            "        [0.1026, 0.8162, 0.0812],\n",
            "        [0.0631, 0.9224, 0.0145],\n",
            "        [0.0690, 0.1819, 0.7491],\n",
            "        [0.0110, 0.9553, 0.0337]], device='cuda:0', grad_fn=<SoftmaxBackward0>)\n",
            "training outputs\n",
            "tensor([[0.7892, 0.0256, 0.1852],\n",
            "        [0.1152, 0.3107, 0.5741],\n",
            "        [0.9885, 0.0068, 0.0047],\n",
            "        [0.0319, 0.0199, 0.9481],\n",
            "        [0.1026, 0.8162, 0.0812],\n",
            "        [0.0631, 0.9224, 0.0145],\n",
            "        [0.0690, 0.1819, 0.7491],\n",
            "        [0.0110, 0.9553, 0.0337]], device='cuda:0', grad_fn=<SoftmaxBackward0>)\n",
            "prediction: tensor([0, 2, 0, 2, 1, 1, 2, 1], device='cuda:0')\n",
            "train labels: tensor([2, 1, 0, 2, 1, 1, 2, 1], device='cuda:0')\n"
          ]
        },
        {
          "output_type": "stream",
          "name": "stderr",
          "text": [
            "\r 90%|█████████ | 57/63 [00:41<00:04,  1.37it/s]"
          ]
        },
        {
          "output_type": "stream",
          "name": "stdout",
          "text": [
            "training logits: tensor([[0.9822, 0.0060, 0.0117],\n",
            "        [0.9811, 0.0038, 0.0151],\n",
            "        [0.0053, 0.9534, 0.0413],\n",
            "        [0.0482, 0.0628, 0.8889],\n",
            "        [0.9832, 0.0045, 0.0123],\n",
            "        [0.9667, 0.0052, 0.0281],\n",
            "        [0.9835, 0.0039, 0.0126],\n",
            "        [0.9927, 0.0027, 0.0046]], device='cuda:0', grad_fn=<SoftmaxBackward0>)\n",
            "training outputs\n",
            "tensor([[0.9822, 0.0060, 0.0117],\n",
            "        [0.9811, 0.0038, 0.0151],\n",
            "        [0.0053, 0.9534, 0.0413],\n",
            "        [0.0482, 0.0628, 0.8889],\n",
            "        [0.9832, 0.0045, 0.0123],\n",
            "        [0.9667, 0.0052, 0.0281],\n",
            "        [0.9835, 0.0039, 0.0126],\n",
            "        [0.9927, 0.0027, 0.0046]], device='cuda:0', grad_fn=<SoftmaxBackward0>)\n",
            "prediction: tensor([0, 0, 1, 2, 0, 0, 0, 0], device='cuda:0')\n",
            "train labels: tensor([0, 0, 1, 2, 0, 0, 0, 0], device='cuda:0')\n"
          ]
        },
        {
          "output_type": "stream",
          "name": "stderr",
          "text": [
            "\r 92%|█████████▏| 58/63 [00:42<00:03,  1.37it/s]"
          ]
        },
        {
          "output_type": "stream",
          "name": "stdout",
          "text": [
            "training logits: tensor([[0.9764, 0.0188, 0.0048],\n",
            "        [0.0884, 0.3019, 0.6097],\n",
            "        [0.0931, 0.8660, 0.0409],\n",
            "        [0.0062, 0.9729, 0.0209],\n",
            "        [0.9539, 0.0067, 0.0394],\n",
            "        [0.0536, 0.0715, 0.8748],\n",
            "        [0.0055, 0.9836, 0.0108],\n",
            "        [0.9347, 0.0217, 0.0436]], device='cuda:0', grad_fn=<SoftmaxBackward0>)\n",
            "training outputs\n",
            "tensor([[0.9764, 0.0188, 0.0048],\n",
            "        [0.0884, 0.3019, 0.6097],\n",
            "        [0.0931, 0.8660, 0.0409],\n",
            "        [0.0062, 0.9729, 0.0209],\n",
            "        [0.9539, 0.0067, 0.0394],\n",
            "        [0.0536, 0.0715, 0.8748],\n",
            "        [0.0055, 0.9836, 0.0108],\n",
            "        [0.9347, 0.0217, 0.0436]], device='cuda:0', grad_fn=<SoftmaxBackward0>)\n",
            "prediction: tensor([0, 2, 1, 1, 0, 2, 1, 0], device='cuda:0')\n",
            "train labels: tensor([0, 1, 2, 1, 0, 2, 1, 0], device='cuda:0')\n"
          ]
        },
        {
          "output_type": "stream",
          "name": "stderr",
          "text": [
            "\r 94%|█████████▎| 59/63 [00:43<00:02,  1.37it/s]"
          ]
        },
        {
          "output_type": "stream",
          "name": "stdout",
          "text": [
            "training logits: tensor([[0.0484, 0.4910, 0.4606],\n",
            "        [0.9851, 0.0071, 0.0078],\n",
            "        [0.0073, 0.9667, 0.0260],\n",
            "        [0.0156, 0.8731, 0.1112],\n",
            "        [0.0701, 0.0259, 0.9040],\n",
            "        [0.0062, 0.9875, 0.0063],\n",
            "        [0.9883, 0.0019, 0.0098],\n",
            "        [0.9797, 0.0075, 0.0129]], device='cuda:0', grad_fn=<SoftmaxBackward0>)\n",
            "training outputs\n",
            "tensor([[0.0484, 0.4910, 0.4606],\n",
            "        [0.9851, 0.0071, 0.0078],\n",
            "        [0.0073, 0.9667, 0.0260],\n",
            "        [0.0156, 0.8731, 0.1112],\n",
            "        [0.0701, 0.0259, 0.9040],\n",
            "        [0.0062, 0.9875, 0.0063],\n",
            "        [0.9883, 0.0019, 0.0098],\n",
            "        [0.9797, 0.0075, 0.0129]], device='cuda:0', grad_fn=<SoftmaxBackward0>)\n",
            "prediction: tensor([1, 0, 1, 1, 2, 1, 0, 0], device='cuda:0')\n",
            "train labels: tensor([2, 0, 1, 1, 2, 1, 0, 0], device='cuda:0')\n"
          ]
        },
        {
          "output_type": "stream",
          "name": "stderr",
          "text": [
            "\r 95%|█████████▌| 60/63 [00:43<00:02,  1.37it/s]"
          ]
        },
        {
          "output_type": "stream",
          "name": "stdout",
          "text": [
            "training logits: tensor([[0.0594, 0.0717, 0.8689],\n",
            "        [0.0122, 0.9702, 0.0176],\n",
            "        [0.0482, 0.9450, 0.0068],\n",
            "        [0.9922, 0.0034, 0.0044],\n",
            "        [0.0061, 0.9826, 0.0113],\n",
            "        [0.9810, 0.0091, 0.0099],\n",
            "        [0.1160, 0.0503, 0.8337],\n",
            "        [0.0226, 0.9605, 0.0169]], device='cuda:0', grad_fn=<SoftmaxBackward0>)\n",
            "training outputs\n",
            "tensor([[0.0594, 0.0717, 0.8689],\n",
            "        [0.0122, 0.9702, 0.0176],\n",
            "        [0.0482, 0.9450, 0.0068],\n",
            "        [0.9922, 0.0034, 0.0044],\n",
            "        [0.0061, 0.9826, 0.0113],\n",
            "        [0.9810, 0.0091, 0.0099],\n",
            "        [0.1160, 0.0503, 0.8337],\n",
            "        [0.0226, 0.9605, 0.0169]], device='cuda:0', grad_fn=<SoftmaxBackward0>)\n",
            "prediction: tensor([2, 1, 1, 0, 1, 0, 2, 1], device='cuda:0')\n",
            "train labels: tensor([2, 1, 1, 0, 1, 0, 2, 1], device='cuda:0')\n"
          ]
        },
        {
          "output_type": "stream",
          "name": "stderr",
          "text": [
            "\r 97%|█████████▋| 61/63 [00:44<00:01,  1.37it/s]"
          ]
        },
        {
          "output_type": "stream",
          "name": "stdout",
          "text": [
            "training logits: tensor([[0.1462, 0.2033, 0.6505],\n",
            "        [0.0047, 0.9873, 0.0080],\n",
            "        [0.4279, 0.0780, 0.4941],\n",
            "        [0.0396, 0.0277, 0.9327],\n",
            "        [0.0039, 0.9853, 0.0108],\n",
            "        [0.9848, 0.0035, 0.0117],\n",
            "        [0.9865, 0.0028, 0.0107],\n",
            "        [0.0282, 0.0252, 0.9466]], device='cuda:0', grad_fn=<SoftmaxBackward0>)\n",
            "training outputs\n",
            "tensor([[0.1462, 0.2033, 0.6505],\n",
            "        [0.0047, 0.9873, 0.0080],\n",
            "        [0.4279, 0.0780, 0.4941],\n",
            "        [0.0396, 0.0277, 0.9327],\n",
            "        [0.0039, 0.9853, 0.0108],\n",
            "        [0.9848, 0.0035, 0.0117],\n",
            "        [0.9865, 0.0028, 0.0107],\n",
            "        [0.0282, 0.0252, 0.9466]], device='cuda:0', grad_fn=<SoftmaxBackward0>)\n",
            "prediction: tensor([2, 1, 2, 2, 1, 0, 0, 2], device='cuda:0')\n",
            "train labels: tensor([1, 1, 2, 2, 1, 0, 0, 2], device='cuda:0')\n"
          ]
        },
        {
          "output_type": "stream",
          "name": "stderr",
          "text": [
            "\r 98%|█████████▊| 62/63 [00:45<00:00,  1.37it/s]"
          ]
        },
        {
          "output_type": "stream",
          "name": "stdout",
          "text": [
            "training logits: tensor([[0.0185, 0.6761, 0.3053],\n",
            "        [0.0049, 0.9852, 0.0099],\n",
            "        [0.9872, 0.0052, 0.0076],\n",
            "        [0.9784, 0.0049, 0.0167]], device='cuda:0', grad_fn=<SoftmaxBackward0>)\n",
            "training outputs\n",
            "tensor([[0.0185, 0.6761, 0.3053],\n",
            "        [0.0049, 0.9852, 0.0099],\n",
            "        [0.9872, 0.0052, 0.0076],\n",
            "        [0.9784, 0.0049, 0.0167]], device='cuda:0', grad_fn=<SoftmaxBackward0>)\n",
            "prediction: tensor([1, 1, 0, 0], device='cuda:0')\n",
            "train labels: tensor([1, 1, 0, 0], device='cuda:0')\n"
          ]
        },
        {
          "output_type": "stream",
          "name": "stderr",
          "text": [
            "100%|██████████| 63/63 [00:45<00:00,  1.38it/s]\n"
          ]
        },
        {
          "output_type": "stream",
          "name": "stdout",
          "text": [
            "tensor([2, 1, 0, 2, 0, 1, 1, 0], device='cuda:0')\n",
            "validating logits: tensor([[0.0184, 0.0295, 0.9521],\n",
            "        [0.0034, 0.9648, 0.0318],\n",
            "        [0.9871, 0.0053, 0.0076],\n",
            "        [0.2326, 0.1866, 0.5808],\n",
            "        [0.9546, 0.0077, 0.0377],\n",
            "        [0.0246, 0.9416, 0.0338],\n",
            "        [0.0426, 0.9110, 0.0465],\n",
            "        [0.9601, 0.0104, 0.0295]], device='cuda:0')\n",
            "prediction: tensor([2, 1, 0, 2, 0, 1, 1, 0], device='cuda:0')\n",
            "tensor([[0.0184, 0.0295, 0.9521],\n",
            "        [0.0034, 0.9648, 0.0318],\n",
            "        [0.9871, 0.0053, 0.0076],\n",
            "        [0.2326, 0.1866, 0.5808],\n",
            "        [0.9546, 0.0077, 0.0377],\n",
            "        [0.0246, 0.9416, 0.0338],\n",
            "        [0.0426, 0.9110, 0.0465],\n",
            "        [0.9601, 0.0104, 0.0295]], device='cuda:0')\n",
            "tensor([2, 2, 1, 2, 2, 1, 0, 2], device='cuda:0')\n",
            "validating logits: tensor([[0.0323, 0.0423, 0.9253],\n",
            "        [0.0220, 0.0380, 0.9400],\n",
            "        [0.0325, 0.9545, 0.0130],\n",
            "        [0.0664, 0.0402, 0.8933],\n",
            "        [0.0755, 0.0217, 0.9028],\n",
            "        [0.0077, 0.9874, 0.0049],\n",
            "        [0.9845, 0.0037, 0.0117],\n",
            "        [0.0951, 0.0431, 0.8618]], device='cuda:0')\n",
            "prediction: tensor([2, 2, 1, 2, 2, 1, 0, 2], device='cuda:0')\n",
            "tensor([[0.0323, 0.0423, 0.9253],\n",
            "        [0.0220, 0.0380, 0.9400],\n",
            "        [0.0325, 0.9545, 0.0130],\n",
            "        [0.0664, 0.0402, 0.8933],\n",
            "        [0.0755, 0.0217, 0.9028],\n",
            "        [0.0077, 0.9874, 0.0049],\n",
            "        [0.9845, 0.0037, 0.0117],\n",
            "        [0.0951, 0.0431, 0.8618]], device='cuda:0')\n",
            "tensor([1, 0, 0, 1, 2, 2, 1, 0], device='cuda:0')\n",
            "validating logits: tensor([[0.0110, 0.9422, 0.0469],\n",
            "        [0.9775, 0.0065, 0.0160],\n",
            "        [0.9884, 0.0033, 0.0083],\n",
            "        [0.0043, 0.9845, 0.0112],\n",
            "        [0.0218, 0.0679, 0.9103],\n",
            "        [0.0781, 0.0871, 0.8347],\n",
            "        [0.0103, 0.9431, 0.0466],\n",
            "        [0.9845, 0.0022, 0.0133]], device='cuda:0')\n",
            "prediction: tensor([1, 0, 0, 1, 2, 2, 1, 0], device='cuda:0')\n",
            "tensor([[0.0110, 0.9422, 0.0469],\n",
            "        [0.9775, 0.0065, 0.0160],\n",
            "        [0.9884, 0.0033, 0.0083],\n",
            "        [0.0043, 0.9845, 0.0112],\n",
            "        [0.0218, 0.0679, 0.9103],\n",
            "        [0.0781, 0.0871, 0.8347],\n",
            "        [0.0103, 0.9431, 0.0466],\n",
            "        [0.9845, 0.0022, 0.0133]], device='cuda:0')\n",
            "tensor([1, 0, 2, 2, 1, 0, 2, 0], device='cuda:0')\n",
            "validating logits: tensor([[0.0195, 0.9615, 0.0190],\n",
            "        [0.9845, 0.0072, 0.0083],\n",
            "        [0.0609, 0.0723, 0.8668],\n",
            "        [0.0266, 0.0325, 0.9409],\n",
            "        [0.0851, 0.8915, 0.0234],\n",
            "        [0.9565, 0.0037, 0.0398],\n",
            "        [0.0602, 0.0202, 0.9196],\n",
            "        [0.9577, 0.0025, 0.0397]], device='cuda:0')\n",
            "prediction: tensor([1, 0, 2, 2, 1, 0, 2, 0], device='cuda:0')\n",
            "tensor([[0.0195, 0.9615, 0.0190],\n",
            "        [0.9845, 0.0072, 0.0083],\n",
            "        [0.0609, 0.0723, 0.8668],\n",
            "        [0.0266, 0.0325, 0.9409],\n",
            "        [0.0851, 0.8915, 0.0234],\n",
            "        [0.9565, 0.0037, 0.0398],\n",
            "        [0.0602, 0.0202, 0.9196],\n",
            "        [0.9577, 0.0025, 0.0397]], device='cuda:0')\n",
            "tensor([1, 1, 2, 0, 1, 0, 2, 2], device='cuda:0')\n",
            "validating logits: tensor([[0.0024, 0.9878, 0.0098],\n",
            "        [0.0040, 0.9684, 0.0276],\n",
            "        [0.0240, 0.1032, 0.8728],\n",
            "        [0.2208, 0.0813, 0.6979],\n",
            "        [0.0079, 0.9815, 0.0106],\n",
            "        [0.9720, 0.0048, 0.0232],\n",
            "        [0.0237, 0.0624, 0.9139],\n",
            "        [0.0686, 0.0127, 0.9187]], device='cuda:0')\n",
            "prediction: tensor([1, 1, 2, 2, 1, 0, 2, 2], device='cuda:0')\n",
            "tensor([[0.0024, 0.9878, 0.0098],\n",
            "        [0.0040, 0.9684, 0.0276],\n",
            "        [0.0240, 0.1032, 0.8728],\n",
            "        [0.2208, 0.0813, 0.6979],\n",
            "        [0.0079, 0.9815, 0.0106],\n",
            "        [0.9720, 0.0048, 0.0232],\n",
            "        [0.0237, 0.0624, 0.9139],\n",
            "        [0.0686, 0.0127, 0.9187]], device='cuda:0')\n",
            "tensor([0, 1, 2, 0, 0, 0, 2, 1], device='cuda:0')\n",
            "validating logits: tensor([[0.9744, 0.0038, 0.0218],\n",
            "        [0.0133, 0.9665, 0.0202],\n",
            "        [0.1508, 0.1216, 0.7276],\n",
            "        [0.9900, 0.0037, 0.0062],\n",
            "        [0.9855, 0.0044, 0.0101],\n",
            "        [0.9726, 0.0042, 0.0232],\n",
            "        [0.0270, 0.0386, 0.9344],\n",
            "        [0.0066, 0.9770, 0.0164]], device='cuda:0')\n",
            "prediction: tensor([0, 1, 2, 0, 0, 0, 2, 1], device='cuda:0')\n",
            "tensor([[0.9744, 0.0038, 0.0218],\n",
            "        [0.0133, 0.9665, 0.0202],\n",
            "        [0.1508, 0.1216, 0.7276],\n",
            "        [0.9900, 0.0037, 0.0062],\n",
            "        [0.9855, 0.0044, 0.0101],\n",
            "        [0.9726, 0.0042, 0.0232],\n",
            "        [0.0270, 0.0386, 0.9344],\n",
            "        [0.0066, 0.9770, 0.0164]], device='cuda:0')\n",
            "tensor([1, 0, 2, 1, 0, 2, 1, 2], device='cuda:0')\n",
            "validating logits: tensor([[0.0111, 0.8624, 0.1264],\n",
            "        [0.9256, 0.0355, 0.0389],\n",
            "        [0.0574, 0.0452, 0.8974],\n",
            "        [0.0223, 0.9613, 0.0164],\n",
            "        [0.9315, 0.0081, 0.0604],\n",
            "        [0.0572, 0.0524, 0.8904],\n",
            "        [0.0558, 0.9172, 0.0271],\n",
            "        [0.0392, 0.0663, 0.8944]], device='cuda:0')\n",
            "prediction: tensor([1, 0, 2, 1, 0, 2, 1, 2], device='cuda:0')\n",
            "tensor([[0.0111, 0.8624, 0.1264],\n",
            "        [0.9256, 0.0355, 0.0389],\n",
            "        [0.0574, 0.0452, 0.8974],\n",
            "        [0.0223, 0.9613, 0.0164],\n",
            "        [0.9315, 0.0081, 0.0604],\n",
            "        [0.0572, 0.0524, 0.8904],\n",
            "        [0.0558, 0.9172, 0.0271],\n",
            "        [0.0392, 0.0663, 0.8944]], device='cuda:0')\n",
            "tensor([0, 2, 1, 0, 0, 1, 2, 0], device='cuda:0')\n",
            "validating logits: tensor([[0.9875, 0.0036, 0.0089],\n",
            "        [0.0750, 0.1255, 0.7995],\n",
            "        [0.4981, 0.2129, 0.2890],\n",
            "        [0.2869, 0.6337, 0.0794],\n",
            "        [0.0447, 0.0172, 0.9382],\n",
            "        [0.1402, 0.0791, 0.7806],\n",
            "        [0.0535, 0.0587, 0.8877],\n",
            "        [0.1450, 0.0379, 0.8171]], device='cuda:0')\n",
            "prediction: tensor([0, 2, 0, 1, 2, 2, 2, 2], device='cuda:0')\n",
            "tensor([[0.9875, 0.0036, 0.0089],\n",
            "        [0.0750, 0.1255, 0.7995],\n",
            "        [0.4981, 0.2129, 0.2890],\n",
            "        [0.2869, 0.6337, 0.0794],\n",
            "        [0.0447, 0.0172, 0.9382],\n",
            "        [0.1402, 0.0791, 0.7806],\n",
            "        [0.0535, 0.0587, 0.8877],\n",
            "        [0.1450, 0.0379, 0.8171]], device='cuda:0')\n",
            "tensor([2, 1, 1, 0, 2, 1, 0, 2], device='cuda:0')\n",
            "validating logits: tensor([[0.0251, 0.0734, 0.9015],\n",
            "        [0.0355, 0.8893, 0.0752],\n",
            "        [0.0243, 0.7255, 0.2502],\n",
            "        [0.3146, 0.3758, 0.3096],\n",
            "        [0.0777, 0.1207, 0.8016],\n",
            "        [0.0588, 0.4299, 0.5113],\n",
            "        [0.0813, 0.1877, 0.7310],\n",
            "        [0.2670, 0.6518, 0.0812]], device='cuda:0')\n",
            "prediction: tensor([2, 1, 1, 1, 2, 2, 2, 1], device='cuda:0')\n",
            "tensor([[0.0251, 0.0734, 0.9015],\n",
            "        [0.0355, 0.8893, 0.0752],\n",
            "        [0.0243, 0.7255, 0.2502],\n",
            "        [0.3146, 0.3758, 0.3096],\n",
            "        [0.0777, 0.1207, 0.8016],\n",
            "        [0.0588, 0.4299, 0.5113],\n",
            "        [0.0813, 0.1877, 0.7310],\n",
            "        [0.2670, 0.6518, 0.0812]], device='cuda:0')\n",
            "tensor([2, 1, 0, 2, 1, 0, 1, 0], device='cuda:0')\n",
            "validating logits: tensor([[0.2522, 0.7144, 0.0335],\n",
            "        [0.0413, 0.4318, 0.5269],\n",
            "        [0.9667, 0.0129, 0.0204],\n",
            "        [0.0396, 0.1393, 0.8210],\n",
            "        [0.1042, 0.8082, 0.0876],\n",
            "        [0.9928, 0.0018, 0.0054],\n",
            "        [0.0333, 0.9431, 0.0236],\n",
            "        [0.1211, 0.0900, 0.7888]], device='cuda:0')\n",
            "prediction: tensor([1, 2, 0, 2, 1, 0, 1, 2], device='cuda:0')\n",
            "tensor([[0.2522, 0.7144, 0.0335],\n",
            "        [0.0413, 0.4318, 0.5269],\n",
            "        [0.9667, 0.0129, 0.0204],\n",
            "        [0.0396, 0.1393, 0.8210],\n",
            "        [0.1042, 0.8082, 0.0876],\n",
            "        [0.9928, 0.0018, 0.0054],\n",
            "        [0.0333, 0.9431, 0.0236],\n",
            "        [0.1211, 0.0900, 0.7888]], device='cuda:0')\n",
            "tensor([2, 2, 1, 0, 0, 1, 2, 1], device='cuda:0')\n",
            "validating logits: tensor([[0.0855, 0.0498, 0.8647],\n",
            "        [0.9583, 0.0187, 0.0230],\n",
            "        [0.1309, 0.7939, 0.0751],\n",
            "        [0.9866, 0.0034, 0.0100],\n",
            "        [0.9504, 0.0148, 0.0348],\n",
            "        [0.2433, 0.7105, 0.0463],\n",
            "        [0.0589, 0.0454, 0.8957],\n",
            "        [0.0221, 0.9683, 0.0096]], device='cuda:0')\n",
            "prediction: tensor([2, 0, 1, 0, 0, 1, 2, 1], device='cuda:0')\n",
            "tensor([[0.0855, 0.0498, 0.8647],\n",
            "        [0.9583, 0.0187, 0.0230],\n",
            "        [0.1309, 0.7939, 0.0751],\n",
            "        [0.9866, 0.0034, 0.0100],\n",
            "        [0.9504, 0.0148, 0.0348],\n",
            "        [0.2433, 0.7105, 0.0463],\n",
            "        [0.0589, 0.0454, 0.8957],\n",
            "        [0.0221, 0.9683, 0.0096]], device='cuda:0')\n",
            "tensor([0, 2, 1, 0, 1, 2, 1, 2], device='cuda:0')\n",
            "validating logits: tensor([[0.9486, 0.0086, 0.0428],\n",
            "        [0.0477, 0.0617, 0.8906],\n",
            "        [0.0236, 0.9648, 0.0115],\n",
            "        [0.9855, 0.0047, 0.0098],\n",
            "        [0.0074, 0.9856, 0.0070],\n",
            "        [0.0310, 0.0332, 0.9359],\n",
            "        [0.0052, 0.9666, 0.0281],\n",
            "        [0.0374, 0.1303, 0.8323]], device='cuda:0')\n",
            "prediction: tensor([0, 2, 1, 0, 1, 2, 1, 2], device='cuda:0')\n",
            "tensor([[0.9486, 0.0086, 0.0428],\n",
            "        [0.0477, 0.0617, 0.8906],\n",
            "        [0.0236, 0.9648, 0.0115],\n",
            "        [0.9855, 0.0047, 0.0098],\n",
            "        [0.0074, 0.9856, 0.0070],\n",
            "        [0.0310, 0.0332, 0.9359],\n",
            "        [0.0052, 0.9666, 0.0281],\n",
            "        [0.0374, 0.1303, 0.8323]], device='cuda:0')\n",
            "tensor([0, 2, 2, 0], device='cuda:0')\n",
            "validating logits: tensor([[0.9905, 0.0023, 0.0072],\n",
            "        [0.0303, 0.0217, 0.9480],\n",
            "        [0.0551, 0.0854, 0.8596],\n",
            "        [0.9868, 0.0047, 0.0085]], device='cuda:0')\n",
            "prediction: tensor([0, 2, 2, 0], device='cuda:0')\n",
            "tensor([[0.9905, 0.0023, 0.0072],\n",
            "        [0.0303, 0.0217, 0.9480],\n",
            "        [0.0551, 0.0854, 0.8596],\n",
            "        [0.9868, 0.0047, 0.0085]], device='cuda:0')\n",
            "Epochs: 7 | Train Loss:  0.094             | Train Accuracy:  0.836             | Val Loss:  0.091             | Val Accuracy:  0.860\n",
            "Found a better model\n"
          ]
        },
        {
          "output_type": "stream",
          "name": "stderr",
          "text": [
            "\r  0%|          | 0/63 [00:00<?, ?it/s]"
          ]
        },
        {
          "output_type": "stream",
          "name": "stdout",
          "text": [
            "training logits: tensor([[0.0056, 0.9647, 0.0297],\n",
            "        [0.9825, 0.0080, 0.0094],\n",
            "        [0.9771, 0.0069, 0.0160],\n",
            "        [0.0346, 0.4006, 0.5648],\n",
            "        [0.0389, 0.0816, 0.8796],\n",
            "        [0.0346, 0.0615, 0.9040],\n",
            "        [0.0071, 0.9789, 0.0140],\n",
            "        [0.0988, 0.3211, 0.5801]], device='cuda:0', grad_fn=<SoftmaxBackward0>)\n",
            "training outputs\n",
            "tensor([[0.0056, 0.9647, 0.0297],\n",
            "        [0.9825, 0.0080, 0.0094],\n",
            "        [0.9771, 0.0069, 0.0160],\n",
            "        [0.0346, 0.4006, 0.5648],\n",
            "        [0.0389, 0.0816, 0.8796],\n",
            "        [0.0346, 0.0615, 0.9040],\n",
            "        [0.0071, 0.9789, 0.0140],\n",
            "        [0.0988, 0.3211, 0.5801]], device='cuda:0', grad_fn=<SoftmaxBackward0>)\n",
            "prediction: tensor([1, 0, 0, 2, 2, 2, 1, 2], device='cuda:0')\n",
            "train labels: tensor([1, 0, 0, 1, 2, 1, 1, 2], device='cuda:0')\n"
          ]
        },
        {
          "output_type": "stream",
          "name": "stderr",
          "text": [
            "\r  2%|▏         | 1/63 [00:00<00:46,  1.34it/s]"
          ]
        },
        {
          "output_type": "stream",
          "name": "stdout",
          "text": [
            "training logits: tensor([[0.9870, 0.0034, 0.0096],\n",
            "        [0.0127, 0.0302, 0.9571],\n",
            "        [0.0209, 0.0250, 0.9541],\n",
            "        [0.0408, 0.0392, 0.9200],\n",
            "        [0.0843, 0.8534, 0.0623],\n",
            "        [0.0419, 0.0464, 0.9118],\n",
            "        [0.3138, 0.2655, 0.4207],\n",
            "        [0.0262, 0.0378, 0.9360]], device='cuda:0', grad_fn=<SoftmaxBackward0>)\n",
            "training outputs\n",
            "tensor([[0.9870, 0.0034, 0.0096],\n",
            "        [0.0127, 0.0302, 0.9571],\n",
            "        [0.0209, 0.0250, 0.9541],\n",
            "        [0.0408, 0.0392, 0.9200],\n",
            "        [0.0843, 0.8534, 0.0623],\n",
            "        [0.0419, 0.0464, 0.9118],\n",
            "        [0.3138, 0.2655, 0.4207],\n",
            "        [0.0262, 0.0378, 0.9360]], device='cuda:0', grad_fn=<SoftmaxBackward0>)\n",
            "prediction: tensor([0, 2, 2, 2, 1, 2, 2, 2], device='cuda:0')\n",
            "train labels: tensor([0, 2, 0, 2, 2, 2, 0, 2], device='cuda:0')\n"
          ]
        },
        {
          "output_type": "stream",
          "name": "stderr",
          "text": [
            "\r  3%|▎         | 2/63 [00:01<00:43,  1.40it/s]"
          ]
        },
        {
          "output_type": "stream",
          "name": "stdout",
          "text": [
            "training logits: tensor([[0.0153, 0.0887, 0.8960],\n",
            "        [0.0707, 0.0577, 0.8716],\n",
            "        [0.9682, 0.0038, 0.0280],\n",
            "        [0.0374, 0.0434, 0.9192],\n",
            "        [0.0240, 0.0522, 0.9238],\n",
            "        [0.0702, 0.1084, 0.8214],\n",
            "        [0.0101, 0.9811, 0.0088],\n",
            "        [0.9928, 0.0031, 0.0041]], device='cuda:0', grad_fn=<SoftmaxBackward0>)\n",
            "training outputs\n",
            "tensor([[0.0153, 0.0887, 0.8960],\n",
            "        [0.0707, 0.0577, 0.8716],\n",
            "        [0.9682, 0.0038, 0.0280],\n",
            "        [0.0374, 0.0434, 0.9192],\n",
            "        [0.0240, 0.0522, 0.9238],\n",
            "        [0.0702, 0.1084, 0.8214],\n",
            "        [0.0101, 0.9811, 0.0088],\n",
            "        [0.9928, 0.0031, 0.0041]], device='cuda:0', grad_fn=<SoftmaxBackward0>)\n",
            "prediction: tensor([2, 2, 0, 2, 2, 2, 1, 0], device='cuda:0')\n",
            "train labels: tensor([2, 0, 0, 2, 2, 2, 1, 0], device='cuda:0')\n"
          ]
        },
        {
          "output_type": "stream",
          "name": "stderr",
          "text": [
            "\r  5%|▍         | 3/63 [00:02<00:42,  1.41it/s]"
          ]
        },
        {
          "output_type": "stream",
          "name": "stdout",
          "text": [
            "training logits: tensor([[0.0063, 0.9713, 0.0224],\n",
            "        [0.0054, 0.9695, 0.0252],\n",
            "        [0.9817, 0.0056, 0.0127],\n",
            "        [0.0035, 0.9880, 0.0085],\n",
            "        [0.0990, 0.0523, 0.8488],\n",
            "        [0.0181, 0.9685, 0.0133],\n",
            "        [0.1405, 0.8267, 0.0329],\n",
            "        [0.9088, 0.0475, 0.0437]], device='cuda:0', grad_fn=<SoftmaxBackward0>)\n",
            "training outputs\n",
            "tensor([[0.0063, 0.9713, 0.0224],\n",
            "        [0.0054, 0.9695, 0.0252],\n",
            "        [0.9817, 0.0056, 0.0127],\n",
            "        [0.0035, 0.9880, 0.0085],\n",
            "        [0.0990, 0.0523, 0.8488],\n",
            "        [0.0181, 0.9685, 0.0133],\n",
            "        [0.1405, 0.8267, 0.0329],\n",
            "        [0.9088, 0.0475, 0.0437]], device='cuda:0', grad_fn=<SoftmaxBackward0>)\n",
            "prediction: tensor([1, 1, 0, 1, 2, 1, 1, 0], device='cuda:0')\n",
            "train labels: tensor([1, 1, 0, 1, 0, 1, 1, 1], device='cuda:0')\n"
          ]
        },
        {
          "output_type": "stream",
          "name": "stderr",
          "text": [
            "\r  6%|▋         | 4/63 [00:02<00:41,  1.41it/s]"
          ]
        },
        {
          "output_type": "stream",
          "name": "stdout",
          "text": [
            "training logits: tensor([[0.0161, 0.0425, 0.9414],\n",
            "        [0.9864, 0.0037, 0.0099],\n",
            "        [0.0246, 0.2791, 0.6963],\n",
            "        [0.9883, 0.0062, 0.0055],\n",
            "        [0.0062, 0.9671, 0.0267],\n",
            "        [0.0251, 0.0877, 0.8872],\n",
            "        [0.0053, 0.9803, 0.0144],\n",
            "        [0.9748, 0.0141, 0.0111]], device='cuda:0', grad_fn=<SoftmaxBackward0>)\n",
            "training outputs\n",
            "tensor([[0.0161, 0.0425, 0.9414],\n",
            "        [0.9864, 0.0037, 0.0099],\n",
            "        [0.0246, 0.2791, 0.6963],\n",
            "        [0.9883, 0.0062, 0.0055],\n",
            "        [0.0062, 0.9671, 0.0267],\n",
            "        [0.0251, 0.0877, 0.8872],\n",
            "        [0.0053, 0.9803, 0.0144],\n",
            "        [0.9748, 0.0141, 0.0111]], device='cuda:0', grad_fn=<SoftmaxBackward0>)\n",
            "prediction: tensor([2, 0, 2, 0, 1, 2, 1, 0], device='cuda:0')\n",
            "train labels: tensor([2, 0, 2, 0, 1, 2, 1, 0], device='cuda:0')\n"
          ]
        },
        {
          "output_type": "stream",
          "name": "stderr",
          "text": [
            "\r  8%|▊         | 5/63 [00:03<00:41,  1.41it/s]"
          ]
        },
        {
          "output_type": "stream",
          "name": "stdout",
          "text": [
            "training logits: tensor([[0.5742, 0.0692, 0.3567],\n",
            "        [0.0208, 0.0443, 0.9348],\n",
            "        [0.0267, 0.0280, 0.9454],\n",
            "        [0.0999, 0.0410, 0.8591],\n",
            "        [0.0568, 0.2012, 0.7419],\n",
            "        [0.0592, 0.8974, 0.0435],\n",
            "        [0.0101, 0.9773, 0.0126],\n",
            "        [0.9922, 0.0026, 0.0052]], device='cuda:0', grad_fn=<SoftmaxBackward0>)\n",
            "training outputs\n",
            "tensor([[0.5742, 0.0692, 0.3567],\n",
            "        [0.0208, 0.0443, 0.9348],\n",
            "        [0.0267, 0.0280, 0.9454],\n",
            "        [0.0999, 0.0410, 0.8591],\n",
            "        [0.0568, 0.2012, 0.7419],\n",
            "        [0.0592, 0.8974, 0.0435],\n",
            "        [0.0101, 0.9773, 0.0126],\n",
            "        [0.9922, 0.0026, 0.0052]], device='cuda:0', grad_fn=<SoftmaxBackward0>)\n",
            "prediction: tensor([0, 2, 2, 2, 2, 1, 1, 0], device='cuda:0')\n",
            "train labels: tensor([0, 0, 2, 2, 2, 1, 1, 0], device='cuda:0')\n"
          ]
        },
        {
          "output_type": "stream",
          "name": "stderr",
          "text": [
            "\r 10%|▉         | 6/63 [00:04<00:40,  1.41it/s]"
          ]
        },
        {
          "output_type": "stream",
          "name": "stdout",
          "text": [
            "training logits: tensor([[0.9797, 0.0043, 0.0160],\n",
            "        [0.0055, 0.9838, 0.0106],\n",
            "        [0.9479, 0.0066, 0.0454],\n",
            "        [0.0363, 0.1417, 0.8220],\n",
            "        [0.9792, 0.0072, 0.0136],\n",
            "        [0.0273, 0.0418, 0.9309],\n",
            "        [0.0153, 0.0221, 0.9626],\n",
            "        [0.0872, 0.1301, 0.7827]], device='cuda:0', grad_fn=<SoftmaxBackward0>)\n",
            "training outputs\n",
            "tensor([[0.9797, 0.0043, 0.0160],\n",
            "        [0.0055, 0.9838, 0.0106],\n",
            "        [0.9479, 0.0066, 0.0454],\n",
            "        [0.0363, 0.1417, 0.8220],\n",
            "        [0.9792, 0.0072, 0.0136],\n",
            "        [0.0273, 0.0418, 0.9309],\n",
            "        [0.0153, 0.0221, 0.9626],\n",
            "        [0.0872, 0.1301, 0.7827]], device='cuda:0', grad_fn=<SoftmaxBackward0>)\n",
            "prediction: tensor([0, 1, 0, 2, 0, 2, 2, 2], device='cuda:0')\n",
            "train labels: tensor([2, 1, 0, 2, 0, 2, 2, 2], device='cuda:0')\n"
          ]
        },
        {
          "output_type": "stream",
          "name": "stderr",
          "text": [
            "\r 11%|█         | 7/63 [00:04<00:39,  1.41it/s]"
          ]
        },
        {
          "output_type": "stream",
          "name": "stdout",
          "text": [
            "training logits: tensor([[0.0502, 0.9179, 0.0319],\n",
            "        [0.9534, 0.0046, 0.0420],\n",
            "        [0.0304, 0.0512, 0.9184],\n",
            "        [0.0817, 0.1060, 0.8123],\n",
            "        [0.0789, 0.1418, 0.7793],\n",
            "        [0.0069, 0.9864, 0.0067],\n",
            "        [0.0615, 0.4635, 0.4750],\n",
            "        [0.0635, 0.0542, 0.8823]], device='cuda:0', grad_fn=<SoftmaxBackward0>)\n",
            "training outputs\n",
            "tensor([[0.0502, 0.9179, 0.0319],\n",
            "        [0.9534, 0.0046, 0.0420],\n",
            "        [0.0304, 0.0512, 0.9184],\n",
            "        [0.0817, 0.1060, 0.8123],\n",
            "        [0.0789, 0.1418, 0.7793],\n",
            "        [0.0069, 0.9864, 0.0067],\n",
            "        [0.0615, 0.4635, 0.4750],\n",
            "        [0.0635, 0.0542, 0.8823]], device='cuda:0', grad_fn=<SoftmaxBackward0>)\n",
            "prediction: tensor([1, 0, 2, 2, 2, 1, 2, 2], device='cuda:0')\n",
            "train labels: tensor([1, 0, 0, 2, 2, 1, 2, 2], device='cuda:0')\n"
          ]
        },
        {
          "output_type": "stream",
          "name": "stderr",
          "text": [
            "\r 13%|█▎        | 8/63 [00:05<00:39,  1.41it/s]"
          ]
        },
        {
          "output_type": "stream",
          "name": "stdout",
          "text": [
            "training logits: tensor([[0.0048, 0.9552, 0.0400],\n",
            "        [0.1452, 0.7997, 0.0551],\n",
            "        [0.9755, 0.0056, 0.0189],\n",
            "        [0.0066, 0.9862, 0.0071],\n",
            "        [0.3252, 0.2155, 0.4593],\n",
            "        [0.4033, 0.5128, 0.0839],\n",
            "        [0.1049, 0.0949, 0.8001],\n",
            "        [0.0257, 0.8826, 0.0918]], device='cuda:0', grad_fn=<SoftmaxBackward0>)\n",
            "training outputs\n",
            "tensor([[0.0048, 0.9552, 0.0400],\n",
            "        [0.1452, 0.7997, 0.0551],\n",
            "        [0.9755, 0.0056, 0.0189],\n",
            "        [0.0066, 0.9862, 0.0071],\n",
            "        [0.3252, 0.2155, 0.4593],\n",
            "        [0.4033, 0.5128, 0.0839],\n",
            "        [0.1049, 0.0949, 0.8001],\n",
            "        [0.0257, 0.8826, 0.0918]], device='cuda:0', grad_fn=<SoftmaxBackward0>)\n",
            "prediction: tensor([1, 1, 0, 1, 2, 1, 2, 1], device='cuda:0')\n",
            "train labels: tensor([1, 1, 0, 1, 1, 1, 0, 2], device='cuda:0')\n"
          ]
        },
        {
          "output_type": "stream",
          "name": "stderr",
          "text": [
            "\r 14%|█▍        | 9/63 [00:06<00:38,  1.41it/s]"
          ]
        },
        {
          "output_type": "stream",
          "name": "stdout",
          "text": [
            "training logits: tensor([[0.0171, 0.9048, 0.0782],\n",
            "        [0.0171, 0.0370, 0.9459],\n",
            "        [0.9808, 0.0025, 0.0167],\n",
            "        [0.9584, 0.0049, 0.0367],\n",
            "        [0.0356, 0.0614, 0.9030],\n",
            "        [0.0732, 0.3370, 0.5898],\n",
            "        [0.0108, 0.9742, 0.0150],\n",
            "        [0.0342, 0.0761, 0.8898]], device='cuda:0', grad_fn=<SoftmaxBackward0>)\n",
            "training outputs\n",
            "tensor([[0.0171, 0.9048, 0.0782],\n",
            "        [0.0171, 0.0370, 0.9459],\n",
            "        [0.9808, 0.0025, 0.0167],\n",
            "        [0.9584, 0.0049, 0.0367],\n",
            "        [0.0356, 0.0614, 0.9030],\n",
            "        [0.0732, 0.3370, 0.5898],\n",
            "        [0.0108, 0.9742, 0.0150],\n",
            "        [0.0342, 0.0761, 0.8898]], device='cuda:0', grad_fn=<SoftmaxBackward0>)\n",
            "prediction: tensor([1, 2, 0, 0, 2, 2, 1, 2], device='cuda:0')\n",
            "train labels: tensor([1, 2, 0, 0, 2, 0, 1, 2], device='cuda:0')\n"
          ]
        },
        {
          "output_type": "stream",
          "name": "stderr",
          "text": [
            "\r 16%|█▌        | 10/63 [00:07<00:37,  1.41it/s]"
          ]
        },
        {
          "output_type": "stream",
          "name": "stdout",
          "text": [
            "training logits: tensor([[0.5347, 0.1088, 0.3565],\n",
            "        [0.0146, 0.0947, 0.8907],\n",
            "        [0.8758, 0.0228, 0.1014],\n",
            "        [0.0321, 0.1116, 0.8563],\n",
            "        [0.8775, 0.0778, 0.0447],\n",
            "        [0.8835, 0.0089, 0.1076],\n",
            "        [0.9069, 0.0262, 0.0668],\n",
            "        [0.9886, 0.0063, 0.0050]], device='cuda:0', grad_fn=<SoftmaxBackward0>)\n",
            "training outputs\n",
            "tensor([[0.5347, 0.1088, 0.3565],\n",
            "        [0.0146, 0.0947, 0.8907],\n",
            "        [0.8758, 0.0228, 0.1014],\n",
            "        [0.0321, 0.1116, 0.8563],\n",
            "        [0.8775, 0.0778, 0.0447],\n",
            "        [0.8835, 0.0089, 0.1076],\n",
            "        [0.9069, 0.0262, 0.0668],\n",
            "        [0.9886, 0.0063, 0.0050]], device='cuda:0', grad_fn=<SoftmaxBackward0>)\n",
            "prediction: tensor([0, 2, 0, 2, 0, 0, 0, 0], device='cuda:0')\n",
            "train labels: tensor([0, 2, 0, 0, 2, 0, 0, 0], device='cuda:0')\n"
          ]
        },
        {
          "output_type": "stream",
          "name": "stderr",
          "text": [
            "\r 17%|█▋        | 11/63 [00:07<00:36,  1.41it/s]"
          ]
        },
        {
          "output_type": "stream",
          "name": "stdout",
          "text": [
            "training logits: tensor([[0.9841, 0.0027, 0.0132],\n",
            "        [0.0072, 0.9719, 0.0209],\n",
            "        [0.9767, 0.0051, 0.0183],\n",
            "        [0.0155, 0.9742, 0.0103],\n",
            "        [0.0039, 0.9896, 0.0065],\n",
            "        [0.9814, 0.0087, 0.0098],\n",
            "        [0.0148, 0.9741, 0.0111],\n",
            "        [0.0031, 0.9898, 0.0072]], device='cuda:0', grad_fn=<SoftmaxBackward0>)\n",
            "training outputs\n",
            "tensor([[0.9841, 0.0027, 0.0132],\n",
            "        [0.0072, 0.9719, 0.0209],\n",
            "        [0.9767, 0.0051, 0.0183],\n",
            "        [0.0155, 0.9742, 0.0103],\n",
            "        [0.0039, 0.9896, 0.0065],\n",
            "        [0.9814, 0.0087, 0.0098],\n",
            "        [0.0148, 0.9741, 0.0111],\n",
            "        [0.0031, 0.9898, 0.0072]], device='cuda:0', grad_fn=<SoftmaxBackward0>)\n",
            "prediction: tensor([0, 1, 0, 1, 1, 0, 1, 1], device='cuda:0')\n",
            "train labels: tensor([0, 1, 0, 1, 1, 0, 1, 1], device='cuda:0')\n"
          ]
        },
        {
          "output_type": "stream",
          "name": "stderr",
          "text": [
            "\r 19%|█▉        | 12/63 [00:08<00:36,  1.41it/s]"
          ]
        },
        {
          "output_type": "stream",
          "name": "stdout",
          "text": [
            "training logits: tensor([[0.0497, 0.0730, 0.8773],\n",
            "        [0.9648, 0.0128, 0.0224],\n",
            "        [0.9650, 0.0223, 0.0127],\n",
            "        [0.9484, 0.0085, 0.0431],\n",
            "        [0.4032, 0.5731, 0.0237],\n",
            "        [0.0407, 0.1787, 0.7805],\n",
            "        [0.1455, 0.8313, 0.0232],\n",
            "        [0.0591, 0.0595, 0.8815]], device='cuda:0', grad_fn=<SoftmaxBackward0>)\n",
            "training outputs\n",
            "tensor([[0.0497, 0.0730, 0.8773],\n",
            "        [0.9648, 0.0128, 0.0224],\n",
            "        [0.9650, 0.0223, 0.0127],\n",
            "        [0.9484, 0.0085, 0.0431],\n",
            "        [0.4032, 0.5731, 0.0237],\n",
            "        [0.0407, 0.1787, 0.7805],\n",
            "        [0.1455, 0.8313, 0.0232],\n",
            "        [0.0591, 0.0595, 0.8815]], device='cuda:0', grad_fn=<SoftmaxBackward0>)\n",
            "prediction: tensor([2, 0, 0, 0, 1, 2, 1, 2], device='cuda:0')\n",
            "train labels: tensor([2, 0, 0, 0, 1, 2, 1, 2], device='cuda:0')\n"
          ]
        },
        {
          "output_type": "stream",
          "name": "stderr",
          "text": [
            "\r 21%|██        | 13/63 [00:09<00:35,  1.41it/s]"
          ]
        },
        {
          "output_type": "stream",
          "name": "stdout",
          "text": [
            "training logits: tensor([[0.9497, 0.0285, 0.0218],\n",
            "        [0.0211, 0.0269, 0.9520],\n",
            "        [0.0431, 0.0179, 0.9390],\n",
            "        [0.0238, 0.0218, 0.9544],\n",
            "        [0.0454, 0.0365, 0.9181],\n",
            "        [0.0545, 0.1056, 0.8399],\n",
            "        [0.2077, 0.4542, 0.3381],\n",
            "        [0.9841, 0.0060, 0.0098]], device='cuda:0', grad_fn=<SoftmaxBackward0>)\n",
            "training outputs\n",
            "tensor([[0.9497, 0.0285, 0.0218],\n",
            "        [0.0211, 0.0269, 0.9520],\n",
            "        [0.0431, 0.0179, 0.9390],\n",
            "        [0.0238, 0.0218, 0.9544],\n",
            "        [0.0454, 0.0365, 0.9181],\n",
            "        [0.0545, 0.1056, 0.8399],\n",
            "        [0.2077, 0.4542, 0.3381],\n",
            "        [0.9841, 0.0060, 0.0098]], device='cuda:0', grad_fn=<SoftmaxBackward0>)\n",
            "prediction: tensor([0, 2, 2, 2, 2, 2, 1, 0], device='cuda:0')\n",
            "train labels: tensor([0, 2, 2, 2, 2, 2, 0, 0], device='cuda:0')\n"
          ]
        },
        {
          "output_type": "stream",
          "name": "stderr",
          "text": [
            "\r 22%|██▏       | 14/63 [00:09<00:34,  1.40it/s]"
          ]
        },
        {
          "output_type": "stream",
          "name": "stdout",
          "text": [
            "training logits: tensor([[0.9927, 0.0027, 0.0046],\n",
            "        [0.9777, 0.0039, 0.0184],\n",
            "        [0.3006, 0.6430, 0.0563],\n",
            "        [0.0096, 0.0844, 0.9060],\n",
            "        [0.0296, 0.0630, 0.9074],\n",
            "        [0.0256, 0.0341, 0.9403],\n",
            "        [0.0063, 0.9851, 0.0086],\n",
            "        [0.9920, 0.0015, 0.0065]], device='cuda:0', grad_fn=<SoftmaxBackward0>)\n",
            "training outputs\n",
            "tensor([[0.9927, 0.0027, 0.0046],\n",
            "        [0.9777, 0.0039, 0.0184],\n",
            "        [0.3006, 0.6430, 0.0563],\n",
            "        [0.0096, 0.0844, 0.9060],\n",
            "        [0.0296, 0.0630, 0.9074],\n",
            "        [0.0256, 0.0341, 0.9403],\n",
            "        [0.0063, 0.9851, 0.0086],\n",
            "        [0.9920, 0.0015, 0.0065]], device='cuda:0', grad_fn=<SoftmaxBackward0>)\n",
            "prediction: tensor([0, 0, 1, 2, 2, 2, 1, 0], device='cuda:0')\n",
            "train labels: tensor([0, 0, 1, 2, 2, 2, 1, 0], device='cuda:0')\n"
          ]
        },
        {
          "output_type": "stream",
          "name": "stderr",
          "text": [
            "\r 24%|██▍       | 15/63 [00:10<00:34,  1.40it/s]"
          ]
        },
        {
          "output_type": "stream",
          "name": "stdout",
          "text": [
            "training logits: tensor([[0.0909, 0.0730, 0.8362],\n",
            "        [0.0267, 0.0964, 0.8769],\n",
            "        [0.0318, 0.2771, 0.6911],\n",
            "        [0.8598, 0.0835, 0.0567],\n",
            "        [0.0085, 0.9834, 0.0081],\n",
            "        [0.0620, 0.1143, 0.8237],\n",
            "        [0.0438, 0.0147, 0.9415],\n",
            "        [0.0089, 0.9650, 0.0261]], device='cuda:0', grad_fn=<SoftmaxBackward0>)\n",
            "training outputs\n",
            "tensor([[0.0909, 0.0730, 0.8362],\n",
            "        [0.0267, 0.0964, 0.8769],\n",
            "        [0.0318, 0.2771, 0.6911],\n",
            "        [0.8598, 0.0835, 0.0567],\n",
            "        [0.0085, 0.9834, 0.0081],\n",
            "        [0.0620, 0.1143, 0.8237],\n",
            "        [0.0438, 0.0147, 0.9415],\n",
            "        [0.0089, 0.9650, 0.0261]], device='cuda:0', grad_fn=<SoftmaxBackward0>)\n",
            "prediction: tensor([2, 2, 2, 0, 1, 2, 2, 1], device='cuda:0')\n",
            "train labels: tensor([2, 2, 2, 0, 1, 2, 2, 1], device='cuda:0')\n"
          ]
        },
        {
          "output_type": "stream",
          "name": "stderr",
          "text": [
            "\r 25%|██▌       | 16/63 [00:11<00:33,  1.40it/s]"
          ]
        },
        {
          "output_type": "stream",
          "name": "stdout",
          "text": [
            "training logits: tensor([[0.0201, 0.0460, 0.9340],\n",
            "        [0.9857, 0.0099, 0.0043],\n",
            "        [0.0652, 0.0692, 0.8657],\n",
            "        [0.0018, 0.9898, 0.0084],\n",
            "        [0.0593, 0.0612, 0.8795],\n",
            "        [0.0077, 0.9858, 0.0065],\n",
            "        [0.9639, 0.0294, 0.0067],\n",
            "        [0.0790, 0.6430, 0.2780]], device='cuda:0', grad_fn=<SoftmaxBackward0>)\n",
            "training outputs\n",
            "tensor([[0.0201, 0.0460, 0.9340],\n",
            "        [0.9857, 0.0099, 0.0043],\n",
            "        [0.0652, 0.0692, 0.8657],\n",
            "        [0.0018, 0.9898, 0.0084],\n",
            "        [0.0593, 0.0612, 0.8795],\n",
            "        [0.0077, 0.9858, 0.0065],\n",
            "        [0.9639, 0.0294, 0.0067],\n",
            "        [0.0790, 0.6430, 0.2780]], device='cuda:0', grad_fn=<SoftmaxBackward0>)\n",
            "prediction: tensor([2, 0, 2, 1, 2, 1, 0, 1], device='cuda:0')\n",
            "train labels: tensor([2, 0, 2, 1, 2, 1, 1, 0], device='cuda:0')\n"
          ]
        },
        {
          "output_type": "stream",
          "name": "stderr",
          "text": [
            "\r 27%|██▋       | 17/63 [00:12<00:32,  1.40it/s]"
          ]
        },
        {
          "output_type": "stream",
          "name": "stdout",
          "text": [
            "training logits: tensor([[0.2247, 0.0378, 0.7375],\n",
            "        [0.9912, 0.0038, 0.0051],\n",
            "        [0.9933, 0.0035, 0.0033],\n",
            "        [0.0258, 0.9649, 0.0093],\n",
            "        [0.0825, 0.1618, 0.7557],\n",
            "        [0.0960, 0.0871, 0.8169],\n",
            "        [0.2942, 0.6851, 0.0207],\n",
            "        [0.0342, 0.0945, 0.8713]], device='cuda:0', grad_fn=<SoftmaxBackward0>)\n",
            "training outputs\n",
            "tensor([[0.2247, 0.0378, 0.7375],\n",
            "        [0.9912, 0.0038, 0.0051],\n",
            "        [0.9933, 0.0035, 0.0033],\n",
            "        [0.0258, 0.9649, 0.0093],\n",
            "        [0.0825, 0.1618, 0.7557],\n",
            "        [0.0960, 0.0871, 0.8169],\n",
            "        [0.2942, 0.6851, 0.0207],\n",
            "        [0.0342, 0.0945, 0.8713]], device='cuda:0', grad_fn=<SoftmaxBackward0>)\n",
            "prediction: tensor([2, 0, 0, 1, 2, 2, 1, 2], device='cuda:0')\n",
            "train labels: tensor([1, 2, 0, 0, 0, 2, 1, 2], device='cuda:0')\n"
          ]
        },
        {
          "output_type": "stream",
          "name": "stderr",
          "text": [
            "\r 29%|██▊       | 18/63 [00:12<00:32,  1.40it/s]"
          ]
        },
        {
          "output_type": "stream",
          "name": "stdout",
          "text": [
            "training logits: tensor([[0.9805, 0.0104, 0.0091],\n",
            "        [0.0699, 0.0333, 0.8968],\n",
            "        [0.9743, 0.0028, 0.0229],\n",
            "        [0.0084, 0.9754, 0.0162],\n",
            "        [0.0102, 0.9604, 0.0294],\n",
            "        [0.9897, 0.0053, 0.0050],\n",
            "        [0.0137, 0.9682, 0.0181],\n",
            "        [0.7652, 0.1774, 0.0574]], device='cuda:0', grad_fn=<SoftmaxBackward0>)\n",
            "training outputs\n",
            "tensor([[0.9805, 0.0104, 0.0091],\n",
            "        [0.0699, 0.0333, 0.8968],\n",
            "        [0.9743, 0.0028, 0.0229],\n",
            "        [0.0084, 0.9754, 0.0162],\n",
            "        [0.0102, 0.9604, 0.0294],\n",
            "        [0.9897, 0.0053, 0.0050],\n",
            "        [0.0137, 0.9682, 0.0181],\n",
            "        [0.7652, 0.1774, 0.0574]], device='cuda:0', grad_fn=<SoftmaxBackward0>)\n",
            "prediction: tensor([0, 2, 0, 1, 1, 0, 1, 0], device='cuda:0')\n",
            "train labels: tensor([0, 2, 0, 1, 1, 0, 1, 0], device='cuda:0')\n"
          ]
        },
        {
          "output_type": "stream",
          "name": "stderr",
          "text": [
            "\r 30%|███       | 19/63 [00:13<00:31,  1.39it/s]"
          ]
        },
        {
          "output_type": "stream",
          "name": "stdout",
          "text": [
            "training logits: tensor([[0.0442, 0.0456, 0.9103],\n",
            "        [0.2183, 0.1998, 0.5818],\n",
            "        [0.0451, 0.4914, 0.4635],\n",
            "        [0.9895, 0.0054, 0.0051],\n",
            "        [0.0035, 0.9698, 0.0267],\n",
            "        [0.1868, 0.3533, 0.4599],\n",
            "        [0.9933, 0.0022, 0.0045],\n",
            "        [0.7026, 0.1387, 0.1586]], device='cuda:0', grad_fn=<SoftmaxBackward0>)\n",
            "training outputs\n",
            "tensor([[0.0442, 0.0456, 0.9103],\n",
            "        [0.2183, 0.1998, 0.5818],\n",
            "        [0.0451, 0.4914, 0.4635],\n",
            "        [0.9895, 0.0054, 0.0051],\n",
            "        [0.0035, 0.9698, 0.0267],\n",
            "        [0.1868, 0.3533, 0.4599],\n",
            "        [0.9933, 0.0022, 0.0045],\n",
            "        [0.7026, 0.1387, 0.1586]], device='cuda:0', grad_fn=<SoftmaxBackward0>)\n",
            "prediction: tensor([2, 2, 1, 0, 1, 2, 0, 0], device='cuda:0')\n",
            "train labels: tensor([2, 1, 0, 0, 1, 1, 0, 0], device='cuda:0')\n"
          ]
        },
        {
          "output_type": "stream",
          "name": "stderr",
          "text": [
            "\r 32%|███▏      | 20/63 [00:14<00:31,  1.38it/s]"
          ]
        },
        {
          "output_type": "stream",
          "name": "stdout",
          "text": [
            "training logits: tensor([[0.9905, 0.0064, 0.0031],\n",
            "        [0.0064, 0.9738, 0.0198],\n",
            "        [0.0364, 0.0455, 0.9181],\n",
            "        [0.9836, 0.0118, 0.0046],\n",
            "        [0.0407, 0.0769, 0.8824],\n",
            "        [0.0359, 0.9479, 0.0162],\n",
            "        [0.0154, 0.9753, 0.0093],\n",
            "        [0.0108, 0.9723, 0.0169]], device='cuda:0', grad_fn=<SoftmaxBackward0>)\n",
            "training outputs\n",
            "tensor([[0.9905, 0.0064, 0.0031],\n",
            "        [0.0064, 0.9738, 0.0198],\n",
            "        [0.0364, 0.0455, 0.9181],\n",
            "        [0.9836, 0.0118, 0.0046],\n",
            "        [0.0407, 0.0769, 0.8824],\n",
            "        [0.0359, 0.9479, 0.0162],\n",
            "        [0.0154, 0.9753, 0.0093],\n",
            "        [0.0108, 0.9723, 0.0169]], device='cuda:0', grad_fn=<SoftmaxBackward0>)\n",
            "prediction: tensor([0, 1, 2, 0, 2, 1, 1, 1], device='cuda:0')\n",
            "train labels: tensor([0, 1, 2, 0, 2, 1, 1, 1], device='cuda:0')\n"
          ]
        },
        {
          "output_type": "stream",
          "name": "stderr",
          "text": [
            "\r 33%|███▎      | 21/63 [00:15<00:30,  1.38it/s]"
          ]
        },
        {
          "output_type": "stream",
          "name": "stdout",
          "text": [
            "training logits: tensor([[0.0541, 0.0859, 0.8601],\n",
            "        [0.0512, 0.0422, 0.9065],\n",
            "        [0.0429, 0.9517, 0.0053],\n",
            "        [0.9761, 0.0135, 0.0104],\n",
            "        [0.0817, 0.0524, 0.8659],\n",
            "        [0.9881, 0.0048, 0.0071],\n",
            "        [0.9913, 0.0063, 0.0025],\n",
            "        [0.9674, 0.0237, 0.0088]], device='cuda:0', grad_fn=<SoftmaxBackward0>)\n",
            "training outputs\n",
            "tensor([[0.0541, 0.0859, 0.8601],\n",
            "        [0.0512, 0.0422, 0.9065],\n",
            "        [0.0429, 0.9517, 0.0053],\n",
            "        [0.9761, 0.0135, 0.0104],\n",
            "        [0.0817, 0.0524, 0.8659],\n",
            "        [0.9881, 0.0048, 0.0071],\n",
            "        [0.9913, 0.0063, 0.0025],\n",
            "        [0.9674, 0.0237, 0.0088]], device='cuda:0', grad_fn=<SoftmaxBackward0>)\n",
            "prediction: tensor([2, 2, 1, 0, 2, 0, 0, 0], device='cuda:0')\n",
            "train labels: tensor([2, 2, 1, 0, 2, 0, 0, 0], device='cuda:0')\n"
          ]
        },
        {
          "output_type": "stream",
          "name": "stderr",
          "text": [
            "\r 35%|███▍      | 22/63 [00:15<00:29,  1.38it/s]"
          ]
        },
        {
          "output_type": "stream",
          "name": "stdout",
          "text": [
            "training logits: tensor([[0.0464, 0.0992, 0.8544],\n",
            "        [0.0758, 0.0685, 0.8557],\n",
            "        [0.0166, 0.9591, 0.0243],\n",
            "        [0.0194, 0.9673, 0.0133],\n",
            "        [0.0438, 0.1250, 0.8312],\n",
            "        [0.0230, 0.0685, 0.9085],\n",
            "        [0.0158, 0.9724, 0.0117],\n",
            "        [0.0318, 0.0555, 0.9127]], device='cuda:0', grad_fn=<SoftmaxBackward0>)\n",
            "training outputs\n",
            "tensor([[0.0464, 0.0992, 0.8544],\n",
            "        [0.0758, 0.0685, 0.8557],\n",
            "        [0.0166, 0.9591, 0.0243],\n",
            "        [0.0194, 0.9673, 0.0133],\n",
            "        [0.0438, 0.1250, 0.8312],\n",
            "        [0.0230, 0.0685, 0.9085],\n",
            "        [0.0158, 0.9724, 0.0117],\n",
            "        [0.0318, 0.0555, 0.9127]], device='cuda:0', grad_fn=<SoftmaxBackward0>)\n",
            "prediction: tensor([2, 2, 1, 1, 2, 2, 1, 2], device='cuda:0')\n",
            "train labels: tensor([2, 2, 1, 1, 2, 2, 1, 2], device='cuda:0')\n"
          ]
        },
        {
          "output_type": "stream",
          "name": "stderr",
          "text": [
            "\r 37%|███▋      | 23/63 [00:16<00:29,  1.38it/s]"
          ]
        },
        {
          "output_type": "stream",
          "name": "stdout",
          "text": [
            "training logits: tensor([[0.0063, 0.9740, 0.0197],\n",
            "        [0.9845, 0.0032, 0.0122],\n",
            "        [0.0263, 0.0144, 0.9593],\n",
            "        [0.9945, 0.0016, 0.0039],\n",
            "        [0.0102, 0.0731, 0.9167],\n",
            "        [0.8128, 0.1360, 0.0511],\n",
            "        [0.0183, 0.9752, 0.0065],\n",
            "        [0.0981, 0.2117, 0.6903]], device='cuda:0', grad_fn=<SoftmaxBackward0>)\n",
            "training outputs\n",
            "tensor([[0.0063, 0.9740, 0.0197],\n",
            "        [0.9845, 0.0032, 0.0122],\n",
            "        [0.0263, 0.0144, 0.9593],\n",
            "        [0.9945, 0.0016, 0.0039],\n",
            "        [0.0102, 0.0731, 0.9167],\n",
            "        [0.8128, 0.1360, 0.0511],\n",
            "        [0.0183, 0.9752, 0.0065],\n",
            "        [0.0981, 0.2117, 0.6903]], device='cuda:0', grad_fn=<SoftmaxBackward0>)\n",
            "prediction: tensor([1, 0, 2, 0, 2, 0, 1, 2], device='cuda:0')\n",
            "train labels: tensor([1, 0, 2, 0, 2, 0, 1, 2], device='cuda:0')\n"
          ]
        },
        {
          "output_type": "stream",
          "name": "stderr",
          "text": [
            "\r 38%|███▊      | 24/63 [00:17<00:28,  1.37it/s]"
          ]
        },
        {
          "output_type": "stream",
          "name": "stdout",
          "text": [
            "training logits: tensor([[0.0153, 0.9785, 0.0063],\n",
            "        [0.9858, 0.0077, 0.0065],\n",
            "        [0.0131, 0.8493, 0.1376],\n",
            "        [0.9936, 0.0025, 0.0039],\n",
            "        [0.0331, 0.0467, 0.9202],\n",
            "        [0.0130, 0.0111, 0.9759],\n",
            "        [0.1157, 0.0934, 0.7909],\n",
            "        [0.0174, 0.0238, 0.9588]], device='cuda:0', grad_fn=<SoftmaxBackward0>)\n",
            "training outputs\n",
            "tensor([[0.0153, 0.9785, 0.0063],\n",
            "        [0.9858, 0.0077, 0.0065],\n",
            "        [0.0131, 0.8493, 0.1376],\n",
            "        [0.9936, 0.0025, 0.0039],\n",
            "        [0.0331, 0.0467, 0.9202],\n",
            "        [0.0130, 0.0111, 0.9759],\n",
            "        [0.1157, 0.0934, 0.7909],\n",
            "        [0.0174, 0.0238, 0.9588]], device='cuda:0', grad_fn=<SoftmaxBackward0>)\n",
            "prediction: tensor([1, 0, 1, 0, 2, 2, 2, 2], device='cuda:0')\n",
            "train labels: tensor([1, 0, 1, 0, 2, 2, 2, 2], device='cuda:0')\n"
          ]
        },
        {
          "output_type": "stream",
          "name": "stderr",
          "text": [
            "\r 40%|███▉      | 25/63 [00:17<00:27,  1.37it/s]"
          ]
        },
        {
          "output_type": "stream",
          "name": "stdout",
          "text": [
            "training logits: tensor([[0.0145, 0.9699, 0.0156],\n",
            "        [0.9373, 0.0484, 0.0143],\n",
            "        [0.9845, 0.0077, 0.0079],\n",
            "        [0.0879, 0.1190, 0.7931],\n",
            "        [0.0049, 0.9861, 0.0089],\n",
            "        [0.0112, 0.9803, 0.0084],\n",
            "        [0.0757, 0.0761, 0.8482],\n",
            "        [0.0136, 0.8963, 0.0901]], device='cuda:0', grad_fn=<SoftmaxBackward0>)\n",
            "training outputs\n",
            "tensor([[0.0145, 0.9699, 0.0156],\n",
            "        [0.9373, 0.0484, 0.0143],\n",
            "        [0.9845, 0.0077, 0.0079],\n",
            "        [0.0879, 0.1190, 0.7931],\n",
            "        [0.0049, 0.9861, 0.0089],\n",
            "        [0.0112, 0.9803, 0.0084],\n",
            "        [0.0757, 0.0761, 0.8482],\n",
            "        [0.0136, 0.8963, 0.0901]], device='cuda:0', grad_fn=<SoftmaxBackward0>)\n",
            "prediction: tensor([1, 0, 0, 2, 1, 1, 2, 1], device='cuda:0')\n",
            "train labels: tensor([1, 0, 0, 2, 1, 1, 2, 2], device='cuda:0')\n"
          ]
        },
        {
          "output_type": "stream",
          "name": "stderr",
          "text": [
            "\r 41%|████▏     | 26/63 [00:18<00:26,  1.37it/s]"
          ]
        },
        {
          "output_type": "stream",
          "name": "stdout",
          "text": [
            "training logits: tensor([[1.4594e-01, 6.7397e-02, 7.8666e-01],\n",
            "        [6.4034e-03, 9.7876e-01, 1.4840e-02],\n",
            "        [8.0464e-02, 9.7469e-02, 8.2207e-01],\n",
            "        [1.0597e-02, 8.7751e-01, 1.1190e-01],\n",
            "        [9.7308e-01, 1.5491e-02, 1.1433e-02],\n",
            "        [9.9663e-01, 7.9923e-04, 2.5704e-03],\n",
            "        [3.0296e-01, 6.1055e-01, 8.6488e-02],\n",
            "        [5.7580e-02, 9.3463e-01, 7.7868e-03]], device='cuda:0',\n",
            "       grad_fn=<SoftmaxBackward0>)\n",
            "training outputs\n",
            "tensor([[1.4594e-01, 6.7397e-02, 7.8666e-01],\n",
            "        [6.4034e-03, 9.7876e-01, 1.4840e-02],\n",
            "        [8.0464e-02, 9.7469e-02, 8.2207e-01],\n",
            "        [1.0597e-02, 8.7751e-01, 1.1190e-01],\n",
            "        [9.7308e-01, 1.5491e-02, 1.1433e-02],\n",
            "        [9.9663e-01, 7.9923e-04, 2.5704e-03],\n",
            "        [3.0296e-01, 6.1055e-01, 8.6488e-02],\n",
            "        [5.7580e-02, 9.3463e-01, 7.7868e-03]], device='cuda:0',\n",
            "       grad_fn=<SoftmaxBackward0>)\n",
            "prediction: tensor([2, 1, 2, 1, 0, 0, 1, 1], device='cuda:0')\n",
            "train labels: tensor([2, 1, 2, 1, 0, 0, 0, 1], device='cuda:0')\n"
          ]
        },
        {
          "output_type": "stream",
          "name": "stderr",
          "text": [
            "\r 43%|████▎     | 27/63 [00:19<00:26,  1.37it/s]"
          ]
        },
        {
          "output_type": "stream",
          "name": "stdout",
          "text": [
            "training logits: tensor([[0.9940, 0.0041, 0.0019],\n",
            "        [0.0087, 0.9692, 0.0221],\n",
            "        [0.9820, 0.0089, 0.0091],\n",
            "        [0.0310, 0.0295, 0.9395],\n",
            "        [0.0710, 0.0700, 0.8590],\n",
            "        [0.9909, 0.0045, 0.0046],\n",
            "        [0.9890, 0.0037, 0.0073],\n",
            "        [0.0074, 0.9767, 0.0158]], device='cuda:0', grad_fn=<SoftmaxBackward0>)\n",
            "training outputs\n",
            "tensor([[0.9940, 0.0041, 0.0019],\n",
            "        [0.0087, 0.9692, 0.0221],\n",
            "        [0.9820, 0.0089, 0.0091],\n",
            "        [0.0310, 0.0295, 0.9395],\n",
            "        [0.0710, 0.0700, 0.8590],\n",
            "        [0.9909, 0.0045, 0.0046],\n",
            "        [0.9890, 0.0037, 0.0073],\n",
            "        [0.0074, 0.9767, 0.0158]], device='cuda:0', grad_fn=<SoftmaxBackward0>)\n",
            "prediction: tensor([0, 1, 0, 2, 2, 0, 0, 1], device='cuda:0')\n",
            "train labels: tensor([0, 1, 0, 2, 2, 0, 0, 1], device='cuda:0')\n"
          ]
        },
        {
          "output_type": "stream",
          "name": "stderr",
          "text": [
            "\r 44%|████▍     | 28/63 [00:20<00:25,  1.37it/s]"
          ]
        },
        {
          "output_type": "stream",
          "name": "stdout",
          "text": [
            "training logits: tensor([[0.0754, 0.8880, 0.0366],\n",
            "        [0.0185, 0.0280, 0.9535],\n",
            "        [0.0687, 0.8962, 0.0351],\n",
            "        [0.0032, 0.9806, 0.0162],\n",
            "        [0.1104, 0.3740, 0.5157],\n",
            "        [0.9886, 0.0050, 0.0064],\n",
            "        [0.1028, 0.0975, 0.7997],\n",
            "        [0.0175, 0.1175, 0.8650]], device='cuda:0', grad_fn=<SoftmaxBackward0>)\n",
            "training outputs\n",
            "tensor([[0.0754, 0.8880, 0.0366],\n",
            "        [0.0185, 0.0280, 0.9535],\n",
            "        [0.0687, 0.8962, 0.0351],\n",
            "        [0.0032, 0.9806, 0.0162],\n",
            "        [0.1104, 0.3740, 0.5157],\n",
            "        [0.9886, 0.0050, 0.0064],\n",
            "        [0.1028, 0.0975, 0.7997],\n",
            "        [0.0175, 0.1175, 0.8650]], device='cuda:0', grad_fn=<SoftmaxBackward0>)\n",
            "prediction: tensor([1, 2, 1, 1, 2, 0, 2, 2], device='cuda:0')\n",
            "train labels: tensor([1, 2, 2, 1, 1, 0, 2, 2], device='cuda:0')\n"
          ]
        },
        {
          "output_type": "stream",
          "name": "stderr",
          "text": [
            "\r 46%|████▌     | 29/63 [00:20<00:24,  1.37it/s]"
          ]
        },
        {
          "output_type": "stream",
          "name": "stdout",
          "text": [
            "training logits: tensor([[0.4129, 0.3620, 0.2251],\n",
            "        [0.0062, 0.9738, 0.0201],\n",
            "        [0.0779, 0.0582, 0.8639],\n",
            "        [0.2703, 0.5438, 0.1859],\n",
            "        [0.9900, 0.0057, 0.0043],\n",
            "        [0.9921, 0.0031, 0.0048],\n",
            "        [0.5031, 0.2053, 0.2915],\n",
            "        [0.9901, 0.0055, 0.0044]], device='cuda:0', grad_fn=<SoftmaxBackward0>)\n",
            "training outputs\n",
            "tensor([[0.4129, 0.3620, 0.2251],\n",
            "        [0.0062, 0.9738, 0.0201],\n",
            "        [0.0779, 0.0582, 0.8639],\n",
            "        [0.2703, 0.5438, 0.1859],\n",
            "        [0.9900, 0.0057, 0.0043],\n",
            "        [0.9921, 0.0031, 0.0048],\n",
            "        [0.5031, 0.2053, 0.2915],\n",
            "        [0.9901, 0.0055, 0.0044]], device='cuda:0', grad_fn=<SoftmaxBackward0>)\n",
            "prediction: tensor([0, 1, 2, 1, 0, 0, 0, 0], device='cuda:0')\n",
            "train labels: tensor([0, 1, 2, 1, 0, 0, 2, 0], device='cuda:0')\n"
          ]
        },
        {
          "output_type": "stream",
          "name": "stderr",
          "text": [
            "\r 48%|████▊     | 30/63 [00:21<00:24,  1.37it/s]"
          ]
        },
        {
          "output_type": "stream",
          "name": "stdout",
          "text": [
            "training logits: tensor([[0.1137, 0.4551, 0.4312],\n",
            "        [0.9816, 0.0083, 0.0101],\n",
            "        [0.0033, 0.9741, 0.0226],\n",
            "        [0.0216, 0.9592, 0.0192],\n",
            "        [0.1310, 0.7885, 0.0805],\n",
            "        [0.9918, 0.0052, 0.0030],\n",
            "        [0.9103, 0.0116, 0.0781],\n",
            "        [0.9924, 0.0052, 0.0024]], device='cuda:0', grad_fn=<SoftmaxBackward0>)\n",
            "training outputs\n",
            "tensor([[0.1137, 0.4551, 0.4312],\n",
            "        [0.9816, 0.0083, 0.0101],\n",
            "        [0.0033, 0.9741, 0.0226],\n",
            "        [0.0216, 0.9592, 0.0192],\n",
            "        [0.1310, 0.7885, 0.0805],\n",
            "        [0.9918, 0.0052, 0.0030],\n",
            "        [0.9103, 0.0116, 0.0781],\n",
            "        [0.9924, 0.0052, 0.0024]], device='cuda:0', grad_fn=<SoftmaxBackward0>)\n",
            "prediction: tensor([1, 0, 1, 1, 1, 0, 0, 0], device='cuda:0')\n",
            "train labels: tensor([0, 0, 1, 1, 2, 0, 1, 0], device='cuda:0')\n"
          ]
        },
        {
          "output_type": "stream",
          "name": "stderr",
          "text": [
            "\r 49%|████▉     | 31/63 [00:22<00:23,  1.37it/s]"
          ]
        },
        {
          "output_type": "stream",
          "name": "stdout",
          "text": [
            "training logits: tensor([[0.9924, 0.0037, 0.0038],\n",
            "        [0.0515, 0.2049, 0.7436],\n",
            "        [0.0083, 0.9564, 0.0353],\n",
            "        [0.0164, 0.0490, 0.9346],\n",
            "        [0.5109, 0.4602, 0.0289],\n",
            "        [0.9759, 0.0157, 0.0085],\n",
            "        [0.9599, 0.0305, 0.0096],\n",
            "        [0.0203, 0.9717, 0.0081]], device='cuda:0', grad_fn=<SoftmaxBackward0>)\n",
            "training outputs\n",
            "tensor([[0.9924, 0.0037, 0.0038],\n",
            "        [0.0515, 0.2049, 0.7436],\n",
            "        [0.0083, 0.9564, 0.0353],\n",
            "        [0.0164, 0.0490, 0.9346],\n",
            "        [0.5109, 0.4602, 0.0289],\n",
            "        [0.9759, 0.0157, 0.0085],\n",
            "        [0.9599, 0.0305, 0.0096],\n",
            "        [0.0203, 0.9717, 0.0081]], device='cuda:0', grad_fn=<SoftmaxBackward0>)\n",
            "prediction: tensor([0, 2, 1, 2, 0, 0, 0, 1], device='cuda:0')\n",
            "train labels: tensor([0, 1, 1, 2, 1, 2, 0, 1], device='cuda:0')\n"
          ]
        },
        {
          "output_type": "stream",
          "name": "stderr",
          "text": [
            "\r 51%|█████     | 32/63 [00:23<00:22,  1.37it/s]"
          ]
        },
        {
          "output_type": "stream",
          "name": "stdout",
          "text": [
            "training logits: tensor([[0.9867, 0.0034, 0.0099],\n",
            "        [0.0042, 0.9783, 0.0175],\n",
            "        [0.9905, 0.0049, 0.0046],\n",
            "        [0.0438, 0.1782, 0.7780],\n",
            "        [0.0143, 0.0443, 0.9414],\n",
            "        [0.0073, 0.9416, 0.0511],\n",
            "        [0.0050, 0.9586, 0.0363],\n",
            "        [0.9881, 0.0060, 0.0059]], device='cuda:0', grad_fn=<SoftmaxBackward0>)\n",
            "training outputs\n",
            "tensor([[0.9867, 0.0034, 0.0099],\n",
            "        [0.0042, 0.9783, 0.0175],\n",
            "        [0.9905, 0.0049, 0.0046],\n",
            "        [0.0438, 0.1782, 0.7780],\n",
            "        [0.0143, 0.0443, 0.9414],\n",
            "        [0.0073, 0.9416, 0.0511],\n",
            "        [0.0050, 0.9586, 0.0363],\n",
            "        [0.9881, 0.0060, 0.0059]], device='cuda:0', grad_fn=<SoftmaxBackward0>)\n",
            "prediction: tensor([0, 1, 0, 2, 2, 1, 1, 0], device='cuda:0')\n",
            "train labels: tensor([0, 1, 0, 2, 2, 1, 1, 0], device='cuda:0')\n"
          ]
        },
        {
          "output_type": "stream",
          "name": "stderr",
          "text": [
            "\r 52%|█████▏    | 33/63 [00:23<00:22,  1.36it/s]"
          ]
        },
        {
          "output_type": "stream",
          "name": "stdout",
          "text": [
            "training logits: tensor([[0.0166, 0.0405, 0.9429],\n",
            "        [0.9924, 0.0041, 0.0036],\n",
            "        [0.0458, 0.0055, 0.9486],\n",
            "        [0.0090, 0.9801, 0.0109],\n",
            "        [0.9701, 0.0140, 0.0159],\n",
            "        [0.8097, 0.0308, 0.1596],\n",
            "        [0.9903, 0.0053, 0.0045],\n",
            "        [0.0035, 0.9920, 0.0045]], device='cuda:0', grad_fn=<SoftmaxBackward0>)\n",
            "training outputs\n",
            "tensor([[0.0166, 0.0405, 0.9429],\n",
            "        [0.9924, 0.0041, 0.0036],\n",
            "        [0.0458, 0.0055, 0.9486],\n",
            "        [0.0090, 0.9801, 0.0109],\n",
            "        [0.9701, 0.0140, 0.0159],\n",
            "        [0.8097, 0.0308, 0.1596],\n",
            "        [0.9903, 0.0053, 0.0045],\n",
            "        [0.0035, 0.9920, 0.0045]], device='cuda:0', grad_fn=<SoftmaxBackward0>)\n",
            "prediction: tensor([2, 0, 2, 1, 0, 0, 0, 1], device='cuda:0')\n",
            "train labels: tensor([2, 0, 2, 1, 0, 2, 0, 1], device='cuda:0')\n"
          ]
        },
        {
          "output_type": "stream",
          "name": "stderr",
          "text": [
            "\r 54%|█████▍    | 34/63 [00:24<00:21,  1.36it/s]"
          ]
        },
        {
          "output_type": "stream",
          "name": "stdout",
          "text": [
            "training logits: tensor([[0.0282, 0.9674, 0.0044],\n",
            "        [0.9922, 0.0042, 0.0036],\n",
            "        [0.0036, 0.9906, 0.0059],\n",
            "        [0.9699, 0.0192, 0.0109],\n",
            "        [0.9900, 0.0065, 0.0035],\n",
            "        [0.7440, 0.1973, 0.0586],\n",
            "        [0.9880, 0.0050, 0.0069],\n",
            "        [0.9707, 0.0221, 0.0073]], device='cuda:0', grad_fn=<SoftmaxBackward0>)\n",
            "training outputs\n",
            "tensor([[0.0282, 0.9674, 0.0044],\n",
            "        [0.9922, 0.0042, 0.0036],\n",
            "        [0.0036, 0.9906, 0.0059],\n",
            "        [0.9699, 0.0192, 0.0109],\n",
            "        [0.9900, 0.0065, 0.0035],\n",
            "        [0.7440, 0.1973, 0.0586],\n",
            "        [0.9880, 0.0050, 0.0069],\n",
            "        [0.9707, 0.0221, 0.0073]], device='cuda:0', grad_fn=<SoftmaxBackward0>)\n",
            "prediction: tensor([1, 0, 1, 0, 0, 0, 0, 0], device='cuda:0')\n",
            "train labels: tensor([1, 0, 1, 0, 0, 0, 0, 0], device='cuda:0')\n"
          ]
        },
        {
          "output_type": "stream",
          "name": "stderr",
          "text": [
            "\r 56%|█████▌    | 35/63 [00:25<00:20,  1.35it/s]"
          ]
        },
        {
          "output_type": "stream",
          "name": "stdout",
          "text": [
            "training logits: tensor([[0.9868, 0.0052, 0.0080],\n",
            "        [0.1538, 0.1780, 0.6682],\n",
            "        [0.0162, 0.0466, 0.9372],\n",
            "        [0.0586, 0.8319, 0.1095],\n",
            "        [0.0724, 0.0261, 0.9015],\n",
            "        [0.1906, 0.0221, 0.7873],\n",
            "        [0.0085, 0.9734, 0.0182],\n",
            "        [0.9907, 0.0025, 0.0068]], device='cuda:0', grad_fn=<SoftmaxBackward0>)\n",
            "training outputs\n",
            "tensor([[0.9868, 0.0052, 0.0080],\n",
            "        [0.1538, 0.1780, 0.6682],\n",
            "        [0.0162, 0.0466, 0.9372],\n",
            "        [0.0586, 0.8319, 0.1095],\n",
            "        [0.0724, 0.0261, 0.9015],\n",
            "        [0.1906, 0.0221, 0.7873],\n",
            "        [0.0085, 0.9734, 0.0182],\n",
            "        [0.9907, 0.0025, 0.0068]], device='cuda:0', grad_fn=<SoftmaxBackward0>)\n",
            "prediction: tensor([0, 2, 2, 1, 2, 2, 1, 0], device='cuda:0')\n",
            "train labels: tensor([0, 2, 2, 1, 2, 2, 1, 0], device='cuda:0')\n"
          ]
        },
        {
          "output_type": "stream",
          "name": "stderr",
          "text": [
            "\r 57%|█████▋    | 36/63 [00:26<00:20,  1.35it/s]"
          ]
        },
        {
          "output_type": "stream",
          "name": "stdout",
          "text": [
            "training logits: tensor([[0.0825, 0.0751, 0.8425],\n",
            "        [0.0038, 0.9872, 0.0089],\n",
            "        [0.0270, 0.0175, 0.9555],\n",
            "        [0.0972, 0.7451, 0.1578],\n",
            "        [0.9925, 0.0032, 0.0043],\n",
            "        [0.9828, 0.0107, 0.0065],\n",
            "        [0.0033, 0.9836, 0.0131],\n",
            "        [0.0082, 0.9857, 0.0062]], device='cuda:0', grad_fn=<SoftmaxBackward0>)\n",
            "training outputs\n",
            "tensor([[0.0825, 0.0751, 0.8425],\n",
            "        [0.0038, 0.9872, 0.0089],\n",
            "        [0.0270, 0.0175, 0.9555],\n",
            "        [0.0972, 0.7451, 0.1578],\n",
            "        [0.9925, 0.0032, 0.0043],\n",
            "        [0.9828, 0.0107, 0.0065],\n",
            "        [0.0033, 0.9836, 0.0131],\n",
            "        [0.0082, 0.9857, 0.0062]], device='cuda:0', grad_fn=<SoftmaxBackward0>)\n",
            "prediction: tensor([2, 1, 2, 1, 0, 0, 1, 1], device='cuda:0')\n",
            "train labels: tensor([2, 1, 2, 1, 0, 0, 1, 1], device='cuda:0')\n"
          ]
        },
        {
          "output_type": "stream",
          "name": "stderr",
          "text": [
            "\r 59%|█████▊    | 37/63 [00:26<00:19,  1.35it/s]"
          ]
        },
        {
          "output_type": "stream",
          "name": "stdout",
          "text": [
            "training logits: tensor([[0.0527, 0.0397, 0.9075],\n",
            "        [0.0142, 0.9731, 0.0127],\n",
            "        [0.1141, 0.1144, 0.7715],\n",
            "        [0.0030, 0.9717, 0.0253],\n",
            "        [0.0375, 0.1869, 0.7757],\n",
            "        [0.9840, 0.0095, 0.0065],\n",
            "        [0.9911, 0.0039, 0.0050],\n",
            "        [0.0314, 0.9344, 0.0343]], device='cuda:0', grad_fn=<SoftmaxBackward0>)\n",
            "training outputs\n",
            "tensor([[0.0527, 0.0397, 0.9075],\n",
            "        [0.0142, 0.9731, 0.0127],\n",
            "        [0.1141, 0.1144, 0.7715],\n",
            "        [0.0030, 0.9717, 0.0253],\n",
            "        [0.0375, 0.1869, 0.7757],\n",
            "        [0.9840, 0.0095, 0.0065],\n",
            "        [0.9911, 0.0039, 0.0050],\n",
            "        [0.0314, 0.9344, 0.0343]], device='cuda:0', grad_fn=<SoftmaxBackward0>)\n",
            "prediction: tensor([2, 1, 2, 1, 2, 0, 0, 1], device='cuda:0')\n",
            "train labels: tensor([2, 1, 2, 1, 2, 0, 0, 1], device='cuda:0')\n"
          ]
        },
        {
          "output_type": "stream",
          "name": "stderr",
          "text": [
            "\r 60%|██████    | 38/63 [00:27<00:18,  1.35it/s]"
          ]
        },
        {
          "output_type": "stream",
          "name": "stdout",
          "text": [
            "training logits: tensor([[0.9952, 0.0017, 0.0031],\n",
            "        [0.0725, 0.0581, 0.8694],\n",
            "        [0.9890, 0.0064, 0.0047],\n",
            "        [0.9893, 0.0040, 0.0068],\n",
            "        [0.9964, 0.0017, 0.0018],\n",
            "        [0.0149, 0.0212, 0.9639],\n",
            "        [0.9920, 0.0034, 0.0047],\n",
            "        [0.0138, 0.9740, 0.0122]], device='cuda:0', grad_fn=<SoftmaxBackward0>)\n",
            "training outputs\n",
            "tensor([[0.9952, 0.0017, 0.0031],\n",
            "        [0.0725, 0.0581, 0.8694],\n",
            "        [0.9890, 0.0064, 0.0047],\n",
            "        [0.9893, 0.0040, 0.0068],\n",
            "        [0.9964, 0.0017, 0.0018],\n",
            "        [0.0149, 0.0212, 0.9639],\n",
            "        [0.9920, 0.0034, 0.0047],\n",
            "        [0.0138, 0.9740, 0.0122]], device='cuda:0', grad_fn=<SoftmaxBackward0>)\n",
            "prediction: tensor([0, 2, 0, 0, 0, 2, 0, 1], device='cuda:0')\n",
            "train labels: tensor([0, 2, 0, 2, 0, 2, 0, 1], device='cuda:0')\n"
          ]
        },
        {
          "output_type": "stream",
          "name": "stderr",
          "text": [
            "\r 62%|██████▏   | 39/63 [00:28<00:17,  1.35it/s]"
          ]
        },
        {
          "output_type": "stream",
          "name": "stdout",
          "text": [
            "training logits: tensor([[0.0043, 0.9887, 0.0069],\n",
            "        [0.9354, 0.0055, 0.0591],\n",
            "        [0.9927, 0.0030, 0.0043],\n",
            "        [0.0030, 0.9872, 0.0098],\n",
            "        [0.0031, 0.9936, 0.0033],\n",
            "        [0.0287, 0.1686, 0.8027],\n",
            "        [0.0047, 0.9701, 0.0252],\n",
            "        [0.0033, 0.9883, 0.0084]], device='cuda:0', grad_fn=<SoftmaxBackward0>)\n",
            "training outputs\n",
            "tensor([[0.0043, 0.9887, 0.0069],\n",
            "        [0.9354, 0.0055, 0.0591],\n",
            "        [0.9927, 0.0030, 0.0043],\n",
            "        [0.0030, 0.9872, 0.0098],\n",
            "        [0.0031, 0.9936, 0.0033],\n",
            "        [0.0287, 0.1686, 0.8027],\n",
            "        [0.0047, 0.9701, 0.0252],\n",
            "        [0.0033, 0.9883, 0.0084]], device='cuda:0', grad_fn=<SoftmaxBackward0>)\n",
            "prediction: tensor([1, 0, 0, 1, 1, 2, 1, 1], device='cuda:0')\n",
            "train labels: tensor([1, 0, 0, 1, 1, 2, 1, 1], device='cuda:0')\n"
          ]
        },
        {
          "output_type": "stream",
          "name": "stderr",
          "text": [
            "\r 63%|██████▎   | 40/63 [00:29<00:17,  1.34it/s]"
          ]
        },
        {
          "output_type": "stream",
          "name": "stdout",
          "text": [
            "training logits: tensor([[0.0112, 0.9787, 0.0101],\n",
            "        [0.0115, 0.0446, 0.9439],\n",
            "        [0.1691, 0.0312, 0.7997],\n",
            "        [0.9938, 0.0032, 0.0030],\n",
            "        [0.0518, 0.8923, 0.0559],\n",
            "        [0.9670, 0.0199, 0.0131],\n",
            "        [0.6619, 0.2704, 0.0676],\n",
            "        [0.0061, 0.0118, 0.9821]], device='cuda:0', grad_fn=<SoftmaxBackward0>)\n",
            "training outputs\n",
            "tensor([[0.0112, 0.9787, 0.0101],\n",
            "        [0.0115, 0.0446, 0.9439],\n",
            "        [0.1691, 0.0312, 0.7997],\n",
            "        [0.9938, 0.0032, 0.0030],\n",
            "        [0.0518, 0.8923, 0.0559],\n",
            "        [0.9670, 0.0199, 0.0131],\n",
            "        [0.6619, 0.2704, 0.0676],\n",
            "        [0.0061, 0.0118, 0.9821]], device='cuda:0', grad_fn=<SoftmaxBackward0>)\n",
            "prediction: tensor([1, 2, 2, 0, 1, 0, 0, 2], device='cuda:0')\n",
            "train labels: tensor([1, 2, 2, 0, 1, 0, 0, 2], device='cuda:0')\n"
          ]
        },
        {
          "output_type": "stream",
          "name": "stderr",
          "text": [
            "\r 65%|██████▌   | 41/63 [00:29<00:16,  1.34it/s]"
          ]
        },
        {
          "output_type": "stream",
          "name": "stdout",
          "text": [
            "training logits: tensor([[0.0312, 0.9521, 0.0167],\n",
            "        [0.0025, 0.9896, 0.0080],\n",
            "        [0.9951, 0.0022, 0.0027],\n",
            "        [0.0063, 0.9355, 0.0582],\n",
            "        [0.0603, 0.0646, 0.8752],\n",
            "        [0.9866, 0.0076, 0.0058],\n",
            "        [0.0042, 0.9883, 0.0075],\n",
            "        [0.0024, 0.9914, 0.0062]], device='cuda:0', grad_fn=<SoftmaxBackward0>)\n",
            "training outputs\n",
            "tensor([[0.0312, 0.9521, 0.0167],\n",
            "        [0.0025, 0.9896, 0.0080],\n",
            "        [0.9951, 0.0022, 0.0027],\n",
            "        [0.0063, 0.9355, 0.0582],\n",
            "        [0.0603, 0.0646, 0.8752],\n",
            "        [0.9866, 0.0076, 0.0058],\n",
            "        [0.0042, 0.9883, 0.0075],\n",
            "        [0.0024, 0.9914, 0.0062]], device='cuda:0', grad_fn=<SoftmaxBackward0>)\n",
            "prediction: tensor([1, 1, 0, 1, 2, 0, 1, 1], device='cuda:0')\n",
            "train labels: tensor([1, 1, 0, 1, 2, 0, 1, 1], device='cuda:0')\n"
          ]
        },
        {
          "output_type": "stream",
          "name": "stderr",
          "text": [
            "\r 67%|██████▋   | 42/63 [00:30<00:15,  1.34it/s]"
          ]
        },
        {
          "output_type": "stream",
          "name": "stdout",
          "text": [
            "training logits: tensor([[0.0261, 0.0344, 0.9395],\n",
            "        [0.0626, 0.0580, 0.8794],\n",
            "        [0.2905, 0.5785, 0.1311],\n",
            "        [0.0113, 0.9402, 0.0485],\n",
            "        [0.9670, 0.0093, 0.0237],\n",
            "        [0.9881, 0.0043, 0.0075],\n",
            "        [0.0023, 0.9823, 0.0154],\n",
            "        [0.9943, 0.0031, 0.0026]], device='cuda:0', grad_fn=<SoftmaxBackward0>)\n",
            "training outputs\n",
            "tensor([[0.0261, 0.0344, 0.9395],\n",
            "        [0.0626, 0.0580, 0.8794],\n",
            "        [0.2905, 0.5785, 0.1311],\n",
            "        [0.0113, 0.9402, 0.0485],\n",
            "        [0.9670, 0.0093, 0.0237],\n",
            "        [0.9881, 0.0043, 0.0075],\n",
            "        [0.0023, 0.9823, 0.0154],\n",
            "        [0.9943, 0.0031, 0.0026]], device='cuda:0', grad_fn=<SoftmaxBackward0>)\n",
            "prediction: tensor([2, 2, 1, 1, 0, 0, 1, 0], device='cuda:0')\n",
            "train labels: tensor([2, 2, 2, 1, 0, 0, 1, 0], device='cuda:0')\n"
          ]
        },
        {
          "output_type": "stream",
          "name": "stderr",
          "text": [
            "\r 68%|██████▊   | 43/63 [00:31<00:14,  1.34it/s]"
          ]
        },
        {
          "output_type": "stream",
          "name": "stdout",
          "text": [
            "training logits: tensor([[0.0554, 0.0194, 0.9253],\n",
            "        [0.0202, 0.0100, 0.9698],\n",
            "        [0.0378, 0.0219, 0.9403],\n",
            "        [0.9754, 0.0180, 0.0066],\n",
            "        [0.0541, 0.0338, 0.9121],\n",
            "        [0.9882, 0.0069, 0.0049],\n",
            "        [0.0070, 0.9773, 0.0157],\n",
            "        [0.0070, 0.9835, 0.0094]], device='cuda:0', grad_fn=<SoftmaxBackward0>)\n",
            "training outputs\n",
            "tensor([[0.0554, 0.0194, 0.9253],\n",
            "        [0.0202, 0.0100, 0.9698],\n",
            "        [0.0378, 0.0219, 0.9403],\n",
            "        [0.9754, 0.0180, 0.0066],\n",
            "        [0.0541, 0.0338, 0.9121],\n",
            "        [0.9882, 0.0069, 0.0049],\n",
            "        [0.0070, 0.9773, 0.0157],\n",
            "        [0.0070, 0.9835, 0.0094]], device='cuda:0', grad_fn=<SoftmaxBackward0>)\n",
            "prediction: tensor([2, 2, 2, 0, 2, 0, 1, 1], device='cuda:0')\n",
            "train labels: tensor([0, 0, 1, 1, 2, 0, 1, 1], device='cuda:0')\n"
          ]
        },
        {
          "output_type": "stream",
          "name": "stderr",
          "text": [
            "\r 70%|██████▉   | 44/63 [00:31<00:14,  1.34it/s]"
          ]
        },
        {
          "output_type": "stream",
          "name": "stdout",
          "text": [
            "training logits: tensor([[0.0260, 0.0434, 0.9306],\n",
            "        [0.0219, 0.9583, 0.0199],\n",
            "        [0.0469, 0.1017, 0.8514],\n",
            "        [0.0057, 0.9387, 0.0556],\n",
            "        [0.0441, 0.0204, 0.9355],\n",
            "        [0.9935, 0.0034, 0.0031],\n",
            "        [0.0272, 0.0382, 0.9346],\n",
            "        [0.9903, 0.0037, 0.0059]], device='cuda:0', grad_fn=<SoftmaxBackward0>)\n",
            "training outputs\n",
            "tensor([[0.0260, 0.0434, 0.9306],\n",
            "        [0.0219, 0.9583, 0.0199],\n",
            "        [0.0469, 0.1017, 0.8514],\n",
            "        [0.0057, 0.9387, 0.0556],\n",
            "        [0.0441, 0.0204, 0.9355],\n",
            "        [0.9935, 0.0034, 0.0031],\n",
            "        [0.0272, 0.0382, 0.9346],\n",
            "        [0.9903, 0.0037, 0.0059]], device='cuda:0', grad_fn=<SoftmaxBackward0>)\n",
            "prediction: tensor([2, 1, 2, 1, 2, 0, 2, 0], device='cuda:0')\n",
            "train labels: tensor([2, 1, 0, 1, 2, 0, 2, 0], device='cuda:0')\n"
          ]
        },
        {
          "output_type": "stream",
          "name": "stderr",
          "text": [
            "\r 71%|███████▏  | 45/63 [00:32<00:13,  1.34it/s]"
          ]
        },
        {
          "output_type": "stream",
          "name": "stdout",
          "text": [
            "training logits: tensor([[0.0349, 0.0429, 0.9221],\n",
            "        [0.9897, 0.0034, 0.0069],\n",
            "        [0.9834, 0.0103, 0.0062],\n",
            "        [0.0522, 0.9407, 0.0071],\n",
            "        [0.0197, 0.0254, 0.9549],\n",
            "        [0.0252, 0.4044, 0.5704],\n",
            "        [0.0178, 0.9712, 0.0110],\n",
            "        [0.0030, 0.9758, 0.0212]], device='cuda:0', grad_fn=<SoftmaxBackward0>)\n",
            "training outputs\n",
            "tensor([[0.0349, 0.0429, 0.9221],\n",
            "        [0.9897, 0.0034, 0.0069],\n",
            "        [0.9834, 0.0103, 0.0062],\n",
            "        [0.0522, 0.9407, 0.0071],\n",
            "        [0.0197, 0.0254, 0.9549],\n",
            "        [0.0252, 0.4044, 0.5704],\n",
            "        [0.0178, 0.9712, 0.0110],\n",
            "        [0.0030, 0.9758, 0.0212]], device='cuda:0', grad_fn=<SoftmaxBackward0>)\n",
            "prediction: tensor([2, 0, 0, 1, 2, 2, 1, 1], device='cuda:0')\n",
            "train labels: tensor([2, 0, 0, 1, 2, 2, 1, 1], device='cuda:0')\n"
          ]
        },
        {
          "output_type": "stream",
          "name": "stderr",
          "text": [
            "\r 73%|███████▎  | 46/63 [00:33<00:12,  1.34it/s]"
          ]
        },
        {
          "output_type": "stream",
          "name": "stdout",
          "text": [
            "training logits: tensor([[0.0022, 0.9911, 0.0066],\n",
            "        [0.0036, 0.9712, 0.0252],\n",
            "        [0.9880, 0.0095, 0.0025],\n",
            "        [0.0519, 0.0771, 0.8710],\n",
            "        [0.1746, 0.2350, 0.5904],\n",
            "        [0.0175, 0.9631, 0.0194],\n",
            "        [0.0096, 0.9819, 0.0085],\n",
            "        [0.0836, 0.0522, 0.8643]], device='cuda:0', grad_fn=<SoftmaxBackward0>)\n",
            "training outputs\n",
            "tensor([[0.0022, 0.9911, 0.0066],\n",
            "        [0.0036, 0.9712, 0.0252],\n",
            "        [0.9880, 0.0095, 0.0025],\n",
            "        [0.0519, 0.0771, 0.8710],\n",
            "        [0.1746, 0.2350, 0.5904],\n",
            "        [0.0175, 0.9631, 0.0194],\n",
            "        [0.0096, 0.9819, 0.0085],\n",
            "        [0.0836, 0.0522, 0.8643]], device='cuda:0', grad_fn=<SoftmaxBackward0>)\n",
            "prediction: tensor([1, 1, 0, 2, 2, 1, 1, 2], device='cuda:0')\n",
            "train labels: tensor([1, 1, 0, 2, 2, 1, 1, 2], device='cuda:0')\n"
          ]
        },
        {
          "output_type": "stream",
          "name": "stderr",
          "text": [
            "\r 75%|███████▍  | 47/63 [00:34<00:11,  1.34it/s]"
          ]
        },
        {
          "output_type": "stream",
          "name": "stdout",
          "text": [
            "training logits: tensor([[0.0058, 0.9778, 0.0163],\n",
            "        [0.9939, 0.0032, 0.0029],\n",
            "        [0.0115, 0.9666, 0.0219],\n",
            "        [0.0215, 0.0482, 0.9303],\n",
            "        [0.9943, 0.0025, 0.0032],\n",
            "        [0.0226, 0.9420, 0.0354],\n",
            "        [0.0308, 0.0229, 0.9463],\n",
            "        [0.0037, 0.9884, 0.0079]], device='cuda:0', grad_fn=<SoftmaxBackward0>)\n",
            "training outputs\n",
            "tensor([[0.0058, 0.9778, 0.0163],\n",
            "        [0.9939, 0.0032, 0.0029],\n",
            "        [0.0115, 0.9666, 0.0219],\n",
            "        [0.0215, 0.0482, 0.9303],\n",
            "        [0.9943, 0.0025, 0.0032],\n",
            "        [0.0226, 0.9420, 0.0354],\n",
            "        [0.0308, 0.0229, 0.9463],\n",
            "        [0.0037, 0.9884, 0.0079]], device='cuda:0', grad_fn=<SoftmaxBackward0>)\n",
            "prediction: tensor([1, 0, 1, 2, 0, 1, 2, 1], device='cuda:0')\n",
            "train labels: tensor([1, 0, 1, 2, 0, 1, 2, 1], device='cuda:0')\n"
          ]
        },
        {
          "output_type": "stream",
          "name": "stderr",
          "text": [
            "\r 76%|███████▌  | 48/63 [00:34<00:11,  1.34it/s]"
          ]
        },
        {
          "output_type": "stream",
          "name": "stdout",
          "text": [
            "training logits: tensor([[0.9713, 0.0193, 0.0094],\n",
            "        [0.9924, 0.0028, 0.0047],\n",
            "        [0.0352, 0.1235, 0.8412],\n",
            "        [0.0070, 0.9855, 0.0075],\n",
            "        [0.1350, 0.0195, 0.8454],\n",
            "        [0.1042, 0.0347, 0.8610],\n",
            "        [0.0081, 0.9713, 0.0206],\n",
            "        [0.9884, 0.0037, 0.0079]], device='cuda:0', grad_fn=<SoftmaxBackward0>)\n",
            "training outputs\n",
            "tensor([[0.9713, 0.0193, 0.0094],\n",
            "        [0.9924, 0.0028, 0.0047],\n",
            "        [0.0352, 0.1235, 0.8412],\n",
            "        [0.0070, 0.9855, 0.0075],\n",
            "        [0.1350, 0.0195, 0.8454],\n",
            "        [0.1042, 0.0347, 0.8610],\n",
            "        [0.0081, 0.9713, 0.0206],\n",
            "        [0.9884, 0.0037, 0.0079]], device='cuda:0', grad_fn=<SoftmaxBackward0>)\n",
            "prediction: tensor([0, 0, 2, 1, 2, 2, 1, 0], device='cuda:0')\n",
            "train labels: tensor([0, 0, 2, 1, 2, 2, 1, 0], device='cuda:0')\n"
          ]
        },
        {
          "output_type": "stream",
          "name": "stderr",
          "text": [
            "\r 78%|███████▊  | 49/63 [00:35<00:10,  1.34it/s]"
          ]
        },
        {
          "output_type": "stream",
          "name": "stdout",
          "text": [
            "training logits: tensor([[0.9913, 0.0057, 0.0030],\n",
            "        [0.9879, 0.0037, 0.0084],\n",
            "        [0.9902, 0.0035, 0.0063],\n",
            "        [0.0121, 0.0137, 0.9742],\n",
            "        [0.0954, 0.0343, 0.8703],\n",
            "        [0.0041, 0.9609, 0.0350],\n",
            "        [0.9914, 0.0025, 0.0061],\n",
            "        [0.9938, 0.0029, 0.0034]], device='cuda:0', grad_fn=<SoftmaxBackward0>)\n",
            "training outputs\n",
            "tensor([[0.9913, 0.0057, 0.0030],\n",
            "        [0.9879, 0.0037, 0.0084],\n",
            "        [0.9902, 0.0035, 0.0063],\n",
            "        [0.0121, 0.0137, 0.9742],\n",
            "        [0.0954, 0.0343, 0.8703],\n",
            "        [0.0041, 0.9609, 0.0350],\n",
            "        [0.9914, 0.0025, 0.0061],\n",
            "        [0.9938, 0.0029, 0.0034]], device='cuda:0', grad_fn=<SoftmaxBackward0>)\n",
            "prediction: tensor([0, 0, 0, 2, 2, 1, 0, 0], device='cuda:0')\n",
            "train labels: tensor([0, 0, 0, 2, 1, 1, 0, 0], device='cuda:0')\n"
          ]
        },
        {
          "output_type": "stream",
          "name": "stderr",
          "text": [
            "\r 79%|███████▉  | 50/63 [00:36<00:09,  1.34it/s]"
          ]
        },
        {
          "output_type": "stream",
          "name": "stdout",
          "text": [
            "training logits: tensor([[0.4742, 0.2802, 0.2457],\n",
            "        [0.0408, 0.0259, 0.9333],\n",
            "        [0.0149, 0.0283, 0.9568],\n",
            "        [0.0102, 0.9763, 0.0135],\n",
            "        [0.9944, 0.0022, 0.0034],\n",
            "        [0.1799, 0.0177, 0.8023],\n",
            "        [0.0217, 0.0346, 0.9436],\n",
            "        [0.0054, 0.9782, 0.0164]], device='cuda:0', grad_fn=<SoftmaxBackward0>)\n",
            "training outputs\n",
            "tensor([[0.4742, 0.2802, 0.2457],\n",
            "        [0.0408, 0.0259, 0.9333],\n",
            "        [0.0149, 0.0283, 0.9568],\n",
            "        [0.0102, 0.9763, 0.0135],\n",
            "        [0.9944, 0.0022, 0.0034],\n",
            "        [0.1799, 0.0177, 0.8023],\n",
            "        [0.0217, 0.0346, 0.9436],\n",
            "        [0.0054, 0.9782, 0.0164]], device='cuda:0', grad_fn=<SoftmaxBackward0>)\n",
            "prediction: tensor([0, 2, 2, 1, 0, 2, 2, 1], device='cuda:0')\n",
            "train labels: tensor([0, 2, 2, 1, 0, 2, 1, 1], device='cuda:0')\n"
          ]
        },
        {
          "output_type": "stream",
          "name": "stderr",
          "text": [
            "\r 81%|████████  | 51/63 [00:37<00:08,  1.34it/s]"
          ]
        },
        {
          "output_type": "stream",
          "name": "stdout",
          "text": [
            "training logits: tensor([[0.9812, 0.0022, 0.0166],\n",
            "        [0.1017, 0.0627, 0.8356],\n",
            "        [0.0215, 0.0395, 0.9390],\n",
            "        [0.0264, 0.0342, 0.9394],\n",
            "        [0.9880, 0.0019, 0.0101],\n",
            "        [0.0111, 0.9827, 0.0062],\n",
            "        [0.1115, 0.0806, 0.8080],\n",
            "        [0.2052, 0.7359, 0.0589]], device='cuda:0', grad_fn=<SoftmaxBackward0>)\n",
            "training outputs\n",
            "tensor([[0.9812, 0.0022, 0.0166],\n",
            "        [0.1017, 0.0627, 0.8356],\n",
            "        [0.0215, 0.0395, 0.9390],\n",
            "        [0.0264, 0.0342, 0.9394],\n",
            "        [0.9880, 0.0019, 0.0101],\n",
            "        [0.0111, 0.9827, 0.0062],\n",
            "        [0.1115, 0.0806, 0.8080],\n",
            "        [0.2052, 0.7359, 0.0589]], device='cuda:0', grad_fn=<SoftmaxBackward0>)\n",
            "prediction: tensor([0, 2, 2, 2, 0, 1, 2, 1], device='cuda:0')\n",
            "train labels: tensor([0, 0, 2, 2, 0, 1, 2, 1], device='cuda:0')\n"
          ]
        },
        {
          "output_type": "stream",
          "name": "stderr",
          "text": [
            "\r 83%|████████▎ | 52/63 [00:37<00:08,  1.34it/s]"
          ]
        },
        {
          "output_type": "stream",
          "name": "stdout",
          "text": [
            "training logits: tensor([[0.9906, 0.0023, 0.0071],\n",
            "        [0.0045, 0.9808, 0.0146],\n",
            "        [0.0287, 0.0561, 0.9153],\n",
            "        [0.0395, 0.0216, 0.9389],\n",
            "        [0.9877, 0.0024, 0.0099],\n",
            "        [0.9864, 0.0044, 0.0092],\n",
            "        [0.0484, 0.0174, 0.9342],\n",
            "        [0.0186, 0.0156, 0.9657]], device='cuda:0', grad_fn=<SoftmaxBackward0>)\n",
            "training outputs\n",
            "tensor([[0.9906, 0.0023, 0.0071],\n",
            "        [0.0045, 0.9808, 0.0146],\n",
            "        [0.0287, 0.0561, 0.9153],\n",
            "        [0.0395, 0.0216, 0.9389],\n",
            "        [0.9877, 0.0024, 0.0099],\n",
            "        [0.9864, 0.0044, 0.0092],\n",
            "        [0.0484, 0.0174, 0.9342],\n",
            "        [0.0186, 0.0156, 0.9657]], device='cuda:0', grad_fn=<SoftmaxBackward0>)\n",
            "prediction: tensor([0, 1, 2, 2, 0, 0, 2, 2], device='cuda:0')\n",
            "train labels: tensor([0, 1, 2, 2, 0, 1, 2, 2], device='cuda:0')\n"
          ]
        },
        {
          "output_type": "stream",
          "name": "stderr",
          "text": [
            "\r 84%|████████▍ | 53/63 [00:38<00:07,  1.35it/s]"
          ]
        },
        {
          "output_type": "stream",
          "name": "stdout",
          "text": [
            "training logits: tensor([[0.9909, 0.0031, 0.0060],\n",
            "        [0.0219, 0.9551, 0.0230],\n",
            "        [0.0522, 0.0616, 0.8862],\n",
            "        [0.0512, 0.8912, 0.0576],\n",
            "        [0.9905, 0.0018, 0.0077],\n",
            "        [0.0280, 0.0321, 0.9398],\n",
            "        [0.0180, 0.0460, 0.9360],\n",
            "        [0.0522, 0.0410, 0.9069]], device='cuda:0', grad_fn=<SoftmaxBackward0>)\n",
            "training outputs\n",
            "tensor([[0.9909, 0.0031, 0.0060],\n",
            "        [0.0219, 0.9551, 0.0230],\n",
            "        [0.0522, 0.0616, 0.8862],\n",
            "        [0.0512, 0.8912, 0.0576],\n",
            "        [0.9905, 0.0018, 0.0077],\n",
            "        [0.0280, 0.0321, 0.9398],\n",
            "        [0.0180, 0.0460, 0.9360],\n",
            "        [0.0522, 0.0410, 0.9069]], device='cuda:0', grad_fn=<SoftmaxBackward0>)\n",
            "prediction: tensor([0, 1, 2, 1, 0, 2, 2, 2], device='cuda:0')\n",
            "train labels: tensor([0, 1, 2, 1, 0, 2, 2, 2], device='cuda:0')\n"
          ]
        },
        {
          "output_type": "stream",
          "name": "stderr",
          "text": [
            "\r 86%|████████▌ | 54/63 [00:39<00:06,  1.35it/s]"
          ]
        },
        {
          "output_type": "stream",
          "name": "stdout",
          "text": [
            "training logits: tensor([[0.0582, 0.1599, 0.7819],\n",
            "        [0.0461, 0.9268, 0.0271],\n",
            "        [0.0300, 0.0265, 0.9435],\n",
            "        [0.9877, 0.0032, 0.0091],\n",
            "        [0.0031, 0.9918, 0.0051],\n",
            "        [0.9952, 0.0021, 0.0027],\n",
            "        [0.0083, 0.0321, 0.9596],\n",
            "        [0.0092, 0.9813, 0.0095]], device='cuda:0', grad_fn=<SoftmaxBackward0>)\n",
            "training outputs\n",
            "tensor([[0.0582, 0.1599, 0.7819],\n",
            "        [0.0461, 0.9268, 0.0271],\n",
            "        [0.0300, 0.0265, 0.9435],\n",
            "        [0.9877, 0.0032, 0.0091],\n",
            "        [0.0031, 0.9918, 0.0051],\n",
            "        [0.9952, 0.0021, 0.0027],\n",
            "        [0.0083, 0.0321, 0.9596],\n",
            "        [0.0092, 0.9813, 0.0095]], device='cuda:0', grad_fn=<SoftmaxBackward0>)\n",
            "prediction: tensor([2, 1, 2, 0, 1, 0, 2, 1], device='cuda:0')\n",
            "train labels: tensor([2, 1, 2, 0, 1, 0, 2, 1], device='cuda:0')\n"
          ]
        },
        {
          "output_type": "stream",
          "name": "stderr",
          "text": [
            "\r 87%|████████▋ | 55/63 [00:40<00:05,  1.35it/s]"
          ]
        },
        {
          "output_type": "stream",
          "name": "stdout",
          "text": [
            "training logits: tensor([[0.3829, 0.3814, 0.2357],\n",
            "        [0.0347, 0.0458, 0.9194],\n",
            "        [0.9023, 0.0115, 0.0862],\n",
            "        [0.0872, 0.8795, 0.0333],\n",
            "        [0.1036, 0.0556, 0.8408],\n",
            "        [0.1800, 0.1706, 0.6494],\n",
            "        [0.0565, 0.0663, 0.8772],\n",
            "        [0.7288, 0.1913, 0.0799]], device='cuda:0', grad_fn=<SoftmaxBackward0>)\n",
            "training outputs\n",
            "tensor([[0.3829, 0.3814, 0.2357],\n",
            "        [0.0347, 0.0458, 0.9194],\n",
            "        [0.9023, 0.0115, 0.0862],\n",
            "        [0.0872, 0.8795, 0.0333],\n",
            "        [0.1036, 0.0556, 0.8408],\n",
            "        [0.1800, 0.1706, 0.6494],\n",
            "        [0.0565, 0.0663, 0.8772],\n",
            "        [0.7288, 0.1913, 0.0799]], device='cuda:0', grad_fn=<SoftmaxBackward0>)\n",
            "prediction: tensor([0, 2, 0, 1, 2, 2, 2, 0], device='cuda:0')\n",
            "train labels: tensor([1, 2, 1, 1, 2, 2, 2, 0], device='cuda:0')\n"
          ]
        },
        {
          "output_type": "stream",
          "name": "stderr",
          "text": [
            "\r 89%|████████▉ | 56/63 [00:40<00:05,  1.36it/s]"
          ]
        },
        {
          "output_type": "stream",
          "name": "stdout",
          "text": [
            "training logits: tensor([[0.0173, 0.6948, 0.2878],\n",
            "        [0.0040, 0.9853, 0.0107],\n",
            "        [0.0063, 0.9786, 0.0151],\n",
            "        [0.0358, 0.0273, 0.9369],\n",
            "        [0.0029, 0.9890, 0.0081],\n",
            "        [0.1310, 0.1606, 0.7084],\n",
            "        [0.9914, 0.0030, 0.0056],\n",
            "        [0.0312, 0.0525, 0.9163]], device='cuda:0', grad_fn=<SoftmaxBackward0>)\n",
            "training outputs\n",
            "tensor([[0.0173, 0.6948, 0.2878],\n",
            "        [0.0040, 0.9853, 0.0107],\n",
            "        [0.0063, 0.9786, 0.0151],\n",
            "        [0.0358, 0.0273, 0.9369],\n",
            "        [0.0029, 0.9890, 0.0081],\n",
            "        [0.1310, 0.1606, 0.7084],\n",
            "        [0.9914, 0.0030, 0.0056],\n",
            "        [0.0312, 0.0525, 0.9163]], device='cuda:0', grad_fn=<SoftmaxBackward0>)\n",
            "prediction: tensor([1, 1, 1, 2, 1, 2, 0, 2], device='cuda:0')\n",
            "train labels: tensor([1, 1, 1, 2, 1, 1, 0, 2], device='cuda:0')\n"
          ]
        },
        {
          "output_type": "stream",
          "name": "stderr",
          "text": [
            "\r 90%|█████████ | 57/63 [00:41<00:04,  1.36it/s]"
          ]
        },
        {
          "output_type": "stream",
          "name": "stdout",
          "text": [
            "training logits: tensor([[0.3396, 0.6413, 0.0191],\n",
            "        [0.9816, 0.0043, 0.0141],\n",
            "        [0.0090, 0.0444, 0.9466],\n",
            "        [0.0106, 0.9842, 0.0052],\n",
            "        [0.0155, 0.0282, 0.9564],\n",
            "        [0.0039, 0.9902, 0.0059],\n",
            "        [0.0103, 0.9777, 0.0120],\n",
            "        [0.9896, 0.0036, 0.0069]], device='cuda:0', grad_fn=<SoftmaxBackward0>)\n",
            "training outputs\n",
            "tensor([[0.3396, 0.6413, 0.0191],\n",
            "        [0.9816, 0.0043, 0.0141],\n",
            "        [0.0090, 0.0444, 0.9466],\n",
            "        [0.0106, 0.9842, 0.0052],\n",
            "        [0.0155, 0.0282, 0.9564],\n",
            "        [0.0039, 0.9902, 0.0059],\n",
            "        [0.0103, 0.9777, 0.0120],\n",
            "        [0.9896, 0.0036, 0.0069]], device='cuda:0', grad_fn=<SoftmaxBackward0>)\n",
            "prediction: tensor([1, 0, 2, 1, 2, 1, 1, 0], device='cuda:0')\n",
            "train labels: tensor([0, 0, 2, 1, 0, 1, 1, 0], device='cuda:0')\n"
          ]
        },
        {
          "output_type": "stream",
          "name": "stderr",
          "text": [
            "\r 92%|█████████▏| 58/63 [00:42<00:03,  1.37it/s]"
          ]
        },
        {
          "output_type": "stream",
          "name": "stdout",
          "text": [
            "training logits: tensor([[0.0170, 0.0095, 0.9735],\n",
            "        [0.0291, 0.0367, 0.9342],\n",
            "        [0.0024, 0.9890, 0.0085],\n",
            "        [0.9873, 0.0093, 0.0034],\n",
            "        [0.0039, 0.9873, 0.0088],\n",
            "        [0.0212, 0.0393, 0.9395],\n",
            "        [0.0081, 0.0137, 0.9783],\n",
            "        [0.4348, 0.0290, 0.5362]], device='cuda:0', grad_fn=<SoftmaxBackward0>)\n",
            "training outputs\n",
            "tensor([[0.0170, 0.0095, 0.9735],\n",
            "        [0.0291, 0.0367, 0.9342],\n",
            "        [0.0024, 0.9890, 0.0085],\n",
            "        [0.9873, 0.0093, 0.0034],\n",
            "        [0.0039, 0.9873, 0.0088],\n",
            "        [0.0212, 0.0393, 0.9395],\n",
            "        [0.0081, 0.0137, 0.9783],\n",
            "        [0.4348, 0.0290, 0.5362]], device='cuda:0', grad_fn=<SoftmaxBackward0>)\n",
            "prediction: tensor([2, 2, 1, 0, 1, 2, 2, 2], device='cuda:0')\n",
            "train labels: tensor([2, 2, 1, 0, 1, 2, 2, 2], device='cuda:0')\n"
          ]
        },
        {
          "output_type": "stream",
          "name": "stderr",
          "text": [
            "\r 94%|█████████▎| 59/63 [00:43<00:02,  1.37it/s]"
          ]
        },
        {
          "output_type": "stream",
          "name": "stdout",
          "text": [
            "training logits: tensor([[0.0408, 0.0605, 0.8987],\n",
            "        [0.0119, 0.9701, 0.0180],\n",
            "        [0.0159, 0.9616, 0.0225],\n",
            "        [0.0126, 0.0115, 0.9759],\n",
            "        [0.0925, 0.8906, 0.0169],\n",
            "        [0.0150, 0.9740, 0.0110],\n",
            "        [0.0394, 0.1502, 0.8104],\n",
            "        [0.9928, 0.0016, 0.0055]], device='cuda:0', grad_fn=<SoftmaxBackward0>)\n",
            "training outputs\n",
            "tensor([[0.0408, 0.0605, 0.8987],\n",
            "        [0.0119, 0.9701, 0.0180],\n",
            "        [0.0159, 0.9616, 0.0225],\n",
            "        [0.0126, 0.0115, 0.9759],\n",
            "        [0.0925, 0.8906, 0.0169],\n",
            "        [0.0150, 0.9740, 0.0110],\n",
            "        [0.0394, 0.1502, 0.8104],\n",
            "        [0.9928, 0.0016, 0.0055]], device='cuda:0', grad_fn=<SoftmaxBackward0>)\n",
            "prediction: tensor([2, 1, 1, 2, 1, 1, 2, 0], device='cuda:0')\n",
            "train labels: tensor([2, 1, 1, 2, 1, 1, 2, 0], device='cuda:0')\n"
          ]
        },
        {
          "output_type": "stream",
          "name": "stderr",
          "text": [
            "\r 95%|█████████▌| 60/63 [00:43<00:02,  1.37it/s]"
          ]
        },
        {
          "output_type": "stream",
          "name": "stdout",
          "text": [
            "training logits: tensor([[0.0046, 0.9861, 0.0092],\n",
            "        [0.3556, 0.0360, 0.6084],\n",
            "        [0.9864, 0.0031, 0.0105],\n",
            "        [0.9905, 0.0031, 0.0064],\n",
            "        [0.0070, 0.9873, 0.0057],\n",
            "        [0.9925, 0.0030, 0.0045],\n",
            "        [0.2042, 0.0452, 0.7506],\n",
            "        [0.9859, 0.0068, 0.0073]], device='cuda:0', grad_fn=<SoftmaxBackward0>)\n",
            "training outputs\n",
            "tensor([[0.0046, 0.9861, 0.0092],\n",
            "        [0.3556, 0.0360, 0.6084],\n",
            "        [0.9864, 0.0031, 0.0105],\n",
            "        [0.9905, 0.0031, 0.0064],\n",
            "        [0.0070, 0.9873, 0.0057],\n",
            "        [0.9925, 0.0030, 0.0045],\n",
            "        [0.2042, 0.0452, 0.7506],\n",
            "        [0.9859, 0.0068, 0.0073]], device='cuda:0', grad_fn=<SoftmaxBackward0>)\n",
            "prediction: tensor([1, 2, 0, 0, 1, 0, 2, 0], device='cuda:0')\n",
            "train labels: tensor([1, 0, 0, 0, 1, 0, 2, 0], device='cuda:0')\n"
          ]
        },
        {
          "output_type": "stream",
          "name": "stderr",
          "text": [
            "\r 97%|█████████▋| 61/63 [00:44<00:01,  1.37it/s]"
          ]
        },
        {
          "output_type": "stream",
          "name": "stdout",
          "text": [
            "training logits: tensor([[0.0266, 0.0109, 0.9625],\n",
            "        [0.9938, 0.0017, 0.0044],\n",
            "        [0.9901, 0.0027, 0.0072],\n",
            "        [0.9934, 0.0027, 0.0039],\n",
            "        [0.0223, 0.9465, 0.0312],\n",
            "        [0.7913, 0.1723, 0.0363],\n",
            "        [0.0206, 0.9691, 0.0103],\n",
            "        [0.4650, 0.2097, 0.3253]], device='cuda:0', grad_fn=<SoftmaxBackward0>)\n",
            "training outputs\n",
            "tensor([[0.0266, 0.0109, 0.9625],\n",
            "        [0.9938, 0.0017, 0.0044],\n",
            "        [0.9901, 0.0027, 0.0072],\n",
            "        [0.9934, 0.0027, 0.0039],\n",
            "        [0.0223, 0.9465, 0.0312],\n",
            "        [0.7913, 0.1723, 0.0363],\n",
            "        [0.0206, 0.9691, 0.0103],\n",
            "        [0.4650, 0.2097, 0.3253]], device='cuda:0', grad_fn=<SoftmaxBackward0>)\n",
            "prediction: tensor([2, 0, 0, 0, 1, 0, 1, 0], device='cuda:0')\n",
            "train labels: tensor([2, 0, 0, 0, 1, 2, 1, 1], device='cuda:0')\n"
          ]
        },
        {
          "output_type": "stream",
          "name": "stderr",
          "text": [
            "\r 98%|█████████▊| 62/63 [00:45<00:00,  1.37it/s]"
          ]
        },
        {
          "output_type": "stream",
          "name": "stdout",
          "text": [
            "training logits: tensor([[0.9726, 0.0120, 0.0154],\n",
            "        [0.0608, 0.0460, 0.8932],\n",
            "        [0.9842, 0.0074, 0.0084],\n",
            "        [0.0597, 0.0277, 0.9125]], device='cuda:0', grad_fn=<SoftmaxBackward0>)\n",
            "training outputs\n",
            "tensor([[0.9726, 0.0120, 0.0154],\n",
            "        [0.0608, 0.0460, 0.8932],\n",
            "        [0.9842, 0.0074, 0.0084],\n",
            "        [0.0597, 0.0277, 0.9125]], device='cuda:0', grad_fn=<SoftmaxBackward0>)\n",
            "prediction: tensor([0, 2, 0, 2], device='cuda:0')\n",
            "train labels: tensor([0, 2, 2, 2], device='cuda:0')\n"
          ]
        },
        {
          "output_type": "stream",
          "name": "stderr",
          "text": [
            "100%|██████████| 63/63 [00:45<00:00,  1.38it/s]\n"
          ]
        },
        {
          "output_type": "stream",
          "name": "stdout",
          "text": [
            "tensor([2, 1, 0, 2, 0, 1, 1, 0], device='cuda:0')\n",
            "validating logits: tensor([[0.0403, 0.0348, 0.9248],\n",
            "        [0.0141, 0.9641, 0.0218],\n",
            "        [0.9938, 0.0032, 0.0030],\n",
            "        [0.0407, 0.0387, 0.9206],\n",
            "        [0.9920, 0.0021, 0.0058],\n",
            "        [0.0112, 0.9813, 0.0076],\n",
            "        [0.0222, 0.9169, 0.0609],\n",
            "        [0.9926, 0.0029, 0.0045]], device='cuda:0')\n",
            "prediction: tensor([2, 1, 0, 2, 0, 1, 1, 0], device='cuda:0')\n",
            "tensor([[0.0403, 0.0348, 0.9248],\n",
            "        [0.0141, 0.9641, 0.0218],\n",
            "        [0.9938, 0.0032, 0.0030],\n",
            "        [0.0407, 0.0387, 0.9206],\n",
            "        [0.9920, 0.0021, 0.0058],\n",
            "        [0.0112, 0.9813, 0.0076],\n",
            "        [0.0222, 0.9169, 0.0609],\n",
            "        [0.9926, 0.0029, 0.0045]], device='cuda:0')\n",
            "tensor([2, 2, 1, 2, 2, 1, 0, 2], device='cuda:0')\n",
            "validating logits: tensor([[0.0096, 0.0404, 0.9500],\n",
            "        [0.0894, 0.0590, 0.8516],\n",
            "        [0.0198, 0.9700, 0.0102],\n",
            "        [0.0682, 0.0364, 0.8954],\n",
            "        [0.0299, 0.0334, 0.9367],\n",
            "        [0.0079, 0.9844, 0.0077],\n",
            "        [0.9903, 0.0028, 0.0069],\n",
            "        [0.0314, 0.0399, 0.9287]], device='cuda:0')\n",
            "prediction: tensor([2, 2, 1, 2, 2, 1, 0, 2], device='cuda:0')\n",
            "tensor([[0.0096, 0.0404, 0.9500],\n",
            "        [0.0894, 0.0590, 0.8516],\n",
            "        [0.0198, 0.9700, 0.0102],\n",
            "        [0.0682, 0.0364, 0.8954],\n",
            "        [0.0299, 0.0334, 0.9367],\n",
            "        [0.0079, 0.9844, 0.0077],\n",
            "        [0.9903, 0.0028, 0.0069],\n",
            "        [0.0314, 0.0399, 0.9287]], device='cuda:0')\n",
            "tensor([1, 0, 0, 1, 2, 2, 1, 0], device='cuda:0')\n",
            "validating logits: tensor([[0.0041, 0.9909, 0.0050],\n",
            "        [0.9776, 0.0073, 0.0152],\n",
            "        [0.9935, 0.0018, 0.0047],\n",
            "        [0.0023, 0.9942, 0.0034],\n",
            "        [0.0201, 0.0302, 0.9498],\n",
            "        [0.0361, 0.0307, 0.9332],\n",
            "        [0.0012, 0.9879, 0.0108],\n",
            "        [0.9908, 0.0025, 0.0067]], device='cuda:0')\n",
            "prediction: tensor([1, 0, 0, 1, 2, 2, 1, 0], device='cuda:0')\n",
            "tensor([[0.0041, 0.9909, 0.0050],\n",
            "        [0.9776, 0.0073, 0.0152],\n",
            "        [0.9935, 0.0018, 0.0047],\n",
            "        [0.0023, 0.9942, 0.0034],\n",
            "        [0.0201, 0.0302, 0.9498],\n",
            "        [0.0361, 0.0307, 0.9332],\n",
            "        [0.0012, 0.9879, 0.0108],\n",
            "        [0.9908, 0.0025, 0.0067]], device='cuda:0')\n",
            "tensor([1, 0, 2, 2, 1, 0, 2, 0], device='cuda:0')\n",
            "validating logits: tensor([[0.0062, 0.9894, 0.0044],\n",
            "        [0.9891, 0.0044, 0.0065],\n",
            "        [0.0296, 0.0729, 0.8976],\n",
            "        [0.0236, 0.0407, 0.9357],\n",
            "        [0.0143, 0.9554, 0.0303],\n",
            "        [0.9925, 0.0031, 0.0044],\n",
            "        [0.0439, 0.0487, 0.9074],\n",
            "        [0.9851, 0.0015, 0.0134]], device='cuda:0')\n",
            "prediction: tensor([1, 0, 2, 2, 1, 0, 2, 0], device='cuda:0')\n",
            "tensor([[0.0062, 0.9894, 0.0044],\n",
            "        [0.9891, 0.0044, 0.0065],\n",
            "        [0.0296, 0.0729, 0.8976],\n",
            "        [0.0236, 0.0407, 0.9357],\n",
            "        [0.0143, 0.9554, 0.0303],\n",
            "        [0.9925, 0.0031, 0.0044],\n",
            "        [0.0439, 0.0487, 0.9074],\n",
            "        [0.9851, 0.0015, 0.0134]], device='cuda:0')\n",
            "tensor([1, 1, 2, 0, 1, 0, 2, 2], device='cuda:0')\n",
            "validating logits: tensor([[0.0024, 0.9920, 0.0056],\n",
            "        [0.0099, 0.9685, 0.0217],\n",
            "        [0.0284, 0.0331, 0.9385],\n",
            "        [0.2530, 0.0198, 0.7272],\n",
            "        [0.0036, 0.9905, 0.0059],\n",
            "        [0.9917, 0.0019, 0.0064],\n",
            "        [0.0612, 0.0770, 0.8618],\n",
            "        [0.0647, 0.0250, 0.9104]], device='cuda:0')\n",
            "prediction: tensor([1, 1, 2, 2, 1, 0, 2, 2], device='cuda:0')\n",
            "tensor([[0.0024, 0.9920, 0.0056],\n",
            "        [0.0099, 0.9685, 0.0217],\n",
            "        [0.0284, 0.0331, 0.9385],\n",
            "        [0.2530, 0.0198, 0.7272],\n",
            "        [0.0036, 0.9905, 0.0059],\n",
            "        [0.9917, 0.0019, 0.0064],\n",
            "        [0.0612, 0.0770, 0.8618],\n",
            "        [0.0647, 0.0250, 0.9104]], device='cuda:0')\n",
            "tensor([0, 1, 2, 0, 0, 0, 2, 1], device='cuda:0')\n",
            "validating logits: tensor([[0.9938, 0.0018, 0.0044],\n",
            "        [0.0034, 0.9891, 0.0075],\n",
            "        [0.0618, 0.0735, 0.8646],\n",
            "        [0.9895, 0.0060, 0.0045],\n",
            "        [0.9826, 0.0035, 0.0140],\n",
            "        [0.9851, 0.0020, 0.0129],\n",
            "        [0.0239, 0.0358, 0.9403],\n",
            "        [0.0036, 0.9803, 0.0161]], device='cuda:0')\n",
            "prediction: tensor([0, 1, 2, 0, 0, 0, 2, 1], device='cuda:0')\n",
            "tensor([[0.9938, 0.0018, 0.0044],\n",
            "        [0.0034, 0.9891, 0.0075],\n",
            "        [0.0618, 0.0735, 0.8646],\n",
            "        [0.9895, 0.0060, 0.0045],\n",
            "        [0.9826, 0.0035, 0.0140],\n",
            "        [0.9851, 0.0020, 0.0129],\n",
            "        [0.0239, 0.0358, 0.9403],\n",
            "        [0.0036, 0.9803, 0.0161]], device='cuda:0')\n",
            "tensor([1, 0, 2, 1, 0, 2, 1, 2], device='cuda:0')\n",
            "validating logits: tensor([[0.0142, 0.9648, 0.0210],\n",
            "        [0.9926, 0.0030, 0.0044],\n",
            "        [0.0275, 0.0177, 0.9548],\n",
            "        [0.0410, 0.9508, 0.0082],\n",
            "        [0.9882, 0.0033, 0.0085],\n",
            "        [0.0130, 0.0641, 0.9228],\n",
            "        [0.1092, 0.8755, 0.0153],\n",
            "        [0.0164, 0.0437, 0.9399]], device='cuda:0')\n",
            "prediction: tensor([1, 0, 2, 1, 0, 2, 1, 2], device='cuda:0')\n",
            "tensor([[0.0142, 0.9648, 0.0210],\n",
            "        [0.9926, 0.0030, 0.0044],\n",
            "        [0.0275, 0.0177, 0.9548],\n",
            "        [0.0410, 0.9508, 0.0082],\n",
            "        [0.9882, 0.0033, 0.0085],\n",
            "        [0.0130, 0.0641, 0.9228],\n",
            "        [0.1092, 0.8755, 0.0153],\n",
            "        [0.0164, 0.0437, 0.9399]], device='cuda:0')\n",
            "tensor([0, 2, 1, 0, 0, 1, 2, 0], device='cuda:0')\n",
            "validating logits: tensor([[0.9947, 0.0016, 0.0037],\n",
            "        [0.2619, 0.0225, 0.7156],\n",
            "        [0.8229, 0.0118, 0.1654],\n",
            "        [0.7154, 0.1589, 0.1256],\n",
            "        [0.1951, 0.0128, 0.7921],\n",
            "        [0.0695, 0.0194, 0.9111],\n",
            "        [0.7131, 0.0048, 0.2821],\n",
            "        [0.1466, 0.0084, 0.8450]], device='cuda:0')\n",
            "prediction: tensor([0, 2, 0, 0, 2, 2, 0, 2], device='cuda:0')\n",
            "tensor([[0.9947, 0.0016, 0.0037],\n",
            "        [0.2619, 0.0225, 0.7156],\n",
            "        [0.8229, 0.0118, 0.1654],\n",
            "        [0.7154, 0.1589, 0.1256],\n",
            "        [0.1951, 0.0128, 0.7921],\n",
            "        [0.0695, 0.0194, 0.9111],\n",
            "        [0.7131, 0.0048, 0.2821],\n",
            "        [0.1466, 0.0084, 0.8450]], device='cuda:0')\n",
            "tensor([2, 1, 1, 0, 2, 1, 0, 2], device='cuda:0')\n",
            "validating logits: tensor([[0.0497, 0.0207, 0.9296],\n",
            "        [0.1788, 0.7901, 0.0310],\n",
            "        [0.0215, 0.7330, 0.2455],\n",
            "        [0.8569, 0.0059, 0.1372],\n",
            "        [0.1974, 0.0351, 0.7675],\n",
            "        [0.0555, 0.5237, 0.4208],\n",
            "        [0.6358, 0.0266, 0.3375],\n",
            "        [0.7060, 0.1941, 0.1000]], device='cuda:0')\n",
            "prediction: tensor([2, 1, 1, 0, 2, 1, 0, 0], device='cuda:0')\n",
            "tensor([[0.0497, 0.0207, 0.9296],\n",
            "        [0.1788, 0.7901, 0.0310],\n",
            "        [0.0215, 0.7330, 0.2455],\n",
            "        [0.8569, 0.0059, 0.1372],\n",
            "        [0.1974, 0.0351, 0.7675],\n",
            "        [0.0555, 0.5237, 0.4208],\n",
            "        [0.6358, 0.0266, 0.3375],\n",
            "        [0.7060, 0.1941, 0.1000]], device='cuda:0')\n",
            "tensor([2, 1, 0, 2, 1, 0, 1, 0], device='cuda:0')\n",
            "validating logits: tensor([[0.1983, 0.7614, 0.0403],\n",
            "        [0.0023, 0.9877, 0.0100],\n",
            "        [0.9843, 0.0066, 0.0092],\n",
            "        [0.0276, 0.0363, 0.9362],\n",
            "        [0.1022, 0.8533, 0.0445],\n",
            "        [0.9945, 0.0022, 0.0033],\n",
            "        [0.0045, 0.9767, 0.0187],\n",
            "        [0.7912, 0.0093, 0.1995]], device='cuda:0')\n",
            "prediction: tensor([1, 1, 0, 2, 1, 0, 1, 0], device='cuda:0')\n",
            "tensor([[0.1983, 0.7614, 0.0403],\n",
            "        [0.0023, 0.9877, 0.0100],\n",
            "        [0.9843, 0.0066, 0.0092],\n",
            "        [0.0276, 0.0363, 0.9362],\n",
            "        [0.1022, 0.8533, 0.0445],\n",
            "        [0.9945, 0.0022, 0.0033],\n",
            "        [0.0045, 0.9767, 0.0187],\n",
            "        [0.7912, 0.0093, 0.1995]], device='cuda:0')\n",
            "tensor([2, 2, 1, 0, 0, 1, 2, 1], device='cuda:0')\n",
            "validating logits: tensor([[0.0197, 0.0223, 0.9580],\n",
            "        [0.9884, 0.0056, 0.0059],\n",
            "        [0.0851, 0.8707, 0.0442],\n",
            "        [0.9935, 0.0022, 0.0044],\n",
            "        [0.9936, 0.0032, 0.0032],\n",
            "        [0.0519, 0.9298, 0.0183],\n",
            "        [0.0494, 0.0858, 0.8648],\n",
            "        [0.0209, 0.9717, 0.0074]], device='cuda:0')\n",
            "prediction: tensor([2, 0, 1, 0, 0, 1, 2, 1], device='cuda:0')\n",
            "tensor([[0.0197, 0.0223, 0.9580],\n",
            "        [0.9884, 0.0056, 0.0059],\n",
            "        [0.0851, 0.8707, 0.0442],\n",
            "        [0.9935, 0.0022, 0.0044],\n",
            "        [0.9936, 0.0032, 0.0032],\n",
            "        [0.0519, 0.9298, 0.0183],\n",
            "        [0.0494, 0.0858, 0.8648],\n",
            "        [0.0209, 0.9717, 0.0074]], device='cuda:0')\n",
            "tensor([0, 2, 1, 0, 1, 2, 1, 2], device='cuda:0')\n",
            "validating logits: tensor([[0.9935, 0.0031, 0.0033],\n",
            "        [0.0184, 0.0155, 0.9661],\n",
            "        [0.0137, 0.9716, 0.0146],\n",
            "        [0.9885, 0.0029, 0.0085],\n",
            "        [0.0083, 0.9858, 0.0059],\n",
            "        [0.0523, 0.0390, 0.9087],\n",
            "        [0.0059, 0.9771, 0.0170],\n",
            "        [0.0151, 0.0095, 0.9754]], device='cuda:0')\n",
            "prediction: tensor([0, 2, 1, 0, 1, 2, 1, 2], device='cuda:0')\n",
            "tensor([[0.9935, 0.0031, 0.0033],\n",
            "        [0.0184, 0.0155, 0.9661],\n",
            "        [0.0137, 0.9716, 0.0146],\n",
            "        [0.9885, 0.0029, 0.0085],\n",
            "        [0.0083, 0.9858, 0.0059],\n",
            "        [0.0523, 0.0390, 0.9087],\n",
            "        [0.0059, 0.9771, 0.0170],\n",
            "        [0.0151, 0.0095, 0.9754]], device='cuda:0')\n",
            "tensor([0, 2, 2, 0], device='cuda:0')\n",
            "validating logits: tensor([[0.9952, 0.0023, 0.0026],\n",
            "        [0.0136, 0.0017, 0.9847],\n",
            "        [0.0467, 0.0351, 0.9182],\n",
            "        [0.9909, 0.0041, 0.0050]], device='cuda:0')\n",
            "prediction: tensor([0, 2, 2, 0], device='cuda:0')\n",
            "tensor([[0.9952, 0.0023, 0.0026],\n",
            "        [0.0136, 0.0017, 0.9847],\n",
            "        [0.0467, 0.0351, 0.9182],\n",
            "        [0.9909, 0.0041, 0.0050]], device='cuda:0')\n",
            "Epochs: 8 | Train Loss:  0.088             | Train Accuracy:  0.882             | Val Loss:  0.086             | Val Accuracy:  0.910\n",
            "Found a better model\n"
          ]
        }
      ]
    }
  ]
}